{
 "cells": [
  {
   "cell_type": "markdown",
   "metadata": {},
   "source": [
    "## Concept/Domain coverage analysis: Matching with App Domains\n",
    "\n",
    "This notebook extracts corpus keywords and analyse the concepts emerging from three sources: source code, documentation and tests"
   ]
  },
  {
   "cell_type": "markdown",
   "metadata": {},
   "source": [
    "## Show topics"
   ]
  },
  {
   "cell_type": "code",
   "execution_count": 3,
   "metadata": {
    "scrolled": true
   },
   "outputs": [
    {
     "data": {
      "text/html": [
       "<div>\n",
       "<style scoped>\n",
       "    .dataframe tbody tr th:only-of-type {\n",
       "        vertical-align: middle;\n",
       "    }\n",
       "\n",
       "    .dataframe tbody tr th {\n",
       "        vertical-align: top;\n",
       "    }\n",
       "\n",
       "    .dataframe thead th {\n",
       "        text-align: right;\n",
       "    }\n",
       "</style>\n",
       "<table border=\"1\" class=\"dataframe\">\n",
       "  <thead>\n",
       "    <tr style=\"text-align: right;\">\n",
       "      <th></th>\n",
       "      <th>project_name</th>\n",
       "      <th>module</th>\n",
       "      <th>code_num_topics</th>\n",
       "      <th>test_num_topics</th>\n",
       "      <th>code_shown_topics</th>\n",
       "      <th>code_topics</th>\n",
       "      <th>test_shown_topics</th>\n",
       "      <th>test_topics</th>\n",
       "      <th>doc_num_topics</th>\n",
       "      <th>doc_shown_topics</th>\n",
       "      <th>doc_topics</th>\n",
       "    </tr>\n",
       "  </thead>\n",
       "  <tbody>\n",
       "    <tr>\n",
       "      <th>0</th>\n",
       "      <td>01_dubbo</td>\n",
       "      <td>dubbo-cluster</td>\n",
       "      <td>9</td>\n",
       "      <td>6</td>\n",
       "      <td>[(0, [('merger', 0.11644696), ('model', 0.0760...</td>\n",
       "      <td>[['merger', 'model', 'scope', 'aware', 'end', ...</td>\n",
       "      <td>[(0, [('invoker', 0.10217771), ('hello', 0.059...</td>\n",
       "      <td>[['merger', 'model', 'scope', 'aware', 'end', ...</td>\n",
       "      <td>8</td>\n",
       "      <td>[(0, [('service', 0.005111123), ('see', 0.0051...</td>\n",
       "      <td>[['service', 'see', 'issue', 'sample', 'projec...</td>\n",
       "    </tr>\n",
       "    <tr>\n",
       "      <th>1</th>\n",
       "      <td>01_dubbo</td>\n",
       "      <td>dubbo-common</td>\n",
       "      <td>9</td>\n",
       "      <td>9</td>\n",
       "      <td>[(0, [('map', 0.071077), ('extension', 0.05852...</td>\n",
       "      <td>[['map', 'extension', 'loader', 'property', 'm...</td>\n",
       "      <td>[(0, [('address', 0.07335682), ('country', 0.0...</td>\n",
       "      <td>[['map', 'extension', 'loader', 'property', 'm...</td>\n",
       "      <td>8</td>\n",
       "      <td>[(0, [('service', 0.005111123), ('see', 0.0051...</td>\n",
       "      <td>[['service', 'see', 'issue', 'sample', 'projec...</td>\n",
       "    </tr>\n",
       "    <tr>\n",
       "      <th>2</th>\n",
       "      <td>01_dubbo</td>\n",
       "      <td>dubbo-compatible</td>\n",
       "      <td>8</td>\n",
       "      <td>9</td>\n",
       "      <td>[(0, [('invocation', 0.17978409), ('invoker', ...</td>\n",
       "      <td>[['invocation', 'invoker', 'attachment', 'argu...</td>\n",
       "      <td>[(0, [('consumer', 0.08403326), ('service', 0....</td>\n",
       "      <td>[['invocation', 'invoker', 'attachment', 'argu...</td>\n",
       "      <td>8</td>\n",
       "      <td>[(0, [('service', 0.005111123), ('see', 0.0051...</td>\n",
       "      <td>[['service', 'see', 'issue', 'sample', 'projec...</td>\n",
       "    </tr>\n",
       "    <tr>\n",
       "      <th>3</th>\n",
       "      <td>01_dubbo</td>\n",
       "      <td>dubbo-config</td>\n",
       "      <td>7</td>\n",
       "      <td>8</td>\n",
       "      <td>[(0, [('application', 0.19198503), ('model', 0...</td>\n",
       "      <td>[['application', 'model', 'module', 'context',...</td>\n",
       "      <td>[(0, [('box', 0.0995611), ('service', 0.097135...</td>\n",
       "      <td>[['application', 'model', 'module', 'context',...</td>\n",
       "      <td>8</td>\n",
       "      <td>[(0, [('service', 0.005111123), ('see', 0.0051...</td>\n",
       "      <td>[['service', 'see', 'issue', 'sample', 'projec...</td>\n",
       "    </tr>\n",
       "    <tr>\n",
       "      <th>4</th>\n",
       "      <td>01_dubbo</td>\n",
       "      <td>dubbo-configcenter</td>\n",
       "      <td>6</td>\n",
       "      <td>7</td>\n",
       "      <td>[(0, [('dynamic', 0.2249236), ('factory', 0.12...</td>\n",
       "      <td>[['dynamic', 'factory', 'url', 'zookeeper', 'a...</td>\n",
       "      <td>[(0, [('namespace', 0.01471425), ('map', 0.014...</td>\n",
       "      <td>[['dynamic', 'factory', 'url', 'zookeeper', 'a...</td>\n",
       "      <td>8</td>\n",
       "      <td>[(0, [('service', 0.005111123), ('see', 0.0051...</td>\n",
       "      <td>[['service', 'see', 'issue', 'sample', 'projec...</td>\n",
       "    </tr>\n",
       "    <tr>\n",
       "      <th>...</th>\n",
       "      <td>...</td>\n",
       "      <td>...</td>\n",
       "      <td>...</td>\n",
       "      <td>...</td>\n",
       "      <td>...</td>\n",
       "      <td>...</td>\n",
       "      <td>...</td>\n",
       "      <td>...</td>\n",
       "      <td>...</td>\n",
       "      <td>...</td>\n",
       "      <td>...</td>\n",
       "    </tr>\n",
       "    <tr>\n",
       "      <th>309</th>\n",
       "      <td>45_archiva-components</td>\n",
       "      <td>spring-apacheds</td>\n",
       "      <td>9</td>\n",
       "      <td>1</td>\n",
       "      <td>[(0, [('partition', 0.038462438), ('context', ...</td>\n",
       "      <td>[['partition', 'context', 'password', 'port', ...</td>\n",
       "      <td>[(0, [('context', 0.21739134), ('create', 0.13...</td>\n",
       "      <td>[['partition', 'context', 'password', 'port', ...</td>\n",
       "      <td>8</td>\n",
       "      <td>[(0, [('publish', 0.008338352), ('mvn', 0.0083...</td>\n",
       "      <td>[['publish', 'mvn', 'repository', 'checkout', ...</td>\n",
       "    </tr>\n",
       "    <tr>\n",
       "      <th>310</th>\n",
       "      <td>45_archiva-components</td>\n",
       "      <td>spring-cache</td>\n",
       "      <td>6</td>\n",
       "      <td>3</td>\n",
       "      <td>[(0, [('cache', 0.3110731), ('creator', 0.1051...</td>\n",
       "      <td>[['cache', 'creator', 'hint', 'factory', 'key'...</td>\n",
       "      <td>[(0, [('cache', 0.3525324), ('refre', 0.102800...</td>\n",
       "      <td>[['cache', 'creator', 'hint', 'factory', 'key'...</td>\n",
       "      <td>8</td>\n",
       "      <td>[(0, [('publish', 0.008338352), ('mvn', 0.0083...</td>\n",
       "      <td>[['publish', 'mvn', 'repository', 'checkout', ...</td>\n",
       "    </tr>\n",
       "    <tr>\n",
       "      <th>311</th>\n",
       "      <td>45_archiva-components</td>\n",
       "      <td>spring-quartz</td>\n",
       "      <td>8</td>\n",
       "      <td>4</td>\n",
       "      <td>[(0, [('job', 0.29270846), ('context', 0.07773...</td>\n",
       "      <td>[['job', 'context', 'execution', 'map', 'liste...</td>\n",
       "      <td>[(0, [('job', 0.24515942), ('context', 0.16984...</td>\n",
       "      <td>[['job', 'context', 'execution', 'map', 'liste...</td>\n",
       "      <td>8</td>\n",
       "      <td>[(0, [('publish', 0.008338352), ('mvn', 0.0083...</td>\n",
       "      <td>[['publish', 'mvn', 'repository', 'checkout', ...</td>\n",
       "    </tr>\n",
       "    <tr>\n",
       "      <th>312</th>\n",
       "      <td>45_archiva-components</td>\n",
       "      <td>spring-registry</td>\n",
       "      <td>9</td>\n",
       "      <td>6</td>\n",
       "      <td>[(0, [('key', 0.1410248), ('registry', 0.08333...</td>\n",
       "      <td>[['key', 'registry', 'builder', 'add', 'save',...</td>\n",
       "      <td>[(0, [('registry', 0.024453199), ('property', ...</td>\n",
       "      <td>[['key', 'registry', 'builder', 'add', 'save',...</td>\n",
       "      <td>8</td>\n",
       "      <td>[(0, [('publish', 0.008338352), ('mvn', 0.0083...</td>\n",
       "      <td>[['publish', 'mvn', 'repository', 'checkout', ...</td>\n",
       "    </tr>\n",
       "    <tr>\n",
       "      <th>313</th>\n",
       "      <td>45_archiva-components</td>\n",
       "      <td>spring-taskqueue</td>\n",
       "      <td>3</td>\n",
       "      <td>5</td>\n",
       "      <td>[(0, [('task', 0.33837277), ('evaluator', 0.12...</td>\n",
       "      <td>[['task', 'evaluator', 'queue', 'executor', 'e...</td>\n",
       "      <td>[(0, [('task', 0.32901022), ('evaluator', 0.10...</td>\n",
       "      <td>[['task', 'evaluator', 'queue', 'executor', 'e...</td>\n",
       "      <td>8</td>\n",
       "      <td>[(0, [('publish', 0.008338352), ('mvn', 0.0083...</td>\n",
       "      <td>[['publish', 'mvn', 'repository', 'checkout', ...</td>\n",
       "    </tr>\n",
       "  </tbody>\n",
       "</table>\n",
       "<p>314 rows × 11 columns</p>\n",
       "</div>"
      ],
      "text/plain": [
       "              project_name              module  code_num_topics   \n",
       "0                 01_dubbo       dubbo-cluster                9  \\\n",
       "1                 01_dubbo        dubbo-common                9   \n",
       "2                 01_dubbo    dubbo-compatible                8   \n",
       "3                 01_dubbo        dubbo-config                7   \n",
       "4                 01_dubbo  dubbo-configcenter                6   \n",
       "..                     ...                 ...              ...   \n",
       "309  45_archiva-components     spring-apacheds                9   \n",
       "310  45_archiva-components        spring-cache                6   \n",
       "311  45_archiva-components       spring-quartz                8   \n",
       "312  45_archiva-components     spring-registry                9   \n",
       "313  45_archiva-components    spring-taskqueue                3   \n",
       "\n",
       "     test_num_topics                                  code_shown_topics   \n",
       "0                  6  [(0, [('merger', 0.11644696), ('model', 0.0760...  \\\n",
       "1                  9  [(0, [('map', 0.071077), ('extension', 0.05852...   \n",
       "2                  9  [(0, [('invocation', 0.17978409), ('invoker', ...   \n",
       "3                  8  [(0, [('application', 0.19198503), ('model', 0...   \n",
       "4                  7  [(0, [('dynamic', 0.2249236), ('factory', 0.12...   \n",
       "..               ...                                                ...   \n",
       "309                1  [(0, [('partition', 0.038462438), ('context', ...   \n",
       "310                3  [(0, [('cache', 0.3110731), ('creator', 0.1051...   \n",
       "311                4  [(0, [('job', 0.29270846), ('context', 0.07773...   \n",
       "312                6  [(0, [('key', 0.1410248), ('registry', 0.08333...   \n",
       "313                5  [(0, [('task', 0.33837277), ('evaluator', 0.12...   \n",
       "\n",
       "                                           code_topics   \n",
       "0    [['merger', 'model', 'scope', 'aware', 'end', ...  \\\n",
       "1    [['map', 'extension', 'loader', 'property', 'm...   \n",
       "2    [['invocation', 'invoker', 'attachment', 'argu...   \n",
       "3    [['application', 'model', 'module', 'context',...   \n",
       "4    [['dynamic', 'factory', 'url', 'zookeeper', 'a...   \n",
       "..                                                 ...   \n",
       "309  [['partition', 'context', 'password', 'port', ...   \n",
       "310  [['cache', 'creator', 'hint', 'factory', 'key'...   \n",
       "311  [['job', 'context', 'execution', 'map', 'liste...   \n",
       "312  [['key', 'registry', 'builder', 'add', 'save',...   \n",
       "313  [['task', 'evaluator', 'queue', 'executor', 'e...   \n",
       "\n",
       "                                     test_shown_topics   \n",
       "0    [(0, [('invoker', 0.10217771), ('hello', 0.059...  \\\n",
       "1    [(0, [('address', 0.07335682), ('country', 0.0...   \n",
       "2    [(0, [('consumer', 0.08403326), ('service', 0....   \n",
       "3    [(0, [('box', 0.0995611), ('service', 0.097135...   \n",
       "4    [(0, [('namespace', 0.01471425), ('map', 0.014...   \n",
       "..                                                 ...   \n",
       "309  [(0, [('context', 0.21739134), ('create', 0.13...   \n",
       "310  [(0, [('cache', 0.3525324), ('refre', 0.102800...   \n",
       "311  [(0, [('job', 0.24515942), ('context', 0.16984...   \n",
       "312  [(0, [('registry', 0.024453199), ('property', ...   \n",
       "313  [(0, [('task', 0.32901022), ('evaluator', 0.10...   \n",
       "\n",
       "                                           test_topics  doc_num_topics   \n",
       "0    [['merger', 'model', 'scope', 'aware', 'end', ...               8  \\\n",
       "1    [['map', 'extension', 'loader', 'property', 'm...               8   \n",
       "2    [['invocation', 'invoker', 'attachment', 'argu...               8   \n",
       "3    [['application', 'model', 'module', 'context',...               8   \n",
       "4    [['dynamic', 'factory', 'url', 'zookeeper', 'a...               8   \n",
       "..                                                 ...             ...   \n",
       "309  [['partition', 'context', 'password', 'port', ...               8   \n",
       "310  [['cache', 'creator', 'hint', 'factory', 'key'...               8   \n",
       "311  [['job', 'context', 'execution', 'map', 'liste...               8   \n",
       "312  [['key', 'registry', 'builder', 'add', 'save',...               8   \n",
       "313  [['task', 'evaluator', 'queue', 'executor', 'e...               8   \n",
       "\n",
       "                                      doc_shown_topics   \n",
       "0    [(0, [('service', 0.005111123), ('see', 0.0051...  \\\n",
       "1    [(0, [('service', 0.005111123), ('see', 0.0051...   \n",
       "2    [(0, [('service', 0.005111123), ('see', 0.0051...   \n",
       "3    [(0, [('service', 0.005111123), ('see', 0.0051...   \n",
       "4    [(0, [('service', 0.005111123), ('see', 0.0051...   \n",
       "..                                                 ...   \n",
       "309  [(0, [('publish', 0.008338352), ('mvn', 0.0083...   \n",
       "310  [(0, [('publish', 0.008338352), ('mvn', 0.0083...   \n",
       "311  [(0, [('publish', 0.008338352), ('mvn', 0.0083...   \n",
       "312  [(0, [('publish', 0.008338352), ('mvn', 0.0083...   \n",
       "313  [(0, [('publish', 0.008338352), ('mvn', 0.0083...   \n",
       "\n",
       "                                            doc_topics  \n",
       "0    [['service', 'see', 'issue', 'sample', 'projec...  \n",
       "1    [['service', 'see', 'issue', 'sample', 'projec...  \n",
       "2    [['service', 'see', 'issue', 'sample', 'projec...  \n",
       "3    [['service', 'see', 'issue', 'sample', 'projec...  \n",
       "4    [['service', 'see', 'issue', 'sample', 'projec...  \n",
       "..                                                 ...  \n",
       "309  [['publish', 'mvn', 'repository', 'checkout', ...  \n",
       "310  [['publish', 'mvn', 'repository', 'checkout', ...  \n",
       "311  [['publish', 'mvn', 'repository', 'checkout', ...  \n",
       "312  [['publish', 'mvn', 'repository', 'checkout', ...  \n",
       "313  [['publish', 'mvn', 'repository', 'checkout', ...  \n",
       "\n",
       "[314 rows x 11 columns]"
      ]
     },
     "execution_count": 3,
     "metadata": {},
     "output_type": "execute_result"
    }
   ],
   "source": [
    "import pandas as pd\n",
    "\n",
    "topics_df = pd.read_csv(\"topics_res_df.csv\")\n",
    "topics_df"
   ]
  },
  {
   "cell_type": "markdown",
   "metadata": {},
   "source": [
    "## Show annotated modules"
   ]
  },
  {
   "cell_type": "code",
   "execution_count": 4,
   "metadata": {},
   "outputs": [
    {
     "data": {
      "text/html": [
       "<div>\n",
       "<style scoped>\n",
       "    .dataframe tbody tr th:only-of-type {\n",
       "        vertical-align: middle;\n",
       "    }\n",
       "\n",
       "    .dataframe tbody tr th {\n",
       "        vertical-align: top;\n",
       "    }\n",
       "\n",
       "    .dataframe thead th {\n",
       "        text-align: right;\n",
       "    }\n",
       "</style>\n",
       "<table border=\"1\" class=\"dataframe\">\n",
       "  <thead>\n",
       "    <tr style=\"text-align: right;\">\n",
       "      <th></th>\n",
       "      <th>project</th>\n",
       "      <th>module</th>\n",
       "      <th>top</th>\n",
       "      <th>labels</th>\n",
       "    </tr>\n",
       "  </thead>\n",
       "  <tbody>\n",
       "    <tr>\n",
       "      <th>0</th>\n",
       "      <td>dubbo</td>\n",
       "      <td>dubbo-configcenter</td>\n",
       "      <td>big data</td>\n",
       "      <td>['big data', 'instant messaging', 'user interf...</td>\n",
       "    </tr>\n",
       "    <tr>\n",
       "      <th>1</th>\n",
       "      <td>dubbo</td>\n",
       "      <td>dubbo-remoting</td>\n",
       "      <td>server</td>\n",
       "      <td>['server', 'instant messaging', 'web service',...</td>\n",
       "    </tr>\n",
       "    <tr>\n",
       "      <th>2</th>\n",
       "      <td>dubbo</td>\n",
       "      <td>dubbo-spring-boot</td>\n",
       "      <td>microservices</td>\n",
       "      <td>['microservices', 'web service', 'instant mess...</td>\n",
       "    </tr>\n",
       "    <tr>\n",
       "      <th>3</th>\n",
       "      <td>dubbo</td>\n",
       "      <td>dubbo-serialization</td>\n",
       "      <td>serialization</td>\n",
       "      <td>['serialization', 'database', 'file system', '...</td>\n",
       "    </tr>\n",
       "    <tr>\n",
       "      <th>4</th>\n",
       "      <td>dubbo</td>\n",
       "      <td>dubbo-native</td>\n",
       "      <td>web server</td>\n",
       "      <td>['web server', 'instant messaging', 'web servi...</td>\n",
       "    </tr>\n",
       "  </tbody>\n",
       "</table>\n",
       "</div>"
      ],
      "text/plain": [
       "  project               module            top   \n",
       "0   dubbo   dubbo-configcenter       big data  \\\n",
       "1   dubbo       dubbo-remoting         server   \n",
       "2   dubbo    dubbo-spring-boot  microservices   \n",
       "3   dubbo  dubbo-serialization  serialization   \n",
       "4   dubbo         dubbo-native     web server   \n",
       "\n",
       "                                              labels  \n",
       "0  ['big data', 'instant messaging', 'user interf...  \n",
       "1  ['server', 'instant messaging', 'web service',...  \n",
       "2  ['microservices', 'web service', 'instant mess...  \n",
       "3  ['serialization', 'database', 'file system', '...  \n",
       "4  ['web server', 'instant messaging', 'web servi...  "
      ]
     },
     "execution_count": 4,
     "metadata": {},
     "output_type": "execute_result"
    }
   ],
   "source": [
    "anno_df = pd.read_csv(\"module_annotation.csv\")\n",
    "anno_df = anno_df[[\"project\", \"module\", \"top\", \"labels\"]]\n",
    "anno_df.head()"
   ]
  },
  {
   "cell_type": "code",
   "execution_count": 5,
   "metadata": {},
   "outputs": [
    {
     "name": "stdout",
     "output_type": "stream",
     "text": [
      "<class 'pandas.core.frame.DataFrame'>\n",
      "RangeIndex: 483 entries, 0 to 482\n",
      "Data columns (total 4 columns):\n",
      " #   Column   Non-Null Count  Dtype \n",
      "---  ------   --------------  ----- \n",
      " 0   project  483 non-null    object\n",
      " 1   module   483 non-null    object\n",
      " 2   top      483 non-null    object\n",
      " 3   labels   483 non-null    object\n",
      "dtypes: object(4)\n",
      "memory usage: 15.2+ KB\n"
     ]
    }
   ],
   "source": [
    "anno_df.info()"
   ]
  },
  {
   "cell_type": "code",
   "execution_count": 6,
   "metadata": {},
   "outputs": [
    {
     "name": "stdout",
     "output_type": "stream",
     "text": [
      "<class 'pandas.core.frame.DataFrame'>\n",
      "RangeIndex: 428 entries, 0 to 427\n",
      "Data columns (total 13 columns):\n",
      " #   Column             Non-Null Count  Dtype \n",
      "---  ------             --------------  ----- \n",
      " 0   project_name       428 non-null    object\n",
      " 1   module             428 non-null    object\n",
      " 2   code_num_topics    428 non-null    int64 \n",
      " 3   test_num_topics    428 non-null    int64 \n",
      " 4   code_shown_topics  428 non-null    object\n",
      " 5   code_topics        428 non-null    object\n",
      " 6   test_shown_topics  428 non-null    object\n",
      " 7   test_topics        428 non-null    object\n",
      " 8   doc_num_topics     428 non-null    int64 \n",
      " 9   doc_shown_topics   428 non-null    object\n",
      " 10  doc_topics         428 non-null    object\n",
      " 11  top                428 non-null    object\n",
      " 12  labels             428 non-null    object\n",
      "dtypes: int64(3), object(10)\n",
      "memory usage: 43.6+ KB\n"
     ]
    }
   ],
   "source": [
    "# pd.set_option('display.max_colwidth', None)\n",
    "module_df = topics_df.merge(anno_df).drop(columns=[\"project\"])\n",
    "module_df.info()"
   ]
  },
  {
   "cell_type": "code",
   "execution_count": 7,
   "metadata": {},
   "outputs": [
    {
     "data": {
      "text/html": [
       "<div>\n",
       "<style scoped>\n",
       "    .dataframe tbody tr th:only-of-type {\n",
       "        vertical-align: middle;\n",
       "    }\n",
       "\n",
       "    .dataframe tbody tr th {\n",
       "        vertical-align: top;\n",
       "    }\n",
       "\n",
       "    .dataframe thead th {\n",
       "        text-align: right;\n",
       "    }\n",
       "</style>\n",
       "<table border=\"1\" class=\"dataframe\">\n",
       "  <thead>\n",
       "    <tr style=\"text-align: right;\">\n",
       "      <th></th>\n",
       "      <th>project_name</th>\n",
       "      <th>module</th>\n",
       "      <th>code_num_topics</th>\n",
       "      <th>test_num_topics</th>\n",
       "      <th>code_shown_topics</th>\n",
       "      <th>code_topics</th>\n",
       "      <th>test_shown_topics</th>\n",
       "      <th>test_topics</th>\n",
       "      <th>doc_num_topics</th>\n",
       "      <th>doc_shown_topics</th>\n",
       "      <th>doc_topics</th>\n",
       "      <th>top</th>\n",
       "      <th>labels</th>\n",
       "    </tr>\n",
       "  </thead>\n",
       "  <tbody>\n",
       "    <tr>\n",
       "      <th>0</th>\n",
       "      <td>01_dubbo</td>\n",
       "      <td>dubbo-cluster</td>\n",
       "      <td>9</td>\n",
       "      <td>6</td>\n",
       "      <td>[(0, [('merger', 0.11644696), ('model', 0.0760...</td>\n",
       "      <td>[['merger', 'model', 'scope', 'aware', 'end', ...</td>\n",
       "      <td>[(0, [('invoker', 0.10217771), ('hello', 0.059...</td>\n",
       "      <td>[['merger', 'model', 'scope', 'aware', 'end', ...</td>\n",
       "      <td>8</td>\n",
       "      <td>[(0, [('service', 0.005111123), ('see', 0.0051...</td>\n",
       "      <td>[['service', 'see', 'issue', 'sample', 'projec...</td>\n",
       "      <td>big data</td>\n",
       "      <td>['big data', 'instant messaging', 'microservic...</td>\n",
       "    </tr>\n",
       "    <tr>\n",
       "      <th>1</th>\n",
       "      <td>01_dubbo</td>\n",
       "      <td>dubbo-common</td>\n",
       "      <td>9</td>\n",
       "      <td>9</td>\n",
       "      <td>[(0, [('map', 0.071077), ('extension', 0.05852...</td>\n",
       "      <td>[['map', 'extension', 'loader', 'property', 'm...</td>\n",
       "      <td>[(0, [('address', 0.07335682), ('country', 0.0...</td>\n",
       "      <td>[['map', 'extension', 'loader', 'property', 'm...</td>\n",
       "      <td>8</td>\n",
       "      <td>[(0, [('service', 0.005111123), ('see', 0.0051...</td>\n",
       "      <td>[['service', 'see', 'issue', 'sample', 'projec...</td>\n",
       "      <td>database</td>\n",
       "      <td>['database', 'instant messaging', 'big data', ...</td>\n",
       "    </tr>\n",
       "    <tr>\n",
       "      <th>2</th>\n",
       "      <td>01_dubbo</td>\n",
       "      <td>dubbo-compatible</td>\n",
       "      <td>8</td>\n",
       "      <td>9</td>\n",
       "      <td>[(0, [('invocation', 0.17978409), ('invoker', ...</td>\n",
       "      <td>[['invocation', 'invoker', 'attachment', 'argu...</td>\n",
       "      <td>[(0, [('consumer', 0.08403326), ('service', 0....</td>\n",
       "      <td>[['invocation', 'invoker', 'attachment', 'argu...</td>\n",
       "      <td>8</td>\n",
       "      <td>[(0, [('service', 0.005111123), ('see', 0.0051...</td>\n",
       "      <td>[['service', 'see', 'issue', 'sample', 'projec...</td>\n",
       "      <td>computer configuration</td>\n",
       "      <td>['computer configuration', 'microservices', 'w...</td>\n",
       "    </tr>\n",
       "    <tr>\n",
       "      <th>3</th>\n",
       "      <td>01_dubbo</td>\n",
       "      <td>dubbo-config</td>\n",
       "      <td>7</td>\n",
       "      <td>8</td>\n",
       "      <td>[(0, [('application', 0.19198503), ('model', 0...</td>\n",
       "      <td>[['application', 'model', 'module', 'context',...</td>\n",
       "      <td>[(0, [('box', 0.0995611), ('service', 0.097135...</td>\n",
       "      <td>[['application', 'model', 'module', 'context',...</td>\n",
       "      <td>8</td>\n",
       "      <td>[(0, [('service', 0.005111123), ('see', 0.0051...</td>\n",
       "      <td>[['service', 'see', 'issue', 'sample', 'projec...</td>\n",
       "      <td>instant messaging</td>\n",
       "      <td>['instant messaging', 'web service', 'microser...</td>\n",
       "    </tr>\n",
       "    <tr>\n",
       "      <th>4</th>\n",
       "      <td>01_dubbo</td>\n",
       "      <td>dubbo-configcenter</td>\n",
       "      <td>6</td>\n",
       "      <td>7</td>\n",
       "      <td>[(0, [('dynamic', 0.2249236), ('factory', 0.12...</td>\n",
       "      <td>[['dynamic', 'factory', 'url', 'zookeeper', 'a...</td>\n",
       "      <td>[(0, [('namespace', 0.01471425), ('map', 0.014...</td>\n",
       "      <td>[['dynamic', 'factory', 'url', 'zookeeper', 'a...</td>\n",
       "      <td>8</td>\n",
       "      <td>[(0, [('service', 0.005111123), ('see', 0.0051...</td>\n",
       "      <td>[['service', 'see', 'issue', 'sample', 'projec...</td>\n",
       "      <td>big data</td>\n",
       "      <td>['big data', 'instant messaging', 'user interf...</td>\n",
       "    </tr>\n",
       "  </tbody>\n",
       "</table>\n",
       "</div>"
      ],
      "text/plain": [
       "  project_name              module  code_num_topics  test_num_topics   \n",
       "0     01_dubbo       dubbo-cluster                9                6  \\\n",
       "1     01_dubbo        dubbo-common                9                9   \n",
       "2     01_dubbo    dubbo-compatible                8                9   \n",
       "3     01_dubbo        dubbo-config                7                8   \n",
       "4     01_dubbo  dubbo-configcenter                6                7   \n",
       "\n",
       "                                   code_shown_topics   \n",
       "0  [(0, [('merger', 0.11644696), ('model', 0.0760...  \\\n",
       "1  [(0, [('map', 0.071077), ('extension', 0.05852...   \n",
       "2  [(0, [('invocation', 0.17978409), ('invoker', ...   \n",
       "3  [(0, [('application', 0.19198503), ('model', 0...   \n",
       "4  [(0, [('dynamic', 0.2249236), ('factory', 0.12...   \n",
       "\n",
       "                                         code_topics   \n",
       "0  [['merger', 'model', 'scope', 'aware', 'end', ...  \\\n",
       "1  [['map', 'extension', 'loader', 'property', 'm...   \n",
       "2  [['invocation', 'invoker', 'attachment', 'argu...   \n",
       "3  [['application', 'model', 'module', 'context',...   \n",
       "4  [['dynamic', 'factory', 'url', 'zookeeper', 'a...   \n",
       "\n",
       "                                   test_shown_topics   \n",
       "0  [(0, [('invoker', 0.10217771), ('hello', 0.059...  \\\n",
       "1  [(0, [('address', 0.07335682), ('country', 0.0...   \n",
       "2  [(0, [('consumer', 0.08403326), ('service', 0....   \n",
       "3  [(0, [('box', 0.0995611), ('service', 0.097135...   \n",
       "4  [(0, [('namespace', 0.01471425), ('map', 0.014...   \n",
       "\n",
       "                                         test_topics  doc_num_topics   \n",
       "0  [['merger', 'model', 'scope', 'aware', 'end', ...               8  \\\n",
       "1  [['map', 'extension', 'loader', 'property', 'm...               8   \n",
       "2  [['invocation', 'invoker', 'attachment', 'argu...               8   \n",
       "3  [['application', 'model', 'module', 'context',...               8   \n",
       "4  [['dynamic', 'factory', 'url', 'zookeeper', 'a...               8   \n",
       "\n",
       "                                    doc_shown_topics   \n",
       "0  [(0, [('service', 0.005111123), ('see', 0.0051...  \\\n",
       "1  [(0, [('service', 0.005111123), ('see', 0.0051...   \n",
       "2  [(0, [('service', 0.005111123), ('see', 0.0051...   \n",
       "3  [(0, [('service', 0.005111123), ('see', 0.0051...   \n",
       "4  [(0, [('service', 0.005111123), ('see', 0.0051...   \n",
       "\n",
       "                                          doc_topics                     top   \n",
       "0  [['service', 'see', 'issue', 'sample', 'projec...                big data  \\\n",
       "1  [['service', 'see', 'issue', 'sample', 'projec...                database   \n",
       "2  [['service', 'see', 'issue', 'sample', 'projec...  computer configuration   \n",
       "3  [['service', 'see', 'issue', 'sample', 'projec...       instant messaging   \n",
       "4  [['service', 'see', 'issue', 'sample', 'projec...                big data   \n",
       "\n",
       "                                              labels  \n",
       "0  ['big data', 'instant messaging', 'microservic...  \n",
       "1  ['database', 'instant messaging', 'big data', ...  \n",
       "2  ['computer configuration', 'microservices', 'w...  \n",
       "3  ['instant messaging', 'web service', 'microser...  \n",
       "4  ['big data', 'instant messaging', 'user interf...  "
      ]
     },
     "execution_count": 7,
     "metadata": {},
     "output_type": "execute_result"
    }
   ],
   "source": [
    "module_df[:5]"
   ]
  },
  {
   "cell_type": "markdown",
   "metadata": {},
   "source": [
    "## LLM Matching of AD to Concepts"
   ]
  },
  {
   "cell_type": "markdown",
   "metadata": {},
   "source": [
    "### Using embeddings then calculate semantic similarity to match with domains\n",
    "\n",
    "- StackOverflow w2v\n",
    "- text-embedding-ada-002 (openAI + scikit-LLM)"
   ]
  },
  {
   "cell_type": "code",
   "execution_count": 8,
   "metadata": {},
   "outputs": [],
   "source": [
    "code_concept_list = module_df['code_topics']\n",
    "test_concept_list = module_df['test_topics']\n",
    "doc_concept_list = module_df['doc_topics']\n",
    "domains_list = module_df['labels']"
   ]
  },
  {
   "cell_type": "code",
   "execution_count": 9,
   "metadata": {},
   "outputs": [
    {
     "data": {
      "text/html": [
       "<div>\n",
       "<style scoped>\n",
       "    .dataframe tbody tr th:only-of-type {\n",
       "        vertical-align: middle;\n",
       "    }\n",
       "\n",
       "    .dataframe tbody tr th {\n",
       "        vertical-align: top;\n",
       "    }\n",
       "\n",
       "    .dataframe thead th {\n",
       "        text-align: right;\n",
       "    }\n",
       "</style>\n",
       "<table border=\"1\" class=\"dataframe\">\n",
       "  <thead>\n",
       "    <tr style=\"text-align: right;\">\n",
       "      <th></th>\n",
       "      <th>project_name</th>\n",
       "      <th>module</th>\n",
       "    </tr>\n",
       "  </thead>\n",
       "  <tbody>\n",
       "    <tr>\n",
       "      <th>0</th>\n",
       "      <td>01_dubbo</td>\n",
       "      <td>dubbo-cluster</td>\n",
       "    </tr>\n",
       "    <tr>\n",
       "      <th>1</th>\n",
       "      <td>01_dubbo</td>\n",
       "      <td>dubbo-common</td>\n",
       "    </tr>\n",
       "    <tr>\n",
       "      <th>2</th>\n",
       "      <td>01_dubbo</td>\n",
       "      <td>dubbo-compatible</td>\n",
       "    </tr>\n",
       "    <tr>\n",
       "      <th>3</th>\n",
       "      <td>01_dubbo</td>\n",
       "      <td>dubbo-config</td>\n",
       "    </tr>\n",
       "    <tr>\n",
       "      <th>4</th>\n",
       "      <td>01_dubbo</td>\n",
       "      <td>dubbo-configcenter</td>\n",
       "    </tr>\n",
       "    <tr>\n",
       "      <th>...</th>\n",
       "      <td>...</td>\n",
       "      <td>...</td>\n",
       "    </tr>\n",
       "    <tr>\n",
       "      <th>423</th>\n",
       "      <td>45_archiva-components</td>\n",
       "      <td>spring-apacheds</td>\n",
       "    </tr>\n",
       "    <tr>\n",
       "      <th>424</th>\n",
       "      <td>45_archiva-components</td>\n",
       "      <td>spring-cache</td>\n",
       "    </tr>\n",
       "    <tr>\n",
       "      <th>425</th>\n",
       "      <td>45_archiva-components</td>\n",
       "      <td>spring-quartz</td>\n",
       "    </tr>\n",
       "    <tr>\n",
       "      <th>426</th>\n",
       "      <td>45_archiva-components</td>\n",
       "      <td>spring-registry</td>\n",
       "    </tr>\n",
       "    <tr>\n",
       "      <th>427</th>\n",
       "      <td>45_archiva-components</td>\n",
       "      <td>spring-taskqueue</td>\n",
       "    </tr>\n",
       "  </tbody>\n",
       "</table>\n",
       "<p>428 rows × 2 columns</p>\n",
       "</div>"
      ],
      "text/plain": [
       "              project_name              module\n",
       "0                 01_dubbo       dubbo-cluster\n",
       "1                 01_dubbo        dubbo-common\n",
       "2                 01_dubbo    dubbo-compatible\n",
       "3                 01_dubbo        dubbo-config\n",
       "4                 01_dubbo  dubbo-configcenter\n",
       "..                     ...                 ...\n",
       "423  45_archiva-components     spring-apacheds\n",
       "424  45_archiva-components        spring-cache\n",
       "425  45_archiva-components       spring-quartz\n",
       "426  45_archiva-components     spring-registry\n",
       "427  45_archiva-components    spring-taskqueue\n",
       "\n",
       "[428 rows x 2 columns]"
      ]
     },
     "execution_count": 9,
     "metadata": {},
     "output_type": "execute_result"
    }
   ],
   "source": [
    "proj_names = module_df[['project_name', 'module']]\n",
    "proj_names"
   ]
  },
  {
   "cell_type": "code",
   "execution_count": 10,
   "metadata": {},
   "outputs": [
    {
     "data": {
      "text/plain": [
       "428"
      ]
     },
     "execution_count": 10,
     "metadata": {},
     "output_type": "execute_result"
    }
   ],
   "source": [
    "len(code_concept_list)"
   ]
  },
  {
   "cell_type": "code",
   "execution_count": 11,
   "metadata": {},
   "outputs": [
    {
     "data": {
      "text/plain": [
       "428"
      ]
     },
     "execution_count": 11,
     "metadata": {},
     "output_type": "execute_result"
    }
   ],
   "source": [
    "len(domains_list)"
   ]
  },
  {
   "cell_type": "markdown",
   "metadata": {},
   "source": [
    "## StackOverflow W2V"
   ]
  },
  {
   "cell_type": "code",
   "execution_count": 12,
   "metadata": {},
   "outputs": [],
   "source": [
    "from gensim.models.keyedvectors import KeyedVectors\n",
    "\n",
    "so_w2v_model = KeyedVectors.load_word2vec_format('C:/Users/biadge/OneDrive - BP/PhD/extraction/SO_vectors_200.bin', binary=True)"
   ]
  },
  {
   "cell_type": "code",
   "execution_count": 13,
   "metadata": {},
   "outputs": [
    {
     "data": {
      "text/plain": [
       "0.1252212"
      ]
     },
     "execution_count": 13,
     "metadata": {},
     "output_type": "execute_result"
    }
   ],
   "source": [
    "# test\n",
    "so_w2v_model.n_similarity(['test', 'case'], ['quality'])"
   ]
  },
  {
   "cell_type": "code",
   "execution_count": 31,
   "metadata": {},
   "outputs": [],
   "source": [
    "def comp_con_domains_sow2v(so_w2v_model, con, domains):\n",
    "    # list of domains should be given, now we return an array of similarity scores for all domains\n",
    "    # one concept matching against all the domains for that concept\n",
    "    sim_res = []\n",
    "\n",
    "    for dom in domains:\n",
    "        print(domains)\n",
    "        sim_score = (dom, so_w2v_model.n_similarity(con, [dom]))\n",
    "        sim_res.append(sim_score)\n",
    "        print(sim_score)\n",
    "        break\n",
    "\n",
    "    sim_df = pd.DataFrame(sim_res, columns=['domain','sim_score']).sort_values(by='sim_score', ascending=False).reset_index(drop=True)\n",
    "    # sim_df = sim_df[sim_df['sim_score']>0]\n",
    "\n",
    "    return sim_df"
   ]
  },
  {
   "cell_type": "markdown",
   "metadata": {},
   "source": [
    "### Match code concepts to domains"
   ]
  },
  {
   "cell_type": "code",
   "execution_count": 32,
   "metadata": {},
   "outputs": [
    {
     "name": "stdout",
     "output_type": "stream",
     "text": [
      "['big data', 'instant messaging', 'microservices', 'router', 'web service', 'cloud computing', 'web server', 'database', 'server', 'user interface', 'file system', 'client', 'data binding', 'object detection', 'distributed computing', 'data', 'data structure', 'analytics', 'web application security', 'penetration test', 'HTTP server', 'package management system', 'security', 'File Transfer Protocol', 'pattern matching', 'website', 'automation', 'regular expression', 'software testing', 'streaming media', 'natural language', 'web application', 'data compression', 'support vector machine', 'smart contract', 'command-line interface', 'machine learning', 'language model', 'World Wide Web', 'application performance management', 'Web Components', 'back end', 'test automation', 'telecommunications network', 'time series', 'graphical user interface', 'computer data storage', 'unit testing', 'static site generator', 'HTTP client', 'algorithm', 'web browser engine', 'object–relational mapping', 'electronic trading platform', 'text processing', 'data analysis', 'web browser', 'Image analysis', 'computer configuration', 'logging', 'stream processing', 'stock market', 'cluster analysis', 'game engine', 'sorting algorithm', 'web crawler', 'text classification', 'algorithmic trading', 'game server', 'Parser combinator', 'front end', 'validator', 'static program analysis', 'routing', 'distributed system', 'cryptocurrency', 'content management system', 'word embedding', 'benchmark', 'search', 'deep neural network', 'dependency injection', 'computational science', 'Kalman filter', 'geographic information system', 'data visualization', 'operating system', 'middleware', 'graph database', 'reinforcement learning', 'optical character recognition', 'design', 'continuous integration', 'digital image processing', 'backup', 'natural language processing', 'digital audio', 'linear regression', 'signal processing', 'password manager', 'scheduler', 'internet of things', 'recommender system', 'search engine', 'long short-term memory', 'network analysis', 'code generation', 'Containerization', 'text editor', 'artificial neural network', 'distributed database', 'shell tool', 'digital security', 'extract, transform, load', 'data mining', 'image segmentation', 'virtual machine', 'classification', 'data science', 'text mining', 'web scraping', 'random forest', 'authentication', 'Bayesian inference', 'machine translation', 'blockchain', 'compiler', 'serialization', 'information processing', 'deep learning', 'Semantic Web', 'WebSocket', 'artificial intelligence', 'audio signal processing', 'network monitoring', 'image classification', 'email', 'graph algorithm', 'Malware Analysis', 'rendering', 'encryption', 'static program analysis tool', 'computational biology', 'debugging', 'computer science', 'IRC bot', 'Reverse engineering', 'RNA sequencing', 'convolutional neural network', '3D modeling', 'computer programming', 'Q-learning', 'Naive Bayes classifier', 'camera', 'computer graphics', 'chatbot', 'debugger', 'computer vision', 'Bidirectional recurrent neural networks', 'business dashboard', 'cryptography', 'augmented reality', 'automated machine learning', 'audio player software', 'continuous deployment', 'bitcoin', 'bioinformatics', 'database management', 'continuous delivery', 'anomaly detection', 'computer benchmarking', 'animation', 'autonomous driving', 'banking industry', 'DevOps', 'information extraction', 'distributed multimedia communications platform', 'social network', 'simulation', 'serverless computing', 'sequencing', 'sentiment analysis', 'semi-supervised learning', 'science', 'schema migration', 'robotics', 'regression analysis', 'recurrent neural network', 'real-time computing', 'reactive programming', 'question answering', 'quantum computer', 'productivity', 'plot', 'physics', 'parsing', 'object-oriented programming', 'simulator', 'software architecture', 'neural machine translation', 'software design pattern', 'web development', 'visualization', 'virtualization', 'virtual reality', 'video', 'video tracking', 'video processing', 'video game', 'video game development', 'translation', 'transfer learning', 'topic modeling', 'syntax highlighting', 'synchronization', 'statistics', 'speech synthesis', 'speech recognition', 'software engineering', 'software development', 'neural network', 'network security', 'documentation', 'image compression', 'hyperparameter optimization', 'home automation', 'hacking tool', 'graph', 'geometry', 'geographic information', 'genomics', 'genetic algorithm', 'game', 'functional programming', 'font', 'finance', 'facial recognition system', 'face detection', 'evolutionary algorithm', 'engineering', 'embedded system', 'education', 'e-commerce', 'image captioning', 'image editing', 'natural language understanding', 'image recognition', 'named-entity recognition', 'music', 'multiplayer game', 'mobile computing', 'mobile application development', 'mathematics', 'mathematical optimization', 'mathematical finance', 'malware', 'logistic regression model', 'linear algebra', 'lexical analysis', 'knowledge graph', 'kernel', 'interpreter', 'internet bot', 'integrated development environment', 'information retrieval', 'image', '3D computer graphics']\n",
      "('[', 0.0)\n",
      "  domain  sim_score\n",
      "0      [        0.0\n"
     ]
    }
   ],
   "source": [
    "import ast\n",
    "\n",
    "sow2v_code_domain_res = []\n",
    "\n",
    "for i, con in enumerate(code_concept_list):\n",
    "\n",
    "    c = ast.literal_eval(con)\n",
    "\n",
    "    for con_str in c:\n",
    "\n",
    "        # print(\"CONCEPT: \" + str(con_str))\n",
    "        # print(domains_list[i])\n",
    "\n",
    "        df_res = comp_con_domains_sow2v(so_w2v_model, con_str, domains_list[i])\n",
    "\n",
    "        print(df_res)\n",
    "\n",
    "        df_res['concept'] = str(con_str)\n",
    "        df_res = df_res[['concept', 'domain', 'sim_score']]\n",
    "        sow2v_code_domain_res.append(df_res)\n",
    "        break\n",
    "\n",
    "    break"
   ]
  },
  {
   "cell_type": "code",
   "execution_count": 44,
   "metadata": {},
   "outputs": [
    {
     "data": {
      "text/plain": [
       "[Empty DataFrame\n",
       " Columns: [concept, domain, sim_score]\n",
       " Index: []]"
      ]
     },
     "execution_count": 44,
     "metadata": {},
     "output_type": "execute_result"
    }
   ],
   "source": [
    "sow2v_domain_res"
   ]
  },
  {
   "cell_type": "code",
   "execution_count": 34,
   "metadata": {},
   "outputs": [
    {
     "data": {
      "text/html": [
       "<div>\n",
       "<style scoped>\n",
       "    .dataframe tbody tr th:only-of-type {\n",
       "        vertical-align: middle;\n",
       "    }\n",
       "\n",
       "    .dataframe tbody tr th {\n",
       "        vertical-align: top;\n",
       "    }\n",
       "\n",
       "    .dataframe thead th {\n",
       "        text-align: right;\n",
       "    }\n",
       "</style>\n",
       "<table border=\"1\" class=\"dataframe\">\n",
       "  <thead>\n",
       "    <tr style=\"text-align: right;\">\n",
       "      <th></th>\n",
       "      <th>project_name</th>\n",
       "      <th>module</th>\n",
       "      <th>concept</th>\n",
       "      <th>domain</th>\n",
       "      <th>sim_score</th>\n",
       "    </tr>\n",
       "  </thead>\n",
       "  <tbody>\n",
       "    <tr>\n",
       "      <th>0</th>\n",
       "      <td>01_dubbo</td>\n",
       "      <td>dubbo-cluster</td>\n",
       "      <td>NaN</td>\n",
       "      <td>NaN</td>\n",
       "      <td>NaN</td>\n",
       "    </tr>\n",
       "    <tr>\n",
       "      <th>1</th>\n",
       "      <td>01_dubbo</td>\n",
       "      <td>dubbo-common</td>\n",
       "      <td>NaN</td>\n",
       "      <td>NaN</td>\n",
       "      <td>NaN</td>\n",
       "    </tr>\n",
       "    <tr>\n",
       "      <th>2</th>\n",
       "      <td>01_dubbo</td>\n",
       "      <td>dubbo-compatible</td>\n",
       "      <td>NaN</td>\n",
       "      <td>NaN</td>\n",
       "      <td>NaN</td>\n",
       "    </tr>\n",
       "    <tr>\n",
       "      <th>3</th>\n",
       "      <td>01_dubbo</td>\n",
       "      <td>dubbo-config</td>\n",
       "      <td>NaN</td>\n",
       "      <td>NaN</td>\n",
       "      <td>NaN</td>\n",
       "    </tr>\n",
       "    <tr>\n",
       "      <th>4</th>\n",
       "      <td>01_dubbo</td>\n",
       "      <td>dubbo-configcenter</td>\n",
       "      <td>NaN</td>\n",
       "      <td>NaN</td>\n",
       "      <td>NaN</td>\n",
       "    </tr>\n",
       "    <tr>\n",
       "      <th>...</th>\n",
       "      <td>...</td>\n",
       "      <td>...</td>\n",
       "      <td>...</td>\n",
       "      <td>...</td>\n",
       "      <td>...</td>\n",
       "    </tr>\n",
       "    <tr>\n",
       "      <th>423</th>\n",
       "      <td>45_archiva-components</td>\n",
       "      <td>spring-apacheds</td>\n",
       "      <td>NaN</td>\n",
       "      <td>NaN</td>\n",
       "      <td>NaN</td>\n",
       "    </tr>\n",
       "    <tr>\n",
       "      <th>424</th>\n",
       "      <td>45_archiva-components</td>\n",
       "      <td>spring-cache</td>\n",
       "      <td>NaN</td>\n",
       "      <td>NaN</td>\n",
       "      <td>NaN</td>\n",
       "    </tr>\n",
       "    <tr>\n",
       "      <th>425</th>\n",
       "      <td>45_archiva-components</td>\n",
       "      <td>spring-quartz</td>\n",
       "      <td>NaN</td>\n",
       "      <td>NaN</td>\n",
       "      <td>NaN</td>\n",
       "    </tr>\n",
       "    <tr>\n",
       "      <th>426</th>\n",
       "      <td>45_archiva-components</td>\n",
       "      <td>spring-registry</td>\n",
       "      <td>NaN</td>\n",
       "      <td>NaN</td>\n",
       "      <td>NaN</td>\n",
       "    </tr>\n",
       "    <tr>\n",
       "      <th>427</th>\n",
       "      <td>45_archiva-components</td>\n",
       "      <td>spring-taskqueue</td>\n",
       "      <td>NaN</td>\n",
       "      <td>NaN</td>\n",
       "      <td>NaN</td>\n",
       "    </tr>\n",
       "  </tbody>\n",
       "</table>\n",
       "<p>428 rows × 5 columns</p>\n",
       "</div>"
      ],
      "text/plain": [
       "              project_name              module concept domain  sim_score\n",
       "0                 01_dubbo       dubbo-cluster     NaN    NaN        NaN\n",
       "1                 01_dubbo        dubbo-common     NaN    NaN        NaN\n",
       "2                 01_dubbo    dubbo-compatible     NaN    NaN        NaN\n",
       "3                 01_dubbo        dubbo-config     NaN    NaN        NaN\n",
       "4                 01_dubbo  dubbo-configcenter     NaN    NaN        NaN\n",
       "..                     ...                 ...     ...    ...        ...\n",
       "423  45_archiva-components     spring-apacheds     NaN    NaN        NaN\n",
       "424  45_archiva-components        spring-cache     NaN    NaN        NaN\n",
       "425  45_archiva-components       spring-quartz     NaN    NaN        NaN\n",
       "426  45_archiva-components     spring-registry     NaN    NaN        NaN\n",
       "427  45_archiva-components    spring-taskqueue     NaN    NaN        NaN\n",
       "\n",
       "[428 rows x 5 columns]"
      ]
     },
     "execution_count": 34,
     "metadata": {},
     "output_type": "execute_result"
    }
   ],
   "source": [
    "pd.set_option('display.max_colwidth', None)\n",
    "sow2v_domain_match_df = pd.concat(sow2v_domain_res).reset_index(drop=True)\n",
    "sow2v_domain_match_df = pd.concat([proj_names, sow2v_domain_match_df], axis=1)\n",
    "sow2v_domain_match_df"
   ]
  },
  {
   "cell_type": "code",
   "execution_count": 35,
   "metadata": {},
   "outputs": [],
   "source": [
    "sow2v_domain_match_df.to_csv(\"sow2v_domain_match_df.csv\", index=False)"
   ]
  },
  {
   "cell_type": "markdown",
   "metadata": {},
   "source": [
    "### scikit-LLM (GPT4All all-MiniLM-L6-v2-f16)"
   ]
  },
  {
   "cell_type": "code",
   "execution_count": 26,
   "metadata": {},
   "outputs": [],
   "source": [
    "# from gpt4all import Embed4All\n",
    "# text = 'The quick brown fox jumps over the lazy dog'\n",
    "# embedder = Embed4All()\n",
    "# output = embedder.embed(text)\n",
    "# print(output)"
   ]
  },
  {
   "cell_type": "markdown",
   "metadata": {},
   "source": [
    "### scikit-LLM (OpenAI text-embedding-ada-002)"
   ]
  },
  {
   "cell_type": "code",
   "execution_count": 27,
   "metadata": {},
   "outputs": [],
   "source": [
    "from skllm.models.gpt.vectorization import GPTVectorizer\n",
    "from skllm.config import SKLLMConfig\n",
    "from sklearn.metrics.pairwise import cosine_similarity\n",
    "import numpy as np\n",
    "from dotenv import load_dotenv, find_dotenv\n",
    "import os"
   ]
  },
  {
   "cell_type": "code",
   "execution_count": 28,
   "metadata": {},
   "outputs": [],
   "source": [
    "_ = load_dotenv(find_dotenv()) # read local .env file"
   ]
  },
  {
   "cell_type": "code",
   "execution_count": 29,
   "metadata": {},
   "outputs": [],
   "source": [
    "SKLLMConfig.set_openai_key(os.getenv(\"API_KEY\"))\n",
    "SKLLMConfig.set_openai_org(os.getenv(\"ORG\"))"
   ]
  },
  {
   "cell_type": "code",
   "execution_count": 31,
   "metadata": {},
   "outputs": [
    {
     "name": "stdout",
     "output_type": "stream",
     "text": [
      "Batch size: 1\n"
     ]
    },
    {
     "name": "stderr",
     "output_type": "stream",
     "text": [
      "100%|██████████| 2/2 [00:02<00:00,  1.40s/it]\n"
     ]
    }
   ],
   "source": [
    "model = GPTVectorizer()\n",
    "\n",
    "vectors = model.fit_transform([\"how old are you?\", \"what is your age?\"])\n",
    "\n",
    "vector_1 = np.array(vectors[0]).reshape(1, -1)\n",
    "vector_2 = np.array(vectors[1]).reshape(1, -1)"
   ]
  },
  {
   "cell_type": "code",
   "execution_count": 32,
   "metadata": {},
   "outputs": [
    {
     "data": {
      "text/plain": [
       "array([[ 0.01409033, -0.01473137,  0.02737622, ...,  0.01300936,\n",
       "         0.00062651, -0.0186279 ]])"
      ]
     },
     "execution_count": 32,
     "metadata": {},
     "output_type": "execute_result"
    }
   ],
   "source": [
    "vector_1"
   ]
  },
  {
   "cell_type": "code",
   "execution_count": 33,
   "metadata": {},
   "outputs": [
    {
     "data": {
      "text/plain": [
       "array([[ 0.01086601, -0.01645278,  0.00522158, ...,  0.00467059,\n",
       "        -0.01438978, -0.0314448 ]])"
      ]
     },
     "execution_count": 33,
     "metadata": {},
     "output_type": "execute_result"
    }
   ],
   "source": [
    "vector_2"
   ]
  },
  {
   "cell_type": "code",
   "execution_count": 34,
   "metadata": {},
   "outputs": [
    {
     "data": {
      "text/plain": [
       "array([[0.94791596]])"
      ]
     },
     "execution_count": 34,
     "metadata": {},
     "output_type": "execute_result"
    }
   ],
   "source": [
    "cosine_similarity(vector_1, vector_2)"
   ]
  },
  {
   "cell_type": "code",
   "execution_count": null,
   "metadata": {},
   "outputs": [],
   "source": [
    "import time\n",
    "\n",
    "dom_vec_list = []\n",
    "\n",
    "for dom in dl:\n",
    "    dom_vectors = model.fit_transform([dom])\n",
    "    dom_vec = np.array(dom_vectors[0]).reshape(1, -1)\n",
    "    dom_vec_list.append((dom, dom_vec))\n",
    "    time.sleep(0.5)"
   ]
  },
  {
   "cell_type": "code",
   "execution_count": 41,
   "metadata": {},
   "outputs": [
    {
     "data": {
      "text/plain": [
       "267"
      ]
     },
     "execution_count": 41,
     "metadata": {},
     "output_type": "execute_result"
    }
   ],
   "source": [
    "len(dom_vec_list)"
   ]
  },
  {
   "cell_type": "code",
   "execution_count": 48,
   "metadata": {},
   "outputs": [],
   "source": [
    "def comp_con_domains_gpt(gpt_model, con, dom_vec_list):\n",
    "    # list of domains should be given, now we return an array of similarity scores for all domains\n",
    "    sim_res = []\n",
    "\n",
    "    print(\"Working on concept {}\".format(str(con)))\n",
    "    print(\"No. of domains to run against: {}\".format(str(len(dom_vec_list))))\n",
    "\n",
    "    str_con = \" \".join(con)\n",
    "\n",
    "    con_vectors = gpt_model.fit_transform([str_con])\n",
    "    con_vec = np.array(con_vectors[0]).reshape(1, -1)\n",
    "\n",
    "    print(dom_vec_list[0][1])\n",
    "    for dom_vec in dom_vec_list:\n",
    "        sim_score = cosine_similarity(con_vec, dom_vec[1])\n",
    "        sim_res.append((dom_vec[0], sim_score))\n",
    "        \n",
    "    sim_df = pd.DataFrame(sim_res, columns=['domain','sim_score']).sort_values(by='sim_score', ascending=False).reset_index(drop=True)\n",
    "    sim_df = sim_df[sim_df['sim_score']>0]\n",
    "\n",
    "    return sim_df"
   ]
  },
  {
   "cell_type": "code",
   "execution_count": 49,
   "metadata": {},
   "outputs": [
    {
     "name": "stdout",
     "output_type": "stream",
     "text": [
      "Working on concept ['command', 'serializable', 'deserializable', 'task', 'number', 'builder', 'profile', 'duration', 'max', 'network']\n",
      "No. of domains to run against: 267\n",
      "Batch size: 1\n"
     ]
    },
    {
     "name": "stderr",
     "output_type": "stream",
     "text": [
      "100%|██████████| 1/1 [00:00<00:00,  1.10it/s]\n"
     ]
    },
    {
     "name": "stdout",
     "output_type": "stream",
     "text": [
      "[[-0.01526114 -0.02739326  0.00470422 ... -0.02261437 -0.00247834\n",
      "   0.00118139]]\n",
      "Working on concept ['command', 'builder', 'number', 'runtime', 'unsupported', 'path', 'add', 'serializable', 'serialize', 'trace']\n",
      "No. of domains to run against: 267\n",
      "Batch size: 1\n"
     ]
    },
    {
     "name": "stderr",
     "output_type": "stream",
     "text": [
      "100%|██████████| 1/1 [00:00<00:00,  1.50it/s]\n"
     ]
    },
    {
     "name": "stdout",
     "output_type": "stream",
     "text": [
      "[[-0.01526114 -0.02739326  0.00470422 ... -0.02261437 -0.00247834\n",
      "   0.00118139]]\n",
      "Working on concept ['trigger', 'ebpf', 'fix', 'gson', 'extension', 'process', 'update', 'target', 'task', 'command']\n",
      "No. of domains to run against: 267\n",
      "Batch size: 1\n"
     ]
    },
    {
     "name": "stderr",
     "output_type": "stream",
     "text": [
      "100%|██████████| 1/1 [00:00<00:00,  1.58it/s]\n"
     ]
    },
    {
     "name": "stdout",
     "output_type": "stream",
     "text": [
      "[[-0.01526114 -0.02739326  0.00470422 ... -0.02261437 -0.00247834\n",
      "   0.00118139]]\n",
      "Working on concept ['task', 'profile', 'command', 'duration', 'time', 'min', 'max', 'endpoint', 'count', 'dump']\n",
      "No. of domains to run against: 267\n",
      "Batch size: 1\n"
     ]
    },
    {
     "name": "stderr",
     "output_type": "stream",
     "text": [
      "100%|██████████| 1/1 [00:00<00:00,  1.37it/s]\n"
     ]
    },
    {
     "name": "stdout",
     "output_type": "stream",
     "text": [
      "[[-0.01526114 -0.02739326  0.00470422 ... -0.02261437 -0.00247834\n",
      "   0.00118139]]\n",
      "Working on concept ['command', 'discovery', 'uuid', 'number', 'deserializable', 'serializable', 'key', 'value', 'pair', 'deserialize']\n",
      "No. of domains to run against: 267\n",
      "Batch size: 1\n"
     ]
    },
    {
     "name": "stderr",
     "output_type": "stream",
     "text": [
      "100%|██████████| 1/1 [00:00<00:00,  1.66it/s]\n"
     ]
    },
    {
     "name": "stdout",
     "output_type": "stream",
     "text": [
      "[[-0.01526114 -0.02739326  0.00470422 ... -0.02261437 -0.00247834\n",
      "   0.00118139]]\n",
      "Working on concept ['command', 'serializable', 'deserializable', 'profile', 'number', 'duration', 'builder', 'task', 'unsupported', 'uuid']\n",
      "No. of domains to run against: 267\n",
      "Batch size: 1\n"
     ]
    },
    {
     "name": "stderr",
     "output_type": "stream",
     "text": [
      "100%|██████████| 1/1 [00:00<00:00,  1.54it/s]\n"
     ]
    },
    {
     "name": "stdout",
     "output_type": "stream",
     "text": [
      "[[-0.01526114 -0.02739326  0.00470422 ... -0.02261437 -0.00247834\n",
      "   0.00118139]]\n",
      "Working on concept ['setting', 'integer', 'network', 'rule', 'max', 'size', 'request', 'require', 'response', 'sample']\n",
      "No. of domains to run against: 267\n",
      "Batch size: 1\n"
     ]
    },
    {
     "name": "stderr",
     "output_type": "stream",
     "text": [
      "100%|██████████| 1/1 [00:00<00:00,  1.63it/s]\n"
     ]
    },
    {
     "name": "stdout",
     "output_type": "stream",
     "text": [
      "[[-0.01526114 -0.02739326  0.00470422 ... -0.02261437 -0.00247834\n",
      "   0.00118139]]\n",
      "Working on concept ['command', 'serializable', 'deserializable', 'number', 'builder', 'task', 'profile', 'unsupported', 'deserializer', 'max']\n",
      "No. of domains to run against: 267\n",
      "Batch size: 1\n"
     ]
    },
    {
     "name": "stderr",
     "output_type": "stream",
     "text": [
      "100%|██████████| 1/1 [00:00<00:00,  1.45it/s]\n"
     ]
    },
    {
     "name": "stdout",
     "output_type": "stream",
     "text": [
      "[[-0.01526114 -0.02739326  0.00470422 ... -0.02261437 -0.00247834\n",
      "   0.00118139]]\n"
     ]
    }
   ],
   "source": [
    "gpt_domain_res = []\n",
    "gpt_model = GPTVectorizer()\n",
    "\n",
    "for con in cl:\n",
    "    df_res = comp_con_domains_gpt(gpt_model, con, dom_vec_list)\n",
    "    df_res['concept'] = str(con)\n",
    "    df_res = df_res[['concept', 'domain', 'sim_score']]\n",
    "    gpt_domain_res.append(df_res)\n",
    "    time.sleep(0.5)"
   ]
  },
  {
   "cell_type": "code",
   "execution_count": 50,
   "metadata": {},
   "outputs": [
    {
     "data": {
      "text/html": [
       "<div>\n",
       "<style scoped>\n",
       "    .dataframe tbody tr th:only-of-type {\n",
       "        vertical-align: middle;\n",
       "    }\n",
       "\n",
       "    .dataframe tbody tr th {\n",
       "        vertical-align: top;\n",
       "    }\n",
       "\n",
       "    .dataframe thead th {\n",
       "        text-align: right;\n",
       "    }\n",
       "</style>\n",
       "<table border=\"1\" class=\"dataframe\">\n",
       "  <thead>\n",
       "    <tr style=\"text-align: right;\">\n",
       "      <th></th>\n",
       "      <th>concept</th>\n",
       "      <th>domain</th>\n",
       "      <th>sim_score</th>\n",
       "    </tr>\n",
       "  </thead>\n",
       "  <tbody>\n",
       "    <tr>\n",
       "      <th>0</th>\n",
       "      <td>['command', 'serializable', 'deserializable', 'task', 'number', 'builder', 'profile', 'duration', 'max', 'network']</td>\n",
       "      <td>serialization</td>\n",
       "      <td>[[0.7871095032472926]]</td>\n",
       "    </tr>\n",
       "    <tr>\n",
       "      <th>1</th>\n",
       "      <td>['command', 'serializable', 'deserializable', 'task', 'number', 'builder', 'profile', 'duration', 'max', 'network']</td>\n",
       "      <td>computer benchmarking</td>\n",
       "      <td>[[0.7767717413135821]]</td>\n",
       "    </tr>\n",
       "    <tr>\n",
       "      <th>2</th>\n",
       "      <td>['command', 'serializable', 'deserializable', 'task', 'number', 'builder', 'profile', 'duration', 'max', 'network']</td>\n",
       "      <td>network monitoring</td>\n",
       "      <td>[[0.776385586986835]]</td>\n",
       "    </tr>\n",
       "    <tr>\n",
       "      <th>3</th>\n",
       "      <td>['command', 'serializable', 'deserializable', 'task', 'number', 'builder', 'profile', 'duration', 'max', 'network']</td>\n",
       "      <td>command-line interface</td>\n",
       "      <td>[[0.7755979170428933]]</td>\n",
       "    </tr>\n",
       "    <tr>\n",
       "      <th>4</th>\n",
       "      <td>['command', 'serializable', 'deserializable', 'task', 'number', 'builder', 'profile', 'duration', 'max', 'network']</td>\n",
       "      <td>network analysis</td>\n",
       "      <td>[[0.7733984086127061]]</td>\n",
       "    </tr>\n",
       "    <tr>\n",
       "      <th>...</th>\n",
       "      <td>...</td>\n",
       "      <td>...</td>\n",
       "      <td>...</td>\n",
       "    </tr>\n",
       "    <tr>\n",
       "      <th>262</th>\n",
       "      <td>['command', 'serializable', 'deserializable', 'task', 'number', 'builder', 'profile', 'duration', 'max', 'network']</td>\n",
       "      <td>banking industry</td>\n",
       "      <td>[[0.7011476762806811]]</td>\n",
       "    </tr>\n",
       "    <tr>\n",
       "      <th>263</th>\n",
       "      <td>['command', 'serializable', 'deserializable', 'task', 'number', 'builder', 'profile', 'duration', 'max', 'network']</td>\n",
       "      <td>reinforcement learning</td>\n",
       "      <td>[[0.6995509128730848]]</td>\n",
       "    </tr>\n",
       "    <tr>\n",
       "      <th>264</th>\n",
       "      <td>['command', 'serializable', 'deserializable', 'task', 'number', 'builder', 'profile', 'duration', 'max', 'network']</td>\n",
       "      <td>face detection</td>\n",
       "      <td>[[0.6994477931073957]]</td>\n",
       "    </tr>\n",
       "    <tr>\n",
       "      <th>265</th>\n",
       "      <td>['command', 'serializable', 'deserializable', 'task', 'number', 'builder', 'profile', 'duration', 'max', 'network']</td>\n",
       "      <td>mathematical finance</td>\n",
       "      <td>[[0.6963970813150013]]</td>\n",
       "    </tr>\n",
       "    <tr>\n",
       "      <th>266</th>\n",
       "      <td>['command', 'serializable', 'deserializable', 'task', 'number', 'builder', 'profile', 'duration', 'max', 'network']</td>\n",
       "      <td>word embedding</td>\n",
       "      <td>[[0.6948456310413523]]</td>\n",
       "    </tr>\n",
       "  </tbody>\n",
       "</table>\n",
       "<p>267 rows × 3 columns</p>\n",
       "</div>"
      ],
      "text/plain": [
       "                                                                                                                 concept   \n",
       "0    ['command', 'serializable', 'deserializable', 'task', 'number', 'builder', 'profile', 'duration', 'max', 'network']  \\\n",
       "1    ['command', 'serializable', 'deserializable', 'task', 'number', 'builder', 'profile', 'duration', 'max', 'network']   \n",
       "2    ['command', 'serializable', 'deserializable', 'task', 'number', 'builder', 'profile', 'duration', 'max', 'network']   \n",
       "3    ['command', 'serializable', 'deserializable', 'task', 'number', 'builder', 'profile', 'duration', 'max', 'network']   \n",
       "4    ['command', 'serializable', 'deserializable', 'task', 'number', 'builder', 'profile', 'duration', 'max', 'network']   \n",
       "..                                                                                                                   ...   \n",
       "262  ['command', 'serializable', 'deserializable', 'task', 'number', 'builder', 'profile', 'duration', 'max', 'network']   \n",
       "263  ['command', 'serializable', 'deserializable', 'task', 'number', 'builder', 'profile', 'duration', 'max', 'network']   \n",
       "264  ['command', 'serializable', 'deserializable', 'task', 'number', 'builder', 'profile', 'duration', 'max', 'network']   \n",
       "265  ['command', 'serializable', 'deserializable', 'task', 'number', 'builder', 'profile', 'duration', 'max', 'network']   \n",
       "266  ['command', 'serializable', 'deserializable', 'task', 'number', 'builder', 'profile', 'duration', 'max', 'network']   \n",
       "\n",
       "                     domain               sim_score  \n",
       "0             serialization  [[0.7871095032472926]]  \n",
       "1     computer benchmarking  [[0.7767717413135821]]  \n",
       "2        network monitoring   [[0.776385586986835]]  \n",
       "3    command-line interface  [[0.7755979170428933]]  \n",
       "4          network analysis  [[0.7733984086127061]]  \n",
       "..                      ...                     ...  \n",
       "262        banking industry  [[0.7011476762806811]]  \n",
       "263  reinforcement learning  [[0.6995509128730848]]  \n",
       "264          face detection  [[0.6994477931073957]]  \n",
       "265    mathematical finance  [[0.6963970813150013]]  \n",
       "266          word embedding  [[0.6948456310413523]]  \n",
       "\n",
       "[267 rows x 3 columns]"
      ]
     },
     "execution_count": 50,
     "metadata": {},
     "output_type": "execute_result"
    }
   ],
   "source": [
    "gpt_domain_res[0]"
   ]
  },
  {
   "cell_type": "code",
   "execution_count": 51,
   "metadata": {},
   "outputs": [
    {
     "data": {
      "text/html": [
       "<div>\n",
       "<style scoped>\n",
       "    .dataframe tbody tr th:only-of-type {\n",
       "        vertical-align: middle;\n",
       "    }\n",
       "\n",
       "    .dataframe tbody tr th {\n",
       "        vertical-align: top;\n",
       "    }\n",
       "\n",
       "    .dataframe thead th {\n",
       "        text-align: right;\n",
       "    }\n",
       "</style>\n",
       "<table border=\"1\" class=\"dataframe\">\n",
       "  <thead>\n",
       "    <tr style=\"text-align: right;\">\n",
       "      <th></th>\n",
       "      <th>concept</th>\n",
       "      <th>domain</th>\n",
       "      <th>sim_score</th>\n",
       "    </tr>\n",
       "  </thead>\n",
       "  <tbody>\n",
       "    <tr>\n",
       "      <th>0</th>\n",
       "      <td>['command', 'serializable', 'deserializable', 'task', 'number', 'builder', 'profile', 'duration', 'max', 'network']</td>\n",
       "      <td>serialization</td>\n",
       "      <td>[[0.7871095032472926]]</td>\n",
       "    </tr>\n",
       "    <tr>\n",
       "      <th>1</th>\n",
       "      <td>['command', 'serializable', 'deserializable', 'task', 'number', 'builder', 'profile', 'duration', 'max', 'network']</td>\n",
       "      <td>computer benchmarking</td>\n",
       "      <td>[[0.7767717413135821]]</td>\n",
       "    </tr>\n",
       "    <tr>\n",
       "      <th>2</th>\n",
       "      <td>['command', 'serializable', 'deserializable', 'task', 'number', 'builder', 'profile', 'duration', 'max', 'network']</td>\n",
       "      <td>network monitoring</td>\n",
       "      <td>[[0.776385586986835]]</td>\n",
       "    </tr>\n",
       "    <tr>\n",
       "      <th>3</th>\n",
       "      <td>['command', 'serializable', 'deserializable', 'task', 'number', 'builder', 'profile', 'duration', 'max', 'network']</td>\n",
       "      <td>command-line interface</td>\n",
       "      <td>[[0.7755979170428933]]</td>\n",
       "    </tr>\n",
       "    <tr>\n",
       "      <th>4</th>\n",
       "      <td>['command', 'serializable', 'deserializable', 'task', 'number', 'builder', 'profile', 'duration', 'max', 'network']</td>\n",
       "      <td>network analysis</td>\n",
       "      <td>[[0.7733984086127061]]</td>\n",
       "    </tr>\n",
       "    <tr>\n",
       "      <th>...</th>\n",
       "      <td>...</td>\n",
       "      <td>...</td>\n",
       "      <td>...</td>\n",
       "    </tr>\n",
       "    <tr>\n",
       "      <th>2131</th>\n",
       "      <td>['command', 'serializable', 'deserializable', 'number', 'builder', 'task', 'profile', 'unsupported', 'deserializer', 'max']</td>\n",
       "      <td>audio signal processing</td>\n",
       "      <td>[[0.6813674366676089]]</td>\n",
       "    </tr>\n",
       "    <tr>\n",
       "      <th>2132</th>\n",
       "      <td>['command', 'serializable', 'deserializable', 'number', 'builder', 'task', 'profile', 'unsupported', 'deserializer', 'max']</td>\n",
       "      <td>banking industry</td>\n",
       "      <td>[[0.6803217919213869]]</td>\n",
       "    </tr>\n",
       "    <tr>\n",
       "      <th>2133</th>\n",
       "      <td>['command', 'serializable', 'deserializable', 'number', 'builder', 'task', 'profile', 'unsupported', 'deserializer', 'max']</td>\n",
       "      <td>word embedding</td>\n",
       "      <td>[[0.6765283827069019]]</td>\n",
       "    </tr>\n",
       "    <tr>\n",
       "      <th>2134</th>\n",
       "      <td>['command', 'serializable', 'deserializable', 'number', 'builder', 'task', 'profile', 'unsupported', 'deserializer', 'max']</td>\n",
       "      <td>reinforcement learning</td>\n",
       "      <td>[[0.6748938159319278]]</td>\n",
       "    </tr>\n",
       "    <tr>\n",
       "      <th>2135</th>\n",
       "      <td>['command', 'serializable', 'deserializable', 'number', 'builder', 'task', 'profile', 'unsupported', 'deserializer', 'max']</td>\n",
       "      <td>mathematical finance</td>\n",
       "      <td>[[0.674337963191976]]</td>\n",
       "    </tr>\n",
       "  </tbody>\n",
       "</table>\n",
       "<p>2136 rows × 3 columns</p>\n",
       "</div>"
      ],
      "text/plain": [
       "                                                                                                                          concept   \n",
       "0             ['command', 'serializable', 'deserializable', 'task', 'number', 'builder', 'profile', 'duration', 'max', 'network']  \\\n",
       "1             ['command', 'serializable', 'deserializable', 'task', 'number', 'builder', 'profile', 'duration', 'max', 'network']   \n",
       "2             ['command', 'serializable', 'deserializable', 'task', 'number', 'builder', 'profile', 'duration', 'max', 'network']   \n",
       "3             ['command', 'serializable', 'deserializable', 'task', 'number', 'builder', 'profile', 'duration', 'max', 'network']   \n",
       "4             ['command', 'serializable', 'deserializable', 'task', 'number', 'builder', 'profile', 'duration', 'max', 'network']   \n",
       "...                                                                                                                           ...   \n",
       "2131  ['command', 'serializable', 'deserializable', 'number', 'builder', 'task', 'profile', 'unsupported', 'deserializer', 'max']   \n",
       "2132  ['command', 'serializable', 'deserializable', 'number', 'builder', 'task', 'profile', 'unsupported', 'deserializer', 'max']   \n",
       "2133  ['command', 'serializable', 'deserializable', 'number', 'builder', 'task', 'profile', 'unsupported', 'deserializer', 'max']   \n",
       "2134  ['command', 'serializable', 'deserializable', 'number', 'builder', 'task', 'profile', 'unsupported', 'deserializer', 'max']   \n",
       "2135  ['command', 'serializable', 'deserializable', 'number', 'builder', 'task', 'profile', 'unsupported', 'deserializer', 'max']   \n",
       "\n",
       "                       domain               sim_score  \n",
       "0               serialization  [[0.7871095032472926]]  \n",
       "1       computer benchmarking  [[0.7767717413135821]]  \n",
       "2          network monitoring   [[0.776385586986835]]  \n",
       "3      command-line interface  [[0.7755979170428933]]  \n",
       "4            network analysis  [[0.7733984086127061]]  \n",
       "...                       ...                     ...  \n",
       "2131  audio signal processing  [[0.6813674366676089]]  \n",
       "2132         banking industry  [[0.6803217919213869]]  \n",
       "2133           word embedding  [[0.6765283827069019]]  \n",
       "2134   reinforcement learning  [[0.6748938159319278]]  \n",
       "2135     mathematical finance   [[0.674337963191976]]  \n",
       "\n",
       "[2136 rows x 3 columns]"
      ]
     },
     "execution_count": 51,
     "metadata": {},
     "output_type": "execute_result"
    }
   ],
   "source": [
    "pd.set_option('display.max_colwidth', None)\n",
    "gpt_domain_match_df = pd.concat(gpt_domain_res).reset_index(drop=True)\n",
    "gpt_domain_match_df"
   ]
  },
  {
   "cell_type": "code",
   "execution_count": 52,
   "metadata": {},
   "outputs": [],
   "source": [
    "gpt_domain_match_df.to_csv(\"gpt_domain_match_df.csv\", index=False)"
   ]
  }
 ],
 "metadata": {
  "kernelspec": {
   "display_name": "Python 3",
   "language": "python",
   "name": "python3"
  },
  "language_info": {
   "codemirror_mode": {
    "name": "ipython",
    "version": 3
   },
   "file_extension": ".py",
   "mimetype": "text/x-python",
   "name": "python",
   "nbconvert_exporter": "python",
   "pygments_lexer": "ipython3",
   "version": "3.11.7"
  }
 },
 "nbformat": 4,
 "nbformat_minor": 2
}
