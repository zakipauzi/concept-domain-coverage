{
 "cells": [
  {
   "cell_type": "markdown",
   "metadata": {},
   "source": [
    "## Concept/Domain coverage analysis: Matching with App Domains\n",
    "\n",
    "This notebook extracts corpus keywords and analyse the concepts emerging from three sources: source code, documentation and tests"
   ]
  },
  {
   "cell_type": "markdown",
   "metadata": {},
   "source": [
    "## Show topics"
   ]
  },
  {
   "cell_type": "code",
   "execution_count": 12,
   "metadata": {
    "scrolled": true
   },
   "outputs": [
    {
     "data": {
      "text/html": [
       "<div>\n",
       "<style scoped>\n",
       "    .dataframe tbody tr th:only-of-type {\n",
       "        vertical-align: middle;\n",
       "    }\n",
       "\n",
       "    .dataframe tbody tr th {\n",
       "        vertical-align: top;\n",
       "    }\n",
       "\n",
       "    .dataframe thead th {\n",
       "        text-align: right;\n",
       "    }\n",
       "</style>\n",
       "<table border=\"1\" class=\"dataframe\">\n",
       "  <thead>\n",
       "    <tr style=\"text-align: right;\">\n",
       "      <th></th>\n",
       "      <th>project_name</th>\n",
       "      <th>module</th>\n",
       "      <th>code_num_topics</th>\n",
       "      <th>test_num_topics</th>\n",
       "      <th>code_shown_topics</th>\n",
       "      <th>code_topics</th>\n",
       "      <th>test_shown_topics</th>\n",
       "      <th>test_topics</th>\n",
       "      <th>doc_num_topics</th>\n",
       "      <th>doc_shown_topics</th>\n",
       "      <th>doc_topics</th>\n",
       "    </tr>\n",
       "  </thead>\n",
       "  <tbody>\n",
       "    <tr>\n",
       "      <th>20</th>\n",
       "      <td>03_flink</td>\n",
       "      <td>flink-clients</td>\n",
       "      <td>8</td>\n",
       "      <td>9</td>\n",
       "      <td>[(0, [('jar', 0.10477287), ('url', 0.06690521)...</td>\n",
       "      <td>[['jar', 'url', 'entry', 'program', 'setting',...</td>\n",
       "      <td>[(0, [('cluster', 0.11344488), ('factory', 0.0...</td>\n",
       "      <td>[['jar', 'url', 'entry', 'program', 'setting',...</td>\n",
       "      <td>9</td>\n",
       "      <td>[(0, [('scala', 0.0055014915), ('processing', ...</td>\n",
       "      <td>[['scala', 'processing', 'java', 'intellij', '...</td>\n",
       "    </tr>\n",
       "    <tr>\n",
       "      <th>21</th>\n",
       "      <td>03_flink</td>\n",
       "      <td>flink-connectors</td>\n",
       "      <td>9</td>\n",
       "      <td>9</td>\n",
       "      <td>[(0, [('split', 0.17729564), ('source', 0.0911...</td>\n",
       "      <td>[['split', 'source', 'reader', 'hive', 'partit...</td>\n",
       "      <td>[(0, [('kafka', 0.047333054), ('partition', 0....</td>\n",
       "      <td>[['split', 'source', 'reader', 'hive', 'partit...</td>\n",
       "      <td>9</td>\n",
       "      <td>[(0, [('scala', 0.0055014915), ('processing', ...</td>\n",
       "      <td>[['scala', 'processing', 'java', 'intellij', '...</td>\n",
       "    </tr>\n",
       "    <tr>\n",
       "      <th>22</th>\n",
       "      <td>03_flink</td>\n",
       "      <td>flink-container</td>\n",
       "      <td>5</td>\n",
       "      <td>6</td>\n",
       "      <td>[(0, [('cluster', 0.043478318), ('application'...</td>\n",
       "      <td>[['cluster', 'application', 'entry', 'line', '...</td>\n",
       "      <td>[(0, [('application', 0.08333337), ('standalon...</td>\n",
       "      <td>[['cluster', 'application', 'entry', 'line', '...</td>\n",
       "      <td>9</td>\n",
       "      <td>[(0, [('scala', 0.0055014915), ('processing', ...</td>\n",
       "      <td>[['scala', 'processing', 'java', 'intellij', '...</td>\n",
       "    </tr>\n",
       "    <tr>\n",
       "      <th>23</th>\n",
       "      <td>03_flink</td>\n",
       "      <td>flink-contrib</td>\n",
       "      <td>9</td>\n",
       "      <td>8</td>\n",
       "      <td>[(0, [('event', 0.015625862), ('edit', 0.01559...</td>\n",
       "      <td>[['event', 'edit', 'diff', 'timestamp', 'chann...</td>\n",
       "      <td>[(0, [('context', 0.04166667), ('source', 0.04...</td>\n",
       "      <td>[['event', 'edit', 'diff', 'timestamp', 'chann...</td>\n",
       "      <td>9</td>\n",
       "      <td>[(0, [('scala', 0.0055014915), ('processing', ...</td>\n",
       "      <td>[['scala', 'processing', 'java', 'intellij', '...</td>\n",
       "    </tr>\n",
       "    <tr>\n",
       "      <th>24</th>\n",
       "      <td>03_flink</td>\n",
       "      <td>flink-core</td>\n",
       "      <td>7</td>\n",
       "      <td>9</td>\n",
       "      <td>[(0, [('key', 0.10738443), ('comparator', 0.09...</td>\n",
       "      <td>[['key', 'comparator', 'value', 'normalize', '...</td>\n",
       "      <td>[(0, [('map', 0.13233617), ('integer', 0.10897...</td>\n",
       "      <td>[['key', 'comparator', 'value', 'normalize', '...</td>\n",
       "      <td>9</td>\n",
       "      <td>[(0, [('scala', 0.0055014915), ('processing', ...</td>\n",
       "      <td>[['scala', 'processing', 'java', 'intellij', '...</td>\n",
       "    </tr>\n",
       "  </tbody>\n",
       "</table>\n",
       "</div>"
      ],
      "text/plain": [
       "   project_name            module  code_num_topics  test_num_topics   \n",
       "20     03_flink     flink-clients                8                9  \\\n",
       "21     03_flink  flink-connectors                9                9   \n",
       "22     03_flink   flink-container                5                6   \n",
       "23     03_flink     flink-contrib                9                8   \n",
       "24     03_flink        flink-core                7                9   \n",
       "\n",
       "                                    code_shown_topics   \n",
       "20  [(0, [('jar', 0.10477287), ('url', 0.06690521)...  \\\n",
       "21  [(0, [('split', 0.17729564), ('source', 0.0911...   \n",
       "22  [(0, [('cluster', 0.043478318), ('application'...   \n",
       "23  [(0, [('event', 0.015625862), ('edit', 0.01559...   \n",
       "24  [(0, [('key', 0.10738443), ('comparator', 0.09...   \n",
       "\n",
       "                                          code_topics   \n",
       "20  [['jar', 'url', 'entry', 'program', 'setting',...  \\\n",
       "21  [['split', 'source', 'reader', 'hive', 'partit...   \n",
       "22  [['cluster', 'application', 'entry', 'line', '...   \n",
       "23  [['event', 'edit', 'diff', 'timestamp', 'chann...   \n",
       "24  [['key', 'comparator', 'value', 'normalize', '...   \n",
       "\n",
       "                                    test_shown_topics   \n",
       "20  [(0, [('cluster', 0.11344488), ('factory', 0.0...  \\\n",
       "21  [(0, [('kafka', 0.047333054), ('partition', 0....   \n",
       "22  [(0, [('application', 0.08333337), ('standalon...   \n",
       "23  [(0, [('context', 0.04166667), ('source', 0.04...   \n",
       "24  [(0, [('map', 0.13233617), ('integer', 0.10897...   \n",
       "\n",
       "                                          test_topics  doc_num_topics   \n",
       "20  [['jar', 'url', 'entry', 'program', 'setting',...               9  \\\n",
       "21  [['split', 'source', 'reader', 'hive', 'partit...               9   \n",
       "22  [['cluster', 'application', 'entry', 'line', '...               9   \n",
       "23  [['event', 'edit', 'diff', 'timestamp', 'chann...               9   \n",
       "24  [['key', 'comparator', 'value', 'normalize', '...               9   \n",
       "\n",
       "                                     doc_shown_topics   \n",
       "20  [(0, [('scala', 0.0055014915), ('processing', ...  \\\n",
       "21  [(0, [('scala', 0.0055014915), ('processing', ...   \n",
       "22  [(0, [('scala', 0.0055014915), ('processing', ...   \n",
       "23  [(0, [('scala', 0.0055014915), ('processing', ...   \n",
       "24  [(0, [('scala', 0.0055014915), ('processing', ...   \n",
       "\n",
       "                                           doc_topics  \n",
       "20  [['scala', 'processing', 'java', 'intellij', '...  \n",
       "21  [['scala', 'processing', 'java', 'intellij', '...  \n",
       "22  [['scala', 'processing', 'java', 'intellij', '...  \n",
       "23  [['scala', 'processing', 'java', 'intellij', '...  \n",
       "24  [['scala', 'processing', 'java', 'intellij', '...  "
      ]
     },
     "execution_count": 12,
     "metadata": {},
     "output_type": "execute_result"
    }
   ],
   "source": [
    "import pandas as pd\n",
    "# pd.set_option('display.max_colwidth', None)\n",
    "\n",
    "topics_df = pd.read_csv(\"topics_res_df.csv\")\n",
    "# topics_df = topics_df[[\"project_name\", \"module\", \"code_topics\", \"test_topics\", \"doc_topics\"]]\n",
    "topics_df[20:25]"
   ]
  },
  {
   "cell_type": "markdown",
   "metadata": {},
   "source": [
    "## Show annotated modules"
   ]
  },
  {
   "cell_type": "code",
   "execution_count": 13,
   "metadata": {},
   "outputs": [
    {
     "data": {
      "text/html": [
       "<div>\n",
       "<style scoped>\n",
       "    .dataframe tbody tr th:only-of-type {\n",
       "        vertical-align: middle;\n",
       "    }\n",
       "\n",
       "    .dataframe tbody tr th {\n",
       "        vertical-align: top;\n",
       "    }\n",
       "\n",
       "    .dataframe thead th {\n",
       "        text-align: right;\n",
       "    }\n",
       "</style>\n",
       "<table border=\"1\" class=\"dataframe\">\n",
       "  <thead>\n",
       "    <tr style=\"text-align: right;\">\n",
       "      <th></th>\n",
       "      <th>project</th>\n",
       "      <th>module</th>\n",
       "      <th>top</th>\n",
       "      <th>labels</th>\n",
       "    </tr>\n",
       "  </thead>\n",
       "  <tbody>\n",
       "    <tr>\n",
       "      <th>0</th>\n",
       "      <td>dubbo</td>\n",
       "      <td>dubbo-configcenter</td>\n",
       "      <td>big data</td>\n",
       "      <td>['big data', 'instant messaging', 'user interf...</td>\n",
       "    </tr>\n",
       "    <tr>\n",
       "      <th>1</th>\n",
       "      <td>dubbo</td>\n",
       "      <td>dubbo-remoting</td>\n",
       "      <td>server</td>\n",
       "      <td>['server', 'instant messaging', 'web service',...</td>\n",
       "    </tr>\n",
       "    <tr>\n",
       "      <th>2</th>\n",
       "      <td>dubbo</td>\n",
       "      <td>dubbo-spring-boot</td>\n",
       "      <td>microservices</td>\n",
       "      <td>['microservices', 'web service', 'instant mess...</td>\n",
       "    </tr>\n",
       "    <tr>\n",
       "      <th>3</th>\n",
       "      <td>dubbo</td>\n",
       "      <td>dubbo-serialization</td>\n",
       "      <td>serialization</td>\n",
       "      <td>['serialization', 'database', 'file system', '...</td>\n",
       "    </tr>\n",
       "    <tr>\n",
       "      <th>4</th>\n",
       "      <td>dubbo</td>\n",
       "      <td>dubbo-native</td>\n",
       "      <td>web server</td>\n",
       "      <td>['web server', 'instant messaging', 'web servi...</td>\n",
       "    </tr>\n",
       "  </tbody>\n",
       "</table>\n",
       "</div>"
      ],
      "text/plain": [
       "  project               module            top   \n",
       "0   dubbo   dubbo-configcenter       big data  \\\n",
       "1   dubbo       dubbo-remoting         server   \n",
       "2   dubbo    dubbo-spring-boot  microservices   \n",
       "3   dubbo  dubbo-serialization  serialization   \n",
       "4   dubbo         dubbo-native     web server   \n",
       "\n",
       "                                              labels  \n",
       "0  ['big data', 'instant messaging', 'user interf...  \n",
       "1  ['server', 'instant messaging', 'web service',...  \n",
       "2  ['microservices', 'web service', 'instant mess...  \n",
       "3  ['serialization', 'database', 'file system', '...  \n",
       "4  ['web server', 'instant messaging', 'web servi...  "
      ]
     },
     "execution_count": 13,
     "metadata": {},
     "output_type": "execute_result"
    }
   ],
   "source": [
    "anno_df = pd.read_csv(\"module_annotation.csv\")\n",
    "anno_df = anno_df[[\"project\", \"module\", \"top\", \"labels\"]]\n",
    "anno_df.head()"
   ]
  },
  {
   "cell_type": "code",
   "execution_count": 14,
   "metadata": {},
   "outputs": [
    {
     "name": "stdout",
     "output_type": "stream",
     "text": [
      "<class 'pandas.core.frame.DataFrame'>\n",
      "RangeIndex: 483 entries, 0 to 482\n",
      "Data columns (total 4 columns):\n",
      " #   Column   Non-Null Count  Dtype \n",
      "---  ------   --------------  ----- \n",
      " 0   project  483 non-null    object\n",
      " 1   module   483 non-null    object\n",
      " 2   top      483 non-null    object\n",
      " 3   labels   483 non-null    object\n",
      "dtypes: object(4)\n",
      "memory usage: 15.2+ KB\n"
     ]
    }
   ],
   "source": [
    "anno_df.info()"
   ]
  },
  {
   "cell_type": "markdown",
   "metadata": {},
   "source": [
    "## Take a subset of df as test"
   ]
  },
  {
   "cell_type": "code",
   "execution_count": 15,
   "metadata": {},
   "outputs": [
    {
     "data": {
      "text/html": [
       "<div>\n",
       "<style scoped>\n",
       "    .dataframe tbody tr th:only-of-type {\n",
       "        vertical-align: middle;\n",
       "    }\n",
       "\n",
       "    .dataframe tbody tr th {\n",
       "        vertical-align: top;\n",
       "    }\n",
       "\n",
       "    .dataframe thead th {\n",
       "        text-align: right;\n",
       "    }\n",
       "</style>\n",
       "<table border=\"1\" class=\"dataframe\">\n",
       "  <thead>\n",
       "    <tr style=\"text-align: right;\">\n",
       "      <th></th>\n",
       "      <th>project_name</th>\n",
       "      <th>module</th>\n",
       "      <th>code_num_topics</th>\n",
       "      <th>test_num_topics</th>\n",
       "      <th>code_shown_topics</th>\n",
       "      <th>code_topics</th>\n",
       "      <th>test_shown_topics</th>\n",
       "      <th>test_topics</th>\n",
       "      <th>doc_num_topics</th>\n",
       "      <th>doc_shown_topics</th>\n",
       "      <th>doc_topics</th>\n",
       "    </tr>\n",
       "  </thead>\n",
       "  <tbody>\n",
       "    <tr>\n",
       "      <th>17</th>\n",
       "      <td>02_skywalking</td>\n",
       "      <td>apm-protocol</td>\n",
       "      <td>8</td>\n",
       "      <td>1</td>\n",
       "      <td>[(0, [('command', 0.0175439), ('serializable',...</td>\n",
       "      <td>[['command', 'serializable', 'deserializable',...</td>\n",
       "      <td>[(0, [('command', 0.11111111), ('complete', 0....</td>\n",
       "      <td>[['command', 'serializable', 'deserializable',...</td>\n",
       "      <td>9</td>\n",
       "      <td>[(0, [('trace', 0.0060752206), ('support', 0.0...</td>\n",
       "      <td>[['trace', 'support', 'metric', 'mail', 'nativ...</td>\n",
       "    </tr>\n",
       "  </tbody>\n",
       "</table>\n",
       "</div>"
      ],
      "text/plain": [
       "     project_name        module  code_num_topics  test_num_topics   \n",
       "17  02_skywalking  apm-protocol                8                1  \\\n",
       "\n",
       "                                    code_shown_topics   \n",
       "17  [(0, [('command', 0.0175439), ('serializable',...  \\\n",
       "\n",
       "                                          code_topics   \n",
       "17  [['command', 'serializable', 'deserializable',...  \\\n",
       "\n",
       "                                    test_shown_topics   \n",
       "17  [(0, [('command', 0.11111111), ('complete', 0....  \\\n",
       "\n",
       "                                          test_topics  doc_num_topics   \n",
       "17  [['command', 'serializable', 'deserializable',...               9  \\\n",
       "\n",
       "                                     doc_shown_topics   \n",
       "17  [(0, [('trace', 0.0060752206), ('support', 0.0...  \\\n",
       "\n",
       "                                           doc_topics  \n",
       "17  [['trace', 'support', 'metric', 'mail', 'nativ...  "
      ]
     },
     "execution_count": 15,
     "metadata": {},
     "output_type": "execute_result"
    }
   ],
   "source": [
    "# skywalking apm-protocol as an example\n",
    "\n",
    "topics_sub_df = topics_df[topics_df[\"module\"]==\"apm-protocol\"]\n",
    "topics_sub_df"
   ]
  },
  {
   "cell_type": "code",
   "execution_count": 16,
   "metadata": {},
   "outputs": [
    {
     "data": {
      "text/html": [
       "<div>\n",
       "<style scoped>\n",
       "    .dataframe tbody tr th:only-of-type {\n",
       "        vertical-align: middle;\n",
       "    }\n",
       "\n",
       "    .dataframe tbody tr th {\n",
       "        vertical-align: top;\n",
       "    }\n",
       "\n",
       "    .dataframe thead th {\n",
       "        text-align: right;\n",
       "    }\n",
       "</style>\n",
       "<table border=\"1\" class=\"dataframe\">\n",
       "  <thead>\n",
       "    <tr style=\"text-align: right;\">\n",
       "      <th></th>\n",
       "      <th>project</th>\n",
       "      <th>module</th>\n",
       "      <th>top</th>\n",
       "      <th>labels</th>\n",
       "    </tr>\n",
       "  </thead>\n",
       "  <tbody>\n",
       "    <tr>\n",
       "      <th>26</th>\n",
       "      <td>skywalking</td>\n",
       "      <td>apm-protocol</td>\n",
       "      <td>server</td>\n",
       "      <td>['server', 'plot', 'instant messaging', 'websi...</td>\n",
       "    </tr>\n",
       "  </tbody>\n",
       "</table>\n",
       "</div>"
      ],
      "text/plain": [
       "       project        module     top   \n",
       "26  skywalking  apm-protocol  server  \\\n",
       "\n",
       "                                               labels  \n",
       "26  ['server', 'plot', 'instant messaging', 'websi...  "
      ]
     },
     "execution_count": 16,
     "metadata": {},
     "output_type": "execute_result"
    }
   ],
   "source": [
    "anno_sub_df = anno_df[anno_df[\"module\"]==\"apm-protocol\"]\n",
    "anno_sub_df"
   ]
  },
  {
   "cell_type": "code",
   "execution_count": 17,
   "metadata": {},
   "outputs": [
    {
     "name": "stdout",
     "output_type": "stream",
     "text": [
      "<class 'pandas.core.frame.DataFrame'>\n",
      "RangeIndex: 1 entries, 0 to 0\n",
      "Data columns (total 13 columns):\n",
      " #   Column             Non-Null Count  Dtype \n",
      "---  ------             --------------  ----- \n",
      " 0   project_name       1 non-null      object\n",
      " 1   module             1 non-null      object\n",
      " 2   code_num_topics    1 non-null      int64 \n",
      " 3   test_num_topics    1 non-null      int64 \n",
      " 4   code_shown_topics  1 non-null      object\n",
      " 5   code_topics        1 non-null      object\n",
      " 6   test_shown_topics  1 non-null      object\n",
      " 7   test_topics        1 non-null      object\n",
      " 8   doc_num_topics     1 non-null      int64 \n",
      " 9   doc_shown_topics   1 non-null      object\n",
      " 10  doc_topics         1 non-null      object\n",
      " 11  top                1 non-null      object\n",
      " 12  labels             1 non-null      object\n",
      "dtypes: int64(3), object(10)\n",
      "memory usage: 236.0+ bytes\n"
     ]
    }
   ],
   "source": [
    "# pd.set_option('display.max_colwidth', None)\n",
    "module_df = topics_sub_df.merge(anno_sub_df).drop(columns=[\"project\"])\n",
    "module_df.info()"
   ]
  },
  {
   "cell_type": "markdown",
   "metadata": {},
   "source": [
    "## LLM Matching of AD to Concepts"
   ]
  },
  {
   "cell_type": "code",
   "execution_count": 1,
   "metadata": {},
   "outputs": [],
   "source": [
    "from langchain.callbacks.manager import CallbackManager\n",
    "from langchain.callbacks.streaming_stdout import StreamingStdOutCallbackHandler\n",
    "from langchain.llms import LlamaCpp\n",
    "from langchain.prompts import PromptTemplate"
   ]
  },
  {
   "cell_type": "code",
   "execution_count": 2,
   "metadata": {},
   "outputs": [
    {
     "name": "stdout",
     "output_type": "stream",
     "text": [
      "root ::= [[] items []] EOF \n",
      "items ::= item items_7 \n",
      "EOF ::= [<U+000A>] \n",
      "item ::= string \n",
      "items_4 ::= [,] items_6 item \n",
      "ws ::= [ ] \n",
      "items_6 ::= ws items_6 | \n",
      "items_7 ::= items_4 items_7 | \n",
      "string ::= [\"] word string_12 [\"] string_13 \n",
      "word ::= word_14 \n",
      "string_10 ::= string_11 word \n",
      "string_11 ::= ws string_11 | ws \n",
      "string_12 ::= string_10 string_12 | \n",
      "string_13 ::= ws string_13 | \n",
      "word_14 ::= [a-zA-Z] word_14 | [a-zA-Z] \n"
     ]
    },
    {
     "name": "stderr",
     "output_type": "stream",
     "text": [
      "AVX = 1 | AVX2 = 1 | AVX512 = 0 | AVX512_VBMI = 0 | AVX512_VNNI = 0 | FMA = 1 | NEON = 0 | ARM_FMA = 0 | F16C = 1 | FP16_VA = 0 | WASM_SIMD = 0 | BLAS = 1 | SSE3 = 1 | SSSE3 = 0 | VSX = 0 | \n",
      "from_string grammar:\n",
      "\n"
     ]
    }
   ],
   "source": [
    "callback_manager = CallbackManager([StreamingStdOutCallbackHandler()])\n",
    "llm = LlamaCpp(\n",
    "    # model_path=\"C:\\\\Users\\\\biadge\\\\codellama-13b.Q4_K_M.gguf\",\n",
    "    # model_path=\"C:\\\\Users\\\\biadge\\\\llama-2-7b.Q4_K_M.gguf\",\n",
    "    model_path=\"C:\\\\Users\\\\biadge\\\\llama-2-7b.Q5_K_M.gguf\",\n",
    "    temperature=0,\n",
    "    n_ctx=2048,\n",
    "    n_gpu_layers=1,\n",
    "    n_batch=512,\n",
    "    n_threads=4,\n",
    "    f16_kv=True,\n",
    "    callback_manager=callback_manager,\n",
    "    verbose=True,\n",
    "    grammar_path=\"C:\\\\Users\\\\biadge\\\\list.gbnf\"\n",
    ")"
   ]
  },
  {
   "cell_type": "code",
   "execution_count": 9,
   "metadata": {},
   "outputs": [],
   "source": [
    "system_prompt = PromptTemplate.from_template(\n",
    "    \"\"\"You are a helpful assistant tasked to match terms (concept) to the domain it should belong. If it does not belong to any, answer [\"None\"].\n",
    "    Concept: {concepts}\n",
    "    Domains: {domains}\n",
    "    Which of these domains does the concept belong to?\n",
    "    Matched domain:\"\"\")"
   ]
  },
  {
   "cell_type": "code",
   "execution_count": 10,
   "metadata": {},
   "outputs": [],
   "source": [
    "concepts = \"['market', 'church', 'school']\"\n",
    "domains = \"['emotion', 'action', 'studies', 'building']\""
   ]
  },
  {
   "cell_type": "code",
   "execution_count": 11,
   "metadata": {},
   "outputs": [
    {
     "name": "stderr",
     "output_type": "stream",
     "text": [
      "Llama.generate: prefix-match hit\n"
     ]
    },
    {
     "name": "stdout",
     "output_type": "stream",
     "text": [
      "[\"building\"]\n"
     ]
    },
    {
     "data": {
      "text/plain": [
       "'[\"building\"]\\n'"
      ]
     },
     "execution_count": 11,
     "metadata": {},
     "output_type": "execute_result"
    }
   ],
   "source": [
    "llm(system_prompt.format(concepts=concepts, domains=domains))"
   ]
  },
  {
   "cell_type": "code",
   "execution_count": 18,
   "metadata": {},
   "outputs": [],
   "source": [
    "concept_list = module_df['code_topics'][0]\n",
    "domains = module_df['labels'][0]"
   ]
  },
  {
   "cell_type": "code",
   "execution_count": 19,
   "metadata": {},
   "outputs": [
    {
     "data": {
      "text/plain": [
       "\"[['command', 'serializable', 'deserializable', 'task', 'number', 'builder', 'profile', 'duration', 'max', 'network'], ['command', 'builder', 'number', 'runtime', 'unsupported', 'path', 'add', 'serializable', 'serialize', 'trace'], ['trigger', 'ebpf', 'fix', 'gson', 'extension', 'process', 'update', 'target', 'task', 'command'], ['task', 'profile', 'command', 'duration', 'time', 'min', 'max', 'endpoint', 'count', 'dump'], ['command', 'discovery', 'uuid', 'number', 'deserializable', 'serializable', 'key', 'value', 'pair', 'deserialize'], ['command', 'serializable', 'deserializable', 'profile', 'number', 'duration', 'builder', 'task', 'unsupported', 'uuid'], ['setting', 'integer', 'network', 'rule', 'max', 'size', 'request', 'require', 'response', 'sample'], ['command', 'serializable', 'deserializable', 'number', 'builder', 'task', 'profile', 'unsupported', 'deserializer', 'max']]\""
      ]
     },
     "execution_count": 19,
     "metadata": {},
     "output_type": "execute_result"
    }
   ],
   "source": [
    "concept_list"
   ]
  },
  {
   "cell_type": "code",
   "execution_count": 20,
   "metadata": {},
   "outputs": [
    {
     "data": {
      "text/plain": [
       "\"['server', 'plot', 'instant messaging', 'website', 'file system', 'web server', 'database', 'command-line interface', 'World Wide Web', 'package management system', 'application performance management', 'client', 'web service', 'File Transfer Protocol', 'shell tool', 'user interface', 'telecommunications network', 'HTTP server', 'computer configuration', 'data binding', 'big data', 'extract, transform, load', 'object detection', 'data', 'security', 'web application', 'regular expression', 'data structure', 'web application security', 'smart contract', 'statistics', 'machine translation', 'social network', 'pattern matching', 'network monitoring', 'microservices', 'network security', 'time series', 'continuous integration', 'analytics', 'automation', 'object–relational mapping', 'HTTP client', 'neural machine translation', 'password manager', 'back end', 'operating system', 'WebSocket', 'embedded system', 'game server', 'font', 'evolutionary algorithm', 'data visualization', 'face detection', 'data science', 'facial recognition system', 'finance', 'distributed database', 'front end', 'database management', 'functional programming', 'data compression', 'game engine', 'game', 'genetic algorithm', 'genomics', 'geographic information system', 'data mining', 'engineering', 'encryption', 'debugger', 'distributed computing', 'digital security', 'data analysis', 'distributed multimedia communications platform', 'distributed system', 'documentation', 'digital image processing', 'digital audio', 'design', 'e-commerce', 'dependency injection', 'education', 'electronic trading platform', 'deep neural network', 'deep learning', 'email', 'debugging', 'word embedding', 'computer data storage', 'cryptography', 'automated machine learning', 'augmented reality', 'audio signal processing', 'audio player software', 'artificial neural network', 'artificial intelligence', 'anomaly detection', 'animation', 'algorithmic trading', 'algorithm', 'Web Components', 'Semantic Web', 'Reverse engineering', 'RNA sequencing', 'Q-learning', 'Parser combinator', 'Naive Bayes classifier', 'Malware Analysis', 'Kalman filter', 'Image analysis', 'IRC bot', 'DevOps', 'Containerization', 'Bidirectional recurrent neural networks', 'Bayesian inference', '3D modeling', 'authentication', 'autonomous driving', 'cryptocurrency', 'backup', 'convolutional neural network', 'continuous deployment', 'continuous delivery', 'content management system', 'computer vision', 'computer science', 'computer programming', 'computer graphics', 'geometry', 'computer benchmarking', 'computational science', 'computational biology', 'compiler', 'code generation', 'cluster analysis', 'cloud computing', 'classification', 'chatbot', 'camera', 'business dashboard', 'blockchain', 'bitcoin', 'bioinformatics', 'benchmark', 'banking industry', 'geographic information', 'information extraction', 'graph algorithm', 'simulation', 'static site generator', 'static program analysis', 'static program analysis tool', 'speech synthesis', 'speech recognition', 'sorting algorithm', 'software testing', 'software engineering', 'software development', 'software design pattern', 'software architecture', 'simulator', 'signal processing', 'stream processing', 'serverless computing', 'serialization', 'sequencing', 'sentiment analysis', 'semi-supervised learning', 'search', 'search engine', 'science', 'schema migration', 'scheduler', 'routing', 'router', 'stock market', 'streaming media', 'rendering', 'video game', 'web scraping', 'web development', 'web crawler', 'web browser', 'web browser engine', 'visualization', 'virtualization', 'virtual reality', 'virtual machine', 'video', 'video tracking', 'video processing', 'video game development', 'support vector machine', 'validator', 'unit testing', 'translation', 'transfer learning', 'topic modeling', 'text processing', 'text mining', 'text editor', 'text classification', 'test automation', 'syntax highlighting', 'synchronization', 'robotics', 'reinforcement learning', 'graph database', 'information retrieval', 'logistic regression model', 'logging', 'linear regression', 'linear algebra', 'lexical analysis', 'language model', 'knowledge graph', 'kernel', 'interpreter', 'internet of things', 'internet bot', 'integrated development environment', 'information processing', 'machine learning', 'image', 'image segmentation', 'image recognition', 'image editing', 'image compression', 'image classification', 'image captioning', 'hyperparameter optimization', 'home automation', 'hacking tool', 'graphical user interface', 'graph', 'long short-term memory', 'malware', 'regression analysis', 'object-oriented programming', 'recurrent neural network', 'recommender system', 'real-time computing', 'reactive programming', 'random forest', 'question answering', 'quantum computer', 'productivity', 'physics', 'penetration test', 'parsing', 'optical character recognition', 'neural network', 'mathematical finance', 'network analysis', 'natural language', 'natural language understanding', 'natural language processing', 'named-entity recognition', 'music', 'multiplayer game', 'mobile computing', 'mobile application development', 'middleware', 'mathematics', 'mathematical optimization', '3D computer graphics']\""
      ]
     },
     "execution_count": 20,
     "metadata": {},
     "output_type": "execute_result"
    }
   ],
   "source": [
    "domains"
   ]
  },
  {
   "cell_type": "markdown",
   "metadata": {},
   "source": [
    "### using apm-protocol module as an example"
   ]
  },
  {
   "cell_type": "code",
   "execution_count": 21,
   "metadata": {},
   "outputs": [],
   "source": [
    "import ast\n",
    "\n",
    "cl = ast.literal_eval(concept_list)"
   ]
  },
  {
   "cell_type": "code",
   "execution_count": 22,
   "metadata": {},
   "outputs": [
    {
     "name": "stderr",
     "output_type": "stream",
     "text": [
      "Llama.generate: prefix-match hit\n"
     ]
    },
    {
     "name": "stdout",
     "output_type": "stream",
     "text": [
      "[\"server\"]\n"
     ]
    },
    {
     "name": "stderr",
     "output_type": "stream",
     "text": [
      "Llama.generate: prefix-match hit\n"
     ]
    },
    {
     "name": "stdout",
     "output_type": "stream",
     "text": [
      "[\"server\"]\n"
     ]
    },
    {
     "name": "stderr",
     "output_type": "stream",
     "text": [
      "Llama.generate: prefix-match hit\n"
     ]
    },
    {
     "name": "stdout",
     "output_type": "stream",
     "text": [
      "[\"server\"]\n"
     ]
    },
    {
     "name": "stderr",
     "output_type": "stream",
     "text": [
      "Llama.generate: prefix-match hit\n"
     ]
    },
    {
     "name": "stdout",
     "output_type": "stream",
     "text": [
      "[\"server\", \"plot\", \"instant messaging\", \"website\", \"file system\", \"web server\", \"database\", \"command line interface\", \"World Wide Web\", \"package management system\", \"application performance management\", \"client\", \"web service\", \"File Transfer Protocol\", \"shell tool\", \"user interface\", \"telecommunications network\", \"HTTP server\", \"computer configuration\", \"data binding\", \"big data\", \"extract transform load\", \"object detection\", \"data\", \"security\", \"web application\", \"regular expression\", \"data structure\", \"web application security\", \"smart contract\", \"statistics\", \"machine translation\", \"social network\", \"pattern matching\", \"network monitoring\", \"microservices\", \"network security\", \"time series\", \"continuous integration\", \"analytics\", \"automation\", \"object relational mapping\", \"HTTP client\", \"neural machine translation\", \"password manager\", \"back end\", \"operating system\", \"WebSocket\", \"embedded system\", \"game server\", \"font\", \"evolutionary algorithm\", \"data visualization\", \"face detection\", \"data science\", \"facial recognition system\", \"finance\", \"distributed database\", \"front end"
     ]
    },
    {
     "name": "stderr",
     "output_type": "stream",
     "text": [
      "Llama.generate: prefix-match hit\n"
     ]
    },
    {
     "name": "stdout",
     "output_type": "stream",
     "text": [
      "[\"server\", \"plot\", \"instant messaging\", \"website\", \"file system\", \"web server\", \"database\", \"command line interface\", \"World Wide Web\", \"package management system\", \"application performance management\", \"client\", \"web service\", \"File Transfer Protocol\", \"shell tool\", \"user interface\", \"telecommunications network\", \"HTTP server\", \"computer configuration\", \"data binding\", \"big data\", \"extract transform load\", \"object detection\", \"data\", \"security\", \"web application\", \"regular expression\", \"data structure\", \"web application security\", \"smart contract\", \"statistics\", \"machine translation\", \"social network\", \"pattern matching\", \"network monitoring\", \"microservices\", \"network security\", \"time series\", \"continuous integration\", \"analytics\", \"automation\", \"object relational mapping\", \"HTTP client\", \"neural machine translation\", \"password manager\", \"back end\", \"operating system\", \"WebSocket\", \"embedded system\", \"game server\", \"font\", \"evolutionary algorithm\", \"data visualization\", \"face detection\", \"data science\", \"facial recognition system\", \"finance\", \"distributed database\", \"front end"
     ]
    },
    {
     "name": "stderr",
     "output_type": "stream",
     "text": [
      "Llama.generate: prefix-match hit\n"
     ]
    },
    {
     "name": "stdout",
     "output_type": "stream",
     "text": [
      "[\"server\"]\n"
     ]
    },
    {
     "name": "stderr",
     "output_type": "stream",
     "text": [
      "Llama.generate: prefix-match hit\n"
     ]
    },
    {
     "name": "stdout",
     "output_type": "stream",
     "text": [
      "[\"server\", \"plot\", \"instant messaging\", \"website\", \"file system\", \"web server\", \"database\", \"command line interface\", \"World Wide Web\", \"package management system\", \"application performance management\", \"client\", \"web service\", \"File Transfer Protocol\", \"shell tool\", \"user interface\", \"telecommunications network\", \"HTTP server\", \"computer configuration\", \"data binding\", \"big data\", \"extract transform load\", \"object detection\", \"data\", \"security\", \"web application\", \"regular expression\", \"data structure\", \"web application security\", \"smart contract\", \"statistics\", \"machine translation\", \"social network\", \"pattern matching\", \"network monitoring\", \"microservices\", \"network security\", \"time series\", \"continuous integration\", \"analytics\", \"automation\", \"object relational mapping\", \"HTTP client\", \"neural machine translation\", \"password manager\", \"back end\", \"operating system\", \"WebSocket\", \"embedded system\", \"game server\", \"font\", \"evolutionary algorithm\", \"data visualization\", \"face detection\", \"data science\", \"facial recognition system\", \"finance\", \"distributed database\", \"front end"
     ]
    },
    {
     "name": "stderr",
     "output_type": "stream",
     "text": [
      "Llama.generate: prefix-match hit\n"
     ]
    },
    {
     "name": "stdout",
     "output_type": "stream",
     "text": [
      "[\"server\"]\n"
     ]
    }
   ],
   "source": [
    "match_res = []\n",
    "\n",
    "for con in cl:\n",
    "    domain_res = llm(system_prompt.format(concepts=con, domains=domains))\n",
    "    match_res.append([con, domain_res])"
   ]
  },
  {
   "cell_type": "code",
   "execution_count": 23,
   "metadata": {},
   "outputs": [
    {
     "data": {
      "text/html": [
       "<div>\n",
       "<style scoped>\n",
       "    .dataframe tbody tr th:only-of-type {\n",
       "        vertical-align: middle;\n",
       "    }\n",
       "\n",
       "    .dataframe tbody tr th {\n",
       "        vertical-align: top;\n",
       "    }\n",
       "\n",
       "    .dataframe thead th {\n",
       "        text-align: right;\n",
       "    }\n",
       "</style>\n",
       "<table border=\"1\" class=\"dataframe\">\n",
       "  <thead>\n",
       "    <tr style=\"text-align: right;\">\n",
       "      <th></th>\n",
       "      <th>concept</th>\n",
       "      <th>domain</th>\n",
       "    </tr>\n",
       "  </thead>\n",
       "  <tbody>\n",
       "    <tr>\n",
       "      <th>0</th>\n",
       "      <td>[command, serializable, deserializable, task, number, builder, profile, duration, max, network]</td>\n",
       "      <td>[\"server\"]</td>\n",
       "    </tr>\n",
       "    <tr>\n",
       "      <th>1</th>\n",
       "      <td>[command, builder, number, runtime, unsupported, path, add, serializable, serialize, trace]</td>\n",
       "      <td>[\"server\"]</td>\n",
       "    </tr>\n",
       "    <tr>\n",
       "      <th>2</th>\n",
       "      <td>[trigger, ebpf, fix, gson, extension, process, update, target, task, command]</td>\n",
       "      <td>[\"server\"]</td>\n",
       "    </tr>\n",
       "    <tr>\n",
       "      <th>3</th>\n",
       "      <td>[task, profile, command, duration, time, min, max, endpoint, count, dump]</td>\n",
       "      <td>[\"server\", \"plot\", \"instant messaging\", \"website\", \"file system\", \"web server\", \"database\", \"command line interface\", \"World Wide Web\", \"package management system\", \"application performance management\", \"client\", \"web service\", \"File Transfer Protocol\", \"shell tool\", \"user interface\", \"telecommunications network\", \"HTTP server\", \"computer configuration\", \"data binding\", \"big data\", \"extract transform load\", \"object detection\", \"data\", \"security\", \"web application\", \"regular expression\", \"data structure\", \"web application security\", \"smart contract\", \"statistics\", \"machine translation\", \"social network\", \"pattern matching\", \"network monitoring\", \"microservices\", \"network security\", \"time series\", \"continuous integration\", \"analytics\", \"automation\", \"object relational mapping\", \"HTTP client\", \"neural machine translation\", \"password manager\", \"back end\", \"operating system\", \"WebSocket\", \"embedded system\", \"game server\", \"font\", \"evolutionary algorithm\", \"data visualization\", \"face detection\", \"data science\", \"facial recognition system\", \"finance\", \"distributed database\", \"front end</td>\n",
       "    </tr>\n",
       "    <tr>\n",
       "      <th>4</th>\n",
       "      <td>[command, discovery, uuid, number, deserializable, serializable, key, value, pair, deserialize]</td>\n",
       "      <td>[\"server\", \"plot\", \"instant messaging\", \"website\", \"file system\", \"web server\", \"database\", \"command line interface\", \"World Wide Web\", \"package management system\", \"application performance management\", \"client\", \"web service\", \"File Transfer Protocol\", \"shell tool\", \"user interface\", \"telecommunications network\", \"HTTP server\", \"computer configuration\", \"data binding\", \"big data\", \"extract transform load\", \"object detection\", \"data\", \"security\", \"web application\", \"regular expression\", \"data structure\", \"web application security\", \"smart contract\", \"statistics\", \"machine translation\", \"social network\", \"pattern matching\", \"network monitoring\", \"microservices\", \"network security\", \"time series\", \"continuous integration\", \"analytics\", \"automation\", \"object relational mapping\", \"HTTP client\", \"neural machine translation\", \"password manager\", \"back end\", \"operating system\", \"WebSocket\", \"embedded system\", \"game server\", \"font\", \"evolutionary algorithm\", \"data visualization\", \"face detection\", \"data science\", \"facial recognition system\", \"finance\", \"distributed database\", \"front end</td>\n",
       "    </tr>\n",
       "    <tr>\n",
       "      <th>5</th>\n",
       "      <td>[command, serializable, deserializable, profile, number, duration, builder, task, unsupported, uuid]</td>\n",
       "      <td>[\"server\"]</td>\n",
       "    </tr>\n",
       "    <tr>\n",
       "      <th>6</th>\n",
       "      <td>[setting, integer, network, rule, max, size, request, require, response, sample]</td>\n",
       "      <td>[\"server\", \"plot\", \"instant messaging\", \"website\", \"file system\", \"web server\", \"database\", \"command line interface\", \"World Wide Web\", \"package management system\", \"application performance management\", \"client\", \"web service\", \"File Transfer Protocol\", \"shell tool\", \"user interface\", \"telecommunications network\", \"HTTP server\", \"computer configuration\", \"data binding\", \"big data\", \"extract transform load\", \"object detection\", \"data\", \"security\", \"web application\", \"regular expression\", \"data structure\", \"web application security\", \"smart contract\", \"statistics\", \"machine translation\", \"social network\", \"pattern matching\", \"network monitoring\", \"microservices\", \"network security\", \"time series\", \"continuous integration\", \"analytics\", \"automation\", \"object relational mapping\", \"HTTP client\", \"neural machine translation\", \"password manager\", \"back end\", \"operating system\", \"WebSocket\", \"embedded system\", \"game server\", \"font\", \"evolutionary algorithm\", \"data visualization\", \"face detection\", \"data science\", \"facial recognition system\", \"finance\", \"distributed database\", \"front end</td>\n",
       "    </tr>\n",
       "    <tr>\n",
       "      <th>7</th>\n",
       "      <td>[command, serializable, deserializable, number, builder, task, profile, unsupported, deserializer, max]</td>\n",
       "      <td>[\"server\"]</td>\n",
       "    </tr>\n",
       "  </tbody>\n",
       "</table>\n",
       "</div>"
      ],
      "text/plain": [
       "                                                                                                   concept   \n",
       "0          [command, serializable, deserializable, task, number, builder, profile, duration, max, network]  \\\n",
       "1              [command, builder, number, runtime, unsupported, path, add, serializable, serialize, trace]   \n",
       "2                            [trigger, ebpf, fix, gson, extension, process, update, target, task, command]   \n",
       "3                                [task, profile, command, duration, time, min, max, endpoint, count, dump]   \n",
       "4          [command, discovery, uuid, number, deserializable, serializable, key, value, pair, deserialize]   \n",
       "5     [command, serializable, deserializable, profile, number, duration, builder, task, unsupported, uuid]   \n",
       "6                         [setting, integer, network, rule, max, size, request, require, response, sample]   \n",
       "7  [command, serializable, deserializable, number, builder, task, profile, unsupported, deserializer, max]   \n",
       "\n",
       "                                                                                                                                                                                                                                                                                                                                                                                                                                                                                                                                                                                                                                                                                                                                                                                                                                                                                                                                                                                                                                                                                                                                    domain  \n",
       "0                                                                                                                                                                                                                                                                                                                                                                                                                                                                                                                                                                                                                                                                                                                                                                                                                                                                                                                                                                                                                                                                                                                               [\"server\"]  \n",
       "1                                                                                                                                                                                                                                                                                                                                                                                                                                                                                                                                                                                                                                                                                                                                                                                                                                                                                                                                                                                                                                                                                                                               [\"server\"]  \n",
       "2                                                                                                                                                                                                                                                                                                                                                                                                                                                                                                                                                                                                                                                                                                                                                                                                                                                                                                                                                                                                                                                                                                                               [\"server\"]  \n",
       "3  [\"server\", \"plot\", \"instant messaging\", \"website\", \"file system\", \"web server\", \"database\", \"command line interface\", \"World Wide Web\", \"package management system\", \"application performance management\", \"client\", \"web service\", \"File Transfer Protocol\", \"shell tool\", \"user interface\", \"telecommunications network\", \"HTTP server\", \"computer configuration\", \"data binding\", \"big data\", \"extract transform load\", \"object detection\", \"data\", \"security\", \"web application\", \"regular expression\", \"data structure\", \"web application security\", \"smart contract\", \"statistics\", \"machine translation\", \"social network\", \"pattern matching\", \"network monitoring\", \"microservices\", \"network security\", \"time series\", \"continuous integration\", \"analytics\", \"automation\", \"object relational mapping\", \"HTTP client\", \"neural machine translation\", \"password manager\", \"back end\", \"operating system\", \"WebSocket\", \"embedded system\", \"game server\", \"font\", \"evolutionary algorithm\", \"data visualization\", \"face detection\", \"data science\", \"facial recognition system\", \"finance\", \"distributed database\", \"front end  \n",
       "4  [\"server\", \"plot\", \"instant messaging\", \"website\", \"file system\", \"web server\", \"database\", \"command line interface\", \"World Wide Web\", \"package management system\", \"application performance management\", \"client\", \"web service\", \"File Transfer Protocol\", \"shell tool\", \"user interface\", \"telecommunications network\", \"HTTP server\", \"computer configuration\", \"data binding\", \"big data\", \"extract transform load\", \"object detection\", \"data\", \"security\", \"web application\", \"regular expression\", \"data structure\", \"web application security\", \"smart contract\", \"statistics\", \"machine translation\", \"social network\", \"pattern matching\", \"network monitoring\", \"microservices\", \"network security\", \"time series\", \"continuous integration\", \"analytics\", \"automation\", \"object relational mapping\", \"HTTP client\", \"neural machine translation\", \"password manager\", \"back end\", \"operating system\", \"WebSocket\", \"embedded system\", \"game server\", \"font\", \"evolutionary algorithm\", \"data visualization\", \"face detection\", \"data science\", \"facial recognition system\", \"finance\", \"distributed database\", \"front end  \n",
       "5                                                                                                                                                                                                                                                                                                                                                                                                                                                                                                                                                                                                                                                                                                                                                                                                                                                                                                                                                                                                                                                                                                                               [\"server\"]  \n",
       "6  [\"server\", \"plot\", \"instant messaging\", \"website\", \"file system\", \"web server\", \"database\", \"command line interface\", \"World Wide Web\", \"package management system\", \"application performance management\", \"client\", \"web service\", \"File Transfer Protocol\", \"shell tool\", \"user interface\", \"telecommunications network\", \"HTTP server\", \"computer configuration\", \"data binding\", \"big data\", \"extract transform load\", \"object detection\", \"data\", \"security\", \"web application\", \"regular expression\", \"data structure\", \"web application security\", \"smart contract\", \"statistics\", \"machine translation\", \"social network\", \"pattern matching\", \"network monitoring\", \"microservices\", \"network security\", \"time series\", \"continuous integration\", \"analytics\", \"automation\", \"object relational mapping\", \"HTTP client\", \"neural machine translation\", \"password manager\", \"back end\", \"operating system\", \"WebSocket\", \"embedded system\", \"game server\", \"font\", \"evolutionary algorithm\", \"data visualization\", \"face detection\", \"data science\", \"facial recognition system\", \"finance\", \"distributed database\", \"front end  \n",
       "7                                                                                                                                                                                                                                                                                                                                                                                                                                                                                                                                                                                                                                                                                                                                                                                                                                                                                                                                                                                                                                                                                                                               [\"server\"]  "
      ]
     },
     "execution_count": 23,
     "metadata": {},
     "output_type": "execute_result"
    }
   ],
   "source": [
    "pd.set_option('display.max_colwidth', None)\n",
    "domain_res_df = pd.DataFrame(match_res, columns=['concept', 'domain'])\n",
    "domain_res_df['domain'] = domain_res_df['domain'].str.rstrip('\\n')\n",
    "# domain_res_df['domain'] = domain_res_df['domain'].apply(lambda x: ast.literal_eval(x))\n",
    "domain_res_df"
   ]
  },
  {
   "cell_type": "code",
   "execution_count": null,
   "metadata": {},
   "outputs": [],
   "source": [
    "# domain_res_top_df = domain_res_df['domain'].apply(lambda x: x[:3] if len(x) > 4 else x)\n",
    "# domain_res_top_df"
   ]
  },
  {
   "cell_type": "code",
   "execution_count": null,
   "metadata": {},
   "outputs": [],
   "source": []
  }
 ],
 "metadata": {
  "kernelspec": {
   "display_name": "Python 3",
   "language": "python",
   "name": "python3"
  },
  "language_info": {
   "codemirror_mode": {
    "name": "ipython",
    "version": 3
   },
   "file_extension": ".py",
   "mimetype": "text/x-python",
   "name": "python",
   "nbconvert_exporter": "python",
   "pygments_lexer": "ipython3",
   "version": "3.11.7"
  }
 },
 "nbformat": 4,
 "nbformat_minor": 2
}
