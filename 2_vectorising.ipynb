{
 "cells": [
  {
   "cell_type": "markdown",
   "metadata": {},
   "source": [
    "## Concept/Domain coverage analysis: Matching with App Domains\n",
    "\n",
    "This notebook extracts corpus keywords and analyse the concepts emerging from three sources: source code, documentation and tests"
   ]
  },
  {
   "cell_type": "markdown",
   "metadata": {},
   "source": [
    "## Show topics"
   ]
  },
  {
   "cell_type": "code",
   "execution_count": 23,
   "metadata": {
    "scrolled": true
   },
   "outputs": [
    {
     "data": {
      "text/html": [
       "<div>\n",
       "<style scoped>\n",
       "    .dataframe tbody tr th:only-of-type {\n",
       "        vertical-align: middle;\n",
       "    }\n",
       "\n",
       "    .dataframe tbody tr th {\n",
       "        vertical-align: top;\n",
       "    }\n",
       "\n",
       "    .dataframe thead th {\n",
       "        text-align: right;\n",
       "    }\n",
       "</style>\n",
       "<table border=\"1\" class=\"dataframe\">\n",
       "  <thead>\n",
       "    <tr style=\"text-align: right;\">\n",
       "      <th></th>\n",
       "      <th>project_name</th>\n",
       "      <th>module</th>\n",
       "      <th>code_num_topics</th>\n",
       "      <th>test_num_topics</th>\n",
       "      <th>code_shown_topics</th>\n",
       "      <th>code_topics</th>\n",
       "      <th>test_shown_topics</th>\n",
       "      <th>test_topics</th>\n",
       "      <th>doc_num_topics</th>\n",
       "      <th>doc_shown_topics</th>\n",
       "      <th>doc_topics</th>\n",
       "    </tr>\n",
       "  </thead>\n",
       "  <tbody>\n",
       "    <tr>\n",
       "      <th>0</th>\n",
       "      <td>01_dubbo</td>\n",
       "      <td>dubbo-cluster</td>\n",
       "      <td>9</td>\n",
       "      <td>6</td>\n",
       "      <td>[(0, [('merger', 0.11644696), ('model', 0.0760...</td>\n",
       "      <td>[['merger', 'model', 'scope', 'aware', 'end', ...</td>\n",
       "      <td>[(0, [('invoker', 0.10217771), ('hello', 0.059...</td>\n",
       "      <td>[['invoker', 'hello', 'menu', 'service', 'load...</td>\n",
       "      <td>8</td>\n",
       "      <td>[(0, [('service', 0.005111123), ('see', 0.0051...</td>\n",
       "      <td>[['service', 'see', 'issue', 'sample', 'projec...</td>\n",
       "    </tr>\n",
       "    <tr>\n",
       "      <th>1</th>\n",
       "      <td>01_dubbo</td>\n",
       "      <td>dubbo-common</td>\n",
       "      <td>9</td>\n",
       "      <td>9</td>\n",
       "      <td>[(0, [('map', 0.071077), ('extension', 0.05852...</td>\n",
       "      <td>[['map', 'extension', 'loader', 'property', 'm...</td>\n",
       "      <td>[(0, [('address', 0.07335682), ('country', 0.0...</td>\n",
       "      <td>[['address', 'country', 'phone', 'full', 'size...</td>\n",
       "      <td>8</td>\n",
       "      <td>[(0, [('service', 0.005111123), ('see', 0.0051...</td>\n",
       "      <td>[['service', 'see', 'issue', 'sample', 'projec...</td>\n",
       "    </tr>\n",
       "    <tr>\n",
       "      <th>2</th>\n",
       "      <td>01_dubbo</td>\n",
       "      <td>dubbo-compatible</td>\n",
       "      <td>8</td>\n",
       "      <td>9</td>\n",
       "      <td>[(0, [('invocation', 0.17978409), ('invoker', ...</td>\n",
       "      <td>[['invocation', 'invoker', 'attachment', 'argu...</td>\n",
       "      <td>[(0, [('consumer', 0.08403326), ('service', 0....</td>\n",
       "      <td>[['consumer', 'service', 'argument', 'applicat...</td>\n",
       "      <td>8</td>\n",
       "      <td>[(0, [('service', 0.005111123), ('see', 0.0051...</td>\n",
       "      <td>[['service', 'see', 'issue', 'sample', 'projec...</td>\n",
       "    </tr>\n",
       "    <tr>\n",
       "      <th>3</th>\n",
       "      <td>01_dubbo</td>\n",
       "      <td>dubbo-config</td>\n",
       "      <td>7</td>\n",
       "      <td>8</td>\n",
       "      <td>[(0, [('application', 0.19198503), ('model', 0...</td>\n",
       "      <td>[['application', 'model', 'module', 'context',...</td>\n",
       "      <td>[(0, [('box', 0.0995611), ('service', 0.097135...</td>\n",
       "      <td>[['box', 'service', 'demo', 'user', 'say', 'im...</td>\n",
       "      <td>8</td>\n",
       "      <td>[(0, [('service', 0.005111123), ('see', 0.0051...</td>\n",
       "      <td>[['service', 'see', 'issue', 'sample', 'projec...</td>\n",
       "    </tr>\n",
       "    <tr>\n",
       "      <th>4</th>\n",
       "      <td>01_dubbo</td>\n",
       "      <td>dubbo-configcenter</td>\n",
       "      <td>6</td>\n",
       "      <td>7</td>\n",
       "      <td>[(0, [('dynamic', 0.2249236), ('factory', 0.12...</td>\n",
       "      <td>[['dynamic', 'factory', 'url', 'zookeeper', 'a...</td>\n",
       "      <td>[(0, [('namespace', 0.01471425), ('map', 0.014...</td>\n",
       "      <td>[['namespace', 'map', 'context', 'mock', 'prop...</td>\n",
       "      <td>8</td>\n",
       "      <td>[(0, [('service', 0.005111123), ('see', 0.0051...</td>\n",
       "      <td>[['service', 'see', 'issue', 'sample', 'projec...</td>\n",
       "    </tr>\n",
       "  </tbody>\n",
       "</table>\n",
       "</div>"
      ],
      "text/plain": [
       "  project_name              module  code_num_topics  test_num_topics   \n",
       "0     01_dubbo       dubbo-cluster                9                6  \\\n",
       "1     01_dubbo        dubbo-common                9                9   \n",
       "2     01_dubbo    dubbo-compatible                8                9   \n",
       "3     01_dubbo        dubbo-config                7                8   \n",
       "4     01_dubbo  dubbo-configcenter                6                7   \n",
       "\n",
       "                                   code_shown_topics   \n",
       "0  [(0, [('merger', 0.11644696), ('model', 0.0760...  \\\n",
       "1  [(0, [('map', 0.071077), ('extension', 0.05852...   \n",
       "2  [(0, [('invocation', 0.17978409), ('invoker', ...   \n",
       "3  [(0, [('application', 0.19198503), ('model', 0...   \n",
       "4  [(0, [('dynamic', 0.2249236), ('factory', 0.12...   \n",
       "\n",
       "                                         code_topics   \n",
       "0  [['merger', 'model', 'scope', 'aware', 'end', ...  \\\n",
       "1  [['map', 'extension', 'loader', 'property', 'm...   \n",
       "2  [['invocation', 'invoker', 'attachment', 'argu...   \n",
       "3  [['application', 'model', 'module', 'context',...   \n",
       "4  [['dynamic', 'factory', 'url', 'zookeeper', 'a...   \n",
       "\n",
       "                                   test_shown_topics   \n",
       "0  [(0, [('invoker', 0.10217771), ('hello', 0.059...  \\\n",
       "1  [(0, [('address', 0.07335682), ('country', 0.0...   \n",
       "2  [(0, [('consumer', 0.08403326), ('service', 0....   \n",
       "3  [(0, [('box', 0.0995611), ('service', 0.097135...   \n",
       "4  [(0, [('namespace', 0.01471425), ('map', 0.014...   \n",
       "\n",
       "                                         test_topics  doc_num_topics   \n",
       "0  [['invoker', 'hello', 'menu', 'service', 'load...               8  \\\n",
       "1  [['address', 'country', 'phone', 'full', 'size...               8   \n",
       "2  [['consumer', 'service', 'argument', 'applicat...               8   \n",
       "3  [['box', 'service', 'demo', 'user', 'say', 'im...               8   \n",
       "4  [['namespace', 'map', 'context', 'mock', 'prop...               8   \n",
       "\n",
       "                                    doc_shown_topics   \n",
       "0  [(0, [('service', 0.005111123), ('see', 0.0051...  \\\n",
       "1  [(0, [('service', 0.005111123), ('see', 0.0051...   \n",
       "2  [(0, [('service', 0.005111123), ('see', 0.0051...   \n",
       "3  [(0, [('service', 0.005111123), ('see', 0.0051...   \n",
       "4  [(0, [('service', 0.005111123), ('see', 0.0051...   \n",
       "\n",
       "                                          doc_topics  \n",
       "0  [['service', 'see', 'issue', 'sample', 'projec...  \n",
       "1  [['service', 'see', 'issue', 'sample', 'projec...  \n",
       "2  [['service', 'see', 'issue', 'sample', 'projec...  \n",
       "3  [['service', 'see', 'issue', 'sample', 'projec...  \n",
       "4  [['service', 'see', 'issue', 'sample', 'projec...  "
      ]
     },
     "execution_count": 23,
     "metadata": {},
     "output_type": "execute_result"
    }
   ],
   "source": [
    "import pandas as pd\n",
    "\n",
    "topics_df = pd.read_csv(\"topics_res_df.csv\")\n",
    "topics_df.head()"
   ]
  },
  {
   "cell_type": "markdown",
   "metadata": {},
   "source": [
    "## Process annotated modules"
   ]
  },
  {
   "cell_type": "code",
   "execution_count": 2,
   "metadata": {},
   "outputs": [
    {
     "data": {
      "text/html": [
       "<div>\n",
       "<style scoped>\n",
       "    .dataframe tbody tr th:only-of-type {\n",
       "        vertical-align: middle;\n",
       "    }\n",
       "\n",
       "    .dataframe tbody tr th {\n",
       "        vertical-align: top;\n",
       "    }\n",
       "\n",
       "    .dataframe thead th {\n",
       "        text-align: right;\n",
       "    }\n",
       "</style>\n",
       "<table border=\"1\" class=\"dataframe\">\n",
       "  <thead>\n",
       "    <tr style=\"text-align: right;\">\n",
       "      <th></th>\n",
       "      <th>project</th>\n",
       "      <th>module</th>\n",
       "      <th>labels</th>\n",
       "      <th>distribution</th>\n",
       "    </tr>\n",
       "  </thead>\n",
       "  <tbody>\n",
       "    <tr>\n",
       "      <th>0</th>\n",
       "      <td>dubbo</td>\n",
       "      <td>dubbo-configcenter</td>\n",
       "      <td>['3D computer graphics', '3D modeling', 'Bayes...</td>\n",
       "      <td>[0.0, 0.0, 0.0, 0.0, 0.0, 0.0, 0.0358421722524...</td>\n",
       "    </tr>\n",
       "    <tr>\n",
       "      <th>1</th>\n",
       "      <td>dubbo</td>\n",
       "      <td>dubbo-remoting</td>\n",
       "      <td>['3D computer graphics', '3D modeling', 'Bayes...</td>\n",
       "      <td>[0.003827634543563279, 0.0007640459047594847, ...</td>\n",
       "    </tr>\n",
       "    <tr>\n",
       "      <th>2</th>\n",
       "      <td>dubbo</td>\n",
       "      <td>dubbo-spring-boot</td>\n",
       "      <td>['3D computer graphics', '3D modeling', 'Bayes...</td>\n",
       "      <td>[0.0, 0.0, 0.0, 0.0, 0.0, 0.002485344724677403...</td>\n",
       "    </tr>\n",
       "    <tr>\n",
       "      <th>3</th>\n",
       "      <td>dubbo</td>\n",
       "      <td>dubbo-serialization</td>\n",
       "      <td>['3D computer graphics', '3D modeling', 'Bayes...</td>\n",
       "      <td>[0.0, 0.0, 0.0, 0.0, 0.0, 0.0, 0.1949338529501...</td>\n",
       "    </tr>\n",
       "    <tr>\n",
       "      <th>4</th>\n",
       "      <td>dubbo</td>\n",
       "      <td>dubbo-native</td>\n",
       "      <td>['3D computer graphics', '3D modeling', 'Bayes...</td>\n",
       "      <td>[0.0, 0.0, 0.0, 0.0, 0.0, 0.0, 0.0785512761148...</td>\n",
       "    </tr>\n",
       "    <tr>\n",
       "      <th>...</th>\n",
       "      <td>...</td>\n",
       "      <td>...</td>\n",
       "      <td>...</td>\n",
       "      <td>...</td>\n",
       "    </tr>\n",
       "    <tr>\n",
       "      <th>478</th>\n",
       "      <td>archiva-components</td>\n",
       "      <td>spring-apacheds</td>\n",
       "      <td>['3D computer graphics', '3D modeling', 'Bayes...</td>\n",
       "      <td>[0.0, 0.0, 0.0, 0.0, 0.0, 0.0, 0.1170141864804...</td>\n",
       "    </tr>\n",
       "    <tr>\n",
       "      <th>479</th>\n",
       "      <td>archiva-components</td>\n",
       "      <td>spring-registry</td>\n",
       "      <td>['3D computer graphics', '3D modeling', 'Bayes...</td>\n",
       "      <td>[0.0, 0.0, 0.0, 0.0, 0.0, 0.0, 0.0535558945145...</td>\n",
       "    </tr>\n",
       "    <tr>\n",
       "      <th>480</th>\n",
       "      <td>archiva-components</td>\n",
       "      <td>spring-quartz</td>\n",
       "      <td>['3D computer graphics', '3D modeling', 'Bayes...</td>\n",
       "      <td>[0.0, 0.028540502180797137, 0.0, 0.0, 0.0, 0.0...</td>\n",
       "    </tr>\n",
       "    <tr>\n",
       "      <th>481</th>\n",
       "      <td>archiva-components</td>\n",
       "      <td>rest-util</td>\n",
       "      <td>['3D computer graphics', '3D modeling', 'Bayes...</td>\n",
       "      <td>[0.0, 0.0, 0.0, 0.0, 0.0, 0.04058421758514396,...</td>\n",
       "    </tr>\n",
       "    <tr>\n",
       "      <th>482</th>\n",
       "      <td>archiva-components</td>\n",
       "      <td>graph</td>\n",
       "      <td>['3D computer graphics', '3D modeling', 'Bayes...</td>\n",
       "      <td>[0.0, 0.0, 0.0, 0.0, 0.0, 0.0, 0.0, 0.01627233...</td>\n",
       "    </tr>\n",
       "  </tbody>\n",
       "</table>\n",
       "<p>483 rows × 4 columns</p>\n",
       "</div>"
      ],
      "text/plain": [
       "                project               module   \n",
       "0                 dubbo   dubbo-configcenter  \\\n",
       "1                 dubbo       dubbo-remoting   \n",
       "2                 dubbo    dubbo-spring-boot   \n",
       "3                 dubbo  dubbo-serialization   \n",
       "4                 dubbo         dubbo-native   \n",
       "..                  ...                  ...   \n",
       "478  archiva-components      spring-apacheds   \n",
       "479  archiva-components      spring-registry   \n",
       "480  archiva-components        spring-quartz   \n",
       "481  archiva-components            rest-util   \n",
       "482  archiva-components                graph   \n",
       "\n",
       "                                                labels   \n",
       "0    ['3D computer graphics', '3D modeling', 'Bayes...  \\\n",
       "1    ['3D computer graphics', '3D modeling', 'Bayes...   \n",
       "2    ['3D computer graphics', '3D modeling', 'Bayes...   \n",
       "3    ['3D computer graphics', '3D modeling', 'Bayes...   \n",
       "4    ['3D computer graphics', '3D modeling', 'Bayes...   \n",
       "..                                                 ...   \n",
       "478  ['3D computer graphics', '3D modeling', 'Bayes...   \n",
       "479  ['3D computer graphics', '3D modeling', 'Bayes...   \n",
       "480  ['3D computer graphics', '3D modeling', 'Bayes...   \n",
       "481  ['3D computer graphics', '3D modeling', 'Bayes...   \n",
       "482  ['3D computer graphics', '3D modeling', 'Bayes...   \n",
       "\n",
       "                                          distribution  \n",
       "0    [0.0, 0.0, 0.0, 0.0, 0.0, 0.0, 0.0358421722524...  \n",
       "1    [0.003827634543563279, 0.0007640459047594847, ...  \n",
       "2    [0.0, 0.0, 0.0, 0.0, 0.0, 0.002485344724677403...  \n",
       "3    [0.0, 0.0, 0.0, 0.0, 0.0, 0.0, 0.1949338529501...  \n",
       "4    [0.0, 0.0, 0.0, 0.0, 0.0, 0.0, 0.0785512761148...  \n",
       "..                                                 ...  \n",
       "478  [0.0, 0.0, 0.0, 0.0, 0.0, 0.0, 0.1170141864804...  \n",
       "479  [0.0, 0.0, 0.0, 0.0, 0.0, 0.0, 0.0535558945145...  \n",
       "480  [0.0, 0.028540502180797137, 0.0, 0.0, 0.0, 0.0...  \n",
       "481  [0.0, 0.0, 0.0, 0.0, 0.0, 0.04058421758514396,...  \n",
       "482  [0.0, 0.0, 0.0, 0.0, 0.0, 0.0, 0.0, 0.01627233...  \n",
       "\n",
       "[483 rows x 4 columns]"
      ]
     },
     "execution_count": 2,
     "metadata": {},
     "output_type": "execute_result"
    }
   ],
   "source": [
    "anno_df = pd.read_csv(\"module_annotation.csv\")\n",
    "anno_sub_df = anno_df[[\"labels\", \"distribution\"]]\n",
    "anno_df"
   ]
  },
  {
   "cell_type": "code",
   "execution_count": 3,
   "metadata": {},
   "outputs": [],
   "source": [
    "# unify the project names\n",
    "proj_list_b = list(dict.fromkeys(topics_df['project_name']))\n",
    "proj_list_a = list(dict.fromkeys(anno_df['project']))\n",
    "to_chg = dict(zip(proj_list_a, proj_list_b))\n"
   ]
  },
  {
   "cell_type": "code",
   "execution_count": 4,
   "metadata": {},
   "outputs": [],
   "source": [
    "import ast\n",
    "\n",
    "updated_rows = []\n",
    "\n",
    "for row in anno_sub_df.values:\n",
    "\n",
    "    updated_labels = []\n",
    "    updated_dist = []\n",
    "    this_row = []\n",
    "\n",
    "    labels = row[0]\n",
    "    values = row[1]\n",
    "\n",
    "    labels = ast.literal_eval(labels)\n",
    "    values = ast.literal_eval(values)\n",
    "\n",
    "    for i, l in enumerate(labels):\n",
    "        if float(values[i]) > 0:\n",
    "            this_row.append((l,values[i]))\n",
    "\n",
    "    for vals in this_row:\n",
    "        updated_labels.append(vals[0])\n",
    "        updated_dist.append(vals[1])\n",
    "\n",
    "    updated_rows.append((updated_labels, updated_dist))"
   ]
  },
  {
   "cell_type": "code",
   "execution_count": 5,
   "metadata": {},
   "outputs": [
    {
     "data": {
      "text/html": [
       "<div>\n",
       "<style scoped>\n",
       "    .dataframe tbody tr th:only-of-type {\n",
       "        vertical-align: middle;\n",
       "    }\n",
       "\n",
       "    .dataframe tbody tr th {\n",
       "        vertical-align: top;\n",
       "    }\n",
       "\n",
       "    .dataframe thead th {\n",
       "        text-align: right;\n",
       "    }\n",
       "</style>\n",
       "<table border=\"1\" class=\"dataframe\">\n",
       "  <thead>\n",
       "    <tr style=\"text-align: right;\">\n",
       "      <th></th>\n",
       "      <th>project_name</th>\n",
       "      <th>module</th>\n",
       "      <th>domains</th>\n",
       "      <th>prob_dist</th>\n",
       "    </tr>\n",
       "  </thead>\n",
       "  <tbody>\n",
       "    <tr>\n",
       "      <th>0</th>\n",
       "      <td>01_dubbo</td>\n",
       "      <td>dubbo-configcenter</td>\n",
       "      <td>[File Transfer Protocol, HTTP client, HTTP ser...</td>\n",
       "      <td>[0.035842172252428264, 0.040560328491004986, 0...</td>\n",
       "    </tr>\n",
       "    <tr>\n",
       "      <th>1</th>\n",
       "      <td>01_dubbo</td>\n",
       "      <td>dubbo-remoting</td>\n",
       "      <td>[3D computer graphics, 3D modeling, File Trans...</td>\n",
       "      <td>[0.003827634543563279, 0.0007640459047594847, ...</td>\n",
       "    </tr>\n",
       "    <tr>\n",
       "      <th>2</th>\n",
       "      <td>01_dubbo</td>\n",
       "      <td>dubbo-spring-boot</td>\n",
       "      <td>[DevOps, File Transfer Protocol, HTTP client, ...</td>\n",
       "      <td>[0.0024853447246774036, 0.011500804409850242, ...</td>\n",
       "    </tr>\n",
       "    <tr>\n",
       "      <th>3</th>\n",
       "      <td>01_dubbo</td>\n",
       "      <td>dubbo-serialization</td>\n",
       "      <td>[File Transfer Protocol, HTTP client, HTTP ser...</td>\n",
       "      <td>[0.1949338529501777, 0.014838969973809206, 0.0...</td>\n",
       "    </tr>\n",
       "    <tr>\n",
       "      <th>4</th>\n",
       "      <td>01_dubbo</td>\n",
       "      <td>dubbo-native</td>\n",
       "      <td>[File Transfer Protocol, HTTP client, HTTP ser...</td>\n",
       "      <td>[0.07855127611486389, 0.171984535082097, 0.271...</td>\n",
       "    </tr>\n",
       "    <tr>\n",
       "      <th>...</th>\n",
       "      <td>...</td>\n",
       "      <td>...</td>\n",
       "      <td>...</td>\n",
       "      <td>...</td>\n",
       "    </tr>\n",
       "    <tr>\n",
       "      <th>478</th>\n",
       "      <td>45_archiva-components</td>\n",
       "      <td>spring-apacheds</td>\n",
       "      <td>[File Transfer Protocol, HTTP server, World Wi...</td>\n",
       "      <td>[0.11701418648043749, 0.2335993974088256, 0.05...</td>\n",
       "    </tr>\n",
       "    <tr>\n",
       "      <th>479</th>\n",
       "      <td>45_archiva-components</td>\n",
       "      <td>spring-registry</td>\n",
       "      <td>[File Transfer Protocol, HTTP server, World Wi...</td>\n",
       "      <td>[0.05355589451454959, 0.030031248756518632, 0....</td>\n",
       "    </tr>\n",
       "    <tr>\n",
       "      <th>480</th>\n",
       "      <td>45_archiva-components</td>\n",
       "      <td>spring-quartz</td>\n",
       "      <td>[3D modeling, Web Components, World Wide Web, ...</td>\n",
       "      <td>[0.028540502180797137, 0.014346165183265333, 0...</td>\n",
       "    </tr>\n",
       "    <tr>\n",
       "      <th>481</th>\n",
       "      <td>45_archiva-components</td>\n",
       "      <td>rest-util</td>\n",
       "      <td>[DevOps, World Wide Web, algorithmic trading, ...</td>\n",
       "      <td>[0.04058421758514396, 0.14341622866869835, 0.0...</td>\n",
       "    </tr>\n",
       "    <tr>\n",
       "      <th>482</th>\n",
       "      <td>45_archiva-components</td>\n",
       "      <td>graph</td>\n",
       "      <td>[HTTP client, HTTP server, Image analysis, Web...</td>\n",
       "      <td>[0.016272334340833142, 0.02568102255273687, 0....</td>\n",
       "    </tr>\n",
       "  </tbody>\n",
       "</table>\n",
       "<p>483 rows × 4 columns</p>\n",
       "</div>"
      ],
      "text/plain": [
       "              project_name               module   \n",
       "0                 01_dubbo   dubbo-configcenter  \\\n",
       "1                 01_dubbo       dubbo-remoting   \n",
       "2                 01_dubbo    dubbo-spring-boot   \n",
       "3                 01_dubbo  dubbo-serialization   \n",
       "4                 01_dubbo         dubbo-native   \n",
       "..                     ...                  ...   \n",
       "478  45_archiva-components      spring-apacheds   \n",
       "479  45_archiva-components      spring-registry   \n",
       "480  45_archiva-components        spring-quartz   \n",
       "481  45_archiva-components            rest-util   \n",
       "482  45_archiva-components                graph   \n",
       "\n",
       "                                               domains   \n",
       "0    [File Transfer Protocol, HTTP client, HTTP ser...  \\\n",
       "1    [3D computer graphics, 3D modeling, File Trans...   \n",
       "2    [DevOps, File Transfer Protocol, HTTP client, ...   \n",
       "3    [File Transfer Protocol, HTTP client, HTTP ser...   \n",
       "4    [File Transfer Protocol, HTTP client, HTTP ser...   \n",
       "..                                                 ...   \n",
       "478  [File Transfer Protocol, HTTP server, World Wi...   \n",
       "479  [File Transfer Protocol, HTTP server, World Wi...   \n",
       "480  [3D modeling, Web Components, World Wide Web, ...   \n",
       "481  [DevOps, World Wide Web, algorithmic trading, ...   \n",
       "482  [HTTP client, HTTP server, Image analysis, Web...   \n",
       "\n",
       "                                             prob_dist  \n",
       "0    [0.035842172252428264, 0.040560328491004986, 0...  \n",
       "1    [0.003827634543563279, 0.0007640459047594847, ...  \n",
       "2    [0.0024853447246774036, 0.011500804409850242, ...  \n",
       "3    [0.1949338529501777, 0.014838969973809206, 0.0...  \n",
       "4    [0.07855127611486389, 0.171984535082097, 0.271...  \n",
       "..                                                 ...  \n",
       "478  [0.11701418648043749, 0.2335993974088256, 0.05...  \n",
       "479  [0.05355589451454959, 0.030031248756518632, 0....  \n",
       "480  [0.028540502180797137, 0.014346165183265333, 0...  \n",
       "481  [0.04058421758514396, 0.14341622866869835, 0.0...  \n",
       "482  [0.016272334340833142, 0.02568102255273687, 0....  \n",
       "\n",
       "[483 rows x 4 columns]"
      ]
     },
     "execution_count": 5,
     "metadata": {},
     "output_type": "execute_result"
    }
   ],
   "source": [
    "updated_anno_df = pd.concat([anno_df, pd.DataFrame(updated_rows, columns=[\"domains\", \"prob_dist\"])], axis=1).drop(columns=[\"labels\",\"distribution\"])\n",
    "updated_anno_df['project_name'] = updated_anno_df['project'].apply(lambda x: to_chg[x])\n",
    "updated_anno_df['module'] = updated_anno_df['module'].str.replace(\"modules\", \"modules\\\\vfs-class-loader\")\n",
    "updated_anno_df = updated_anno_df[['project_name', 'module', 'domains', 'prob_dist']]\n",
    "updated_anno_df"
   ]
  },
  {
   "cell_type": "code",
   "execution_count": 6,
   "metadata": {},
   "outputs": [
    {
     "name": "stdout",
     "output_type": "stream",
     "text": [
      "<class 'pandas.core.frame.DataFrame'>\n",
      "RangeIndex: 483 entries, 0 to 482\n",
      "Data columns (total 4 columns):\n",
      " #   Column        Non-Null Count  Dtype \n",
      "---  ------        --------------  ----- \n",
      " 0   project_name  483 non-null    object\n",
      " 1   module        483 non-null    object\n",
      " 2   domains       483 non-null    object\n",
      " 3   prob_dist     483 non-null    object\n",
      "dtypes: object(4)\n",
      "memory usage: 15.2+ KB\n"
     ]
    }
   ],
   "source": [
    "updated_anno_df.info()"
   ]
  },
  {
   "cell_type": "code",
   "execution_count": 7,
   "metadata": {},
   "outputs": [
    {
     "data": {
      "text/html": [
       "<div>\n",
       "<style scoped>\n",
       "    .dataframe tbody tr th:only-of-type {\n",
       "        vertical-align: middle;\n",
       "    }\n",
       "\n",
       "    .dataframe tbody tr th {\n",
       "        vertical-align: top;\n",
       "    }\n",
       "\n",
       "    .dataframe thead th {\n",
       "        text-align: right;\n",
       "    }\n",
       "</style>\n",
       "<table border=\"1\" class=\"dataframe\">\n",
       "  <thead>\n",
       "    <tr style=\"text-align: right;\">\n",
       "      <th></th>\n",
       "      <th>project_name</th>\n",
       "      <th>module</th>\n",
       "      <th>code_num_topics</th>\n",
       "      <th>test_num_topics</th>\n",
       "      <th>code_shown_topics</th>\n",
       "      <th>code_topics</th>\n",
       "      <th>test_shown_topics</th>\n",
       "      <th>test_topics</th>\n",
       "      <th>doc_num_topics</th>\n",
       "      <th>doc_shown_topics</th>\n",
       "      <th>doc_topics</th>\n",
       "      <th>domains</th>\n",
       "      <th>prob_dist</th>\n",
       "    </tr>\n",
       "  </thead>\n",
       "  <tbody>\n",
       "    <tr>\n",
       "      <th>0</th>\n",
       "      <td>01_dubbo</td>\n",
       "      <td>dubbo-cluster</td>\n",
       "      <td>9</td>\n",
       "      <td>6</td>\n",
       "      <td>[(0, [('merger', 0.11644696), ('model', 0.0760...</td>\n",
       "      <td>[['merger', 'model', 'scope', 'aware', 'end', ...</td>\n",
       "      <td>[(0, [('invoker', 0.10217771), ('hello', 0.059...</td>\n",
       "      <td>[['invoker', 'hello', 'menu', 'service', 'load...</td>\n",
       "      <td>8</td>\n",
       "      <td>[(0, [('service', 0.005111123), ('see', 0.0051...</td>\n",
       "      <td>[['service', 'see', 'issue', 'sample', 'projec...</td>\n",
       "      <td>[Bayesian inference, Containerization, File Tr...</td>\n",
       "      <td>[0.0006186695022802121, 0.001075709038256659, ...</td>\n",
       "    </tr>\n",
       "    <tr>\n",
       "      <th>1</th>\n",
       "      <td>01_dubbo</td>\n",
       "      <td>dubbo-common</td>\n",
       "      <td>9</td>\n",
       "      <td>9</td>\n",
       "      <td>[(0, [('map', 0.071077), ('extension', 0.05852...</td>\n",
       "      <td>[['map', 'extension', 'loader', 'property', 'm...</td>\n",
       "      <td>[(0, [('address', 0.07335682), ('country', 0.0...</td>\n",
       "      <td>[['address', 'country', 'phone', 'full', 'size...</td>\n",
       "      <td>8</td>\n",
       "      <td>[(0, [('service', 0.005111123), ('see', 0.0051...</td>\n",
       "      <td>[['service', 'see', 'issue', 'sample', 'projec...</td>\n",
       "      <td>[3D computer graphics, 3D modeling, Bidirectio...</td>\n",
       "      <td>[0.00022489652756263503, 0.019850776647796192,...</td>\n",
       "    </tr>\n",
       "    <tr>\n",
       "      <th>2</th>\n",
       "      <td>01_dubbo</td>\n",
       "      <td>dubbo-compatible</td>\n",
       "      <td>8</td>\n",
       "      <td>9</td>\n",
       "      <td>[(0, [('invocation', 0.17978409), ('invoker', ...</td>\n",
       "      <td>[['invocation', 'invoker', 'attachment', 'argu...</td>\n",
       "      <td>[(0, [('consumer', 0.08403326), ('service', 0....</td>\n",
       "      <td>[['consumer', 'service', 'argument', 'applicat...</td>\n",
       "      <td>8</td>\n",
       "      <td>[(0, [('service', 0.005111123), ('see', 0.0051...</td>\n",
       "      <td>[['service', 'see', 'issue', 'sample', 'projec...</td>\n",
       "      <td>[Bayesian inference, File Transfer Protocol, H...</td>\n",
       "      <td>[0.0014187991538512738, 0.040202071048378446, ...</td>\n",
       "    </tr>\n",
       "    <tr>\n",
       "      <th>3</th>\n",
       "      <td>01_dubbo</td>\n",
       "      <td>dubbo-config</td>\n",
       "      <td>7</td>\n",
       "      <td>8</td>\n",
       "      <td>[(0, [('application', 0.19198503), ('model', 0...</td>\n",
       "      <td>[['application', 'model', 'module', 'context',...</td>\n",
       "      <td>[(0, [('box', 0.0995611), ('service', 0.097135...</td>\n",
       "      <td>[['box', 'service', 'demo', 'user', 'say', 'im...</td>\n",
       "      <td>8</td>\n",
       "      <td>[(0, [('service', 0.005111123), ('see', 0.0051...</td>\n",
       "      <td>[['service', 'see', 'issue', 'sample', 'projec...</td>\n",
       "      <td>[3D modeling, Bayesian inference, Containeriza...</td>\n",
       "      <td>[0.005673695513894933, 0.0016755344658510142, ...</td>\n",
       "    </tr>\n",
       "    <tr>\n",
       "      <th>4</th>\n",
       "      <td>01_dubbo</td>\n",
       "      <td>dubbo-configcenter</td>\n",
       "      <td>6</td>\n",
       "      <td>7</td>\n",
       "      <td>[(0, [('dynamic', 0.2249236), ('factory', 0.12...</td>\n",
       "      <td>[['dynamic', 'factory', 'url', 'zookeeper', 'a...</td>\n",
       "      <td>[(0, [('namespace', 0.01471425), ('map', 0.014...</td>\n",
       "      <td>[['namespace', 'map', 'context', 'mock', 'prop...</td>\n",
       "      <td>8</td>\n",
       "      <td>[(0, [('service', 0.005111123), ('see', 0.0051...</td>\n",
       "      <td>[['service', 'see', 'issue', 'sample', 'projec...</td>\n",
       "      <td>[File Transfer Protocol, HTTP client, HTTP ser...</td>\n",
       "      <td>[0.035842172252428264, 0.040560328491004986, 0...</td>\n",
       "    </tr>\n",
       "    <tr>\n",
       "      <th>...</th>\n",
       "      <td>...</td>\n",
       "      <td>...</td>\n",
       "      <td>...</td>\n",
       "      <td>...</td>\n",
       "      <td>...</td>\n",
       "      <td>...</td>\n",
       "      <td>...</td>\n",
       "      <td>...</td>\n",
       "      <td>...</td>\n",
       "      <td>...</td>\n",
       "      <td>...</td>\n",
       "      <td>...</td>\n",
       "      <td>...</td>\n",
       "    </tr>\n",
       "    <tr>\n",
       "      <th>308</th>\n",
       "      <td>45_archiva-components</td>\n",
       "      <td>spring-apacheds</td>\n",
       "      <td>9</td>\n",
       "      <td>1</td>\n",
       "      <td>[(0, [('partition', 0.038462438), ('context', ...</td>\n",
       "      <td>[['partition', 'context', 'password', 'port', ...</td>\n",
       "      <td>[(0, [('context', 0.21739134), ('create', 0.13...</td>\n",
       "      <td>[['context', 'create', 'dir', 'attribute', 'ba...</td>\n",
       "      <td>8</td>\n",
       "      <td>[(0, [('publish', 0.008338352), ('mvn', 0.0083...</td>\n",
       "      <td>[['publish', 'mvn', 'repository', 'checkout', ...</td>\n",
       "      <td>[File Transfer Protocol, HTTP server, World Wi...</td>\n",
       "      <td>[0.11701418648043749, 0.2335993974088256, 0.05...</td>\n",
       "    </tr>\n",
       "    <tr>\n",
       "      <th>309</th>\n",
       "      <td>45_archiva-components</td>\n",
       "      <td>spring-cache</td>\n",
       "      <td>6</td>\n",
       "      <td>3</td>\n",
       "      <td>[(0, [('cache', 0.3110731), ('creator', 0.1051...</td>\n",
       "      <td>[['cache', 'creator', 'hint', 'factory', 'key'...</td>\n",
       "      <td>[(0, [('cache', 0.3525324), ('refre', 0.102800...</td>\n",
       "      <td>[['cache', 'refre', 'wine', 'second', 'never',...</td>\n",
       "      <td>8</td>\n",
       "      <td>[(0, [('publish', 0.008338352), ('mvn', 0.0083...</td>\n",
       "      <td>[['publish', 'mvn', 'repository', 'checkout', ...</td>\n",
       "      <td>[3D modeling, File Transfer Protocol, HTTP ser...</td>\n",
       "      <td>[0.004910765950067891, 0.020708469498936777, 0...</td>\n",
       "    </tr>\n",
       "    <tr>\n",
       "      <th>310</th>\n",
       "      <td>45_archiva-components</td>\n",
       "      <td>spring-quartz</td>\n",
       "      <td>8</td>\n",
       "      <td>4</td>\n",
       "      <td>[(0, [('job', 0.29270846), ('context', 0.07773...</td>\n",
       "      <td>[['job', 'context', 'execution', 'map', 'liste...</td>\n",
       "      <td>[(0, [('job', 0.24515942), ('context', 0.16984...</td>\n",
       "      <td>[['job', 'context', 'one', 'execution', 'execu...</td>\n",
       "      <td>8</td>\n",
       "      <td>[(0, [('publish', 0.008338352), ('mvn', 0.0083...</td>\n",
       "      <td>[['publish', 'mvn', 'repository', 'checkout', ...</td>\n",
       "      <td>[3D modeling, Web Components, World Wide Web, ...</td>\n",
       "      <td>[0.028540502180797137, 0.014346165183265333, 0...</td>\n",
       "    </tr>\n",
       "    <tr>\n",
       "      <th>311</th>\n",
       "      <td>45_archiva-components</td>\n",
       "      <td>spring-registry</td>\n",
       "      <td>9</td>\n",
       "      <td>6</td>\n",
       "      <td>[(0, [('key', 0.1410248), ('registry', 0.08333...</td>\n",
       "      <td>[['key', 'registry', 'builder', 'add', 'save',...</td>\n",
       "      <td>[(0, [('registry', 0.024453199), ('property', ...</td>\n",
       "      <td>[['registry', 'property', 'change', 'event', '...</td>\n",
       "      <td>8</td>\n",
       "      <td>[(0, [('publish', 0.008338352), ('mvn', 0.0083...</td>\n",
       "      <td>[['publish', 'mvn', 'repository', 'checkout', ...</td>\n",
       "      <td>[File Transfer Protocol, HTTP server, World Wi...</td>\n",
       "      <td>[0.05355589451454959, 0.030031248756518632, 0....</td>\n",
       "    </tr>\n",
       "    <tr>\n",
       "      <th>312</th>\n",
       "      <td>45_archiva-components</td>\n",
       "      <td>spring-taskqueue</td>\n",
       "      <td>3</td>\n",
       "      <td>5</td>\n",
       "      <td>[(0, [('task', 0.33837277), ('evaluator', 0.12...</td>\n",
       "      <td>[['task', 'evaluator', 'queue', 'executor', 'e...</td>\n",
       "      <td>[(0, [('task', 0.32901022), ('evaluator', 0.10...</td>\n",
       "      <td>[['task', 'evaluator', 'evaluate', 'project', ...</td>\n",
       "      <td>8</td>\n",
       "      <td>[(0, [('publish', 0.008338352), ('mvn', 0.0083...</td>\n",
       "      <td>[['publish', 'mvn', 'repository', 'checkout', ...</td>\n",
       "      <td>[HTTP client, HTTP server, Web Components, Wor...</td>\n",
       "      <td>[0.024542570908181953, 0.021938531171453578, 0...</td>\n",
       "    </tr>\n",
       "  </tbody>\n",
       "</table>\n",
       "<p>313 rows × 13 columns</p>\n",
       "</div>"
      ],
      "text/plain": [
       "              project_name              module  code_num_topics   \n",
       "0                 01_dubbo       dubbo-cluster                9  \\\n",
       "1                 01_dubbo        dubbo-common                9   \n",
       "2                 01_dubbo    dubbo-compatible                8   \n",
       "3                 01_dubbo        dubbo-config                7   \n",
       "4                 01_dubbo  dubbo-configcenter                6   \n",
       "..                     ...                 ...              ...   \n",
       "308  45_archiva-components     spring-apacheds                9   \n",
       "309  45_archiva-components        spring-cache                6   \n",
       "310  45_archiva-components       spring-quartz                8   \n",
       "311  45_archiva-components     spring-registry                9   \n",
       "312  45_archiva-components    spring-taskqueue                3   \n",
       "\n",
       "     test_num_topics                                  code_shown_topics   \n",
       "0                  6  [(0, [('merger', 0.11644696), ('model', 0.0760...  \\\n",
       "1                  9  [(0, [('map', 0.071077), ('extension', 0.05852...   \n",
       "2                  9  [(0, [('invocation', 0.17978409), ('invoker', ...   \n",
       "3                  8  [(0, [('application', 0.19198503), ('model', 0...   \n",
       "4                  7  [(0, [('dynamic', 0.2249236), ('factory', 0.12...   \n",
       "..               ...                                                ...   \n",
       "308                1  [(0, [('partition', 0.038462438), ('context', ...   \n",
       "309                3  [(0, [('cache', 0.3110731), ('creator', 0.1051...   \n",
       "310                4  [(0, [('job', 0.29270846), ('context', 0.07773...   \n",
       "311                6  [(0, [('key', 0.1410248), ('registry', 0.08333...   \n",
       "312                5  [(0, [('task', 0.33837277), ('evaluator', 0.12...   \n",
       "\n",
       "                                           code_topics   \n",
       "0    [['merger', 'model', 'scope', 'aware', 'end', ...  \\\n",
       "1    [['map', 'extension', 'loader', 'property', 'm...   \n",
       "2    [['invocation', 'invoker', 'attachment', 'argu...   \n",
       "3    [['application', 'model', 'module', 'context',...   \n",
       "4    [['dynamic', 'factory', 'url', 'zookeeper', 'a...   \n",
       "..                                                 ...   \n",
       "308  [['partition', 'context', 'password', 'port', ...   \n",
       "309  [['cache', 'creator', 'hint', 'factory', 'key'...   \n",
       "310  [['job', 'context', 'execution', 'map', 'liste...   \n",
       "311  [['key', 'registry', 'builder', 'add', 'save',...   \n",
       "312  [['task', 'evaluator', 'queue', 'executor', 'e...   \n",
       "\n",
       "                                     test_shown_topics   \n",
       "0    [(0, [('invoker', 0.10217771), ('hello', 0.059...  \\\n",
       "1    [(0, [('address', 0.07335682), ('country', 0.0...   \n",
       "2    [(0, [('consumer', 0.08403326), ('service', 0....   \n",
       "3    [(0, [('box', 0.0995611), ('service', 0.097135...   \n",
       "4    [(0, [('namespace', 0.01471425), ('map', 0.014...   \n",
       "..                                                 ...   \n",
       "308  [(0, [('context', 0.21739134), ('create', 0.13...   \n",
       "309  [(0, [('cache', 0.3525324), ('refre', 0.102800...   \n",
       "310  [(0, [('job', 0.24515942), ('context', 0.16984...   \n",
       "311  [(0, [('registry', 0.024453199), ('property', ...   \n",
       "312  [(0, [('task', 0.32901022), ('evaluator', 0.10...   \n",
       "\n",
       "                                           test_topics  doc_num_topics   \n",
       "0    [['invoker', 'hello', 'menu', 'service', 'load...               8  \\\n",
       "1    [['address', 'country', 'phone', 'full', 'size...               8   \n",
       "2    [['consumer', 'service', 'argument', 'applicat...               8   \n",
       "3    [['box', 'service', 'demo', 'user', 'say', 'im...               8   \n",
       "4    [['namespace', 'map', 'context', 'mock', 'prop...               8   \n",
       "..                                                 ...             ...   \n",
       "308  [['context', 'create', 'dir', 'attribute', 'ba...               8   \n",
       "309  [['cache', 'refre', 'wine', 'second', 'never',...               8   \n",
       "310  [['job', 'context', 'one', 'execution', 'execu...               8   \n",
       "311  [['registry', 'property', 'change', 'event', '...               8   \n",
       "312  [['task', 'evaluator', 'evaluate', 'project', ...               8   \n",
       "\n",
       "                                      doc_shown_topics   \n",
       "0    [(0, [('service', 0.005111123), ('see', 0.0051...  \\\n",
       "1    [(0, [('service', 0.005111123), ('see', 0.0051...   \n",
       "2    [(0, [('service', 0.005111123), ('see', 0.0051...   \n",
       "3    [(0, [('service', 0.005111123), ('see', 0.0051...   \n",
       "4    [(0, [('service', 0.005111123), ('see', 0.0051...   \n",
       "..                                                 ...   \n",
       "308  [(0, [('publish', 0.008338352), ('mvn', 0.0083...   \n",
       "309  [(0, [('publish', 0.008338352), ('mvn', 0.0083...   \n",
       "310  [(0, [('publish', 0.008338352), ('mvn', 0.0083...   \n",
       "311  [(0, [('publish', 0.008338352), ('mvn', 0.0083...   \n",
       "312  [(0, [('publish', 0.008338352), ('mvn', 0.0083...   \n",
       "\n",
       "                                            doc_topics   \n",
       "0    [['service', 'see', 'issue', 'sample', 'projec...  \\\n",
       "1    [['service', 'see', 'issue', 'sample', 'projec...   \n",
       "2    [['service', 'see', 'issue', 'sample', 'projec...   \n",
       "3    [['service', 'see', 'issue', 'sample', 'projec...   \n",
       "4    [['service', 'see', 'issue', 'sample', 'projec...   \n",
       "..                                                 ...   \n",
       "308  [['publish', 'mvn', 'repository', 'checkout', ...   \n",
       "309  [['publish', 'mvn', 'repository', 'checkout', ...   \n",
       "310  [['publish', 'mvn', 'repository', 'checkout', ...   \n",
       "311  [['publish', 'mvn', 'repository', 'checkout', ...   \n",
       "312  [['publish', 'mvn', 'repository', 'checkout', ...   \n",
       "\n",
       "                                               domains   \n",
       "0    [Bayesian inference, Containerization, File Tr...  \\\n",
       "1    [3D computer graphics, 3D modeling, Bidirectio...   \n",
       "2    [Bayesian inference, File Transfer Protocol, H...   \n",
       "3    [3D modeling, Bayesian inference, Containeriza...   \n",
       "4    [File Transfer Protocol, HTTP client, HTTP ser...   \n",
       "..                                                 ...   \n",
       "308  [File Transfer Protocol, HTTP server, World Wi...   \n",
       "309  [3D modeling, File Transfer Protocol, HTTP ser...   \n",
       "310  [3D modeling, Web Components, World Wide Web, ...   \n",
       "311  [File Transfer Protocol, HTTP server, World Wi...   \n",
       "312  [HTTP client, HTTP server, Web Components, Wor...   \n",
       "\n",
       "                                             prob_dist  \n",
       "0    [0.0006186695022802121, 0.001075709038256659, ...  \n",
       "1    [0.00022489652756263503, 0.019850776647796192,...  \n",
       "2    [0.0014187991538512738, 0.040202071048378446, ...  \n",
       "3    [0.005673695513894933, 0.0016755344658510142, ...  \n",
       "4    [0.035842172252428264, 0.040560328491004986, 0...  \n",
       "..                                                 ...  \n",
       "308  [0.11701418648043749, 0.2335993974088256, 0.05...  \n",
       "309  [0.004910765950067891, 0.020708469498936777, 0...  \n",
       "310  [0.028540502180797137, 0.014346165183265333, 0...  \n",
       "311  [0.05355589451454959, 0.030031248756518632, 0....  \n",
       "312  [0.024542570908181953, 0.021938531171453578, 0...  \n",
       "\n",
       "[313 rows x 13 columns]"
      ]
     },
     "execution_count": 7,
     "metadata": {},
     "output_type": "execute_result"
    }
   ],
   "source": [
    "module_df = topics_df.merge(updated_anno_df, on=['project_name', 'module'])\n",
    "module_df"
   ]
  },
  {
   "cell_type": "code",
   "execution_count": 8,
   "metadata": {},
   "outputs": [
    {
     "data": {
      "text/html": [
       "<div>\n",
       "<style scoped>\n",
       "    .dataframe tbody tr th:only-of-type {\n",
       "        vertical-align: middle;\n",
       "    }\n",
       "\n",
       "    .dataframe tbody tr th {\n",
       "        vertical-align: top;\n",
       "    }\n",
       "\n",
       "    .dataframe thead th {\n",
       "        text-align: right;\n",
       "    }\n",
       "</style>\n",
       "<table border=\"1\" class=\"dataframe\">\n",
       "  <thead>\n",
       "    <tr style=\"text-align: right;\">\n",
       "      <th></th>\n",
       "      <th>project_name</th>\n",
       "      <th>module</th>\n",
       "      <th>code_num_topics</th>\n",
       "      <th>test_num_topics</th>\n",
       "      <th>code_shown_topics</th>\n",
       "      <th>code_topics</th>\n",
       "      <th>test_shown_topics</th>\n",
       "      <th>test_topics</th>\n",
       "      <th>doc_num_topics</th>\n",
       "      <th>doc_shown_topics</th>\n",
       "      <th>doc_topics</th>\n",
       "      <th>domains</th>\n",
       "      <th>prob_dist</th>\n",
       "    </tr>\n",
       "  </thead>\n",
       "  <tbody>\n",
       "    <tr>\n",
       "      <th>0</th>\n",
       "      <td>01_dubbo</td>\n",
       "      <td>dubbo-cluster</td>\n",
       "      <td>9</td>\n",
       "      <td>6</td>\n",
       "      <td>[(0, [('merger', 0.11644696), ('model', 0.0760...</td>\n",
       "      <td>[['merger', 'model', 'scope', 'aware', 'end', ...</td>\n",
       "      <td>[(0, [('invoker', 0.10217771), ('hello', 0.059...</td>\n",
       "      <td>[['invoker', 'hello', 'menu', 'service', 'load...</td>\n",
       "      <td>8</td>\n",
       "      <td>[(0, [('service', 0.005111123), ('see', 0.0051...</td>\n",
       "      <td>[['service', 'see', 'issue', 'sample', 'projec...</td>\n",
       "      <td>[Bayesian inference, Containerization, File Tr...</td>\n",
       "      <td>[0.0006186695022802121, 0.001075709038256659, ...</td>\n",
       "    </tr>\n",
       "    <tr>\n",
       "      <th>1</th>\n",
       "      <td>01_dubbo</td>\n",
       "      <td>dubbo-common</td>\n",
       "      <td>9</td>\n",
       "      <td>9</td>\n",
       "      <td>[(0, [('map', 0.071077), ('extension', 0.05852...</td>\n",
       "      <td>[['map', 'extension', 'loader', 'property', 'm...</td>\n",
       "      <td>[(0, [('address', 0.07335682), ('country', 0.0...</td>\n",
       "      <td>[['address', 'country', 'phone', 'full', 'size...</td>\n",
       "      <td>8</td>\n",
       "      <td>[(0, [('service', 0.005111123), ('see', 0.0051...</td>\n",
       "      <td>[['service', 'see', 'issue', 'sample', 'projec...</td>\n",
       "      <td>[3D computer graphics, 3D modeling, Bidirectio...</td>\n",
       "      <td>[0.00022489652756263503, 0.019850776647796192,...</td>\n",
       "    </tr>\n",
       "    <tr>\n",
       "      <th>2</th>\n",
       "      <td>01_dubbo</td>\n",
       "      <td>dubbo-compatible</td>\n",
       "      <td>8</td>\n",
       "      <td>9</td>\n",
       "      <td>[(0, [('invocation', 0.17978409), ('invoker', ...</td>\n",
       "      <td>[['invocation', 'invoker', 'attachment', 'argu...</td>\n",
       "      <td>[(0, [('consumer', 0.08403326), ('service', 0....</td>\n",
       "      <td>[['consumer', 'service', 'argument', 'applicat...</td>\n",
       "      <td>8</td>\n",
       "      <td>[(0, [('service', 0.005111123), ('see', 0.0051...</td>\n",
       "      <td>[['service', 'see', 'issue', 'sample', 'projec...</td>\n",
       "      <td>[Bayesian inference, File Transfer Protocol, H...</td>\n",
       "      <td>[0.0014187991538512738, 0.040202071048378446, ...</td>\n",
       "    </tr>\n",
       "    <tr>\n",
       "      <th>3</th>\n",
       "      <td>01_dubbo</td>\n",
       "      <td>dubbo-config</td>\n",
       "      <td>7</td>\n",
       "      <td>8</td>\n",
       "      <td>[(0, [('application', 0.19198503), ('model', 0...</td>\n",
       "      <td>[['application', 'model', 'module', 'context',...</td>\n",
       "      <td>[(0, [('box', 0.0995611), ('service', 0.097135...</td>\n",
       "      <td>[['box', 'service', 'demo', 'user', 'say', 'im...</td>\n",
       "      <td>8</td>\n",
       "      <td>[(0, [('service', 0.005111123), ('see', 0.0051...</td>\n",
       "      <td>[['service', 'see', 'issue', 'sample', 'projec...</td>\n",
       "      <td>[3D modeling, Bayesian inference, Containeriza...</td>\n",
       "      <td>[0.005673695513894933, 0.0016755344658510142, ...</td>\n",
       "    </tr>\n",
       "    <tr>\n",
       "      <th>4</th>\n",
       "      <td>01_dubbo</td>\n",
       "      <td>dubbo-configcenter</td>\n",
       "      <td>6</td>\n",
       "      <td>7</td>\n",
       "      <td>[(0, [('dynamic', 0.2249236), ('factory', 0.12...</td>\n",
       "      <td>[['dynamic', 'factory', 'url', 'zookeeper', 'a...</td>\n",
       "      <td>[(0, [('namespace', 0.01471425), ('map', 0.014...</td>\n",
       "      <td>[['namespace', 'map', 'context', 'mock', 'prop...</td>\n",
       "      <td>8</td>\n",
       "      <td>[(0, [('service', 0.005111123), ('see', 0.0051...</td>\n",
       "      <td>[['service', 'see', 'issue', 'sample', 'projec...</td>\n",
       "      <td>[File Transfer Protocol, HTTP client, HTTP ser...</td>\n",
       "      <td>[0.035842172252428264, 0.040560328491004986, 0...</td>\n",
       "    </tr>\n",
       "  </tbody>\n",
       "</table>\n",
       "</div>"
      ],
      "text/plain": [
       "  project_name              module  code_num_topics  test_num_topics   \n",
       "0     01_dubbo       dubbo-cluster                9                6  \\\n",
       "1     01_dubbo        dubbo-common                9                9   \n",
       "2     01_dubbo    dubbo-compatible                8                9   \n",
       "3     01_dubbo        dubbo-config                7                8   \n",
       "4     01_dubbo  dubbo-configcenter                6                7   \n",
       "\n",
       "                                   code_shown_topics   \n",
       "0  [(0, [('merger', 0.11644696), ('model', 0.0760...  \\\n",
       "1  [(0, [('map', 0.071077), ('extension', 0.05852...   \n",
       "2  [(0, [('invocation', 0.17978409), ('invoker', ...   \n",
       "3  [(0, [('application', 0.19198503), ('model', 0...   \n",
       "4  [(0, [('dynamic', 0.2249236), ('factory', 0.12...   \n",
       "\n",
       "                                         code_topics   \n",
       "0  [['merger', 'model', 'scope', 'aware', 'end', ...  \\\n",
       "1  [['map', 'extension', 'loader', 'property', 'm...   \n",
       "2  [['invocation', 'invoker', 'attachment', 'argu...   \n",
       "3  [['application', 'model', 'module', 'context',...   \n",
       "4  [['dynamic', 'factory', 'url', 'zookeeper', 'a...   \n",
       "\n",
       "                                   test_shown_topics   \n",
       "0  [(0, [('invoker', 0.10217771), ('hello', 0.059...  \\\n",
       "1  [(0, [('address', 0.07335682), ('country', 0.0...   \n",
       "2  [(0, [('consumer', 0.08403326), ('service', 0....   \n",
       "3  [(0, [('box', 0.0995611), ('service', 0.097135...   \n",
       "4  [(0, [('namespace', 0.01471425), ('map', 0.014...   \n",
       "\n",
       "                                         test_topics  doc_num_topics   \n",
       "0  [['invoker', 'hello', 'menu', 'service', 'load...               8  \\\n",
       "1  [['address', 'country', 'phone', 'full', 'size...               8   \n",
       "2  [['consumer', 'service', 'argument', 'applicat...               8   \n",
       "3  [['box', 'service', 'demo', 'user', 'say', 'im...               8   \n",
       "4  [['namespace', 'map', 'context', 'mock', 'prop...               8   \n",
       "\n",
       "                                    doc_shown_topics   \n",
       "0  [(0, [('service', 0.005111123), ('see', 0.0051...  \\\n",
       "1  [(0, [('service', 0.005111123), ('see', 0.0051...   \n",
       "2  [(0, [('service', 0.005111123), ('see', 0.0051...   \n",
       "3  [(0, [('service', 0.005111123), ('see', 0.0051...   \n",
       "4  [(0, [('service', 0.005111123), ('see', 0.0051...   \n",
       "\n",
       "                                          doc_topics   \n",
       "0  [['service', 'see', 'issue', 'sample', 'projec...  \\\n",
       "1  [['service', 'see', 'issue', 'sample', 'projec...   \n",
       "2  [['service', 'see', 'issue', 'sample', 'projec...   \n",
       "3  [['service', 'see', 'issue', 'sample', 'projec...   \n",
       "4  [['service', 'see', 'issue', 'sample', 'projec...   \n",
       "\n",
       "                                             domains   \n",
       "0  [Bayesian inference, Containerization, File Tr...  \\\n",
       "1  [3D computer graphics, 3D modeling, Bidirectio...   \n",
       "2  [Bayesian inference, File Transfer Protocol, H...   \n",
       "3  [3D modeling, Bayesian inference, Containeriza...   \n",
       "4  [File Transfer Protocol, HTTP client, HTTP ser...   \n",
       "\n",
       "                                           prob_dist  \n",
       "0  [0.0006186695022802121, 0.001075709038256659, ...  \n",
       "1  [0.00022489652756263503, 0.019850776647796192,...  \n",
       "2  [0.0014187991538512738, 0.040202071048378446, ...  \n",
       "3  [0.005673695513894933, 0.0016755344658510142, ...  \n",
       "4  [0.035842172252428264, 0.040560328491004986, 0...  "
      ]
     },
     "execution_count": 8,
     "metadata": {},
     "output_type": "execute_result"
    }
   ],
   "source": [
    "module_df[:5]"
   ]
  },
  {
   "cell_type": "code",
   "execution_count": 9,
   "metadata": {},
   "outputs": [
    {
     "data": {
      "text/html": [
       "<div>\n",
       "<style scoped>\n",
       "    .dataframe tbody tr th:only-of-type {\n",
       "        vertical-align: middle;\n",
       "    }\n",
       "\n",
       "    .dataframe tbody tr th {\n",
       "        vertical-align: top;\n",
       "    }\n",
       "\n",
       "    .dataframe thead th {\n",
       "        text-align: right;\n",
       "    }\n",
       "</style>\n",
       "<table border=\"1\" class=\"dataframe\">\n",
       "  <thead>\n",
       "    <tr style=\"text-align: right;\">\n",
       "      <th></th>\n",
       "      <th>project_name</th>\n",
       "      <th>module</th>\n",
       "      <th>code_num_topics</th>\n",
       "      <th>test_num_topics</th>\n",
       "      <th>code_shown_topics</th>\n",
       "      <th>code_topics</th>\n",
       "      <th>test_shown_topics</th>\n",
       "      <th>test_topics</th>\n",
       "      <th>doc_num_topics</th>\n",
       "      <th>doc_shown_topics</th>\n",
       "      <th>doc_topics</th>\n",
       "      <th>domains</th>\n",
       "      <th>prob_dist</th>\n",
       "    </tr>\n",
       "  </thead>\n",
       "  <tbody>\n",
       "    <tr>\n",
       "      <th>308</th>\n",
       "      <td>45_archiva-components</td>\n",
       "      <td>spring-apacheds</td>\n",
       "      <td>9</td>\n",
       "      <td>1</td>\n",
       "      <td>[(0, [('partition', 0.038462438), ('context', ...</td>\n",
       "      <td>[['partition', 'context', 'password', 'port', ...</td>\n",
       "      <td>[(0, [('context', 0.21739134), ('create', 0.13...</td>\n",
       "      <td>[['context', 'create', 'dir', 'attribute', 'ba...</td>\n",
       "      <td>8</td>\n",
       "      <td>[(0, [('publish', 0.008338352), ('mvn', 0.0083...</td>\n",
       "      <td>[['publish', 'mvn', 'repository', 'checkout', ...</td>\n",
       "      <td>[File Transfer Protocol, HTTP server, World Wi...</td>\n",
       "      <td>[0.11701418648043749, 0.2335993974088256, 0.05...</td>\n",
       "    </tr>\n",
       "    <tr>\n",
       "      <th>309</th>\n",
       "      <td>45_archiva-components</td>\n",
       "      <td>spring-cache</td>\n",
       "      <td>6</td>\n",
       "      <td>3</td>\n",
       "      <td>[(0, [('cache', 0.3110731), ('creator', 0.1051...</td>\n",
       "      <td>[['cache', 'creator', 'hint', 'factory', 'key'...</td>\n",
       "      <td>[(0, [('cache', 0.3525324), ('refre', 0.102800...</td>\n",
       "      <td>[['cache', 'refre', 'wine', 'second', 'never',...</td>\n",
       "      <td>8</td>\n",
       "      <td>[(0, [('publish', 0.008338352), ('mvn', 0.0083...</td>\n",
       "      <td>[['publish', 'mvn', 'repository', 'checkout', ...</td>\n",
       "      <td>[3D modeling, File Transfer Protocol, HTTP ser...</td>\n",
       "      <td>[0.004910765950067891, 0.020708469498936777, 0...</td>\n",
       "    </tr>\n",
       "    <tr>\n",
       "      <th>310</th>\n",
       "      <td>45_archiva-components</td>\n",
       "      <td>spring-quartz</td>\n",
       "      <td>8</td>\n",
       "      <td>4</td>\n",
       "      <td>[(0, [('job', 0.29270846), ('context', 0.07773...</td>\n",
       "      <td>[['job', 'context', 'execution', 'map', 'liste...</td>\n",
       "      <td>[(0, [('job', 0.24515942), ('context', 0.16984...</td>\n",
       "      <td>[['job', 'context', 'one', 'execution', 'execu...</td>\n",
       "      <td>8</td>\n",
       "      <td>[(0, [('publish', 0.008338352), ('mvn', 0.0083...</td>\n",
       "      <td>[['publish', 'mvn', 'repository', 'checkout', ...</td>\n",
       "      <td>[3D modeling, Web Components, World Wide Web, ...</td>\n",
       "      <td>[0.028540502180797137, 0.014346165183265333, 0...</td>\n",
       "    </tr>\n",
       "    <tr>\n",
       "      <th>311</th>\n",
       "      <td>45_archiva-components</td>\n",
       "      <td>spring-registry</td>\n",
       "      <td>9</td>\n",
       "      <td>6</td>\n",
       "      <td>[(0, [('key', 0.1410248), ('registry', 0.08333...</td>\n",
       "      <td>[['key', 'registry', 'builder', 'add', 'save',...</td>\n",
       "      <td>[(0, [('registry', 0.024453199), ('property', ...</td>\n",
       "      <td>[['registry', 'property', 'change', 'event', '...</td>\n",
       "      <td>8</td>\n",
       "      <td>[(0, [('publish', 0.008338352), ('mvn', 0.0083...</td>\n",
       "      <td>[['publish', 'mvn', 'repository', 'checkout', ...</td>\n",
       "      <td>[File Transfer Protocol, HTTP server, World Wi...</td>\n",
       "      <td>[0.05355589451454959, 0.030031248756518632, 0....</td>\n",
       "    </tr>\n",
       "    <tr>\n",
       "      <th>312</th>\n",
       "      <td>45_archiva-components</td>\n",
       "      <td>spring-taskqueue</td>\n",
       "      <td>3</td>\n",
       "      <td>5</td>\n",
       "      <td>[(0, [('task', 0.33837277), ('evaluator', 0.12...</td>\n",
       "      <td>[['task', 'evaluator', 'queue', 'executor', 'e...</td>\n",
       "      <td>[(0, [('task', 0.32901022), ('evaluator', 0.10...</td>\n",
       "      <td>[['task', 'evaluator', 'evaluate', 'project', ...</td>\n",
       "      <td>8</td>\n",
       "      <td>[(0, [('publish', 0.008338352), ('mvn', 0.0083...</td>\n",
       "      <td>[['publish', 'mvn', 'repository', 'checkout', ...</td>\n",
       "      <td>[HTTP client, HTTP server, Web Components, Wor...</td>\n",
       "      <td>[0.024542570908181953, 0.021938531171453578, 0...</td>\n",
       "    </tr>\n",
       "  </tbody>\n",
       "</table>\n",
       "</div>"
      ],
      "text/plain": [
       "              project_name            module  code_num_topics   \n",
       "308  45_archiva-components   spring-apacheds                9  \\\n",
       "309  45_archiva-components      spring-cache                6   \n",
       "310  45_archiva-components     spring-quartz                8   \n",
       "311  45_archiva-components   spring-registry                9   \n",
       "312  45_archiva-components  spring-taskqueue                3   \n",
       "\n",
       "     test_num_topics                                  code_shown_topics   \n",
       "308                1  [(0, [('partition', 0.038462438), ('context', ...  \\\n",
       "309                3  [(0, [('cache', 0.3110731), ('creator', 0.1051...   \n",
       "310                4  [(0, [('job', 0.29270846), ('context', 0.07773...   \n",
       "311                6  [(0, [('key', 0.1410248), ('registry', 0.08333...   \n",
       "312                5  [(0, [('task', 0.33837277), ('evaluator', 0.12...   \n",
       "\n",
       "                                           code_topics   \n",
       "308  [['partition', 'context', 'password', 'port', ...  \\\n",
       "309  [['cache', 'creator', 'hint', 'factory', 'key'...   \n",
       "310  [['job', 'context', 'execution', 'map', 'liste...   \n",
       "311  [['key', 'registry', 'builder', 'add', 'save',...   \n",
       "312  [['task', 'evaluator', 'queue', 'executor', 'e...   \n",
       "\n",
       "                                     test_shown_topics   \n",
       "308  [(0, [('context', 0.21739134), ('create', 0.13...  \\\n",
       "309  [(0, [('cache', 0.3525324), ('refre', 0.102800...   \n",
       "310  [(0, [('job', 0.24515942), ('context', 0.16984...   \n",
       "311  [(0, [('registry', 0.024453199), ('property', ...   \n",
       "312  [(0, [('task', 0.32901022), ('evaluator', 0.10...   \n",
       "\n",
       "                                           test_topics  doc_num_topics   \n",
       "308  [['context', 'create', 'dir', 'attribute', 'ba...               8  \\\n",
       "309  [['cache', 'refre', 'wine', 'second', 'never',...               8   \n",
       "310  [['job', 'context', 'one', 'execution', 'execu...               8   \n",
       "311  [['registry', 'property', 'change', 'event', '...               8   \n",
       "312  [['task', 'evaluator', 'evaluate', 'project', ...               8   \n",
       "\n",
       "                                      doc_shown_topics   \n",
       "308  [(0, [('publish', 0.008338352), ('mvn', 0.0083...  \\\n",
       "309  [(0, [('publish', 0.008338352), ('mvn', 0.0083...   \n",
       "310  [(0, [('publish', 0.008338352), ('mvn', 0.0083...   \n",
       "311  [(0, [('publish', 0.008338352), ('mvn', 0.0083...   \n",
       "312  [(0, [('publish', 0.008338352), ('mvn', 0.0083...   \n",
       "\n",
       "                                            doc_topics   \n",
       "308  [['publish', 'mvn', 'repository', 'checkout', ...  \\\n",
       "309  [['publish', 'mvn', 'repository', 'checkout', ...   \n",
       "310  [['publish', 'mvn', 'repository', 'checkout', ...   \n",
       "311  [['publish', 'mvn', 'repository', 'checkout', ...   \n",
       "312  [['publish', 'mvn', 'repository', 'checkout', ...   \n",
       "\n",
       "                                               domains   \n",
       "308  [File Transfer Protocol, HTTP server, World Wi...  \\\n",
       "309  [3D modeling, File Transfer Protocol, HTTP ser...   \n",
       "310  [3D modeling, Web Components, World Wide Web, ...   \n",
       "311  [File Transfer Protocol, HTTP server, World Wi...   \n",
       "312  [HTTP client, HTTP server, Web Components, Wor...   \n",
       "\n",
       "                                             prob_dist  \n",
       "308  [0.11701418648043749, 0.2335993974088256, 0.05...  \n",
       "309  [0.004910765950067891, 0.020708469498936777, 0...  \n",
       "310  [0.028540502180797137, 0.014346165183265333, 0...  \n",
       "311  [0.05355589451454959, 0.030031248756518632, 0....  \n",
       "312  [0.024542570908181953, 0.021938531171453578, 0...  "
      ]
     },
     "execution_count": 9,
     "metadata": {},
     "output_type": "execute_result"
    }
   ],
   "source": [
    "module_df[-5:]"
   ]
  },
  {
   "cell_type": "code",
   "execution_count": 10,
   "metadata": {},
   "outputs": [],
   "source": [
    "module_df.to_csv(\"module_df.csv\", index=False)"
   ]
  },
  {
   "cell_type": "code",
   "execution_count": 10,
   "metadata": {},
   "outputs": [
    {
     "data": {
      "text/html": [
       "<div>\n",
       "<style scoped>\n",
       "    .dataframe tbody tr th:only-of-type {\n",
       "        vertical-align: middle;\n",
       "    }\n",
       "\n",
       "    .dataframe tbody tr th {\n",
       "        vertical-align: top;\n",
       "    }\n",
       "\n",
       "    .dataframe thead th {\n",
       "        text-align: right;\n",
       "    }\n",
       "</style>\n",
       "<table border=\"1\" class=\"dataframe\">\n",
       "  <thead>\n",
       "    <tr style=\"text-align: right;\">\n",
       "      <th></th>\n",
       "      <th>project_name</th>\n",
       "      <th>doc_topics</th>\n",
       "    </tr>\n",
       "  </thead>\n",
       "  <tbody>\n",
       "    <tr>\n",
       "      <th>0</th>\n",
       "      <td>01_dubbo</td>\n",
       "      <td>[['service', 'see', 'issue', 'sample', 'projec...</td>\n",
       "    </tr>\n",
       "    <tr>\n",
       "      <th>1</th>\n",
       "      <td>02_skywalking</td>\n",
       "      <td>[['trace', 'support', 'metric', 'mail', 'nativ...</td>\n",
       "    </tr>\n",
       "    <tr>\n",
       "      <th>2</th>\n",
       "      <td>03_flink</td>\n",
       "      <td>[['scala', 'processing', 'java', 'intellij', '...</td>\n",
       "    </tr>\n",
       "    <tr>\n",
       "      <th>3</th>\n",
       "      <td>04_rocketmq</td>\n",
       "      <td>[['software', 'use', 'message', 'run', 'cluste...</td>\n",
       "    </tr>\n",
       "    <tr>\n",
       "      <th>4</th>\n",
       "      <td>05_shardingsphere</td>\n",
       "      <td>[['database', 'link', 'amp', 'provide', 'suppo...</td>\n",
       "    </tr>\n",
       "  </tbody>\n",
       "</table>\n",
       "</div>"
      ],
      "text/plain": [
       "        project_name                                         doc_topics\n",
       "0           01_dubbo  [['service', 'see', 'issue', 'sample', 'projec...\n",
       "1      02_skywalking  [['trace', 'support', 'metric', 'mail', 'nativ...\n",
       "2           03_flink  [['scala', 'processing', 'java', 'intellij', '...\n",
       "3        04_rocketmq  [['software', 'use', 'message', 'run', 'cluste...\n",
       "4  05_shardingsphere  [['database', 'link', 'amp', 'provide', 'suppo..."
      ]
     },
     "execution_count": 10,
     "metadata": {},
     "output_type": "execute_result"
    }
   ],
   "source": [
    "### separate the doc concepts\n",
    "\n",
    "module_docs_df = module_df[['project_name', 'doc_topics']].drop_duplicates(ignore_index=True)\n",
    "module_docs_df[:5]"
   ]
  },
  {
   "cell_type": "markdown",
   "metadata": {},
   "source": [
    "## LLM Matching of AD to Concepts"
   ]
  },
  {
   "cell_type": "markdown",
   "metadata": {},
   "source": [
    "### Using embeddings then calculate semantic similarity to match with domains\n",
    "\n",
    "- StackOverflow w2v\n",
    "- text-embedding-ada-002 (openAI + scikit-LLM)"
   ]
  },
  {
   "cell_type": "code",
   "execution_count": 56,
   "metadata": {},
   "outputs": [],
   "source": [
    "code_concept_list = module_df['code_topics']\n",
    "test_concept_list = module_df['test_topics']\n",
    "doc_concept_list = module_df['doc_topics']\n",
    "prob_dist_list = module_df['prob_dist']\n",
    "domains_list = module_df['domains']"
   ]
  },
  {
   "cell_type": "code",
   "execution_count": 57,
   "metadata": {},
   "outputs": [
    {
     "data": {
      "text/html": [
       "<div>\n",
       "<style scoped>\n",
       "    .dataframe tbody tr th:only-of-type {\n",
       "        vertical-align: middle;\n",
       "    }\n",
       "\n",
       "    .dataframe tbody tr th {\n",
       "        vertical-align: top;\n",
       "    }\n",
       "\n",
       "    .dataframe thead th {\n",
       "        text-align: right;\n",
       "    }\n",
       "</style>\n",
       "<table border=\"1\" class=\"dataframe\">\n",
       "  <thead>\n",
       "    <tr style=\"text-align: right;\">\n",
       "      <th></th>\n",
       "      <th>project_name</th>\n",
       "      <th>module</th>\n",
       "    </tr>\n",
       "  </thead>\n",
       "  <tbody>\n",
       "    <tr>\n",
       "      <th>0</th>\n",
       "      <td>01_dubbo</td>\n",
       "      <td>dubbo-cluster</td>\n",
       "    </tr>\n",
       "    <tr>\n",
       "      <th>1</th>\n",
       "      <td>01_dubbo</td>\n",
       "      <td>dubbo-common</td>\n",
       "    </tr>\n",
       "    <tr>\n",
       "      <th>2</th>\n",
       "      <td>01_dubbo</td>\n",
       "      <td>dubbo-compatible</td>\n",
       "    </tr>\n",
       "    <tr>\n",
       "      <th>3</th>\n",
       "      <td>01_dubbo</td>\n",
       "      <td>dubbo-config</td>\n",
       "    </tr>\n",
       "    <tr>\n",
       "      <th>4</th>\n",
       "      <td>01_dubbo</td>\n",
       "      <td>dubbo-configcenter</td>\n",
       "    </tr>\n",
       "    <tr>\n",
       "      <th>...</th>\n",
       "      <td>...</td>\n",
       "      <td>...</td>\n",
       "    </tr>\n",
       "    <tr>\n",
       "      <th>308</th>\n",
       "      <td>45_archiva-components</td>\n",
       "      <td>spring-apacheds</td>\n",
       "    </tr>\n",
       "    <tr>\n",
       "      <th>309</th>\n",
       "      <td>45_archiva-components</td>\n",
       "      <td>spring-cache</td>\n",
       "    </tr>\n",
       "    <tr>\n",
       "      <th>310</th>\n",
       "      <td>45_archiva-components</td>\n",
       "      <td>spring-quartz</td>\n",
       "    </tr>\n",
       "    <tr>\n",
       "      <th>311</th>\n",
       "      <td>45_archiva-components</td>\n",
       "      <td>spring-registry</td>\n",
       "    </tr>\n",
       "    <tr>\n",
       "      <th>312</th>\n",
       "      <td>45_archiva-components</td>\n",
       "      <td>spring-taskqueue</td>\n",
       "    </tr>\n",
       "  </tbody>\n",
       "</table>\n",
       "<p>313 rows × 2 columns</p>\n",
       "</div>"
      ],
      "text/plain": [
       "              project_name              module\n",
       "0                 01_dubbo       dubbo-cluster\n",
       "1                 01_dubbo        dubbo-common\n",
       "2                 01_dubbo    dubbo-compatible\n",
       "3                 01_dubbo        dubbo-config\n",
       "4                 01_dubbo  dubbo-configcenter\n",
       "..                     ...                 ...\n",
       "308  45_archiva-components     spring-apacheds\n",
       "309  45_archiva-components        spring-cache\n",
       "310  45_archiva-components       spring-quartz\n",
       "311  45_archiva-components     spring-registry\n",
       "312  45_archiva-components    spring-taskqueue\n",
       "\n",
       "[313 rows x 2 columns]"
      ]
     },
     "execution_count": 57,
     "metadata": {},
     "output_type": "execute_result"
    }
   ],
   "source": [
    "proj_names = module_df[['project_name', 'module']]\n",
    "proj_names"
   ]
  },
  {
   "cell_type": "code",
   "execution_count": 58,
   "metadata": {},
   "outputs": [
    {
     "data": {
      "text/plain": [
       "313"
      ]
     },
     "execution_count": 58,
     "metadata": {},
     "output_type": "execute_result"
    }
   ],
   "source": [
    "len(domains_list)"
   ]
  },
  {
   "cell_type": "markdown",
   "metadata": {},
   "source": [
    "## StackOverflow W2V"
   ]
  },
  {
   "cell_type": "code",
   "execution_count": 59,
   "metadata": {},
   "outputs": [],
   "source": [
    "from gensim.models.keyedvectors import KeyedVectors\n",
    "\n",
    "so_w2v_model = KeyedVectors.load_word2vec_format('C:/Users/biadge/OneDrive - BP/PhD/extraction/SO_vectors_200.bin', binary=True)"
   ]
  },
  {
   "cell_type": "code",
   "execution_count": 15,
   "metadata": {},
   "outputs": [
    {
     "data": {
      "text/plain": [
       "0.1252212"
      ]
     },
     "execution_count": 15,
     "metadata": {},
     "output_type": "execute_result"
    }
   ],
   "source": [
    "# test\n",
    "so_w2v_model.n_similarity(['test', 'case'], ['quality'])"
   ]
  },
  {
   "cell_type": "code",
   "execution_count": 16,
   "metadata": {},
   "outputs": [],
   "source": [
    "def comp_con_domains_sow2v(so_w2v_model, con, domains):\n",
    "    # list of domains should be given, now we return an array of similarity scores for all domains\n",
    "    # one concept matching against all the domains for that concept\n",
    "    sim_res = []\n",
    "\n",
    "    for dom in domains:\n",
    "        sim_score = so_w2v_model.n_similarity(con, [dom])\n",
    "        sim_res.append(sim_score)\n",
    "\n",
    "    return sim_res"
   ]
  },
  {
   "cell_type": "code",
   "execution_count": null,
   "metadata": {},
   "outputs": [],
   "source": []
  },
  {
   "cell_type": "markdown",
   "metadata": {},
   "source": [
    "### Match concepts to domains"
   ]
  },
  {
   "cell_type": "code",
   "execution_count": 17,
   "metadata": {},
   "outputs": [],
   "source": [
    "import ast\n",
    "\n",
    "sow2v_code_domain_res = []\n",
    "\n",
    "for i, con in enumerate(code_concept_list):\n",
    "\n",
    "    c = ast.literal_eval(con)\n",
    "\n",
    "    for con_str in c:\n",
    "\n",
    "        curr_domains = domains_list[i]\n",
    "        curr_prob = prob_dist_list[i]\n",
    "\n",
    "        sim_res_list = comp_con_domains_sow2v(so_w2v_model, con_str, curr_domains)\n",
    "\n",
    "        proj_name = proj_names.values[i][0]\n",
    "        module_name = proj_names.values[i][1]\n",
    "\n",
    "        sow2v_code_domain_res.append([proj_name, module_name, con_str, curr_domains, curr_prob, sim_res_list])"
   ]
  },
  {
   "cell_type": "code",
   "execution_count": 18,
   "metadata": {},
   "outputs": [],
   "source": [
    "sow2v_test_domain_res = []\n",
    "\n",
    "for i, con in enumerate(test_concept_list):\n",
    "\n",
    "    c = ast.literal_eval(con)\n",
    "\n",
    "    for con_str in c:\n",
    "\n",
    "        curr_domains = domains_list[i]\n",
    "        curr_prob = prob_dist_list[i]\n",
    "\n",
    "        sim_res_list = comp_con_domains_sow2v(so_w2v_model, con_str, curr_domains)\n",
    "\n",
    "        proj_name = proj_names.values[i][0]\n",
    "        module_name = proj_names.values[i][1]\n",
    "\n",
    "        sow2v_test_domain_res.append([proj_name, module_name, con_str, curr_domains, curr_prob, sim_res_list])"
   ]
  },
  {
   "cell_type": "code",
   "execution_count": 19,
   "metadata": {},
   "outputs": [],
   "source": [
    "sow2v_doc_domain_res = []\n",
    "\n",
    "for i, con in enumerate(doc_concept_list):\n",
    "\n",
    "    c = ast.literal_eval(con)\n",
    "\n",
    "    for con_str in c:\n",
    "\n",
    "        curr_domains = domains_list[i]\n",
    "        curr_prob = prob_dist_list[i]\n",
    "\n",
    "        sim_res_list = comp_con_domains_sow2v(so_w2v_model, con_str, curr_domains)\n",
    "\n",
    "        proj_name = proj_names.values[i][0]\n",
    "        module_name = proj_names.values[i][1]\n",
    "\n",
    "        sow2v_doc_domain_res.append([proj_name, module_name, con_str, curr_domains, curr_prob, sim_res_list])"
   ]
  },
  {
   "cell_type": "code",
   "execution_count": 20,
   "metadata": {},
   "outputs": [],
   "source": [
    "sow2v_code_domain_res_df = pd.DataFrame(sow2v_code_domain_res, columns=['project_name', 'module', 'concept', 'domains', 'weight_dist', 'sow2v_code_sim_score'])\n",
    "sow2v_test_domain_res_df = pd.DataFrame(sow2v_test_domain_res, columns=['project_name', 'module', 'concept', 'domains', 'weight_dist', 'sow2v_test_sim_score'])\n",
    "sow2v_doc_domain_res_df = pd.DataFrame(sow2v_doc_domain_res, columns=['project_name', 'module', 'concept', 'domains', 'weight_dist', 'sow2v_doc_sim_score'])"
   ]
  },
  {
   "cell_type": "markdown",
   "metadata": {},
   "source": [
    "### scikit-LLM (OpenAI text-embedding-ada-002)"
   ]
  },
  {
   "cell_type": "code",
   "execution_count": 21,
   "metadata": {},
   "outputs": [],
   "source": [
    "from skllm.models.gpt.vectorization import GPTVectorizer\n",
    "from skllm.config import SKLLMConfig\n",
    "from sklearn.metrics.pairwise import cosine_similarity\n",
    "from dotenv import load_dotenv, find_dotenv\n",
    "import os"
   ]
  },
  {
   "cell_type": "code",
   "execution_count": 22,
   "metadata": {},
   "outputs": [],
   "source": [
    "_ = load_dotenv(find_dotenv()) # read local .env file"
   ]
  },
  {
   "cell_type": "code",
   "execution_count": 23,
   "metadata": {},
   "outputs": [],
   "source": [
    "SKLLMConfig.set_openai_key(os.getenv(\"API_KEY\"))\n",
    "SKLLMConfig.set_openai_org(os.getenv(\"ORG\"))"
   ]
  },
  {
   "cell_type": "code",
   "execution_count": 24,
   "metadata": {},
   "outputs": [],
   "source": [
    "# model = GPTVectorizer()\n",
    "\n",
    "# vectors = model.fit_transform([\"how old are you?\", \"what is your age?\"])\n",
    "\n",
    "# vector_1 = np.array(vectors[0]).reshape(1, -1)\n",
    "# vector_2 = np.array(vectors[1]).reshape(1, -1)"
   ]
  },
  {
   "cell_type": "code",
   "execution_count": 25,
   "metadata": {},
   "outputs": [],
   "source": [
    "# vector_1"
   ]
  },
  {
   "cell_type": "code",
   "execution_count": 26,
   "metadata": {},
   "outputs": [],
   "source": [
    "# vector_2"
   ]
  },
  {
   "cell_type": "code",
   "execution_count": 27,
   "metadata": {},
   "outputs": [],
   "source": [
    "# cosine_similarity(vector_1, vector_2)"
   ]
  },
  {
   "cell_type": "code",
   "execution_count": 28,
   "metadata": {},
   "outputs": [],
   "source": [
    "# convert domains to vectors first.\n",
    "# THIS HAS BEEN RUN, PLEASE UNCOMMENT TO RUN GPT VECTORISATION\n",
    "\n",
    "# import time\n",
    "# from numpy import asarray\n",
    "# from numpy import save\n",
    "\n",
    "# # dom_vec_list = []\n",
    "# model = GPTVectorizer()\n",
    "# ctr = 193\n",
    "# domains_list_sub = domains_list[ctr:200]\n",
    "\n",
    "# for dom in domains_list_sub: # 313 domains lists (no. of modules) to vectorise\n",
    "#     curr_dom_vec = []\n",
    "#     for d in dom:\n",
    "#         sleep_time = 10\n",
    "#         retries = 5\n",
    "#         for x in range(0, retries):\n",
    "#             try:\n",
    "#                 curr_dom_vec.append(model.fit_transform([d]))\n",
    "#                 break\n",
    "#             except Exception as e:\n",
    "#                 print(\"retrying...\")\n",
    "#                 time.sleep(sleep_time)\n",
    "\n",
    "#     curr_dom_vec_arr = asarray(curr_dom_vec)\n",
    "#     save(f\"gpt_dom_vec\\\\{ctr}.npy\", curr_dom_vec_arr)\n",
    "#     ctr+=1"
   ]
  },
  {
   "cell_type": "code",
   "execution_count": 29,
   "metadata": {},
   "outputs": [],
   "source": [
    "#convert concepts to vectors first.\n",
    "#THIS HAS BEEN RUN, PLEASE UNCOMMENT TO RUN GPT VECTORISATION\n",
    "\n",
    "# from numpy import asarray\n",
    "# from numpy import save\n",
    "# import ast\n",
    "\n",
    "# model = GPTVectorizer()\n",
    "\n",
    "# ctr = 0\n",
    "# code_concept_list_sub = code_concept_list[ctr:100]\n",
    "\n",
    "# for con_list in code_concept_list_sub: # 313 domains lists (no. of modules) to vectorise\n",
    "#     curr_code_vec = []\n",
    "\n",
    "#     con_list = ast.literal_eval(con_list)\n",
    "\n",
    "#     for con in con_list:\n",
    "#         con_str = \" \".join(con)\n",
    "#         curr_code_vec.append(model.fit_transform([con_str]))\n",
    "\n",
    "#     curr_code_vec_arr = asarray(curr_code_vec)\n",
    "#     save(f\"gpt_code_vec\\\\{ctr}.npy\", curr_code_vec_arr)\n",
    "#     ctr+=1"
   ]
  },
  {
   "cell_type": "code",
   "execution_count": 30,
   "metadata": {},
   "outputs": [],
   "source": [
    "# convert concepts to vectors first.\n",
    "# THIS HAS BEEN RUN, PLEASE UNCOMMENT TO RUN GPT VECTORISATION\n",
    "\n",
    "# from numpy import asarray\n",
    "# from numpy import save\n",
    "\n",
    "# model = GPTVectorizer()\n",
    "\n",
    "# ctr = 0\n",
    "# test_concept_list_sub = test_concept_list[ctr:50]\n",
    "\n",
    "# for con_list in test_concept_list_sub: # 313 domains lists (no. of modules) to vectorise\n",
    "#     curr_test_vec = []\n",
    "\n",
    "#     con_list = ast.literal_eval(con_list)\n",
    "\n",
    "#     for con in con_list:\n",
    "#         con_str = \" \".join(con)\n",
    "#         curr_test_vec.append(model.fit_transform([con_str]))\n",
    "\n",
    "#     curr_test_vec_arr = asarray(curr_test_vec)\n",
    "#     save(f\"gpt_test_vec\\\\{ctr}.npy\", curr_test_vec_arr)\n",
    "#     ctr+=1"
   ]
  },
  {
   "cell_type": "code",
   "execution_count": 31,
   "metadata": {},
   "outputs": [],
   "source": [
    "# convert concepts to vectors first.\n",
    "# THIS HAS BEEN RUN, PLEASE UNCOMMENT TO RUN GPT VECTORISATION\n",
    "\n",
    "# from numpy import asarray\n",
    "# from numpy import save\n",
    "\n",
    "# model = GPTVectorizer()\n",
    "\n",
    "# ctr = 0\n",
    "\n",
    "# for con_list in doc_concept_list:\n",
    "#     curr_doc_vec = []\n",
    "#     con_list = ast.literal_eval(con_list)\n",
    "\n",
    "#     for con in con_list:\n",
    "#         con_str = \" \".join(con)\n",
    "#         curr_doc_vec.append(model.fit_transform([con_str]))\n",
    "\n",
    "#     curr_doc_vec_arr = asarray(curr_doc_vec)\n",
    "#     save(f\"gpt_doc_vec\\\\{ctr}.npy\", curr_doc_vec_arr)\n",
    "#     ctr+=1"
   ]
  },
  {
   "cell_type": "markdown",
   "metadata": {},
   "source": [
    "#### load the vectors"
   ]
  },
  {
   "cell_type": "code",
   "execution_count": 68,
   "metadata": {},
   "outputs": [],
   "source": [
    "from numpy import load\n",
    "\n",
    "dom_vec_list = []\n",
    "code_vec_list = []\n",
    "test_vec_list = []\n",
    "\n",
    "for i in range(0, len(domains_list)): # 313 modules\n",
    "\n",
    "    curr_dom_vec = load(f\"gpt_dom_vec\\\\{i}.npy\")\n",
    "    dom_vec_list.append(curr_dom_vec)\n",
    "\n",
    "for i in range(0, len(code_concept_list)): # 313 modules\n",
    "\n",
    "    curr_code_vec = load(f\"gpt_code_vec\\\\{i}.npy\")\n",
    "    code_vec_list.append(curr_code_vec)\n",
    "\n",
    "for i in range(0, len(test_concept_list)): # 313 modules\n",
    "\n",
    "    curr_test_vec = load(f\"gpt_test_vec\\\\{i}.npy\")\n",
    "    test_vec_list.append(curr_test_vec)"
   ]
  },
  {
   "cell_type": "code",
   "execution_count": 33,
   "metadata": {},
   "outputs": [
    {
     "data": {
      "text/plain": [
       "313"
      ]
     },
     "execution_count": 33,
     "metadata": {},
     "output_type": "execute_result"
    }
   ],
   "source": [
    "# for doc we have to map out the proj/module mapping\n",
    "\n",
    "proj_id = proj_names['project_name'].str[:2].astype(int).tolist()\n",
    "len(proj_id)"
   ]
  },
  {
   "cell_type": "code",
   "execution_count": 34,
   "metadata": {},
   "outputs": [],
   "source": [
    "doc_vec_list = []\n",
    "\n",
    "for pi in proj_id:\n",
    "\n",
    "    file_id = pi-1\n",
    "\n",
    "    curr_doc_vec = load(f\"gpt_doc_vec\\\\{str(file_id)}.npy\")\n",
    "    doc_vec_list.append(curr_doc_vec)"
   ]
  },
  {
   "cell_type": "code",
   "execution_count": 35,
   "metadata": {},
   "outputs": [
    {
     "data": {
      "text/plain": [
       "313"
      ]
     },
     "execution_count": 35,
     "metadata": {},
     "output_type": "execute_result"
    }
   ],
   "source": [
    "len(doc_vec_list)"
   ]
  },
  {
   "cell_type": "code",
   "execution_count": 36,
   "metadata": {},
   "outputs": [],
   "source": [
    "def comp_con_domains_gpt(con_vec, dom_vec):\n",
    "    # list of domains should be given, now we return an array of similarity scores for all domains\n",
    "    # one concept matching against all the domains for that concept\n",
    "    sim_res = []\n",
    "\n",
    "    con_vec = np.array(con_vec).reshape(1, -1)\n",
    "\n",
    "    for dv in dom_vec:\n",
    "        dv = np.array(dv).reshape(1, -1)\n",
    "        sim_score = cosine_similarity(con_vec, dv)\n",
    "        sim_res.append(sim_score[0][0])\n",
    "\n",
    "    return sim_res"
   ]
  },
  {
   "cell_type": "code",
   "execution_count": 37,
   "metadata": {},
   "outputs": [],
   "source": [
    "gpt_code_domain_res = []\n",
    "\n",
    "for i, code_vec in enumerate(code_vec_list):\n",
    "\n",
    "    curr_con_list = ast.literal_eval(code_concept_list[i])\n",
    "\n",
    "    for k, cv in enumerate(code_vec):\n",
    "\n",
    "        curr_concepts = curr_con_list[k]\n",
    "        curr_domains = domains_list[i]\n",
    "        curr_prob = prob_dist_list[i]\n",
    "\n",
    "        sim_res_list = comp_con_domains_gpt(cv, dom_vec_list[i])\n",
    "\n",
    "        proj_name = proj_names.values[i][0]\n",
    "        module_name = proj_names.values[i][1]\n",
    "\n",
    "        gpt_code_domain_res.append([proj_name, module_name, curr_concepts, curr_domains, curr_prob, sim_res_list])"
   ]
  },
  {
   "cell_type": "code",
   "execution_count": 38,
   "metadata": {},
   "outputs": [],
   "source": [
    "gpt_test_domain_res = []\n",
    "\n",
    "for i, test_vec in enumerate(test_vec_list):\n",
    "\n",
    "    curr_con_list = ast.literal_eval(test_concept_list[i])\n",
    "\n",
    "    for k, tv in enumerate(test_vec):\n",
    "\n",
    "        curr_concepts = curr_con_list[k]\n",
    "        curr_domains = domains_list[i]\n",
    "        curr_prob = prob_dist_list[i]\n",
    "\n",
    "        sim_res_list = comp_con_domains_gpt(tv, dom_vec_list[i])\n",
    "\n",
    "        proj_name = proj_names.values[i][0]\n",
    "        module_name = proj_names.values[i][1]\n",
    "\n",
    "        gpt_test_domain_res.append([proj_name, module_name, curr_concepts, curr_domains, curr_prob, sim_res_list])"
   ]
  },
  {
   "cell_type": "code",
   "execution_count": 39,
   "metadata": {},
   "outputs": [],
   "source": [
    "gpt_doc_domain_res = []\n",
    "\n",
    "for i, doc_vec in enumerate(doc_vec_list):\n",
    "\n",
    "    curr_con_list = ast.literal_eval(module_df['doc_topics'][i])\n",
    "\n",
    "    for k, dv in enumerate(doc_vec):\n",
    "\n",
    "        curr_concepts = curr_con_list[k]\n",
    "        curr_domains = domains_list[i]\n",
    "        curr_prob = prob_dist_list[i]\n",
    "\n",
    "        sim_res_list = comp_con_domains_gpt(dv, dom_vec_list[i])\n",
    "\n",
    "        proj_name = proj_names.values[i][0]\n",
    "        module_name = proj_names.values[i][1]\n",
    "\n",
    "        gpt_doc_domain_res.append([proj_name, module_name, curr_concepts, curr_domains, curr_prob, sim_res_list])"
   ]
  },
  {
   "cell_type": "code",
   "execution_count": 40,
   "metadata": {},
   "outputs": [],
   "source": [
    "code_dom_gpt_sim_df = pd.DataFrame(gpt_code_domain_res, columns=['project_name', 'module', 'code concepts', 'domains', 'weight_dist', 'gpt_code_sim_score'])\n",
    "test_dom_gpt_sim_df = pd.DataFrame(gpt_test_domain_res, columns=['project_name', 'module', 'test concepts', 'domains', 'weight_dist', 'gpt_test_sim_score'])\n",
    "doc_dom_gpt_sim_df = pd.DataFrame(gpt_doc_domain_res, columns=['project_name', 'module', 'doc concepts', 'domains', 'weight_dist', 'gpt_doc_sim_score'])"
   ]
  },
  {
   "cell_type": "markdown",
   "metadata": {},
   "source": [
    "### UAE-Large-V1"
   ]
  },
  {
   "cell_type": "code",
   "execution_count": 41,
   "metadata": {},
   "outputs": [
    {
     "data": {
      "text/plain": [
       "True"
      ]
     },
     "execution_count": 41,
     "metadata": {},
     "output_type": "execute_result"
    }
   ],
   "source": [
    "import torch\n",
    "torch.cuda.is_available()"
   ]
  },
  {
   "cell_type": "code",
   "execution_count": 42,
   "metadata": {},
   "outputs": [],
   "source": [
    "import torch\n",
    "from transformers import AutoModel, AutoTokenizer\n",
    "\n",
    "def angle_vec(tokenizer, model, input):\n",
    "\n",
    "    tok = tokenizer([input], return_tensors='pt')\n",
    "\n",
    "    for k, v in tok.items():\n",
    "        tok[k] = v.cuda()\n",
    "\n",
    "    hs = model(**tok).last_hidden_state\n",
    "\n",
    "    vec = (hs[:, 0] + torch.mean(hs, dim=1)) / 2.0\n",
    "\n",
    "    return vec.detach().cpu().numpy()"
   ]
  },
  {
   "cell_type": "code",
   "execution_count": 43,
   "metadata": {},
   "outputs": [],
   "source": [
    "tokenizer = AutoTokenizer.from_pretrained('./UAE-Large-V1')\n",
    "angle_model = AutoModel.from_pretrained('./UAE-Large-V1').cuda()  \n",
    "v1 = angle_vec(tokenizer, angle_model, \"king\")\n",
    "v2 = angle_vec(tokenizer, angle_model, \"queen\")"
   ]
  },
  {
   "cell_type": "code",
   "execution_count": 44,
   "metadata": {},
   "outputs": [
    {
     "data": {
      "text/plain": [
       "array([[0.7001157]], dtype=float32)"
      ]
     },
     "execution_count": 44,
     "metadata": {},
     "output_type": "execute_result"
    }
   ],
   "source": [
    "from sklearn.metrics.pairwise import cosine_similarity\n",
    "\n",
    "cosine_similarity(v1, v2)"
   ]
  },
  {
   "cell_type": "code",
   "execution_count": 45,
   "metadata": {},
   "outputs": [],
   "source": [
    "# convert concepts to vectors first.\n",
    "# THIS HAS BEEN RUN, PLEASE UNCOMMENT TO RUN ANGLE VECTORISATION\n",
    "# from numpy import asarray\n",
    "# from numpy import save\n",
    "# import ast\n",
    "\n",
    "# tokenizer = AutoTokenizer.from_pretrained('./UAE-Large-V1')\n",
    "# angle_model = AutoModel.from_pretrained('./UAE-Large-V1').cuda()  \n",
    "\n",
    "# ctr = 0\n",
    "# code_concept_list_sub = code_concept_list[ctr:]\n",
    "\n",
    "# for con_list in code_concept_list_sub: # 313 domains lists (no. of modules) to vectorise\n",
    "#     curr_code_vec = []\n",
    "\n",
    "#     con_list = ast.literal_eval(con_list)\n",
    "\n",
    "#     for con in con_list:\n",
    "#         con_str = \" \".join(con)\n",
    "#         curr_code_vec.append(angle_vec(tokenizer, angle_model, con_str))\n",
    "\n",
    "#     curr_code_vec_arr = asarray(curr_code_vec)\n",
    "#     save(f\"angle_code_vec\\\\{ctr}.npy\", curr_code_vec_arr)\n",
    "#     ctr+=1"
   ]
  },
  {
   "cell_type": "code",
   "execution_count": 46,
   "metadata": {},
   "outputs": [],
   "source": [
    "# convert concepts to vectors first.\n",
    "# THIS HAS BEEN RUN, PLEASE UNCOMMENT TO RUN ANGLE VECTORISATION\n",
    "# from numpy import asarray\n",
    "# from numpy import save\n",
    "# import ast\n",
    "\n",
    "# # tokenizer = AutoTokenizer.from_pretrained('./UAE-Large-V1')\n",
    "# # angle_model = AutoModel.from_pretrained('./UAE-Large-V1').cuda()  \n",
    "\n",
    "# ctr = 0\n",
    "# test_concept_list_sub = test_concept_list[ctr:]\n",
    "\n",
    "# for con_list in test_concept_list_sub: # 313 domains lists (no. of modules) to vectorise\n",
    "#     curr_test_vec = []\n",
    "\n",
    "#     con_list = ast.literal_eval(con_list)\n",
    "\n",
    "#     for con in con_list:\n",
    "#         con_str = \" \".join(con)\n",
    "#         curr_test_vec.append(angle_vec(tokenizer, angle_model, con_str))\n",
    "\n",
    "#     curr_test_vec_arr = asarray(curr_test_vec)\n",
    "#     save(f\"angle_test_vec\\\\{ctr}.npy\", curr_test_vec_arr)\n",
    "#     ctr+=1"
   ]
  },
  {
   "cell_type": "code",
   "execution_count": 50,
   "metadata": {},
   "outputs": [],
   "source": [
    "# convert concepts to vectors first.\n",
    "# THIS HAS BEEN RUN, PLEASE UNCOMMENT TO RUN ANGLE VECTORISATION\n",
    "# from numpy import asarray\n",
    "# from numpy import save\n",
    "# import ast\n",
    "\n",
    "# ctr = 0\n",
    "\n",
    "# for con_list in doc_concept_list:\n",
    "#     curr_doc_vec = []\n",
    "\n",
    "#     con_list = ast.literal_eval(con_list)\n",
    "\n",
    "#     for con in con_list:\n",
    "#         con_str = \" \".join(con)\n",
    "#         curr_doc_vec.append(angle_vec(tokenizer, angle_model, con_str))\n",
    "\n",
    "#     curr_doc_vec_arr = asarray(curr_doc_vec)\n",
    "#     save(f\"angle_doc_vec\\\\{ctr}.npy\", curr_doc_vec_arr)\n",
    "#     ctr+=1"
   ]
  },
  {
   "cell_type": "code",
   "execution_count": 48,
   "metadata": {},
   "outputs": [],
   "source": [
    "# convert concepts to vectors first.\n",
    "# THIS HAS BEEN RUN, PLEASE UNCOMMENT TO RUN ANGLE VECTORISATION\n",
    "# from numpy import asarray\n",
    "# from numpy import save\n",
    "\n",
    "# ctr = 216\n",
    "# domains_list_sub = domains_list[ctr:]\n",
    "\n",
    "# for dom in domains_list_sub: # 313 domains lists (no. of modules) to vectorise\n",
    "#     curr_dom_vec = []\n",
    "#     for d in dom:\n",
    "#         curr_dom_vec.append(angle_vec(tokenizer, angle_model, d))\n",
    "\n",
    "#     curr_dom_vec_arr = asarray(curr_dom_vec)\n",
    "#     save(f\"angle_dom_vec\\\\{ctr}.npy\", curr_dom_vec_arr)\n",
    "#     ctr+=1"
   ]
  },
  {
   "cell_type": "markdown",
   "metadata": {},
   "source": [
    "#### load the vectors"
   ]
  },
  {
   "cell_type": "code",
   "execution_count": 75,
   "metadata": {},
   "outputs": [],
   "source": [
    "from numpy import load\n",
    "\n",
    "dom_vec_list = []\n",
    "code_vec_list = []\n",
    "test_vec_list = []\n",
    "doc_vec_list = []\n",
    "\n",
    "for i in range(0, len(domains_list)): # 313 modules\n",
    "\n",
    "    curr_dom_vec = load(f\"angle_dom_vec\\\\{i}.npy\")\n",
    "    dom_vec_list.append(curr_dom_vec)\n",
    "\n",
    "for i in range(0, len(code_concept_list)): # 313 modules\n",
    "\n",
    "    curr_code_vec = load(f\"angle_code_vec\\\\{i}.npy\")\n",
    "    code_vec_list.append(curr_code_vec)\n",
    "\n",
    "for i in range(0, len(test_concept_list)): # 313 modules\n",
    "\n",
    "    curr_test_vec = load(f\"angle_test_vec\\\\{i}.npy\")\n",
    "    test_vec_list.append(curr_test_vec)\n",
    "\n",
    "for i in range(0, len(doc_concept_list)): # 313 modules\n",
    "\n",
    "    curr_doc_vec = load(f\"angle_doc_vec\\\\{i}.npy\")\n",
    "    doc_vec_list.append(curr_doc_vec)"
   ]
  },
  {
   "cell_type": "code",
   "execution_count": 71,
   "metadata": {},
   "outputs": [],
   "source": [
    "def comp_con_domains_angle(con_vec, dom_vec):\n",
    "    # list of domains should be given, now we return an array of similarity scores for all domains\n",
    "    # one concept matching against all the domains for that concept\n",
    "    sim_res = []\n",
    "\n",
    "    for dv in dom_vec:\n",
    "        sim_score = cosine_similarity(con_vec, dv)\n",
    "        sim_res.append(sim_score[0][0])\n",
    "\n",
    "    return sim_res"
   ]
  },
  {
   "cell_type": "code",
   "execution_count": 72,
   "metadata": {},
   "outputs": [],
   "source": [
    "angle_code_domain_res = []\n",
    "\n",
    "for i, code_vec in enumerate(code_vec_list):\n",
    "\n",
    "    curr_con_list = ast.literal_eval(code_concept_list[i])\n",
    "\n",
    "    for k, cv in enumerate(code_vec):\n",
    "\n",
    "        curr_concepts = curr_con_list[k]\n",
    "        curr_domains = domains_list[i]\n",
    "        curr_prob = prob_dist_list[i]\n",
    "\n",
    "        sim_res_list = comp_con_domains_angle(cv, dom_vec_list[i])\n",
    "\n",
    "        proj_name = proj_names.values[i][0]\n",
    "        module_name = proj_names.values[i][1]\n",
    "\n",
    "        angle_code_domain_res.append([proj_name, module_name, curr_concepts, curr_domains, curr_prob, sim_res_list])"
   ]
  },
  {
   "cell_type": "code",
   "execution_count": 73,
   "metadata": {},
   "outputs": [],
   "source": [
    "angle_test_domain_res = []\n",
    "\n",
    "for i, test_vec in enumerate(test_vec_list):\n",
    "\n",
    "    curr_con_list = ast.literal_eval(test_concept_list[i])\n",
    "\n",
    "    for k, tv in enumerate(test_vec):\n",
    "\n",
    "        curr_concepts = curr_con_list[k]\n",
    "        curr_domains = domains_list[i]\n",
    "        curr_prob = prob_dist_list[i]\n",
    "\n",
    "        sim_res_list = comp_con_domains_angle(tv, dom_vec_list[i])\n",
    "\n",
    "        proj_name = proj_names.values[i][0]\n",
    "        module_name = proj_names.values[i][1]\n",
    "\n",
    "        angle_test_domain_res.append([proj_name, module_name, curr_concepts, curr_domains, curr_prob, sim_res_list])"
   ]
  },
  {
   "cell_type": "code",
   "execution_count": 76,
   "metadata": {},
   "outputs": [],
   "source": [
    "angle_doc_domain_res = []\n",
    "\n",
    "for i, doc_vec in enumerate(doc_vec_list):\n",
    "\n",
    "    curr_con_list = ast.literal_eval(doc_concept_list[i])\n",
    "\n",
    "    for k, dv in enumerate(doc_vec):\n",
    "\n",
    "        curr_concepts = curr_con_list[k]\n",
    "        curr_domains = domains_list[i]\n",
    "        curr_prob = prob_dist_list[i]\n",
    "\n",
    "        sim_res_list = comp_con_domains_angle(dv, dom_vec_list[i])\n",
    "\n",
    "        proj_name = proj_names.values[i][0]\n",
    "        module_name = proj_names.values[i][1]\n",
    "\n",
    "        angle_doc_domain_res.append([proj_name, module_name, curr_concepts, curr_domains, curr_prob, sim_res_list])"
   ]
  },
  {
   "cell_type": "code",
   "execution_count": 77,
   "metadata": {},
   "outputs": [],
   "source": [
    "code_dom_angle_sim_df = pd.DataFrame(angle_code_domain_res, columns=['project_name', 'module', 'code concepts', 'domains', 'weight_dist', 'angle_code_sim_score'])\n",
    "test_dom_angle_sim_df = pd.DataFrame(angle_test_domain_res, columns=['project_name', 'module', 'test concepts', 'domains', 'weight_dist', 'angle_test_sim_score'])\n",
    "doc_dom_angle_sim_df = pd.DataFrame(angle_doc_domain_res, columns=['project_name', 'module', 'doc concepts', 'domains', 'weight_dist', 'angle_doc_sim_score'])"
   ]
  },
  {
   "cell_type": "markdown",
   "metadata": {},
   "source": [
    "#### Merge all sim scores"
   ]
  },
  {
   "cell_type": "code",
   "execution_count": 78,
   "metadata": {},
   "outputs": [
    {
     "data": {
      "text/html": [
       "<div>\n",
       "<style scoped>\n",
       "    .dataframe tbody tr th:only-of-type {\n",
       "        vertical-align: middle;\n",
       "    }\n",
       "\n",
       "    .dataframe tbody tr th {\n",
       "        vertical-align: top;\n",
       "    }\n",
       "\n",
       "    .dataframe thead th {\n",
       "        text-align: right;\n",
       "    }\n",
       "</style>\n",
       "<table border=\"1\" class=\"dataframe\">\n",
       "  <thead>\n",
       "    <tr style=\"text-align: right;\">\n",
       "      <th></th>\n",
       "      <th>project_name</th>\n",
       "      <th>module</th>\n",
       "      <th>concept</th>\n",
       "      <th>domains</th>\n",
       "      <th>weight_dist</th>\n",
       "      <th>sow2v_code_sim_score</th>\n",
       "      <th>gpt_code_sim_score</th>\n",
       "      <th>angle_code_sim_score</th>\n",
       "    </tr>\n",
       "  </thead>\n",
       "  <tbody>\n",
       "    <tr>\n",
       "      <th>0</th>\n",
       "      <td>01_dubbo</td>\n",
       "      <td>dubbo-cluster</td>\n",
       "      <td>[merger, model, scope, aware, end, error, merg...</td>\n",
       "      <td>[Bayesian inference, Containerization, File Tr...</td>\n",
       "      <td>[0.0006186695022802121, 0.001075709038256659, ...</td>\n",
       "      <td>[0.0, 0.0, 0.0, 0.0, 0.0, 0.0, 0.0, 0.0, 0.0, ...</td>\n",
       "      <td>[0.7311602189366283, 0.7417190548602931, 0.703...</td>\n",
       "      <td>[0.5299579, 0.56805325, 0.4777574, 0.44822916,...</td>\n",
       "    </tr>\n",
       "    <tr>\n",
       "      <th>1</th>\n",
       "      <td>01_dubbo</td>\n",
       "      <td>dubbo-cluster</td>\n",
       "      <td>[match, value, bool, exact, weight, result, de...</td>\n",
       "      <td>[Bayesian inference, Containerization, File Tr...</td>\n",
       "      <td>[0.0006186695022802121, 0.001075709038256659, ...</td>\n",
       "      <td>[0.0, 0.0, 0.0, 0.0, 0.0, 0.0, 0.0, 0.0, 0.0, ...</td>\n",
       "      <td>[0.7016929118277905, 0.6982882861146025, 0.706...</td>\n",
       "      <td>[0.54784065, 0.46327564, 0.5400166, 0.5001681,...</td>\n",
       "    </tr>\n",
       "    <tr>\n",
       "      <th>2</th>\n",
       "      <td>01_dubbo</td>\n",
       "      <td>dubbo-cluster</td>\n",
       "      <td>[rule, mesh, listener, app, merger, map, merge...</td>\n",
       "      <td>[Bayesian inference, Containerization, File Tr...</td>\n",
       "      <td>[0.0006186695022802121, 0.001075709038256659, ...</td>\n",
       "      <td>[0.0, 0.0, 0.0, 0.0, 0.0, 0.0, 0.0, 0.0, 0.0, ...</td>\n",
       "      <td>[0.6558771698809155, 0.6792273271454538, 0.685...</td>\n",
       "      <td>[0.46307766, 0.5018077, 0.4271498, 0.41547033,...</td>\n",
       "    </tr>\n",
       "    <tr>\n",
       "      <th>3</th>\n",
       "      <td>01_dubbo</td>\n",
       "      <td>dubbo-cluster</td>\n",
       "      <td>[rule, key, invoker, node, router, destination...</td>\n",
       "      <td>[Bayesian inference, Containerization, File Tr...</td>\n",
       "      <td>[0.0006186695022802121, 0.001075709038256659, ...</td>\n",
       "      <td>[0.0, 0.0, 0.0, 0.0, 0.0, 0.0, 0.0, 0.0, 0.0, ...</td>\n",
       "      <td>[0.6962194262372328, 0.7197655294394439, 0.713...</td>\n",
       "      <td>[0.44639945, 0.49696502, 0.51973915, 0.5151202...</td>\n",
       "    </tr>\n",
       "    <tr>\n",
       "      <th>4</th>\n",
       "      <td>01_dubbo</td>\n",
       "      <td>dubbo-cluster</td>\n",
       "      <td>[url, invoker, invocation, configurator, load,...</td>\n",
       "      <td>[Bayesian inference, Containerization, File Tr...</td>\n",
       "      <td>[0.0006186695022802121, 0.001075709038256659, ...</td>\n",
       "      <td>[0.0, 0.0, 0.0, 0.0, 0.0, 0.0, 0.0, 0.0, 0.0, ...</td>\n",
       "      <td>[0.7120789628683717, 0.7148573131041973, 0.702...</td>\n",
       "      <td>[0.4117705, 0.52084935, 0.48110706, 0.579143, ...</td>\n",
       "    </tr>\n",
       "    <tr>\n",
       "      <th>...</th>\n",
       "      <td>...</td>\n",
       "      <td>...</td>\n",
       "      <td>...</td>\n",
       "      <td>...</td>\n",
       "      <td>...</td>\n",
       "      <td>...</td>\n",
       "      <td>...</td>\n",
       "      <td>...</td>\n",
       "    </tr>\n",
       "    <tr>\n",
       "      <th>2394</th>\n",
       "      <td>45_archiva-components</td>\n",
       "      <td>spring-registry</td>\n",
       "      <td>[key, save, registry, add, path, builder, prop...</td>\n",
       "      <td>[File Transfer Protocol, HTTP server, World Wi...</td>\n",
       "      <td>[0.05355589451454959, 0.030031248756518632, 0....</td>\n",
       "      <td>[0.0, 0.0, 0.0, -0.03649073, 0.0, 0.0, -0.0692...</td>\n",
       "      <td>[0.7103701073130371, 0.7162612664178768, 0.708...</td>\n",
       "      <td>[0.47138402, 0.43102366, 0.473483, 0.40904754,...</td>\n",
       "    </tr>\n",
       "    <tr>\n",
       "      <th>2395</th>\n",
       "      <td>45_archiva-components</td>\n",
       "      <td>spring-registry</td>\n",
       "      <td>[key, registry, add, value, path, builder, lis...</td>\n",
       "      <td>[File Transfer Protocol, HTTP server, World Wi...</td>\n",
       "      <td>[0.05355589451454959, 0.030031248756518632, 0....</td>\n",
       "      <td>[0.0, 0.0, 0.0, -0.03791273, 0.0, 0.0, -0.0609...</td>\n",
       "      <td>[0.6681940471261923, 0.6737569169317236, 0.650...</td>\n",
       "      <td>[0.47591305, 0.4573872, 0.48915863, 0.4374768,...</td>\n",
       "    </tr>\n",
       "    <tr>\n",
       "      <th>2396</th>\n",
       "      <td>45_archiva-components</td>\n",
       "      <td>spring-taskqueue</td>\n",
       "      <td>[task, evaluator, queue, executor, entry, viab...</td>\n",
       "      <td>[HTTP client, HTTP server, Web Components, Wor...</td>\n",
       "      <td>[0.024542570908181953, 0.021938531171453578, 0...</td>\n",
       "      <td>[0.0, 0.0, 0.0, 0.0, 0.063066274, 0.0, 0.0, 0....</td>\n",
       "      <td>[0.7087320067665482, 0.6858538376084059, 0.693...</td>\n",
       "      <td>[0.46891826, 0.46494, 0.44505328, 0.40470618, ...</td>\n",
       "    </tr>\n",
       "    <tr>\n",
       "      <th>2397</th>\n",
       "      <td>45_archiva-components</td>\n",
       "      <td>spring-taskqueue</td>\n",
       "      <td>[task, message, execution, queue, cause, throw...</td>\n",
       "      <td>[HTTP client, HTTP server, Web Components, Wor...</td>\n",
       "      <td>[0.024542570908181953, 0.021938531171453578, 0...</td>\n",
       "      <td>[0.0, 0.0, 0.0, 0.0, 0.033671085, 0.0, 0.0, 0....</td>\n",
       "      <td>[0.6818282981688972, 0.6697385290057885, 0.677...</td>\n",
       "      <td>[0.44870278, 0.46203914, 0.45386016, 0.435794,...</td>\n",
       "    </tr>\n",
       "    <tr>\n",
       "      <th>2398</th>\n",
       "      <td>45_archiva-components</td>\n",
       "      <td>spring-taskqueue</td>\n",
       "      <td>[task, queue, evaluator, executor, message, vi...</td>\n",
       "      <td>[HTTP client, HTTP server, Web Components, Wor...</td>\n",
       "      <td>[0.024542570908181953, 0.021938531171453578, 0...</td>\n",
       "      <td>[0.0, 0.0, 0.0, 0.0, 0.06258106, 0.0, 0.0, 0.0...</td>\n",
       "      <td>[0.7145192389641309, 0.7065204249769905, 0.713...</td>\n",
       "      <td>[0.48134735, 0.5053039, 0.44665575, 0.45466822...</td>\n",
       "    </tr>\n",
       "  </tbody>\n",
       "</table>\n",
       "<p>2399 rows × 8 columns</p>\n",
       "</div>"
      ],
      "text/plain": [
       "               project_name            module   \n",
       "0                  01_dubbo     dubbo-cluster  \\\n",
       "1                  01_dubbo     dubbo-cluster   \n",
       "2                  01_dubbo     dubbo-cluster   \n",
       "3                  01_dubbo     dubbo-cluster   \n",
       "4                  01_dubbo     dubbo-cluster   \n",
       "...                     ...               ...   \n",
       "2394  45_archiva-components   spring-registry   \n",
       "2395  45_archiva-components   spring-registry   \n",
       "2396  45_archiva-components  spring-taskqueue   \n",
       "2397  45_archiva-components  spring-taskqueue   \n",
       "2398  45_archiva-components  spring-taskqueue   \n",
       "\n",
       "                                                concept   \n",
       "0     [merger, model, scope, aware, end, error, merg...  \\\n",
       "1     [match, value, bool, exact, weight, result, de...   \n",
       "2     [rule, mesh, listener, app, merger, map, merge...   \n",
       "3     [rule, key, invoker, node, router, destination...   \n",
       "4     [url, invoker, invocation, configurator, load,...   \n",
       "...                                                 ...   \n",
       "2394  [key, save, registry, add, path, builder, prop...   \n",
       "2395  [key, registry, add, value, path, builder, lis...   \n",
       "2396  [task, evaluator, queue, executor, entry, viab...   \n",
       "2397  [task, message, execution, queue, cause, throw...   \n",
       "2398  [task, queue, evaluator, executor, message, vi...   \n",
       "\n",
       "                                                domains   \n",
       "0     [Bayesian inference, Containerization, File Tr...  \\\n",
       "1     [Bayesian inference, Containerization, File Tr...   \n",
       "2     [Bayesian inference, Containerization, File Tr...   \n",
       "3     [Bayesian inference, Containerization, File Tr...   \n",
       "4     [Bayesian inference, Containerization, File Tr...   \n",
       "...                                                 ...   \n",
       "2394  [File Transfer Protocol, HTTP server, World Wi...   \n",
       "2395  [File Transfer Protocol, HTTP server, World Wi...   \n",
       "2396  [HTTP client, HTTP server, Web Components, Wor...   \n",
       "2397  [HTTP client, HTTP server, Web Components, Wor...   \n",
       "2398  [HTTP client, HTTP server, Web Components, Wor...   \n",
       "\n",
       "                                            weight_dist   \n",
       "0     [0.0006186695022802121, 0.001075709038256659, ...  \\\n",
       "1     [0.0006186695022802121, 0.001075709038256659, ...   \n",
       "2     [0.0006186695022802121, 0.001075709038256659, ...   \n",
       "3     [0.0006186695022802121, 0.001075709038256659, ...   \n",
       "4     [0.0006186695022802121, 0.001075709038256659, ...   \n",
       "...                                                 ...   \n",
       "2394  [0.05355589451454959, 0.030031248756518632, 0....   \n",
       "2395  [0.05355589451454959, 0.030031248756518632, 0....   \n",
       "2396  [0.024542570908181953, 0.021938531171453578, 0...   \n",
       "2397  [0.024542570908181953, 0.021938531171453578, 0...   \n",
       "2398  [0.024542570908181953, 0.021938531171453578, 0...   \n",
       "\n",
       "                                   sow2v_code_sim_score   \n",
       "0     [0.0, 0.0, 0.0, 0.0, 0.0, 0.0, 0.0, 0.0, 0.0, ...  \\\n",
       "1     [0.0, 0.0, 0.0, 0.0, 0.0, 0.0, 0.0, 0.0, 0.0, ...   \n",
       "2     [0.0, 0.0, 0.0, 0.0, 0.0, 0.0, 0.0, 0.0, 0.0, ...   \n",
       "3     [0.0, 0.0, 0.0, 0.0, 0.0, 0.0, 0.0, 0.0, 0.0, ...   \n",
       "4     [0.0, 0.0, 0.0, 0.0, 0.0, 0.0, 0.0, 0.0, 0.0, ...   \n",
       "...                                                 ...   \n",
       "2394  [0.0, 0.0, 0.0, -0.03649073, 0.0, 0.0, -0.0692...   \n",
       "2395  [0.0, 0.0, 0.0, -0.03791273, 0.0, 0.0, -0.0609...   \n",
       "2396  [0.0, 0.0, 0.0, 0.0, 0.063066274, 0.0, 0.0, 0....   \n",
       "2397  [0.0, 0.0, 0.0, 0.0, 0.033671085, 0.0, 0.0, 0....   \n",
       "2398  [0.0, 0.0, 0.0, 0.0, 0.06258106, 0.0, 0.0, 0.0...   \n",
       "\n",
       "                                     gpt_code_sim_score   \n",
       "0     [0.7311602189366283, 0.7417190548602931, 0.703...  \\\n",
       "1     [0.7016929118277905, 0.6982882861146025, 0.706...   \n",
       "2     [0.6558771698809155, 0.6792273271454538, 0.685...   \n",
       "3     [0.6962194262372328, 0.7197655294394439, 0.713...   \n",
       "4     [0.7120789628683717, 0.7148573131041973, 0.702...   \n",
       "...                                                 ...   \n",
       "2394  [0.7103701073130371, 0.7162612664178768, 0.708...   \n",
       "2395  [0.6681940471261923, 0.6737569169317236, 0.650...   \n",
       "2396  [0.7087320067665482, 0.6858538376084059, 0.693...   \n",
       "2397  [0.6818282981688972, 0.6697385290057885, 0.677...   \n",
       "2398  [0.7145192389641309, 0.7065204249769905, 0.713...   \n",
       "\n",
       "                                   angle_code_sim_score  \n",
       "0     [0.5299579, 0.56805325, 0.4777574, 0.44822916,...  \n",
       "1     [0.54784065, 0.46327564, 0.5400166, 0.5001681,...  \n",
       "2     [0.46307766, 0.5018077, 0.4271498, 0.41547033,...  \n",
       "3     [0.44639945, 0.49696502, 0.51973915, 0.5151202...  \n",
       "4     [0.4117705, 0.52084935, 0.48110706, 0.579143, ...  \n",
       "...                                                 ...  \n",
       "2394  [0.47138402, 0.43102366, 0.473483, 0.40904754,...  \n",
       "2395  [0.47591305, 0.4573872, 0.48915863, 0.4374768,...  \n",
       "2396  [0.46891826, 0.46494, 0.44505328, 0.40470618, ...  \n",
       "2397  [0.44870278, 0.46203914, 0.45386016, 0.435794,...  \n",
       "2398  [0.48134735, 0.5053039, 0.44665575, 0.45466822...  \n",
       "\n",
       "[2399 rows x 8 columns]"
      ]
     },
     "execution_count": 78,
     "metadata": {},
     "output_type": "execute_result"
    }
   ],
   "source": [
    "code_domain_sim_df = sow2v_code_domain_res_df.copy()\n",
    "code_domain_sim_df['gpt_code_sim_score'] = code_dom_gpt_sim_df['gpt_code_sim_score']\n",
    "code_domain_sim_df['angle_code_sim_score'] = code_dom_angle_sim_df['angle_code_sim_score']\n",
    "code_domain_sim_df"
   ]
  },
  {
   "cell_type": "code",
   "execution_count": 79,
   "metadata": {},
   "outputs": [],
   "source": [
    "code_domain_sim_df.to_csv(\"sim_code_domain_df.csv\", index=False)"
   ]
  },
  {
   "cell_type": "code",
   "execution_count": 80,
   "metadata": {},
   "outputs": [
    {
     "data": {
      "text/html": [
       "<div>\n",
       "<style scoped>\n",
       "    .dataframe tbody tr th:only-of-type {\n",
       "        vertical-align: middle;\n",
       "    }\n",
       "\n",
       "    .dataframe tbody tr th {\n",
       "        vertical-align: top;\n",
       "    }\n",
       "\n",
       "    .dataframe thead th {\n",
       "        text-align: right;\n",
       "    }\n",
       "</style>\n",
       "<table border=\"1\" class=\"dataframe\">\n",
       "  <thead>\n",
       "    <tr style=\"text-align: right;\">\n",
       "      <th></th>\n",
       "      <th>project_name</th>\n",
       "      <th>module</th>\n",
       "      <th>concept</th>\n",
       "      <th>domains</th>\n",
       "      <th>weight_dist</th>\n",
       "      <th>sow2v_test_sim_score</th>\n",
       "      <th>gpt_test_sim_score</th>\n",
       "      <th>angle_test_sim_score</th>\n",
       "    </tr>\n",
       "  </thead>\n",
       "  <tbody>\n",
       "    <tr>\n",
       "      <th>0</th>\n",
       "      <td>01_dubbo</td>\n",
       "      <td>dubbo-cluster</td>\n",
       "      <td>[invoker, hello, menu, service, load, balance,...</td>\n",
       "      <td>[Bayesian inference, Containerization, File Tr...</td>\n",
       "      <td>[0.0006186695022802121, 0.001075709038256659, ...</td>\n",
       "      <td>[0.0, 0.0, 0.0, 0.0, 0.0, 0.0, 0.0, 0.0, 0.0, ...</td>\n",
       "      <td>[0.6969462948905291, 0.699122397759385, 0.6885...</td>\n",
       "      <td>[0.46962628, 0.51499, 0.4604619, 0.5574089, 0....</td>\n",
       "    </tr>\n",
       "    <tr>\n",
       "      <th>1</th>\n",
       "      <td>01_dubbo</td>\n",
       "      <td>dubbo-cluster</td>\n",
       "      <td>[invoker, invocation, url, cluster, mock, resu...</td>\n",
       "      <td>[Bayesian inference, Containerization, File Tr...</td>\n",
       "      <td>[0.0006186695022802121, 0.001075709038256659, ...</td>\n",
       "      <td>[0.0, 0.0, 0.0, 0.0, 0.0, 0.0, 0.0, 0.0, 0.0, ...</td>\n",
       "      <td>[0.7105901433756564, 0.7263724106567162, 0.707...</td>\n",
       "      <td>[0.42823136, 0.49603176, 0.4982496, 0.57298434...</td>\n",
       "    </tr>\n",
       "    <tr>\n",
       "      <th>2</th>\n",
       "      <td>01_dubbo</td>\n",
       "      <td>dubbo-cluster</td>\n",
       "      <td>[attachment, value, key, invoker, sticky, invo...</td>\n",
       "      <td>[Bayesian inference, Containerization, File Tr...</td>\n",
       "      <td>[0.0006186695022802121, 0.001075709038256659, ...</td>\n",
       "      <td>[0.0, 0.0, 0.0, 0.0, 0.0, 0.0, 0.0, 0.0, 0.0, ...</td>\n",
       "      <td>[0.6911600078814237, 0.7035368565205871, 0.702...</td>\n",
       "      <td>[0.40690482, 0.49188542, 0.5312029, 0.56280786...</td>\n",
       "    </tr>\n",
       "    <tr>\n",
       "      <th>3</th>\n",
       "      <td>01_dubbo</td>\n",
       "      <td>dubbo-cluster</td>\n",
       "      <td>[url, model, merge, merger, module, router, pr...</td>\n",
       "      <td>[Bayesian inference, Containerization, File Tr...</td>\n",
       "      <td>[0.0006186695022802121, 0.001075709038256659, ...</td>\n",
       "      <td>[0.0, 0.0, 0.0, 0.0, 0.0, 0.0, 0.0, 0.0, 0.0, ...</td>\n",
       "      <td>[0.6902347290707492, 0.7037540389490645, 0.712...</td>\n",
       "      <td>[0.52358633, 0.5582562, 0.5021834, 0.5214653, ...</td>\n",
       "    </tr>\n",
       "    <tr>\n",
       "      <th>4</th>\n",
       "      <td>01_dubbo</td>\n",
       "      <td>dubbo-cluster</td>\n",
       "      <td>[match, configurator, mock, bool, join, absent...</td>\n",
       "      <td>[Bayesian inference, Containerization, File Tr...</td>\n",
       "      <td>[0.0006186695022802121, 0.001075709038256659, ...</td>\n",
       "      <td>[0.0, 0.0, 0.0, 0.0, 0.0, 0.0, 0.0, 0.0, 0.0, ...</td>\n",
       "      <td>[0.6863980044930774, 0.6988732122595529, 0.689...</td>\n",
       "      <td>[0.4701079, 0.47720772, 0.42111737, 0.5253796,...</td>\n",
       "    </tr>\n",
       "    <tr>\n",
       "      <th>...</th>\n",
       "      <td>...</td>\n",
       "      <td>...</td>\n",
       "      <td>...</td>\n",
       "      <td>...</td>\n",
       "      <td>...</td>\n",
       "      <td>...</td>\n",
       "      <td>...</td>\n",
       "      <td>...</td>\n",
       "    </tr>\n",
       "    <tr>\n",
       "      <th>2218</th>\n",
       "      <td>45_archiva-components</td>\n",
       "      <td>spring-taskqueue</td>\n",
       "      <td>[task, evaluator, evaluate, project, build, co...</td>\n",
       "      <td>[HTTP client, HTTP server, Web Components, Wor...</td>\n",
       "      <td>[0.024542570908181953, 0.021938531171453578, 0...</td>\n",
       "      <td>[0.0, 0.0, 0.0, 0.0, 0.072746545, 0.0, 0.0, 0....</td>\n",
       "      <td>[0.6963655362704815, 0.689622213606539, 0.6963...</td>\n",
       "      <td>[0.45968315, 0.45377582, 0.530491, 0.47489896,...</td>\n",
       "    </tr>\n",
       "    <tr>\n",
       "      <th>2219</th>\n",
       "      <td>45_archiva-components</td>\n",
       "      <td>spring-taskqueue</td>\n",
       "      <td>[task, queue, executor, build, project, expect...</td>\n",
       "      <td>[HTTP client, HTTP server, Web Components, Wor...</td>\n",
       "      <td>[0.024542570908181953, 0.021938531171453578, 0...</td>\n",
       "      <td>[0.0, 0.0, 0.0, 0.0, 0.07758436, 0.0, 0.0, 0.0...</td>\n",
       "      <td>[0.713515348347259, 0.706661825473746, 0.70759...</td>\n",
       "      <td>[0.46313748, 0.46530777, 0.45497382, 0.4139059...</td>\n",
       "    </tr>\n",
       "    <tr>\n",
       "      <th>2220</th>\n",
       "      <td>45_archiva-components</td>\n",
       "      <td>spring-taskqueue</td>\n",
       "      <td>[task, evaluator, exit, evaluate, queue, expec...</td>\n",
       "      <td>[HTTP client, HTTP server, Web Components, Wor...</td>\n",
       "      <td>[0.024542570908181953, 0.021938531171453578, 0...</td>\n",
       "      <td>[0.0, 0.0, 0.0, 0.0, 0.02112553, 0.0, 0.0, 0.0...</td>\n",
       "      <td>[0.7195561702420139, 0.7138746536780918, 0.716...</td>\n",
       "      <td>[0.45056364, 0.45415366, 0.46568096, 0.4344633...</td>\n",
       "    </tr>\n",
       "    <tr>\n",
       "      <th>2221</th>\n",
       "      <td>45_archiva-components</td>\n",
       "      <td>spring-taskqueue</td>\n",
       "      <td>[task, evaluate, entry, evaluator, exit, proje...</td>\n",
       "      <td>[HTTP client, HTTP server, Web Components, Wor...</td>\n",
       "      <td>[0.024542570908181953, 0.021938531171453578, 0...</td>\n",
       "      <td>[0.0, 0.0, 0.0, 0.0, 0.08187002, 0.0, 0.0, 0.0...</td>\n",
       "      <td>[0.7091316903562347, 0.6954968901204565, 0.716...</td>\n",
       "      <td>[0.47785676, 0.47983515, 0.49708745, 0.4551291...</td>\n",
       "    </tr>\n",
       "    <tr>\n",
       "      <th>2222</th>\n",
       "      <td>45_archiva-components</td>\n",
       "      <td>spring-taskqueue</td>\n",
       "      <td>[evaluator, time, execution, entry, exit, igno...</td>\n",
       "      <td>[HTTP client, HTTP server, Web Components, Wor...</td>\n",
       "      <td>[0.024542570908181953, 0.021938531171453578, 0...</td>\n",
       "      <td>[0.0, 0.0, 0.0, 0.0, 0.016473297, 0.0, 0.0, 0....</td>\n",
       "      <td>[0.7353033507903608, 0.7216334703102353, 0.720...</td>\n",
       "      <td>[0.44567806, 0.44676533, 0.4591686, 0.40797904...</td>\n",
       "    </tr>\n",
       "  </tbody>\n",
       "</table>\n",
       "<p>2223 rows × 8 columns</p>\n",
       "</div>"
      ],
      "text/plain": [
       "               project_name            module   \n",
       "0                  01_dubbo     dubbo-cluster  \\\n",
       "1                  01_dubbo     dubbo-cluster   \n",
       "2                  01_dubbo     dubbo-cluster   \n",
       "3                  01_dubbo     dubbo-cluster   \n",
       "4                  01_dubbo     dubbo-cluster   \n",
       "...                     ...               ...   \n",
       "2218  45_archiva-components  spring-taskqueue   \n",
       "2219  45_archiva-components  spring-taskqueue   \n",
       "2220  45_archiva-components  spring-taskqueue   \n",
       "2221  45_archiva-components  spring-taskqueue   \n",
       "2222  45_archiva-components  spring-taskqueue   \n",
       "\n",
       "                                                concept   \n",
       "0     [invoker, hello, menu, service, load, balance,...  \\\n",
       "1     [invoker, invocation, url, cluster, mock, resu...   \n",
       "2     [attachment, value, key, invoker, sticky, invo...   \n",
       "3     [url, model, merge, merger, module, router, pr...   \n",
       "4     [match, configurator, mock, bool, join, absent...   \n",
       "...                                                 ...   \n",
       "2218  [task, evaluator, evaluate, project, build, co...   \n",
       "2219  [task, queue, executor, build, project, expect...   \n",
       "2220  [task, evaluator, exit, evaluate, queue, expec...   \n",
       "2221  [task, evaluate, entry, evaluator, exit, proje...   \n",
       "2222  [evaluator, time, execution, entry, exit, igno...   \n",
       "\n",
       "                                                domains   \n",
       "0     [Bayesian inference, Containerization, File Tr...  \\\n",
       "1     [Bayesian inference, Containerization, File Tr...   \n",
       "2     [Bayesian inference, Containerization, File Tr...   \n",
       "3     [Bayesian inference, Containerization, File Tr...   \n",
       "4     [Bayesian inference, Containerization, File Tr...   \n",
       "...                                                 ...   \n",
       "2218  [HTTP client, HTTP server, Web Components, Wor...   \n",
       "2219  [HTTP client, HTTP server, Web Components, Wor...   \n",
       "2220  [HTTP client, HTTP server, Web Components, Wor...   \n",
       "2221  [HTTP client, HTTP server, Web Components, Wor...   \n",
       "2222  [HTTP client, HTTP server, Web Components, Wor...   \n",
       "\n",
       "                                            weight_dist   \n",
       "0     [0.0006186695022802121, 0.001075709038256659, ...  \\\n",
       "1     [0.0006186695022802121, 0.001075709038256659, ...   \n",
       "2     [0.0006186695022802121, 0.001075709038256659, ...   \n",
       "3     [0.0006186695022802121, 0.001075709038256659, ...   \n",
       "4     [0.0006186695022802121, 0.001075709038256659, ...   \n",
       "...                                                 ...   \n",
       "2218  [0.024542570908181953, 0.021938531171453578, 0...   \n",
       "2219  [0.024542570908181953, 0.021938531171453578, 0...   \n",
       "2220  [0.024542570908181953, 0.021938531171453578, 0...   \n",
       "2221  [0.024542570908181953, 0.021938531171453578, 0...   \n",
       "2222  [0.024542570908181953, 0.021938531171453578, 0...   \n",
       "\n",
       "                                   sow2v_test_sim_score   \n",
       "0     [0.0, 0.0, 0.0, 0.0, 0.0, 0.0, 0.0, 0.0, 0.0, ...  \\\n",
       "1     [0.0, 0.0, 0.0, 0.0, 0.0, 0.0, 0.0, 0.0, 0.0, ...   \n",
       "2     [0.0, 0.0, 0.0, 0.0, 0.0, 0.0, 0.0, 0.0, 0.0, ...   \n",
       "3     [0.0, 0.0, 0.0, 0.0, 0.0, 0.0, 0.0, 0.0, 0.0, ...   \n",
       "4     [0.0, 0.0, 0.0, 0.0, 0.0, 0.0, 0.0, 0.0, 0.0, ...   \n",
       "...                                                 ...   \n",
       "2218  [0.0, 0.0, 0.0, 0.0, 0.072746545, 0.0, 0.0, 0....   \n",
       "2219  [0.0, 0.0, 0.0, 0.0, 0.07758436, 0.0, 0.0, 0.0...   \n",
       "2220  [0.0, 0.0, 0.0, 0.0, 0.02112553, 0.0, 0.0, 0.0...   \n",
       "2221  [0.0, 0.0, 0.0, 0.0, 0.08187002, 0.0, 0.0, 0.0...   \n",
       "2222  [0.0, 0.0, 0.0, 0.0, 0.016473297, 0.0, 0.0, 0....   \n",
       "\n",
       "                                     gpt_test_sim_score   \n",
       "0     [0.6969462948905291, 0.699122397759385, 0.6885...  \\\n",
       "1     [0.7105901433756564, 0.7263724106567162, 0.707...   \n",
       "2     [0.6911600078814237, 0.7035368565205871, 0.702...   \n",
       "3     [0.6902347290707492, 0.7037540389490645, 0.712...   \n",
       "4     [0.6863980044930774, 0.6988732122595529, 0.689...   \n",
       "...                                                 ...   \n",
       "2218  [0.6963655362704815, 0.689622213606539, 0.6963...   \n",
       "2219  [0.713515348347259, 0.706661825473746, 0.70759...   \n",
       "2220  [0.7195561702420139, 0.7138746536780918, 0.716...   \n",
       "2221  [0.7091316903562347, 0.6954968901204565, 0.716...   \n",
       "2222  [0.7353033507903608, 0.7216334703102353, 0.720...   \n",
       "\n",
       "                                   angle_test_sim_score  \n",
       "0     [0.46962628, 0.51499, 0.4604619, 0.5574089, 0....  \n",
       "1     [0.42823136, 0.49603176, 0.4982496, 0.57298434...  \n",
       "2     [0.40690482, 0.49188542, 0.5312029, 0.56280786...  \n",
       "3     [0.52358633, 0.5582562, 0.5021834, 0.5214653, ...  \n",
       "4     [0.4701079, 0.47720772, 0.42111737, 0.5253796,...  \n",
       "...                                                 ...  \n",
       "2218  [0.45968315, 0.45377582, 0.530491, 0.47489896,...  \n",
       "2219  [0.46313748, 0.46530777, 0.45497382, 0.4139059...  \n",
       "2220  [0.45056364, 0.45415366, 0.46568096, 0.4344633...  \n",
       "2221  [0.47785676, 0.47983515, 0.49708745, 0.4551291...  \n",
       "2222  [0.44567806, 0.44676533, 0.4591686, 0.40797904...  \n",
       "\n",
       "[2223 rows x 8 columns]"
      ]
     },
     "execution_count": 80,
     "metadata": {},
     "output_type": "execute_result"
    }
   ],
   "source": [
    "test_domain_sim_df = sow2v_test_domain_res_df.copy()\n",
    "test_domain_sim_df['gpt_test_sim_score'] = test_dom_gpt_sim_df['gpt_test_sim_score']\n",
    "test_domain_sim_df['angle_test_sim_score'] = test_dom_angle_sim_df['angle_test_sim_score']\n",
    "test_domain_sim_df"
   ]
  },
  {
   "cell_type": "code",
   "execution_count": 81,
   "metadata": {},
   "outputs": [],
   "source": [
    "test_domain_sim_df.to_csv(\"sim_test_domain_df.csv\", index=False)"
   ]
  },
  {
   "cell_type": "code",
   "execution_count": 82,
   "metadata": {},
   "outputs": [
    {
     "data": {
      "text/html": [
       "<div>\n",
       "<style scoped>\n",
       "    .dataframe tbody tr th:only-of-type {\n",
       "        vertical-align: middle;\n",
       "    }\n",
       "\n",
       "    .dataframe tbody tr th {\n",
       "        vertical-align: top;\n",
       "    }\n",
       "\n",
       "    .dataframe thead th {\n",
       "        text-align: right;\n",
       "    }\n",
       "</style>\n",
       "<table border=\"1\" class=\"dataframe\">\n",
       "  <thead>\n",
       "    <tr style=\"text-align: right;\">\n",
       "      <th></th>\n",
       "      <th>project_name</th>\n",
       "      <th>module</th>\n",
       "      <th>concept</th>\n",
       "      <th>domains</th>\n",
       "      <th>weight_dist</th>\n",
       "      <th>sow2v_doc_sim_score</th>\n",
       "      <th>gpt_doc_sim_score</th>\n",
       "      <th>angle_doc_sim_score</th>\n",
       "    </tr>\n",
       "  </thead>\n",
       "  <tbody>\n",
       "    <tr>\n",
       "      <th>0</th>\n",
       "      <td>01_dubbo</td>\n",
       "      <td>dubbo-cluster</td>\n",
       "      <td>[service, see, issue, sample, project, github,...</td>\n",
       "      <td>[Bayesian inference, Containerization, File Tr...</td>\n",
       "      <td>[0.0006186695022802121, 0.001075709038256659, ...</td>\n",
       "      <td>[0.0, 0.0, 0.0, 0.0, 0.0, 0.0, 0.0, 0.0, 0.0, ...</td>\n",
       "      <td>[0.7151548075641246, 0.7452139517589933, 0.726...</td>\n",
       "      <td>[0.4223302, 0.54775983, 0.4744687, 0.528439, 0...</td>\n",
       "    </tr>\n",
       "    <tr>\n",
       "      <th>1</th>\n",
       "      <td>01_dubbo</td>\n",
       "      <td>dubbo-cluster</td>\n",
       "      <td>[contribute, issue, sample, project, service, ...</td>\n",
       "      <td>[Bayesian inference, Containerization, File Tr...</td>\n",
       "      <td>[0.0006186695022802121, 0.001075709038256659, ...</td>\n",
       "      <td>[0.0, 0.0, 0.0, 0.0, 0.0, 0.0, 0.0, 0.0, 0.0, ...</td>\n",
       "      <td>[0.7262556385432636, 0.7367756398724646, 0.720...</td>\n",
       "      <td>[0.38913843, 0.53583735, 0.45912963, 0.4984625...</td>\n",
       "    </tr>\n",
       "    <tr>\n",
       "      <th>2</th>\n",
       "      <td>01_dubbo</td>\n",
       "      <td>dubbo-cluster</td>\n",
       "      <td>[issue, service, project, list, see, github, r...</td>\n",
       "      <td>[Bayesian inference, Containerization, File Tr...</td>\n",
       "      <td>[0.0006186695022802121, 0.001075709038256659, ...</td>\n",
       "      <td>[0.0, 0.0, 0.0, 0.0, 0.0, 0.0, 0.0, 0.0, 0.0, ...</td>\n",
       "      <td>[0.7266753311234634, 0.7361773056848603, 0.727...</td>\n",
       "      <td>[0.4397305, 0.5552181, 0.4954759, 0.53429127, ...</td>\n",
       "    </tr>\n",
       "    <tr>\n",
       "      <th>3</th>\n",
       "      <td>01_dubbo</td>\n",
       "      <td>dubbo-cluster</td>\n",
       "      <td>[service, see, project, build, github, sample,...</td>\n",
       "      <td>[Bayesian inference, Containerization, File Tr...</td>\n",
       "      <td>[0.0006186695022802121, 0.001075709038256659, ...</td>\n",
       "      <td>[0.0, 0.0, 0.0, 0.0, 0.0, 0.0, 0.0, 0.0, 0.0, ...</td>\n",
       "      <td>[0.7181566198682772, 0.7366335309908381, 0.725...</td>\n",
       "      <td>[0.39362937, 0.5181406, 0.4197607, 0.5035975, ...</td>\n",
       "    </tr>\n",
       "    <tr>\n",
       "      <th>4</th>\n",
       "      <td>01_dubbo</td>\n",
       "      <td>dubbo-cluster</td>\n",
       "      <td>[see, issue, sample, service, contribute, guid...</td>\n",
       "      <td>[Bayesian inference, Containerization, File Tr...</td>\n",
       "      <td>[0.0006186695022802121, 0.001075709038256659, ...</td>\n",
       "      <td>[0.0, 0.0, 0.0, 0.0, 0.0, 0.0, 0.0, 0.0, 0.0, ...</td>\n",
       "      <td>[0.7274142866301703, 0.7355761559871075, 0.720...</td>\n",
       "      <td>[0.45590687, 0.56785774, 0.5061829, 0.53482467...</td>\n",
       "    </tr>\n",
       "    <tr>\n",
       "      <th>...</th>\n",
       "      <td>...</td>\n",
       "      <td>...</td>\n",
       "      <td>...</td>\n",
       "      <td>...</td>\n",
       "      <td>...</td>\n",
       "      <td>...</td>\n",
       "      <td>...</td>\n",
       "      <td>...</td>\n",
       "    </tr>\n",
       "    <tr>\n",
       "      <th>2294</th>\n",
       "      <td>45_archiva-components</td>\n",
       "      <td>spring-taskqueue</td>\n",
       "      <td>[repository, publish, web, mvn, site, use, bui...</td>\n",
       "      <td>[HTTP client, HTTP server, Web Components, Wor...</td>\n",
       "      <td>[0.024542570908181953, 0.021938531171453578, 0...</td>\n",
       "      <td>[0.0, 0.0, 0.0, 0.0, 0.26086873, 0.0, 0.0, 0.0...</td>\n",
       "      <td>[0.745366006597648, 0.7616155131537632, 0.7709...</td>\n",
       "      <td>[0.5224836, 0.49912876, 0.57825845, 0.54174364...</td>\n",
       "    </tr>\n",
       "    <tr>\n",
       "      <th>2295</th>\n",
       "      <td>45_archiva-components</td>\n",
       "      <td>spring-taskqueue</td>\n",
       "      <td>[publish, repository, web, site, build, mvn, c...</td>\n",
       "      <td>[HTTP client, HTTP server, Web Components, Wor...</td>\n",
       "      <td>[0.024542570908181953, 0.021938531171453578, 0...</td>\n",
       "      <td>[0.0, 0.0, 0.0, 0.0, 0.31279874, 0.0, 0.0, 0.0...</td>\n",
       "      <td>[0.7540390295412137, 0.7645617605796236, 0.766...</td>\n",
       "      <td>[0.54529005, 0.53203326, 0.6424372, 0.58816844...</td>\n",
       "    </tr>\n",
       "    <tr>\n",
       "      <th>2296</th>\n",
       "      <td>45_archiva-components</td>\n",
       "      <td>spring-taskqueue</td>\n",
       "      <td>[repository, mvn, publish, build, checkout, si...</td>\n",
       "      <td>[HTTP client, HTTP server, Web Components, Wor...</td>\n",
       "      <td>[0.024542570908181953, 0.021938531171453578, 0...</td>\n",
       "      <td>[0.0, 0.0, 0.0, 0.0, 0.3412402, 0.0, 0.0, 0.0,...</td>\n",
       "      <td>[0.7577008045568522, 0.766975947736308, 0.7863...</td>\n",
       "      <td>[0.52580225, 0.49857324, 0.633036, 0.5670292, ...</td>\n",
       "    </tr>\n",
       "    <tr>\n",
       "      <th>2297</th>\n",
       "      <td>45_archiva-components</td>\n",
       "      <td>spring-taskqueue</td>\n",
       "      <td>[repository, publish, site, web, mvn, checkout...</td>\n",
       "      <td>[HTTP client, HTTP server, Web Components, Wor...</td>\n",
       "      <td>[0.024542570908181953, 0.021938531171453578, 0...</td>\n",
       "      <td>[0.0, 0.0, 0.0, 0.0, 0.3412402, 0.0, 0.0, 0.0,...</td>\n",
       "      <td>[0.7578298813154625, 0.7653744358564094, 0.783...</td>\n",
       "      <td>[0.5275348, 0.5032817, 0.6318431, 0.5592589, 0...</td>\n",
       "    </tr>\n",
       "    <tr>\n",
       "      <th>2298</th>\n",
       "      <td>45_archiva-components</td>\n",
       "      <td>spring-taskqueue</td>\n",
       "      <td>[repository, publish, mvn, web, site, use, bui...</td>\n",
       "      <td>[HTTP client, HTTP server, Web Components, Wor...</td>\n",
       "      <td>[0.024542570908181953, 0.021938531171453578, 0...</td>\n",
       "      <td>[0.0, 0.0, 0.0, 0.0, 0.32542464, 0.0, 0.0, 0.0...</td>\n",
       "      <td>[0.7601853391324599, 0.7625266964192183, 0.765...</td>\n",
       "      <td>[0.535234, 0.5184861, 0.6258935, 0.5690726, 0....</td>\n",
       "    </tr>\n",
       "  </tbody>\n",
       "</table>\n",
       "<p>2299 rows × 8 columns</p>\n",
       "</div>"
      ],
      "text/plain": [
       "               project_name            module   \n",
       "0                  01_dubbo     dubbo-cluster  \\\n",
       "1                  01_dubbo     dubbo-cluster   \n",
       "2                  01_dubbo     dubbo-cluster   \n",
       "3                  01_dubbo     dubbo-cluster   \n",
       "4                  01_dubbo     dubbo-cluster   \n",
       "...                     ...               ...   \n",
       "2294  45_archiva-components  spring-taskqueue   \n",
       "2295  45_archiva-components  spring-taskqueue   \n",
       "2296  45_archiva-components  spring-taskqueue   \n",
       "2297  45_archiva-components  spring-taskqueue   \n",
       "2298  45_archiva-components  spring-taskqueue   \n",
       "\n",
       "                                                concept   \n",
       "0     [service, see, issue, sample, project, github,...  \\\n",
       "1     [contribute, issue, sample, project, service, ...   \n",
       "2     [issue, service, project, list, see, github, r...   \n",
       "3     [service, see, project, build, github, sample,...   \n",
       "4     [see, issue, sample, service, contribute, guid...   \n",
       "...                                                 ...   \n",
       "2294  [repository, publish, web, mvn, site, use, bui...   \n",
       "2295  [publish, repository, web, site, build, mvn, c...   \n",
       "2296  [repository, mvn, publish, build, checkout, si...   \n",
       "2297  [repository, publish, site, web, mvn, checkout...   \n",
       "2298  [repository, publish, mvn, web, site, use, bui...   \n",
       "\n",
       "                                                domains   \n",
       "0     [Bayesian inference, Containerization, File Tr...  \\\n",
       "1     [Bayesian inference, Containerization, File Tr...   \n",
       "2     [Bayesian inference, Containerization, File Tr...   \n",
       "3     [Bayesian inference, Containerization, File Tr...   \n",
       "4     [Bayesian inference, Containerization, File Tr...   \n",
       "...                                                 ...   \n",
       "2294  [HTTP client, HTTP server, Web Components, Wor...   \n",
       "2295  [HTTP client, HTTP server, Web Components, Wor...   \n",
       "2296  [HTTP client, HTTP server, Web Components, Wor...   \n",
       "2297  [HTTP client, HTTP server, Web Components, Wor...   \n",
       "2298  [HTTP client, HTTP server, Web Components, Wor...   \n",
       "\n",
       "                                            weight_dist   \n",
       "0     [0.0006186695022802121, 0.001075709038256659, ...  \\\n",
       "1     [0.0006186695022802121, 0.001075709038256659, ...   \n",
       "2     [0.0006186695022802121, 0.001075709038256659, ...   \n",
       "3     [0.0006186695022802121, 0.001075709038256659, ...   \n",
       "4     [0.0006186695022802121, 0.001075709038256659, ...   \n",
       "...                                                 ...   \n",
       "2294  [0.024542570908181953, 0.021938531171453578, 0...   \n",
       "2295  [0.024542570908181953, 0.021938531171453578, 0...   \n",
       "2296  [0.024542570908181953, 0.021938531171453578, 0...   \n",
       "2297  [0.024542570908181953, 0.021938531171453578, 0...   \n",
       "2298  [0.024542570908181953, 0.021938531171453578, 0...   \n",
       "\n",
       "                                    sow2v_doc_sim_score   \n",
       "0     [0.0, 0.0, 0.0, 0.0, 0.0, 0.0, 0.0, 0.0, 0.0, ...  \\\n",
       "1     [0.0, 0.0, 0.0, 0.0, 0.0, 0.0, 0.0, 0.0, 0.0, ...   \n",
       "2     [0.0, 0.0, 0.0, 0.0, 0.0, 0.0, 0.0, 0.0, 0.0, ...   \n",
       "3     [0.0, 0.0, 0.0, 0.0, 0.0, 0.0, 0.0, 0.0, 0.0, ...   \n",
       "4     [0.0, 0.0, 0.0, 0.0, 0.0, 0.0, 0.0, 0.0, 0.0, ...   \n",
       "...                                                 ...   \n",
       "2294  [0.0, 0.0, 0.0, 0.0, 0.26086873, 0.0, 0.0, 0.0...   \n",
       "2295  [0.0, 0.0, 0.0, 0.0, 0.31279874, 0.0, 0.0, 0.0...   \n",
       "2296  [0.0, 0.0, 0.0, 0.0, 0.3412402, 0.0, 0.0, 0.0,...   \n",
       "2297  [0.0, 0.0, 0.0, 0.0, 0.3412402, 0.0, 0.0, 0.0,...   \n",
       "2298  [0.0, 0.0, 0.0, 0.0, 0.32542464, 0.0, 0.0, 0.0...   \n",
       "\n",
       "                                      gpt_doc_sim_score   \n",
       "0     [0.7151548075641246, 0.7452139517589933, 0.726...  \\\n",
       "1     [0.7262556385432636, 0.7367756398724646, 0.720...   \n",
       "2     [0.7266753311234634, 0.7361773056848603, 0.727...   \n",
       "3     [0.7181566198682772, 0.7366335309908381, 0.725...   \n",
       "4     [0.7274142866301703, 0.7355761559871075, 0.720...   \n",
       "...                                                 ...   \n",
       "2294  [0.745366006597648, 0.7616155131537632, 0.7709...   \n",
       "2295  [0.7540390295412137, 0.7645617605796236, 0.766...   \n",
       "2296  [0.7577008045568522, 0.766975947736308, 0.7863...   \n",
       "2297  [0.7578298813154625, 0.7653744358564094, 0.783...   \n",
       "2298  [0.7601853391324599, 0.7625266964192183, 0.765...   \n",
       "\n",
       "                                    angle_doc_sim_score  \n",
       "0     [0.4223302, 0.54775983, 0.4744687, 0.528439, 0...  \n",
       "1     [0.38913843, 0.53583735, 0.45912963, 0.4984625...  \n",
       "2     [0.4397305, 0.5552181, 0.4954759, 0.53429127, ...  \n",
       "3     [0.39362937, 0.5181406, 0.4197607, 0.5035975, ...  \n",
       "4     [0.45590687, 0.56785774, 0.5061829, 0.53482467...  \n",
       "...                                                 ...  \n",
       "2294  [0.5224836, 0.49912876, 0.57825845, 0.54174364...  \n",
       "2295  [0.54529005, 0.53203326, 0.6424372, 0.58816844...  \n",
       "2296  [0.52580225, 0.49857324, 0.633036, 0.5670292, ...  \n",
       "2297  [0.5275348, 0.5032817, 0.6318431, 0.5592589, 0...  \n",
       "2298  [0.535234, 0.5184861, 0.6258935, 0.5690726, 0....  \n",
       "\n",
       "[2299 rows x 8 columns]"
      ]
     },
     "execution_count": 82,
     "metadata": {},
     "output_type": "execute_result"
    }
   ],
   "source": [
    "doc_domain_sim_df = sow2v_doc_domain_res_df.copy()\n",
    "doc_domain_sim_df['gpt_doc_sim_score'] = doc_dom_gpt_sim_df['gpt_doc_sim_score']\n",
    "doc_domain_sim_df['angle_doc_sim_score'] = doc_dom_angle_sim_df['angle_doc_sim_score']\n",
    "doc_domain_sim_df"
   ]
  },
  {
   "cell_type": "code",
   "execution_count": 83,
   "metadata": {},
   "outputs": [],
   "source": [
    "doc_domain_sim_df.to_csv(\"sim_doc_domain_df.csv\", index=False)"
   ]
  },
  {
   "cell_type": "markdown",
   "metadata": {},
   "source": [
    "## Represent concepts in a vector space (RQ1)"
   ]
  },
  {
   "cell_type": "code",
   "execution_count": 1,
   "metadata": {},
   "outputs": [],
   "source": [
    "import pandas as pd\n",
    "\n",
    "code_domain_sim_df = pd.read_csv(\"sim_code_domain_df.csv\")\n",
    "test_domain_sim_df = pd.read_csv(\"sim_test_domain_df.csv\")\n",
    "doc_domain_sim_df = pd.read_csv(\"sim_doc_domain_df.csv\")"
   ]
  },
  {
   "cell_type": "code",
   "execution_count": 2,
   "metadata": {},
   "outputs": [],
   "source": [
    "topics_df = pd.read_csv(\"topics_res_df.csv\")\n",
    "doc_num_list = topics_df[[\"project_name\", \"doc_num_topics\"]].drop_duplicates(ignore_index=True)['doc_num_topics'].tolist()"
   ]
  },
  {
   "cell_type": "code",
   "execution_count": 3,
   "metadata": {},
   "outputs": [],
   "source": [
    "new_doc_df_list = []\n",
    "\n",
    "for prefix in range(1,46):\n",
    "    if prefix<10:\n",
    "        prefix = '0' + str(prefix)\n",
    "    new_doc_df_list.append(doc_domain_sim_df[doc_domain_sim_df['project_name'].str.startswith(str(prefix))][['project_name', 'concept']][:doc_num_list[int(prefix)-1]])"
   ]
  },
  {
   "cell_type": "code",
   "execution_count": 4,
   "metadata": {},
   "outputs": [
    {
     "data": {
      "text/html": [
       "<div>\n",
       "<style scoped>\n",
       "    .dataframe tbody tr th:only-of-type {\n",
       "        vertical-align: middle;\n",
       "    }\n",
       "\n",
       "    .dataframe tbody tr th {\n",
       "        vertical-align: top;\n",
       "    }\n",
       "\n",
       "    .dataframe thead th {\n",
       "        text-align: right;\n",
       "    }\n",
       "</style>\n",
       "<table border=\"1\" class=\"dataframe\">\n",
       "  <thead>\n",
       "    <tr style=\"text-align: right;\">\n",
       "      <th></th>\n",
       "      <th>project_name</th>\n",
       "      <th>concept</th>\n",
       "    </tr>\n",
       "  </thead>\n",
       "  <tbody>\n",
       "    <tr>\n",
       "      <th>0</th>\n",
       "      <td>01_dubbo</td>\n",
       "      <td>['service', 'see', 'issue', 'sample', 'project...</td>\n",
       "    </tr>\n",
       "    <tr>\n",
       "      <th>1</th>\n",
       "      <td>01_dubbo</td>\n",
       "      <td>['contribute', 'issue', 'sample', 'project', '...</td>\n",
       "    </tr>\n",
       "    <tr>\n",
       "      <th>2</th>\n",
       "      <td>01_dubbo</td>\n",
       "      <td>['issue', 'service', 'project', 'list', 'see',...</td>\n",
       "    </tr>\n",
       "    <tr>\n",
       "      <th>3</th>\n",
       "      <td>01_dubbo</td>\n",
       "      <td>['service', 'see', 'project', 'build', 'github...</td>\n",
       "    </tr>\n",
       "    <tr>\n",
       "      <th>4</th>\n",
       "      <td>01_dubbo</td>\n",
       "      <td>['see', 'issue', 'sample', 'service', 'contrib...</td>\n",
       "    </tr>\n",
       "    <tr>\n",
       "      <th>...</th>\n",
       "      <td>...</td>\n",
       "      <td>...</td>\n",
       "    </tr>\n",
       "    <tr>\n",
       "      <th>343</th>\n",
       "      <td>45_archiva-components</td>\n",
       "      <td>['repository', 'publish', 'web', 'mvn', 'site'...</td>\n",
       "    </tr>\n",
       "    <tr>\n",
       "      <th>344</th>\n",
       "      <td>45_archiva-components</td>\n",
       "      <td>['publish', 'repository', 'web', 'site', 'buil...</td>\n",
       "    </tr>\n",
       "    <tr>\n",
       "      <th>345</th>\n",
       "      <td>45_archiva-components</td>\n",
       "      <td>['repository', 'mvn', 'publish', 'build', 'che...</td>\n",
       "    </tr>\n",
       "    <tr>\n",
       "      <th>346</th>\n",
       "      <td>45_archiva-components</td>\n",
       "      <td>['repository', 'publish', 'site', 'web', 'mvn'...</td>\n",
       "    </tr>\n",
       "    <tr>\n",
       "      <th>347</th>\n",
       "      <td>45_archiva-components</td>\n",
       "      <td>['repository', 'publish', 'mvn', 'web', 'site'...</td>\n",
       "    </tr>\n",
       "  </tbody>\n",
       "</table>\n",
       "<p>348 rows × 2 columns</p>\n",
       "</div>"
      ],
      "text/plain": [
       "              project_name                                            concept\n",
       "0                 01_dubbo  ['service', 'see', 'issue', 'sample', 'project...\n",
       "1                 01_dubbo  ['contribute', 'issue', 'sample', 'project', '...\n",
       "2                 01_dubbo  ['issue', 'service', 'project', 'list', 'see',...\n",
       "3                 01_dubbo  ['service', 'see', 'project', 'build', 'github...\n",
       "4                 01_dubbo  ['see', 'issue', 'sample', 'service', 'contrib...\n",
       "..                     ...                                                ...\n",
       "343  45_archiva-components  ['repository', 'publish', 'web', 'mvn', 'site'...\n",
       "344  45_archiva-components  ['publish', 'repository', 'web', 'site', 'buil...\n",
       "345  45_archiva-components  ['repository', 'mvn', 'publish', 'build', 'che...\n",
       "346  45_archiva-components  ['repository', 'publish', 'site', 'web', 'mvn'...\n",
       "347  45_archiva-components  ['repository', 'publish', 'mvn', 'web', 'site'...\n",
       "\n",
       "[348 rows x 2 columns]"
      ]
     },
     "execution_count": 4,
     "metadata": {},
     "output_type": "execute_result"
    }
   ],
   "source": [
    "new_doc_df = pd.concat(new_doc_df_list, ignore_index=True)\n",
    "new_doc_df"
   ]
  },
  {
   "cell_type": "code",
   "execution_count": 5,
   "metadata": {},
   "outputs": [],
   "source": [
    "module_df = pd.read_csv(\"module_df.csv\")\n",
    "code_concept_list = module_df['code_topics']\n",
    "test_concept_list = module_df['test_topics']\n",
    "doc_concept_list = module_df['doc_topics']\n",
    "prob_dist_list = module_df['prob_dist']\n",
    "domains_list = module_df['domains']"
   ]
  },
  {
   "cell_type": "code",
   "execution_count": 6,
   "metadata": {},
   "outputs": [],
   "source": [
    "gpt_doc_concept_list = doc_concept_list.drop_duplicates(ignore_index=True)"
   ]
  },
  {
   "cell_type": "code",
   "execution_count": 7,
   "metadata": {},
   "outputs": [],
   "source": [
    "from numpy import load\n",
    "\n",
    "gpt_code_vec_list = []\n",
    "gpt_test_vec_list = []\n",
    "gpt_doc_vec_list = []\n",
    "angle_code_vec_list = []\n",
    "angle_test_vec_list = []\n",
    "angle_doc_vec_list = []\n",
    "\n",
    "for i in range(0, len(code_concept_list)): # 313 modules\n",
    "\n",
    "    curr_code_vec = load(f\"gpt_code_vec\\\\{i}.npy\")\n",
    "    gpt_code_vec_list.append(curr_code_vec)\n",
    "\n",
    "for i in range(0, len(test_concept_list)): # 313 modules\n",
    "\n",
    "    curr_test_vec = load(f\"gpt_test_vec\\\\{i}.npy\")\n",
    "    gpt_test_vec_list.append(curr_test_vec)\n",
    "\n",
    "for i in range(0, len(gpt_doc_concept_list)):\n",
    "\n",
    "    curr_doc_vec = load(f\"gpt_doc_vec\\\\{i}.npy\")\n",
    "    gpt_doc_vec_list.append(curr_doc_vec)\n",
    "\n",
    "for i in range(0, len(code_concept_list)): # 313 modules\n",
    "\n",
    "    curr_code_vec = load(f\"angle_code_vec\\\\{i}.npy\")\n",
    "    angle_code_vec_list.append(curr_code_vec)\n",
    "\n",
    "for i in range(0, len(test_concept_list)): # 313 modules\n",
    "\n",
    "    curr_test_vec = load(f\"angle_test_vec\\\\{i}.npy\")\n",
    "    angle_test_vec_list.append(curr_test_vec)\n",
    "\n",
    "for i in range(0, len(doc_concept_list)):\n",
    "\n",
    "    curr_doc_vec = load(f\"angle_doc_vec\\\\{i}.npy\")\n",
    "    angle_doc_vec_list.append(curr_doc_vec)"
   ]
  },
  {
   "cell_type": "code",
   "execution_count": 76,
   "metadata": {},
   "outputs": [],
   "source": [
    "from gensim.models.keyedvectors import KeyedVectors\n",
    "\n",
    "so_w2v_model = KeyedVectors.load_word2vec_format('C:/Users/biadge/OneDrive - BP/PhD/extraction/SO_vectors_200.bin', binary=True)\n",
    "\n",
    "def run_vec_sow2v(str_list):\n",
    "    return so_w2v_model.get_mean_vector(str_list, ignore_missing = True)"
   ]
  },
  {
   "cell_type": "code",
   "execution_count": 78,
   "metadata": {},
   "outputs": [
    {
     "data": {
      "text/html": [
       "<div>\n",
       "<style scoped>\n",
       "    .dataframe tbody tr th:only-of-type {\n",
       "        vertical-align: middle;\n",
       "    }\n",
       "\n",
       "    .dataframe tbody tr th {\n",
       "        vertical-align: top;\n",
       "    }\n",
       "\n",
       "    .dataframe thead th {\n",
       "        text-align: right;\n",
       "    }\n",
       "</style>\n",
       "<table border=\"1\" class=\"dataframe\">\n",
       "  <thead>\n",
       "    <tr style=\"text-align: right;\">\n",
       "      <th></th>\n",
       "      <th>project_name</th>\n",
       "      <th>module</th>\n",
       "      <th>concept</th>\n",
       "      <th>sow2v_code_vec</th>\n",
       "      <th>gpt_code_vec</th>\n",
       "      <th>angle_code_vec</th>\n",
       "    </tr>\n",
       "  </thead>\n",
       "  <tbody>\n",
       "    <tr>\n",
       "      <th>0</th>\n",
       "      <td>01_dubbo</td>\n",
       "      <td>dubbo-cluster</td>\n",
       "      <td>['merger', 'model', 'scope', 'aware', 'end', '...</td>\n",
       "      <td>[0.05225145, -0.039243843, -0.1073313, -0.0605...</td>\n",
       "      <td>[-0.026622535660862923, 0.0065000769682228565,...</td>\n",
       "      <td>[-0.18775713, -0.37221402, -0.102094874, 0.436...</td>\n",
       "    </tr>\n",
       "    <tr>\n",
       "      <th>1</th>\n",
       "      <td>01_dubbo</td>\n",
       "      <td>dubbo-cluster</td>\n",
       "      <td>['match', 'value', 'bool', 'exact', 'weight', ...</td>\n",
       "      <td>[0.07469578, -0.03465767, -0.085746214, -0.050...</td>\n",
       "      <td>[-0.019484085962176323, -0.0039446307346224785...</td>\n",
       "      <td>[0.03253293, 0.5728816, 0.579907, 0.67069566, ...</td>\n",
       "    </tr>\n",
       "    <tr>\n",
       "      <th>2</th>\n",
       "      <td>01_dubbo</td>\n",
       "      <td>dubbo-cluster</td>\n",
       "      <td>['rule', 'mesh', 'listener', 'app', 'merger', ...</td>\n",
       "      <td>[0.059995174, -0.054836363, -0.0915457, -0.070...</td>\n",
       "      <td>[-0.02054414711892605, 0.010302042588591576, 0...</td>\n",
       "      <td>[-0.019751057, -0.33930963, -0.1023085, 0.2829...</td>\n",
       "    </tr>\n",
       "    <tr>\n",
       "      <th>3</th>\n",
       "      <td>01_dubbo</td>\n",
       "      <td>dubbo-cluster</td>\n",
       "      <td>['rule', 'key', 'invoker', 'node', 'router', '...</td>\n",
       "      <td>[0.072560035, -0.042324353, -0.080996744, -0.0...</td>\n",
       "      <td>[-0.014745050109922886, -0.01198360975831747, ...</td>\n",
       "      <td>[-0.553166, -0.27252257, -0.06934874, 0.168628...</td>\n",
       "    </tr>\n",
       "    <tr>\n",
       "      <th>4</th>\n",
       "      <td>01_dubbo</td>\n",
       "      <td>dubbo-cluster</td>\n",
       "      <td>['url', 'invoker', 'invocation', 'configurator...</td>\n",
       "      <td>[0.06503355, -0.03390938, -0.099120185, -0.053...</td>\n",
       "      <td>[0.004753707442432642, -0.000175158231286332, ...</td>\n",
       "      <td>[-0.49914038, -0.24755313, -0.028283862, 0.168...</td>\n",
       "    </tr>\n",
       "    <tr>\n",
       "      <th>...</th>\n",
       "      <td>...</td>\n",
       "      <td>...</td>\n",
       "      <td>...</td>\n",
       "      <td>...</td>\n",
       "      <td>...</td>\n",
       "      <td>...</td>\n",
       "    </tr>\n",
       "    <tr>\n",
       "      <th>2394</th>\n",
       "      <td>45_archiva-components</td>\n",
       "      <td>spring-registry</td>\n",
       "      <td>['key', 'save', 'registry', 'add', 'path', 'bu...</td>\n",
       "      <td>[0.06795784, -0.04480338, -0.079844356, -0.057...</td>\n",
       "      <td>[0.003726670518517494, 0.006566038820892572, 0...</td>\n",
       "      <td>[0.04506687, 0.37849292, -0.23495513, -0.19402...</td>\n",
       "    </tr>\n",
       "    <tr>\n",
       "      <th>2395</th>\n",
       "      <td>45_archiva-components</td>\n",
       "      <td>spring-registry</td>\n",
       "      <td>['key', 'registry', 'add', 'value', 'path', 'b...</td>\n",
       "      <td>[0.0730496, -0.04498606, -0.083345376, -0.0627...</td>\n",
       "      <td>[-0.0022075516171753407, -0.011396508663892746...</td>\n",
       "      <td>[0.0833093, 0.3905984, -0.40362155, -0.0959535...</td>\n",
       "    </tr>\n",
       "    <tr>\n",
       "      <th>2396</th>\n",
       "      <td>45_archiva-components</td>\n",
       "      <td>spring-taskqueue</td>\n",
       "      <td>['task', 'evaluator', 'queue', 'executor', 'en...</td>\n",
       "      <td>[0.08464562, -0.040184315, -0.07855084, -0.058...</td>\n",
       "      <td>[-0.012877748347818851, -0.009656411595642567,...</td>\n",
       "      <td>[-0.5880894, -0.05917392, -0.44300538, 0.04839...</td>\n",
       "    </tr>\n",
       "    <tr>\n",
       "      <th>2397</th>\n",
       "      <td>45_archiva-components</td>\n",
       "      <td>spring-taskqueue</td>\n",
       "      <td>['task', 'message', 'execution', 'queue', 'cau...</td>\n",
       "      <td>[0.07726964, -0.041026108, -0.07699846, -0.056...</td>\n",
       "      <td>[-0.02647557482123375, -0.02341029793024063, -...</td>\n",
       "      <td>[-0.8051155, -0.54449457, -0.28186893, 0.86290...</td>\n",
       "    </tr>\n",
       "    <tr>\n",
       "      <th>2398</th>\n",
       "      <td>45_archiva-components</td>\n",
       "      <td>spring-taskqueue</td>\n",
       "      <td>['task', 'queue', 'evaluator', 'executor', 'me...</td>\n",
       "      <td>[0.07344047, -0.04394776, -0.07902434, -0.0579...</td>\n",
       "      <td>[-0.025427352637052536, -0.01597016118466854, ...</td>\n",
       "      <td>[-0.33094242, -0.2955342, -0.21767099, 0.29566...</td>\n",
       "    </tr>\n",
       "  </tbody>\n",
       "</table>\n",
       "<p>2399 rows × 6 columns</p>\n",
       "</div>"
      ],
      "text/plain": [
       "               project_name            module   \n",
       "0                  01_dubbo     dubbo-cluster  \\\n",
       "1                  01_dubbo     dubbo-cluster   \n",
       "2                  01_dubbo     dubbo-cluster   \n",
       "3                  01_dubbo     dubbo-cluster   \n",
       "4                  01_dubbo     dubbo-cluster   \n",
       "...                     ...               ...   \n",
       "2394  45_archiva-components   spring-registry   \n",
       "2395  45_archiva-components   spring-registry   \n",
       "2396  45_archiva-components  spring-taskqueue   \n",
       "2397  45_archiva-components  spring-taskqueue   \n",
       "2398  45_archiva-components  spring-taskqueue   \n",
       "\n",
       "                                                concept   \n",
       "0     ['merger', 'model', 'scope', 'aware', 'end', '...  \\\n",
       "1     ['match', 'value', 'bool', 'exact', 'weight', ...   \n",
       "2     ['rule', 'mesh', 'listener', 'app', 'merger', ...   \n",
       "3     ['rule', 'key', 'invoker', 'node', 'router', '...   \n",
       "4     ['url', 'invoker', 'invocation', 'configurator...   \n",
       "...                                                 ...   \n",
       "2394  ['key', 'save', 'registry', 'add', 'path', 'bu...   \n",
       "2395  ['key', 'registry', 'add', 'value', 'path', 'b...   \n",
       "2396  ['task', 'evaluator', 'queue', 'executor', 'en...   \n",
       "2397  ['task', 'message', 'execution', 'queue', 'cau...   \n",
       "2398  ['task', 'queue', 'evaluator', 'executor', 'me...   \n",
       "\n",
       "                                         sow2v_code_vec   \n",
       "0     [0.05225145, -0.039243843, -0.1073313, -0.0605...  \\\n",
       "1     [0.07469578, -0.03465767, -0.085746214, -0.050...   \n",
       "2     [0.059995174, -0.054836363, -0.0915457, -0.070...   \n",
       "3     [0.072560035, -0.042324353, -0.080996744, -0.0...   \n",
       "4     [0.06503355, -0.03390938, -0.099120185, -0.053...   \n",
       "...                                                 ...   \n",
       "2394  [0.06795784, -0.04480338, -0.079844356, -0.057...   \n",
       "2395  [0.0730496, -0.04498606, -0.083345376, -0.0627...   \n",
       "2396  [0.08464562, -0.040184315, -0.07855084, -0.058...   \n",
       "2397  [0.07726964, -0.041026108, -0.07699846, -0.056...   \n",
       "2398  [0.07344047, -0.04394776, -0.07902434, -0.0579...   \n",
       "\n",
       "                                           gpt_code_vec   \n",
       "0     [-0.026622535660862923, 0.0065000769682228565,...  \\\n",
       "1     [-0.019484085962176323, -0.0039446307346224785...   \n",
       "2     [-0.02054414711892605, 0.010302042588591576, 0...   \n",
       "3     [-0.014745050109922886, -0.01198360975831747, ...   \n",
       "4     [0.004753707442432642, -0.000175158231286332, ...   \n",
       "...                                                 ...   \n",
       "2394  [0.003726670518517494, 0.006566038820892572, 0...   \n",
       "2395  [-0.0022075516171753407, -0.011396508663892746...   \n",
       "2396  [-0.012877748347818851, -0.009656411595642567,...   \n",
       "2397  [-0.02647557482123375, -0.02341029793024063, -...   \n",
       "2398  [-0.025427352637052536, -0.01597016118466854, ...   \n",
       "\n",
       "                                         angle_code_vec  \n",
       "0     [-0.18775713, -0.37221402, -0.102094874, 0.436...  \n",
       "1     [0.03253293, 0.5728816, 0.579907, 0.67069566, ...  \n",
       "2     [-0.019751057, -0.33930963, -0.1023085, 0.2829...  \n",
       "3     [-0.553166, -0.27252257, -0.06934874, 0.168628...  \n",
       "4     [-0.49914038, -0.24755313, -0.028283862, 0.168...  \n",
       "...                                                 ...  \n",
       "2394  [0.04506687, 0.37849292, -0.23495513, -0.19402...  \n",
       "2395  [0.0833093, 0.3905984, -0.40362155, -0.0959535...  \n",
       "2396  [-0.5880894, -0.05917392, -0.44300538, 0.04839...  \n",
       "2397  [-0.8051155, -0.54449457, -0.28186893, 0.86290...  \n",
       "2398  [-0.33094242, -0.2955342, -0.21767099, 0.29566...  \n",
       "\n",
       "[2399 rows x 6 columns]"
      ]
     },
     "execution_count": 78,
     "metadata": {},
     "output_type": "execute_result"
    }
   ],
   "source": [
    "gpt_code_flattened_vec_list = [x for sub in gpt_code_vec_list for x in sub]\n",
    "angle_code_flattened_vec_list = [x for sub in angle_code_vec_list for x in sub]\n",
    "\n",
    "gpt_code_flattened_vec_list = [x[0] for x in gpt_code_flattened_vec_list]\n",
    "angle_code_flattened_vec_list = [x[0] for x in angle_code_flattened_vec_list]\n",
    "\n",
    "\n",
    "code_domain_sim_df[\"sow2v_code_vec\"] = code_domain_sim_df[\"concept\"].apply(lambda x: list(run_vec_sow2v(x)))\n",
    "code_domain_sim_df[\"gpt_code_vec\"] = gpt_code_flattened_vec_list\n",
    "code_domain_sim_df[\"angle_code_vec\"] = angle_code_flattened_vec_list\n",
    "\n",
    "code_vec_df = code_domain_sim_df[[\"project_name\", \"module\", \"concept\", \"sow2v_code_vec\", \"gpt_code_vec\", \"angle_code_vec\"]]\n",
    "code_vec_df"
   ]
  },
  {
   "cell_type": "code",
   "execution_count": 79,
   "metadata": {},
   "outputs": [
    {
     "data": {
      "text/html": [
       "<div>\n",
       "<style scoped>\n",
       "    .dataframe tbody tr th:only-of-type {\n",
       "        vertical-align: middle;\n",
       "    }\n",
       "\n",
       "    .dataframe tbody tr th {\n",
       "        vertical-align: top;\n",
       "    }\n",
       "\n",
       "    .dataframe thead th {\n",
       "        text-align: right;\n",
       "    }\n",
       "</style>\n",
       "<table border=\"1\" class=\"dataframe\">\n",
       "  <thead>\n",
       "    <tr style=\"text-align: right;\">\n",
       "      <th></th>\n",
       "      <th>project_name</th>\n",
       "      <th>module</th>\n",
       "      <th>concept</th>\n",
       "      <th>sow2v_test_vec</th>\n",
       "      <th>gpt_test_vec</th>\n",
       "      <th>angle_test_vec</th>\n",
       "    </tr>\n",
       "  </thead>\n",
       "  <tbody>\n",
       "    <tr>\n",
       "      <th>0</th>\n",
       "      <td>01_dubbo</td>\n",
       "      <td>dubbo-cluster</td>\n",
       "      <td>['invoker', 'hello', 'menu', 'service', 'load'...</td>\n",
       "      <td>[0.06538757, -0.038762722, -0.09320979, -0.057...</td>\n",
       "      <td>[-0.015958335250616074, -0.015475192107260227,...</td>\n",
       "      <td>[0.014179217, -0.26719624, -0.15324931, -0.072...</td>\n",
       "    </tr>\n",
       "    <tr>\n",
       "      <th>1</th>\n",
       "      <td>01_dubbo</td>\n",
       "      <td>dubbo-cluster</td>\n",
       "      <td>['invoker', 'invocation', 'url', 'cluster', 'm...</td>\n",
       "      <td>[0.06413624, -0.03734391, -0.09991639, -0.0585...</td>\n",
       "      <td>[-0.0025778282433748245, -0.011829978786408901...</td>\n",
       "      <td>[-0.25283864, -0.16967408, -0.18421198, -0.022...</td>\n",
       "    </tr>\n",
       "    <tr>\n",
       "      <th>2</th>\n",
       "      <td>01_dubbo</td>\n",
       "      <td>dubbo-cluster</td>\n",
       "      <td>['attachment', 'value', 'key', 'invoker', 'sti...</td>\n",
       "      <td>[0.0645962, -0.04175846, -0.09586649, -0.05556...</td>\n",
       "      <td>[-0.03428419679403305, -0.0033837941009551287,...</td>\n",
       "      <td>[-0.4825757, -0.3559093, -0.28272846, 0.468342...</td>\n",
       "    </tr>\n",
       "    <tr>\n",
       "      <th>3</th>\n",
       "      <td>01_dubbo</td>\n",
       "      <td>dubbo-cluster</td>\n",
       "      <td>['url', 'model', 'merge', 'merger', 'module', ...</td>\n",
       "      <td>[0.06821527, -0.04794634, -0.09212922, -0.0694...</td>\n",
       "      <td>[-0.0011146004544571042, 0.014147793874144554,...</td>\n",
       "      <td>[0.40440214, -0.44396412, 0.09869711, -0.20433...</td>\n",
       "    </tr>\n",
       "    <tr>\n",
       "      <th>4</th>\n",
       "      <td>01_dubbo</td>\n",
       "      <td>dubbo-cluster</td>\n",
       "      <td>['match', 'configurator', 'mock', 'bool', 'joi...</td>\n",
       "      <td>[0.062228434, -0.033033144, -0.089854315, -0.0...</td>\n",
       "      <td>[-0.022632991895079613, -0.01612619124352932, ...</td>\n",
       "      <td>[-0.31522655, -0.66237473, 0.0850316, 0.209996...</td>\n",
       "    </tr>\n",
       "    <tr>\n",
       "      <th>...</th>\n",
       "      <td>...</td>\n",
       "      <td>...</td>\n",
       "      <td>...</td>\n",
       "      <td>...</td>\n",
       "      <td>...</td>\n",
       "      <td>...</td>\n",
       "    </tr>\n",
       "    <tr>\n",
       "      <th>2218</th>\n",
       "      <td>45_archiva-components</td>\n",
       "      <td>spring-taskqueue</td>\n",
       "      <td>['task', 'evaluator', 'evaluate', 'project', '...</td>\n",
       "      <td>[0.07751665, -0.039812576, -0.08508993, -0.053...</td>\n",
       "      <td>[-0.008565530180931091, -0.01933959499001503, ...</td>\n",
       "      <td>[-0.31950122, -0.025664303, -0.66371596, -0.07...</td>\n",
       "    </tr>\n",
       "    <tr>\n",
       "      <th>2219</th>\n",
       "      <td>45_archiva-components</td>\n",
       "      <td>spring-taskqueue</td>\n",
       "      <td>['task', 'queue', 'executor', 'build', 'projec...</td>\n",
       "      <td>[0.0779814, -0.03511595, -0.07827511, -0.05609...</td>\n",
       "      <td>[-0.029290348291397095, -0.0031447862274944782...</td>\n",
       "      <td>[-0.88024205, 0.12703937, -0.5504483, -0.00638...</td>\n",
       "    </tr>\n",
       "    <tr>\n",
       "      <th>2220</th>\n",
       "      <td>45_archiva-components</td>\n",
       "      <td>spring-taskqueue</td>\n",
       "      <td>['task', 'evaluator', 'exit', 'evaluate', 'que...</td>\n",
       "      <td>[0.079060785, -0.03834717, -0.07711471, -0.051...</td>\n",
       "      <td>[-0.016612650826573372, -0.009333686903119087,...</td>\n",
       "      <td>[-0.71355224, -0.14168549, -0.6765636, -0.0947...</td>\n",
       "    </tr>\n",
       "    <tr>\n",
       "      <th>2221</th>\n",
       "      <td>45_archiva-components</td>\n",
       "      <td>spring-taskqueue</td>\n",
       "      <td>['task', 'evaluate', 'entry', 'evaluator', 'ex...</td>\n",
       "      <td>[0.081783585, -0.040365595, -0.08195949, -0.05...</td>\n",
       "      <td>[-0.017499882727861404, -0.0047294944524765015...</td>\n",
       "      <td>[-0.29466522, -0.017070707, -0.49079585, -0.34...</td>\n",
       "    </tr>\n",
       "    <tr>\n",
       "      <th>2222</th>\n",
       "      <td>45_archiva-components</td>\n",
       "      <td>spring-taskqueue</td>\n",
       "      <td>['evaluator', 'time', 'execution', 'entry', 'e...</td>\n",
       "      <td>[0.06911819, -0.045766454, -0.091545574, -0.05...</td>\n",
       "      <td>[-0.028831014409661293, 0.007431278005242348, ...</td>\n",
       "      <td>[-0.5221481, 0.16838183, -0.80863094, -0.40378...</td>\n",
       "    </tr>\n",
       "  </tbody>\n",
       "</table>\n",
       "<p>2223 rows × 6 columns</p>\n",
       "</div>"
      ],
      "text/plain": [
       "               project_name            module   \n",
       "0                  01_dubbo     dubbo-cluster  \\\n",
       "1                  01_dubbo     dubbo-cluster   \n",
       "2                  01_dubbo     dubbo-cluster   \n",
       "3                  01_dubbo     dubbo-cluster   \n",
       "4                  01_dubbo     dubbo-cluster   \n",
       "...                     ...               ...   \n",
       "2218  45_archiva-components  spring-taskqueue   \n",
       "2219  45_archiva-components  spring-taskqueue   \n",
       "2220  45_archiva-components  spring-taskqueue   \n",
       "2221  45_archiva-components  spring-taskqueue   \n",
       "2222  45_archiva-components  spring-taskqueue   \n",
       "\n",
       "                                                concept   \n",
       "0     ['invoker', 'hello', 'menu', 'service', 'load'...  \\\n",
       "1     ['invoker', 'invocation', 'url', 'cluster', 'm...   \n",
       "2     ['attachment', 'value', 'key', 'invoker', 'sti...   \n",
       "3     ['url', 'model', 'merge', 'merger', 'module', ...   \n",
       "4     ['match', 'configurator', 'mock', 'bool', 'joi...   \n",
       "...                                                 ...   \n",
       "2218  ['task', 'evaluator', 'evaluate', 'project', '...   \n",
       "2219  ['task', 'queue', 'executor', 'build', 'projec...   \n",
       "2220  ['task', 'evaluator', 'exit', 'evaluate', 'que...   \n",
       "2221  ['task', 'evaluate', 'entry', 'evaluator', 'ex...   \n",
       "2222  ['evaluator', 'time', 'execution', 'entry', 'e...   \n",
       "\n",
       "                                         sow2v_test_vec   \n",
       "0     [0.06538757, -0.038762722, -0.09320979, -0.057...  \\\n",
       "1     [0.06413624, -0.03734391, -0.09991639, -0.0585...   \n",
       "2     [0.0645962, -0.04175846, -0.09586649, -0.05556...   \n",
       "3     [0.06821527, -0.04794634, -0.09212922, -0.0694...   \n",
       "4     [0.062228434, -0.033033144, -0.089854315, -0.0...   \n",
       "...                                                 ...   \n",
       "2218  [0.07751665, -0.039812576, -0.08508993, -0.053...   \n",
       "2219  [0.0779814, -0.03511595, -0.07827511, -0.05609...   \n",
       "2220  [0.079060785, -0.03834717, -0.07711471, -0.051...   \n",
       "2221  [0.081783585, -0.040365595, -0.08195949, -0.05...   \n",
       "2222  [0.06911819, -0.045766454, -0.091545574, -0.05...   \n",
       "\n",
       "                                           gpt_test_vec   \n",
       "0     [-0.015958335250616074, -0.015475192107260227,...  \\\n",
       "1     [-0.0025778282433748245, -0.011829978786408901...   \n",
       "2     [-0.03428419679403305, -0.0033837941009551287,...   \n",
       "3     [-0.0011146004544571042, 0.014147793874144554,...   \n",
       "4     [-0.022632991895079613, -0.01612619124352932, ...   \n",
       "...                                                 ...   \n",
       "2218  [-0.008565530180931091, -0.01933959499001503, ...   \n",
       "2219  [-0.029290348291397095, -0.0031447862274944782...   \n",
       "2220  [-0.016612650826573372, -0.009333686903119087,...   \n",
       "2221  [-0.017499882727861404, -0.0047294944524765015...   \n",
       "2222  [-0.028831014409661293, 0.007431278005242348, ...   \n",
       "\n",
       "                                         angle_test_vec  \n",
       "0     [0.014179217, -0.26719624, -0.15324931, -0.072...  \n",
       "1     [-0.25283864, -0.16967408, -0.18421198, -0.022...  \n",
       "2     [-0.4825757, -0.3559093, -0.28272846, 0.468342...  \n",
       "3     [0.40440214, -0.44396412, 0.09869711, -0.20433...  \n",
       "4     [-0.31522655, -0.66237473, 0.0850316, 0.209996...  \n",
       "...                                                 ...  \n",
       "2218  [-0.31950122, -0.025664303, -0.66371596, -0.07...  \n",
       "2219  [-0.88024205, 0.12703937, -0.5504483, -0.00638...  \n",
       "2220  [-0.71355224, -0.14168549, -0.6765636, -0.0947...  \n",
       "2221  [-0.29466522, -0.017070707, -0.49079585, -0.34...  \n",
       "2222  [-0.5221481, 0.16838183, -0.80863094, -0.40378...  \n",
       "\n",
       "[2223 rows x 6 columns]"
      ]
     },
     "execution_count": 79,
     "metadata": {},
     "output_type": "execute_result"
    }
   ],
   "source": [
    "gpt_test_flattened_vec_list = [x for sub in gpt_test_vec_list for x in sub]\n",
    "angle_test_flattened_vec_list = [x for sub in angle_test_vec_list for x in sub]\n",
    "\n",
    "gpt_test_flattened_vec_list = [x[0] for x in gpt_test_flattened_vec_list]\n",
    "angle_test_flattened_vec_list = [x[0] for x in angle_test_flattened_vec_list]\n",
    "\n",
    "test_domain_sim_df[\"sow2v_test_vec\"] = test_domain_sim_df[\"concept\"].apply(lambda x: list(run_vec_sow2v(x)))\n",
    "test_domain_sim_df[\"gpt_test_vec\"] = gpt_test_flattened_vec_list\n",
    "test_domain_sim_df[\"angle_test_vec\"] = angle_test_flattened_vec_list\n",
    "\n",
    "test_vec_df = test_domain_sim_df[[\"project_name\", \"module\", \"concept\", \"sow2v_test_vec\", \"gpt_test_vec\", \"angle_test_vec\"]]\n",
    "test_vec_df"
   ]
  },
  {
   "cell_type": "code",
   "execution_count": 80,
   "metadata": {},
   "outputs": [
    {
     "data": {
      "text/html": [
       "<div>\n",
       "<style scoped>\n",
       "    .dataframe tbody tr th:only-of-type {\n",
       "        vertical-align: middle;\n",
       "    }\n",
       "\n",
       "    .dataframe tbody tr th {\n",
       "        vertical-align: top;\n",
       "    }\n",
       "\n",
       "    .dataframe thead th {\n",
       "        text-align: right;\n",
       "    }\n",
       "</style>\n",
       "<table border=\"1\" class=\"dataframe\">\n",
       "  <thead>\n",
       "    <tr style=\"text-align: right;\">\n",
       "      <th></th>\n",
       "      <th>project_name</th>\n",
       "      <th>concept</th>\n",
       "      <th>gpt_doc_vec</th>\n",
       "      <th>angle_doc_vec</th>\n",
       "      <th>sow2v_doc_vec</th>\n",
       "    </tr>\n",
       "  </thead>\n",
       "  <tbody>\n",
       "    <tr>\n",
       "      <th>0</th>\n",
       "      <td>01_dubbo</td>\n",
       "      <td>['service', 'see', 'issue', 'sample', 'project...</td>\n",
       "      <td>[0.005654162261635065, -0.0016180375823751092,...</td>\n",
       "      <td>[-0.2622697, -0.02699811, -0.11021085, -0.2081...</td>\n",
       "      <td>[0.08472025, -0.02117448, -0.0758657, -0.05463...</td>\n",
       "    </tr>\n",
       "    <tr>\n",
       "      <th>1</th>\n",
       "      <td>01_dubbo</td>\n",
       "      <td>['contribute', 'issue', 'sample', 'project', '...</td>\n",
       "      <td>[-0.0033876176457852125, -0.01359404157847166,...</td>\n",
       "      <td>[-0.42579025, -0.19378607, -0.31018537, -0.093...</td>\n",
       "      <td>[0.0759664, -0.026296437, -0.08504799, -0.0534...</td>\n",
       "    </tr>\n",
       "    <tr>\n",
       "      <th>2</th>\n",
       "      <td>01_dubbo</td>\n",
       "      <td>['issue', 'service', 'project', 'list', 'see',...</td>\n",
       "      <td>[-0.005690885242074728, -0.01893075555562973, ...</td>\n",
       "      <td>[-0.3254578, -0.15225579, -0.40020263, 0.05321...</td>\n",
       "      <td>[0.0752811, -0.029863613, -0.08484851, -0.0549...</td>\n",
       "    </tr>\n",
       "    <tr>\n",
       "      <th>3</th>\n",
       "      <td>01_dubbo</td>\n",
       "      <td>['service', 'see', 'project', 'build', 'github...</td>\n",
       "      <td>[0.0017545023001730442, -0.0064876810647547245...</td>\n",
       "      <td>[-0.09142876, -0.45110118, -0.17707597, -0.150...</td>\n",
       "      <td>[0.087012574, -0.029808724, -0.07877463, -0.05...</td>\n",
       "    </tr>\n",
       "    <tr>\n",
       "      <th>4</th>\n",
       "      <td>01_dubbo</td>\n",
       "      <td>['see', 'issue', 'sample', 'service', 'contrib...</td>\n",
       "      <td>[0.003152343910187483, 0.0006888388306833804, ...</td>\n",
       "      <td>[-0.38099384, 0.13213581, -0.082547046, -0.096...</td>\n",
       "      <td>[0.07527791, -0.02495413, -0.080793396, -0.055...</td>\n",
       "    </tr>\n",
       "    <tr>\n",
       "      <th>...</th>\n",
       "      <td>...</td>\n",
       "      <td>...</td>\n",
       "      <td>...</td>\n",
       "      <td>...</td>\n",
       "      <td>...</td>\n",
       "    </tr>\n",
       "    <tr>\n",
       "      <th>343</th>\n",
       "      <td>45_archiva-components</td>\n",
       "      <td>['repository', 'publish', 'web', 'mvn', 'site'...</td>\n",
       "      <td>[-0.0015625524101778865, -0.001334094093181192...</td>\n",
       "      <td>[-0.98970336, 0.5057261, -0.31873137, 0.095206...</td>\n",
       "      <td>[0.062252443, -0.0279061, -0.08811313, -0.0528...</td>\n",
       "    </tr>\n",
       "    <tr>\n",
       "      <th>344</th>\n",
       "      <td>45_archiva-components</td>\n",
       "      <td>['publish', 'repository', 'web', 'site', 'buil...</td>\n",
       "      <td>[-0.0021771923638880253, -0.011147775687277317...</td>\n",
       "      <td>[-0.74474394, 0.029094877, -0.48263723, 0.2167...</td>\n",
       "      <td>[0.067681804, -0.02996866, -0.08059301, -0.053...</td>\n",
       "    </tr>\n",
       "    <tr>\n",
       "      <th>345</th>\n",
       "      <td>45_archiva-components</td>\n",
       "      <td>['repository', 'mvn', 'publish', 'build', 'che...</td>\n",
       "      <td>[-0.0009208479314111173, -0.000892394746188074...</td>\n",
       "      <td>[-0.77469325, 0.3202895, -0.4091273, 0.5168214...</td>\n",
       "      <td>[0.06920374, -0.025748737, -0.07851112, -0.051...</td>\n",
       "    </tr>\n",
       "    <tr>\n",
       "      <th>346</th>\n",
       "      <td>45_archiva-components</td>\n",
       "      <td>['repository', 'publish', 'site', 'web', 'mvn'...</td>\n",
       "      <td>[0.0018515546107664704, -0.003041225718334317,...</td>\n",
       "      <td>[-0.76814437, 0.21244615, -0.49484473, 0.26931...</td>\n",
       "      <td>[0.069203734, -0.025748739, -0.07851111, -0.05...</td>\n",
       "    </tr>\n",
       "    <tr>\n",
       "      <th>347</th>\n",
       "      <td>45_archiva-components</td>\n",
       "      <td>['repository', 'publish', 'mvn', 'web', 'site'...</td>\n",
       "      <td>[0.0026015418116003275, 0.0006898421561345458,...</td>\n",
       "      <td>[-0.38974467, 0.3230742, -0.3380211, 0.1174219...</td>\n",
       "      <td>[0.067814276, -0.025537502, -0.0829665, -0.050...</td>\n",
       "    </tr>\n",
       "  </tbody>\n",
       "</table>\n",
       "<p>348 rows × 5 columns</p>\n",
       "</div>"
      ],
      "text/plain": [
       "              project_name                                            concept   \n",
       "0                 01_dubbo  ['service', 'see', 'issue', 'sample', 'project...  \\\n",
       "1                 01_dubbo  ['contribute', 'issue', 'sample', 'project', '...   \n",
       "2                 01_dubbo  ['issue', 'service', 'project', 'list', 'see',...   \n",
       "3                 01_dubbo  ['service', 'see', 'project', 'build', 'github...   \n",
       "4                 01_dubbo  ['see', 'issue', 'sample', 'service', 'contrib...   \n",
       "..                     ...                                                ...   \n",
       "343  45_archiva-components  ['repository', 'publish', 'web', 'mvn', 'site'...   \n",
       "344  45_archiva-components  ['publish', 'repository', 'web', 'site', 'buil...   \n",
       "345  45_archiva-components  ['repository', 'mvn', 'publish', 'build', 'che...   \n",
       "346  45_archiva-components  ['repository', 'publish', 'site', 'web', 'mvn'...   \n",
       "347  45_archiva-components  ['repository', 'publish', 'mvn', 'web', 'site'...   \n",
       "\n",
       "                                           gpt_doc_vec   \n",
       "0    [0.005654162261635065, -0.0016180375823751092,...  \\\n",
       "1    [-0.0033876176457852125, -0.01359404157847166,...   \n",
       "2    [-0.005690885242074728, -0.01893075555562973, ...   \n",
       "3    [0.0017545023001730442, -0.0064876810647547245...   \n",
       "4    [0.003152343910187483, 0.0006888388306833804, ...   \n",
       "..                                                 ...   \n",
       "343  [-0.0015625524101778865, -0.001334094093181192...   \n",
       "344  [-0.0021771923638880253, -0.011147775687277317...   \n",
       "345  [-0.0009208479314111173, -0.000892394746188074...   \n",
       "346  [0.0018515546107664704, -0.003041225718334317,...   \n",
       "347  [0.0026015418116003275, 0.0006898421561345458,...   \n",
       "\n",
       "                                         angle_doc_vec   \n",
       "0    [-0.2622697, -0.02699811, -0.11021085, -0.2081...  \\\n",
       "1    [-0.42579025, -0.19378607, -0.31018537, -0.093...   \n",
       "2    [-0.3254578, -0.15225579, -0.40020263, 0.05321...   \n",
       "3    [-0.09142876, -0.45110118, -0.17707597, -0.150...   \n",
       "4    [-0.38099384, 0.13213581, -0.082547046, -0.096...   \n",
       "..                                                 ...   \n",
       "343  [-0.98970336, 0.5057261, -0.31873137, 0.095206...   \n",
       "344  [-0.74474394, 0.029094877, -0.48263723, 0.2167...   \n",
       "345  [-0.77469325, 0.3202895, -0.4091273, 0.5168214...   \n",
       "346  [-0.76814437, 0.21244615, -0.49484473, 0.26931...   \n",
       "347  [-0.38974467, 0.3230742, -0.3380211, 0.1174219...   \n",
       "\n",
       "                                         sow2v_doc_vec  \n",
       "0    [0.08472025, -0.02117448, -0.0758657, -0.05463...  \n",
       "1    [0.0759664, -0.026296437, -0.08504799, -0.0534...  \n",
       "2    [0.0752811, -0.029863613, -0.08484851, -0.0549...  \n",
       "3    [0.087012574, -0.029808724, -0.07877463, -0.05...  \n",
       "4    [0.07527791, -0.02495413, -0.080793396, -0.055...  \n",
       "..                                                 ...  \n",
       "343  [0.062252443, -0.0279061, -0.08811313, -0.0528...  \n",
       "344  [0.067681804, -0.02996866, -0.08059301, -0.053...  \n",
       "345  [0.06920374, -0.025748737, -0.07851112, -0.051...  \n",
       "346  [0.069203734, -0.025748739, -0.07851111, -0.05...  \n",
       "347  [0.067814276, -0.025537502, -0.0829665, -0.050...  \n",
       "\n",
       "[348 rows x 5 columns]"
      ]
     },
     "execution_count": 80,
     "metadata": {},
     "output_type": "execute_result"
    }
   ],
   "source": [
    "gpt_doc_flattened_vec_list = [x for sub in gpt_doc_vec_list for x in sub] # 45 vecs\n",
    "angle_doc_flattened_vec_list = [x for sub in angle_doc_vec_list for x in sub] # 313 vecs\n",
    "\n",
    "gpt_doc_flattened_vec_list = [x[0] for x in gpt_doc_flattened_vec_list]\n",
    "angle_doc_flattened_vec_list = [x[0] for x in angle_doc_flattened_vec_list]\n",
    "\n",
    "new_doc_df[\"gpt_doc_vec\"] = gpt_doc_flattened_vec_list\n",
    "doc_domain_sim_df[\"angle_doc_vec\"] = angle_doc_flattened_vec_list\n",
    "doc_domain_sim_df = doc_domain_sim_df[[\"project_name\", \"concept\", \"angle_doc_vec\"]]\n",
    "\n",
    "new_doc_df_list = []\n",
    "\n",
    "for prefix in range(1,46):\n",
    "    if prefix<10:\n",
    "        prefix = '0' + str(prefix)\n",
    "    new_doc_df_list.append(doc_domain_sim_df[doc_domain_sim_df['project_name'].str.startswith(str(prefix))][['project_name', 'concept', 'angle_doc_vec']][:doc_num_list[int(prefix)-1]])\n",
    "\n",
    "new_angle_doc_df = pd.concat(new_doc_df_list, ignore_index=True)\n",
    "doc_vec_df = new_doc_df.copy()\n",
    "doc_vec_df[\"angle_doc_vec\"] = new_angle_doc_df[\"angle_doc_vec\"]\n",
    "doc_vec_df[\"sow2v_doc_vec\"] = doc_vec_df[\"concept\"].apply(lambda x: list(run_vec_sow2v(x)))\n",
    "doc_vec_df"
   ]
  },
  {
   "cell_type": "markdown",
   "metadata": {},
   "source": [
    "### Show concepts for 01_dubbo"
   ]
  },
  {
   "cell_type": "code",
   "execution_count": 81,
   "metadata": {},
   "outputs": [
    {
     "data": {
      "text/html": [
       "<div>\n",
       "<style scoped>\n",
       "    .dataframe tbody tr th:only-of-type {\n",
       "        vertical-align: middle;\n",
       "    }\n",
       "\n",
       "    .dataframe tbody tr th {\n",
       "        vertical-align: top;\n",
       "    }\n",
       "\n",
       "    .dataframe thead th {\n",
       "        text-align: right;\n",
       "    }\n",
       "</style>\n",
       "<table border=\"1\" class=\"dataframe\">\n",
       "  <thead>\n",
       "    <tr style=\"text-align: right;\">\n",
       "      <th></th>\n",
       "      <th>project_name</th>\n",
       "      <th>module</th>\n",
       "      <th>concept</th>\n",
       "      <th>sow2v_code_vec</th>\n",
       "      <th>gpt_code_vec</th>\n",
       "      <th>angle_code_vec</th>\n",
       "    </tr>\n",
       "  </thead>\n",
       "  <tbody>\n",
       "    <tr>\n",
       "      <th>0</th>\n",
       "      <td>01_dubbo</td>\n",
       "      <td>dubbo-cluster</td>\n",
       "      <td>['merger', 'model', 'scope', 'aware', 'end', '...</td>\n",
       "      <td>[0.05225145, -0.039243843, -0.1073313, -0.0605...</td>\n",
       "      <td>[-0.026622535660862923, 0.0065000769682228565,...</td>\n",
       "      <td>[-0.18775713, -0.37221402, -0.102094874, 0.436...</td>\n",
       "    </tr>\n",
       "    <tr>\n",
       "      <th>1</th>\n",
       "      <td>01_dubbo</td>\n",
       "      <td>dubbo-cluster</td>\n",
       "      <td>['match', 'value', 'bool', 'exact', 'weight', ...</td>\n",
       "      <td>[0.07469578, -0.03465767, -0.085746214, -0.050...</td>\n",
       "      <td>[-0.019484085962176323, -0.0039446307346224785...</td>\n",
       "      <td>[0.03253293, 0.5728816, 0.579907, 0.67069566, ...</td>\n",
       "    </tr>\n",
       "    <tr>\n",
       "      <th>2</th>\n",
       "      <td>01_dubbo</td>\n",
       "      <td>dubbo-cluster</td>\n",
       "      <td>['rule', 'mesh', 'listener', 'app', 'merger', ...</td>\n",
       "      <td>[0.059995174, -0.054836363, -0.0915457, -0.070...</td>\n",
       "      <td>[-0.02054414711892605, 0.010302042588591576, 0...</td>\n",
       "      <td>[-0.019751057, -0.33930963, -0.1023085, 0.2829...</td>\n",
       "    </tr>\n",
       "    <tr>\n",
       "      <th>3</th>\n",
       "      <td>01_dubbo</td>\n",
       "      <td>dubbo-cluster</td>\n",
       "      <td>['rule', 'key', 'invoker', 'node', 'router', '...</td>\n",
       "      <td>[0.072560035, -0.042324353, -0.080996744, -0.0...</td>\n",
       "      <td>[-0.014745050109922886, -0.01198360975831747, ...</td>\n",
       "      <td>[-0.553166, -0.27252257, -0.06934874, 0.168628...</td>\n",
       "    </tr>\n",
       "    <tr>\n",
       "      <th>4</th>\n",
       "      <td>01_dubbo</td>\n",
       "      <td>dubbo-cluster</td>\n",
       "      <td>['url', 'invoker', 'invocation', 'configurator...</td>\n",
       "      <td>[0.06503355, -0.03390938, -0.099120185, -0.053...</td>\n",
       "      <td>[0.004753707442432642, -0.000175158231286332, ...</td>\n",
       "      <td>[-0.49914038, -0.24755313, -0.028283862, 0.168...</td>\n",
       "    </tr>\n",
       "    <tr>\n",
       "      <th>...</th>\n",
       "      <td>...</td>\n",
       "      <td>...</td>\n",
       "      <td>...</td>\n",
       "      <td>...</td>\n",
       "      <td>...</td>\n",
       "      <td>...</td>\n",
       "    </tr>\n",
       "    <tr>\n",
       "      <th>122</th>\n",
       "      <td>01_dubbo</td>\n",
       "      <td>dubbo-xds</td>\n",
       "      <td>['key', 'istio', 'path', 'secret', 'jwt', 'clu...</td>\n",
       "      <td>[0.06526281, -0.039973218, -0.10442113, -0.060...</td>\n",
       "      <td>[0.017854617908596992, -0.010608749464154243, ...</td>\n",
       "      <td>[0.22748196, 0.38303995, -0.57838404, -0.26077...</td>\n",
       "    </tr>\n",
       "    <tr>\n",
       "      <th>123</th>\n",
       "      <td>01_dubbo</td>\n",
       "      <td>dubbo-xds</td>\n",
       "      <td>['consumer', 'observe', 'map', 'result', 'endp...</td>\n",
       "      <td>[0.05611692, -0.041434396, -0.08906147, -0.056...</td>\n",
       "      <td>[0.0015994592104107141, -0.011639793403446674,...</td>\n",
       "      <td>[-0.69973636, 0.08320053, -0.841619, 0.0749328...</td>\n",
       "    </tr>\n",
       "    <tr>\n",
       "      <th>124</th>\n",
       "      <td>01_dubbo</td>\n",
       "      <td>dubbo-xds</td>\n",
       "      <td>['endpoint', 'cluster', 'server', 'weight', 'i...</td>\n",
       "      <td>[0.05542404, -0.036790773, -0.090690106, -0.06...</td>\n",
       "      <td>[-0.002195612294599414, -0.02597239799797535, ...</td>\n",
       "      <td>[-0.07411003, -0.23463039, -0.64296293, 0.0885...</td>\n",
       "    </tr>\n",
       "    <tr>\n",
       "      <th>125</th>\n",
       "      <td>01_dubbo</td>\n",
       "      <td>dubbo-xds</td>\n",
       "      <td>['discovery', 'observer', 'response', 'request...</td>\n",
       "      <td>[0.059809525, -0.04411117, -0.09158495, -0.066...</td>\n",
       "      <td>[-0.01950066350400448, 0.004034237004816532, -...</td>\n",
       "      <td>[-0.22820416, 0.06541349, 0.09582858, 0.070130...</td>\n",
       "    </tr>\n",
       "    <tr>\n",
       "      <th>126</th>\n",
       "      <td>01_dubbo</td>\n",
       "      <td>dubbo-xds</td>\n",
       "      <td>['key', 'cert', 'istio', 'matcher', 'certifica...</td>\n",
       "      <td>[0.048744842, -0.0358369, -0.10207859, -0.0487...</td>\n",
       "      <td>[-0.01137323584407568, 0.005961718503385782, -...</td>\n",
       "      <td>[-0.33524942, 0.3400893, -0.4946424, 0.0294929...</td>\n",
       "    </tr>\n",
       "  </tbody>\n",
       "</table>\n",
       "<p>127 rows × 6 columns</p>\n",
       "</div>"
      ],
      "text/plain": [
       "    project_name         module   \n",
       "0       01_dubbo  dubbo-cluster  \\\n",
       "1       01_dubbo  dubbo-cluster   \n",
       "2       01_dubbo  dubbo-cluster   \n",
       "3       01_dubbo  dubbo-cluster   \n",
       "4       01_dubbo  dubbo-cluster   \n",
       "..           ...            ...   \n",
       "122     01_dubbo      dubbo-xds   \n",
       "123     01_dubbo      dubbo-xds   \n",
       "124     01_dubbo      dubbo-xds   \n",
       "125     01_dubbo      dubbo-xds   \n",
       "126     01_dubbo      dubbo-xds   \n",
       "\n",
       "                                               concept   \n",
       "0    ['merger', 'model', 'scope', 'aware', 'end', '...  \\\n",
       "1    ['match', 'value', 'bool', 'exact', 'weight', ...   \n",
       "2    ['rule', 'mesh', 'listener', 'app', 'merger', ...   \n",
       "3    ['rule', 'key', 'invoker', 'node', 'router', '...   \n",
       "4    ['url', 'invoker', 'invocation', 'configurator...   \n",
       "..                                                 ...   \n",
       "122  ['key', 'istio', 'path', 'secret', 'jwt', 'clu...   \n",
       "123  ['consumer', 'observe', 'map', 'result', 'endp...   \n",
       "124  ['endpoint', 'cluster', 'server', 'weight', 'i...   \n",
       "125  ['discovery', 'observer', 'response', 'request...   \n",
       "126  ['key', 'cert', 'istio', 'matcher', 'certifica...   \n",
       "\n",
       "                                        sow2v_code_vec   \n",
       "0    [0.05225145, -0.039243843, -0.1073313, -0.0605...  \\\n",
       "1    [0.07469578, -0.03465767, -0.085746214, -0.050...   \n",
       "2    [0.059995174, -0.054836363, -0.0915457, -0.070...   \n",
       "3    [0.072560035, -0.042324353, -0.080996744, -0.0...   \n",
       "4    [0.06503355, -0.03390938, -0.099120185, -0.053...   \n",
       "..                                                 ...   \n",
       "122  [0.06526281, -0.039973218, -0.10442113, -0.060...   \n",
       "123  [0.05611692, -0.041434396, -0.08906147, -0.056...   \n",
       "124  [0.05542404, -0.036790773, -0.090690106, -0.06...   \n",
       "125  [0.059809525, -0.04411117, -0.09158495, -0.066...   \n",
       "126  [0.048744842, -0.0358369, -0.10207859, -0.0487...   \n",
       "\n",
       "                                          gpt_code_vec   \n",
       "0    [-0.026622535660862923, 0.0065000769682228565,...  \\\n",
       "1    [-0.019484085962176323, -0.0039446307346224785...   \n",
       "2    [-0.02054414711892605, 0.010302042588591576, 0...   \n",
       "3    [-0.014745050109922886, -0.01198360975831747, ...   \n",
       "4    [0.004753707442432642, -0.000175158231286332, ...   \n",
       "..                                                 ...   \n",
       "122  [0.017854617908596992, -0.010608749464154243, ...   \n",
       "123  [0.0015994592104107141, -0.011639793403446674,...   \n",
       "124  [-0.002195612294599414, -0.02597239799797535, ...   \n",
       "125  [-0.01950066350400448, 0.004034237004816532, -...   \n",
       "126  [-0.01137323584407568, 0.005961718503385782, -...   \n",
       "\n",
       "                                        angle_code_vec  \n",
       "0    [-0.18775713, -0.37221402, -0.102094874, 0.436...  \n",
       "1    [0.03253293, 0.5728816, 0.579907, 0.67069566, ...  \n",
       "2    [-0.019751057, -0.33930963, -0.1023085, 0.2829...  \n",
       "3    [-0.553166, -0.27252257, -0.06934874, 0.168628...  \n",
       "4    [-0.49914038, -0.24755313, -0.028283862, 0.168...  \n",
       "..                                                 ...  \n",
       "122  [0.22748196, 0.38303995, -0.57838404, -0.26077...  \n",
       "123  [-0.69973636, 0.08320053, -0.841619, 0.0749328...  \n",
       "124  [-0.07411003, -0.23463039, -0.64296293, 0.0885...  \n",
       "125  [-0.22820416, 0.06541349, 0.09582858, 0.070130...  \n",
       "126  [-0.33524942, 0.3400893, -0.4946424, 0.0294929...  \n",
       "\n",
       "[127 rows x 6 columns]"
      ]
     },
     "execution_count": 81,
     "metadata": {},
     "output_type": "execute_result"
    }
   ],
   "source": [
    "dubbo_code_df = code_vec_df[code_vec_df['project_name'].str.startswith(\"01\")]\n",
    "dubbo_test_df = test_vec_df[test_vec_df['project_name'].str.startswith(\"01\")]\n",
    "dubbo_doc_df = doc_vec_df[doc_vec_df['project_name'].str.startswith(\"01\")]\n",
    "dubbo_code_df"
   ]
  },
  {
   "cell_type": "code",
   "execution_count": 82,
   "metadata": {},
   "outputs": [
    {
     "data": {
      "text/html": [
       "<div>\n",
       "<style scoped>\n",
       "    .dataframe tbody tr th:only-of-type {\n",
       "        vertical-align: middle;\n",
       "    }\n",
       "\n",
       "    .dataframe tbody tr th {\n",
       "        vertical-align: top;\n",
       "    }\n",
       "\n",
       "    .dataframe thead th {\n",
       "        text-align: right;\n",
       "    }\n",
       "</style>\n",
       "<table border=\"1\" class=\"dataframe\">\n",
       "  <thead>\n",
       "    <tr style=\"text-align: right;\">\n",
       "      <th></th>\n",
       "      <th>project_name</th>\n",
       "      <th>module</th>\n",
       "      <th>concept</th>\n",
       "      <th>sow2v_test_vec</th>\n",
       "      <th>gpt_test_vec</th>\n",
       "      <th>angle_test_vec</th>\n",
       "    </tr>\n",
       "  </thead>\n",
       "  <tbody>\n",
       "    <tr>\n",
       "      <th>0</th>\n",
       "      <td>01_dubbo</td>\n",
       "      <td>dubbo-cluster</td>\n",
       "      <td>['invoker', 'hello', 'menu', 'service', 'load'...</td>\n",
       "      <td>[0.06538757, -0.038762722, -0.09320979, -0.057...</td>\n",
       "      <td>[-0.015958335250616074, -0.015475192107260227,...</td>\n",
       "      <td>[0.014179217, -0.26719624, -0.15324931, -0.072...</td>\n",
       "    </tr>\n",
       "    <tr>\n",
       "      <th>1</th>\n",
       "      <td>01_dubbo</td>\n",
       "      <td>dubbo-cluster</td>\n",
       "      <td>['invoker', 'invocation', 'url', 'cluster', 'm...</td>\n",
       "      <td>[0.06413624, -0.03734391, -0.09991639, -0.0585...</td>\n",
       "      <td>[-0.0025778282433748245, -0.011829978786408901...</td>\n",
       "      <td>[-0.25283864, -0.16967408, -0.18421198, -0.022...</td>\n",
       "    </tr>\n",
       "    <tr>\n",
       "      <th>2</th>\n",
       "      <td>01_dubbo</td>\n",
       "      <td>dubbo-cluster</td>\n",
       "      <td>['attachment', 'value', 'key', 'invoker', 'sti...</td>\n",
       "      <td>[0.0645962, -0.04175846, -0.09586649, -0.05556...</td>\n",
       "      <td>[-0.03428419679403305, -0.0033837941009551287,...</td>\n",
       "      <td>[-0.4825757, -0.3559093, -0.28272846, 0.468342...</td>\n",
       "    </tr>\n",
       "    <tr>\n",
       "      <th>3</th>\n",
       "      <td>01_dubbo</td>\n",
       "      <td>dubbo-cluster</td>\n",
       "      <td>['url', 'model', 'merge', 'merger', 'module', ...</td>\n",
       "      <td>[0.06821527, -0.04794634, -0.09212922, -0.0694...</td>\n",
       "      <td>[-0.0011146004544571042, 0.014147793874144554,...</td>\n",
       "      <td>[0.40440214, -0.44396412, 0.09869711, -0.20433...</td>\n",
       "    </tr>\n",
       "    <tr>\n",
       "      <th>4</th>\n",
       "      <td>01_dubbo</td>\n",
       "      <td>dubbo-cluster</td>\n",
       "      <td>['match', 'configurator', 'mock', 'bool', 'joi...</td>\n",
       "      <td>[0.062228434, -0.033033144, -0.089854315, -0.0...</td>\n",
       "      <td>[-0.022632991895079613, -0.01612619124352932, ...</td>\n",
       "      <td>[-0.31522655, -0.66237473, 0.0850316, 0.209996...</td>\n",
       "    </tr>\n",
       "    <tr>\n",
       "      <th>...</th>\n",
       "      <td>...</td>\n",
       "      <td>...</td>\n",
       "      <td>...</td>\n",
       "      <td>...</td>\n",
       "      <td>...</td>\n",
       "      <td>...</td>\n",
       "    </tr>\n",
       "    <tr>\n",
       "      <th>119</th>\n",
       "      <td>01_dubbo</td>\n",
       "      <td>dubbo-xds</td>\n",
       "      <td>['endpoint', 'change', 'point', 'end', 'cluste...</td>\n",
       "      <td>[0.063921794, -0.024483405, -0.08707288, -0.05...</td>\n",
       "      <td>[0.00015126266225706786, -0.01217339001595974,...</td>\n",
       "      <td>[-0.94928396, 0.061658207, -0.85459405, 0.2661...</td>\n",
       "    </tr>\n",
       "    <tr>\n",
       "      <th>120</th>\n",
       "      <td>01_dubbo</td>\n",
       "      <td>dubbo-xds</td>\n",
       "      <td>['matcher', 'route', 'map', 'rule', 'endpoint'...</td>\n",
       "      <td>[0.05368861, -0.038989674, -0.08338601, -0.054...</td>\n",
       "      <td>[-0.0265257116407156, -0.008821831084787846, -...</td>\n",
       "      <td>[-0.35084802, 0.3498905, -0.22398137, -0.03473...</td>\n",
       "    </tr>\n",
       "    <tr>\n",
       "      <th>121</th>\n",
       "      <td>01_dubbo</td>\n",
       "      <td>dubbo-xds</td>\n",
       "      <td>['endpoint', 'cluster', 'end', 'change', 'poin...</td>\n",
       "      <td>[0.06607034, -0.03577423, -0.087813005, -0.054...</td>\n",
       "      <td>[-0.00456932233646512, -0.024403274059295654, ...</td>\n",
       "      <td>[-1.0170584, -0.33726072, -0.47389454, 0.41462...</td>\n",
       "    </tr>\n",
       "    <tr>\n",
       "      <th>122</th>\n",
       "      <td>01_dubbo</td>\n",
       "      <td>dubbo-xds</td>\n",
       "      <td>['rule', 'route', 'app', 'xds', 'manager', 'ch...</td>\n",
       "      <td>[0.06347599, -0.045654148, -0.08858261, -0.059...</td>\n",
       "      <td>[-0.003229746827855706, 0.013515480794012547, ...</td>\n",
       "      <td>[-0.5358087, -0.054393616, -0.12732497, -0.424...</td>\n",
       "    </tr>\n",
       "    <tr>\n",
       "      <th>123</th>\n",
       "      <td>01_dubbo</td>\n",
       "      <td>dubbo-xds</td>\n",
       "      <td>['map', 'resource', 'observe', 'matcher', 'res...</td>\n",
       "      <td>[0.056053527, -0.037075743, -0.09763332, -0.06...</td>\n",
       "      <td>[-0.013686266727745533, -0.0006812256178818643...</td>\n",
       "      <td>[-0.19575796, -0.04029549, -0.2974112, 0.15782...</td>\n",
       "    </tr>\n",
       "  </tbody>\n",
       "</table>\n",
       "<p>124 rows × 6 columns</p>\n",
       "</div>"
      ],
      "text/plain": [
       "    project_name         module   \n",
       "0       01_dubbo  dubbo-cluster  \\\n",
       "1       01_dubbo  dubbo-cluster   \n",
       "2       01_dubbo  dubbo-cluster   \n",
       "3       01_dubbo  dubbo-cluster   \n",
       "4       01_dubbo  dubbo-cluster   \n",
       "..           ...            ...   \n",
       "119     01_dubbo      dubbo-xds   \n",
       "120     01_dubbo      dubbo-xds   \n",
       "121     01_dubbo      dubbo-xds   \n",
       "122     01_dubbo      dubbo-xds   \n",
       "123     01_dubbo      dubbo-xds   \n",
       "\n",
       "                                               concept   \n",
       "0    ['invoker', 'hello', 'menu', 'service', 'load'...  \\\n",
       "1    ['invoker', 'invocation', 'url', 'cluster', 'm...   \n",
       "2    ['attachment', 'value', 'key', 'invoker', 'sti...   \n",
       "3    ['url', 'model', 'merge', 'merger', 'module', ...   \n",
       "4    ['match', 'configurator', 'mock', 'bool', 'joi...   \n",
       "..                                                 ...   \n",
       "119  ['endpoint', 'change', 'point', 'end', 'cluste...   \n",
       "120  ['matcher', 'route', 'map', 'rule', 'endpoint'...   \n",
       "121  ['endpoint', 'cluster', 'end', 'change', 'poin...   \n",
       "122  ['rule', 'route', 'app', 'xds', 'manager', 'ch...   \n",
       "123  ['map', 'resource', 'observe', 'matcher', 'res...   \n",
       "\n",
       "                                        sow2v_test_vec   \n",
       "0    [0.06538757, -0.038762722, -0.09320979, -0.057...  \\\n",
       "1    [0.06413624, -0.03734391, -0.09991639, -0.0585...   \n",
       "2    [0.0645962, -0.04175846, -0.09586649, -0.05556...   \n",
       "3    [0.06821527, -0.04794634, -0.09212922, -0.0694...   \n",
       "4    [0.062228434, -0.033033144, -0.089854315, -0.0...   \n",
       "..                                                 ...   \n",
       "119  [0.063921794, -0.024483405, -0.08707288, -0.05...   \n",
       "120  [0.05368861, -0.038989674, -0.08338601, -0.054...   \n",
       "121  [0.06607034, -0.03577423, -0.087813005, -0.054...   \n",
       "122  [0.06347599, -0.045654148, -0.08858261, -0.059...   \n",
       "123  [0.056053527, -0.037075743, -0.09763332, -0.06...   \n",
       "\n",
       "                                          gpt_test_vec   \n",
       "0    [-0.015958335250616074, -0.015475192107260227,...  \\\n",
       "1    [-0.0025778282433748245, -0.011829978786408901...   \n",
       "2    [-0.03428419679403305, -0.0033837941009551287,...   \n",
       "3    [-0.0011146004544571042, 0.014147793874144554,...   \n",
       "4    [-0.022632991895079613, -0.01612619124352932, ...   \n",
       "..                                                 ...   \n",
       "119  [0.00015126266225706786, -0.01217339001595974,...   \n",
       "120  [-0.0265257116407156, -0.008821831084787846, -...   \n",
       "121  [-0.00456932233646512, -0.024403274059295654, ...   \n",
       "122  [-0.003229746827855706, 0.013515480794012547, ...   \n",
       "123  [-0.013686266727745533, -0.0006812256178818643...   \n",
       "\n",
       "                                        angle_test_vec  \n",
       "0    [0.014179217, -0.26719624, -0.15324931, -0.072...  \n",
       "1    [-0.25283864, -0.16967408, -0.18421198, -0.022...  \n",
       "2    [-0.4825757, -0.3559093, -0.28272846, 0.468342...  \n",
       "3    [0.40440214, -0.44396412, 0.09869711, -0.20433...  \n",
       "4    [-0.31522655, -0.66237473, 0.0850316, 0.209996...  \n",
       "..                                                 ...  \n",
       "119  [-0.94928396, 0.061658207, -0.85459405, 0.2661...  \n",
       "120  [-0.35084802, 0.3498905, -0.22398137, -0.03473...  \n",
       "121  [-1.0170584, -0.33726072, -0.47389454, 0.41462...  \n",
       "122  [-0.5358087, -0.054393616, -0.12732497, -0.424...  \n",
       "123  [-0.19575796, -0.04029549, -0.2974112, 0.15782...  \n",
       "\n",
       "[124 rows x 6 columns]"
      ]
     },
     "execution_count": 82,
     "metadata": {},
     "output_type": "execute_result"
    }
   ],
   "source": [
    "dubbo_test_df"
   ]
  },
  {
   "cell_type": "code",
   "execution_count": 83,
   "metadata": {},
   "outputs": [
    {
     "data": {
      "text/html": [
       "<div>\n",
       "<style scoped>\n",
       "    .dataframe tbody tr th:only-of-type {\n",
       "        vertical-align: middle;\n",
       "    }\n",
       "\n",
       "    .dataframe tbody tr th {\n",
       "        vertical-align: top;\n",
       "    }\n",
       "\n",
       "    .dataframe thead th {\n",
       "        text-align: right;\n",
       "    }\n",
       "</style>\n",
       "<table border=\"1\" class=\"dataframe\">\n",
       "  <thead>\n",
       "    <tr style=\"text-align: right;\">\n",
       "      <th></th>\n",
       "      <th>project_name</th>\n",
       "      <th>concept</th>\n",
       "      <th>gpt_doc_vec</th>\n",
       "      <th>angle_doc_vec</th>\n",
       "      <th>sow2v_doc_vec</th>\n",
       "    </tr>\n",
       "  </thead>\n",
       "  <tbody>\n",
       "    <tr>\n",
       "      <th>0</th>\n",
       "      <td>01_dubbo</td>\n",
       "      <td>['service', 'see', 'issue', 'sample', 'project...</td>\n",
       "      <td>[0.005654162261635065, -0.0016180375823751092,...</td>\n",
       "      <td>[-0.2622697, -0.02699811, -0.11021085, -0.2081...</td>\n",
       "      <td>[0.08472025, -0.02117448, -0.0758657, -0.05463...</td>\n",
       "    </tr>\n",
       "    <tr>\n",
       "      <th>1</th>\n",
       "      <td>01_dubbo</td>\n",
       "      <td>['contribute', 'issue', 'sample', 'project', '...</td>\n",
       "      <td>[-0.0033876176457852125, -0.01359404157847166,...</td>\n",
       "      <td>[-0.42579025, -0.19378607, -0.31018537, -0.093...</td>\n",
       "      <td>[0.0759664, -0.026296437, -0.08504799, -0.0534...</td>\n",
       "    </tr>\n",
       "    <tr>\n",
       "      <th>2</th>\n",
       "      <td>01_dubbo</td>\n",
       "      <td>['issue', 'service', 'project', 'list', 'see',...</td>\n",
       "      <td>[-0.005690885242074728, -0.01893075555562973, ...</td>\n",
       "      <td>[-0.3254578, -0.15225579, -0.40020263, 0.05321...</td>\n",
       "      <td>[0.0752811, -0.029863613, -0.08484851, -0.0549...</td>\n",
       "    </tr>\n",
       "    <tr>\n",
       "      <th>3</th>\n",
       "      <td>01_dubbo</td>\n",
       "      <td>['service', 'see', 'project', 'build', 'github...</td>\n",
       "      <td>[0.0017545023001730442, -0.0064876810647547245...</td>\n",
       "      <td>[-0.09142876, -0.45110118, -0.17707597, -0.150...</td>\n",
       "      <td>[0.087012574, -0.029808724, -0.07877463, -0.05...</td>\n",
       "    </tr>\n",
       "    <tr>\n",
       "      <th>4</th>\n",
       "      <td>01_dubbo</td>\n",
       "      <td>['see', 'issue', 'sample', 'service', 'contrib...</td>\n",
       "      <td>[0.003152343910187483, 0.0006888388306833804, ...</td>\n",
       "      <td>[-0.38099384, 0.13213581, -0.082547046, -0.096...</td>\n",
       "      <td>[0.07527791, -0.02495413, -0.080793396, -0.055...</td>\n",
       "    </tr>\n",
       "    <tr>\n",
       "      <th>5</th>\n",
       "      <td>01_dubbo</td>\n",
       "      <td>['service', 'sample', 'see', 'issue', 'please'...</td>\n",
       "      <td>[-0.003034312278032303, -0.0045631458051502705...</td>\n",
       "      <td>[-0.4854178, 0.08935423, -0.009228911, 0.15076...</td>\n",
       "      <td>[0.07528599, -0.025522616, -0.080436565, -0.05...</td>\n",
       "    </tr>\n",
       "    <tr>\n",
       "      <th>6</th>\n",
       "      <td>01_dubbo</td>\n",
       "      <td>['service', 'issue', 'contribute', 'see', 'git...</td>\n",
       "      <td>[0.01160502154380083, -9.151901031145826e-05, ...</td>\n",
       "      <td>[-0.46851927, 0.069999725, -0.4154365, 0.00631...</td>\n",
       "      <td>[0.07766223, -0.02147056, -0.07729336, -0.0560...</td>\n",
       "    </tr>\n",
       "    <tr>\n",
       "      <th>7</th>\n",
       "      <td>01_dubbo</td>\n",
       "      <td>['service', 'see', 'issue', 'contribute', 'sam...</td>\n",
       "      <td>[0.00907079130411148, -0.0009530773968435824, ...</td>\n",
       "      <td>[-0.1939252, -0.23459983, -0.2911613, -0.08646...</td>\n",
       "      <td>[0.08069764, -0.01952648, -0.07685122, -0.0537...</td>\n",
       "    </tr>\n",
       "  </tbody>\n",
       "</table>\n",
       "</div>"
      ],
      "text/plain": [
       "  project_name                                            concept   \n",
       "0     01_dubbo  ['service', 'see', 'issue', 'sample', 'project...  \\\n",
       "1     01_dubbo  ['contribute', 'issue', 'sample', 'project', '...   \n",
       "2     01_dubbo  ['issue', 'service', 'project', 'list', 'see',...   \n",
       "3     01_dubbo  ['service', 'see', 'project', 'build', 'github...   \n",
       "4     01_dubbo  ['see', 'issue', 'sample', 'service', 'contrib...   \n",
       "5     01_dubbo  ['service', 'sample', 'see', 'issue', 'please'...   \n",
       "6     01_dubbo  ['service', 'issue', 'contribute', 'see', 'git...   \n",
       "7     01_dubbo  ['service', 'see', 'issue', 'contribute', 'sam...   \n",
       "\n",
       "                                         gpt_doc_vec   \n",
       "0  [0.005654162261635065, -0.0016180375823751092,...  \\\n",
       "1  [-0.0033876176457852125, -0.01359404157847166,...   \n",
       "2  [-0.005690885242074728, -0.01893075555562973, ...   \n",
       "3  [0.0017545023001730442, -0.0064876810647547245...   \n",
       "4  [0.003152343910187483, 0.0006888388306833804, ...   \n",
       "5  [-0.003034312278032303, -0.0045631458051502705...   \n",
       "6  [0.01160502154380083, -9.151901031145826e-05, ...   \n",
       "7  [0.00907079130411148, -0.0009530773968435824, ...   \n",
       "\n",
       "                                       angle_doc_vec   \n",
       "0  [-0.2622697, -0.02699811, -0.11021085, -0.2081...  \\\n",
       "1  [-0.42579025, -0.19378607, -0.31018537, -0.093...   \n",
       "2  [-0.3254578, -0.15225579, -0.40020263, 0.05321...   \n",
       "3  [-0.09142876, -0.45110118, -0.17707597, -0.150...   \n",
       "4  [-0.38099384, 0.13213581, -0.082547046, -0.096...   \n",
       "5  [-0.4854178, 0.08935423, -0.009228911, 0.15076...   \n",
       "6  [-0.46851927, 0.069999725, -0.4154365, 0.00631...   \n",
       "7  [-0.1939252, -0.23459983, -0.2911613, -0.08646...   \n",
       "\n",
       "                                       sow2v_doc_vec  \n",
       "0  [0.08472025, -0.02117448, -0.0758657, -0.05463...  \n",
       "1  [0.0759664, -0.026296437, -0.08504799, -0.0534...  \n",
       "2  [0.0752811, -0.029863613, -0.08484851, -0.0549...  \n",
       "3  [0.087012574, -0.029808724, -0.07877463, -0.05...  \n",
       "4  [0.07527791, -0.02495413, -0.080793396, -0.055...  \n",
       "5  [0.07528599, -0.025522616, -0.080436565, -0.05...  \n",
       "6  [0.07766223, -0.02147056, -0.07729336, -0.0560...  \n",
       "7  [0.08069764, -0.01952648, -0.07685122, -0.0537...  "
      ]
     },
     "execution_count": 83,
     "metadata": {},
     "output_type": "execute_result"
    }
   ],
   "source": [
    "dubbo_doc_df"
   ]
  },
  {
   "cell_type": "code",
   "execution_count": 84,
   "metadata": {},
   "outputs": [
    {
     "data": {
      "application/vnd.plotly.v1+json": {
       "config": {
        "plotlyServerURL": "https://plot.ly"
       },
       "data": [
        {
         "mode": "markers",
         "name": "code",
         "opacity": 0.7,
         "showlegend": true,
         "text": [
          "['merger', 'model', 'scope', 'aware', 'end', 'error', 'mergeable', 'map', 'match', 'concurrent']",
          "['match', 'value', 'bool', 'exact', 'weight', 'result', 'destination', 'traffic', 'policy', 'subset']",
          "['rule', 'mesh', 'listener', 'app', 'merger', 'map', 'merge', 'item', 'array', 'error']",
          "['rule', 'key', 'invoker', 'node', 'router', 'destination', 'service', 'map', 'virtual', 'output']",
          "['url', 'invoker', 'invocation', 'configurator', 'load', 'balance', 'spec', 'item', 'service', 'select']",
          "['map', 'match', 'invoker', 'destination', 'invocation', 'route', 'group', 'tag', 'context', 'rule']",
          "['router', 'url', 'state', 'invoker', 'bit', 'invocation', 'factory', 'snapshot', 'chain', 'rule']",
          "['bit', 'model', 'address', 'application', 'enable', 'service', 'iterator', 'key', 'hash', 'add']",
          "['invoker', 'cluster', 'invocation', 'directory', 'filter', 'url', 'rpc', 'chain', 'result', 'invoke']",
          "['map', 'extension', 'loader', 'property', 'msg', 'throwable', 'error', 'dynamic', 'aware', 'info']",
          "['model', 'method', 'scope', 'map', 'application', 'desc', 'parameter', 'framework', 'property', 'prefix']",
          "['thread', 'map', 'pool', 'qos', 'message', 'stream', 'listener', 'directory', 'watch', 'generic']",
          "['address', 'level', 'host', 'port', 'status', 'protocol', 'url', 'username', 'disposable', 'adapter']",
          "['integer', 'converter', 'path', 'stream', 'key', 'timeout', 'client', 'server', 'model', 'cert']",
          "['map', 'param', 'builder', 'bean', 'value', 'definition', 'parameter', 'key', 'method', 'url']",
          "['thread', 'registry', 'module', 'map', 'local', 'internal', 'reference', 'metadata', 'runnable', 'integer']",
          "['service', 'url', 'key', 'parameter', 'executor', 'model', 'method', 'value', 'map', 'protocol']",
          "['loader', 'java', 'descriptor', 'str', 'method', 'map', 'pattern', 'array', 'lock', 'value']",
          "['invocation', 'invoker', 'attachment', 'argument', 'method', 'rpc', 'map', 'type', 'key', 'parameter']",
          "['command', 'monitor', 'filter', 'context', 'input', 'configurator', 'servlet', 'merger', 'codec', 'telnet']",
          "['url', 'listener', 'registry', 'notify', 'factory', 'cache', 'register', 'subscribe', 'failback', 'compatible']",
          "['page', 'handler', 'service', 'servlet', 'http', 'request', 'model', 'response', 'writer', 'compatible']",
          "['rpc', 'address', 'context', 'remote', 'channel', 'message', 'local', 'socket', 'inet', 'throwable']",
          "['listener', 'notify', 'navigation', 'page', 'title', 'compatible', 'balance', 'application', 'load', 'url']",
          "['parameter', 'url', 'key', 'value', 'method', 'map', 'protocol', 'add', 'port', 'host']",
          "['future', 'response', 'unit', 'throwable', 'timeout', 'adapter', 'interrupt', 'execution', 'callback', 'completable']",
          "['application', 'model', 'module', 'context', 'event', 'service', 'bootstrap', 'state', 'aware', 'error']",
          "['builder', 'consumer', 'protocol', 'service', 'method', 'registry', 'integer', 'module', 'reference', 'bootstrap']",
          "['bean', 'definition', 'service', 'registry', 'context', 'factory', 'environment', 'init', 'spring', 'annotation']",
          "['builder', 'application', 'integer', 'provider', 'status', 'thread', 'registry', 'port', 'probe', 'qos']",
          "['bean', 'metadata', 'annotation', 'annotate', 'method', 'element', 'field', 'inject', 'service', 'property']",
          "['reference', 'bean', 'map', 'context', 'definition', 'parser', 'key', 'cache', 'element', 'application']",
          "['registry', 'property', 'center', 'value', 'metadata', 'report', 'validate', 'url', 'reference', 'application']",
          "['dynamic', 'factory', 'url', 'zookeeper', 'application', 'model', 'create', 'transporter', 'nacos', 'apollo']",
          "['nacos', 'listener', 'group', 'key', 'service', 'property', 'url', 'timeout', 'map', 'publish']",
          "['listener', 'key', 'path', 'group', 'apollo', 'zookeeper', 'change', 'dynamic', 'remove', 'cache']",
          "['apollo', 'listener', 'key', 'change', 'group', 'url', 'property', 'application', 'aware', 'dynamic']",
          "['nacos', 'service', 'group', 'content', 'listener', 'symbol', 'publish', 'cas', 'timeout', 'innerclass']",
          "['listener', 'key', 'property', 'url', 'nacos', 'group', 'change', 'service', 'timeout', 'apollo']",
          "['container', 'spring', 'error', 'extension', 'aware', 'lock', 'loader', 'classpath', 'context', 'condition']",
          "['container', 'error', 'spring', 'aware', 'loader', 'lock', 'reentrant', 'context', 'extension', 'classpath']",
          "['container', 'loader', 'lock', 'extension', 'aware', 'error', 'key', 'reentrant', 'condition', 'hook']",
          "['extension', 'lock', 'loader', 'condition', 'error', 'aware', 'reentrant', 'key', 'container', 'shutdown']",
          "['spring', 'context', 'aware', 'error', 'container', 'xml', 'application', 'path', 'classpath', 'extension']",
          "['method', 'parameter', 'validator', 'clazz', 'value', 'pool', 'validate', 'error', 'violation', 'aware']",
          "['validator', 'url', 'validation', 'create', 'map', 'concurrent', 'hash', 'lru', 'lfu', 'cache']",
          "['expire', 'time', 'map', 'live', 'interval', 'expiration', 'key', 'thread', 'value', 'access']",
          "['cache', 'url', 'factory', 'value', 'key', 'create', 'store', 'put', 'map', 'local']",
          "['invocation', 'validation', 'invoker', 'filter', 'result', 'rpc', 'invoke', 'uid', 'wrapper', 'present']",
          "['service', 'map', 'instance', 'listener', 'app', 'hash', 'concurrent', 'endpoint', 'kubernetes', 'pod']",
          "['client', 'proxy', 'cert', 'key', 'timeout', 'https', 'watch', 'interval', 'username', 'password']",
          "['url', 'listener', 'registry', 'kubernetes', 'mesh', 'env', 'factory', 'create', 'discovery', 'service']",
          "['service', 'map', 'param', 'key', 'url', 'definition', 'info', 'protocol', 'metadata', 'processing']",
          "['metadata', 'report', 'factory', 'url', 'key', 'map', 'rest', 'storage', 'service', 'create']",
          "['service', 'method', 'rest', 'metadata', 'map', 'application', 'model', 'mapping', 'resolve', 'url']",
          "['annotation', 'parameter', 'value', 'map', 'processor', 'method', 'listener', 'request', 'header', 'mapping']",
          "['method', 'map', 'integer', 'definition', 'builder', 'request', 'body', 'prioritize', 'generate', 'metadata']",
          "['cache', 'manager', 'util', 'store', 'service', 'executor', 'map', 'error', 'aware', 'size']",
          "['element', 'service', 'process', 'environment', 'processing', 'method', 'env', 'rest', 'annotation', 'metadata']",
          "['model', 'processor', 'annotation', 'parameter', 'param', 'element', 'application', 'executable', 'comparator', 'initialize']",
          "['metadata', 'identifier', 'service', 'url', 'key', 'listener', 'subscriber', 'report', 'group', 'store']",
          "['metric', 'map', 'method', 'atomic', 'invocation', 'stat', 'application', 'supplier', 'description', 'handler']",
          "['pool', 'thread', 'registry', 'executor', 'meter', 'application', 'empty', 'metric', 'size', 'destroy']",
          "['invocation', 'metric', 'application', 'invoker', 'model', 'category', 'map', 'observation', 'tag', 'value']",
          "['context', 'key', 'observation', 'convention', 'value', 'client', 'server', 'remote', 'low', 'cardinality']",
          "['concurrent', 'map', 'metric', 'time', 'window', 'hash', 'method', 'event', 'counter', 'request']",
          "['invocation', 'invoker', 'observation', 'model', 'filter', 'application', 'result', 'response', 'convention', 'registry']",
          "['metric', 'invocation', 'event', 'application', 'collector', 'request', 'collect', 'listener', 'execute', 'thread']",
          "['reporter', 'metric', 'application', 'model', 'factory', 'url', 'prometheus', 'create', 'exporter', 'service']",
          "['category', 'metric', 'tag', 'map', 'entity', 'sample', 'service', 'value', 'application', 'model']",
          "['invocation', 'invoker', 'monitor', 'result', 'factory', 'error', 'filter', 'host', 'concurrent', 'remote']",
          "['monitor', 'url', 'service', 'factory', 'statistic', 'protocol', 'proxy', 'invoker', 'method', 'client']",
          "['monitor', 'url', 'factory', 'map', 'executor', 'future', 'lock', 'hash', 'reentrant', 'concurrent']",
          "['monitor', 'service', 'constant', 'factory', 'metric', 'url', 'filter', 'detector', 'invoker', 'builtin']",
          "['metric', 'invocation', 'invoker', 'model', 'extension', 'accessor', 'application', 'result', 'aware', 'service']",
          "['max', 'concurrent', 'output', 'input', 'elapse', 'success', 'failure', 'item', 'statistic', 'invoker']",
          "['service', 'monitor', 'detector', 'metric', 'builtin', 'node', 'application', 'aware', 'model', 'url']",
          "['framework', 'model', 'serialize', 'probe', 'status', 'allow', 'readiness', 'util', 'notify', 'deployer']",
          "['command', 'context', 'http', 'aware', 'error', 'execute', 'node', 'executor', 'request', 'channel']",
          "['key', 'method', 'telnet', 'access', 'channel', 'attribute', 'handler', 'message', 'side', 'provider']",
          "['model', 'application', 'protocol', 'framework', 'qos', 'url', 'invoker', 'help', 'consumer', 'scope']",
          "['handler', 'invoker', 'one', 'many', 'response', 'observer', 'stream', 'method', 'request', 'mono']",
          "['border', 'invocation', 'column', 'define', 'filter', 'model', 'framework', 'url', 'state', 'invoker']",
          "['framework', 'model', 'command', 'context', 'snapshot', 'router', 'execute', 'triple', 'detector', 'reactor']",
          "['permission', 'foreign', 'level', 'accept', 'anonymous', 'access', 'whitelist', 'builder', 'welcome', 'qos']",
          "['url', 'invoker', 'listener', 'registry', 'cluster', 'protocol', 'map', 'service', 'exporter', 'provider']",
          "['timeout', 'url', 'retry', 'registry', 'task', 'cancel', 'failback', 'times', 'error', 'aware']",
          "['url', 'registry', 'listener', 'notify', 'factory', 'task', 'fail', 'map', 'retry', 'concurrent']",
          "['service', 'instance', 'metadata', 'discovery', 'listener', 'change', 'url', 'event', 'info', 'map']",
          "['service', 'key', 'url', 'protocol', 'instance', 'model', 'param', 'address', 'map', 'parameter']",
          "['url', 'listener', 'notify', 'map', 'concurrent', 'service', 'instance', 'registry', 'nacos', 'path']",
          "['migration', 'rule', 'step', 'url', 'model', 'consumer', 'threshold', 'delay', 'map', 'integer']",
          "['url', 'listener', 'service', 'registry', 'nacos', 'map', 'notify', 'model', 'aware', 'error']",
          "['dispatcher', 'map', 'repli', 'channel', 'serialization', 'url', 'executor', 'service', 'response', 'hash']",
          "['buffer', 'channel', 'byte', 'length', 'src', 'dst', 'factory', 'read', 'write', 'output']",
          "['context', 'ssl', 'ctx', 'event', 'operator', 'tls', 'buf', 'request', 'server', 'throwable']",
          "['channel', 'server', 'address', 'close', 'timeout', 'remote', 'send', 'timer', 'exchange', 'inet']",
          "['channel', 'handler', 'url', 'remote', 'address', 'netty', 'server', 'message', 'client', 'connect']",
          "['listener', 'path', 'zookeeper', 'channel', 'create', 'curator', 'client', 'state', 'target', 'child']",
          "['connection', 'request', 'future', 'attribute', 'key', 'client', 'executor', 'manager', 'model', 'append']",
          "['servlet', 'context', 'http', 'handler', 'port', 'instance', 'map', 'manager', 'integer', 'add']",
          "['http', 'model', 'message', 'server', 'url', 'handler', 'framework', 'aware', 'multi', 'error']",
          "['call', 'stream', 'channel', 'method', 'message', 'status', 'header', 'server', 'queue', 'command']",
          "['invoker', 'invocation', 'url', 'proxy', 'channel', 'rpc', 'error', 'protocol', 'result', 'aware']",
          "['future', 'context', 'completable', 'request', 'atomic', 'filter', 'time', 'output', 'response', 'key']",
          "['attachment', 'context', 'map', 'rpc', 'service', 'key', 'value', 'invocation', 'invoker', 'url']",
          "['status', 'handler', 'rpc', 'url', 'timeout', 'channel', 'pack', 'method', 'tri', 'response']",
          "['listener', 'exporter', 'context', 'cancellation', 'executor', 'invoker', 'executable', 'aware', 'consumer', 'error']",
          "['stream', 'client', 'url', 'server', 'protocol', 'remote', 'request', 'handler', 'service', 'channel']",
          "['header', 'executor', 'support', 'model', 'filter', 'application', 'isolation', 'compressor', 'url', 'aware']",
          "['application', 'event', 'environment', 'listener', 'prepare', 'atomic', 'process', 'logo', 'welcome', 'property']",
          "['map', 'property', 'metadata', 'environment', 'bean', 'application', 'protocol', 'registry', 'reference', 'consumer']",
          "['endpoint', 'condition', 'compatible', 'enable', 'context', 'error', 'aware', 'metadata', 'match', 'annotate']",
          "['metric', 'registry', 'meter', 'application', 'event', 'binder', 'start', 'bean', 'auto', 'listener']",
          "['metadata', 'map', 'endpoint', 'configs', 'health', 'indicator', 'name', 'status', 'checker', 'resolve']",
          "['status', 'default', 'extras', 'hash', 'link', 'indicator', 'propertie', 'health', 'load', 'memory']",
          "['application', 'context', 'event', 'bean', 'listener', 'definition', 'web', 'await', 'configurable', 'registry']",
          "['bean', 'service', 'processor', 'annotation', 'auto', 'qualifier', 'package', 'disposable', 'destroy', 'priority']",
          "['resource', 'map', 'service', 'lock', 'result', 'domain', 'listener', 'route', 'consumer', 'delta']",
          "['name', 'route', 'registry', 'url', 'listener', 'factory', 'map', 'result', 'hash', 'create']",
          "['model', 'url', 'range', 'value', 'match', 'listener', 'suffix', 'exact', 'present', 'prefix']",
          "['route', 'listener', 'rule', 'map', 'xds', 'endpoint', 'manager', 'match', 'rds', 'concurrent']",
          "['key', 'istio', 'path', 'secret', 'jwt', 'cluster', 'domain', 'grace', 'trust', 'workload']",
          "['consumer', 'observe', 'map', 'result', 'endpoint', 'protocol', 'domain', 'rd', 'pilot', 'exchanger']",
          "['endpoint', 'cluster', 'server', 'weight', 'info', 'node', 'provider', 'invoker', 'bootstrap', 'resource']",
          "['discovery', 'observer', 'response', 'request', 'ad', 'protocol', 'error', 'url', 'aware', 'delta']",
          "['key', 'cert', 'istio', 'matcher', 'certificate', 'env', 'generate', 'pair', 'path', 'header']"
         ],
         "type": "scatter",
         "x": [
          -25.357004165649414,
          10.49979305267334,
          -41.461360931396484,
          4.446652412414551,
          9.990790367126465,
          22.15812110900879,
          1.7104368209838867,
          -14.640787124633789,
          -0.8423226475715637,
          24.908191680908203,
          -7.687136173248291,
          -20.32487678527832,
          -3.29801869392395,
          -29.560394287109375,
          1.1758036613464355,
          -22.934995651245117,
          0.2613801658153534,
          -30.579435348510742,
          30.58493995666504,
          -0.1477300077676773,
          -26.96623420715332,
          -30.033781051635742,
          16.579120635986328,
          32.962459564208984,
          -1.932568073272705,
          5.349786281585693,
          4.879525661468506,
          -5.546526908874512,
          22.26630973815918,
          -26.898048400878906,
          23.72197723388672,
          34.782188415527344,
          -28.47109603881836,
          26.321712493896484,
          1.8180550336837769,
          20.476699829101562,
          -4.7010416984558105,
          9.870406150817871,
          -2.7675368785858154,
          28.565040588378906,
          30.05626678466797,
          30.25239372253418,
          28.87914276123047,
          34.51954650878906,
          2.212986707687378,
          -22.664024353027344,
          -5.712005138397217,
          -24.21453285217285,
          4.3261399269104,
          31.356792449951172,
          -12.086811065673828,
          -34.432918548583984,
          23.783710479736328,
          -33.04282760620117,
          -5.319438934326172,
          -0.32322537899017334,
          21.5926570892334,
          -32.32202911376953,
          23.215713500976562,
          25.864408493041992,
          -35.82289123535156,
          21.86518669128418,
          -14.486623764038086,
          20.795013427734375,
          18.449888229370117,
          -12.067717552185059,
          21.598989486694336,
          11.830767631530762,
          -30.992029190063477,
          -4.118168830871582,
          7.0981855392456055,
          -1.3611304759979248,
          -8.289569854736328,
          -1.4425711631774902,
          9.0862398147583,
          7.492726802825928,
          3.803218126296997,
          -9.03918743133545,
          -10.35332202911377,
          -15.577095031738281,
          18.77389907836914,
          27.219646453857422,
          1.520257592201233,
          -3.329463243484497,
          11.071282386779785,
          -31.436735153198242,
          -35.999366760253906,
          -25.14175796508789,
          14.101755142211914,
          -28.980546951293945,
          -10.438597679138184,
          -5.71875524520874,
          -27.954835891723633,
          -13.329046249389648,
          -25.8601016998291,
          -2.9072468280792236,
          -14.094450950622559,
          -13.57051944732666,
          -17.411603927612305,
          8.243586540222168,
          34.05763626098633,
          -38.990081787109375,
          -21.47222328186035,
          3.2064285278320312,
          6.084481239318848,
          15.33520221710205,
          -12.261616706848145,
          -3.501891851425171,
          -29.234994888305664,
          -2.614372968673706,
          24.346939086914062,
          25.00663948059082,
          25.918609619140625,
          -21.423282623291016,
          18.95616340637207,
          -10.0971040725708,
          34.4694938659668,
          22.66786003112793,
          -3.9062318801879883,
          -38.21719741821289,
          -4.290621757507324,
          -8.863751411437988,
          -0.43884164094924927,
          21.027421951293945,
          3.68609881401062,
          -33.30491638183594,
          -18.439542770385742
         ],
         "y": [
          4.80694055557251,
          -0.9298110008239746,
          14.688149452209473,
          -23.346370697021484,
          -8.516851425170898,
          -21.049198150634766,
          -6.969193935394287,
          -0.7929732799530029,
          -5.958780288696289,
          10.789329528808594,
          21.36016845703125,
          2.5780961513519287,
          28.571056365966797,
          6.138443946838379,
          15.849738121032715,
          11.658605575561523,
          28.264598846435547,
          21.016054153442383,
          -6.385806560516357,
          -11.507491111755371,
          -5.264123439788818,
          23.29439926147461,
          -6.552542209625244,
          3.4377286434173584,
          29.87995719909668,
          15.909358978271484,
          -13.11060905456543,
          -13.830290794372559,
          -31.09940528869629,
          20.93075180053711,
          -29.89569091796875,
          -0.835235595703125,
          18.043819427490234,
          4.751125812530518,
          17.273542404174805,
          -4.847170829772949,
          22.381383895874023,
          -4.640407562255859,
          24.517993927001953,
          -29.61336326599121,
          -30.25718879699707,
          -26.468910217285156,
          -26.393070220947266,
          -3.6179301738739014,
          29.757383346557617,
          -13.947174072265625,
          11.683588981628418,
          -12.724392890930176,
          -21.325345993041992,
          -5.158553123474121,
          8.371786117553711,
          7.630005359649658,
          5.016060829162598,
          12.338879585266113,
          25.448762893676758,
          23.53167724609375,
          9.972197532653809,
          10.524825096130371,
          -26.594263076782227,
          3.2170369625091553,
          12.30844783782959,
          -3.027560234069824,
          12.277941703796387,
          -22.82484245300293,
          -23.549121856689453,
          -15.15127182006836,
          -24.186094284057617,
          -6.753271579742432,
          14.27820873260498,
          20.112333297729492,
          -16.973285675048828,
          -14.608231544494629,
          -13.123634338378906,
          -9.906496047973633,
          -10.014485359191895,
          16.528690338134766,
          -11.819568634033203,
          26.088848114013672,
          -13.663467407226562,
          0.23278699815273285,
          2.671509027481079,
          -23.089731216430664,
          -18.33928108215332,
          -14.260452270507812,
          -3.4082107543945312,
          18.798677444458008,
          10.364799499511719,
          11.20606517791748,
          -14.030132293701172,
          20.054723739624023,
          -7.663768768310547,
          29.265989303588867,
          11.543144226074219,
          5.675937652587891,
          -5.935268878936768,
          0.8279095888137817,
          -9.268945693969727,
          -7.989828586578369,
          2.4160046577453613,
          14.021812438964844,
          -4.959756851196289,
          14.937262535095215,
          -14.725366592407227,
          -14.33178424835205,
          14.6622314453125,
          -14.449590682983398,
          4.572356224060059,
          -9.581622123718262,
          4.725733280181885,
          26.888225555419922,
          2.33245849609375,
          7.798537731170654,
          -30.04326820373535,
          12.218031883239746,
          -5.639404773712158,
          5.377295970916748,
          1.1993986368179321,
          6.987490177154541,
          -5.040775775909424,
          12.036164283752441,
          10.900614738464355,
          -8.45469856262207,
          -3.3887362480163574,
          3.051053047180176,
          -16.862043380737305,
          18.13593292236328,
          5.233663558959961
         ]
        },
        {
         "mode": "markers",
         "name": "test",
         "opacity": 0.7,
         "showlegend": true,
         "text": [
          "['invoker', 'hello', 'menu', 'service', 'load', 'balance', 'user', 'map', 'weight', 'mock']",
          "['invoker', 'invocation', 'url', 'cluster', 'mock', 'result', 'directory', 'rpc', 'balance', 'invoke']",
          "['attachment', 'value', 'key', 'invoker', 'sticky', 'invoke', 'integer', 'service', 'retry', 'field']",
          "['url', 'model', 'merge', 'merger', 'module', 'router', 'provider', 'factory', 'init', 'script']",
          "['match', 'configurator', 'mock', 'bool', 'join', 'absent', 'message', 'runtime', 'uid', 'request']",
          "['rule', 'service', 'app', 'demo', 'map', 'suffix', 'clear', 'change', 'api', 'url']",
          "['address', 'country', 'phone', 'full', 'size', 'number', 'city', 'title', 'province', 'extension']",
          "['url', 'activate', 'echo', 'thread', 'add', 'event', 'pool', 'wrapper', 'adaptive', 'exhaust']",
          "['demo', 'service', 'mock', 'key', 'value', 'generic', 'hello', 'impl', 'group', 'cache']",
          "['model', 'scope', 'framework', 'module', 'application', 'destroy', 'property', 'method', 'bean', 'foo']",
          "['converter', 'person', 'init', 'task', 'status', 'multi', 'error', 'info', 'latch', 'value']",
          "['url', 'ext', 'atomic', 'integer', 'echo', 'wrap', 'status', 'executor', 'count', 'adaptive']",
          "['inner', 'age', 'map', 'child', 'util', 'parent', 'url', 'hash', 'email', 'result']",
          "['simple', 'value', 'ext', 'age', 'url', 'one', 'serializable', 'obj', 'person', 'hash']",
          "['provider', 'foo', 'service', 'framework', 'app', 'module', 'player', 'bitrate', 'url', 'copyright']",
          "['consumer', 'service', 'argument', 'application', 'provider', 'registry', 'protocol', 'extension', 'invoker', 'rpc']",
          "['url', 'invoker', 'invocation', 'router', 'cache', 'rpc', 'legacy', 'route', 'invokers', 'factory']",
          "['key', 'attachment', 'invoker', 'value', 'service', 'map', 'invocation', 'invoke', 'model', 'put']",
          "['inner', 'input', 'map', 'array', 'registry', 'application', 'output', 'stream', 'serialization', 'protocol']",
          "['read', 'write', 'input', 'output', 'extension', 'stream', 'argument', 'custom', 'find', 'byte']",
          "['person', 'complex', 'age', 'service', 'demo', 'method', 'impl', 'size', 'enumlength', 'uid']",
          "['context', 'argument', 'rpc', 'registry', 'provider', 'extension', 'application', 'service', 'module', 'protocol']",
          "['service', 'echo', 'demo', 'read', 'input', 'find', 'extension', 'cls', 'reader', 'stream']",
          "['invoker', 'key', 'attachment', 'service', 'map', 'invoke', 'value', 'attribute', 'parameter', 'cache']",
          "['box', 'service', 'demo', 'user', 'say', 'impl', 'prefix', 'status', 'checker', 'context']",
          "['invoker', 'mock', 'url', 'rpc', 'protocol', 'executor', 'proxy', 'port', 'dao', 'balance']",
          "['invocation', 'model', 'invoker', 'error', 'thread', 'response', 'application', 'bootstrap', 'module', 'filter']",
          "['url', 'listener', 'map', 'method', 'service', 'notify', 'registry', 'concurrent', 'key', 'register']",
          "['registry', 'service', 'center', 'export', 'listener', 'single', 'provider', 'exporter', 'multiple', 'protocol']",
          "['service', 'hello', 'demo', 'bean', 'application', 'context', 'reference', 'builder', 'impl', 'generic']",
          "['factory', 'loader', 'reference', 'service', 'bean', 'request', 'processor', 'property', 'find', 'multi']",
          "['consumer', 'bootstrap', 'service', 'module', 'spring', 'channel', 'manager', 'model', 'boot', 'zookeeper']",
          "['namespace', 'map', 'context', 'mock', 'property', 'service', 'extension', 'callback', 'key', 'apollo']",
          "['key', 'value', 'latch', 'count', 'map', 'listener', 'nacos', 'dynamic', 'session', 'event']",
          "['zookeeper', 'listener', 'map', 'url', 'count', 'dynamic', 'latch', 'mock', 'server', 'value']",
          "['map', 'namespace', 'property', 'service', 'extension', 'mock', 'context', 'locator', 'key', 'error']",
          "['server', 'status', 'timeout', 'retry', 'group', 'nacos', 'namespace', 'map', 'mock', 'property']",
          "['apollo', 'key', 'put', 'value', 'embed', 'dynamic', 'url', 'mock', 'namespace', 'event']",
          "['group', 'nacos', 'listener', 'publish', 'cas', 'content', 'remove', 'timeout', 'service', 'shut']",
          "['spring', 'container']",
          "['spring', 'container']",
          "['container', 'spring']",
          "['spring', 'container']",
          "['container', 'spring']",
          "['spring', 'container']",
          "['cache', 'factory', 'invoker', 'mock', 'filter', 'invocation', 'method', 'construct', 'rpc', 'non']",
          "['cache', 'expire', 'factory', 'url', 'construct', 'validator', 'validation', 'parameter', 'target', 'mock']",
          "['validation', 'mock', 'filter', 'validator', 'rpc', 'invocation', 'invoker', 'cache', 'factory', 'parameter']",
          "['parameter', 'validation', 'validator', 'target', 'mock', 'filter', 'rpc', 'invoker', 'invocation', 'cache']",
          "['service', 'kubernetes', 'server', 'mock', 'discovery', 'change', 'listener', 'instance', 'client', 'url']",
          "['service', 'kubernetes', 'mock', 'discovery', 'server', 'url', 'selector', 'pod', 'change', 'namespaced']",
          "['service', 'server', 'kubernetes', 'mock', 'discovery', 'map', 'selector', 'pod', 'change', 'namespaced']",
          "['service', 'mock', 'discovery', 'server', 'kubernetes', 'map', 'pod', 'namespaced', 'change', 'destroy']",
          "['service', 'server', 'kubernetes', 'discovery', 'mock', 'url', 'client', 'namespaced', 'instance', 'listener']",
          "['service', 'server', 'mock', 'kubernetes', 'listener', 'map', 'pod', 'namespaced', 'change', 'destroy']",
          "['service', 'discovery', 'server', 'kubernetes', 'listener', 'pod', 'map', 'selector', 'change', 'namespaced']",
          "['redis', 'metadata', 'report', 'store', 'info', 'find', 'interceptor', 'group', 'identifi', 'consumer']",
          "['service', 'url', 'listener', 'mapping', 'mock', 'nacos', 'group', 'application', 'map', 'model']",
          "['integer', 'big', 'compiler', 'str', 'java', 'directory', 'source', 'decimal', 'processor', 'time']",
          "['element', 'field', 'variable', 'class', 'compile', 'builder', 'annotation', 'add', 'model', 'definition']",
          "['param', 'user', 'model', 'service', 'rest', 'request', 'map', 'body', 'header', 'form']",
          "['method', 'annotation', 'invocation', 'processor', 'processing', 'context', 'source', 'round', 'environment', 'process']",
          "['metadata', 'identifier', 'report', 'service', 'url', 'subscriber', 'consumer', 'store', 'listener', 'map']",
          "['class', 'builder', 'compile', 'definition', 'type', 'add', 'annotation', 'processing', 'server', 'status']",
          "['builder', 'google', 'phone', 'number', 'map', 'field', 'request', 'parse', 'byte', 'response']",
          "['observation', 'filter', 'tracer', 'url', 'invocation', 'runner', 'consumer', 'sample', 'destroy', 'receiver']",
          "['window', 'time', 'quantile', 'counter', 'metric', 'category', 'unit', 'description', 'map', 'sample']",
          "['key', 'attachment', 'value', 'service', 'model', 'map', 'absent', 'invocation', 'invoker', 'mock']",
          "['metric', 'model', 'application', 'event', 'invocation', 'method', 'collector', 'setup', 'group', 'rpc']",
          "['metric', 'category', 'tag', 'setup', 'map', 'supplier', 'unit', 'description', 'sample', 'gauge']",
          "['request', 'init', 'param', 'teardown', 'event', 'metric', 'time', 'invocation', 'model', 'setup']",
          "['reporter', 'prometheus', 'metric', 'factory', 'attachment', 'key', 'service', 'value', 'model', 'framework']",
          "['factory', 'monitor', 'proxy', 'statistic', 'service', 'url', 'demo', 'invoker', 'response', 'invoke']",
          "['response', 'app', 'builder', 'attachment', 'result', 'map', 'throwable', 'create', 'build', 'invoker']",
          "['url', 'monitor', 'service', 'invoker', 'factory', 'invocation', 'statistics', 'available', 'destroy', 'collect']",
          "['invoker', 'service', 'demo', 'url', 'metric', 'invoke', 'function', 'consumer', 'port', 'response']",
          "['framework', 'model', 'register', 'provider', 'repository', 'module', 'state', 'url', 'user', 'custom']",
          "['command', 'context', 'mock', 'attribute', 'map', 'channel', 'telnet', 'invoker', 'method', 'service']",
          "['url', 'model', 'framework', 'util', 'reset', 'exporter', 'export', 'refer', 'instance', 'metadata']",
          "['channel', 'promise', 'future', 'address', 'listener', 'socket', 'remote', 'throwable', 'cause', 'timeout']",
          "['handler', 'telnet', 'mock', 'invoker', 'protocol', 'url', 'channel', 'wrapper', 'tri', 'change']",
          "['channel', 'url', 'remote', 'handler', 'attribute', 'mock', 'send', 'address', 'key', 'close']",
          "['person', 'map', 'serialize', 'non', 'service', 'value', 'demo', 'liveness', 'probe', 'integer']",
          "['age', 'qos', 'process', 'handler', 'uid', 'serializable', 'man', 'wire', 'protocol', 'util']",
          "['service', 'demo', 'repository', 'framework', 'model', 'module', 'invoke', 'parameter', 'generic', 'impl']",
          "['registry', 'protocol', 'url', 'integer', 'refer', 'atomic', 'invoker', 'listener', 'counter', 'exporter']",
          "['url', 'registry', 'factory', 'zookeeper', 'listener', 'service', 'notify', 'subscribe', 'mock', 'register']",
          "['notification', 'multiple', 'instance', 'metadata', 'service', 'revision', 'subscribe', 'listener', 'failure', 'invocation']",
          "['migration', 'rule', 'event', 'curator', 'framework', 'handler', 'invoker', 'url', 'path', 'key']",
          "['nacos', 'instance', 'service', 'group', 'subscribe', 'healthy', 'listener', 'select', 'server', 'msg']",
          "['service', 'discovery', 'instance', 'url', 'mock', 'listener', 'registry', 'event', 'change', 'mapping']",
          "['metadata', 'report', 'builder', 'service', 'url', 'mapping', 'invocation', 'application', 'map', 'model']",
          "['instance', 'service', 'param', 'metadata', 'nacos', 'exclude', 'create', 'naming', 'group', 'include']",
          "['url', 'timer', 'mock', 'task', 'channel', 'close', 'header', 'serialization', 'magic', 'reconnect']",
          "['channel', 'decode', 'output', 'input', 'encode', 'buffer', 'request', 'stream', 'codec', 'message']",
          "['channel', 'exchange', 'remote', 'server', 'handler', 'message', 'world', 'client', 'reply', 'port']",
          "['path', 'service', 'update', 'create', 'tolerant', 'zookeeper', 'fault', 'client', 'provider', 'persistent']",
          "['channel', 'client', 'remote', 'zookeeper', 'server', 'url', 'handler', 'connection', 'transporter', 'latch']",
          "['performance', 'aware', 'error', 'telnet', 'client', 'handler', 'result', 'mock', 'serializable', 'fix']",
          "['channel', 'buffer', 'handler', 'url', 'remote', 'send', 'close', 'address', 'attribute', 'key']",
          "['http', 'response', 'request', 'servlet', 'hello', 'serializable', 'uid', 'parameter', 'desc', 'type']",
          "['extension', 'loader', 'proxy', 'protocol', 'age', 'find', 'factory', 'adaptive', 'path', 'block']",
          "['service', 'demo', 'callback', 'hello', 'url', 'msg', 'yyy', 'impl', 'stub', 'say']",
          "['invocation', 'filter', 'rpc', 'url', 'invoker', 'attachment', 'context', 'tps', 'limiter', 'latch']",
          "['channel', 'remote', 'address', 'url', 'attribute', 'close', 'response', 'health', 'key', 'mock']",
          "['service', 'invoker', 'demo', 'reference', 'url', 'method', 'request', 'loader', 'result', 'argument']",
          "['channel', 'handler', 'integer', 'atomic', 'filter', 'telnet', 'msg', 'future', 'limit', 'completable']",
          "['service', 'demo', 'person', 'key', 'str', 'attachment', 'value', 'echo', 'map', 'size']",
          "['throwable', 'stream', 'observer', 'mock', 'latch', 'count', 'complete', 'next', 'error', 'message']",
          "['binder', 'environment', 'destroy', 'configurable', 'init', 'bean', 'relaxed', 'application', 'suite', 'endpoint']",
          "['application', 'map', 'module', 'registry', 'monitor', 'protocol', 'consumer', 'hash', 'link', 'provider']",
          "['annotation', 'service', 'context', 'processor', 'application', 'auto', 'bean', 'compatible', 'provider', 'without']",
          "['endpoint', 'metadata', 'service', 'rest', 'template', 'configs', 'shutdown', 'reference', 'property', 'demo']",
          "['application', 'environment', 'spring', 'processor', 'property', 'init', 'destroy', 'binder', 'instance', 'relaxed']",
          "['binder', 'environment', 'configurable', 'bean', 'suite', 'relaxed', 'destroy', 'init', 'metadata', 'template']",
          "['matcher', 'map', 'rule', 'route', 'observe', 'bootstrapper', 'path', 'change', 'resource', 'create']",
          "['bootstrapper', 'reader', 'create', 'raw', 'read', 'path', 'matcher', 'map', 'observe', 'rule']",
          "['map', 'listener', 'lds', 'request', 'discovery', 'consumer', 'resource', 'observe', 'build', 'name']",
          "['route', 'rd', 'rds', 'map', 'observe', 'resource', 'protocol', 'result', 'consumer', 'ad']",
          "['endpoint', 'change', 'point', 'end', 'cluster', 'eds', 'subscribe', 'rd', 'notify', 'unsubscribe']",
          "['matcher', 'route', 'map', 'rule', 'endpoint', 'change', 'regex', 'bootstrapper', 'path', 'rds']",
          "['endpoint', 'cluster', 'end', 'change', 'point', 'eds', 'manager', 'rule', 'unsubscribe', 'notify']",
          "['rule', 'route', 'app', 'xds', 'manager', 'change', 'listener', 'rds', 'parse', 'invoker']",
          "['map', 'resource', 'observe', 'matcher', 'result', 'consumer', 'protocol', 'node', 'ad', 'mock']"
         ],
         "type": "scatter",
         "x": [
          8.458895683288574,
          6.24636173248291,
          22.07427978515625,
          10.431880950927734,
          -8.0072660446167,
          41.14931869506836,
          -22.317367553710938,
          30.67068862915039,
          11.228666305541992,
          -46.42564010620117,
          23.77522087097168,
          1.448925495147705,
          40.38054656982422,
          -10.992286682128906,
          29.278337478637695,
          -29.973909378051758,
          7.940284252166748,
          -28.5644588470459,
          -8.970816612243652,
          -19.25275230407715,
          -12.284638404846191,
          -32.882965087890625,
          32.149478912353516,
          18.707738876342773,
          13.71773910522461,
          -34.94685363769531,
          -39.34126663208008,
          18.54555892944336,
          28.33036231994629,
          19.73501205444336,
          13.881567001342773,
          -39.95280075073242,
          -53.2869758605957,
          -26.509235382080078,
          8.393714904785156,
          -37.30819320678711,
          -7.553544044494629,
          -19.9842472076416,
          -0.4368731677532196,
          -50.72879409790039,
          -50.72879409790039,
          -46.79363250732422,
          -50.72879409790039,
          -46.79363250732422,
          -50.72879409790039,
          -36.638118743896484,
          13.027449607849121,
          0.5336986184120178,
          0.3543590009212494,
          31.70553970336914,
          24.545013427734375,
          21.29862403869629,
          19.30436897277832,
          30.980789184570312,
          23.049646377563477,
          24.64851951599121,
          -27.956579208374023,
          -15.06248664855957,
          9.443497657775879,
          -18.52638053894043,
          6.294901371002197,
          -43.335365295410156,
          10.92281723022461,
          -22.34874153137207,
          -6.263664722442627,
          19.679468154907227,
          -21.790063858032227,
          -29.520801544189453,
          -36.443782806396484,
          43.08840560913086,
          -25.941165924072266,
          14.704188346862793,
          -31.121431350708008,
          33.9250602722168,
          1.0486304759979248,
          -28.53672981262207,
          11.96103286743164,
          -34.16432571411133,
          26.25602912902832,
          24.728233337402344,
          32.88379669189453,
          29.1189022064209,
          -22.917051315307617,
          24.67656707763672,
          -25.751039505004883,
          21.21786117553711,
          16.258098602294922,
          -14.49796199798584,
          26.268566131591797,
          28.74789047241211,
          25.827966690063477,
          -14.396723747253418,
          31.164756774902344,
          27.549949645996094,
          -3.7579922676086426,
          36.48762130737305,
          31.022464752197266,
          31.652748107910156,
          37.7628173828125,
          32.44118881225586,
          38.69951248168945,
          -50.53031539916992,
          -8.286664962768555,
          20.584367752075195,
          26.875520706176758,
          16.94111442565918,
          22.39803123474121,
          13.161279678344727,
          13.108743667602539,
          -25.03731346130371,
          -41.93996810913086,
          -39.52675247192383,
          -31.29090690612793,
          -38.815040588378906,
          -26.310440063476562,
          2.5268592834472656,
          4.145322322845459,
          19.286243438720703,
          8.994135856628418,
          -26.197845458984375,
          -0.2544834613800049,
          -23.47264862060547,
          30.108306884765625,
          11.091287612915039
         ],
         "y": [
          20.51823616027832,
          10.430803298950195,
          47.38990783691406,
          -36.98411178588867,
          18.200265884399414,
          -17.920658111572266,
          24.56254768371582,
          -9.952381134033203,
          23.692502975463867,
          -3.018517255783081,
          -38.946224212646484,
          24.986404418945312,
          -11.953819274902344,
          35.93558883666992,
          -18.296337127685547,
          -15.999384880065918,
          8.258103370666504,
          38.676326751708984,
          -15.90322208404541,
          20.156269073486328,
          32.62879943847656,
          -16.276105880737305,
          20.895753860473633,
          43.555274963378906,
          34.954097747802734,
          -14.17308521270752,
          -3.2876572608947754,
          -20.951465606689453,
          -26.883947372436523,
          15.769918441772461,
          -21.40492820739746,
          0.11799643933773041,
          -1.1576813459396362,
          34.06002426147461,
          17.238750457763672,
          -18.941144943237305,
          -18.24241065979004,
          33.801570892333984,
          23.053586959838867,
          -45.11949920654297,
          -45.11949920654297,
          -46.64100646972656,
          -45.11949920654297,
          -46.64100646972656,
          -45.11949920654297,
          32.565879821777344,
          -8.027819633483887,
          6.272408962249756,
          3.9278671741485596,
          38.91889190673828,
          33.32340621948242,
          34.885135650634766,
          37.441261291503906,
          41.43582534790039,
          39.73810958862305,
          36.861202239990234,
          -23.494325637817383,
          -3.8123586177825928,
          -8.822467803955078,
          10.017107963562012,
          -33.286895751953125,
          5.709535598754883,
          -32.140567779541016,
          9.221596717834473,
          -9.845520973205566,
          -31.00264549255371,
          3.8432788848876953,
          36.11380386352539,
          4.799525260925293,
          -20.589445114135742,
          -4.2628326416015625,
          -11.165030479431152,
          -9.101115226745605,
          -14.84910774230957,
          9.837817192077637,
          -6.653885364532471,
          -39.509559631347656,
          33.63526153564453,
          -28.926786422729492,
          2.9704337120056152,
          14.105182647705078,
          8.247905731201172,
          -3.571509838104248,
          -1.0620243549346924,
          -15.890114784240723,
          -29.036094665527344,
          -19.71054458618164,
          12.71536636352539,
          -38.094730377197266,
          32.2700080871582,
          42.43732833862305,
          -6.045792579650879,
          45.85997009277344,
          16.890071868896484,
          24.384620666503906,
          11.872634887695312,
          -16.280529022216797,
          16.501476287841797,
          7.082707405090332,
          5.678317070007324,
          -15.146781921386719,
          -1.9638785123825073,
          38.94585418701172,
          18.16140365600586,
          7.099552631378174,
          -39.731414794921875,
          10.71168327331543,
          26.584423065185547,
          -1.041582465171814,
          12.435587882995605,
          -4.535484790802002,
          3.150372266769409,
          -20.52432632446289,
          -22.502201080322266,
          14.955801010131836,
          -23.859973907470703,
          -29.4884033203125,
          -36.08558654785156,
          -41.393829345703125,
          21.30402374267578,
          -21.87881851196289,
          21.040573120117188,
          -31.439289093017578,
          3.0303726196289062
         ]
        },
        {
         "mode": "markers",
         "name": "doc",
         "opacity": 0.7,
         "showlegend": true,
         "text": [
          "['service', 'see', 'issue', 'sample', 'project', 'github', 'contribute', 'list', 'build', 'guide']",
          "['contribute', 'issue', 'sample', 'project', 'service', 'see', 'admin', 'build', 'list', 'report']",
          "['issue', 'service', 'project', 'list', 'see', 'github', 'report', 'sample', 'contribute', 'follow']",
          "['service', 'see', 'project', 'build', 'github', 'sample', 'issue', 'admin', 'follow', 'list']",
          "['see', 'issue', 'sample', 'service', 'contribute', 'guide', 'github', 'project', 'list', 'report']",
          "['service', 'sample', 'see', 'issue', 'please', 'project', 'github', 'contribute', 'report', 'list']",
          "['service', 'issue', 'contribute', 'see', 'github', 'project', 'report', 'sample', 'build', 'guide']",
          "['service', 'see', 'issue', 'contribute', 'sample', 'github', 'project', 'guide', 'admin', 'build']"
         ],
         "type": "scatter",
         "x": [
          -10.693169593811035,
          67.5494384765625,
          -86.65924835205078,
          -41.577186584472656,
          48.386417388916016,
          26.894472122192383,
          -74.56979370117188,
          -14.526396751403809
         ],
         "y": [
          8.292455673217773,
          22.23533058166504,
          29.844881057739258,
          81.4877700805664,
          -43.56700134277344,
          77.34965515136719,
          -37.688541412353516,
          -70.80412292480469
         ]
        }
       ],
       "layout": {
        "height": 650,
        "template": {
         "data": {
          "bar": [
           {
            "error_x": {
             "color": "#2a3f5f"
            },
            "error_y": {
             "color": "#2a3f5f"
            },
            "marker": {
             "line": {
              "color": "#E5ECF6",
              "width": 0.5
             },
             "pattern": {
              "fillmode": "overlay",
              "size": 10,
              "solidity": 0.2
             }
            },
            "type": "bar"
           }
          ],
          "barpolar": [
           {
            "marker": {
             "line": {
              "color": "#E5ECF6",
              "width": 0.5
             },
             "pattern": {
              "fillmode": "overlay",
              "size": 10,
              "solidity": 0.2
             }
            },
            "type": "barpolar"
           }
          ],
          "carpet": [
           {
            "aaxis": {
             "endlinecolor": "#2a3f5f",
             "gridcolor": "white",
             "linecolor": "white",
             "minorgridcolor": "white",
             "startlinecolor": "#2a3f5f"
            },
            "baxis": {
             "endlinecolor": "#2a3f5f",
             "gridcolor": "white",
             "linecolor": "white",
             "minorgridcolor": "white",
             "startlinecolor": "#2a3f5f"
            },
            "type": "carpet"
           }
          ],
          "choropleth": [
           {
            "colorbar": {
             "outlinewidth": 0,
             "ticks": ""
            },
            "type": "choropleth"
           }
          ],
          "contour": [
           {
            "colorbar": {
             "outlinewidth": 0,
             "ticks": ""
            },
            "colorscale": [
             [
              0,
              "#0d0887"
             ],
             [
              0.1111111111111111,
              "#46039f"
             ],
             [
              0.2222222222222222,
              "#7201a8"
             ],
             [
              0.3333333333333333,
              "#9c179e"
             ],
             [
              0.4444444444444444,
              "#bd3786"
             ],
             [
              0.5555555555555556,
              "#d8576b"
             ],
             [
              0.6666666666666666,
              "#ed7953"
             ],
             [
              0.7777777777777778,
              "#fb9f3a"
             ],
             [
              0.8888888888888888,
              "#fdca26"
             ],
             [
              1,
              "#f0f921"
             ]
            ],
            "type": "contour"
           }
          ],
          "contourcarpet": [
           {
            "colorbar": {
             "outlinewidth": 0,
             "ticks": ""
            },
            "type": "contourcarpet"
           }
          ],
          "heatmap": [
           {
            "colorbar": {
             "outlinewidth": 0,
             "ticks": ""
            },
            "colorscale": [
             [
              0,
              "#0d0887"
             ],
             [
              0.1111111111111111,
              "#46039f"
             ],
             [
              0.2222222222222222,
              "#7201a8"
             ],
             [
              0.3333333333333333,
              "#9c179e"
             ],
             [
              0.4444444444444444,
              "#bd3786"
             ],
             [
              0.5555555555555556,
              "#d8576b"
             ],
             [
              0.6666666666666666,
              "#ed7953"
             ],
             [
              0.7777777777777778,
              "#fb9f3a"
             ],
             [
              0.8888888888888888,
              "#fdca26"
             ],
             [
              1,
              "#f0f921"
             ]
            ],
            "type": "heatmap"
           }
          ],
          "heatmapgl": [
           {
            "colorbar": {
             "outlinewidth": 0,
             "ticks": ""
            },
            "colorscale": [
             [
              0,
              "#0d0887"
             ],
             [
              0.1111111111111111,
              "#46039f"
             ],
             [
              0.2222222222222222,
              "#7201a8"
             ],
             [
              0.3333333333333333,
              "#9c179e"
             ],
             [
              0.4444444444444444,
              "#bd3786"
             ],
             [
              0.5555555555555556,
              "#d8576b"
             ],
             [
              0.6666666666666666,
              "#ed7953"
             ],
             [
              0.7777777777777778,
              "#fb9f3a"
             ],
             [
              0.8888888888888888,
              "#fdca26"
             ],
             [
              1,
              "#f0f921"
             ]
            ],
            "type": "heatmapgl"
           }
          ],
          "histogram": [
           {
            "marker": {
             "pattern": {
              "fillmode": "overlay",
              "size": 10,
              "solidity": 0.2
             }
            },
            "type": "histogram"
           }
          ],
          "histogram2d": [
           {
            "colorbar": {
             "outlinewidth": 0,
             "ticks": ""
            },
            "colorscale": [
             [
              0,
              "#0d0887"
             ],
             [
              0.1111111111111111,
              "#46039f"
             ],
             [
              0.2222222222222222,
              "#7201a8"
             ],
             [
              0.3333333333333333,
              "#9c179e"
             ],
             [
              0.4444444444444444,
              "#bd3786"
             ],
             [
              0.5555555555555556,
              "#d8576b"
             ],
             [
              0.6666666666666666,
              "#ed7953"
             ],
             [
              0.7777777777777778,
              "#fb9f3a"
             ],
             [
              0.8888888888888888,
              "#fdca26"
             ],
             [
              1,
              "#f0f921"
             ]
            ],
            "type": "histogram2d"
           }
          ],
          "histogram2dcontour": [
           {
            "colorbar": {
             "outlinewidth": 0,
             "ticks": ""
            },
            "colorscale": [
             [
              0,
              "#0d0887"
             ],
             [
              0.1111111111111111,
              "#46039f"
             ],
             [
              0.2222222222222222,
              "#7201a8"
             ],
             [
              0.3333333333333333,
              "#9c179e"
             ],
             [
              0.4444444444444444,
              "#bd3786"
             ],
             [
              0.5555555555555556,
              "#d8576b"
             ],
             [
              0.6666666666666666,
              "#ed7953"
             ],
             [
              0.7777777777777778,
              "#fb9f3a"
             ],
             [
              0.8888888888888888,
              "#fdca26"
             ],
             [
              1,
              "#f0f921"
             ]
            ],
            "type": "histogram2dcontour"
           }
          ],
          "mesh3d": [
           {
            "colorbar": {
             "outlinewidth": 0,
             "ticks": ""
            },
            "type": "mesh3d"
           }
          ],
          "parcoords": [
           {
            "line": {
             "colorbar": {
              "outlinewidth": 0,
              "ticks": ""
             }
            },
            "type": "parcoords"
           }
          ],
          "pie": [
           {
            "automargin": true,
            "type": "pie"
           }
          ],
          "scatter": [
           {
            "fillpattern": {
             "fillmode": "overlay",
             "size": 10,
             "solidity": 0.2
            },
            "type": "scatter"
           }
          ],
          "scatter3d": [
           {
            "line": {
             "colorbar": {
              "outlinewidth": 0,
              "ticks": ""
             }
            },
            "marker": {
             "colorbar": {
              "outlinewidth": 0,
              "ticks": ""
             }
            },
            "type": "scatter3d"
           }
          ],
          "scattercarpet": [
           {
            "marker": {
             "colorbar": {
              "outlinewidth": 0,
              "ticks": ""
             }
            },
            "type": "scattercarpet"
           }
          ],
          "scattergeo": [
           {
            "marker": {
             "colorbar": {
              "outlinewidth": 0,
              "ticks": ""
             }
            },
            "type": "scattergeo"
           }
          ],
          "scattergl": [
           {
            "marker": {
             "colorbar": {
              "outlinewidth": 0,
              "ticks": ""
             }
            },
            "type": "scattergl"
           }
          ],
          "scattermapbox": [
           {
            "marker": {
             "colorbar": {
              "outlinewidth": 0,
              "ticks": ""
             }
            },
            "type": "scattermapbox"
           }
          ],
          "scatterpolar": [
           {
            "marker": {
             "colorbar": {
              "outlinewidth": 0,
              "ticks": ""
             }
            },
            "type": "scatterpolar"
           }
          ],
          "scatterpolargl": [
           {
            "marker": {
             "colorbar": {
              "outlinewidth": 0,
              "ticks": ""
             }
            },
            "type": "scatterpolargl"
           }
          ],
          "scatterternary": [
           {
            "marker": {
             "colorbar": {
              "outlinewidth": 0,
              "ticks": ""
             }
            },
            "type": "scatterternary"
           }
          ],
          "surface": [
           {
            "colorbar": {
             "outlinewidth": 0,
             "ticks": ""
            },
            "colorscale": [
             [
              0,
              "#0d0887"
             ],
             [
              0.1111111111111111,
              "#46039f"
             ],
             [
              0.2222222222222222,
              "#7201a8"
             ],
             [
              0.3333333333333333,
              "#9c179e"
             ],
             [
              0.4444444444444444,
              "#bd3786"
             ],
             [
              0.5555555555555556,
              "#d8576b"
             ],
             [
              0.6666666666666666,
              "#ed7953"
             ],
             [
              0.7777777777777778,
              "#fb9f3a"
             ],
             [
              0.8888888888888888,
              "#fdca26"
             ],
             [
              1,
              "#f0f921"
             ]
            ],
            "type": "surface"
           }
          ],
          "table": [
           {
            "cells": {
             "fill": {
              "color": "#EBF0F8"
             },
             "line": {
              "color": "white"
             }
            },
            "header": {
             "fill": {
              "color": "#C8D4E3"
             },
             "line": {
              "color": "white"
             }
            },
            "type": "table"
           }
          ]
         },
         "layout": {
          "annotationdefaults": {
           "arrowcolor": "#2a3f5f",
           "arrowhead": 0,
           "arrowwidth": 1
          },
          "autotypenumbers": "strict",
          "coloraxis": {
           "colorbar": {
            "outlinewidth": 0,
            "ticks": ""
           }
          },
          "colorscale": {
           "diverging": [
            [
             0,
             "#8e0152"
            ],
            [
             0.1,
             "#c51b7d"
            ],
            [
             0.2,
             "#de77ae"
            ],
            [
             0.3,
             "#f1b6da"
            ],
            [
             0.4,
             "#fde0ef"
            ],
            [
             0.5,
             "#f7f7f7"
            ],
            [
             0.6,
             "#e6f5d0"
            ],
            [
             0.7,
             "#b8e186"
            ],
            [
             0.8,
             "#7fbc41"
            ],
            [
             0.9,
             "#4d9221"
            ],
            [
             1,
             "#276419"
            ]
           ],
           "sequential": [
            [
             0,
             "#0d0887"
            ],
            [
             0.1111111111111111,
             "#46039f"
            ],
            [
             0.2222222222222222,
             "#7201a8"
            ],
            [
             0.3333333333333333,
             "#9c179e"
            ],
            [
             0.4444444444444444,
             "#bd3786"
            ],
            [
             0.5555555555555556,
             "#d8576b"
            ],
            [
             0.6666666666666666,
             "#ed7953"
            ],
            [
             0.7777777777777778,
             "#fb9f3a"
            ],
            [
             0.8888888888888888,
             "#fdca26"
            ],
            [
             1,
             "#f0f921"
            ]
           ],
           "sequentialminus": [
            [
             0,
             "#0d0887"
            ],
            [
             0.1111111111111111,
             "#46039f"
            ],
            [
             0.2222222222222222,
             "#7201a8"
            ],
            [
             0.3333333333333333,
             "#9c179e"
            ],
            [
             0.4444444444444444,
             "#bd3786"
            ],
            [
             0.5555555555555556,
             "#d8576b"
            ],
            [
             0.6666666666666666,
             "#ed7953"
            ],
            [
             0.7777777777777778,
             "#fb9f3a"
            ],
            [
             0.8888888888888888,
             "#fdca26"
            ],
            [
             1,
             "#f0f921"
            ]
           ]
          },
          "colorway": [
           "#636efa",
           "#EF553B",
           "#00cc96",
           "#ab63fa",
           "#FFA15A",
           "#19d3f3",
           "#FF6692",
           "#B6E880",
           "#FF97FF",
           "#FECB52"
          ],
          "font": {
           "color": "#2a3f5f"
          },
          "geo": {
           "bgcolor": "white",
           "lakecolor": "white",
           "landcolor": "#E5ECF6",
           "showlakes": true,
           "showland": true,
           "subunitcolor": "white"
          },
          "hoverlabel": {
           "align": "left"
          },
          "hovermode": "closest",
          "mapbox": {
           "style": "light"
          },
          "paper_bgcolor": "white",
          "plot_bgcolor": "#E5ECF6",
          "polar": {
           "angularaxis": {
            "gridcolor": "white",
            "linecolor": "white",
            "ticks": ""
           },
           "bgcolor": "#E5ECF6",
           "radialaxis": {
            "gridcolor": "white",
            "linecolor": "white",
            "ticks": ""
           }
          },
          "scene": {
           "xaxis": {
            "backgroundcolor": "#E5ECF6",
            "gridcolor": "white",
            "gridwidth": 2,
            "linecolor": "white",
            "showbackground": true,
            "ticks": "",
            "zerolinecolor": "white"
           },
           "yaxis": {
            "backgroundcolor": "#E5ECF6",
            "gridcolor": "white",
            "gridwidth": 2,
            "linecolor": "white",
            "showbackground": true,
            "ticks": "",
            "zerolinecolor": "white"
           },
           "zaxis": {
            "backgroundcolor": "#E5ECF6",
            "gridcolor": "white",
            "gridwidth": 2,
            "linecolor": "white",
            "showbackground": true,
            "ticks": "",
            "zerolinecolor": "white"
           }
          },
          "shapedefaults": {
           "line": {
            "color": "#2a3f5f"
           }
          },
          "ternary": {
           "aaxis": {
            "gridcolor": "white",
            "linecolor": "white",
            "ticks": ""
           },
           "baxis": {
            "gridcolor": "white",
            "linecolor": "white",
            "ticks": ""
           },
           "bgcolor": "#E5ECF6",
           "caxis": {
            "gridcolor": "white",
            "linecolor": "white",
            "ticks": ""
           }
          },
          "title": {
           "x": 0.05
          },
          "xaxis": {
           "automargin": true,
           "gridcolor": "white",
           "linecolor": "white",
           "ticks": "",
           "title": {
            "standoff": 15
           },
           "zerolinecolor": "white",
           "zerolinewidth": 2
          },
          "yaxis": {
           "automargin": true,
           "gridcolor": "white",
           "linecolor": "white",
           "ticks": "",
           "title": {
            "standoff": 15
           },
           "zerolinecolor": "white",
           "zerolinewidth": 2
          }
         }
        },
        "width": 650
       }
      }
     },
     "metadata": {},
     "output_type": "display_data"
    }
   ],
   "source": [
    "import plotly.express as px\n",
    "import plotly.graph_objects as go\n",
    "from sklearn.manifold import TSNE\n",
    "import numpy as np\n",
    "\n",
    "tsne_model = TSNE(\n",
    "    n_components = 2,\n",
    "    perplexity = 7,\n",
    "    random_state = 42,\n",
    "    init = \"pca\",\n",
    "    learning_rate = \"auto\",\n",
    "    # metric = \"cosine\"\n",
    ")\n",
    "\n",
    "code_emb_arr = np.array(dubbo_code_df[\"sow2v_code_vec\"].to_list())\n",
    "test_emb_arr = np.array(dubbo_test_df[\"sow2v_test_vec\"].to_list())\n",
    "doc_emb_arr = np.array(dubbo_doc_df[\"sow2v_doc_vec\"].to_list())\n",
    "\n",
    "code_tsne_embeddings = tsne_model.fit_transform(code_emb_arr)\n",
    "test_tsne_embeddings = tsne_model.fit_transform(test_emb_arr)\n",
    "doc_tsne_embeddings = tsne_model.fit_transform(doc_emb_arr)\n",
    "\n",
    "sow2v_code_data = pd.DataFrame(\n",
    "    {'x': code_tsne_embeddings[:, 0],\n",
    "     'y': code_tsne_embeddings[:, 1]}\n",
    ")\n",
    "\n",
    "sow2v_test_data = pd.DataFrame(\n",
    "    {'x': test_tsne_embeddings[:, 0],\n",
    "     'y': test_tsne_embeddings[:, 1]}\n",
    ")\n",
    "\n",
    "sow2v_doc_data = pd.DataFrame(\n",
    "    {'x': doc_tsne_embeddings[:, 0],\n",
    "     'y': doc_tsne_embeddings[:, 1]}\n",
    ")\n",
    "\n",
    "dfs = {\n",
    "    \"code\": sow2v_code_data,\n",
    "    \"test\": sow2v_test_data,\n",
    "    \"doc\": sow2v_doc_data\n",
    "}\n",
    "\n",
    "id_list = [dubbo_code_df['concept'].tolist(),\n",
    "           dubbo_test_df['concept'].tolist(),\n",
    "           dubbo_doc_df['concept'].tolist()]\n",
    "\n",
    "fig = go.Figure()\n",
    "\n",
    "for i, df in enumerate(dfs):\n",
    "    fig = fig.add_trace(\n",
    "        go.Scatter(\n",
    "        x = dfs[df]['x'],\n",
    "        y = dfs[df]['y'],\n",
    "        name = df,\n",
    "        text = id_list[i],\n",
    "        showlegend = True,\n",
    "        mode = 'markers',\n",
    "        opacity = 0.7)\n",
    "    )\n",
    "\n",
    "fig.update_layout(\n",
    "    width = 650,\n",
    "    height = 650\n",
    ")\n",
    "\n",
    "fig.show()"
   ]
  },
  {
   "cell_type": "code",
   "execution_count": 85,
   "metadata": {},
   "outputs": [
    {
     "data": {
      "application/vnd.plotly.v1+json": {
       "config": {
        "plotlyServerURL": "https://plot.ly"
       },
       "data": [
        {
         "mode": "markers",
         "name": "code",
         "opacity": 0.7,
         "showlegend": true,
         "text": [
          "['merger', 'model', 'scope', 'aware', 'end', 'error', 'mergeable', 'map', 'match', 'concurrent']",
          "['match', 'value', 'bool', 'exact', 'weight', 'result', 'destination', 'traffic', 'policy', 'subset']",
          "['rule', 'mesh', 'listener', 'app', 'merger', 'map', 'merge', 'item', 'array', 'error']",
          "['rule', 'key', 'invoker', 'node', 'router', 'destination', 'service', 'map', 'virtual', 'output']",
          "['url', 'invoker', 'invocation', 'configurator', 'load', 'balance', 'spec', 'item', 'service', 'select']",
          "['map', 'match', 'invoker', 'destination', 'invocation', 'route', 'group', 'tag', 'context', 'rule']",
          "['router', 'url', 'state', 'invoker', 'bit', 'invocation', 'factory', 'snapshot', 'chain', 'rule']",
          "['bit', 'model', 'address', 'application', 'enable', 'service', 'iterator', 'key', 'hash', 'add']",
          "['invoker', 'cluster', 'invocation', 'directory', 'filter', 'url', 'rpc', 'chain', 'result', 'invoke']",
          "['map', 'extension', 'loader', 'property', 'msg', 'throwable', 'error', 'dynamic', 'aware', 'info']",
          "['model', 'method', 'scope', 'map', 'application', 'desc', 'parameter', 'framework', 'property', 'prefix']",
          "['thread', 'map', 'pool', 'qos', 'message', 'stream', 'listener', 'directory', 'watch', 'generic']",
          "['address', 'level', 'host', 'port', 'status', 'protocol', 'url', 'username', 'disposable', 'adapter']",
          "['integer', 'converter', 'path', 'stream', 'key', 'timeout', 'client', 'server', 'model', 'cert']",
          "['map', 'param', 'builder', 'bean', 'value', 'definition', 'parameter', 'key', 'method', 'url']",
          "['thread', 'registry', 'module', 'map', 'local', 'internal', 'reference', 'metadata', 'runnable', 'integer']",
          "['service', 'url', 'key', 'parameter', 'executor', 'model', 'method', 'value', 'map', 'protocol']",
          "['loader', 'java', 'descriptor', 'str', 'method', 'map', 'pattern', 'array', 'lock', 'value']",
          "['invocation', 'invoker', 'attachment', 'argument', 'method', 'rpc', 'map', 'type', 'key', 'parameter']",
          "['command', 'monitor', 'filter', 'context', 'input', 'configurator', 'servlet', 'merger', 'codec', 'telnet']",
          "['url', 'listener', 'registry', 'notify', 'factory', 'cache', 'register', 'subscribe', 'failback', 'compatible']",
          "['page', 'handler', 'service', 'servlet', 'http', 'request', 'model', 'response', 'writer', 'compatible']",
          "['rpc', 'address', 'context', 'remote', 'channel', 'message', 'local', 'socket', 'inet', 'throwable']",
          "['listener', 'notify', 'navigation', 'page', 'title', 'compatible', 'balance', 'application', 'load', 'url']",
          "['parameter', 'url', 'key', 'value', 'method', 'map', 'protocol', 'add', 'port', 'host']",
          "['future', 'response', 'unit', 'throwable', 'timeout', 'adapter', 'interrupt', 'execution', 'callback', 'completable']",
          "['application', 'model', 'module', 'context', 'event', 'service', 'bootstrap', 'state', 'aware', 'error']",
          "['builder', 'consumer', 'protocol', 'service', 'method', 'registry', 'integer', 'module', 'reference', 'bootstrap']",
          "['bean', 'definition', 'service', 'registry', 'context', 'factory', 'environment', 'init', 'spring', 'annotation']",
          "['builder', 'application', 'integer', 'provider', 'status', 'thread', 'registry', 'port', 'probe', 'qos']",
          "['bean', 'metadata', 'annotation', 'annotate', 'method', 'element', 'field', 'inject', 'service', 'property']",
          "['reference', 'bean', 'map', 'context', 'definition', 'parser', 'key', 'cache', 'element', 'application']",
          "['registry', 'property', 'center', 'value', 'metadata', 'report', 'validate', 'url', 'reference', 'application']",
          "['dynamic', 'factory', 'url', 'zookeeper', 'application', 'model', 'create', 'transporter', 'nacos', 'apollo']",
          "['nacos', 'listener', 'group', 'key', 'service', 'property', 'url', 'timeout', 'map', 'publish']",
          "['listener', 'key', 'path', 'group', 'apollo', 'zookeeper', 'change', 'dynamic', 'remove', 'cache']",
          "['apollo', 'listener', 'key', 'change', 'group', 'url', 'property', 'application', 'aware', 'dynamic']",
          "['nacos', 'service', 'group', 'content', 'listener', 'symbol', 'publish', 'cas', 'timeout', 'innerclass']",
          "['listener', 'key', 'property', 'url', 'nacos', 'group', 'change', 'service', 'timeout', 'apollo']",
          "['container', 'spring', 'error', 'extension', 'aware', 'lock', 'loader', 'classpath', 'context', 'condition']",
          "['container', 'error', 'spring', 'aware', 'loader', 'lock', 'reentrant', 'context', 'extension', 'classpath']",
          "['container', 'loader', 'lock', 'extension', 'aware', 'error', 'key', 'reentrant', 'condition', 'hook']",
          "['extension', 'lock', 'loader', 'condition', 'error', 'aware', 'reentrant', 'key', 'container', 'shutdown']",
          "['spring', 'context', 'aware', 'error', 'container', 'xml', 'application', 'path', 'classpath', 'extension']",
          "['method', 'parameter', 'validator', 'clazz', 'value', 'pool', 'validate', 'error', 'violation', 'aware']",
          "['validator', 'url', 'validation', 'create', 'map', 'concurrent', 'hash', 'lru', 'lfu', 'cache']",
          "['expire', 'time', 'map', 'live', 'interval', 'expiration', 'key', 'thread', 'value', 'access']",
          "['cache', 'url', 'factory', 'value', 'key', 'create', 'store', 'put', 'map', 'local']",
          "['invocation', 'validation', 'invoker', 'filter', 'result', 'rpc', 'invoke', 'uid', 'wrapper', 'present']",
          "['service', 'map', 'instance', 'listener', 'app', 'hash', 'concurrent', 'endpoint', 'kubernetes', 'pod']",
          "['client', 'proxy', 'cert', 'key', 'timeout', 'https', 'watch', 'interval', 'username', 'password']",
          "['url', 'listener', 'registry', 'kubernetes', 'mesh', 'env', 'factory', 'create', 'discovery', 'service']",
          "['service', 'map', 'param', 'key', 'url', 'definition', 'info', 'protocol', 'metadata', 'processing']",
          "['metadata', 'report', 'factory', 'url', 'key', 'map', 'rest', 'storage', 'service', 'create']",
          "['service', 'method', 'rest', 'metadata', 'map', 'application', 'model', 'mapping', 'resolve', 'url']",
          "['annotation', 'parameter', 'value', 'map', 'processor', 'method', 'listener', 'request', 'header', 'mapping']",
          "['method', 'map', 'integer', 'definition', 'builder', 'request', 'body', 'prioritize', 'generate', 'metadata']",
          "['cache', 'manager', 'util', 'store', 'service', 'executor', 'map', 'error', 'aware', 'size']",
          "['element', 'service', 'process', 'environment', 'processing', 'method', 'env', 'rest', 'annotation', 'metadata']",
          "['model', 'processor', 'annotation', 'parameter', 'param', 'element', 'application', 'executable', 'comparator', 'initialize']",
          "['metadata', 'identifier', 'service', 'url', 'key', 'listener', 'subscriber', 'report', 'group', 'store']",
          "['metric', 'map', 'method', 'atomic', 'invocation', 'stat', 'application', 'supplier', 'description', 'handler']",
          "['pool', 'thread', 'registry', 'executor', 'meter', 'application', 'empty', 'metric', 'size', 'destroy']",
          "['invocation', 'metric', 'application', 'invoker', 'model', 'category', 'map', 'observation', 'tag', 'value']",
          "['context', 'key', 'observation', 'convention', 'value', 'client', 'server', 'remote', 'low', 'cardinality']",
          "['concurrent', 'map', 'metric', 'time', 'window', 'hash', 'method', 'event', 'counter', 'request']",
          "['invocation', 'invoker', 'observation', 'model', 'filter', 'application', 'result', 'response', 'convention', 'registry']",
          "['metric', 'invocation', 'event', 'application', 'collector', 'request', 'collect', 'listener', 'execute', 'thread']",
          "['reporter', 'metric', 'application', 'model', 'factory', 'url', 'prometheus', 'create', 'exporter', 'service']",
          "['category', 'metric', 'tag', 'map', 'entity', 'sample', 'service', 'value', 'application', 'model']",
          "['invocation', 'invoker', 'monitor', 'result', 'factory', 'error', 'filter', 'host', 'concurrent', 'remote']",
          "['monitor', 'url', 'service', 'factory', 'statistic', 'protocol', 'proxy', 'invoker', 'method', 'client']",
          "['monitor', 'url', 'factory', 'map', 'executor', 'future', 'lock', 'hash', 'reentrant', 'concurrent']",
          "['monitor', 'service', 'constant', 'factory', 'metric', 'url', 'filter', 'detector', 'invoker', 'builtin']",
          "['metric', 'invocation', 'invoker', 'model', 'extension', 'accessor', 'application', 'result', 'aware', 'service']",
          "['max', 'concurrent', 'output', 'input', 'elapse', 'success', 'failure', 'item', 'statistic', 'invoker']",
          "['service', 'monitor', 'detector', 'metric', 'builtin', 'node', 'application', 'aware', 'model', 'url']",
          "['framework', 'model', 'serialize', 'probe', 'status', 'allow', 'readiness', 'util', 'notify', 'deployer']",
          "['command', 'context', 'http', 'aware', 'error', 'execute', 'node', 'executor', 'request', 'channel']",
          "['key', 'method', 'telnet', 'access', 'channel', 'attribute', 'handler', 'message', 'side', 'provider']",
          "['model', 'application', 'protocol', 'framework', 'qos', 'url', 'invoker', 'help', 'consumer', 'scope']",
          "['handler', 'invoker', 'one', 'many', 'response', 'observer', 'stream', 'method', 'request', 'mono']",
          "['border', 'invocation', 'column', 'define', 'filter', 'model', 'framework', 'url', 'state', 'invoker']",
          "['framework', 'model', 'command', 'context', 'snapshot', 'router', 'execute', 'triple', 'detector', 'reactor']",
          "['permission', 'foreign', 'level', 'accept', 'anonymous', 'access', 'whitelist', 'builder', 'welcome', 'qos']",
          "['url', 'invoker', 'listener', 'registry', 'cluster', 'protocol', 'map', 'service', 'exporter', 'provider']",
          "['timeout', 'url', 'retry', 'registry', 'task', 'cancel', 'failback', 'times', 'error', 'aware']",
          "['url', 'registry', 'listener', 'notify', 'factory', 'task', 'fail', 'map', 'retry', 'concurrent']",
          "['service', 'instance', 'metadata', 'discovery', 'listener', 'change', 'url', 'event', 'info', 'map']",
          "['service', 'key', 'url', 'protocol', 'instance', 'model', 'param', 'address', 'map', 'parameter']",
          "['url', 'listener', 'notify', 'map', 'concurrent', 'service', 'instance', 'registry', 'nacos', 'path']",
          "['migration', 'rule', 'step', 'url', 'model', 'consumer', 'threshold', 'delay', 'map', 'integer']",
          "['url', 'listener', 'service', 'registry', 'nacos', 'map', 'notify', 'model', 'aware', 'error']",
          "['dispatcher', 'map', 'repli', 'channel', 'serialization', 'url', 'executor', 'service', 'response', 'hash']",
          "['buffer', 'channel', 'byte', 'length', 'src', 'dst', 'factory', 'read', 'write', 'output']",
          "['context', 'ssl', 'ctx', 'event', 'operator', 'tls', 'buf', 'request', 'server', 'throwable']",
          "['channel', 'server', 'address', 'close', 'timeout', 'remote', 'send', 'timer', 'exchange', 'inet']",
          "['channel', 'handler', 'url', 'remote', 'address', 'netty', 'server', 'message', 'client', 'connect']",
          "['listener', 'path', 'zookeeper', 'channel', 'create', 'curator', 'client', 'state', 'target', 'child']",
          "['connection', 'request', 'future', 'attribute', 'key', 'client', 'executor', 'manager', 'model', 'append']",
          "['servlet', 'context', 'http', 'handler', 'port', 'instance', 'map', 'manager', 'integer', 'add']",
          "['http', 'model', 'message', 'server', 'url', 'handler', 'framework', 'aware', 'multi', 'error']",
          "['call', 'stream', 'channel', 'method', 'message', 'status', 'header', 'server', 'queue', 'command']",
          "['invoker', 'invocation', 'url', 'proxy', 'channel', 'rpc', 'error', 'protocol', 'result', 'aware']",
          "['future', 'context', 'completable', 'request', 'atomic', 'filter', 'time', 'output', 'response', 'key']",
          "['attachment', 'context', 'map', 'rpc', 'service', 'key', 'value', 'invocation', 'invoker', 'url']",
          "['status', 'handler', 'rpc', 'url', 'timeout', 'channel', 'pack', 'method', 'tri', 'response']",
          "['listener', 'exporter', 'context', 'cancellation', 'executor', 'invoker', 'executable', 'aware', 'consumer', 'error']",
          "['stream', 'client', 'url', 'server', 'protocol', 'remote', 'request', 'handler', 'service', 'channel']",
          "['header', 'executor', 'support', 'model', 'filter', 'application', 'isolation', 'compressor', 'url', 'aware']",
          "['application', 'event', 'environment', 'listener', 'prepare', 'atomic', 'process', 'logo', 'welcome', 'property']",
          "['map', 'property', 'metadata', 'environment', 'bean', 'application', 'protocol', 'registry', 'reference', 'consumer']",
          "['endpoint', 'condition', 'compatible', 'enable', 'context', 'error', 'aware', 'metadata', 'match', 'annotate']",
          "['metric', 'registry', 'meter', 'application', 'event', 'binder', 'start', 'bean', 'auto', 'listener']",
          "['metadata', 'map', 'endpoint', 'configs', 'health', 'indicator', 'name', 'status', 'checker', 'resolve']",
          "['status', 'default', 'extras', 'hash', 'link', 'indicator', 'propertie', 'health', 'load', 'memory']",
          "['application', 'context', 'event', 'bean', 'listener', 'definition', 'web', 'await', 'configurable', 'registry']",
          "['bean', 'service', 'processor', 'annotation', 'auto', 'qualifier', 'package', 'disposable', 'destroy', 'priority']",
          "['resource', 'map', 'service', 'lock', 'result', 'domain', 'listener', 'route', 'consumer', 'delta']",
          "['name', 'route', 'registry', 'url', 'listener', 'factory', 'map', 'result', 'hash', 'create']",
          "['model', 'url', 'range', 'value', 'match', 'listener', 'suffix', 'exact', 'present', 'prefix']",
          "['route', 'listener', 'rule', 'map', 'xds', 'endpoint', 'manager', 'match', 'rds', 'concurrent']",
          "['key', 'istio', 'path', 'secret', 'jwt', 'cluster', 'domain', 'grace', 'trust', 'workload']",
          "['consumer', 'observe', 'map', 'result', 'endpoint', 'protocol', 'domain', 'rd', 'pilot', 'exchanger']",
          "['endpoint', 'cluster', 'server', 'weight', 'info', 'node', 'provider', 'invoker', 'bootstrap', 'resource']",
          "['discovery', 'observer', 'response', 'request', 'ad', 'protocol', 'error', 'url', 'aware', 'delta']",
          "['key', 'cert', 'istio', 'matcher', 'certificate', 'env', 'generate', 'pair', 'path', 'header']"
         ],
         "type": "scatter",
         "x": [
          10.23022174835205,
          -18.322967529296875,
          10.910784721374512,
          -15.288557052612305,
          -3.385840654373169,
          -16.097665786743164,
          4.080319881439209,
          10.74525260925293,
          9.855408668518066,
          -30.40598487854004,
          -0.36958667635917664,
          -9.246474266052246,
          17.850627899169922,
          27.504322052001953,
          12.106675148010254,
          -8.485669136047363,
          12.183913230895996,
          14.535475730895996,
          11.287296295166016,
          12.1749849319458,
          -0.33267417550086975,
          4.772414684295654,
          26.189538955688477,
          3.7352418899536133,
          15.75007152557373,
          -27.165664672851562,
          -23.679792404174805,
          -10.310759544372559,
          -13.879410743713379,
          -8.806830406188965,
          -11.119991302490234,
          -15.701141357421875,
          -7.8415913581848145,
          -0.1215086430311203,
          -2.9141077995300293,
          -1.7150819301605225,
          1.0326178073883057,
          -4.911607265472412,
          -1.495676040649414,
          -29.97439956665039,
          -29.97399139404297,
          -33.200172424316406,
          -33.382102966308594,
          -28.352035522460938,
          13.83909797668457,
          3.7239322662353516,
          -16.760631561279297,
          1.918583869934082,
          9.802800178527832,
          -7.781723499298096,
          26.946453094482422,
          -5.296353816986084,
          8.596640586853027,
          -4.272726535797119,
          5.158421516418457,
          9.331657409667969,
          8.23894214630127,
          3.478241205215454,
          -8.184820175170898,
          -14.249818801879883,
          -5.992649078369141,
          -9.538518905639648,
          -17.78990936279297,
          -7.334078311920166,
          21.232513427734375,
          -15.64338493347168,
          -4.152789115905762,
          -16.17107391357422,
          -1.5248448848724365,
          -7.448702335357666,
          11.085554122924805,
          4.740690231323242,
          5.647040367126465,
          1.8048542737960815,
          -4.795182228088379,
          7.892025947570801,
          0.06476835906505585,
          -0.6154736876487732,
          16.923946380615234,
          29.94395637512207,
          -1.7343981266021729,
          7.1645827293396,
          2.8318936824798584,
          2.64021897315979,
          -6.4314470291137695,
          -5.183332443237305,
          3.0886714458465576,
          1.3694982528686523,
          6.79286003112793,
          10.691452980041504,
          -3.761155128479004,
          -14.912467002868652,
          -2.3869361877441406,
          7.398218631744385,
          27.694908142089844,
          25.203441619873047,
          27.120494842529297,
          25.02986717224121,
          -2.525155782699585,
          15.161188125610352,
          17.26035499572754,
          -26.53678321838379,
          21.645984649658203,
          11.594483375549316,
          -26.17108726501465,
          11.29050350189209,
          20.773574829101562,
          14.117908477783203,
          23.893835067749023,
          3.657406806945801,
          -15.986445426940918,
          -12.01058578491211,
          -6.017700672149658,
          -16.84889793395996,
          2.4807379245758057,
          0.13403980433940887,
          -16.98921775817871,
          -13.590453147888184,
          -13.583280563354492,
          1.6809699535369873,
          0.4606397747993469,
          -11.155606269836426,
          33.382568359375,
          -15.138777732849121,
          -6.628584861755371,
          -17.218135833740234,
          32.11237335205078
         ],
         "y": [
          16.41887855529785,
          8.460058212280273,
          18.265033721923828,
          8.638684272766113,
          14.751723289489746,
          7.45388650894165,
          -3.9678680896759033,
          -16.327938079833984,
          -2.494004964828491,
          -13.911454200744629,
          -16.74584197998047,
          -11.476581573486328,
          -19.18739891052246,
          -11.930073738098145,
          -22.42157554626465,
          -17.742900848388672,
          -19.832611083984375,
          11.830338478088379,
          -7.620870113372803,
          5.04163932800293,
          22.565235137939453,
          -10.917988777160645,
          -0.7446378469467163,
          33.535240173339844,
          -20.458040237426758,
          3.343898057937622,
          -14.323538780212402,
          -16.253881454467773,
          -21.21705436706543,
          -13.962480545043945,
          -23.584505081176758,
          -19.21082305908203,
          6.248780250549316,
          28.99127197265625,
          30.90009880065918,
          34.825103759765625,
          33.1424674987793,
          30.04168128967285,
          31.73598861694336,
          -17.708961486816406,
          -19.102407455444336,
          -18.21082878112793,
          -19.628942489624023,
          -16.600791931152344,
          -2.687049627304077,
          11.864246368408203,
          -1.5434491634368896,
          12.020328521728516,
          -4.241077899932861,
          21.269689559936523,
          -13.224653244018555,
          18.371938705444336,
          -20.281259536743164,
          8.212967872619629,
          -21.8077335357666,
          -24.976150512695312,
          -26.60625457763672,
          -33.955570220947266,
          -24.319581985473633,
          -26.105897903442383,
          8.183082580566406,
          -2.9773411750793457,
          -7.5370073318481445,
          -1.3221783638000488,
          7.539577960968018,
          -4.104578971862793,
          -2.7018465995788574,
          -6.225849151611328,
          5.834435939788818,
          0.33119702339172363,
          2.87136173248291,
          6.186466693878174,
          10.328171730041504,
          5.224567890167236,
          -4.096414089202881,
          5.514350891113281,
          4.538103103637695,
          1.4806957244873047,
          -0.30871129035949707,
          -1.9458467960357666,
          -14.260300636291504,
          0.8444388508796692,
          -6.903745174407959,
          -2.6844325065612793,
          -13.517117500305176,
          16.369035720825195,
          22.710342407226562,
          21.65717124938965,
          -18.67770004272461,
          -18.940282821655273,
          23.143043518066406,
          17.260719299316406,
          23.256227493286133,
          11.025740623474121,
          -5.777318954467773,
          0.7641791701316833,
          -2.344982624053955,
          -3.7377829551696777,
          36.6748161315918,
          -14.73264217376709,
          -22.8724308013916,
          -8.248364448547363,
          -3.3179943561553955,
          -1.960904836654663,
          2.390786647796631,
          -8.954516410827637,
          -6.631294250488281,
          2.163656234741211,
          -4.604302406311035,
          -8.911401748657227,
          -14.463155746459961,
          -17.387712478637695,
          -25.37303924560547,
          -10.42207145690918,
          -23.24038314819336,
          -24.654312133789062,
          -12.346205711364746,
          -23.723674774169922,
          20.80842399597168,
          18.7548770904541,
          -7.864629745483398,
          21.716136932373047,
          -17.968862533569336,
          21.737483978271484,
          15.023001670837402,
          22.805856704711914,
          -17.830036163330078
         ]
        },
        {
         "mode": "markers",
         "name": "test",
         "opacity": 0.7,
         "showlegend": true,
         "text": [
          "['invoker', 'hello', 'menu', 'service', 'load', 'balance', 'user', 'map', 'weight', 'mock']",
          "['invoker', 'invocation', 'url', 'cluster', 'mock', 'result', 'directory', 'rpc', 'balance', 'invoke']",
          "['attachment', 'value', 'key', 'invoker', 'sticky', 'invoke', 'integer', 'service', 'retry', 'field']",
          "['url', 'model', 'merge', 'merger', 'module', 'router', 'provider', 'factory', 'init', 'script']",
          "['match', 'configurator', 'mock', 'bool', 'join', 'absent', 'message', 'runtime', 'uid', 'request']",
          "['rule', 'service', 'app', 'demo', 'map', 'suffix', 'clear', 'change', 'api', 'url']",
          "['address', 'country', 'phone', 'full', 'size', 'number', 'city', 'title', 'province', 'extension']",
          "['url', 'activate', 'echo', 'thread', 'add', 'event', 'pool', 'wrapper', 'adaptive', 'exhaust']",
          "['demo', 'service', 'mock', 'key', 'value', 'generic', 'hello', 'impl', 'group', 'cache']",
          "['model', 'scope', 'framework', 'module', 'application', 'destroy', 'property', 'method', 'bean', 'foo']",
          "['converter', 'person', 'init', 'task', 'status', 'multi', 'error', 'info', 'latch', 'value']",
          "['url', 'ext', 'atomic', 'integer', 'echo', 'wrap', 'status', 'executor', 'count', 'adaptive']",
          "['inner', 'age', 'map', 'child', 'util', 'parent', 'url', 'hash', 'email', 'result']",
          "['simple', 'value', 'ext', 'age', 'url', 'one', 'serializable', 'obj', 'person', 'hash']",
          "['provider', 'foo', 'service', 'framework', 'app', 'module', 'player', 'bitrate', 'url', 'copyright']",
          "['consumer', 'service', 'argument', 'application', 'provider', 'registry', 'protocol', 'extension', 'invoker', 'rpc']",
          "['url', 'invoker', 'invocation', 'router', 'cache', 'rpc', 'legacy', 'route', 'invokers', 'factory']",
          "['key', 'attachment', 'invoker', 'value', 'service', 'map', 'invocation', 'invoke', 'model', 'put']",
          "['inner', 'input', 'map', 'array', 'registry', 'application', 'output', 'stream', 'serialization', 'protocol']",
          "['read', 'write', 'input', 'output', 'extension', 'stream', 'argument', 'custom', 'find', 'byte']",
          "['person', 'complex', 'age', 'service', 'demo', 'method', 'impl', 'size', 'enumlength', 'uid']",
          "['context', 'argument', 'rpc', 'registry', 'provider', 'extension', 'application', 'service', 'module', 'protocol']",
          "['service', 'echo', 'demo', 'read', 'input', 'find', 'extension', 'cls', 'reader', 'stream']",
          "['invoker', 'key', 'attachment', 'service', 'map', 'invoke', 'value', 'attribute', 'parameter', 'cache']",
          "['box', 'service', 'demo', 'user', 'say', 'impl', 'prefix', 'status', 'checker', 'context']",
          "['invoker', 'mock', 'url', 'rpc', 'protocol', 'executor', 'proxy', 'port', 'dao', 'balance']",
          "['invocation', 'model', 'invoker', 'error', 'thread', 'response', 'application', 'bootstrap', 'module', 'filter']",
          "['url', 'listener', 'map', 'method', 'service', 'notify', 'registry', 'concurrent', 'key', 'register']",
          "['registry', 'service', 'center', 'export', 'listener', 'single', 'provider', 'exporter', 'multiple', 'protocol']",
          "['service', 'hello', 'demo', 'bean', 'application', 'context', 'reference', 'builder', 'impl', 'generic']",
          "['factory', 'loader', 'reference', 'service', 'bean', 'request', 'processor', 'property', 'find', 'multi']",
          "['consumer', 'bootstrap', 'service', 'module', 'spring', 'channel', 'manager', 'model', 'boot', 'zookeeper']",
          "['namespace', 'map', 'context', 'mock', 'property', 'service', 'extension', 'callback', 'key', 'apollo']",
          "['key', 'value', 'latch', 'count', 'map', 'listener', 'nacos', 'dynamic', 'session', 'event']",
          "['zookeeper', 'listener', 'map', 'url', 'count', 'dynamic', 'latch', 'mock', 'server', 'value']",
          "['map', 'namespace', 'property', 'service', 'extension', 'mock', 'context', 'locator', 'key', 'error']",
          "['server', 'status', 'timeout', 'retry', 'group', 'nacos', 'namespace', 'map', 'mock', 'property']",
          "['apollo', 'key', 'put', 'value', 'embed', 'dynamic', 'url', 'mock', 'namespace', 'event']",
          "['group', 'nacos', 'listener', 'publish', 'cas', 'content', 'remove', 'timeout', 'service', 'shut']",
          "['spring', 'container']",
          "['spring', 'container']",
          "['container', 'spring']",
          "['spring', 'container']",
          "['container', 'spring']",
          "['spring', 'container']",
          "['cache', 'factory', 'invoker', 'mock', 'filter', 'invocation', 'method', 'construct', 'rpc', 'non']",
          "['cache', 'expire', 'factory', 'url', 'construct', 'validator', 'validation', 'parameter', 'target', 'mock']",
          "['validation', 'mock', 'filter', 'validator', 'rpc', 'invocation', 'invoker', 'cache', 'factory', 'parameter']",
          "['parameter', 'validation', 'validator', 'target', 'mock', 'filter', 'rpc', 'invoker', 'invocation', 'cache']",
          "['service', 'kubernetes', 'server', 'mock', 'discovery', 'change', 'listener', 'instance', 'client', 'url']",
          "['service', 'kubernetes', 'mock', 'discovery', 'server', 'url', 'selector', 'pod', 'change', 'namespaced']",
          "['service', 'server', 'kubernetes', 'mock', 'discovery', 'map', 'selector', 'pod', 'change', 'namespaced']",
          "['service', 'mock', 'discovery', 'server', 'kubernetes', 'map', 'pod', 'namespaced', 'change', 'destroy']",
          "['service', 'server', 'kubernetes', 'discovery', 'mock', 'url', 'client', 'namespaced', 'instance', 'listener']",
          "['service', 'server', 'mock', 'kubernetes', 'listener', 'map', 'pod', 'namespaced', 'change', 'destroy']",
          "['service', 'discovery', 'server', 'kubernetes', 'listener', 'pod', 'map', 'selector', 'change', 'namespaced']",
          "['redis', 'metadata', 'report', 'store', 'info', 'find', 'interceptor', 'group', 'identifi', 'consumer']",
          "['service', 'url', 'listener', 'mapping', 'mock', 'nacos', 'group', 'application', 'map', 'model']",
          "['integer', 'big', 'compiler', 'str', 'java', 'directory', 'source', 'decimal', 'processor', 'time']",
          "['element', 'field', 'variable', 'class', 'compile', 'builder', 'annotation', 'add', 'model', 'definition']",
          "['param', 'user', 'model', 'service', 'rest', 'request', 'map', 'body', 'header', 'form']",
          "['method', 'annotation', 'invocation', 'processor', 'processing', 'context', 'source', 'round', 'environment', 'process']",
          "['metadata', 'identifier', 'report', 'service', 'url', 'subscriber', 'consumer', 'store', 'listener', 'map']",
          "['class', 'builder', 'compile', 'definition', 'type', 'add', 'annotation', 'processing', 'server', 'status']",
          "['builder', 'google', 'phone', 'number', 'map', 'field', 'request', 'parse', 'byte', 'response']",
          "['observation', 'filter', 'tracer', 'url', 'invocation', 'runner', 'consumer', 'sample', 'destroy', 'receiver']",
          "['window', 'time', 'quantile', 'counter', 'metric', 'category', 'unit', 'description', 'map', 'sample']",
          "['key', 'attachment', 'value', 'service', 'model', 'map', 'absent', 'invocation', 'invoker', 'mock']",
          "['metric', 'model', 'application', 'event', 'invocation', 'method', 'collector', 'setup', 'group', 'rpc']",
          "['metric', 'category', 'tag', 'setup', 'map', 'supplier', 'unit', 'description', 'sample', 'gauge']",
          "['request', 'init', 'param', 'teardown', 'event', 'metric', 'time', 'invocation', 'model', 'setup']",
          "['reporter', 'prometheus', 'metric', 'factory', 'attachment', 'key', 'service', 'value', 'model', 'framework']",
          "['factory', 'monitor', 'proxy', 'statistic', 'service', 'url', 'demo', 'invoker', 'response', 'invoke']",
          "['response', 'app', 'builder', 'attachment', 'result', 'map', 'throwable', 'create', 'build', 'invoker']",
          "['url', 'monitor', 'service', 'invoker', 'factory', 'invocation', 'statistics', 'available', 'destroy', 'collect']",
          "['invoker', 'service', 'demo', 'url', 'metric', 'invoke', 'function', 'consumer', 'port', 'response']",
          "['framework', 'model', 'register', 'provider', 'repository', 'module', 'state', 'url', 'user', 'custom']",
          "['command', 'context', 'mock', 'attribute', 'map', 'channel', 'telnet', 'invoker', 'method', 'service']",
          "['url', 'model', 'framework', 'util', 'reset', 'exporter', 'export', 'refer', 'instance', 'metadata']",
          "['channel', 'promise', 'future', 'address', 'listener', 'socket', 'remote', 'throwable', 'cause', 'timeout']",
          "['handler', 'telnet', 'mock', 'invoker', 'protocol', 'url', 'channel', 'wrapper', 'tri', 'change']",
          "['channel', 'url', 'remote', 'handler', 'attribute', 'mock', 'send', 'address', 'key', 'close']",
          "['person', 'map', 'serialize', 'non', 'service', 'value', 'demo', 'liveness', 'probe', 'integer']",
          "['age', 'qos', 'process', 'handler', 'uid', 'serializable', 'man', 'wire', 'protocol', 'util']",
          "['service', 'demo', 'repository', 'framework', 'model', 'module', 'invoke', 'parameter', 'generic', 'impl']",
          "['registry', 'protocol', 'url', 'integer', 'refer', 'atomic', 'invoker', 'listener', 'counter', 'exporter']",
          "['url', 'registry', 'factory', 'zookeeper', 'listener', 'service', 'notify', 'subscribe', 'mock', 'register']",
          "['notification', 'multiple', 'instance', 'metadata', 'service', 'revision', 'subscribe', 'listener', 'failure', 'invocation']",
          "['migration', 'rule', 'event', 'curator', 'framework', 'handler', 'invoker', 'url', 'path', 'key']",
          "['nacos', 'instance', 'service', 'group', 'subscribe', 'healthy', 'listener', 'select', 'server', 'msg']",
          "['service', 'discovery', 'instance', 'url', 'mock', 'listener', 'registry', 'event', 'change', 'mapping']",
          "['metadata', 'report', 'builder', 'service', 'url', 'mapping', 'invocation', 'application', 'map', 'model']",
          "['instance', 'service', 'param', 'metadata', 'nacos', 'exclude', 'create', 'naming', 'group', 'include']",
          "['url', 'timer', 'mock', 'task', 'channel', 'close', 'header', 'serialization', 'magic', 'reconnect']",
          "['channel', 'decode', 'output', 'input', 'encode', 'buffer', 'request', 'stream', 'codec', 'message']",
          "['channel', 'exchange', 'remote', 'server', 'handler', 'message', 'world', 'client', 'reply', 'port']",
          "['path', 'service', 'update', 'create', 'tolerant', 'zookeeper', 'fault', 'client', 'provider', 'persistent']",
          "['channel', 'client', 'remote', 'zookeeper', 'server', 'url', 'handler', 'connection', 'transporter', 'latch']",
          "['performance', 'aware', 'error', 'telnet', 'client', 'handler', 'result', 'mock', 'serializable', 'fix']",
          "['channel', 'buffer', 'handler', 'url', 'remote', 'send', 'close', 'address', 'attribute', 'key']",
          "['http', 'response', 'request', 'servlet', 'hello', 'serializable', 'uid', 'parameter', 'desc', 'type']",
          "['extension', 'loader', 'proxy', 'protocol', 'age', 'find', 'factory', 'adaptive', 'path', 'block']",
          "['service', 'demo', 'callback', 'hello', 'url', 'msg', 'yyy', 'impl', 'stub', 'say']",
          "['invocation', 'filter', 'rpc', 'url', 'invoker', 'attachment', 'context', 'tps', 'limiter', 'latch']",
          "['channel', 'remote', 'address', 'url', 'attribute', 'close', 'response', 'health', 'key', 'mock']",
          "['service', 'invoker', 'demo', 'reference', 'url', 'method', 'request', 'loader', 'result', 'argument']",
          "['channel', 'handler', 'integer', 'atomic', 'filter', 'telnet', 'msg', 'future', 'limit', 'completable']",
          "['service', 'demo', 'person', 'key', 'str', 'attachment', 'value', 'echo', 'map', 'size']",
          "['throwable', 'stream', 'observer', 'mock', 'latch', 'count', 'complete', 'next', 'error', 'message']",
          "['binder', 'environment', 'destroy', 'configurable', 'init', 'bean', 'relaxed', 'application', 'suite', 'endpoint']",
          "['application', 'map', 'module', 'registry', 'monitor', 'protocol', 'consumer', 'hash', 'link', 'provider']",
          "['annotation', 'service', 'context', 'processor', 'application', 'auto', 'bean', 'compatible', 'provider', 'without']",
          "['endpoint', 'metadata', 'service', 'rest', 'template', 'configs', 'shutdown', 'reference', 'property', 'demo']",
          "['application', 'environment', 'spring', 'processor', 'property', 'init', 'destroy', 'binder', 'instance', 'relaxed']",
          "['binder', 'environment', 'configurable', 'bean', 'suite', 'relaxed', 'destroy', 'init', 'metadata', 'template']",
          "['matcher', 'map', 'rule', 'route', 'observe', 'bootstrapper', 'path', 'change', 'resource', 'create']",
          "['bootstrapper', 'reader', 'create', 'raw', 'read', 'path', 'matcher', 'map', 'observe', 'rule']",
          "['map', 'listener', 'lds', 'request', 'discovery', 'consumer', 'resource', 'observe', 'build', 'name']",
          "['route', 'rd', 'rds', 'map', 'observe', 'resource', 'protocol', 'result', 'consumer', 'ad']",
          "['endpoint', 'change', 'point', 'end', 'cluster', 'eds', 'subscribe', 'rd', 'notify', 'unsubscribe']",
          "['matcher', 'route', 'map', 'rule', 'endpoint', 'change', 'regex', 'bootstrapper', 'path', 'rds']",
          "['endpoint', 'cluster', 'end', 'change', 'point', 'eds', 'manager', 'rule', 'unsubscribe', 'notify']",
          "['rule', 'route', 'app', 'xds', 'manager', 'change', 'listener', 'rds', 'parse', 'invoker']",
          "['map', 'resource', 'observe', 'matcher', 'result', 'consumer', 'protocol', 'node', 'ad', 'mock']"
         ],
         "type": "scatter",
         "x": [
          -26.54007911682129,
          0.37885478138923645,
          -35.875511169433594,
          19.683156967163086,
          -27.415250778198242,
          10.388920783996582,
          -34.839935302734375,
          23.500743865966797,
          20.579252243041992,
          51.9764518737793,
          8.311477661132812,
          22.58273696899414,
          -44.50768280029297,
          -46.96164321899414,
          0.19523406028747559,
          3.523956775665283,
          -0.7484519481658936,
          -40.13426208496094,
          -9.905865669250488,
          -16.974252700805664,
          -50.98777389526367,
          1.6978936195373535,
          -18.67647933959961,
          -37.013084411621094,
          23.92653465270996,
          1.8257592916488647,
          -3.0864057540893555,
          7.9471235275268555,
          9.4793119430542,
          35.04934310913086,
          47.637306213378906,
          -0.253523588180542,
          -31.685606002807617,
          1.400412917137146,
          -1.5228626728057861,
          -30.82680320739746,
          -4.397988796234131,
          -32.70314407348633,
          6.138193607330322,
          79.48738098144531,
          79.48738098144531,
          75.00374603271484,
          79.48738098144531,
          75.00374603271484,
          79.48738098144531,
          -8.588518142700195,
          -13.93705940246582,
          -9.986590385437012,
          -12.664192199707031,
          -14.645026206970215,
          -19.58027458190918,
          -17.570131301879883,
          -13.5491304397583,
          -14.161138534545898,
          -11.645456314086914,
          -20.148696899414062,
          19.742088317871094,
          -7.529073238372803,
          35.91375732421875,
          45.5657958984375,
          -58.445072174072266,
          53.29136276245117,
          17.098838806152344,
          42.89561080932617,
          -30.562328338623047,
          13.933774948120117,
          -28.326004028320312,
          -39.48118591308594,
          -10.560681343078613,
          -28.068161010742188,
          -10.781349182128906,
          -45.26210403442383,
          15.003451347351074,
          -43.607383728027344,
          17.209136962890625,
          11.912670135498047,
          17.22623062133789,
          -37.813114166259766,
          37.17477798461914,
          -20.372045516967773,
          -38.3109245300293,
          -27.662302017211914,
          -47.40481948852539,
          -54.120330810546875,
          31.932708740234375,
          11.987979888916016,
          6.740217208862305,
          15.08341121673584,
          1.1831111907958984,
          2.7509121894836426,
          -13.797423362731934,
          5.7135186195373535,
          2.370927333831787,
          -32.10345458984375,
          -13.607767105102539,
          -14.002484321594238,
          -3.651134967803955,
          -4.238457202911377,
          -41.432151794433594,
          -24.27962303161621,
          -55.144649505615234,
          -3.9232981204986572,
          19.952661514282227,
          2.8780786991119385,
          -30.62483024597168,
          12.82726001739502,
          -19.750629425048828,
          -39.495452880859375,
          3.8801019191741943,
          57.21403503417969,
          -3.4778828620910645,
          50.322906494140625,
          37.98421859741211,
          53.71142578125,
          58.153892517089844,
          38.112701416015625,
          40.668331146240234,
          28.492918014526367,
          32.01837921142578,
          -50.0090446472168,
          38.04962158203125,
          -51.205204010009766,
          35.056915283203125,
          33.958290100097656
         ],
         "y": [
          -1.1607190370559692,
          -20.10533905029297,
          -13.004660606384277,
          -47.7919807434082,
          3.9095325469970703,
          -36.484375,
          -27.727346420288086,
          -2.6709177494049072,
          -32.930763244628906,
          -46.111785888671875,
          31.17403793334961,
          -5.483270645141602,
          -35.30957794189453,
          -32.72107696533203,
          5.464616298675537,
          -1.6888155937194824,
          -11.736738204956055,
          -6.72502326965332,
          1.5690420866012573,
          -7.4747090339660645,
          -26.902620315551758,
          0.5028467774391174,
          -9.789292335510254,
          -9.445060729980469,
          -25.497066497802734,
          -17.535751342773438,
          14.867941856384277,
          13.323972702026367,
          1.963648796081543,
          -36.68050003051758,
          -41.174991607666016,
          17.81195831298828,
          45.50676727294922,
          40.78606414794922,
          31.540267944335938,
          48.35212707519531,
          50.93415451049805,
          41.351009368896484,
          46.18047332763672,
          -47.81417465209961,
          -47.81417465209961,
          -42.571205139160156,
          -47.81417465209961,
          -42.571205139160156,
          -47.81417465209961,
          -20.469797134399414,
          -28.155567169189453,
          -24.440385818481445,
          -23.2216739654541,
          63.66618728637695,
          69.8892822265625,
          72.88199615478516,
          75.08906555175781,
          67.13591766357422,
          72.36792755126953,
          75.5033187866211,
          13.081670761108398,
          51.13733673095703,
          -7.887569904327393,
          -10.925298690795898,
          -20.913171768188477,
          -31.844820022583008,
          15.211772918701172,
          -10.008581161499023,
          -27.679018020629883,
          -13.476303100585938,
          -47.116092681884766,
          -3.5386765003204346,
          -46.34024429321289,
          -44.32062530517578,
          -49.172943115234375,
          -3.503242015838623,
          -20.585607528686523,
          -11.040420532226562,
          -17.169790267944336,
          -19.75723648071289,
          -50.10635757446289,
          5.058876037597656,
          -26.10699462890625,
          27.040178298950195,
          8.722837448120117,
          20.443727493286133,
          -24.021072387695312,
          -30.019290924072266,
          -37.117671966552734,
          -0.17620699107646942,
          16.18770408630371,
          19.919530868530273,
          -36.82571029663086,
          44.6720085144043,
          59.3537712097168,
          -34.818336486816406,
          49.90595626831055,
          17.032751083374023,
          2.985929489135742,
          26.016782760620117,
          23.864734649658203,
          28.48562240600586,
          11.824654579162598,
          21.252578735351562,
          -23.769041061401367,
          -6.9492669105529785,
          -29.135404586791992,
          -11.649639129638672,
          21.79124641418457,
          -25.09415054321289,
          30.338504791259766,
          -23.52090835571289,
          31.516433715820312,
          -41.9854736328125,
          0.36250537633895874,
          -35.54545593261719,
          -29.2313232421875,
          -39.50560760498047,
          -38.925418853759766,
          19.354887008666992,
          21.123903274536133,
          25.875104904174805,
          29.34383773803711,
          39.09806442260742,
          15.571452140808105,
          41.602542877197266,
          10.58907699584961,
          27.007814407348633
         ]
        },
        {
         "mode": "markers",
         "name": "doc",
         "opacity": 0.7,
         "showlegend": true,
         "text": [
          "['service', 'see', 'issue', 'sample', 'project', 'github', 'contribute', 'list', 'build', 'guide']",
          "['contribute', 'issue', 'sample', 'project', 'service', 'see', 'admin', 'build', 'list', 'report']",
          "['issue', 'service', 'project', 'list', 'see', 'github', 'report', 'sample', 'contribute', 'follow']",
          "['service', 'see', 'project', 'build', 'github', 'sample', 'issue', 'admin', 'follow', 'list']",
          "['see', 'issue', 'sample', 'service', 'contribute', 'guide', 'github', 'project', 'list', 'report']",
          "['service', 'sample', 'see', 'issue', 'please', 'project', 'github', 'contribute', 'report', 'list']",
          "['service', 'issue', 'contribute', 'see', 'github', 'project', 'report', 'sample', 'build', 'guide']",
          "['service', 'see', 'issue', 'contribute', 'sample', 'github', 'project', 'guide', 'admin', 'build']"
         ],
         "type": "scatter",
         "x": [
          -24.3162784576416,
          -53.508888244628906,
          40.21044158935547,
          78.73126220703125,
          63.06376266479492,
          -66.21756744384766,
          4.074749946594238,
          5.989268779754639
         ],
         "y": [
          -83.79463958740234,
          28.63831901550293,
          -82.82991027832031,
          -31.021867752075195,
          31.634904861450195,
          -34.755977630615234,
          57.896217346191406,
          -16.257299423217773
         ]
        }
       ],
       "layout": {
        "height": 650,
        "template": {
         "data": {
          "bar": [
           {
            "error_x": {
             "color": "#2a3f5f"
            },
            "error_y": {
             "color": "#2a3f5f"
            },
            "marker": {
             "line": {
              "color": "#E5ECF6",
              "width": 0.5
             },
             "pattern": {
              "fillmode": "overlay",
              "size": 10,
              "solidity": 0.2
             }
            },
            "type": "bar"
           }
          ],
          "barpolar": [
           {
            "marker": {
             "line": {
              "color": "#E5ECF6",
              "width": 0.5
             },
             "pattern": {
              "fillmode": "overlay",
              "size": 10,
              "solidity": 0.2
             }
            },
            "type": "barpolar"
           }
          ],
          "carpet": [
           {
            "aaxis": {
             "endlinecolor": "#2a3f5f",
             "gridcolor": "white",
             "linecolor": "white",
             "minorgridcolor": "white",
             "startlinecolor": "#2a3f5f"
            },
            "baxis": {
             "endlinecolor": "#2a3f5f",
             "gridcolor": "white",
             "linecolor": "white",
             "minorgridcolor": "white",
             "startlinecolor": "#2a3f5f"
            },
            "type": "carpet"
           }
          ],
          "choropleth": [
           {
            "colorbar": {
             "outlinewidth": 0,
             "ticks": ""
            },
            "type": "choropleth"
           }
          ],
          "contour": [
           {
            "colorbar": {
             "outlinewidth": 0,
             "ticks": ""
            },
            "colorscale": [
             [
              0,
              "#0d0887"
             ],
             [
              0.1111111111111111,
              "#46039f"
             ],
             [
              0.2222222222222222,
              "#7201a8"
             ],
             [
              0.3333333333333333,
              "#9c179e"
             ],
             [
              0.4444444444444444,
              "#bd3786"
             ],
             [
              0.5555555555555556,
              "#d8576b"
             ],
             [
              0.6666666666666666,
              "#ed7953"
             ],
             [
              0.7777777777777778,
              "#fb9f3a"
             ],
             [
              0.8888888888888888,
              "#fdca26"
             ],
             [
              1,
              "#f0f921"
             ]
            ],
            "type": "contour"
           }
          ],
          "contourcarpet": [
           {
            "colorbar": {
             "outlinewidth": 0,
             "ticks": ""
            },
            "type": "contourcarpet"
           }
          ],
          "heatmap": [
           {
            "colorbar": {
             "outlinewidth": 0,
             "ticks": ""
            },
            "colorscale": [
             [
              0,
              "#0d0887"
             ],
             [
              0.1111111111111111,
              "#46039f"
             ],
             [
              0.2222222222222222,
              "#7201a8"
             ],
             [
              0.3333333333333333,
              "#9c179e"
             ],
             [
              0.4444444444444444,
              "#bd3786"
             ],
             [
              0.5555555555555556,
              "#d8576b"
             ],
             [
              0.6666666666666666,
              "#ed7953"
             ],
             [
              0.7777777777777778,
              "#fb9f3a"
             ],
             [
              0.8888888888888888,
              "#fdca26"
             ],
             [
              1,
              "#f0f921"
             ]
            ],
            "type": "heatmap"
           }
          ],
          "heatmapgl": [
           {
            "colorbar": {
             "outlinewidth": 0,
             "ticks": ""
            },
            "colorscale": [
             [
              0,
              "#0d0887"
             ],
             [
              0.1111111111111111,
              "#46039f"
             ],
             [
              0.2222222222222222,
              "#7201a8"
             ],
             [
              0.3333333333333333,
              "#9c179e"
             ],
             [
              0.4444444444444444,
              "#bd3786"
             ],
             [
              0.5555555555555556,
              "#d8576b"
             ],
             [
              0.6666666666666666,
              "#ed7953"
             ],
             [
              0.7777777777777778,
              "#fb9f3a"
             ],
             [
              0.8888888888888888,
              "#fdca26"
             ],
             [
              1,
              "#f0f921"
             ]
            ],
            "type": "heatmapgl"
           }
          ],
          "histogram": [
           {
            "marker": {
             "pattern": {
              "fillmode": "overlay",
              "size": 10,
              "solidity": 0.2
             }
            },
            "type": "histogram"
           }
          ],
          "histogram2d": [
           {
            "colorbar": {
             "outlinewidth": 0,
             "ticks": ""
            },
            "colorscale": [
             [
              0,
              "#0d0887"
             ],
             [
              0.1111111111111111,
              "#46039f"
             ],
             [
              0.2222222222222222,
              "#7201a8"
             ],
             [
              0.3333333333333333,
              "#9c179e"
             ],
             [
              0.4444444444444444,
              "#bd3786"
             ],
             [
              0.5555555555555556,
              "#d8576b"
             ],
             [
              0.6666666666666666,
              "#ed7953"
             ],
             [
              0.7777777777777778,
              "#fb9f3a"
             ],
             [
              0.8888888888888888,
              "#fdca26"
             ],
             [
              1,
              "#f0f921"
             ]
            ],
            "type": "histogram2d"
           }
          ],
          "histogram2dcontour": [
           {
            "colorbar": {
             "outlinewidth": 0,
             "ticks": ""
            },
            "colorscale": [
             [
              0,
              "#0d0887"
             ],
             [
              0.1111111111111111,
              "#46039f"
             ],
             [
              0.2222222222222222,
              "#7201a8"
             ],
             [
              0.3333333333333333,
              "#9c179e"
             ],
             [
              0.4444444444444444,
              "#bd3786"
             ],
             [
              0.5555555555555556,
              "#d8576b"
             ],
             [
              0.6666666666666666,
              "#ed7953"
             ],
             [
              0.7777777777777778,
              "#fb9f3a"
             ],
             [
              0.8888888888888888,
              "#fdca26"
             ],
             [
              1,
              "#f0f921"
             ]
            ],
            "type": "histogram2dcontour"
           }
          ],
          "mesh3d": [
           {
            "colorbar": {
             "outlinewidth": 0,
             "ticks": ""
            },
            "type": "mesh3d"
           }
          ],
          "parcoords": [
           {
            "line": {
             "colorbar": {
              "outlinewidth": 0,
              "ticks": ""
             }
            },
            "type": "parcoords"
           }
          ],
          "pie": [
           {
            "automargin": true,
            "type": "pie"
           }
          ],
          "scatter": [
           {
            "fillpattern": {
             "fillmode": "overlay",
             "size": 10,
             "solidity": 0.2
            },
            "type": "scatter"
           }
          ],
          "scatter3d": [
           {
            "line": {
             "colorbar": {
              "outlinewidth": 0,
              "ticks": ""
             }
            },
            "marker": {
             "colorbar": {
              "outlinewidth": 0,
              "ticks": ""
             }
            },
            "type": "scatter3d"
           }
          ],
          "scattercarpet": [
           {
            "marker": {
             "colorbar": {
              "outlinewidth": 0,
              "ticks": ""
             }
            },
            "type": "scattercarpet"
           }
          ],
          "scattergeo": [
           {
            "marker": {
             "colorbar": {
              "outlinewidth": 0,
              "ticks": ""
             }
            },
            "type": "scattergeo"
           }
          ],
          "scattergl": [
           {
            "marker": {
             "colorbar": {
              "outlinewidth": 0,
              "ticks": ""
             }
            },
            "type": "scattergl"
           }
          ],
          "scattermapbox": [
           {
            "marker": {
             "colorbar": {
              "outlinewidth": 0,
              "ticks": ""
             }
            },
            "type": "scattermapbox"
           }
          ],
          "scatterpolar": [
           {
            "marker": {
             "colorbar": {
              "outlinewidth": 0,
              "ticks": ""
             }
            },
            "type": "scatterpolar"
           }
          ],
          "scatterpolargl": [
           {
            "marker": {
             "colorbar": {
              "outlinewidth": 0,
              "ticks": ""
             }
            },
            "type": "scatterpolargl"
           }
          ],
          "scatterternary": [
           {
            "marker": {
             "colorbar": {
              "outlinewidth": 0,
              "ticks": ""
             }
            },
            "type": "scatterternary"
           }
          ],
          "surface": [
           {
            "colorbar": {
             "outlinewidth": 0,
             "ticks": ""
            },
            "colorscale": [
             [
              0,
              "#0d0887"
             ],
             [
              0.1111111111111111,
              "#46039f"
             ],
             [
              0.2222222222222222,
              "#7201a8"
             ],
             [
              0.3333333333333333,
              "#9c179e"
             ],
             [
              0.4444444444444444,
              "#bd3786"
             ],
             [
              0.5555555555555556,
              "#d8576b"
             ],
             [
              0.6666666666666666,
              "#ed7953"
             ],
             [
              0.7777777777777778,
              "#fb9f3a"
             ],
             [
              0.8888888888888888,
              "#fdca26"
             ],
             [
              1,
              "#f0f921"
             ]
            ],
            "type": "surface"
           }
          ],
          "table": [
           {
            "cells": {
             "fill": {
              "color": "#EBF0F8"
             },
             "line": {
              "color": "white"
             }
            },
            "header": {
             "fill": {
              "color": "#C8D4E3"
             },
             "line": {
              "color": "white"
             }
            },
            "type": "table"
           }
          ]
         },
         "layout": {
          "annotationdefaults": {
           "arrowcolor": "#2a3f5f",
           "arrowhead": 0,
           "arrowwidth": 1
          },
          "autotypenumbers": "strict",
          "coloraxis": {
           "colorbar": {
            "outlinewidth": 0,
            "ticks": ""
           }
          },
          "colorscale": {
           "diverging": [
            [
             0,
             "#8e0152"
            ],
            [
             0.1,
             "#c51b7d"
            ],
            [
             0.2,
             "#de77ae"
            ],
            [
             0.3,
             "#f1b6da"
            ],
            [
             0.4,
             "#fde0ef"
            ],
            [
             0.5,
             "#f7f7f7"
            ],
            [
             0.6,
             "#e6f5d0"
            ],
            [
             0.7,
             "#b8e186"
            ],
            [
             0.8,
             "#7fbc41"
            ],
            [
             0.9,
             "#4d9221"
            ],
            [
             1,
             "#276419"
            ]
           ],
           "sequential": [
            [
             0,
             "#0d0887"
            ],
            [
             0.1111111111111111,
             "#46039f"
            ],
            [
             0.2222222222222222,
             "#7201a8"
            ],
            [
             0.3333333333333333,
             "#9c179e"
            ],
            [
             0.4444444444444444,
             "#bd3786"
            ],
            [
             0.5555555555555556,
             "#d8576b"
            ],
            [
             0.6666666666666666,
             "#ed7953"
            ],
            [
             0.7777777777777778,
             "#fb9f3a"
            ],
            [
             0.8888888888888888,
             "#fdca26"
            ],
            [
             1,
             "#f0f921"
            ]
           ],
           "sequentialminus": [
            [
             0,
             "#0d0887"
            ],
            [
             0.1111111111111111,
             "#46039f"
            ],
            [
             0.2222222222222222,
             "#7201a8"
            ],
            [
             0.3333333333333333,
             "#9c179e"
            ],
            [
             0.4444444444444444,
             "#bd3786"
            ],
            [
             0.5555555555555556,
             "#d8576b"
            ],
            [
             0.6666666666666666,
             "#ed7953"
            ],
            [
             0.7777777777777778,
             "#fb9f3a"
            ],
            [
             0.8888888888888888,
             "#fdca26"
            ],
            [
             1,
             "#f0f921"
            ]
           ]
          },
          "colorway": [
           "#636efa",
           "#EF553B",
           "#00cc96",
           "#ab63fa",
           "#FFA15A",
           "#19d3f3",
           "#FF6692",
           "#B6E880",
           "#FF97FF",
           "#FECB52"
          ],
          "font": {
           "color": "#2a3f5f"
          },
          "geo": {
           "bgcolor": "white",
           "lakecolor": "white",
           "landcolor": "#E5ECF6",
           "showlakes": true,
           "showland": true,
           "subunitcolor": "white"
          },
          "hoverlabel": {
           "align": "left"
          },
          "hovermode": "closest",
          "mapbox": {
           "style": "light"
          },
          "paper_bgcolor": "white",
          "plot_bgcolor": "#E5ECF6",
          "polar": {
           "angularaxis": {
            "gridcolor": "white",
            "linecolor": "white",
            "ticks": ""
           },
           "bgcolor": "#E5ECF6",
           "radialaxis": {
            "gridcolor": "white",
            "linecolor": "white",
            "ticks": ""
           }
          },
          "scene": {
           "xaxis": {
            "backgroundcolor": "#E5ECF6",
            "gridcolor": "white",
            "gridwidth": 2,
            "linecolor": "white",
            "showbackground": true,
            "ticks": "",
            "zerolinecolor": "white"
           },
           "yaxis": {
            "backgroundcolor": "#E5ECF6",
            "gridcolor": "white",
            "gridwidth": 2,
            "linecolor": "white",
            "showbackground": true,
            "ticks": "",
            "zerolinecolor": "white"
           },
           "zaxis": {
            "backgroundcolor": "#E5ECF6",
            "gridcolor": "white",
            "gridwidth": 2,
            "linecolor": "white",
            "showbackground": true,
            "ticks": "",
            "zerolinecolor": "white"
           }
          },
          "shapedefaults": {
           "line": {
            "color": "#2a3f5f"
           }
          },
          "ternary": {
           "aaxis": {
            "gridcolor": "white",
            "linecolor": "white",
            "ticks": ""
           },
           "baxis": {
            "gridcolor": "white",
            "linecolor": "white",
            "ticks": ""
           },
           "bgcolor": "#E5ECF6",
           "caxis": {
            "gridcolor": "white",
            "linecolor": "white",
            "ticks": ""
           }
          },
          "title": {
           "x": 0.05
          },
          "xaxis": {
           "automargin": true,
           "gridcolor": "white",
           "linecolor": "white",
           "ticks": "",
           "title": {
            "standoff": 15
           },
           "zerolinecolor": "white",
           "zerolinewidth": 2
          },
          "yaxis": {
           "automargin": true,
           "gridcolor": "white",
           "linecolor": "white",
           "ticks": "",
           "title": {
            "standoff": 15
           },
           "zerolinecolor": "white",
           "zerolinewidth": 2
          }
         }
        },
        "width": 650
       }
      }
     },
     "metadata": {},
     "output_type": "display_data"
    }
   ],
   "source": [
    "import plotly.express as px\n",
    "import plotly.graph_objects as go\n",
    "from sklearn.manifold import TSNE\n",
    "import numpy as np\n",
    "\n",
    "tsne_model = TSNE(\n",
    "    n_components = 2,\n",
    "    perplexity = 7,\n",
    "    random_state = 42,\n",
    "    init = \"pca\",\n",
    "    learning_rate = \"auto\",\n",
    "    # metric = \"cosine\"\n",
    ")\n",
    "\n",
    "code_emb_arr = np.array(dubbo_code_df[\"gpt_code_vec\"].to_list())\n",
    "test_emb_arr = np.array(dubbo_test_df[\"gpt_test_vec\"].to_list())\n",
    "doc_emb_arr = np.array(dubbo_doc_df[\"gpt_doc_vec\"].to_list())\n",
    "\n",
    "code_tsne_embeddings = tsne_model.fit_transform(code_emb_arr)\n",
    "test_tsne_embeddings = tsne_model.fit_transform(test_emb_arr)\n",
    "doc_tsne_embeddings = tsne_model.fit_transform(doc_emb_arr)\n",
    "\n",
    "gpt_code_data = pd.DataFrame(\n",
    "    {'x': code_tsne_embeddings[:, 0],\n",
    "     'y': code_tsne_embeddings[:, 1]}\n",
    ")\n",
    "\n",
    "gpt_test_data = pd.DataFrame(\n",
    "    {'x': test_tsne_embeddings[:, 0],\n",
    "     'y': test_tsne_embeddings[:, 1]}\n",
    ")\n",
    "\n",
    "gpt_doc_data = pd.DataFrame(\n",
    "    {'x': doc_tsne_embeddings[:, 0],\n",
    "     'y': doc_tsne_embeddings[:, 1]}\n",
    ")\n",
    "\n",
    "dfs = {\n",
    "    \"code\": gpt_code_data,\n",
    "    \"test\": gpt_test_data,\n",
    "    \"doc\": gpt_doc_data\n",
    "}\n",
    "\n",
    "id_list = [dubbo_code_df['concept'].tolist(),\n",
    "           dubbo_test_df['concept'].tolist(),\n",
    "           dubbo_doc_df['concept'].tolist()]\n",
    "\n",
    "fig = go.Figure()\n",
    "\n",
    "for i, df in enumerate(dfs):\n",
    "    fig = fig.add_trace(\n",
    "        go.Scatter(\n",
    "        x = dfs[df]['x'],\n",
    "        y = dfs[df]['y'],\n",
    "        name = df,\n",
    "        text = id_list[i],\n",
    "        showlegend = True,\n",
    "        mode = 'markers',\n",
    "        opacity = 0.7)\n",
    "    )\n",
    "\n",
    "fig.update_layout(\n",
    "    width = 650,\n",
    "    height = 650\n",
    ")\n",
    "\n",
    "fig.show()"
   ]
  },
  {
   "cell_type": "code",
   "execution_count": 86,
   "metadata": {},
   "outputs": [
    {
     "data": {
      "application/vnd.plotly.v1+json": {
       "config": {
        "plotlyServerURL": "https://plot.ly"
       },
       "data": [
        {
         "mode": "markers",
         "name": "code",
         "opacity": 0.7,
         "showlegend": true,
         "text": [
          "['merger', 'model', 'scope', 'aware', 'end', 'error', 'mergeable', 'map', 'match', 'concurrent']",
          "['match', 'value', 'bool', 'exact', 'weight', 'result', 'destination', 'traffic', 'policy', 'subset']",
          "['rule', 'mesh', 'listener', 'app', 'merger', 'map', 'merge', 'item', 'array', 'error']",
          "['rule', 'key', 'invoker', 'node', 'router', 'destination', 'service', 'map', 'virtual', 'output']",
          "['url', 'invoker', 'invocation', 'configurator', 'load', 'balance', 'spec', 'item', 'service', 'select']",
          "['map', 'match', 'invoker', 'destination', 'invocation', 'route', 'group', 'tag', 'context', 'rule']",
          "['router', 'url', 'state', 'invoker', 'bit', 'invocation', 'factory', 'snapshot', 'chain', 'rule']",
          "['bit', 'model', 'address', 'application', 'enable', 'service', 'iterator', 'key', 'hash', 'add']",
          "['invoker', 'cluster', 'invocation', 'directory', 'filter', 'url', 'rpc', 'chain', 'result', 'invoke']",
          "['map', 'extension', 'loader', 'property', 'msg', 'throwable', 'error', 'dynamic', 'aware', 'info']",
          "['model', 'method', 'scope', 'map', 'application', 'desc', 'parameter', 'framework', 'property', 'prefix']",
          "['thread', 'map', 'pool', 'qos', 'message', 'stream', 'listener', 'directory', 'watch', 'generic']",
          "['address', 'level', 'host', 'port', 'status', 'protocol', 'url', 'username', 'disposable', 'adapter']",
          "['integer', 'converter', 'path', 'stream', 'key', 'timeout', 'client', 'server', 'model', 'cert']",
          "['map', 'param', 'builder', 'bean', 'value', 'definition', 'parameter', 'key', 'method', 'url']",
          "['thread', 'registry', 'module', 'map', 'local', 'internal', 'reference', 'metadata', 'runnable', 'integer']",
          "['service', 'url', 'key', 'parameter', 'executor', 'model', 'method', 'value', 'map', 'protocol']",
          "['loader', 'java', 'descriptor', 'str', 'method', 'map', 'pattern', 'array', 'lock', 'value']",
          "['invocation', 'invoker', 'attachment', 'argument', 'method', 'rpc', 'map', 'type', 'key', 'parameter']",
          "['command', 'monitor', 'filter', 'context', 'input', 'configurator', 'servlet', 'merger', 'codec', 'telnet']",
          "['url', 'listener', 'registry', 'notify', 'factory', 'cache', 'register', 'subscribe', 'failback', 'compatible']",
          "['page', 'handler', 'service', 'servlet', 'http', 'request', 'model', 'response', 'writer', 'compatible']",
          "['rpc', 'address', 'context', 'remote', 'channel', 'message', 'local', 'socket', 'inet', 'throwable']",
          "['listener', 'notify', 'navigation', 'page', 'title', 'compatible', 'balance', 'application', 'load', 'url']",
          "['parameter', 'url', 'key', 'value', 'method', 'map', 'protocol', 'add', 'port', 'host']",
          "['future', 'response', 'unit', 'throwable', 'timeout', 'adapter', 'interrupt', 'execution', 'callback', 'completable']",
          "['application', 'model', 'module', 'context', 'event', 'service', 'bootstrap', 'state', 'aware', 'error']",
          "['builder', 'consumer', 'protocol', 'service', 'method', 'registry', 'integer', 'module', 'reference', 'bootstrap']",
          "['bean', 'definition', 'service', 'registry', 'context', 'factory', 'environment', 'init', 'spring', 'annotation']",
          "['builder', 'application', 'integer', 'provider', 'status', 'thread', 'registry', 'port', 'probe', 'qos']",
          "['bean', 'metadata', 'annotation', 'annotate', 'method', 'element', 'field', 'inject', 'service', 'property']",
          "['reference', 'bean', 'map', 'context', 'definition', 'parser', 'key', 'cache', 'element', 'application']",
          "['registry', 'property', 'center', 'value', 'metadata', 'report', 'validate', 'url', 'reference', 'application']",
          "['dynamic', 'factory', 'url', 'zookeeper', 'application', 'model', 'create', 'transporter', 'nacos', 'apollo']",
          "['nacos', 'listener', 'group', 'key', 'service', 'property', 'url', 'timeout', 'map', 'publish']",
          "['listener', 'key', 'path', 'group', 'apollo', 'zookeeper', 'change', 'dynamic', 'remove', 'cache']",
          "['apollo', 'listener', 'key', 'change', 'group', 'url', 'property', 'application', 'aware', 'dynamic']",
          "['nacos', 'service', 'group', 'content', 'listener', 'symbol', 'publish', 'cas', 'timeout', 'innerclass']",
          "['listener', 'key', 'property', 'url', 'nacos', 'group', 'change', 'service', 'timeout', 'apollo']",
          "['container', 'spring', 'error', 'extension', 'aware', 'lock', 'loader', 'classpath', 'context', 'condition']",
          "['container', 'error', 'spring', 'aware', 'loader', 'lock', 'reentrant', 'context', 'extension', 'classpath']",
          "['container', 'loader', 'lock', 'extension', 'aware', 'error', 'key', 'reentrant', 'condition', 'hook']",
          "['extension', 'lock', 'loader', 'condition', 'error', 'aware', 'reentrant', 'key', 'container', 'shutdown']",
          "['spring', 'context', 'aware', 'error', 'container', 'xml', 'application', 'path', 'classpath', 'extension']",
          "['method', 'parameter', 'validator', 'clazz', 'value', 'pool', 'validate', 'error', 'violation', 'aware']",
          "['validator', 'url', 'validation', 'create', 'map', 'concurrent', 'hash', 'lru', 'lfu', 'cache']",
          "['expire', 'time', 'map', 'live', 'interval', 'expiration', 'key', 'thread', 'value', 'access']",
          "['cache', 'url', 'factory', 'value', 'key', 'create', 'store', 'put', 'map', 'local']",
          "['invocation', 'validation', 'invoker', 'filter', 'result', 'rpc', 'invoke', 'uid', 'wrapper', 'present']",
          "['service', 'map', 'instance', 'listener', 'app', 'hash', 'concurrent', 'endpoint', 'kubernetes', 'pod']",
          "['client', 'proxy', 'cert', 'key', 'timeout', 'https', 'watch', 'interval', 'username', 'password']",
          "['url', 'listener', 'registry', 'kubernetes', 'mesh', 'env', 'factory', 'create', 'discovery', 'service']",
          "['service', 'map', 'param', 'key', 'url', 'definition', 'info', 'protocol', 'metadata', 'processing']",
          "['metadata', 'report', 'factory', 'url', 'key', 'map', 'rest', 'storage', 'service', 'create']",
          "['service', 'method', 'rest', 'metadata', 'map', 'application', 'model', 'mapping', 'resolve', 'url']",
          "['annotation', 'parameter', 'value', 'map', 'processor', 'method', 'listener', 'request', 'header', 'mapping']",
          "['method', 'map', 'integer', 'definition', 'builder', 'request', 'body', 'prioritize', 'generate', 'metadata']",
          "['cache', 'manager', 'util', 'store', 'service', 'executor', 'map', 'error', 'aware', 'size']",
          "['element', 'service', 'process', 'environment', 'processing', 'method', 'env', 'rest', 'annotation', 'metadata']",
          "['model', 'processor', 'annotation', 'parameter', 'param', 'element', 'application', 'executable', 'comparator', 'initialize']",
          "['metadata', 'identifier', 'service', 'url', 'key', 'listener', 'subscriber', 'report', 'group', 'store']",
          "['metric', 'map', 'method', 'atomic', 'invocation', 'stat', 'application', 'supplier', 'description', 'handler']",
          "['pool', 'thread', 'registry', 'executor', 'meter', 'application', 'empty', 'metric', 'size', 'destroy']",
          "['invocation', 'metric', 'application', 'invoker', 'model', 'category', 'map', 'observation', 'tag', 'value']",
          "['context', 'key', 'observation', 'convention', 'value', 'client', 'server', 'remote', 'low', 'cardinality']",
          "['concurrent', 'map', 'metric', 'time', 'window', 'hash', 'method', 'event', 'counter', 'request']",
          "['invocation', 'invoker', 'observation', 'model', 'filter', 'application', 'result', 'response', 'convention', 'registry']",
          "['metric', 'invocation', 'event', 'application', 'collector', 'request', 'collect', 'listener', 'execute', 'thread']",
          "['reporter', 'metric', 'application', 'model', 'factory', 'url', 'prometheus', 'create', 'exporter', 'service']",
          "['category', 'metric', 'tag', 'map', 'entity', 'sample', 'service', 'value', 'application', 'model']",
          "['invocation', 'invoker', 'monitor', 'result', 'factory', 'error', 'filter', 'host', 'concurrent', 'remote']",
          "['monitor', 'url', 'service', 'factory', 'statistic', 'protocol', 'proxy', 'invoker', 'method', 'client']",
          "['monitor', 'url', 'factory', 'map', 'executor', 'future', 'lock', 'hash', 'reentrant', 'concurrent']",
          "['monitor', 'service', 'constant', 'factory', 'metric', 'url', 'filter', 'detector', 'invoker', 'builtin']",
          "['metric', 'invocation', 'invoker', 'model', 'extension', 'accessor', 'application', 'result', 'aware', 'service']",
          "['max', 'concurrent', 'output', 'input', 'elapse', 'success', 'failure', 'item', 'statistic', 'invoker']",
          "['service', 'monitor', 'detector', 'metric', 'builtin', 'node', 'application', 'aware', 'model', 'url']",
          "['framework', 'model', 'serialize', 'probe', 'status', 'allow', 'readiness', 'util', 'notify', 'deployer']",
          "['command', 'context', 'http', 'aware', 'error', 'execute', 'node', 'executor', 'request', 'channel']",
          "['key', 'method', 'telnet', 'access', 'channel', 'attribute', 'handler', 'message', 'side', 'provider']",
          "['model', 'application', 'protocol', 'framework', 'qos', 'url', 'invoker', 'help', 'consumer', 'scope']",
          "['handler', 'invoker', 'one', 'many', 'response', 'observer', 'stream', 'method', 'request', 'mono']",
          "['border', 'invocation', 'column', 'define', 'filter', 'model', 'framework', 'url', 'state', 'invoker']",
          "['framework', 'model', 'command', 'context', 'snapshot', 'router', 'execute', 'triple', 'detector', 'reactor']",
          "['permission', 'foreign', 'level', 'accept', 'anonymous', 'access', 'whitelist', 'builder', 'welcome', 'qos']",
          "['url', 'invoker', 'listener', 'registry', 'cluster', 'protocol', 'map', 'service', 'exporter', 'provider']",
          "['timeout', 'url', 'retry', 'registry', 'task', 'cancel', 'failback', 'times', 'error', 'aware']",
          "['url', 'registry', 'listener', 'notify', 'factory', 'task', 'fail', 'map', 'retry', 'concurrent']",
          "['service', 'instance', 'metadata', 'discovery', 'listener', 'change', 'url', 'event', 'info', 'map']",
          "['service', 'key', 'url', 'protocol', 'instance', 'model', 'param', 'address', 'map', 'parameter']",
          "['url', 'listener', 'notify', 'map', 'concurrent', 'service', 'instance', 'registry', 'nacos', 'path']",
          "['migration', 'rule', 'step', 'url', 'model', 'consumer', 'threshold', 'delay', 'map', 'integer']",
          "['url', 'listener', 'service', 'registry', 'nacos', 'map', 'notify', 'model', 'aware', 'error']",
          "['dispatcher', 'map', 'repli', 'channel', 'serialization', 'url', 'executor', 'service', 'response', 'hash']",
          "['buffer', 'channel', 'byte', 'length', 'src', 'dst', 'factory', 'read', 'write', 'output']",
          "['context', 'ssl', 'ctx', 'event', 'operator', 'tls', 'buf', 'request', 'server', 'throwable']",
          "['channel', 'server', 'address', 'close', 'timeout', 'remote', 'send', 'timer', 'exchange', 'inet']",
          "['channel', 'handler', 'url', 'remote', 'address', 'netty', 'server', 'message', 'client', 'connect']",
          "['listener', 'path', 'zookeeper', 'channel', 'create', 'curator', 'client', 'state', 'target', 'child']",
          "['connection', 'request', 'future', 'attribute', 'key', 'client', 'executor', 'manager', 'model', 'append']",
          "['servlet', 'context', 'http', 'handler', 'port', 'instance', 'map', 'manager', 'integer', 'add']",
          "['http', 'model', 'message', 'server', 'url', 'handler', 'framework', 'aware', 'multi', 'error']",
          "['call', 'stream', 'channel', 'method', 'message', 'status', 'header', 'server', 'queue', 'command']",
          "['invoker', 'invocation', 'url', 'proxy', 'channel', 'rpc', 'error', 'protocol', 'result', 'aware']",
          "['future', 'context', 'completable', 'request', 'atomic', 'filter', 'time', 'output', 'response', 'key']",
          "['attachment', 'context', 'map', 'rpc', 'service', 'key', 'value', 'invocation', 'invoker', 'url']",
          "['status', 'handler', 'rpc', 'url', 'timeout', 'channel', 'pack', 'method', 'tri', 'response']",
          "['listener', 'exporter', 'context', 'cancellation', 'executor', 'invoker', 'executable', 'aware', 'consumer', 'error']",
          "['stream', 'client', 'url', 'server', 'protocol', 'remote', 'request', 'handler', 'service', 'channel']",
          "['header', 'executor', 'support', 'model', 'filter', 'application', 'isolation', 'compressor', 'url', 'aware']",
          "['application', 'event', 'environment', 'listener', 'prepare', 'atomic', 'process', 'logo', 'welcome', 'property']",
          "['map', 'property', 'metadata', 'environment', 'bean', 'application', 'protocol', 'registry', 'reference', 'consumer']",
          "['endpoint', 'condition', 'compatible', 'enable', 'context', 'error', 'aware', 'metadata', 'match', 'annotate']",
          "['metric', 'registry', 'meter', 'application', 'event', 'binder', 'start', 'bean', 'auto', 'listener']",
          "['metadata', 'map', 'endpoint', 'configs', 'health', 'indicator', 'name', 'status', 'checker', 'resolve']",
          "['status', 'default', 'extras', 'hash', 'link', 'indicator', 'propertie', 'health', 'load', 'memory']",
          "['application', 'context', 'event', 'bean', 'listener', 'definition', 'web', 'await', 'configurable', 'registry']",
          "['bean', 'service', 'processor', 'annotation', 'auto', 'qualifier', 'package', 'disposable', 'destroy', 'priority']",
          "['resource', 'map', 'service', 'lock', 'result', 'domain', 'listener', 'route', 'consumer', 'delta']",
          "['name', 'route', 'registry', 'url', 'listener', 'factory', 'map', 'result', 'hash', 'create']",
          "['model', 'url', 'range', 'value', 'match', 'listener', 'suffix', 'exact', 'present', 'prefix']",
          "['route', 'listener', 'rule', 'map', 'xds', 'endpoint', 'manager', 'match', 'rds', 'concurrent']",
          "['key', 'istio', 'path', 'secret', 'jwt', 'cluster', 'domain', 'grace', 'trust', 'workload']",
          "['consumer', 'observe', 'map', 'result', 'endpoint', 'protocol', 'domain', 'rd', 'pilot', 'exchanger']",
          "['endpoint', 'cluster', 'server', 'weight', 'info', 'node', 'provider', 'invoker', 'bootstrap', 'resource']",
          "['discovery', 'observer', 'response', 'request', 'ad', 'protocol', 'error', 'url', 'aware', 'delta']",
          "['key', 'cert', 'istio', 'matcher', 'certificate', 'env', 'generate', 'pair', 'path', 'header']"
         ],
         "type": "scatter",
         "x": [
          21.990184783935547,
          -20.860286712646484,
          22.512950897216797,
          -9.90170669555664,
          -4.652939796447754,
          -11.003880500793457,
          -9.491321563720703,
          -9.632360458374023,
          -20.4852294921875,
          33.745033264160156,
          -13.730137825012207,
          2.918429374694824,
          -14.033892631530762,
          -29.19724464416504,
          6.4212646484375,
          11.475273132324219,
          -6.60260009765625,
          33.12038803100586,
          -16.34233283996582,
          -27.990938186645508,
          2.567221164703369,
          -4.477636814117432,
          -27.792638778686523,
          17.720407485961914,
          -12.13863468170166,
          -36.33155822753906,
          27.934946060180664,
          25.568910598754883,
          6.664956092834473,
          24.264917373657227,
          5.0265278816223145,
          7.820928573608398,
          8.322992324829102,
          12.530848503112793,
          12.45010757446289,
          15.082655906677246,
          15.297674179077148,
          13.260843276977539,
          13.597519874572754,
          32.54357147216797,
          32.707942962646484,
          34.637229919433594,
          35.55031204223633,
          30.856836318969727,
          5.069762706756592,
          2.968442916870117,
          -11.464079856872559,
          1.3394626379013062,
          -20.302593231201172,
          5.08976411819458,
          -30.171354293823242,
          0.00009248452261090279,
          -5.633053779602051,
          -0.039883531630039215,
          -4.536127090454102,
          7.072955131530762,
          4.662999629974365,
          17.706462860107422,
          1.1681938171386719,
          14.946866989135742,
          -0.8906497359275818,
          -13.527092933654785,
          20.596649169921875,
          -16.42061996459961,
          -25.698698043823242,
          -12.184340476989746,
          -17.847192764282227,
          19.783082962036133,
          10.767769813537598,
          -17.555213928222656,
          -18.754226684570312,
          -15.215858459472656,
          1.2847950458526611,
          -15.176980972290039,
          -14.985370635986328,
          -20.21825408935547,
          -13.61973762512207,
          -16.61244773864746,
          -7.940206050872803,
          -29.218509674072266,
          -7.001168251037598,
          -20.006303787231445,
          -9.097151756286621,
          -9.099924087524414,
          -4.60076904296875,
          -3.3342273235321045,
          4.7115278244018555,
          2.4141135215759277,
          -2.8976008892059326,
          -7.841755390167236,
          8.713385581970215,
          -5.937371253967285,
          9.523680686950684,
          -6.198709964752197,
          1.91849684715271,
          -28.933921813964844,
          -28.86396026611328,
          -29.80728530883789,
          14.823054313659668,
          -8.444092750549316,
          -11.950394630432129,
          -4.7696051597595215,
          2.2829501628875732,
          -21.918474197387695,
          -36.88371658325195,
          -15.262533187866211,
          -32.91577911376953,
          -3.2497177124023438,
          -31.581829071044922,
          -4.818425178527832,
          25.443492889404297,
          8.642068862915039,
          -1.5207237005233765,
          21.773916244506836,
          -3.3888869285583496,
          -5.133641242980957,
          23.477651596069336,
          16.973339080810547,
          7.4739556312561035,
          -0.45649218559265137,
          -3.6688249111175537,
          8.759196281433105,
          -10.307042121887207,
          8.170205116271973,
          -2.2817821502685547,
          8.824322700500488,
          -11.47539234161377
         ],
         "y": [
          -19.6593074798584,
          0.4022679030895233,
          -18.709074020385742,
          12.294870376586914,
          8.55638599395752,
          10.88546371459961,
          13.539456367492676,
          -13.829277992248535,
          14.719362258911133,
          -8.71419906616211,
          -5.44290828704834,
          9.037646293640137,
          -16.401426315307617,
          5.061131000518799,
          -16.364416122436523,
          -19.477888107299805,
          -10.821171760559082,
          -10.21945571899414,
          12.36829948425293,
          20.34880828857422,
          0.020195165649056435,
          22.273639678955078,
          12.263506889343262,
          -2.0384721755981445,
          -17.26475715637207,
          9.713257789611816,
          0.7339392900466919,
          2.3479630947113037,
          -23.366024017333984,
          3.350552558898926,
          -23.004209518432617,
          -18.461227416992188,
          18.54494285583496,
          -8.044706344604492,
          0.4922308325767517,
          -5.3120880126953125,
          -2.7706518173217773,
          1.8427006006240845,
          -0.8525881767272949,
          -4.236115455627441,
          -2.9188919067382812,
          -6.389096260070801,
          -5.512923240661621,
          -2.9446372985839844,
          -9.13515567779541,
          -7.249271869659424,
          -0.8144738674163818,
          -7.735247611999512,
          12.723440170288086,
          5.0213518142700195,
          4.512552261352539,
          4.090119361877441,
          -14.9247465133667,
          -12.58919620513916,
          -16.862747192382812,
          -14.261499404907227,
          -16.41345977783203,
          6.877990245819092,
          -22.38367462158203,
          17.283329010009766,
          -14.102601051330566,
          3.05366849899292,
          9.407028198242188,
          5.682397842407227,
          8.471880912780762,
          1.2996528148651123,
          7.824896812438965,
          12.048676490783691,
          -9.37841796875,
          3.7237157821655273,
          18.296201705932617,
          18.167898178100586,
          -3.3356733322143555,
          19.392087936401367,
          5.821746826171875,
          19.995615005493164,
          21.107494354248047,
          -5.694340705871582,
          -5.478160381317139,
          17.917560577392578,
          6.248918056488037,
          8.552125930786133,
          7.155762672424316,
          15.617295265197754,
          5.31128454208374,
          7.7383527755737305,
          -1.907858967781067,
          -1.3436329364776611,
          -15.013676643371582,
          -14.706598281860352,
          3.0771257877349854,
          1.3332068920135498,
          1.9606056213378906,
          -6.589268684387207,
          18.998809814453125,
          9.81445598602295,
          13.789066314697266,
          16.3365535736084,
          -6.95176362991333,
          -9.3048734664917,
          -18.954578399658203,
          20.368976593017578,
          13.073054313659668,
          13.891128540039062,
          8.575309753417969,
          12.25120735168457,
          13.621562004089355,
          13.560094833374023,
          15.208292007446289,
          -9.340810775756836,
          12.965397834777832,
          -19.543636322021484,
          -23.10616683959961,
          11.512848854064941,
          -22.87247657775879,
          -24.245548248291016,
          12.236682891845703,
          19.423851013183594,
          5.724416255950928,
          0.02255680412054062,
          -0.13802944123744965,
          8.05083179473877,
          32.67824935913086,
          9.660883903503418,
          10.015932083129883,
          11.717870712280273,
          32.52290344238281
         ]
        },
        {
         "mode": "markers",
         "name": "test",
         "opacity": 0.7,
         "showlegend": true,
         "text": [
          "['invoker', 'hello', 'menu', 'service', 'load', 'balance', 'user', 'map', 'weight', 'mock']",
          "['invoker', 'invocation', 'url', 'cluster', 'mock', 'result', 'directory', 'rpc', 'balance', 'invoke']",
          "['attachment', 'value', 'key', 'invoker', 'sticky', 'invoke', 'integer', 'service', 'retry', 'field']",
          "['url', 'model', 'merge', 'merger', 'module', 'router', 'provider', 'factory', 'init', 'script']",
          "['match', 'configurator', 'mock', 'bool', 'join', 'absent', 'message', 'runtime', 'uid', 'request']",
          "['rule', 'service', 'app', 'demo', 'map', 'suffix', 'clear', 'change', 'api', 'url']",
          "['address', 'country', 'phone', 'full', 'size', 'number', 'city', 'title', 'province', 'extension']",
          "['url', 'activate', 'echo', 'thread', 'add', 'event', 'pool', 'wrapper', 'adaptive', 'exhaust']",
          "['demo', 'service', 'mock', 'key', 'value', 'generic', 'hello', 'impl', 'group', 'cache']",
          "['model', 'scope', 'framework', 'module', 'application', 'destroy', 'property', 'method', 'bean', 'foo']",
          "['converter', 'person', 'init', 'task', 'status', 'multi', 'error', 'info', 'latch', 'value']",
          "['url', 'ext', 'atomic', 'integer', 'echo', 'wrap', 'status', 'executor', 'count', 'adaptive']",
          "['inner', 'age', 'map', 'child', 'util', 'parent', 'url', 'hash', 'email', 'result']",
          "['simple', 'value', 'ext', 'age', 'url', 'one', 'serializable', 'obj', 'person', 'hash']",
          "['provider', 'foo', 'service', 'framework', 'app', 'module', 'player', 'bitrate', 'url', 'copyright']",
          "['consumer', 'service', 'argument', 'application', 'provider', 'registry', 'protocol', 'extension', 'invoker', 'rpc']",
          "['url', 'invoker', 'invocation', 'router', 'cache', 'rpc', 'legacy', 'route', 'invokers', 'factory']",
          "['key', 'attachment', 'invoker', 'value', 'service', 'map', 'invocation', 'invoke', 'model', 'put']",
          "['inner', 'input', 'map', 'array', 'registry', 'application', 'output', 'stream', 'serialization', 'protocol']",
          "['read', 'write', 'input', 'output', 'extension', 'stream', 'argument', 'custom', 'find', 'byte']",
          "['person', 'complex', 'age', 'service', 'demo', 'method', 'impl', 'size', 'enumlength', 'uid']",
          "['context', 'argument', 'rpc', 'registry', 'provider', 'extension', 'application', 'service', 'module', 'protocol']",
          "['service', 'echo', 'demo', 'read', 'input', 'find', 'extension', 'cls', 'reader', 'stream']",
          "['invoker', 'key', 'attachment', 'service', 'map', 'invoke', 'value', 'attribute', 'parameter', 'cache']",
          "['box', 'service', 'demo', 'user', 'say', 'impl', 'prefix', 'status', 'checker', 'context']",
          "['invoker', 'mock', 'url', 'rpc', 'protocol', 'executor', 'proxy', 'port', 'dao', 'balance']",
          "['invocation', 'model', 'invoker', 'error', 'thread', 'response', 'application', 'bootstrap', 'module', 'filter']",
          "['url', 'listener', 'map', 'method', 'service', 'notify', 'registry', 'concurrent', 'key', 'register']",
          "['registry', 'service', 'center', 'export', 'listener', 'single', 'provider', 'exporter', 'multiple', 'protocol']",
          "['service', 'hello', 'demo', 'bean', 'application', 'context', 'reference', 'builder', 'impl', 'generic']",
          "['factory', 'loader', 'reference', 'service', 'bean', 'request', 'processor', 'property', 'find', 'multi']",
          "['consumer', 'bootstrap', 'service', 'module', 'spring', 'channel', 'manager', 'model', 'boot', 'zookeeper']",
          "['namespace', 'map', 'context', 'mock', 'property', 'service', 'extension', 'callback', 'key', 'apollo']",
          "['key', 'value', 'latch', 'count', 'map', 'listener', 'nacos', 'dynamic', 'session', 'event']",
          "['zookeeper', 'listener', 'map', 'url', 'count', 'dynamic', 'latch', 'mock', 'server', 'value']",
          "['map', 'namespace', 'property', 'service', 'extension', 'mock', 'context', 'locator', 'key', 'error']",
          "['server', 'status', 'timeout', 'retry', 'group', 'nacos', 'namespace', 'map', 'mock', 'property']",
          "['apollo', 'key', 'put', 'value', 'embed', 'dynamic', 'url', 'mock', 'namespace', 'event']",
          "['group', 'nacos', 'listener', 'publish', 'cas', 'content', 'remove', 'timeout', 'service', 'shut']",
          "['spring', 'container']",
          "['spring', 'container']",
          "['container', 'spring']",
          "['spring', 'container']",
          "['container', 'spring']",
          "['spring', 'container']",
          "['cache', 'factory', 'invoker', 'mock', 'filter', 'invocation', 'method', 'construct', 'rpc', 'non']",
          "['cache', 'expire', 'factory', 'url', 'construct', 'validator', 'validation', 'parameter', 'target', 'mock']",
          "['validation', 'mock', 'filter', 'validator', 'rpc', 'invocation', 'invoker', 'cache', 'factory', 'parameter']",
          "['parameter', 'validation', 'validator', 'target', 'mock', 'filter', 'rpc', 'invoker', 'invocation', 'cache']",
          "['service', 'kubernetes', 'server', 'mock', 'discovery', 'change', 'listener', 'instance', 'client', 'url']",
          "['service', 'kubernetes', 'mock', 'discovery', 'server', 'url', 'selector', 'pod', 'change', 'namespaced']",
          "['service', 'server', 'kubernetes', 'mock', 'discovery', 'map', 'selector', 'pod', 'change', 'namespaced']",
          "['service', 'mock', 'discovery', 'server', 'kubernetes', 'map', 'pod', 'namespaced', 'change', 'destroy']",
          "['service', 'server', 'kubernetes', 'discovery', 'mock', 'url', 'client', 'namespaced', 'instance', 'listener']",
          "['service', 'server', 'mock', 'kubernetes', 'listener', 'map', 'pod', 'namespaced', 'change', 'destroy']",
          "['service', 'discovery', 'server', 'kubernetes', 'listener', 'pod', 'map', 'selector', 'change', 'namespaced']",
          "['redis', 'metadata', 'report', 'store', 'info', 'find', 'interceptor', 'group', 'identifi', 'consumer']",
          "['service', 'url', 'listener', 'mapping', 'mock', 'nacos', 'group', 'application', 'map', 'model']",
          "['integer', 'big', 'compiler', 'str', 'java', 'directory', 'source', 'decimal', 'processor', 'time']",
          "['element', 'field', 'variable', 'class', 'compile', 'builder', 'annotation', 'add', 'model', 'definition']",
          "['param', 'user', 'model', 'service', 'rest', 'request', 'map', 'body', 'header', 'form']",
          "['method', 'annotation', 'invocation', 'processor', 'processing', 'context', 'source', 'round', 'environment', 'process']",
          "['metadata', 'identifier', 'report', 'service', 'url', 'subscriber', 'consumer', 'store', 'listener', 'map']",
          "['class', 'builder', 'compile', 'definition', 'type', 'add', 'annotation', 'processing', 'server', 'status']",
          "['builder', 'google', 'phone', 'number', 'map', 'field', 'request', 'parse', 'byte', 'response']",
          "['observation', 'filter', 'tracer', 'url', 'invocation', 'runner', 'consumer', 'sample', 'destroy', 'receiver']",
          "['window', 'time', 'quantile', 'counter', 'metric', 'category', 'unit', 'description', 'map', 'sample']",
          "['key', 'attachment', 'value', 'service', 'model', 'map', 'absent', 'invocation', 'invoker', 'mock']",
          "['metric', 'model', 'application', 'event', 'invocation', 'method', 'collector', 'setup', 'group', 'rpc']",
          "['metric', 'category', 'tag', 'setup', 'map', 'supplier', 'unit', 'description', 'sample', 'gauge']",
          "['request', 'init', 'param', 'teardown', 'event', 'metric', 'time', 'invocation', 'model', 'setup']",
          "['reporter', 'prometheus', 'metric', 'factory', 'attachment', 'key', 'service', 'value', 'model', 'framework']",
          "['factory', 'monitor', 'proxy', 'statistic', 'service', 'url', 'demo', 'invoker', 'response', 'invoke']",
          "['response', 'app', 'builder', 'attachment', 'result', 'map', 'throwable', 'create', 'build', 'invoker']",
          "['url', 'monitor', 'service', 'invoker', 'factory', 'invocation', 'statistics', 'available', 'destroy', 'collect']",
          "['invoker', 'service', 'demo', 'url', 'metric', 'invoke', 'function', 'consumer', 'port', 'response']",
          "['framework', 'model', 'register', 'provider', 'repository', 'module', 'state', 'url', 'user', 'custom']",
          "['command', 'context', 'mock', 'attribute', 'map', 'channel', 'telnet', 'invoker', 'method', 'service']",
          "['url', 'model', 'framework', 'util', 'reset', 'exporter', 'export', 'refer', 'instance', 'metadata']",
          "['channel', 'promise', 'future', 'address', 'listener', 'socket', 'remote', 'throwable', 'cause', 'timeout']",
          "['handler', 'telnet', 'mock', 'invoker', 'protocol', 'url', 'channel', 'wrapper', 'tri', 'change']",
          "['channel', 'url', 'remote', 'handler', 'attribute', 'mock', 'send', 'address', 'key', 'close']",
          "['person', 'map', 'serialize', 'non', 'service', 'value', 'demo', 'liveness', 'probe', 'integer']",
          "['age', 'qos', 'process', 'handler', 'uid', 'serializable', 'man', 'wire', 'protocol', 'util']",
          "['service', 'demo', 'repository', 'framework', 'model', 'module', 'invoke', 'parameter', 'generic', 'impl']",
          "['registry', 'protocol', 'url', 'integer', 'refer', 'atomic', 'invoker', 'listener', 'counter', 'exporter']",
          "['url', 'registry', 'factory', 'zookeeper', 'listener', 'service', 'notify', 'subscribe', 'mock', 'register']",
          "['notification', 'multiple', 'instance', 'metadata', 'service', 'revision', 'subscribe', 'listener', 'failure', 'invocation']",
          "['migration', 'rule', 'event', 'curator', 'framework', 'handler', 'invoker', 'url', 'path', 'key']",
          "['nacos', 'instance', 'service', 'group', 'subscribe', 'healthy', 'listener', 'select', 'server', 'msg']",
          "['service', 'discovery', 'instance', 'url', 'mock', 'listener', 'registry', 'event', 'change', 'mapping']",
          "['metadata', 'report', 'builder', 'service', 'url', 'mapping', 'invocation', 'application', 'map', 'model']",
          "['instance', 'service', 'param', 'metadata', 'nacos', 'exclude', 'create', 'naming', 'group', 'include']",
          "['url', 'timer', 'mock', 'task', 'channel', 'close', 'header', 'serialization', 'magic', 'reconnect']",
          "['channel', 'decode', 'output', 'input', 'encode', 'buffer', 'request', 'stream', 'codec', 'message']",
          "['channel', 'exchange', 'remote', 'server', 'handler', 'message', 'world', 'client', 'reply', 'port']",
          "['path', 'service', 'update', 'create', 'tolerant', 'zookeeper', 'fault', 'client', 'provider', 'persistent']",
          "['channel', 'client', 'remote', 'zookeeper', 'server', 'url', 'handler', 'connection', 'transporter', 'latch']",
          "['performance', 'aware', 'error', 'telnet', 'client', 'handler', 'result', 'mock', 'serializable', 'fix']",
          "['channel', 'buffer', 'handler', 'url', 'remote', 'send', 'close', 'address', 'attribute', 'key']",
          "['http', 'response', 'request', 'servlet', 'hello', 'serializable', 'uid', 'parameter', 'desc', 'type']",
          "['extension', 'loader', 'proxy', 'protocol', 'age', 'find', 'factory', 'adaptive', 'path', 'block']",
          "['service', 'demo', 'callback', 'hello', 'url', 'msg', 'yyy', 'impl', 'stub', 'say']",
          "['invocation', 'filter', 'rpc', 'url', 'invoker', 'attachment', 'context', 'tps', 'limiter', 'latch']",
          "['channel', 'remote', 'address', 'url', 'attribute', 'close', 'response', 'health', 'key', 'mock']",
          "['service', 'invoker', 'demo', 'reference', 'url', 'method', 'request', 'loader', 'result', 'argument']",
          "['channel', 'handler', 'integer', 'atomic', 'filter', 'telnet', 'msg', 'future', 'limit', 'completable']",
          "['service', 'demo', 'person', 'key', 'str', 'attachment', 'value', 'echo', 'map', 'size']",
          "['throwable', 'stream', 'observer', 'mock', 'latch', 'count', 'complete', 'next', 'error', 'message']",
          "['binder', 'environment', 'destroy', 'configurable', 'init', 'bean', 'relaxed', 'application', 'suite', 'endpoint']",
          "['application', 'map', 'module', 'registry', 'monitor', 'protocol', 'consumer', 'hash', 'link', 'provider']",
          "['annotation', 'service', 'context', 'processor', 'application', 'auto', 'bean', 'compatible', 'provider', 'without']",
          "['endpoint', 'metadata', 'service', 'rest', 'template', 'configs', 'shutdown', 'reference', 'property', 'demo']",
          "['application', 'environment', 'spring', 'processor', 'property', 'init', 'destroy', 'binder', 'instance', 'relaxed']",
          "['binder', 'environment', 'configurable', 'bean', 'suite', 'relaxed', 'destroy', 'init', 'metadata', 'template']",
          "['matcher', 'map', 'rule', 'route', 'observe', 'bootstrapper', 'path', 'change', 'resource', 'create']",
          "['bootstrapper', 'reader', 'create', 'raw', 'read', 'path', 'matcher', 'map', 'observe', 'rule']",
          "['map', 'listener', 'lds', 'request', 'discovery', 'consumer', 'resource', 'observe', 'build', 'name']",
          "['route', 'rd', 'rds', 'map', 'observe', 'resource', 'protocol', 'result', 'consumer', 'ad']",
          "['endpoint', 'change', 'point', 'end', 'cluster', 'eds', 'subscribe', 'rd', 'notify', 'unsubscribe']",
          "['matcher', 'route', 'map', 'rule', 'endpoint', 'change', 'regex', 'bootstrapper', 'path', 'rds']",
          "['endpoint', 'cluster', 'end', 'change', 'point', 'eds', 'manager', 'rule', 'unsubscribe', 'notify']",
          "['rule', 'route', 'app', 'xds', 'manager', 'change', 'listener', 'rds', 'parse', 'invoker']",
          "['map', 'resource', 'observe', 'matcher', 'result', 'consumer', 'protocol', 'node', 'ad', 'mock']"
         ],
         "type": "scatter",
         "x": [
          29.579164505004883,
          -19.323280334472656,
          -29.18021583557129,
          0.03396201506257057,
          -24.943389892578125,
          25.089061737060547,
          -21.05231285095215,
          24.588817596435547,
          -31.76279640197754,
          72.90205383300781,
          46.40074157714844,
          25.23003578186035,
          -12.528003692626953,
          -10.283775329589844,
          29.138286590576172,
          14.763660430908203,
          -6.372379779815674,
          -23.29239845275879,
          21.413654327392578,
          39.98653030395508,
          -5.915040493011475,
          12.938885688781738,
          36.52796173095703,
          -27.259340286254883,
          45.274471282958984,
          -22.139631271362305,
          -10.789687156677246,
          12.685843467712402,
          8.474720001220703,
          42.994991302490234,
          44.525325775146484,
          -2.2028934955596924,
          -38.17536544799805,
          -58.23960876464844,
          0.5197701454162598,
          -38.311073303222656,
          -50.38566589355469,
          -39.84000015258789,
          -59.239662170410156,
          100.42445373535156,
          100.42445373535156,
          107.7411117553711,
          100.42445373535156,
          107.7411117553711,
          100.42445373535156,
          -13.344675064086914,
          -13.991588592529297,
          -15.307689666748047,
          -18.92665672302246,
          -50.25337600708008,
          -56.84859848022461,
          -60.712646484375,
          -58.305904388427734,
          -51.67036437988281,
          -60.648033142089844,
          -65.0229721069336,
          -3.650623321533203,
          -52.373863220214844,
          44.56497573852539,
          58.520687103271484,
          -9.485722541809082,
          56.52949523925781,
          -6.073459148406982,
          56.416412353515625,
          -22.01851463317871,
          -18.90152359008789,
          19.852432250976562,
          -21.650196075439453,
          -2.550772190093994,
          22.771196365356445,
          -5.739414215087891,
          -18.22859764099121,
          -21.316097259521484,
          -22.961061477661133,
          -19.346059799194336,
          28.11305046081543,
          4.522178649902344,
          -32.92289733886719,
          2.5789763927459717,
          -19.505949020385742,
          -33.456058502197266,
          -24.07481575012207,
          -9.922715187072754,
          0.46619200706481934,
          38.416988372802734,
          12.704689979553223,
          -1.4390044212341309,
          -0.8093574643135071,
          28.48831558227539,
          -57.6469841003418,
          3.611257314682007,
          -9.339639663696289,
          -51.274349212646484,
          -26.013151168823242,
          42.59383773803711,
          -12.058119773864746,
          -3.526151418685913,
          -7.944845676422119,
          -36.85963439941406,
          -20.319686889648438,
          -1.2290867567062378,
          16.3315486907959,
          44.210697174072266,
          -10.170637130737305,
          -26.481327056884766,
          31.76737403869629,
          -39.479209899902344,
          -13.594892501831055,
          5.599095821380615,
          71.05184173583984,
          17.6923885345459,
          54.696529388427734,
          -7.558363437652588,
          67.72566223144531,
          69.3987808227539,
          33.14553451538086,
          36.30880355834961,
          7.951159477233887,
          17.05461311340332,
          8.25772762298584,
          31.303329467773438,
          10.41324234008789,
          26.554420471191406,
          14.007843971252441
         ],
         "y": [
          10.555046081542969,
          17.385488510131836,
          -41.901729583740234,
          17.81367301940918,
          30.693872451782227,
          -44.10258483886719,
          -64.64983367919922,
          47.43144989013672,
          -20.38955307006836,
          10.978690147399902,
          -19.26920509338379,
          44.238975524902344,
          -76.17507934570312,
          -73.361572265625,
          -2.8969664573669434,
          -0.47038188576698303,
          19.627626419067383,
          -37.952056884765625,
          -12.953248023986816,
          43.206573486328125,
          -69.67577362060547,
          2.1973648071289062,
          42.08370590209961,
          -37.234004974365234,
          -10.849611282348633,
          19.086231231689453,
          11.907477378845215,
          -12.332748413085938,
          -5.267225742340088,
          3.7198522090911865,
          9.444241523742676,
          63.099605560302734,
          -16.997455596923828,
          -25.57512664794922,
          47.219459533691406,
          -20.33963966369629,
          -27.38373565673828,
          -12.618925094604492,
          -32.72541809082031,
          10.737730979919434,
          10.737730979919434,
          11.652525901794434,
          10.737730979919434,
          11.652525901794434,
          10.737730979919434,
          25.35369873046875,
          34.216304779052734,
          29.06909942626953,
          28.71072769165039,
          3.2484290599823,
          4.750807285308838,
          3.618159294128418,
          -0.4553461968898773,
          -0.3829064965248108,
          -3.802004814147949,
          1.9316381216049194,
          -34.818580627441406,
          -30.20908546447754,
          32.79840850830078,
          25.600753784179688,
          -59.289669036865234,
          13.857501029968262,
          -30.858585357666016,
          22.902666091918945,
          -53.562618255615234,
          -3.5800230503082275,
          28.540693283081055,
          -41.01484298706055,
          -1.7040613889694214,
          27.185075759887695,
          -1.0651243925094604,
          -32.623435974121094,
          4.009340763092041,
          -47.84526062011719,
          1.226086974143982,
          3.952388048171997,
          13.287862777709961,
          40.953704833984375,
          8.357001304626465,
          64.58074951171875,
          44.36000442504883,
          56.635257720947266,
          -65.13593292236328,
          -68.61946105957031,
          3.289013624191284,
          -7.643283367156982,
          43.95220184326172,
          -24.418054580688477,
          -32.76154708862305,
          -35.99361038208008,
          -20.69458770751953,
          -29.43281364440918,
          -36.583614349365234,
          51.81082534790039,
          46.954612731933594,
          60.83427047729492,
          57.12028503417969,
          59.39299774169922,
          47.58366394042969,
          58.45754623413086,
          -74.2848129272461,
          14.080886840820312,
          -5.629443168640137,
          17.459619522094727,
          59.300575256347656,
          4.068583965301514,
          52.75241470336914,
          -65.46944427490234,
          48.22764587402344,
          5.47231388092041,
          -9.905570983886719,
          10.706284523010254,
          -13.263591766357422,
          7.791615009307861,
          2.3399658203125,
          -45.02892303466797,
          -46.84650802612305,
          -28.651796340942383,
          -32.01146697998047,
          -44.91130447387695,
          -41.508506774902344,
          -47.279685974121094,
          -37.2763786315918,
          -30.17013931274414
         ]
        },
        {
         "mode": "markers",
         "name": "doc",
         "opacity": 0.7,
         "showlegend": true,
         "text": [
          "['service', 'see', 'issue', 'sample', 'project', 'github', 'contribute', 'list', 'build', 'guide']",
          "['contribute', 'issue', 'sample', 'project', 'service', 'see', 'admin', 'build', 'list', 'report']",
          "['issue', 'service', 'project', 'list', 'see', 'github', 'report', 'sample', 'contribute', 'follow']",
          "['service', 'see', 'project', 'build', 'github', 'sample', 'issue', 'admin', 'follow', 'list']",
          "['see', 'issue', 'sample', 'service', 'contribute', 'guide', 'github', 'project', 'list', 'report']",
          "['service', 'sample', 'see', 'issue', 'please', 'project', 'github', 'contribute', 'report', 'list']",
          "['service', 'issue', 'contribute', 'see', 'github', 'project', 'report', 'sample', 'build', 'guide']",
          "['service', 'see', 'issue', 'contribute', 'sample', 'github', 'project', 'guide', 'admin', 'build']"
         ],
         "type": "scatter",
         "x": [
          15.83843994140625,
          -25.85784912109375,
          73.91606903076172,
          -21.06343650817871,
          70.66519927978516,
          -46.118865966796875,
          26.637981414794922,
          32.570213317871094
         ],
         "y": [
          -7.515428066253662,
          39.841796875,
          -31.911394119262695,
          -58.77811813354492,
          22.299816131591797,
          -10.533964157104492,
          53.99198913574219,
          -67.21589660644531
         ]
        }
       ],
       "layout": {
        "height": 650,
        "template": {
         "data": {
          "bar": [
           {
            "error_x": {
             "color": "#2a3f5f"
            },
            "error_y": {
             "color": "#2a3f5f"
            },
            "marker": {
             "line": {
              "color": "#E5ECF6",
              "width": 0.5
             },
             "pattern": {
              "fillmode": "overlay",
              "size": 10,
              "solidity": 0.2
             }
            },
            "type": "bar"
           }
          ],
          "barpolar": [
           {
            "marker": {
             "line": {
              "color": "#E5ECF6",
              "width": 0.5
             },
             "pattern": {
              "fillmode": "overlay",
              "size": 10,
              "solidity": 0.2
             }
            },
            "type": "barpolar"
           }
          ],
          "carpet": [
           {
            "aaxis": {
             "endlinecolor": "#2a3f5f",
             "gridcolor": "white",
             "linecolor": "white",
             "minorgridcolor": "white",
             "startlinecolor": "#2a3f5f"
            },
            "baxis": {
             "endlinecolor": "#2a3f5f",
             "gridcolor": "white",
             "linecolor": "white",
             "minorgridcolor": "white",
             "startlinecolor": "#2a3f5f"
            },
            "type": "carpet"
           }
          ],
          "choropleth": [
           {
            "colorbar": {
             "outlinewidth": 0,
             "ticks": ""
            },
            "type": "choropleth"
           }
          ],
          "contour": [
           {
            "colorbar": {
             "outlinewidth": 0,
             "ticks": ""
            },
            "colorscale": [
             [
              0,
              "#0d0887"
             ],
             [
              0.1111111111111111,
              "#46039f"
             ],
             [
              0.2222222222222222,
              "#7201a8"
             ],
             [
              0.3333333333333333,
              "#9c179e"
             ],
             [
              0.4444444444444444,
              "#bd3786"
             ],
             [
              0.5555555555555556,
              "#d8576b"
             ],
             [
              0.6666666666666666,
              "#ed7953"
             ],
             [
              0.7777777777777778,
              "#fb9f3a"
             ],
             [
              0.8888888888888888,
              "#fdca26"
             ],
             [
              1,
              "#f0f921"
             ]
            ],
            "type": "contour"
           }
          ],
          "contourcarpet": [
           {
            "colorbar": {
             "outlinewidth": 0,
             "ticks": ""
            },
            "type": "contourcarpet"
           }
          ],
          "heatmap": [
           {
            "colorbar": {
             "outlinewidth": 0,
             "ticks": ""
            },
            "colorscale": [
             [
              0,
              "#0d0887"
             ],
             [
              0.1111111111111111,
              "#46039f"
             ],
             [
              0.2222222222222222,
              "#7201a8"
             ],
             [
              0.3333333333333333,
              "#9c179e"
             ],
             [
              0.4444444444444444,
              "#bd3786"
             ],
             [
              0.5555555555555556,
              "#d8576b"
             ],
             [
              0.6666666666666666,
              "#ed7953"
             ],
             [
              0.7777777777777778,
              "#fb9f3a"
             ],
             [
              0.8888888888888888,
              "#fdca26"
             ],
             [
              1,
              "#f0f921"
             ]
            ],
            "type": "heatmap"
           }
          ],
          "heatmapgl": [
           {
            "colorbar": {
             "outlinewidth": 0,
             "ticks": ""
            },
            "colorscale": [
             [
              0,
              "#0d0887"
             ],
             [
              0.1111111111111111,
              "#46039f"
             ],
             [
              0.2222222222222222,
              "#7201a8"
             ],
             [
              0.3333333333333333,
              "#9c179e"
             ],
             [
              0.4444444444444444,
              "#bd3786"
             ],
             [
              0.5555555555555556,
              "#d8576b"
             ],
             [
              0.6666666666666666,
              "#ed7953"
             ],
             [
              0.7777777777777778,
              "#fb9f3a"
             ],
             [
              0.8888888888888888,
              "#fdca26"
             ],
             [
              1,
              "#f0f921"
             ]
            ],
            "type": "heatmapgl"
           }
          ],
          "histogram": [
           {
            "marker": {
             "pattern": {
              "fillmode": "overlay",
              "size": 10,
              "solidity": 0.2
             }
            },
            "type": "histogram"
           }
          ],
          "histogram2d": [
           {
            "colorbar": {
             "outlinewidth": 0,
             "ticks": ""
            },
            "colorscale": [
             [
              0,
              "#0d0887"
             ],
             [
              0.1111111111111111,
              "#46039f"
             ],
             [
              0.2222222222222222,
              "#7201a8"
             ],
             [
              0.3333333333333333,
              "#9c179e"
             ],
             [
              0.4444444444444444,
              "#bd3786"
             ],
             [
              0.5555555555555556,
              "#d8576b"
             ],
             [
              0.6666666666666666,
              "#ed7953"
             ],
             [
              0.7777777777777778,
              "#fb9f3a"
             ],
             [
              0.8888888888888888,
              "#fdca26"
             ],
             [
              1,
              "#f0f921"
             ]
            ],
            "type": "histogram2d"
           }
          ],
          "histogram2dcontour": [
           {
            "colorbar": {
             "outlinewidth": 0,
             "ticks": ""
            },
            "colorscale": [
             [
              0,
              "#0d0887"
             ],
             [
              0.1111111111111111,
              "#46039f"
             ],
             [
              0.2222222222222222,
              "#7201a8"
             ],
             [
              0.3333333333333333,
              "#9c179e"
             ],
             [
              0.4444444444444444,
              "#bd3786"
             ],
             [
              0.5555555555555556,
              "#d8576b"
             ],
             [
              0.6666666666666666,
              "#ed7953"
             ],
             [
              0.7777777777777778,
              "#fb9f3a"
             ],
             [
              0.8888888888888888,
              "#fdca26"
             ],
             [
              1,
              "#f0f921"
             ]
            ],
            "type": "histogram2dcontour"
           }
          ],
          "mesh3d": [
           {
            "colorbar": {
             "outlinewidth": 0,
             "ticks": ""
            },
            "type": "mesh3d"
           }
          ],
          "parcoords": [
           {
            "line": {
             "colorbar": {
              "outlinewidth": 0,
              "ticks": ""
             }
            },
            "type": "parcoords"
           }
          ],
          "pie": [
           {
            "automargin": true,
            "type": "pie"
           }
          ],
          "scatter": [
           {
            "fillpattern": {
             "fillmode": "overlay",
             "size": 10,
             "solidity": 0.2
            },
            "type": "scatter"
           }
          ],
          "scatter3d": [
           {
            "line": {
             "colorbar": {
              "outlinewidth": 0,
              "ticks": ""
             }
            },
            "marker": {
             "colorbar": {
              "outlinewidth": 0,
              "ticks": ""
             }
            },
            "type": "scatter3d"
           }
          ],
          "scattercarpet": [
           {
            "marker": {
             "colorbar": {
              "outlinewidth": 0,
              "ticks": ""
             }
            },
            "type": "scattercarpet"
           }
          ],
          "scattergeo": [
           {
            "marker": {
             "colorbar": {
              "outlinewidth": 0,
              "ticks": ""
             }
            },
            "type": "scattergeo"
           }
          ],
          "scattergl": [
           {
            "marker": {
             "colorbar": {
              "outlinewidth": 0,
              "ticks": ""
             }
            },
            "type": "scattergl"
           }
          ],
          "scattermapbox": [
           {
            "marker": {
             "colorbar": {
              "outlinewidth": 0,
              "ticks": ""
             }
            },
            "type": "scattermapbox"
           }
          ],
          "scatterpolar": [
           {
            "marker": {
             "colorbar": {
              "outlinewidth": 0,
              "ticks": ""
             }
            },
            "type": "scatterpolar"
           }
          ],
          "scatterpolargl": [
           {
            "marker": {
             "colorbar": {
              "outlinewidth": 0,
              "ticks": ""
             }
            },
            "type": "scatterpolargl"
           }
          ],
          "scatterternary": [
           {
            "marker": {
             "colorbar": {
              "outlinewidth": 0,
              "ticks": ""
             }
            },
            "type": "scatterternary"
           }
          ],
          "surface": [
           {
            "colorbar": {
             "outlinewidth": 0,
             "ticks": ""
            },
            "colorscale": [
             [
              0,
              "#0d0887"
             ],
             [
              0.1111111111111111,
              "#46039f"
             ],
             [
              0.2222222222222222,
              "#7201a8"
             ],
             [
              0.3333333333333333,
              "#9c179e"
             ],
             [
              0.4444444444444444,
              "#bd3786"
             ],
             [
              0.5555555555555556,
              "#d8576b"
             ],
             [
              0.6666666666666666,
              "#ed7953"
             ],
             [
              0.7777777777777778,
              "#fb9f3a"
             ],
             [
              0.8888888888888888,
              "#fdca26"
             ],
             [
              1,
              "#f0f921"
             ]
            ],
            "type": "surface"
           }
          ],
          "table": [
           {
            "cells": {
             "fill": {
              "color": "#EBF0F8"
             },
             "line": {
              "color": "white"
             }
            },
            "header": {
             "fill": {
              "color": "#C8D4E3"
             },
             "line": {
              "color": "white"
             }
            },
            "type": "table"
           }
          ]
         },
         "layout": {
          "annotationdefaults": {
           "arrowcolor": "#2a3f5f",
           "arrowhead": 0,
           "arrowwidth": 1
          },
          "autotypenumbers": "strict",
          "coloraxis": {
           "colorbar": {
            "outlinewidth": 0,
            "ticks": ""
           }
          },
          "colorscale": {
           "diverging": [
            [
             0,
             "#8e0152"
            ],
            [
             0.1,
             "#c51b7d"
            ],
            [
             0.2,
             "#de77ae"
            ],
            [
             0.3,
             "#f1b6da"
            ],
            [
             0.4,
             "#fde0ef"
            ],
            [
             0.5,
             "#f7f7f7"
            ],
            [
             0.6,
             "#e6f5d0"
            ],
            [
             0.7,
             "#b8e186"
            ],
            [
             0.8,
             "#7fbc41"
            ],
            [
             0.9,
             "#4d9221"
            ],
            [
             1,
             "#276419"
            ]
           ],
           "sequential": [
            [
             0,
             "#0d0887"
            ],
            [
             0.1111111111111111,
             "#46039f"
            ],
            [
             0.2222222222222222,
             "#7201a8"
            ],
            [
             0.3333333333333333,
             "#9c179e"
            ],
            [
             0.4444444444444444,
             "#bd3786"
            ],
            [
             0.5555555555555556,
             "#d8576b"
            ],
            [
             0.6666666666666666,
             "#ed7953"
            ],
            [
             0.7777777777777778,
             "#fb9f3a"
            ],
            [
             0.8888888888888888,
             "#fdca26"
            ],
            [
             1,
             "#f0f921"
            ]
           ],
           "sequentialminus": [
            [
             0,
             "#0d0887"
            ],
            [
             0.1111111111111111,
             "#46039f"
            ],
            [
             0.2222222222222222,
             "#7201a8"
            ],
            [
             0.3333333333333333,
             "#9c179e"
            ],
            [
             0.4444444444444444,
             "#bd3786"
            ],
            [
             0.5555555555555556,
             "#d8576b"
            ],
            [
             0.6666666666666666,
             "#ed7953"
            ],
            [
             0.7777777777777778,
             "#fb9f3a"
            ],
            [
             0.8888888888888888,
             "#fdca26"
            ],
            [
             1,
             "#f0f921"
            ]
           ]
          },
          "colorway": [
           "#636efa",
           "#EF553B",
           "#00cc96",
           "#ab63fa",
           "#FFA15A",
           "#19d3f3",
           "#FF6692",
           "#B6E880",
           "#FF97FF",
           "#FECB52"
          ],
          "font": {
           "color": "#2a3f5f"
          },
          "geo": {
           "bgcolor": "white",
           "lakecolor": "white",
           "landcolor": "#E5ECF6",
           "showlakes": true,
           "showland": true,
           "subunitcolor": "white"
          },
          "hoverlabel": {
           "align": "left"
          },
          "hovermode": "closest",
          "mapbox": {
           "style": "light"
          },
          "paper_bgcolor": "white",
          "plot_bgcolor": "#E5ECF6",
          "polar": {
           "angularaxis": {
            "gridcolor": "white",
            "linecolor": "white",
            "ticks": ""
           },
           "bgcolor": "#E5ECF6",
           "radialaxis": {
            "gridcolor": "white",
            "linecolor": "white",
            "ticks": ""
           }
          },
          "scene": {
           "xaxis": {
            "backgroundcolor": "#E5ECF6",
            "gridcolor": "white",
            "gridwidth": 2,
            "linecolor": "white",
            "showbackground": true,
            "ticks": "",
            "zerolinecolor": "white"
           },
           "yaxis": {
            "backgroundcolor": "#E5ECF6",
            "gridcolor": "white",
            "gridwidth": 2,
            "linecolor": "white",
            "showbackground": true,
            "ticks": "",
            "zerolinecolor": "white"
           },
           "zaxis": {
            "backgroundcolor": "#E5ECF6",
            "gridcolor": "white",
            "gridwidth": 2,
            "linecolor": "white",
            "showbackground": true,
            "ticks": "",
            "zerolinecolor": "white"
           }
          },
          "shapedefaults": {
           "line": {
            "color": "#2a3f5f"
           }
          },
          "ternary": {
           "aaxis": {
            "gridcolor": "white",
            "linecolor": "white",
            "ticks": ""
           },
           "baxis": {
            "gridcolor": "white",
            "linecolor": "white",
            "ticks": ""
           },
           "bgcolor": "#E5ECF6",
           "caxis": {
            "gridcolor": "white",
            "linecolor": "white",
            "ticks": ""
           }
          },
          "title": {
           "x": 0.05
          },
          "xaxis": {
           "automargin": true,
           "gridcolor": "white",
           "linecolor": "white",
           "ticks": "",
           "title": {
            "standoff": 15
           },
           "zerolinecolor": "white",
           "zerolinewidth": 2
          },
          "yaxis": {
           "automargin": true,
           "gridcolor": "white",
           "linecolor": "white",
           "ticks": "",
           "title": {
            "standoff": 15
           },
           "zerolinecolor": "white",
           "zerolinewidth": 2
          }
         }
        },
        "width": 650
       }
      }
     },
     "metadata": {},
     "output_type": "display_data"
    }
   ],
   "source": [
    "import plotly.express as px\n",
    "import plotly.graph_objects as go\n",
    "from sklearn.manifold import TSNE\n",
    "import numpy as np\n",
    "\n",
    "tsne_model = TSNE(\n",
    "    n_components = 2,\n",
    "    perplexity = 7,\n",
    "    random_state = 42,\n",
    "    init = \"pca\",\n",
    "    learning_rate = \"auto\",\n",
    "    # metric = \"cosine\"\n",
    ")\n",
    "\n",
    "code_emb_arr = np.array(dubbo_code_df[\"angle_code_vec\"].to_list())\n",
    "test_emb_arr = np.array(dubbo_test_df[\"angle_test_vec\"].to_list())\n",
    "doc_emb_arr = np.array(dubbo_doc_df[\"angle_doc_vec\"].to_list())\n",
    "\n",
    "code_tsne_embeddings = tsne_model.fit_transform(code_emb_arr)\n",
    "test_tsne_embeddings = tsne_model.fit_transform(test_emb_arr)\n",
    "doc_tsne_embeddings = tsne_model.fit_transform(doc_emb_arr)\n",
    "\n",
    "angle_code_data = pd.DataFrame(\n",
    "    {'x': code_tsne_embeddings[:, 0],\n",
    "     'y': code_tsne_embeddings[:, 1]}\n",
    ")\n",
    "\n",
    "angle_test_data = pd.DataFrame(\n",
    "    {'x': test_tsne_embeddings[:, 0],\n",
    "     'y': test_tsne_embeddings[:, 1]}\n",
    ")\n",
    "\n",
    "angle_doc_data = pd.DataFrame(\n",
    "    {'x': doc_tsne_embeddings[:, 0],\n",
    "     'y': doc_tsne_embeddings[:, 1]}\n",
    ")\n",
    "\n",
    "dfs = {\n",
    "    \"code\": angle_code_data,\n",
    "    \"test\": angle_test_data,\n",
    "    \"doc\": angle_doc_data\n",
    "}\n",
    "\n",
    "id_list = [dubbo_code_df['concept'].tolist(),\n",
    "           dubbo_test_df['concept'].tolist(),\n",
    "           dubbo_doc_df['concept'].tolist()]\n",
    "\n",
    "fig = go.Figure()\n",
    "\n",
    "for i, df in enumerate(dfs):\n",
    "    fig = fig.add_trace(\n",
    "        go.Scatter(\n",
    "        x = dfs[df]['x'],\n",
    "        y = dfs[df]['y'],\n",
    "        name = df,\n",
    "        text = id_list[i],\n",
    "        showlegend = True,\n",
    "        mode = 'markers',\n",
    "        opacity = 0.7)\n",
    "    )\n",
    "\n",
    "fig.update_layout(\n",
    "    width = 650,\n",
    "    height = 650\n",
    ")\n",
    "\n",
    "fig.show()"
   ]
  }
 ],
 "metadata": {
  "kernelspec": {
   "display_name": "Python 3",
   "language": "python",
   "name": "python3"
  },
  "language_info": {
   "codemirror_mode": {
    "name": "ipython",
    "version": 3
   },
   "file_extension": ".py",
   "mimetype": "text/x-python",
   "name": "python",
   "nbconvert_exporter": "python",
   "pygments_lexer": "ipython3",
   "version": "3.11.7"
  }
 },
 "nbformat": 4,
 "nbformat_minor": 2
}
