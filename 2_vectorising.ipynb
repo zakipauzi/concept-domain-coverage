{
 "cells": [
  {
   "cell_type": "markdown",
   "metadata": {},
   "source": [
    "## Concept/Domain coverage analysis: Matching with App Domains\n",
    "\n",
    "This notebook extracts corpus keywords and analyse the concepts emerging from three sources: source code, documentation and tests"
   ]
  },
  {
   "cell_type": "markdown",
   "metadata": {},
   "source": [
    "## Show topics"
   ]
  },
  {
   "cell_type": "code",
   "execution_count": 23,
   "metadata": {
    "scrolled": true
   },
   "outputs": [
    {
     "data": {
      "text/html": [
       "<div>\n",
       "<style scoped>\n",
       "    .dataframe tbody tr th:only-of-type {\n",
       "        vertical-align: middle;\n",
       "    }\n",
       "\n",
       "    .dataframe tbody tr th {\n",
       "        vertical-align: top;\n",
       "    }\n",
       "\n",
       "    .dataframe thead th {\n",
       "        text-align: right;\n",
       "    }\n",
       "</style>\n",
       "<table border=\"1\" class=\"dataframe\">\n",
       "  <thead>\n",
       "    <tr style=\"text-align: right;\">\n",
       "      <th></th>\n",
       "      <th>project_name</th>\n",
       "      <th>module</th>\n",
       "      <th>code_num_topics</th>\n",
       "      <th>test_num_topics</th>\n",
       "      <th>code_shown_topics</th>\n",
       "      <th>code_topics</th>\n",
       "      <th>test_shown_topics</th>\n",
       "      <th>test_topics</th>\n",
       "      <th>doc_num_topics</th>\n",
       "      <th>doc_shown_topics</th>\n",
       "      <th>doc_topics</th>\n",
       "    </tr>\n",
       "  </thead>\n",
       "  <tbody>\n",
       "    <tr>\n",
       "      <th>0</th>\n",
       "      <td>01_dubbo</td>\n",
       "      <td>dubbo-cluster</td>\n",
       "      <td>9</td>\n",
       "      <td>6</td>\n",
       "      <td>[(0, [('merger', 0.11644696), ('model', 0.0760...</td>\n",
       "      <td>[['merger', 'model', 'scope', 'aware', 'end', ...</td>\n",
       "      <td>[(0, [('invoker', 0.10217771), ('hello', 0.059...</td>\n",
       "      <td>[['invoker', 'hello', 'menu', 'service', 'load...</td>\n",
       "      <td>8</td>\n",
       "      <td>[(0, [('service', 0.005111123), ('see', 0.0051...</td>\n",
       "      <td>[['service', 'see', 'issue', 'sample', 'projec...</td>\n",
       "    </tr>\n",
       "    <tr>\n",
       "      <th>1</th>\n",
       "      <td>01_dubbo</td>\n",
       "      <td>dubbo-common</td>\n",
       "      <td>9</td>\n",
       "      <td>9</td>\n",
       "      <td>[(0, [('map', 0.071077), ('extension', 0.05852...</td>\n",
       "      <td>[['map', 'extension', 'loader', 'property', 'm...</td>\n",
       "      <td>[(0, [('address', 0.07335682), ('country', 0.0...</td>\n",
       "      <td>[['address', 'country', 'phone', 'full', 'size...</td>\n",
       "      <td>8</td>\n",
       "      <td>[(0, [('service', 0.005111123), ('see', 0.0051...</td>\n",
       "      <td>[['service', 'see', 'issue', 'sample', 'projec...</td>\n",
       "    </tr>\n",
       "    <tr>\n",
       "      <th>2</th>\n",
       "      <td>01_dubbo</td>\n",
       "      <td>dubbo-compatible</td>\n",
       "      <td>8</td>\n",
       "      <td>9</td>\n",
       "      <td>[(0, [('invocation', 0.17978409), ('invoker', ...</td>\n",
       "      <td>[['invocation', 'invoker', 'attachment', 'argu...</td>\n",
       "      <td>[(0, [('consumer', 0.08403326), ('service', 0....</td>\n",
       "      <td>[['consumer', 'service', 'argument', 'applicat...</td>\n",
       "      <td>8</td>\n",
       "      <td>[(0, [('service', 0.005111123), ('see', 0.0051...</td>\n",
       "      <td>[['service', 'see', 'issue', 'sample', 'projec...</td>\n",
       "    </tr>\n",
       "    <tr>\n",
       "      <th>3</th>\n",
       "      <td>01_dubbo</td>\n",
       "      <td>dubbo-config</td>\n",
       "      <td>7</td>\n",
       "      <td>8</td>\n",
       "      <td>[(0, [('application', 0.19198503), ('model', 0...</td>\n",
       "      <td>[['application', 'model', 'module', 'context',...</td>\n",
       "      <td>[(0, [('box', 0.0995611), ('service', 0.097135...</td>\n",
       "      <td>[['box', 'service', 'demo', 'user', 'say', 'im...</td>\n",
       "      <td>8</td>\n",
       "      <td>[(0, [('service', 0.005111123), ('see', 0.0051...</td>\n",
       "      <td>[['service', 'see', 'issue', 'sample', 'projec...</td>\n",
       "    </tr>\n",
       "    <tr>\n",
       "      <th>4</th>\n",
       "      <td>01_dubbo</td>\n",
       "      <td>dubbo-configcenter</td>\n",
       "      <td>6</td>\n",
       "      <td>7</td>\n",
       "      <td>[(0, [('dynamic', 0.2249236), ('factory', 0.12...</td>\n",
       "      <td>[['dynamic', 'factory', 'url', 'zookeeper', 'a...</td>\n",
       "      <td>[(0, [('namespace', 0.01471425), ('map', 0.014...</td>\n",
       "      <td>[['namespace', 'map', 'context', 'mock', 'prop...</td>\n",
       "      <td>8</td>\n",
       "      <td>[(0, [('service', 0.005111123), ('see', 0.0051...</td>\n",
       "      <td>[['service', 'see', 'issue', 'sample', 'projec...</td>\n",
       "    </tr>\n",
       "  </tbody>\n",
       "</table>\n",
       "</div>"
      ],
      "text/plain": [
       "  project_name              module  code_num_topics  test_num_topics   \n",
       "0     01_dubbo       dubbo-cluster                9                6  \\\n",
       "1     01_dubbo        dubbo-common                9                9   \n",
       "2     01_dubbo    dubbo-compatible                8                9   \n",
       "3     01_dubbo        dubbo-config                7                8   \n",
       "4     01_dubbo  dubbo-configcenter                6                7   \n",
       "\n",
       "                                   code_shown_topics   \n",
       "0  [(0, [('merger', 0.11644696), ('model', 0.0760...  \\\n",
       "1  [(0, [('map', 0.071077), ('extension', 0.05852...   \n",
       "2  [(0, [('invocation', 0.17978409), ('invoker', ...   \n",
       "3  [(0, [('application', 0.19198503), ('model', 0...   \n",
       "4  [(0, [('dynamic', 0.2249236), ('factory', 0.12...   \n",
       "\n",
       "                                         code_topics   \n",
       "0  [['merger', 'model', 'scope', 'aware', 'end', ...  \\\n",
       "1  [['map', 'extension', 'loader', 'property', 'm...   \n",
       "2  [['invocation', 'invoker', 'attachment', 'argu...   \n",
       "3  [['application', 'model', 'module', 'context',...   \n",
       "4  [['dynamic', 'factory', 'url', 'zookeeper', 'a...   \n",
       "\n",
       "                                   test_shown_topics   \n",
       "0  [(0, [('invoker', 0.10217771), ('hello', 0.059...  \\\n",
       "1  [(0, [('address', 0.07335682), ('country', 0.0...   \n",
       "2  [(0, [('consumer', 0.08403326), ('service', 0....   \n",
       "3  [(0, [('box', 0.0995611), ('service', 0.097135...   \n",
       "4  [(0, [('namespace', 0.01471425), ('map', 0.014...   \n",
       "\n",
       "                                         test_topics  doc_num_topics   \n",
       "0  [['invoker', 'hello', 'menu', 'service', 'load...               8  \\\n",
       "1  [['address', 'country', 'phone', 'full', 'size...               8   \n",
       "2  [['consumer', 'service', 'argument', 'applicat...               8   \n",
       "3  [['box', 'service', 'demo', 'user', 'say', 'im...               8   \n",
       "4  [['namespace', 'map', 'context', 'mock', 'prop...               8   \n",
       "\n",
       "                                    doc_shown_topics   \n",
       "0  [(0, [('service', 0.005111123), ('see', 0.0051...  \\\n",
       "1  [(0, [('service', 0.005111123), ('see', 0.0051...   \n",
       "2  [(0, [('service', 0.005111123), ('see', 0.0051...   \n",
       "3  [(0, [('service', 0.005111123), ('see', 0.0051...   \n",
       "4  [(0, [('service', 0.005111123), ('see', 0.0051...   \n",
       "\n",
       "                                          doc_topics  \n",
       "0  [['service', 'see', 'issue', 'sample', 'projec...  \n",
       "1  [['service', 'see', 'issue', 'sample', 'projec...  \n",
       "2  [['service', 'see', 'issue', 'sample', 'projec...  \n",
       "3  [['service', 'see', 'issue', 'sample', 'projec...  \n",
       "4  [['service', 'see', 'issue', 'sample', 'projec...  "
      ]
     },
     "execution_count": 23,
     "metadata": {},
     "output_type": "execute_result"
    }
   ],
   "source": [
    "import pandas as pd\n",
    "\n",
    "topics_df = pd.read_csv(\"topics_res_df.csv\")\n",
    "topics_df.head()"
   ]
  },
  {
   "cell_type": "markdown",
   "metadata": {},
   "source": [
    "## Process annotated modules"
   ]
  },
  {
   "cell_type": "code",
   "execution_count": 2,
   "metadata": {},
   "outputs": [
    {
     "data": {
      "text/html": [
       "<div>\n",
       "<style scoped>\n",
       "    .dataframe tbody tr th:only-of-type {\n",
       "        vertical-align: middle;\n",
       "    }\n",
       "\n",
       "    .dataframe tbody tr th {\n",
       "        vertical-align: top;\n",
       "    }\n",
       "\n",
       "    .dataframe thead th {\n",
       "        text-align: right;\n",
       "    }\n",
       "</style>\n",
       "<table border=\"1\" class=\"dataframe\">\n",
       "  <thead>\n",
       "    <tr style=\"text-align: right;\">\n",
       "      <th></th>\n",
       "      <th>project</th>\n",
       "      <th>module</th>\n",
       "      <th>labels</th>\n",
       "      <th>distribution</th>\n",
       "    </tr>\n",
       "  </thead>\n",
       "  <tbody>\n",
       "    <tr>\n",
       "      <th>0</th>\n",
       "      <td>dubbo</td>\n",
       "      <td>dubbo-configcenter</td>\n",
       "      <td>['3D computer graphics', '3D modeling', 'Bayes...</td>\n",
       "      <td>[0.0, 0.0, 0.0, 0.0, 0.0, 0.0, 0.0358421722524...</td>\n",
       "    </tr>\n",
       "    <tr>\n",
       "      <th>1</th>\n",
       "      <td>dubbo</td>\n",
       "      <td>dubbo-remoting</td>\n",
       "      <td>['3D computer graphics', '3D modeling', 'Bayes...</td>\n",
       "      <td>[0.003827634543563279, 0.0007640459047594847, ...</td>\n",
       "    </tr>\n",
       "    <tr>\n",
       "      <th>2</th>\n",
       "      <td>dubbo</td>\n",
       "      <td>dubbo-spring-boot</td>\n",
       "      <td>['3D computer graphics', '3D modeling', 'Bayes...</td>\n",
       "      <td>[0.0, 0.0, 0.0, 0.0, 0.0, 0.002485344724677403...</td>\n",
       "    </tr>\n",
       "    <tr>\n",
       "      <th>3</th>\n",
       "      <td>dubbo</td>\n",
       "      <td>dubbo-serialization</td>\n",
       "      <td>['3D computer graphics', '3D modeling', 'Bayes...</td>\n",
       "      <td>[0.0, 0.0, 0.0, 0.0, 0.0, 0.0, 0.1949338529501...</td>\n",
       "    </tr>\n",
       "    <tr>\n",
       "      <th>4</th>\n",
       "      <td>dubbo</td>\n",
       "      <td>dubbo-native</td>\n",
       "      <td>['3D computer graphics', '3D modeling', 'Bayes...</td>\n",
       "      <td>[0.0, 0.0, 0.0, 0.0, 0.0, 0.0, 0.0785512761148...</td>\n",
       "    </tr>\n",
       "    <tr>\n",
       "      <th>...</th>\n",
       "      <td>...</td>\n",
       "      <td>...</td>\n",
       "      <td>...</td>\n",
       "      <td>...</td>\n",
       "    </tr>\n",
       "    <tr>\n",
       "      <th>478</th>\n",
       "      <td>archiva-components</td>\n",
       "      <td>spring-apacheds</td>\n",
       "      <td>['3D computer graphics', '3D modeling', 'Bayes...</td>\n",
       "      <td>[0.0, 0.0, 0.0, 0.0, 0.0, 0.0, 0.1170141864804...</td>\n",
       "    </tr>\n",
       "    <tr>\n",
       "      <th>479</th>\n",
       "      <td>archiva-components</td>\n",
       "      <td>spring-registry</td>\n",
       "      <td>['3D computer graphics', '3D modeling', 'Bayes...</td>\n",
       "      <td>[0.0, 0.0, 0.0, 0.0, 0.0, 0.0, 0.0535558945145...</td>\n",
       "    </tr>\n",
       "    <tr>\n",
       "      <th>480</th>\n",
       "      <td>archiva-components</td>\n",
       "      <td>spring-quartz</td>\n",
       "      <td>['3D computer graphics', '3D modeling', 'Bayes...</td>\n",
       "      <td>[0.0, 0.028540502180797137, 0.0, 0.0, 0.0, 0.0...</td>\n",
       "    </tr>\n",
       "    <tr>\n",
       "      <th>481</th>\n",
       "      <td>archiva-components</td>\n",
       "      <td>rest-util</td>\n",
       "      <td>['3D computer graphics', '3D modeling', 'Bayes...</td>\n",
       "      <td>[0.0, 0.0, 0.0, 0.0, 0.0, 0.04058421758514396,...</td>\n",
       "    </tr>\n",
       "    <tr>\n",
       "      <th>482</th>\n",
       "      <td>archiva-components</td>\n",
       "      <td>graph</td>\n",
       "      <td>['3D computer graphics', '3D modeling', 'Bayes...</td>\n",
       "      <td>[0.0, 0.0, 0.0, 0.0, 0.0, 0.0, 0.0, 0.01627233...</td>\n",
       "    </tr>\n",
       "  </tbody>\n",
       "</table>\n",
       "<p>483 rows × 4 columns</p>\n",
       "</div>"
      ],
      "text/plain": [
       "                project               module   \n",
       "0                 dubbo   dubbo-configcenter  \\\n",
       "1                 dubbo       dubbo-remoting   \n",
       "2                 dubbo    dubbo-spring-boot   \n",
       "3                 dubbo  dubbo-serialization   \n",
       "4                 dubbo         dubbo-native   \n",
       "..                  ...                  ...   \n",
       "478  archiva-components      spring-apacheds   \n",
       "479  archiva-components      spring-registry   \n",
       "480  archiva-components        spring-quartz   \n",
       "481  archiva-components            rest-util   \n",
       "482  archiva-components                graph   \n",
       "\n",
       "                                                labels   \n",
       "0    ['3D computer graphics', '3D modeling', 'Bayes...  \\\n",
       "1    ['3D computer graphics', '3D modeling', 'Bayes...   \n",
       "2    ['3D computer graphics', '3D modeling', 'Bayes...   \n",
       "3    ['3D computer graphics', '3D modeling', 'Bayes...   \n",
       "4    ['3D computer graphics', '3D modeling', 'Bayes...   \n",
       "..                                                 ...   \n",
       "478  ['3D computer graphics', '3D modeling', 'Bayes...   \n",
       "479  ['3D computer graphics', '3D modeling', 'Bayes...   \n",
       "480  ['3D computer graphics', '3D modeling', 'Bayes...   \n",
       "481  ['3D computer graphics', '3D modeling', 'Bayes...   \n",
       "482  ['3D computer graphics', '3D modeling', 'Bayes...   \n",
       "\n",
       "                                          distribution  \n",
       "0    [0.0, 0.0, 0.0, 0.0, 0.0, 0.0, 0.0358421722524...  \n",
       "1    [0.003827634543563279, 0.0007640459047594847, ...  \n",
       "2    [0.0, 0.0, 0.0, 0.0, 0.0, 0.002485344724677403...  \n",
       "3    [0.0, 0.0, 0.0, 0.0, 0.0, 0.0, 0.1949338529501...  \n",
       "4    [0.0, 0.0, 0.0, 0.0, 0.0, 0.0, 0.0785512761148...  \n",
       "..                                                 ...  \n",
       "478  [0.0, 0.0, 0.0, 0.0, 0.0, 0.0, 0.1170141864804...  \n",
       "479  [0.0, 0.0, 0.0, 0.0, 0.0, 0.0, 0.0535558945145...  \n",
       "480  [0.0, 0.028540502180797137, 0.0, 0.0, 0.0, 0.0...  \n",
       "481  [0.0, 0.0, 0.0, 0.0, 0.0, 0.04058421758514396,...  \n",
       "482  [0.0, 0.0, 0.0, 0.0, 0.0, 0.0, 0.0, 0.01627233...  \n",
       "\n",
       "[483 rows x 4 columns]"
      ]
     },
     "execution_count": 2,
     "metadata": {},
     "output_type": "execute_result"
    }
   ],
   "source": [
    "anno_df = pd.read_csv(\"module_annotation.csv\")\n",
    "anno_sub_df = anno_df[[\"labels\", \"distribution\"]]\n",
    "anno_df"
   ]
  },
  {
   "cell_type": "code",
   "execution_count": 3,
   "metadata": {},
   "outputs": [],
   "source": [
    "# unify the project names\n",
    "proj_list_b = list(dict.fromkeys(topics_df['project_name']))\n",
    "proj_list_a = list(dict.fromkeys(anno_df['project']))\n",
    "to_chg = dict(zip(proj_list_a, proj_list_b))\n"
   ]
  },
  {
   "cell_type": "code",
   "execution_count": 4,
   "metadata": {},
   "outputs": [],
   "source": [
    "import ast\n",
    "\n",
    "updated_rows = []\n",
    "\n",
    "for row in anno_sub_df.values:\n",
    "\n",
    "    updated_labels = []\n",
    "    updated_dist = []\n",
    "    this_row = []\n",
    "\n",
    "    labels = row[0]\n",
    "    values = row[1]\n",
    "\n",
    "    labels = ast.literal_eval(labels)\n",
    "    values = ast.literal_eval(values)\n",
    "\n",
    "    for i, l in enumerate(labels):\n",
    "        if float(values[i]) > 0:\n",
    "            this_row.append((l,values[i]))\n",
    "\n",
    "    for vals in this_row:\n",
    "        updated_labels.append(vals[0])\n",
    "        updated_dist.append(vals[1])\n",
    "\n",
    "    updated_rows.append((updated_labels, updated_dist))"
   ]
  },
  {
   "cell_type": "code",
   "execution_count": 5,
   "metadata": {},
   "outputs": [
    {
     "data": {
      "text/html": [
       "<div>\n",
       "<style scoped>\n",
       "    .dataframe tbody tr th:only-of-type {\n",
       "        vertical-align: middle;\n",
       "    }\n",
       "\n",
       "    .dataframe tbody tr th {\n",
       "        vertical-align: top;\n",
       "    }\n",
       "\n",
       "    .dataframe thead th {\n",
       "        text-align: right;\n",
       "    }\n",
       "</style>\n",
       "<table border=\"1\" class=\"dataframe\">\n",
       "  <thead>\n",
       "    <tr style=\"text-align: right;\">\n",
       "      <th></th>\n",
       "      <th>project_name</th>\n",
       "      <th>module</th>\n",
       "      <th>domains</th>\n",
       "      <th>prob_dist</th>\n",
       "    </tr>\n",
       "  </thead>\n",
       "  <tbody>\n",
       "    <tr>\n",
       "      <th>0</th>\n",
       "      <td>01_dubbo</td>\n",
       "      <td>dubbo-configcenter</td>\n",
       "      <td>[File Transfer Protocol, HTTP client, HTTP ser...</td>\n",
       "      <td>[0.035842172252428264, 0.040560328491004986, 0...</td>\n",
       "    </tr>\n",
       "    <tr>\n",
       "      <th>1</th>\n",
       "      <td>01_dubbo</td>\n",
       "      <td>dubbo-remoting</td>\n",
       "      <td>[3D computer graphics, 3D modeling, File Trans...</td>\n",
       "      <td>[0.003827634543563279, 0.0007640459047594847, ...</td>\n",
       "    </tr>\n",
       "    <tr>\n",
       "      <th>2</th>\n",
       "      <td>01_dubbo</td>\n",
       "      <td>dubbo-spring-boot</td>\n",
       "      <td>[DevOps, File Transfer Protocol, HTTP client, ...</td>\n",
       "      <td>[0.0024853447246774036, 0.011500804409850242, ...</td>\n",
       "    </tr>\n",
       "    <tr>\n",
       "      <th>3</th>\n",
       "      <td>01_dubbo</td>\n",
       "      <td>dubbo-serialization</td>\n",
       "      <td>[File Transfer Protocol, HTTP client, HTTP ser...</td>\n",
       "      <td>[0.1949338529501777, 0.014838969973809206, 0.0...</td>\n",
       "    </tr>\n",
       "    <tr>\n",
       "      <th>4</th>\n",
       "      <td>01_dubbo</td>\n",
       "      <td>dubbo-native</td>\n",
       "      <td>[File Transfer Protocol, HTTP client, HTTP ser...</td>\n",
       "      <td>[0.07855127611486389, 0.171984535082097, 0.271...</td>\n",
       "    </tr>\n",
       "    <tr>\n",
       "      <th>...</th>\n",
       "      <td>...</td>\n",
       "      <td>...</td>\n",
       "      <td>...</td>\n",
       "      <td>...</td>\n",
       "    </tr>\n",
       "    <tr>\n",
       "      <th>478</th>\n",
       "      <td>45_archiva-components</td>\n",
       "      <td>spring-apacheds</td>\n",
       "      <td>[File Transfer Protocol, HTTP server, World Wi...</td>\n",
       "      <td>[0.11701418648043749, 0.2335993974088256, 0.05...</td>\n",
       "    </tr>\n",
       "    <tr>\n",
       "      <th>479</th>\n",
       "      <td>45_archiva-components</td>\n",
       "      <td>spring-registry</td>\n",
       "      <td>[File Transfer Protocol, HTTP server, World Wi...</td>\n",
       "      <td>[0.05355589451454959, 0.030031248756518632, 0....</td>\n",
       "    </tr>\n",
       "    <tr>\n",
       "      <th>480</th>\n",
       "      <td>45_archiva-components</td>\n",
       "      <td>spring-quartz</td>\n",
       "      <td>[3D modeling, Web Components, World Wide Web, ...</td>\n",
       "      <td>[0.028540502180797137, 0.014346165183265333, 0...</td>\n",
       "    </tr>\n",
       "    <tr>\n",
       "      <th>481</th>\n",
       "      <td>45_archiva-components</td>\n",
       "      <td>rest-util</td>\n",
       "      <td>[DevOps, World Wide Web, algorithmic trading, ...</td>\n",
       "      <td>[0.04058421758514396, 0.14341622866869835, 0.0...</td>\n",
       "    </tr>\n",
       "    <tr>\n",
       "      <th>482</th>\n",
       "      <td>45_archiva-components</td>\n",
       "      <td>graph</td>\n",
       "      <td>[HTTP client, HTTP server, Image analysis, Web...</td>\n",
       "      <td>[0.016272334340833142, 0.02568102255273687, 0....</td>\n",
       "    </tr>\n",
       "  </tbody>\n",
       "</table>\n",
       "<p>483 rows × 4 columns</p>\n",
       "</div>"
      ],
      "text/plain": [
       "              project_name               module   \n",
       "0                 01_dubbo   dubbo-configcenter  \\\n",
       "1                 01_dubbo       dubbo-remoting   \n",
       "2                 01_dubbo    dubbo-spring-boot   \n",
       "3                 01_dubbo  dubbo-serialization   \n",
       "4                 01_dubbo         dubbo-native   \n",
       "..                     ...                  ...   \n",
       "478  45_archiva-components      spring-apacheds   \n",
       "479  45_archiva-components      spring-registry   \n",
       "480  45_archiva-components        spring-quartz   \n",
       "481  45_archiva-components            rest-util   \n",
       "482  45_archiva-components                graph   \n",
       "\n",
       "                                               domains   \n",
       "0    [File Transfer Protocol, HTTP client, HTTP ser...  \\\n",
       "1    [3D computer graphics, 3D modeling, File Trans...   \n",
       "2    [DevOps, File Transfer Protocol, HTTP client, ...   \n",
       "3    [File Transfer Protocol, HTTP client, HTTP ser...   \n",
       "4    [File Transfer Protocol, HTTP client, HTTP ser...   \n",
       "..                                                 ...   \n",
       "478  [File Transfer Protocol, HTTP server, World Wi...   \n",
       "479  [File Transfer Protocol, HTTP server, World Wi...   \n",
       "480  [3D modeling, Web Components, World Wide Web, ...   \n",
       "481  [DevOps, World Wide Web, algorithmic trading, ...   \n",
       "482  [HTTP client, HTTP server, Image analysis, Web...   \n",
       "\n",
       "                                             prob_dist  \n",
       "0    [0.035842172252428264, 0.040560328491004986, 0...  \n",
       "1    [0.003827634543563279, 0.0007640459047594847, ...  \n",
       "2    [0.0024853447246774036, 0.011500804409850242, ...  \n",
       "3    [0.1949338529501777, 0.014838969973809206, 0.0...  \n",
       "4    [0.07855127611486389, 0.171984535082097, 0.271...  \n",
       "..                                                 ...  \n",
       "478  [0.11701418648043749, 0.2335993974088256, 0.05...  \n",
       "479  [0.05355589451454959, 0.030031248756518632, 0....  \n",
       "480  [0.028540502180797137, 0.014346165183265333, 0...  \n",
       "481  [0.04058421758514396, 0.14341622866869835, 0.0...  \n",
       "482  [0.016272334340833142, 0.02568102255273687, 0....  \n",
       "\n",
       "[483 rows x 4 columns]"
      ]
     },
     "execution_count": 5,
     "metadata": {},
     "output_type": "execute_result"
    }
   ],
   "source": [
    "updated_anno_df = pd.concat([anno_df, pd.DataFrame(updated_rows, columns=[\"domains\", \"prob_dist\"])], axis=1).drop(columns=[\"labels\",\"distribution\"])\n",
    "updated_anno_df['project_name'] = updated_anno_df['project'].apply(lambda x: to_chg[x])\n",
    "updated_anno_df['module'] = updated_anno_df['module'].str.replace(\"modules\", \"modules\\\\vfs-class-loader\")\n",
    "updated_anno_df = updated_anno_df[['project_name', 'module', 'domains', 'prob_dist']]\n",
    "updated_anno_df"
   ]
  },
  {
   "cell_type": "code",
   "execution_count": 6,
   "metadata": {},
   "outputs": [
    {
     "name": "stdout",
     "output_type": "stream",
     "text": [
      "<class 'pandas.core.frame.DataFrame'>\n",
      "RangeIndex: 483 entries, 0 to 482\n",
      "Data columns (total 4 columns):\n",
      " #   Column        Non-Null Count  Dtype \n",
      "---  ------        --------------  ----- \n",
      " 0   project_name  483 non-null    object\n",
      " 1   module        483 non-null    object\n",
      " 2   domains       483 non-null    object\n",
      " 3   prob_dist     483 non-null    object\n",
      "dtypes: object(4)\n",
      "memory usage: 15.2+ KB\n"
     ]
    }
   ],
   "source": [
    "updated_anno_df.info()"
   ]
  },
  {
   "cell_type": "code",
   "execution_count": 7,
   "metadata": {},
   "outputs": [
    {
     "data": {
      "text/html": [
       "<div>\n",
       "<style scoped>\n",
       "    .dataframe tbody tr th:only-of-type {\n",
       "        vertical-align: middle;\n",
       "    }\n",
       "\n",
       "    .dataframe tbody tr th {\n",
       "        vertical-align: top;\n",
       "    }\n",
       "\n",
       "    .dataframe thead th {\n",
       "        text-align: right;\n",
       "    }\n",
       "</style>\n",
       "<table border=\"1\" class=\"dataframe\">\n",
       "  <thead>\n",
       "    <tr style=\"text-align: right;\">\n",
       "      <th></th>\n",
       "      <th>project_name</th>\n",
       "      <th>module</th>\n",
       "      <th>code_num_topics</th>\n",
       "      <th>test_num_topics</th>\n",
       "      <th>code_shown_topics</th>\n",
       "      <th>code_topics</th>\n",
       "      <th>test_shown_topics</th>\n",
       "      <th>test_topics</th>\n",
       "      <th>doc_num_topics</th>\n",
       "      <th>doc_shown_topics</th>\n",
       "      <th>doc_topics</th>\n",
       "      <th>domains</th>\n",
       "      <th>prob_dist</th>\n",
       "    </tr>\n",
       "  </thead>\n",
       "  <tbody>\n",
       "    <tr>\n",
       "      <th>0</th>\n",
       "      <td>01_dubbo</td>\n",
       "      <td>dubbo-cluster</td>\n",
       "      <td>9</td>\n",
       "      <td>6</td>\n",
       "      <td>[(0, [('merger', 0.11644696), ('model', 0.0760...</td>\n",
       "      <td>[['merger', 'model', 'scope', 'aware', 'end', ...</td>\n",
       "      <td>[(0, [('invoker', 0.10217771), ('hello', 0.059...</td>\n",
       "      <td>[['invoker', 'hello', 'menu', 'service', 'load...</td>\n",
       "      <td>8</td>\n",
       "      <td>[(0, [('service', 0.005111123), ('see', 0.0051...</td>\n",
       "      <td>[['service', 'see', 'issue', 'sample', 'projec...</td>\n",
       "      <td>[Bayesian inference, Containerization, File Tr...</td>\n",
       "      <td>[0.0006186695022802121, 0.001075709038256659, ...</td>\n",
       "    </tr>\n",
       "    <tr>\n",
       "      <th>1</th>\n",
       "      <td>01_dubbo</td>\n",
       "      <td>dubbo-common</td>\n",
       "      <td>9</td>\n",
       "      <td>9</td>\n",
       "      <td>[(0, [('map', 0.071077), ('extension', 0.05852...</td>\n",
       "      <td>[['map', 'extension', 'loader', 'property', 'm...</td>\n",
       "      <td>[(0, [('address', 0.07335682), ('country', 0.0...</td>\n",
       "      <td>[['address', 'country', 'phone', 'full', 'size...</td>\n",
       "      <td>8</td>\n",
       "      <td>[(0, [('service', 0.005111123), ('see', 0.0051...</td>\n",
       "      <td>[['service', 'see', 'issue', 'sample', 'projec...</td>\n",
       "      <td>[3D computer graphics, 3D modeling, Bidirectio...</td>\n",
       "      <td>[0.00022489652756263503, 0.019850776647796192,...</td>\n",
       "    </tr>\n",
       "    <tr>\n",
       "      <th>2</th>\n",
       "      <td>01_dubbo</td>\n",
       "      <td>dubbo-compatible</td>\n",
       "      <td>8</td>\n",
       "      <td>9</td>\n",
       "      <td>[(0, [('invocation', 0.17978409), ('invoker', ...</td>\n",
       "      <td>[['invocation', 'invoker', 'attachment', 'argu...</td>\n",
       "      <td>[(0, [('consumer', 0.08403326), ('service', 0....</td>\n",
       "      <td>[['consumer', 'service', 'argument', 'applicat...</td>\n",
       "      <td>8</td>\n",
       "      <td>[(0, [('service', 0.005111123), ('see', 0.0051...</td>\n",
       "      <td>[['service', 'see', 'issue', 'sample', 'projec...</td>\n",
       "      <td>[Bayesian inference, File Transfer Protocol, H...</td>\n",
       "      <td>[0.0014187991538512738, 0.040202071048378446, ...</td>\n",
       "    </tr>\n",
       "    <tr>\n",
       "      <th>3</th>\n",
       "      <td>01_dubbo</td>\n",
       "      <td>dubbo-config</td>\n",
       "      <td>7</td>\n",
       "      <td>8</td>\n",
       "      <td>[(0, [('application', 0.19198503), ('model', 0...</td>\n",
       "      <td>[['application', 'model', 'module', 'context',...</td>\n",
       "      <td>[(0, [('box', 0.0995611), ('service', 0.097135...</td>\n",
       "      <td>[['box', 'service', 'demo', 'user', 'say', 'im...</td>\n",
       "      <td>8</td>\n",
       "      <td>[(0, [('service', 0.005111123), ('see', 0.0051...</td>\n",
       "      <td>[['service', 'see', 'issue', 'sample', 'projec...</td>\n",
       "      <td>[3D modeling, Bayesian inference, Containeriza...</td>\n",
       "      <td>[0.005673695513894933, 0.0016755344658510142, ...</td>\n",
       "    </tr>\n",
       "    <tr>\n",
       "      <th>4</th>\n",
       "      <td>01_dubbo</td>\n",
       "      <td>dubbo-configcenter</td>\n",
       "      <td>6</td>\n",
       "      <td>7</td>\n",
       "      <td>[(0, [('dynamic', 0.2249236), ('factory', 0.12...</td>\n",
       "      <td>[['dynamic', 'factory', 'url', 'zookeeper', 'a...</td>\n",
       "      <td>[(0, [('namespace', 0.01471425), ('map', 0.014...</td>\n",
       "      <td>[['namespace', 'map', 'context', 'mock', 'prop...</td>\n",
       "      <td>8</td>\n",
       "      <td>[(0, [('service', 0.005111123), ('see', 0.0051...</td>\n",
       "      <td>[['service', 'see', 'issue', 'sample', 'projec...</td>\n",
       "      <td>[File Transfer Protocol, HTTP client, HTTP ser...</td>\n",
       "      <td>[0.035842172252428264, 0.040560328491004986, 0...</td>\n",
       "    </tr>\n",
       "    <tr>\n",
       "      <th>...</th>\n",
       "      <td>...</td>\n",
       "      <td>...</td>\n",
       "      <td>...</td>\n",
       "      <td>...</td>\n",
       "      <td>...</td>\n",
       "      <td>...</td>\n",
       "      <td>...</td>\n",
       "      <td>...</td>\n",
       "      <td>...</td>\n",
       "      <td>...</td>\n",
       "      <td>...</td>\n",
       "      <td>...</td>\n",
       "      <td>...</td>\n",
       "    </tr>\n",
       "    <tr>\n",
       "      <th>308</th>\n",
       "      <td>45_archiva-components</td>\n",
       "      <td>spring-apacheds</td>\n",
       "      <td>9</td>\n",
       "      <td>1</td>\n",
       "      <td>[(0, [('partition', 0.038462438), ('context', ...</td>\n",
       "      <td>[['partition', 'context', 'password', 'port', ...</td>\n",
       "      <td>[(0, [('context', 0.21739134), ('create', 0.13...</td>\n",
       "      <td>[['context', 'create', 'dir', 'attribute', 'ba...</td>\n",
       "      <td>8</td>\n",
       "      <td>[(0, [('publish', 0.008338352), ('mvn', 0.0083...</td>\n",
       "      <td>[['publish', 'mvn', 'repository', 'checkout', ...</td>\n",
       "      <td>[File Transfer Protocol, HTTP server, World Wi...</td>\n",
       "      <td>[0.11701418648043749, 0.2335993974088256, 0.05...</td>\n",
       "    </tr>\n",
       "    <tr>\n",
       "      <th>309</th>\n",
       "      <td>45_archiva-components</td>\n",
       "      <td>spring-cache</td>\n",
       "      <td>6</td>\n",
       "      <td>3</td>\n",
       "      <td>[(0, [('cache', 0.3110731), ('creator', 0.1051...</td>\n",
       "      <td>[['cache', 'creator', 'hint', 'factory', 'key'...</td>\n",
       "      <td>[(0, [('cache', 0.3525324), ('refre', 0.102800...</td>\n",
       "      <td>[['cache', 'refre', 'wine', 'second', 'never',...</td>\n",
       "      <td>8</td>\n",
       "      <td>[(0, [('publish', 0.008338352), ('mvn', 0.0083...</td>\n",
       "      <td>[['publish', 'mvn', 'repository', 'checkout', ...</td>\n",
       "      <td>[3D modeling, File Transfer Protocol, HTTP ser...</td>\n",
       "      <td>[0.004910765950067891, 0.020708469498936777, 0...</td>\n",
       "    </tr>\n",
       "    <tr>\n",
       "      <th>310</th>\n",
       "      <td>45_archiva-components</td>\n",
       "      <td>spring-quartz</td>\n",
       "      <td>8</td>\n",
       "      <td>4</td>\n",
       "      <td>[(0, [('job', 0.29270846), ('context', 0.07773...</td>\n",
       "      <td>[['job', 'context', 'execution', 'map', 'liste...</td>\n",
       "      <td>[(0, [('job', 0.24515942), ('context', 0.16984...</td>\n",
       "      <td>[['job', 'context', 'one', 'execution', 'execu...</td>\n",
       "      <td>8</td>\n",
       "      <td>[(0, [('publish', 0.008338352), ('mvn', 0.0083...</td>\n",
       "      <td>[['publish', 'mvn', 'repository', 'checkout', ...</td>\n",
       "      <td>[3D modeling, Web Components, World Wide Web, ...</td>\n",
       "      <td>[0.028540502180797137, 0.014346165183265333, 0...</td>\n",
       "    </tr>\n",
       "    <tr>\n",
       "      <th>311</th>\n",
       "      <td>45_archiva-components</td>\n",
       "      <td>spring-registry</td>\n",
       "      <td>9</td>\n",
       "      <td>6</td>\n",
       "      <td>[(0, [('key', 0.1410248), ('registry', 0.08333...</td>\n",
       "      <td>[['key', 'registry', 'builder', 'add', 'save',...</td>\n",
       "      <td>[(0, [('registry', 0.024453199), ('property', ...</td>\n",
       "      <td>[['registry', 'property', 'change', 'event', '...</td>\n",
       "      <td>8</td>\n",
       "      <td>[(0, [('publish', 0.008338352), ('mvn', 0.0083...</td>\n",
       "      <td>[['publish', 'mvn', 'repository', 'checkout', ...</td>\n",
       "      <td>[File Transfer Protocol, HTTP server, World Wi...</td>\n",
       "      <td>[0.05355589451454959, 0.030031248756518632, 0....</td>\n",
       "    </tr>\n",
       "    <tr>\n",
       "      <th>312</th>\n",
       "      <td>45_archiva-components</td>\n",
       "      <td>spring-taskqueue</td>\n",
       "      <td>3</td>\n",
       "      <td>5</td>\n",
       "      <td>[(0, [('task', 0.33837277), ('evaluator', 0.12...</td>\n",
       "      <td>[['task', 'evaluator', 'queue', 'executor', 'e...</td>\n",
       "      <td>[(0, [('task', 0.32901022), ('evaluator', 0.10...</td>\n",
       "      <td>[['task', 'evaluator', 'evaluate', 'project', ...</td>\n",
       "      <td>8</td>\n",
       "      <td>[(0, [('publish', 0.008338352), ('mvn', 0.0083...</td>\n",
       "      <td>[['publish', 'mvn', 'repository', 'checkout', ...</td>\n",
       "      <td>[HTTP client, HTTP server, Web Components, Wor...</td>\n",
       "      <td>[0.024542570908181953, 0.021938531171453578, 0...</td>\n",
       "    </tr>\n",
       "  </tbody>\n",
       "</table>\n",
       "<p>313 rows × 13 columns</p>\n",
       "</div>"
      ],
      "text/plain": [
       "              project_name              module  code_num_topics   \n",
       "0                 01_dubbo       dubbo-cluster                9  \\\n",
       "1                 01_dubbo        dubbo-common                9   \n",
       "2                 01_dubbo    dubbo-compatible                8   \n",
       "3                 01_dubbo        dubbo-config                7   \n",
       "4                 01_dubbo  dubbo-configcenter                6   \n",
       "..                     ...                 ...              ...   \n",
       "308  45_archiva-components     spring-apacheds                9   \n",
       "309  45_archiva-components        spring-cache                6   \n",
       "310  45_archiva-components       spring-quartz                8   \n",
       "311  45_archiva-components     spring-registry                9   \n",
       "312  45_archiva-components    spring-taskqueue                3   \n",
       "\n",
       "     test_num_topics                                  code_shown_topics   \n",
       "0                  6  [(0, [('merger', 0.11644696), ('model', 0.0760...  \\\n",
       "1                  9  [(0, [('map', 0.071077), ('extension', 0.05852...   \n",
       "2                  9  [(0, [('invocation', 0.17978409), ('invoker', ...   \n",
       "3                  8  [(0, [('application', 0.19198503), ('model', 0...   \n",
       "4                  7  [(0, [('dynamic', 0.2249236), ('factory', 0.12...   \n",
       "..               ...                                                ...   \n",
       "308                1  [(0, [('partition', 0.038462438), ('context', ...   \n",
       "309                3  [(0, [('cache', 0.3110731), ('creator', 0.1051...   \n",
       "310                4  [(0, [('job', 0.29270846), ('context', 0.07773...   \n",
       "311                6  [(0, [('key', 0.1410248), ('registry', 0.08333...   \n",
       "312                5  [(0, [('task', 0.33837277), ('evaluator', 0.12...   \n",
       "\n",
       "                                           code_topics   \n",
       "0    [['merger', 'model', 'scope', 'aware', 'end', ...  \\\n",
       "1    [['map', 'extension', 'loader', 'property', 'm...   \n",
       "2    [['invocation', 'invoker', 'attachment', 'argu...   \n",
       "3    [['application', 'model', 'module', 'context',...   \n",
       "4    [['dynamic', 'factory', 'url', 'zookeeper', 'a...   \n",
       "..                                                 ...   \n",
       "308  [['partition', 'context', 'password', 'port', ...   \n",
       "309  [['cache', 'creator', 'hint', 'factory', 'key'...   \n",
       "310  [['job', 'context', 'execution', 'map', 'liste...   \n",
       "311  [['key', 'registry', 'builder', 'add', 'save',...   \n",
       "312  [['task', 'evaluator', 'queue', 'executor', 'e...   \n",
       "\n",
       "                                     test_shown_topics   \n",
       "0    [(0, [('invoker', 0.10217771), ('hello', 0.059...  \\\n",
       "1    [(0, [('address', 0.07335682), ('country', 0.0...   \n",
       "2    [(0, [('consumer', 0.08403326), ('service', 0....   \n",
       "3    [(0, [('box', 0.0995611), ('service', 0.097135...   \n",
       "4    [(0, [('namespace', 0.01471425), ('map', 0.014...   \n",
       "..                                                 ...   \n",
       "308  [(0, [('context', 0.21739134), ('create', 0.13...   \n",
       "309  [(0, [('cache', 0.3525324), ('refre', 0.102800...   \n",
       "310  [(0, [('job', 0.24515942), ('context', 0.16984...   \n",
       "311  [(0, [('registry', 0.024453199), ('property', ...   \n",
       "312  [(0, [('task', 0.32901022), ('evaluator', 0.10...   \n",
       "\n",
       "                                           test_topics  doc_num_topics   \n",
       "0    [['invoker', 'hello', 'menu', 'service', 'load...               8  \\\n",
       "1    [['address', 'country', 'phone', 'full', 'size...               8   \n",
       "2    [['consumer', 'service', 'argument', 'applicat...               8   \n",
       "3    [['box', 'service', 'demo', 'user', 'say', 'im...               8   \n",
       "4    [['namespace', 'map', 'context', 'mock', 'prop...               8   \n",
       "..                                                 ...             ...   \n",
       "308  [['context', 'create', 'dir', 'attribute', 'ba...               8   \n",
       "309  [['cache', 'refre', 'wine', 'second', 'never',...               8   \n",
       "310  [['job', 'context', 'one', 'execution', 'execu...               8   \n",
       "311  [['registry', 'property', 'change', 'event', '...               8   \n",
       "312  [['task', 'evaluator', 'evaluate', 'project', ...               8   \n",
       "\n",
       "                                      doc_shown_topics   \n",
       "0    [(0, [('service', 0.005111123), ('see', 0.0051...  \\\n",
       "1    [(0, [('service', 0.005111123), ('see', 0.0051...   \n",
       "2    [(0, [('service', 0.005111123), ('see', 0.0051...   \n",
       "3    [(0, [('service', 0.005111123), ('see', 0.0051...   \n",
       "4    [(0, [('service', 0.005111123), ('see', 0.0051...   \n",
       "..                                                 ...   \n",
       "308  [(0, [('publish', 0.008338352), ('mvn', 0.0083...   \n",
       "309  [(0, [('publish', 0.008338352), ('mvn', 0.0083...   \n",
       "310  [(0, [('publish', 0.008338352), ('mvn', 0.0083...   \n",
       "311  [(0, [('publish', 0.008338352), ('mvn', 0.0083...   \n",
       "312  [(0, [('publish', 0.008338352), ('mvn', 0.0083...   \n",
       "\n",
       "                                            doc_topics   \n",
       "0    [['service', 'see', 'issue', 'sample', 'projec...  \\\n",
       "1    [['service', 'see', 'issue', 'sample', 'projec...   \n",
       "2    [['service', 'see', 'issue', 'sample', 'projec...   \n",
       "3    [['service', 'see', 'issue', 'sample', 'projec...   \n",
       "4    [['service', 'see', 'issue', 'sample', 'projec...   \n",
       "..                                                 ...   \n",
       "308  [['publish', 'mvn', 'repository', 'checkout', ...   \n",
       "309  [['publish', 'mvn', 'repository', 'checkout', ...   \n",
       "310  [['publish', 'mvn', 'repository', 'checkout', ...   \n",
       "311  [['publish', 'mvn', 'repository', 'checkout', ...   \n",
       "312  [['publish', 'mvn', 'repository', 'checkout', ...   \n",
       "\n",
       "                                               domains   \n",
       "0    [Bayesian inference, Containerization, File Tr...  \\\n",
       "1    [3D computer graphics, 3D modeling, Bidirectio...   \n",
       "2    [Bayesian inference, File Transfer Protocol, H...   \n",
       "3    [3D modeling, Bayesian inference, Containeriza...   \n",
       "4    [File Transfer Protocol, HTTP client, HTTP ser...   \n",
       "..                                                 ...   \n",
       "308  [File Transfer Protocol, HTTP server, World Wi...   \n",
       "309  [3D modeling, File Transfer Protocol, HTTP ser...   \n",
       "310  [3D modeling, Web Components, World Wide Web, ...   \n",
       "311  [File Transfer Protocol, HTTP server, World Wi...   \n",
       "312  [HTTP client, HTTP server, Web Components, Wor...   \n",
       "\n",
       "                                             prob_dist  \n",
       "0    [0.0006186695022802121, 0.001075709038256659, ...  \n",
       "1    [0.00022489652756263503, 0.019850776647796192,...  \n",
       "2    [0.0014187991538512738, 0.040202071048378446, ...  \n",
       "3    [0.005673695513894933, 0.0016755344658510142, ...  \n",
       "4    [0.035842172252428264, 0.040560328491004986, 0...  \n",
       "..                                                 ...  \n",
       "308  [0.11701418648043749, 0.2335993974088256, 0.05...  \n",
       "309  [0.004910765950067891, 0.020708469498936777, 0...  \n",
       "310  [0.028540502180797137, 0.014346165183265333, 0...  \n",
       "311  [0.05355589451454959, 0.030031248756518632, 0....  \n",
       "312  [0.024542570908181953, 0.021938531171453578, 0...  \n",
       "\n",
       "[313 rows x 13 columns]"
      ]
     },
     "execution_count": 7,
     "metadata": {},
     "output_type": "execute_result"
    }
   ],
   "source": [
    "module_df = topics_df.merge(updated_anno_df, on=['project_name', 'module'])\n",
    "module_df"
   ]
  },
  {
   "cell_type": "code",
   "execution_count": 8,
   "metadata": {},
   "outputs": [
    {
     "data": {
      "text/html": [
       "<div>\n",
       "<style scoped>\n",
       "    .dataframe tbody tr th:only-of-type {\n",
       "        vertical-align: middle;\n",
       "    }\n",
       "\n",
       "    .dataframe tbody tr th {\n",
       "        vertical-align: top;\n",
       "    }\n",
       "\n",
       "    .dataframe thead th {\n",
       "        text-align: right;\n",
       "    }\n",
       "</style>\n",
       "<table border=\"1\" class=\"dataframe\">\n",
       "  <thead>\n",
       "    <tr style=\"text-align: right;\">\n",
       "      <th></th>\n",
       "      <th>project_name</th>\n",
       "      <th>module</th>\n",
       "      <th>code_num_topics</th>\n",
       "      <th>test_num_topics</th>\n",
       "      <th>code_shown_topics</th>\n",
       "      <th>code_topics</th>\n",
       "      <th>test_shown_topics</th>\n",
       "      <th>test_topics</th>\n",
       "      <th>doc_num_topics</th>\n",
       "      <th>doc_shown_topics</th>\n",
       "      <th>doc_topics</th>\n",
       "      <th>domains</th>\n",
       "      <th>prob_dist</th>\n",
       "    </tr>\n",
       "  </thead>\n",
       "  <tbody>\n",
       "    <tr>\n",
       "      <th>0</th>\n",
       "      <td>01_dubbo</td>\n",
       "      <td>dubbo-cluster</td>\n",
       "      <td>9</td>\n",
       "      <td>6</td>\n",
       "      <td>[(0, [('merger', 0.11644696), ('model', 0.0760...</td>\n",
       "      <td>[['merger', 'model', 'scope', 'aware', 'end', ...</td>\n",
       "      <td>[(0, [('invoker', 0.10217771), ('hello', 0.059...</td>\n",
       "      <td>[['invoker', 'hello', 'menu', 'service', 'load...</td>\n",
       "      <td>8</td>\n",
       "      <td>[(0, [('service', 0.005111123), ('see', 0.0051...</td>\n",
       "      <td>[['service', 'see', 'issue', 'sample', 'projec...</td>\n",
       "      <td>[Bayesian inference, Containerization, File Tr...</td>\n",
       "      <td>[0.0006186695022802121, 0.001075709038256659, ...</td>\n",
       "    </tr>\n",
       "    <tr>\n",
       "      <th>1</th>\n",
       "      <td>01_dubbo</td>\n",
       "      <td>dubbo-common</td>\n",
       "      <td>9</td>\n",
       "      <td>9</td>\n",
       "      <td>[(0, [('map', 0.071077), ('extension', 0.05852...</td>\n",
       "      <td>[['map', 'extension', 'loader', 'property', 'm...</td>\n",
       "      <td>[(0, [('address', 0.07335682), ('country', 0.0...</td>\n",
       "      <td>[['address', 'country', 'phone', 'full', 'size...</td>\n",
       "      <td>8</td>\n",
       "      <td>[(0, [('service', 0.005111123), ('see', 0.0051...</td>\n",
       "      <td>[['service', 'see', 'issue', 'sample', 'projec...</td>\n",
       "      <td>[3D computer graphics, 3D modeling, Bidirectio...</td>\n",
       "      <td>[0.00022489652756263503, 0.019850776647796192,...</td>\n",
       "    </tr>\n",
       "    <tr>\n",
       "      <th>2</th>\n",
       "      <td>01_dubbo</td>\n",
       "      <td>dubbo-compatible</td>\n",
       "      <td>8</td>\n",
       "      <td>9</td>\n",
       "      <td>[(0, [('invocation', 0.17978409), ('invoker', ...</td>\n",
       "      <td>[['invocation', 'invoker', 'attachment', 'argu...</td>\n",
       "      <td>[(0, [('consumer', 0.08403326), ('service', 0....</td>\n",
       "      <td>[['consumer', 'service', 'argument', 'applicat...</td>\n",
       "      <td>8</td>\n",
       "      <td>[(0, [('service', 0.005111123), ('see', 0.0051...</td>\n",
       "      <td>[['service', 'see', 'issue', 'sample', 'projec...</td>\n",
       "      <td>[Bayesian inference, File Transfer Protocol, H...</td>\n",
       "      <td>[0.0014187991538512738, 0.040202071048378446, ...</td>\n",
       "    </tr>\n",
       "    <tr>\n",
       "      <th>3</th>\n",
       "      <td>01_dubbo</td>\n",
       "      <td>dubbo-config</td>\n",
       "      <td>7</td>\n",
       "      <td>8</td>\n",
       "      <td>[(0, [('application', 0.19198503), ('model', 0...</td>\n",
       "      <td>[['application', 'model', 'module', 'context',...</td>\n",
       "      <td>[(0, [('box', 0.0995611), ('service', 0.097135...</td>\n",
       "      <td>[['box', 'service', 'demo', 'user', 'say', 'im...</td>\n",
       "      <td>8</td>\n",
       "      <td>[(0, [('service', 0.005111123), ('see', 0.0051...</td>\n",
       "      <td>[['service', 'see', 'issue', 'sample', 'projec...</td>\n",
       "      <td>[3D modeling, Bayesian inference, Containeriza...</td>\n",
       "      <td>[0.005673695513894933, 0.0016755344658510142, ...</td>\n",
       "    </tr>\n",
       "    <tr>\n",
       "      <th>4</th>\n",
       "      <td>01_dubbo</td>\n",
       "      <td>dubbo-configcenter</td>\n",
       "      <td>6</td>\n",
       "      <td>7</td>\n",
       "      <td>[(0, [('dynamic', 0.2249236), ('factory', 0.12...</td>\n",
       "      <td>[['dynamic', 'factory', 'url', 'zookeeper', 'a...</td>\n",
       "      <td>[(0, [('namespace', 0.01471425), ('map', 0.014...</td>\n",
       "      <td>[['namespace', 'map', 'context', 'mock', 'prop...</td>\n",
       "      <td>8</td>\n",
       "      <td>[(0, [('service', 0.005111123), ('see', 0.0051...</td>\n",
       "      <td>[['service', 'see', 'issue', 'sample', 'projec...</td>\n",
       "      <td>[File Transfer Protocol, HTTP client, HTTP ser...</td>\n",
       "      <td>[0.035842172252428264, 0.040560328491004986, 0...</td>\n",
       "    </tr>\n",
       "  </tbody>\n",
       "</table>\n",
       "</div>"
      ],
      "text/plain": [
       "  project_name              module  code_num_topics  test_num_topics   \n",
       "0     01_dubbo       dubbo-cluster                9                6  \\\n",
       "1     01_dubbo        dubbo-common                9                9   \n",
       "2     01_dubbo    dubbo-compatible                8                9   \n",
       "3     01_dubbo        dubbo-config                7                8   \n",
       "4     01_dubbo  dubbo-configcenter                6                7   \n",
       "\n",
       "                                   code_shown_topics   \n",
       "0  [(0, [('merger', 0.11644696), ('model', 0.0760...  \\\n",
       "1  [(0, [('map', 0.071077), ('extension', 0.05852...   \n",
       "2  [(0, [('invocation', 0.17978409), ('invoker', ...   \n",
       "3  [(0, [('application', 0.19198503), ('model', 0...   \n",
       "4  [(0, [('dynamic', 0.2249236), ('factory', 0.12...   \n",
       "\n",
       "                                         code_topics   \n",
       "0  [['merger', 'model', 'scope', 'aware', 'end', ...  \\\n",
       "1  [['map', 'extension', 'loader', 'property', 'm...   \n",
       "2  [['invocation', 'invoker', 'attachment', 'argu...   \n",
       "3  [['application', 'model', 'module', 'context',...   \n",
       "4  [['dynamic', 'factory', 'url', 'zookeeper', 'a...   \n",
       "\n",
       "                                   test_shown_topics   \n",
       "0  [(0, [('invoker', 0.10217771), ('hello', 0.059...  \\\n",
       "1  [(0, [('address', 0.07335682), ('country', 0.0...   \n",
       "2  [(0, [('consumer', 0.08403326), ('service', 0....   \n",
       "3  [(0, [('box', 0.0995611), ('service', 0.097135...   \n",
       "4  [(0, [('namespace', 0.01471425), ('map', 0.014...   \n",
       "\n",
       "                                         test_topics  doc_num_topics   \n",
       "0  [['invoker', 'hello', 'menu', 'service', 'load...               8  \\\n",
       "1  [['address', 'country', 'phone', 'full', 'size...               8   \n",
       "2  [['consumer', 'service', 'argument', 'applicat...               8   \n",
       "3  [['box', 'service', 'demo', 'user', 'say', 'im...               8   \n",
       "4  [['namespace', 'map', 'context', 'mock', 'prop...               8   \n",
       "\n",
       "                                    doc_shown_topics   \n",
       "0  [(0, [('service', 0.005111123), ('see', 0.0051...  \\\n",
       "1  [(0, [('service', 0.005111123), ('see', 0.0051...   \n",
       "2  [(0, [('service', 0.005111123), ('see', 0.0051...   \n",
       "3  [(0, [('service', 0.005111123), ('see', 0.0051...   \n",
       "4  [(0, [('service', 0.005111123), ('see', 0.0051...   \n",
       "\n",
       "                                          doc_topics   \n",
       "0  [['service', 'see', 'issue', 'sample', 'projec...  \\\n",
       "1  [['service', 'see', 'issue', 'sample', 'projec...   \n",
       "2  [['service', 'see', 'issue', 'sample', 'projec...   \n",
       "3  [['service', 'see', 'issue', 'sample', 'projec...   \n",
       "4  [['service', 'see', 'issue', 'sample', 'projec...   \n",
       "\n",
       "                                             domains   \n",
       "0  [Bayesian inference, Containerization, File Tr...  \\\n",
       "1  [3D computer graphics, 3D modeling, Bidirectio...   \n",
       "2  [Bayesian inference, File Transfer Protocol, H...   \n",
       "3  [3D modeling, Bayesian inference, Containeriza...   \n",
       "4  [File Transfer Protocol, HTTP client, HTTP ser...   \n",
       "\n",
       "                                           prob_dist  \n",
       "0  [0.0006186695022802121, 0.001075709038256659, ...  \n",
       "1  [0.00022489652756263503, 0.019850776647796192,...  \n",
       "2  [0.0014187991538512738, 0.040202071048378446, ...  \n",
       "3  [0.005673695513894933, 0.0016755344658510142, ...  \n",
       "4  [0.035842172252428264, 0.040560328491004986, 0...  "
      ]
     },
     "execution_count": 8,
     "metadata": {},
     "output_type": "execute_result"
    }
   ],
   "source": [
    "module_df[:5]"
   ]
  },
  {
   "cell_type": "code",
   "execution_count": 9,
   "metadata": {},
   "outputs": [
    {
     "data": {
      "text/html": [
       "<div>\n",
       "<style scoped>\n",
       "    .dataframe tbody tr th:only-of-type {\n",
       "        vertical-align: middle;\n",
       "    }\n",
       "\n",
       "    .dataframe tbody tr th {\n",
       "        vertical-align: top;\n",
       "    }\n",
       "\n",
       "    .dataframe thead th {\n",
       "        text-align: right;\n",
       "    }\n",
       "</style>\n",
       "<table border=\"1\" class=\"dataframe\">\n",
       "  <thead>\n",
       "    <tr style=\"text-align: right;\">\n",
       "      <th></th>\n",
       "      <th>project_name</th>\n",
       "      <th>module</th>\n",
       "      <th>code_num_topics</th>\n",
       "      <th>test_num_topics</th>\n",
       "      <th>code_shown_topics</th>\n",
       "      <th>code_topics</th>\n",
       "      <th>test_shown_topics</th>\n",
       "      <th>test_topics</th>\n",
       "      <th>doc_num_topics</th>\n",
       "      <th>doc_shown_topics</th>\n",
       "      <th>doc_topics</th>\n",
       "      <th>domains</th>\n",
       "      <th>prob_dist</th>\n",
       "    </tr>\n",
       "  </thead>\n",
       "  <tbody>\n",
       "    <tr>\n",
       "      <th>308</th>\n",
       "      <td>45_archiva-components</td>\n",
       "      <td>spring-apacheds</td>\n",
       "      <td>9</td>\n",
       "      <td>1</td>\n",
       "      <td>[(0, [('partition', 0.038462438), ('context', ...</td>\n",
       "      <td>[['partition', 'context', 'password', 'port', ...</td>\n",
       "      <td>[(0, [('context', 0.21739134), ('create', 0.13...</td>\n",
       "      <td>[['context', 'create', 'dir', 'attribute', 'ba...</td>\n",
       "      <td>8</td>\n",
       "      <td>[(0, [('publish', 0.008338352), ('mvn', 0.0083...</td>\n",
       "      <td>[['publish', 'mvn', 'repository', 'checkout', ...</td>\n",
       "      <td>[File Transfer Protocol, HTTP server, World Wi...</td>\n",
       "      <td>[0.11701418648043749, 0.2335993974088256, 0.05...</td>\n",
       "    </tr>\n",
       "    <tr>\n",
       "      <th>309</th>\n",
       "      <td>45_archiva-components</td>\n",
       "      <td>spring-cache</td>\n",
       "      <td>6</td>\n",
       "      <td>3</td>\n",
       "      <td>[(0, [('cache', 0.3110731), ('creator', 0.1051...</td>\n",
       "      <td>[['cache', 'creator', 'hint', 'factory', 'key'...</td>\n",
       "      <td>[(0, [('cache', 0.3525324), ('refre', 0.102800...</td>\n",
       "      <td>[['cache', 'refre', 'wine', 'second', 'never',...</td>\n",
       "      <td>8</td>\n",
       "      <td>[(0, [('publish', 0.008338352), ('mvn', 0.0083...</td>\n",
       "      <td>[['publish', 'mvn', 'repository', 'checkout', ...</td>\n",
       "      <td>[3D modeling, File Transfer Protocol, HTTP ser...</td>\n",
       "      <td>[0.004910765950067891, 0.020708469498936777, 0...</td>\n",
       "    </tr>\n",
       "    <tr>\n",
       "      <th>310</th>\n",
       "      <td>45_archiva-components</td>\n",
       "      <td>spring-quartz</td>\n",
       "      <td>8</td>\n",
       "      <td>4</td>\n",
       "      <td>[(0, [('job', 0.29270846), ('context', 0.07773...</td>\n",
       "      <td>[['job', 'context', 'execution', 'map', 'liste...</td>\n",
       "      <td>[(0, [('job', 0.24515942), ('context', 0.16984...</td>\n",
       "      <td>[['job', 'context', 'one', 'execution', 'execu...</td>\n",
       "      <td>8</td>\n",
       "      <td>[(0, [('publish', 0.008338352), ('mvn', 0.0083...</td>\n",
       "      <td>[['publish', 'mvn', 'repository', 'checkout', ...</td>\n",
       "      <td>[3D modeling, Web Components, World Wide Web, ...</td>\n",
       "      <td>[0.028540502180797137, 0.014346165183265333, 0...</td>\n",
       "    </tr>\n",
       "    <tr>\n",
       "      <th>311</th>\n",
       "      <td>45_archiva-components</td>\n",
       "      <td>spring-registry</td>\n",
       "      <td>9</td>\n",
       "      <td>6</td>\n",
       "      <td>[(0, [('key', 0.1410248), ('registry', 0.08333...</td>\n",
       "      <td>[['key', 'registry', 'builder', 'add', 'save',...</td>\n",
       "      <td>[(0, [('registry', 0.024453199), ('property', ...</td>\n",
       "      <td>[['registry', 'property', 'change', 'event', '...</td>\n",
       "      <td>8</td>\n",
       "      <td>[(0, [('publish', 0.008338352), ('mvn', 0.0083...</td>\n",
       "      <td>[['publish', 'mvn', 'repository', 'checkout', ...</td>\n",
       "      <td>[File Transfer Protocol, HTTP server, World Wi...</td>\n",
       "      <td>[0.05355589451454959, 0.030031248756518632, 0....</td>\n",
       "    </tr>\n",
       "    <tr>\n",
       "      <th>312</th>\n",
       "      <td>45_archiva-components</td>\n",
       "      <td>spring-taskqueue</td>\n",
       "      <td>3</td>\n",
       "      <td>5</td>\n",
       "      <td>[(0, [('task', 0.33837277), ('evaluator', 0.12...</td>\n",
       "      <td>[['task', 'evaluator', 'queue', 'executor', 'e...</td>\n",
       "      <td>[(0, [('task', 0.32901022), ('evaluator', 0.10...</td>\n",
       "      <td>[['task', 'evaluator', 'evaluate', 'project', ...</td>\n",
       "      <td>8</td>\n",
       "      <td>[(0, [('publish', 0.008338352), ('mvn', 0.0083...</td>\n",
       "      <td>[['publish', 'mvn', 'repository', 'checkout', ...</td>\n",
       "      <td>[HTTP client, HTTP server, Web Components, Wor...</td>\n",
       "      <td>[0.024542570908181953, 0.021938531171453578, 0...</td>\n",
       "    </tr>\n",
       "  </tbody>\n",
       "</table>\n",
       "</div>"
      ],
      "text/plain": [
       "              project_name            module  code_num_topics   \n",
       "308  45_archiva-components   spring-apacheds                9  \\\n",
       "309  45_archiva-components      spring-cache                6   \n",
       "310  45_archiva-components     spring-quartz                8   \n",
       "311  45_archiva-components   spring-registry                9   \n",
       "312  45_archiva-components  spring-taskqueue                3   \n",
       "\n",
       "     test_num_topics                                  code_shown_topics   \n",
       "308                1  [(0, [('partition', 0.038462438), ('context', ...  \\\n",
       "309                3  [(0, [('cache', 0.3110731), ('creator', 0.1051...   \n",
       "310                4  [(0, [('job', 0.29270846), ('context', 0.07773...   \n",
       "311                6  [(0, [('key', 0.1410248), ('registry', 0.08333...   \n",
       "312                5  [(0, [('task', 0.33837277), ('evaluator', 0.12...   \n",
       "\n",
       "                                           code_topics   \n",
       "308  [['partition', 'context', 'password', 'port', ...  \\\n",
       "309  [['cache', 'creator', 'hint', 'factory', 'key'...   \n",
       "310  [['job', 'context', 'execution', 'map', 'liste...   \n",
       "311  [['key', 'registry', 'builder', 'add', 'save',...   \n",
       "312  [['task', 'evaluator', 'queue', 'executor', 'e...   \n",
       "\n",
       "                                     test_shown_topics   \n",
       "308  [(0, [('context', 0.21739134), ('create', 0.13...  \\\n",
       "309  [(0, [('cache', 0.3525324), ('refre', 0.102800...   \n",
       "310  [(0, [('job', 0.24515942), ('context', 0.16984...   \n",
       "311  [(0, [('registry', 0.024453199), ('property', ...   \n",
       "312  [(0, [('task', 0.32901022), ('evaluator', 0.10...   \n",
       "\n",
       "                                           test_topics  doc_num_topics   \n",
       "308  [['context', 'create', 'dir', 'attribute', 'ba...               8  \\\n",
       "309  [['cache', 'refre', 'wine', 'second', 'never',...               8   \n",
       "310  [['job', 'context', 'one', 'execution', 'execu...               8   \n",
       "311  [['registry', 'property', 'change', 'event', '...               8   \n",
       "312  [['task', 'evaluator', 'evaluate', 'project', ...               8   \n",
       "\n",
       "                                      doc_shown_topics   \n",
       "308  [(0, [('publish', 0.008338352), ('mvn', 0.0083...  \\\n",
       "309  [(0, [('publish', 0.008338352), ('mvn', 0.0083...   \n",
       "310  [(0, [('publish', 0.008338352), ('mvn', 0.0083...   \n",
       "311  [(0, [('publish', 0.008338352), ('mvn', 0.0083...   \n",
       "312  [(0, [('publish', 0.008338352), ('mvn', 0.0083...   \n",
       "\n",
       "                                            doc_topics   \n",
       "308  [['publish', 'mvn', 'repository', 'checkout', ...  \\\n",
       "309  [['publish', 'mvn', 'repository', 'checkout', ...   \n",
       "310  [['publish', 'mvn', 'repository', 'checkout', ...   \n",
       "311  [['publish', 'mvn', 'repository', 'checkout', ...   \n",
       "312  [['publish', 'mvn', 'repository', 'checkout', ...   \n",
       "\n",
       "                                               domains   \n",
       "308  [File Transfer Protocol, HTTP server, World Wi...  \\\n",
       "309  [3D modeling, File Transfer Protocol, HTTP ser...   \n",
       "310  [3D modeling, Web Components, World Wide Web, ...   \n",
       "311  [File Transfer Protocol, HTTP server, World Wi...   \n",
       "312  [HTTP client, HTTP server, Web Components, Wor...   \n",
       "\n",
       "                                             prob_dist  \n",
       "308  [0.11701418648043749, 0.2335993974088256, 0.05...  \n",
       "309  [0.004910765950067891, 0.020708469498936777, 0...  \n",
       "310  [0.028540502180797137, 0.014346165183265333, 0...  \n",
       "311  [0.05355589451454959, 0.030031248756518632, 0....  \n",
       "312  [0.024542570908181953, 0.021938531171453578, 0...  "
      ]
     },
     "execution_count": 9,
     "metadata": {},
     "output_type": "execute_result"
    }
   ],
   "source": [
    "module_df[-5:]"
   ]
  },
  {
   "cell_type": "code",
   "execution_count": 10,
   "metadata": {},
   "outputs": [],
   "source": [
    "module_df.to_csv(\"module_df.csv\", index=False)"
   ]
  },
  {
   "cell_type": "code",
   "execution_count": 10,
   "metadata": {},
   "outputs": [
    {
     "data": {
      "text/html": [
       "<div>\n",
       "<style scoped>\n",
       "    .dataframe tbody tr th:only-of-type {\n",
       "        vertical-align: middle;\n",
       "    }\n",
       "\n",
       "    .dataframe tbody tr th {\n",
       "        vertical-align: top;\n",
       "    }\n",
       "\n",
       "    .dataframe thead th {\n",
       "        text-align: right;\n",
       "    }\n",
       "</style>\n",
       "<table border=\"1\" class=\"dataframe\">\n",
       "  <thead>\n",
       "    <tr style=\"text-align: right;\">\n",
       "      <th></th>\n",
       "      <th>project_name</th>\n",
       "      <th>doc_topics</th>\n",
       "    </tr>\n",
       "  </thead>\n",
       "  <tbody>\n",
       "    <tr>\n",
       "      <th>0</th>\n",
       "      <td>01_dubbo</td>\n",
       "      <td>[['service', 'see', 'issue', 'sample', 'projec...</td>\n",
       "    </tr>\n",
       "    <tr>\n",
       "      <th>1</th>\n",
       "      <td>02_skywalking</td>\n",
       "      <td>[['trace', 'support', 'metric', 'mail', 'nativ...</td>\n",
       "    </tr>\n",
       "    <tr>\n",
       "      <th>2</th>\n",
       "      <td>03_flink</td>\n",
       "      <td>[['scala', 'processing', 'java', 'intellij', '...</td>\n",
       "    </tr>\n",
       "    <tr>\n",
       "      <th>3</th>\n",
       "      <td>04_rocketmq</td>\n",
       "      <td>[['software', 'use', 'message', 'run', 'cluste...</td>\n",
       "    </tr>\n",
       "    <tr>\n",
       "      <th>4</th>\n",
       "      <td>05_shardingsphere</td>\n",
       "      <td>[['database', 'link', 'amp', 'provide', 'suppo...</td>\n",
       "    </tr>\n",
       "  </tbody>\n",
       "</table>\n",
       "</div>"
      ],
      "text/plain": [
       "        project_name                                         doc_topics\n",
       "0           01_dubbo  [['service', 'see', 'issue', 'sample', 'projec...\n",
       "1      02_skywalking  [['trace', 'support', 'metric', 'mail', 'nativ...\n",
       "2           03_flink  [['scala', 'processing', 'java', 'intellij', '...\n",
       "3        04_rocketmq  [['software', 'use', 'message', 'run', 'cluste...\n",
       "4  05_shardingsphere  [['database', 'link', 'amp', 'provide', 'suppo..."
      ]
     },
     "execution_count": 10,
     "metadata": {},
     "output_type": "execute_result"
    }
   ],
   "source": [
    "### separate the doc concepts\n",
    "\n",
    "module_docs_df = module_df[['project_name', 'doc_topics']].drop_duplicates(ignore_index=True)\n",
    "module_docs_df[:5]"
   ]
  },
  {
   "cell_type": "markdown",
   "metadata": {},
   "source": [
    "## LLM Matching of AD to Concepts"
   ]
  },
  {
   "cell_type": "markdown",
   "metadata": {},
   "source": [
    "### Using embeddings then calculate semantic similarity to match with domains\n",
    "\n",
    "- StackOverflow w2v\n",
    "- text-embedding-ada-002 (openAI + scikit-LLM)"
   ]
  },
  {
   "cell_type": "code",
   "execution_count": 56,
   "metadata": {},
   "outputs": [],
   "source": [
    "code_concept_list = module_df['code_topics']\n",
    "test_concept_list = module_df['test_topics']\n",
    "doc_concept_list = module_df['doc_topics']\n",
    "prob_dist_list = module_df['prob_dist']\n",
    "domains_list = module_df['domains']"
   ]
  },
  {
   "cell_type": "code",
   "execution_count": 57,
   "metadata": {},
   "outputs": [
    {
     "data": {
      "text/html": [
       "<div>\n",
       "<style scoped>\n",
       "    .dataframe tbody tr th:only-of-type {\n",
       "        vertical-align: middle;\n",
       "    }\n",
       "\n",
       "    .dataframe tbody tr th {\n",
       "        vertical-align: top;\n",
       "    }\n",
       "\n",
       "    .dataframe thead th {\n",
       "        text-align: right;\n",
       "    }\n",
       "</style>\n",
       "<table border=\"1\" class=\"dataframe\">\n",
       "  <thead>\n",
       "    <tr style=\"text-align: right;\">\n",
       "      <th></th>\n",
       "      <th>project_name</th>\n",
       "      <th>module</th>\n",
       "    </tr>\n",
       "  </thead>\n",
       "  <tbody>\n",
       "    <tr>\n",
       "      <th>0</th>\n",
       "      <td>01_dubbo</td>\n",
       "      <td>dubbo-cluster</td>\n",
       "    </tr>\n",
       "    <tr>\n",
       "      <th>1</th>\n",
       "      <td>01_dubbo</td>\n",
       "      <td>dubbo-common</td>\n",
       "    </tr>\n",
       "    <tr>\n",
       "      <th>2</th>\n",
       "      <td>01_dubbo</td>\n",
       "      <td>dubbo-compatible</td>\n",
       "    </tr>\n",
       "    <tr>\n",
       "      <th>3</th>\n",
       "      <td>01_dubbo</td>\n",
       "      <td>dubbo-config</td>\n",
       "    </tr>\n",
       "    <tr>\n",
       "      <th>4</th>\n",
       "      <td>01_dubbo</td>\n",
       "      <td>dubbo-configcenter</td>\n",
       "    </tr>\n",
       "    <tr>\n",
       "      <th>...</th>\n",
       "      <td>...</td>\n",
       "      <td>...</td>\n",
       "    </tr>\n",
       "    <tr>\n",
       "      <th>308</th>\n",
       "      <td>45_archiva-components</td>\n",
       "      <td>spring-apacheds</td>\n",
       "    </tr>\n",
       "    <tr>\n",
       "      <th>309</th>\n",
       "      <td>45_archiva-components</td>\n",
       "      <td>spring-cache</td>\n",
       "    </tr>\n",
       "    <tr>\n",
       "      <th>310</th>\n",
       "      <td>45_archiva-components</td>\n",
       "      <td>spring-quartz</td>\n",
       "    </tr>\n",
       "    <tr>\n",
       "      <th>311</th>\n",
       "      <td>45_archiva-components</td>\n",
       "      <td>spring-registry</td>\n",
       "    </tr>\n",
       "    <tr>\n",
       "      <th>312</th>\n",
       "      <td>45_archiva-components</td>\n",
       "      <td>spring-taskqueue</td>\n",
       "    </tr>\n",
       "  </tbody>\n",
       "</table>\n",
       "<p>313 rows × 2 columns</p>\n",
       "</div>"
      ],
      "text/plain": [
       "              project_name              module\n",
       "0                 01_dubbo       dubbo-cluster\n",
       "1                 01_dubbo        dubbo-common\n",
       "2                 01_dubbo    dubbo-compatible\n",
       "3                 01_dubbo        dubbo-config\n",
       "4                 01_dubbo  dubbo-configcenter\n",
       "..                     ...                 ...\n",
       "308  45_archiva-components     spring-apacheds\n",
       "309  45_archiva-components        spring-cache\n",
       "310  45_archiva-components       spring-quartz\n",
       "311  45_archiva-components     spring-registry\n",
       "312  45_archiva-components    spring-taskqueue\n",
       "\n",
       "[313 rows x 2 columns]"
      ]
     },
     "execution_count": 57,
     "metadata": {},
     "output_type": "execute_result"
    }
   ],
   "source": [
    "proj_names = module_df[['project_name', 'module']]\n",
    "proj_names"
   ]
  },
  {
   "cell_type": "code",
   "execution_count": 58,
   "metadata": {},
   "outputs": [
    {
     "data": {
      "text/plain": [
       "313"
      ]
     },
     "execution_count": 58,
     "metadata": {},
     "output_type": "execute_result"
    }
   ],
   "source": [
    "len(domains_list)"
   ]
  },
  {
   "cell_type": "markdown",
   "metadata": {},
   "source": [
    "## StackOverflow W2V"
   ]
  },
  {
   "cell_type": "code",
   "execution_count": 59,
   "metadata": {},
   "outputs": [],
   "source": [
    "from gensim.models.keyedvectors import KeyedVectors\n",
    "\n",
    "so_w2v_model = KeyedVectors.load_word2vec_format('C:/Users/biadge/OneDrive - BP/PhD/extraction/SO_vectors_200.bin', binary=True)"
   ]
  },
  {
   "cell_type": "code",
   "execution_count": 15,
   "metadata": {},
   "outputs": [
    {
     "data": {
      "text/plain": [
       "0.1252212"
      ]
     },
     "execution_count": 15,
     "metadata": {},
     "output_type": "execute_result"
    }
   ],
   "source": [
    "# test\n",
    "so_w2v_model.n_similarity(['test', 'case'], ['quality'])"
   ]
  },
  {
   "cell_type": "code",
   "execution_count": 16,
   "metadata": {},
   "outputs": [],
   "source": [
    "def comp_con_domains_sow2v(so_w2v_model, con, domains):\n",
    "    # list of domains should be given, now we return an array of similarity scores for all domains\n",
    "    # one concept matching against all the domains for that concept\n",
    "    sim_res = []\n",
    "\n",
    "    for dom in domains:\n",
    "        sim_score = so_w2v_model.n_similarity(con, [dom])\n",
    "        sim_res.append(sim_score)\n",
    "\n",
    "    return sim_res"
   ]
  },
  {
   "cell_type": "code",
   "execution_count": null,
   "metadata": {},
   "outputs": [],
   "source": []
  },
  {
   "cell_type": "markdown",
   "metadata": {},
   "source": [
    "### Match concepts to domains"
   ]
  },
  {
   "cell_type": "code",
   "execution_count": 17,
   "metadata": {},
   "outputs": [],
   "source": [
    "import ast\n",
    "\n",
    "sow2v_code_domain_res = []\n",
    "\n",
    "for i, con in enumerate(code_concept_list):\n",
    "\n",
    "    c = ast.literal_eval(con)\n",
    "\n",
    "    for con_str in c:\n",
    "\n",
    "        curr_domains = domains_list[i]\n",
    "        curr_prob = prob_dist_list[i]\n",
    "\n",
    "        sim_res_list = comp_con_domains_sow2v(so_w2v_model, con_str, curr_domains)\n",
    "\n",
    "        proj_name = proj_names.values[i][0]\n",
    "        module_name = proj_names.values[i][1]\n",
    "\n",
    "        sow2v_code_domain_res.append([proj_name, module_name, con_str, curr_domains, curr_prob, sim_res_list])"
   ]
  },
  {
   "cell_type": "code",
   "execution_count": 18,
   "metadata": {},
   "outputs": [],
   "source": [
    "sow2v_test_domain_res = []\n",
    "\n",
    "for i, con in enumerate(test_concept_list):\n",
    "\n",
    "    c = ast.literal_eval(con)\n",
    "\n",
    "    for con_str in c:\n",
    "\n",
    "        curr_domains = domains_list[i]\n",
    "        curr_prob = prob_dist_list[i]\n",
    "\n",
    "        sim_res_list = comp_con_domains_sow2v(so_w2v_model, con_str, curr_domains)\n",
    "\n",
    "        proj_name = proj_names.values[i][0]\n",
    "        module_name = proj_names.values[i][1]\n",
    "\n",
    "        sow2v_test_domain_res.append([proj_name, module_name, con_str, curr_domains, curr_prob, sim_res_list])"
   ]
  },
  {
   "cell_type": "code",
   "execution_count": 19,
   "metadata": {},
   "outputs": [],
   "source": [
    "sow2v_doc_domain_res = []\n",
    "\n",
    "for i, con in enumerate(doc_concept_list):\n",
    "\n",
    "    c = ast.literal_eval(con)\n",
    "\n",
    "    for con_str in c:\n",
    "\n",
    "        curr_domains = domains_list[i]\n",
    "        curr_prob = prob_dist_list[i]\n",
    "\n",
    "        sim_res_list = comp_con_domains_sow2v(so_w2v_model, con_str, curr_domains)\n",
    "\n",
    "        proj_name = proj_names.values[i][0]\n",
    "        module_name = proj_names.values[i][1]\n",
    "\n",
    "        sow2v_doc_domain_res.append([proj_name, module_name, con_str, curr_domains, curr_prob, sim_res_list])"
   ]
  },
  {
   "cell_type": "code",
   "execution_count": 20,
   "metadata": {},
   "outputs": [],
   "source": [
    "sow2v_code_domain_res_df = pd.DataFrame(sow2v_code_domain_res, columns=['project_name', 'module', 'concept', 'domains', 'weight_dist', 'sow2v_code_sim_score'])\n",
    "sow2v_test_domain_res_df = pd.DataFrame(sow2v_test_domain_res, columns=['project_name', 'module', 'concept', 'domains', 'weight_dist', 'sow2v_test_sim_score'])\n",
    "sow2v_doc_domain_res_df = pd.DataFrame(sow2v_doc_domain_res, columns=['project_name', 'module', 'concept', 'domains', 'weight_dist', 'sow2v_doc_sim_score'])"
   ]
  },
  {
   "cell_type": "markdown",
   "metadata": {},
   "source": [
    "### scikit-LLM (OpenAI text-embedding-ada-002)"
   ]
  },
  {
   "cell_type": "code",
   "execution_count": 21,
   "metadata": {},
   "outputs": [],
   "source": [
    "from skllm.models.gpt.vectorization import GPTVectorizer\n",
    "from skllm.config import SKLLMConfig\n",
    "from sklearn.metrics.pairwise import cosine_similarity\n",
    "from dotenv import load_dotenv, find_dotenv\n",
    "import os"
   ]
  },
  {
   "cell_type": "code",
   "execution_count": 22,
   "metadata": {},
   "outputs": [],
   "source": [
    "_ = load_dotenv(find_dotenv()) # read local .env file"
   ]
  },
  {
   "cell_type": "code",
   "execution_count": 23,
   "metadata": {},
   "outputs": [],
   "source": [
    "SKLLMConfig.set_openai_key(os.getenv(\"API_KEY\"))\n",
    "SKLLMConfig.set_openai_org(os.getenv(\"ORG\"))"
   ]
  },
  {
   "cell_type": "code",
   "execution_count": 24,
   "metadata": {},
   "outputs": [],
   "source": [
    "# model = GPTVectorizer()\n",
    "\n",
    "# vectors = model.fit_transform([\"how old are you?\", \"what is your age?\"])\n",
    "\n",
    "# vector_1 = np.array(vectors[0]).reshape(1, -1)\n",
    "# vector_2 = np.array(vectors[1]).reshape(1, -1)"
   ]
  },
  {
   "cell_type": "code",
   "execution_count": 25,
   "metadata": {},
   "outputs": [],
   "source": [
    "# vector_1"
   ]
  },
  {
   "cell_type": "code",
   "execution_count": 26,
   "metadata": {},
   "outputs": [],
   "source": [
    "# vector_2"
   ]
  },
  {
   "cell_type": "code",
   "execution_count": 27,
   "metadata": {},
   "outputs": [],
   "source": [
    "# cosine_similarity(vector_1, vector_2)"
   ]
  },
  {
   "cell_type": "code",
   "execution_count": 28,
   "metadata": {},
   "outputs": [],
   "source": [
    "# convert domains to vectors first.\n",
    "# THIS HAS BEEN RUN, PLEASE UNCOMMENT TO RUN GPT VECTORISATION\n",
    "\n",
    "# import time\n",
    "# from numpy import asarray\n",
    "# from numpy import save\n",
    "\n",
    "# # dom_vec_list = []\n",
    "# model = GPTVectorizer()\n",
    "# ctr = 193\n",
    "# domains_list_sub = domains_list[ctr:200]\n",
    "\n",
    "# for dom in domains_list_sub: # 313 domains lists (no. of modules) to vectorise\n",
    "#     curr_dom_vec = []\n",
    "#     for d in dom:\n",
    "#         sleep_time = 10\n",
    "#         retries = 5\n",
    "#         for x in range(0, retries):\n",
    "#             try:\n",
    "#                 curr_dom_vec.append(model.fit_transform([d]))\n",
    "#                 break\n",
    "#             except Exception as e:\n",
    "#                 print(\"retrying...\")\n",
    "#                 time.sleep(sleep_time)\n",
    "\n",
    "#     curr_dom_vec_arr = asarray(curr_dom_vec)\n",
    "#     save(f\"gpt_dom_vec\\\\{ctr}.npy\", curr_dom_vec_arr)\n",
    "#     ctr+=1"
   ]
  },
  {
   "cell_type": "code",
   "execution_count": 29,
   "metadata": {},
   "outputs": [],
   "source": [
    "#convert concepts to vectors first.\n",
    "#THIS HAS BEEN RUN, PLEASE UNCOMMENT TO RUN GPT VECTORISATION\n",
    "\n",
    "# from numpy import asarray\n",
    "# from numpy import save\n",
    "# import ast\n",
    "\n",
    "# model = GPTVectorizer()\n",
    "\n",
    "# ctr = 0\n",
    "# code_concept_list_sub = code_concept_list[ctr:100]\n",
    "\n",
    "# for con_list in code_concept_list_sub: # 313 domains lists (no. of modules) to vectorise\n",
    "#     curr_code_vec = []\n",
    "\n",
    "#     con_list = ast.literal_eval(con_list)\n",
    "\n",
    "#     for con in con_list:\n",
    "#         con_str = \" \".join(con)\n",
    "#         curr_code_vec.append(model.fit_transform([con_str]))\n",
    "\n",
    "#     curr_code_vec_arr = asarray(curr_code_vec)\n",
    "#     save(f\"gpt_code_vec\\\\{ctr}.npy\", curr_code_vec_arr)\n",
    "#     ctr+=1"
   ]
  },
  {
   "cell_type": "code",
   "execution_count": 30,
   "metadata": {},
   "outputs": [],
   "source": [
    "# convert concepts to vectors first.\n",
    "# THIS HAS BEEN RUN, PLEASE UNCOMMENT TO RUN GPT VECTORISATION\n",
    "\n",
    "# from numpy import asarray\n",
    "# from numpy import save\n",
    "\n",
    "# model = GPTVectorizer()\n",
    "\n",
    "# ctr = 0\n",
    "# test_concept_list_sub = test_concept_list[ctr:50]\n",
    "\n",
    "# for con_list in test_concept_list_sub: # 313 domains lists (no. of modules) to vectorise\n",
    "#     curr_test_vec = []\n",
    "\n",
    "#     con_list = ast.literal_eval(con_list)\n",
    "\n",
    "#     for con in con_list:\n",
    "#         con_str = \" \".join(con)\n",
    "#         curr_test_vec.append(model.fit_transform([con_str]))\n",
    "\n",
    "#     curr_test_vec_arr = asarray(curr_test_vec)\n",
    "#     save(f\"gpt_test_vec\\\\{ctr}.npy\", curr_test_vec_arr)\n",
    "#     ctr+=1"
   ]
  },
  {
   "cell_type": "code",
   "execution_count": 31,
   "metadata": {},
   "outputs": [],
   "source": [
    "# convert concepts to vectors first.\n",
    "# THIS HAS BEEN RUN, PLEASE UNCOMMENT TO RUN GPT VECTORISATION\n",
    "\n",
    "# from numpy import asarray\n",
    "# from numpy import save\n",
    "\n",
    "# model = GPTVectorizer()\n",
    "\n",
    "# ctr = 0\n",
    "\n",
    "# for con_list in doc_concept_list:\n",
    "#     curr_doc_vec = []\n",
    "#     con_list = ast.literal_eval(con_list)\n",
    "\n",
    "#     for con in con_list:\n",
    "#         con_str = \" \".join(con)\n",
    "#         curr_doc_vec.append(model.fit_transform([con_str]))\n",
    "\n",
    "#     curr_doc_vec_arr = asarray(curr_doc_vec)\n",
    "#     save(f\"gpt_doc_vec\\\\{ctr}.npy\", curr_doc_vec_arr)\n",
    "#     ctr+=1"
   ]
  },
  {
   "cell_type": "markdown",
   "metadata": {},
   "source": [
    "#### load the vectors"
   ]
  },
  {
   "cell_type": "code",
   "execution_count": 68,
   "metadata": {},
   "outputs": [],
   "source": [
    "from numpy import load\n",
    "\n",
    "dom_vec_list = []\n",
    "code_vec_list = []\n",
    "test_vec_list = []\n",
    "\n",
    "for i in range(0, len(domains_list)): # 313 modules\n",
    "\n",
    "    curr_dom_vec = load(f\"gpt_dom_vec\\\\{i}.npy\")\n",
    "    dom_vec_list.append(curr_dom_vec)\n",
    "\n",
    "for i in range(0, len(code_concept_list)): # 313 modules\n",
    "\n",
    "    curr_code_vec = load(f\"gpt_code_vec\\\\{i}.npy\")\n",
    "    code_vec_list.append(curr_code_vec)\n",
    "\n",
    "for i in range(0, len(test_concept_list)): # 313 modules\n",
    "\n",
    "    curr_test_vec = load(f\"gpt_test_vec\\\\{i}.npy\")\n",
    "    test_vec_list.append(curr_test_vec)"
   ]
  },
  {
   "cell_type": "code",
   "execution_count": 33,
   "metadata": {},
   "outputs": [
    {
     "data": {
      "text/plain": [
       "313"
      ]
     },
     "execution_count": 33,
     "metadata": {},
     "output_type": "execute_result"
    }
   ],
   "source": [
    "# for doc we have to map out the proj/module mapping\n",
    "\n",
    "proj_id = proj_names['project_name'].str[:2].astype(int).tolist()\n",
    "len(proj_id)"
   ]
  },
  {
   "cell_type": "code",
   "execution_count": 34,
   "metadata": {},
   "outputs": [],
   "source": [
    "doc_vec_list = []\n",
    "\n",
    "for pi in proj_id:\n",
    "\n",
    "    file_id = pi-1\n",
    "\n",
    "    curr_doc_vec = load(f\"gpt_doc_vec\\\\{str(file_id)}.npy\")\n",
    "    doc_vec_list.append(curr_doc_vec)"
   ]
  },
  {
   "cell_type": "code",
   "execution_count": 35,
   "metadata": {},
   "outputs": [
    {
     "data": {
      "text/plain": [
       "313"
      ]
     },
     "execution_count": 35,
     "metadata": {},
     "output_type": "execute_result"
    }
   ],
   "source": [
    "len(doc_vec_list)"
   ]
  },
  {
   "cell_type": "code",
   "execution_count": 36,
   "metadata": {},
   "outputs": [],
   "source": [
    "def comp_con_domains_gpt(con_vec, dom_vec):\n",
    "    # list of domains should be given, now we return an array of similarity scores for all domains\n",
    "    # one concept matching against all the domains for that concept\n",
    "    sim_res = []\n",
    "\n",
    "    con_vec = np.array(con_vec).reshape(1, -1)\n",
    "\n",
    "    for dv in dom_vec:\n",
    "        dv = np.array(dv).reshape(1, -1)\n",
    "        sim_score = cosine_similarity(con_vec, dv)\n",
    "        sim_res.append(sim_score[0][0])\n",
    "\n",
    "    return sim_res"
   ]
  },
  {
   "cell_type": "code",
   "execution_count": 37,
   "metadata": {},
   "outputs": [],
   "source": [
    "gpt_code_domain_res = []\n",
    "\n",
    "for i, code_vec in enumerate(code_vec_list):\n",
    "\n",
    "    curr_con_list = ast.literal_eval(code_concept_list[i])\n",
    "\n",
    "    for k, cv in enumerate(code_vec):\n",
    "\n",
    "        curr_concepts = curr_con_list[k]\n",
    "        curr_domains = domains_list[i]\n",
    "        curr_prob = prob_dist_list[i]\n",
    "\n",
    "        sim_res_list = comp_con_domains_gpt(cv, dom_vec_list[i])\n",
    "\n",
    "        proj_name = proj_names.values[i][0]\n",
    "        module_name = proj_names.values[i][1]\n",
    "\n",
    "        gpt_code_domain_res.append([proj_name, module_name, curr_concepts, curr_domains, curr_prob, sim_res_list])"
   ]
  },
  {
   "cell_type": "code",
   "execution_count": 38,
   "metadata": {},
   "outputs": [],
   "source": [
    "gpt_test_domain_res = []\n",
    "\n",
    "for i, test_vec in enumerate(test_vec_list):\n",
    "\n",
    "    curr_con_list = ast.literal_eval(test_concept_list[i])\n",
    "\n",
    "    for k, tv in enumerate(test_vec):\n",
    "\n",
    "        curr_concepts = curr_con_list[k]\n",
    "        curr_domains = domains_list[i]\n",
    "        curr_prob = prob_dist_list[i]\n",
    "\n",
    "        sim_res_list = comp_con_domains_gpt(tv, dom_vec_list[i])\n",
    "\n",
    "        proj_name = proj_names.values[i][0]\n",
    "        module_name = proj_names.values[i][1]\n",
    "\n",
    "        gpt_test_domain_res.append([proj_name, module_name, curr_concepts, curr_domains, curr_prob, sim_res_list])"
   ]
  },
  {
   "cell_type": "code",
   "execution_count": 39,
   "metadata": {},
   "outputs": [],
   "source": [
    "gpt_doc_domain_res = []\n",
    "\n",
    "for i, doc_vec in enumerate(doc_vec_list):\n",
    "\n",
    "    curr_con_list = ast.literal_eval(module_df['doc_topics'][i])\n",
    "\n",
    "    for k, dv in enumerate(doc_vec):\n",
    "\n",
    "        curr_concepts = curr_con_list[k]\n",
    "        curr_domains = domains_list[i]\n",
    "        curr_prob = prob_dist_list[i]\n",
    "\n",
    "        sim_res_list = comp_con_domains_gpt(dv, dom_vec_list[i])\n",
    "\n",
    "        proj_name = proj_names.values[i][0]\n",
    "        module_name = proj_names.values[i][1]\n",
    "\n",
    "        gpt_doc_domain_res.append([proj_name, module_name, curr_concepts, curr_domains, curr_prob, sim_res_list])"
   ]
  },
  {
   "cell_type": "code",
   "execution_count": 40,
   "metadata": {},
   "outputs": [],
   "source": [
    "code_dom_gpt_sim_df = pd.DataFrame(gpt_code_domain_res, columns=['project_name', 'module', 'code concepts', 'domains', 'weight_dist', 'gpt_code_sim_score'])\n",
    "test_dom_gpt_sim_df = pd.DataFrame(gpt_test_domain_res, columns=['project_name', 'module', 'test concepts', 'domains', 'weight_dist', 'gpt_test_sim_score'])\n",
    "doc_dom_gpt_sim_df = pd.DataFrame(gpt_doc_domain_res, columns=['project_name', 'module', 'doc concepts', 'domains', 'weight_dist', 'gpt_doc_sim_score'])"
   ]
  },
  {
   "cell_type": "markdown",
   "metadata": {},
   "source": [
    "### UAE-Large-V1"
   ]
  },
  {
   "cell_type": "code",
   "execution_count": 41,
   "metadata": {},
   "outputs": [
    {
     "data": {
      "text/plain": [
       "True"
      ]
     },
     "execution_count": 41,
     "metadata": {},
     "output_type": "execute_result"
    }
   ],
   "source": [
    "import torch\n",
    "torch.cuda.is_available()"
   ]
  },
  {
   "cell_type": "code",
   "execution_count": 42,
   "metadata": {},
   "outputs": [],
   "source": [
    "import torch\n",
    "from transformers import AutoModel, AutoTokenizer\n",
    "\n",
    "def angle_vec(tokenizer, model, input):\n",
    "\n",
    "    tok = tokenizer([input], return_tensors='pt')\n",
    "\n",
    "    for k, v in tok.items():\n",
    "        tok[k] = v.cuda()\n",
    "\n",
    "    hs = model(**tok).last_hidden_state\n",
    "\n",
    "    vec = (hs[:, 0] + torch.mean(hs, dim=1)) / 2.0\n",
    "\n",
    "    return vec.detach().cpu().numpy()"
   ]
  },
  {
   "cell_type": "code",
   "execution_count": 43,
   "metadata": {},
   "outputs": [],
   "source": [
    "tokenizer = AutoTokenizer.from_pretrained('./UAE-Large-V1')\n",
    "angle_model = AutoModel.from_pretrained('./UAE-Large-V1').cuda()  \n",
    "v1 = angle_vec(tokenizer, angle_model, \"king\")\n",
    "v2 = angle_vec(tokenizer, angle_model, \"queen\")"
   ]
  },
  {
   "cell_type": "code",
   "execution_count": 44,
   "metadata": {},
   "outputs": [
    {
     "data": {
      "text/plain": [
       "array([[0.7001157]], dtype=float32)"
      ]
     },
     "execution_count": 44,
     "metadata": {},
     "output_type": "execute_result"
    }
   ],
   "source": [
    "from sklearn.metrics.pairwise import cosine_similarity\n",
    "\n",
    "cosine_similarity(v1, v2)"
   ]
  },
  {
   "cell_type": "code",
   "execution_count": 45,
   "metadata": {},
   "outputs": [],
   "source": [
    "# convert concepts to vectors first.\n",
    "# THIS HAS BEEN RUN, PLEASE UNCOMMENT TO RUN ANGLE VECTORISATION\n",
    "# from numpy import asarray\n",
    "# from numpy import save\n",
    "# import ast\n",
    "\n",
    "# tokenizer = AutoTokenizer.from_pretrained('./UAE-Large-V1')\n",
    "# angle_model = AutoModel.from_pretrained('./UAE-Large-V1').cuda()  \n",
    "\n",
    "# ctr = 0\n",
    "# code_concept_list_sub = code_concept_list[ctr:]\n",
    "\n",
    "# for con_list in code_concept_list_sub: # 313 domains lists (no. of modules) to vectorise\n",
    "#     curr_code_vec = []\n",
    "\n",
    "#     con_list = ast.literal_eval(con_list)\n",
    "\n",
    "#     for con in con_list:\n",
    "#         con_str = \" \".join(con)\n",
    "#         curr_code_vec.append(angle_vec(tokenizer, angle_model, con_str))\n",
    "\n",
    "#     curr_code_vec_arr = asarray(curr_code_vec)\n",
    "#     save(f\"angle_code_vec\\\\{ctr}.npy\", curr_code_vec_arr)\n",
    "#     ctr+=1"
   ]
  },
  {
   "cell_type": "code",
   "execution_count": 46,
   "metadata": {},
   "outputs": [],
   "source": [
    "# convert concepts to vectors first.\n",
    "# THIS HAS BEEN RUN, PLEASE UNCOMMENT TO RUN ANGLE VECTORISATION\n",
    "# from numpy import asarray\n",
    "# from numpy import save\n",
    "# import ast\n",
    "\n",
    "# # tokenizer = AutoTokenizer.from_pretrained('./UAE-Large-V1')\n",
    "# # angle_model = AutoModel.from_pretrained('./UAE-Large-V1').cuda()  \n",
    "\n",
    "# ctr = 0\n",
    "# test_concept_list_sub = test_concept_list[ctr:]\n",
    "\n",
    "# for con_list in test_concept_list_sub: # 313 domains lists (no. of modules) to vectorise\n",
    "#     curr_test_vec = []\n",
    "\n",
    "#     con_list = ast.literal_eval(con_list)\n",
    "\n",
    "#     for con in con_list:\n",
    "#         con_str = \" \".join(con)\n",
    "#         curr_test_vec.append(angle_vec(tokenizer, angle_model, con_str))\n",
    "\n",
    "#     curr_test_vec_arr = asarray(curr_test_vec)\n",
    "#     save(f\"angle_test_vec\\\\{ctr}.npy\", curr_test_vec_arr)\n",
    "#     ctr+=1"
   ]
  },
  {
   "cell_type": "code",
   "execution_count": 50,
   "metadata": {},
   "outputs": [],
   "source": [
    "# convert concepts to vectors first.\n",
    "# THIS HAS BEEN RUN, PLEASE UNCOMMENT TO RUN ANGLE VECTORISATION\n",
    "# from numpy import asarray\n",
    "# from numpy import save\n",
    "# import ast\n",
    "\n",
    "# ctr = 0\n",
    "\n",
    "# for con_list in doc_concept_list:\n",
    "#     curr_doc_vec = []\n",
    "\n",
    "#     con_list = ast.literal_eval(con_list)\n",
    "\n",
    "#     for con in con_list:\n",
    "#         con_str = \" \".join(con)\n",
    "#         curr_doc_vec.append(angle_vec(tokenizer, angle_model, con_str))\n",
    "\n",
    "#     curr_doc_vec_arr = asarray(curr_doc_vec)\n",
    "#     save(f\"angle_doc_vec\\\\{ctr}.npy\", curr_doc_vec_arr)\n",
    "#     ctr+=1"
   ]
  },
  {
   "cell_type": "code",
   "execution_count": 48,
   "metadata": {},
   "outputs": [],
   "source": [
    "# convert concepts to vectors first.\n",
    "# THIS HAS BEEN RUN, PLEASE UNCOMMENT TO RUN ANGLE VECTORISATION\n",
    "# from numpy import asarray\n",
    "# from numpy import save\n",
    "\n",
    "# ctr = 216\n",
    "# domains_list_sub = domains_list[ctr:]\n",
    "\n",
    "# for dom in domains_list_sub: # 313 domains lists (no. of modules) to vectorise\n",
    "#     curr_dom_vec = []\n",
    "#     for d in dom:\n",
    "#         curr_dom_vec.append(angle_vec(tokenizer, angle_model, d))\n",
    "\n",
    "#     curr_dom_vec_arr = asarray(curr_dom_vec)\n",
    "#     save(f\"angle_dom_vec\\\\{ctr}.npy\", curr_dom_vec_arr)\n",
    "#     ctr+=1"
   ]
  },
  {
   "cell_type": "markdown",
   "metadata": {},
   "source": [
    "#### load the vectors"
   ]
  },
  {
   "cell_type": "code",
   "execution_count": 75,
   "metadata": {},
   "outputs": [],
   "source": [
    "from numpy import load\n",
    "\n",
    "dom_vec_list = []\n",
    "code_vec_list = []\n",
    "test_vec_list = []\n",
    "doc_vec_list = []\n",
    "\n",
    "for i in range(0, len(domains_list)): # 313 modules\n",
    "\n",
    "    curr_dom_vec = load(f\"angle_dom_vec\\\\{i}.npy\")\n",
    "    dom_vec_list.append(curr_dom_vec)\n",
    "\n",
    "for i in range(0, len(code_concept_list)): # 313 modules\n",
    "\n",
    "    curr_code_vec = load(f\"angle_code_vec\\\\{i}.npy\")\n",
    "    code_vec_list.append(curr_code_vec)\n",
    "\n",
    "for i in range(0, len(test_concept_list)): # 313 modules\n",
    "\n",
    "    curr_test_vec = load(f\"angle_test_vec\\\\{i}.npy\")\n",
    "    test_vec_list.append(curr_test_vec)\n",
    "\n",
    "for i in range(0, len(doc_concept_list)): # 313 modules\n",
    "\n",
    "    curr_doc_vec = load(f\"angle_doc_vec\\\\{i}.npy\")\n",
    "    doc_vec_list.append(curr_doc_vec)"
   ]
  },
  {
   "cell_type": "code",
   "execution_count": 71,
   "metadata": {},
   "outputs": [],
   "source": [
    "def comp_con_domains_angle(con_vec, dom_vec):\n",
    "    # list of domains should be given, now we return an array of similarity scores for all domains\n",
    "    # one concept matching against all the domains for that concept\n",
    "    sim_res = []\n",
    "\n",
    "    for dv in dom_vec:\n",
    "        sim_score = cosine_similarity(con_vec, dv)\n",
    "        sim_res.append(sim_score[0][0])\n",
    "\n",
    "    return sim_res"
   ]
  },
  {
   "cell_type": "code",
   "execution_count": 72,
   "metadata": {},
   "outputs": [],
   "source": [
    "angle_code_domain_res = []\n",
    "\n",
    "for i, code_vec in enumerate(code_vec_list):\n",
    "\n",
    "    curr_con_list = ast.literal_eval(code_concept_list[i])\n",
    "\n",
    "    for k, cv in enumerate(code_vec):\n",
    "\n",
    "        curr_concepts = curr_con_list[k]\n",
    "        curr_domains = domains_list[i]\n",
    "        curr_prob = prob_dist_list[i]\n",
    "\n",
    "        sim_res_list = comp_con_domains_angle(cv, dom_vec_list[i])\n",
    "\n",
    "        proj_name = proj_names.values[i][0]\n",
    "        module_name = proj_names.values[i][1]\n",
    "\n",
    "        angle_code_domain_res.append([proj_name, module_name, curr_concepts, curr_domains, curr_prob, sim_res_list])"
   ]
  },
  {
   "cell_type": "code",
   "execution_count": 73,
   "metadata": {},
   "outputs": [],
   "source": [
    "angle_test_domain_res = []\n",
    "\n",
    "for i, test_vec in enumerate(test_vec_list):\n",
    "\n",
    "    curr_con_list = ast.literal_eval(test_concept_list[i])\n",
    "\n",
    "    for k, tv in enumerate(test_vec):\n",
    "\n",
    "        curr_concepts = curr_con_list[k]\n",
    "        curr_domains = domains_list[i]\n",
    "        curr_prob = prob_dist_list[i]\n",
    "\n",
    "        sim_res_list = comp_con_domains_angle(tv, dom_vec_list[i])\n",
    "\n",
    "        proj_name = proj_names.values[i][0]\n",
    "        module_name = proj_names.values[i][1]\n",
    "\n",
    "        angle_test_domain_res.append([proj_name, module_name, curr_concepts, curr_domains, curr_prob, sim_res_list])"
   ]
  },
  {
   "cell_type": "code",
   "execution_count": 76,
   "metadata": {},
   "outputs": [],
   "source": [
    "angle_doc_domain_res = []\n",
    "\n",
    "for i, doc_vec in enumerate(doc_vec_list):\n",
    "\n",
    "    curr_con_list = ast.literal_eval(doc_concept_list[i])\n",
    "\n",
    "    for k, dv in enumerate(doc_vec):\n",
    "\n",
    "        curr_concepts = curr_con_list[k]\n",
    "        curr_domains = domains_list[i]\n",
    "        curr_prob = prob_dist_list[i]\n",
    "\n",
    "        sim_res_list = comp_con_domains_angle(dv, dom_vec_list[i])\n",
    "\n",
    "        proj_name = proj_names.values[i][0]\n",
    "        module_name = proj_names.values[i][1]\n",
    "\n",
    "        angle_doc_domain_res.append([proj_name, module_name, curr_concepts, curr_domains, curr_prob, sim_res_list])"
   ]
  },
  {
   "cell_type": "code",
   "execution_count": 77,
   "metadata": {},
   "outputs": [],
   "source": [
    "code_dom_angle_sim_df = pd.DataFrame(angle_code_domain_res, columns=['project_name', 'module', 'code concepts', 'domains', 'weight_dist', 'angle_code_sim_score'])\n",
    "test_dom_angle_sim_df = pd.DataFrame(angle_test_domain_res, columns=['project_name', 'module', 'test concepts', 'domains', 'weight_dist', 'angle_test_sim_score'])\n",
    "doc_dom_angle_sim_df = pd.DataFrame(angle_doc_domain_res, columns=['project_name', 'module', 'doc concepts', 'domains', 'weight_dist', 'angle_doc_sim_score'])"
   ]
  },
  {
   "cell_type": "markdown",
   "metadata": {},
   "source": [
    "#### Merge all sim scores"
   ]
  },
  {
   "cell_type": "code",
   "execution_count": 78,
   "metadata": {},
   "outputs": [
    {
     "data": {
      "text/html": [
       "<div>\n",
       "<style scoped>\n",
       "    .dataframe tbody tr th:only-of-type {\n",
       "        vertical-align: middle;\n",
       "    }\n",
       "\n",
       "    .dataframe tbody tr th {\n",
       "        vertical-align: top;\n",
       "    }\n",
       "\n",
       "    .dataframe thead th {\n",
       "        text-align: right;\n",
       "    }\n",
       "</style>\n",
       "<table border=\"1\" class=\"dataframe\">\n",
       "  <thead>\n",
       "    <tr style=\"text-align: right;\">\n",
       "      <th></th>\n",
       "      <th>project_name</th>\n",
       "      <th>module</th>\n",
       "      <th>concept</th>\n",
       "      <th>domains</th>\n",
       "      <th>weight_dist</th>\n",
       "      <th>sow2v_code_sim_score</th>\n",
       "      <th>gpt_code_sim_score</th>\n",
       "      <th>angle_code_sim_score</th>\n",
       "    </tr>\n",
       "  </thead>\n",
       "  <tbody>\n",
       "    <tr>\n",
       "      <th>0</th>\n",
       "      <td>01_dubbo</td>\n",
       "      <td>dubbo-cluster</td>\n",
       "      <td>[merger, model, scope, aware, end, error, merg...</td>\n",
       "      <td>[Bayesian inference, Containerization, File Tr...</td>\n",
       "      <td>[0.0006186695022802121, 0.001075709038256659, ...</td>\n",
       "      <td>[0.0, 0.0, 0.0, 0.0, 0.0, 0.0, 0.0, 0.0, 0.0, ...</td>\n",
       "      <td>[0.7311602189366283, 0.7417190548602931, 0.703...</td>\n",
       "      <td>[0.5299579, 0.56805325, 0.4777574, 0.44822916,...</td>\n",
       "    </tr>\n",
       "    <tr>\n",
       "      <th>1</th>\n",
       "      <td>01_dubbo</td>\n",
       "      <td>dubbo-cluster</td>\n",
       "      <td>[match, value, bool, exact, weight, result, de...</td>\n",
       "      <td>[Bayesian inference, Containerization, File Tr...</td>\n",
       "      <td>[0.0006186695022802121, 0.001075709038256659, ...</td>\n",
       "      <td>[0.0, 0.0, 0.0, 0.0, 0.0, 0.0, 0.0, 0.0, 0.0, ...</td>\n",
       "      <td>[0.7016929118277905, 0.6982882861146025, 0.706...</td>\n",
       "      <td>[0.54784065, 0.46327564, 0.5400166, 0.5001681,...</td>\n",
       "    </tr>\n",
       "    <tr>\n",
       "      <th>2</th>\n",
       "      <td>01_dubbo</td>\n",
       "      <td>dubbo-cluster</td>\n",
       "      <td>[rule, mesh, listener, app, merger, map, merge...</td>\n",
       "      <td>[Bayesian inference, Containerization, File Tr...</td>\n",
       "      <td>[0.0006186695022802121, 0.001075709038256659, ...</td>\n",
       "      <td>[0.0, 0.0, 0.0, 0.0, 0.0, 0.0, 0.0, 0.0, 0.0, ...</td>\n",
       "      <td>[0.6558771698809155, 0.6792273271454538, 0.685...</td>\n",
       "      <td>[0.46307766, 0.5018077, 0.4271498, 0.41547033,...</td>\n",
       "    </tr>\n",
       "    <tr>\n",
       "      <th>3</th>\n",
       "      <td>01_dubbo</td>\n",
       "      <td>dubbo-cluster</td>\n",
       "      <td>[rule, key, invoker, node, router, destination...</td>\n",
       "      <td>[Bayesian inference, Containerization, File Tr...</td>\n",
       "      <td>[0.0006186695022802121, 0.001075709038256659, ...</td>\n",
       "      <td>[0.0, 0.0, 0.0, 0.0, 0.0, 0.0, 0.0, 0.0, 0.0, ...</td>\n",
       "      <td>[0.6962194262372328, 0.7197655294394439, 0.713...</td>\n",
       "      <td>[0.44639945, 0.49696502, 0.51973915, 0.5151202...</td>\n",
       "    </tr>\n",
       "    <tr>\n",
       "      <th>4</th>\n",
       "      <td>01_dubbo</td>\n",
       "      <td>dubbo-cluster</td>\n",
       "      <td>[url, invoker, invocation, configurator, load,...</td>\n",
       "      <td>[Bayesian inference, Containerization, File Tr...</td>\n",
       "      <td>[0.0006186695022802121, 0.001075709038256659, ...</td>\n",
       "      <td>[0.0, 0.0, 0.0, 0.0, 0.0, 0.0, 0.0, 0.0, 0.0, ...</td>\n",
       "      <td>[0.7120789628683717, 0.7148573131041973, 0.702...</td>\n",
       "      <td>[0.4117705, 0.52084935, 0.48110706, 0.579143, ...</td>\n",
       "    </tr>\n",
       "    <tr>\n",
       "      <th>...</th>\n",
       "      <td>...</td>\n",
       "      <td>...</td>\n",
       "      <td>...</td>\n",
       "      <td>...</td>\n",
       "      <td>...</td>\n",
       "      <td>...</td>\n",
       "      <td>...</td>\n",
       "      <td>...</td>\n",
       "    </tr>\n",
       "    <tr>\n",
       "      <th>2394</th>\n",
       "      <td>45_archiva-components</td>\n",
       "      <td>spring-registry</td>\n",
       "      <td>[key, save, registry, add, path, builder, prop...</td>\n",
       "      <td>[File Transfer Protocol, HTTP server, World Wi...</td>\n",
       "      <td>[0.05355589451454959, 0.030031248756518632, 0....</td>\n",
       "      <td>[0.0, 0.0, 0.0, -0.03649073, 0.0, 0.0, -0.0692...</td>\n",
       "      <td>[0.7103701073130371, 0.7162612664178768, 0.708...</td>\n",
       "      <td>[0.47138402, 0.43102366, 0.473483, 0.40904754,...</td>\n",
       "    </tr>\n",
       "    <tr>\n",
       "      <th>2395</th>\n",
       "      <td>45_archiva-components</td>\n",
       "      <td>spring-registry</td>\n",
       "      <td>[key, registry, add, value, path, builder, lis...</td>\n",
       "      <td>[File Transfer Protocol, HTTP server, World Wi...</td>\n",
       "      <td>[0.05355589451454959, 0.030031248756518632, 0....</td>\n",
       "      <td>[0.0, 0.0, 0.0, -0.03791273, 0.0, 0.0, -0.0609...</td>\n",
       "      <td>[0.6681940471261923, 0.6737569169317236, 0.650...</td>\n",
       "      <td>[0.47591305, 0.4573872, 0.48915863, 0.4374768,...</td>\n",
       "    </tr>\n",
       "    <tr>\n",
       "      <th>2396</th>\n",
       "      <td>45_archiva-components</td>\n",
       "      <td>spring-taskqueue</td>\n",
       "      <td>[task, evaluator, queue, executor, entry, viab...</td>\n",
       "      <td>[HTTP client, HTTP server, Web Components, Wor...</td>\n",
       "      <td>[0.024542570908181953, 0.021938531171453578, 0...</td>\n",
       "      <td>[0.0, 0.0, 0.0, 0.0, 0.063066274, 0.0, 0.0, 0....</td>\n",
       "      <td>[0.7087320067665482, 0.6858538376084059, 0.693...</td>\n",
       "      <td>[0.46891826, 0.46494, 0.44505328, 0.40470618, ...</td>\n",
       "    </tr>\n",
       "    <tr>\n",
       "      <th>2397</th>\n",
       "      <td>45_archiva-components</td>\n",
       "      <td>spring-taskqueue</td>\n",
       "      <td>[task, message, execution, queue, cause, throw...</td>\n",
       "      <td>[HTTP client, HTTP server, Web Components, Wor...</td>\n",
       "      <td>[0.024542570908181953, 0.021938531171453578, 0...</td>\n",
       "      <td>[0.0, 0.0, 0.0, 0.0, 0.033671085, 0.0, 0.0, 0....</td>\n",
       "      <td>[0.6818282981688972, 0.6697385290057885, 0.677...</td>\n",
       "      <td>[0.44870278, 0.46203914, 0.45386016, 0.435794,...</td>\n",
       "    </tr>\n",
       "    <tr>\n",
       "      <th>2398</th>\n",
       "      <td>45_archiva-components</td>\n",
       "      <td>spring-taskqueue</td>\n",
       "      <td>[task, queue, evaluator, executor, message, vi...</td>\n",
       "      <td>[HTTP client, HTTP server, Web Components, Wor...</td>\n",
       "      <td>[0.024542570908181953, 0.021938531171453578, 0...</td>\n",
       "      <td>[0.0, 0.0, 0.0, 0.0, 0.06258106, 0.0, 0.0, 0.0...</td>\n",
       "      <td>[0.7145192389641309, 0.7065204249769905, 0.713...</td>\n",
       "      <td>[0.48134735, 0.5053039, 0.44665575, 0.45466822...</td>\n",
       "    </tr>\n",
       "  </tbody>\n",
       "</table>\n",
       "<p>2399 rows × 8 columns</p>\n",
       "</div>"
      ],
      "text/plain": [
       "               project_name            module   \n",
       "0                  01_dubbo     dubbo-cluster  \\\n",
       "1                  01_dubbo     dubbo-cluster   \n",
       "2                  01_dubbo     dubbo-cluster   \n",
       "3                  01_dubbo     dubbo-cluster   \n",
       "4                  01_dubbo     dubbo-cluster   \n",
       "...                     ...               ...   \n",
       "2394  45_archiva-components   spring-registry   \n",
       "2395  45_archiva-components   spring-registry   \n",
       "2396  45_archiva-components  spring-taskqueue   \n",
       "2397  45_archiva-components  spring-taskqueue   \n",
       "2398  45_archiva-components  spring-taskqueue   \n",
       "\n",
       "                                                concept   \n",
       "0     [merger, model, scope, aware, end, error, merg...  \\\n",
       "1     [match, value, bool, exact, weight, result, de...   \n",
       "2     [rule, mesh, listener, app, merger, map, merge...   \n",
       "3     [rule, key, invoker, node, router, destination...   \n",
       "4     [url, invoker, invocation, configurator, load,...   \n",
       "...                                                 ...   \n",
       "2394  [key, save, registry, add, path, builder, prop...   \n",
       "2395  [key, registry, add, value, path, builder, lis...   \n",
       "2396  [task, evaluator, queue, executor, entry, viab...   \n",
       "2397  [task, message, execution, queue, cause, throw...   \n",
       "2398  [task, queue, evaluator, executor, message, vi...   \n",
       "\n",
       "                                                domains   \n",
       "0     [Bayesian inference, Containerization, File Tr...  \\\n",
       "1     [Bayesian inference, Containerization, File Tr...   \n",
       "2     [Bayesian inference, Containerization, File Tr...   \n",
       "3     [Bayesian inference, Containerization, File Tr...   \n",
       "4     [Bayesian inference, Containerization, File Tr...   \n",
       "...                                                 ...   \n",
       "2394  [File Transfer Protocol, HTTP server, World Wi...   \n",
       "2395  [File Transfer Protocol, HTTP server, World Wi...   \n",
       "2396  [HTTP client, HTTP server, Web Components, Wor...   \n",
       "2397  [HTTP client, HTTP server, Web Components, Wor...   \n",
       "2398  [HTTP client, HTTP server, Web Components, Wor...   \n",
       "\n",
       "                                            weight_dist   \n",
       "0     [0.0006186695022802121, 0.001075709038256659, ...  \\\n",
       "1     [0.0006186695022802121, 0.001075709038256659, ...   \n",
       "2     [0.0006186695022802121, 0.001075709038256659, ...   \n",
       "3     [0.0006186695022802121, 0.001075709038256659, ...   \n",
       "4     [0.0006186695022802121, 0.001075709038256659, ...   \n",
       "...                                                 ...   \n",
       "2394  [0.05355589451454959, 0.030031248756518632, 0....   \n",
       "2395  [0.05355589451454959, 0.030031248756518632, 0....   \n",
       "2396  [0.024542570908181953, 0.021938531171453578, 0...   \n",
       "2397  [0.024542570908181953, 0.021938531171453578, 0...   \n",
       "2398  [0.024542570908181953, 0.021938531171453578, 0...   \n",
       "\n",
       "                                   sow2v_code_sim_score   \n",
       "0     [0.0, 0.0, 0.0, 0.0, 0.0, 0.0, 0.0, 0.0, 0.0, ...  \\\n",
       "1     [0.0, 0.0, 0.0, 0.0, 0.0, 0.0, 0.0, 0.0, 0.0, ...   \n",
       "2     [0.0, 0.0, 0.0, 0.0, 0.0, 0.0, 0.0, 0.0, 0.0, ...   \n",
       "3     [0.0, 0.0, 0.0, 0.0, 0.0, 0.0, 0.0, 0.0, 0.0, ...   \n",
       "4     [0.0, 0.0, 0.0, 0.0, 0.0, 0.0, 0.0, 0.0, 0.0, ...   \n",
       "...                                                 ...   \n",
       "2394  [0.0, 0.0, 0.0, -0.03649073, 0.0, 0.0, -0.0692...   \n",
       "2395  [0.0, 0.0, 0.0, -0.03791273, 0.0, 0.0, -0.0609...   \n",
       "2396  [0.0, 0.0, 0.0, 0.0, 0.063066274, 0.0, 0.0, 0....   \n",
       "2397  [0.0, 0.0, 0.0, 0.0, 0.033671085, 0.0, 0.0, 0....   \n",
       "2398  [0.0, 0.0, 0.0, 0.0, 0.06258106, 0.0, 0.0, 0.0...   \n",
       "\n",
       "                                     gpt_code_sim_score   \n",
       "0     [0.7311602189366283, 0.7417190548602931, 0.703...  \\\n",
       "1     [0.7016929118277905, 0.6982882861146025, 0.706...   \n",
       "2     [0.6558771698809155, 0.6792273271454538, 0.685...   \n",
       "3     [0.6962194262372328, 0.7197655294394439, 0.713...   \n",
       "4     [0.7120789628683717, 0.7148573131041973, 0.702...   \n",
       "...                                                 ...   \n",
       "2394  [0.7103701073130371, 0.7162612664178768, 0.708...   \n",
       "2395  [0.6681940471261923, 0.6737569169317236, 0.650...   \n",
       "2396  [0.7087320067665482, 0.6858538376084059, 0.693...   \n",
       "2397  [0.6818282981688972, 0.6697385290057885, 0.677...   \n",
       "2398  [0.7145192389641309, 0.7065204249769905, 0.713...   \n",
       "\n",
       "                                   angle_code_sim_score  \n",
       "0     [0.5299579, 0.56805325, 0.4777574, 0.44822916,...  \n",
       "1     [0.54784065, 0.46327564, 0.5400166, 0.5001681,...  \n",
       "2     [0.46307766, 0.5018077, 0.4271498, 0.41547033,...  \n",
       "3     [0.44639945, 0.49696502, 0.51973915, 0.5151202...  \n",
       "4     [0.4117705, 0.52084935, 0.48110706, 0.579143, ...  \n",
       "...                                                 ...  \n",
       "2394  [0.47138402, 0.43102366, 0.473483, 0.40904754,...  \n",
       "2395  [0.47591305, 0.4573872, 0.48915863, 0.4374768,...  \n",
       "2396  [0.46891826, 0.46494, 0.44505328, 0.40470618, ...  \n",
       "2397  [0.44870278, 0.46203914, 0.45386016, 0.435794,...  \n",
       "2398  [0.48134735, 0.5053039, 0.44665575, 0.45466822...  \n",
       "\n",
       "[2399 rows x 8 columns]"
      ]
     },
     "execution_count": 78,
     "metadata": {},
     "output_type": "execute_result"
    }
   ],
   "source": [
    "code_domain_sim_df = sow2v_code_domain_res_df.copy()\n",
    "code_domain_sim_df['gpt_code_sim_score'] = code_dom_gpt_sim_df['gpt_code_sim_score']\n",
    "code_domain_sim_df['angle_code_sim_score'] = code_dom_angle_sim_df['angle_code_sim_score']\n",
    "code_domain_sim_df"
   ]
  },
  {
   "cell_type": "code",
   "execution_count": 79,
   "metadata": {},
   "outputs": [],
   "source": [
    "code_domain_sim_df.to_csv(\"sim_code_domain_df.csv\", index=False)"
   ]
  },
  {
   "cell_type": "code",
   "execution_count": 80,
   "metadata": {},
   "outputs": [
    {
     "data": {
      "text/html": [
       "<div>\n",
       "<style scoped>\n",
       "    .dataframe tbody tr th:only-of-type {\n",
       "        vertical-align: middle;\n",
       "    }\n",
       "\n",
       "    .dataframe tbody tr th {\n",
       "        vertical-align: top;\n",
       "    }\n",
       "\n",
       "    .dataframe thead th {\n",
       "        text-align: right;\n",
       "    }\n",
       "</style>\n",
       "<table border=\"1\" class=\"dataframe\">\n",
       "  <thead>\n",
       "    <tr style=\"text-align: right;\">\n",
       "      <th></th>\n",
       "      <th>project_name</th>\n",
       "      <th>module</th>\n",
       "      <th>concept</th>\n",
       "      <th>domains</th>\n",
       "      <th>weight_dist</th>\n",
       "      <th>sow2v_test_sim_score</th>\n",
       "      <th>gpt_test_sim_score</th>\n",
       "      <th>angle_test_sim_score</th>\n",
       "    </tr>\n",
       "  </thead>\n",
       "  <tbody>\n",
       "    <tr>\n",
       "      <th>0</th>\n",
       "      <td>01_dubbo</td>\n",
       "      <td>dubbo-cluster</td>\n",
       "      <td>[invoker, hello, menu, service, load, balance,...</td>\n",
       "      <td>[Bayesian inference, Containerization, File Tr...</td>\n",
       "      <td>[0.0006186695022802121, 0.001075709038256659, ...</td>\n",
       "      <td>[0.0, 0.0, 0.0, 0.0, 0.0, 0.0, 0.0, 0.0, 0.0, ...</td>\n",
       "      <td>[0.6969462948905291, 0.699122397759385, 0.6885...</td>\n",
       "      <td>[0.46962628, 0.51499, 0.4604619, 0.5574089, 0....</td>\n",
       "    </tr>\n",
       "    <tr>\n",
       "      <th>1</th>\n",
       "      <td>01_dubbo</td>\n",
       "      <td>dubbo-cluster</td>\n",
       "      <td>[invoker, invocation, url, cluster, mock, resu...</td>\n",
       "      <td>[Bayesian inference, Containerization, File Tr...</td>\n",
       "      <td>[0.0006186695022802121, 0.001075709038256659, ...</td>\n",
       "      <td>[0.0, 0.0, 0.0, 0.0, 0.0, 0.0, 0.0, 0.0, 0.0, ...</td>\n",
       "      <td>[0.7105901433756564, 0.7263724106567162, 0.707...</td>\n",
       "      <td>[0.42823136, 0.49603176, 0.4982496, 0.57298434...</td>\n",
       "    </tr>\n",
       "    <tr>\n",
       "      <th>2</th>\n",
       "      <td>01_dubbo</td>\n",
       "      <td>dubbo-cluster</td>\n",
       "      <td>[attachment, value, key, invoker, sticky, invo...</td>\n",
       "      <td>[Bayesian inference, Containerization, File Tr...</td>\n",
       "      <td>[0.0006186695022802121, 0.001075709038256659, ...</td>\n",
       "      <td>[0.0, 0.0, 0.0, 0.0, 0.0, 0.0, 0.0, 0.0, 0.0, ...</td>\n",
       "      <td>[0.6911600078814237, 0.7035368565205871, 0.702...</td>\n",
       "      <td>[0.40690482, 0.49188542, 0.5312029, 0.56280786...</td>\n",
       "    </tr>\n",
       "    <tr>\n",
       "      <th>3</th>\n",
       "      <td>01_dubbo</td>\n",
       "      <td>dubbo-cluster</td>\n",
       "      <td>[url, model, merge, merger, module, router, pr...</td>\n",
       "      <td>[Bayesian inference, Containerization, File Tr...</td>\n",
       "      <td>[0.0006186695022802121, 0.001075709038256659, ...</td>\n",
       "      <td>[0.0, 0.0, 0.0, 0.0, 0.0, 0.0, 0.0, 0.0, 0.0, ...</td>\n",
       "      <td>[0.6902347290707492, 0.7037540389490645, 0.712...</td>\n",
       "      <td>[0.52358633, 0.5582562, 0.5021834, 0.5214653, ...</td>\n",
       "    </tr>\n",
       "    <tr>\n",
       "      <th>4</th>\n",
       "      <td>01_dubbo</td>\n",
       "      <td>dubbo-cluster</td>\n",
       "      <td>[match, configurator, mock, bool, join, absent...</td>\n",
       "      <td>[Bayesian inference, Containerization, File Tr...</td>\n",
       "      <td>[0.0006186695022802121, 0.001075709038256659, ...</td>\n",
       "      <td>[0.0, 0.0, 0.0, 0.0, 0.0, 0.0, 0.0, 0.0, 0.0, ...</td>\n",
       "      <td>[0.6863980044930774, 0.6988732122595529, 0.689...</td>\n",
       "      <td>[0.4701079, 0.47720772, 0.42111737, 0.5253796,...</td>\n",
       "    </tr>\n",
       "    <tr>\n",
       "      <th>...</th>\n",
       "      <td>...</td>\n",
       "      <td>...</td>\n",
       "      <td>...</td>\n",
       "      <td>...</td>\n",
       "      <td>...</td>\n",
       "      <td>...</td>\n",
       "      <td>...</td>\n",
       "      <td>...</td>\n",
       "    </tr>\n",
       "    <tr>\n",
       "      <th>2218</th>\n",
       "      <td>45_archiva-components</td>\n",
       "      <td>spring-taskqueue</td>\n",
       "      <td>[task, evaluator, evaluate, project, build, co...</td>\n",
       "      <td>[HTTP client, HTTP server, Web Components, Wor...</td>\n",
       "      <td>[0.024542570908181953, 0.021938531171453578, 0...</td>\n",
       "      <td>[0.0, 0.0, 0.0, 0.0, 0.072746545, 0.0, 0.0, 0....</td>\n",
       "      <td>[0.6963655362704815, 0.689622213606539, 0.6963...</td>\n",
       "      <td>[0.45968315, 0.45377582, 0.530491, 0.47489896,...</td>\n",
       "    </tr>\n",
       "    <tr>\n",
       "      <th>2219</th>\n",
       "      <td>45_archiva-components</td>\n",
       "      <td>spring-taskqueue</td>\n",
       "      <td>[task, queue, executor, build, project, expect...</td>\n",
       "      <td>[HTTP client, HTTP server, Web Components, Wor...</td>\n",
       "      <td>[0.024542570908181953, 0.021938531171453578, 0...</td>\n",
       "      <td>[0.0, 0.0, 0.0, 0.0, 0.07758436, 0.0, 0.0, 0.0...</td>\n",
       "      <td>[0.713515348347259, 0.706661825473746, 0.70759...</td>\n",
       "      <td>[0.46313748, 0.46530777, 0.45497382, 0.4139059...</td>\n",
       "    </tr>\n",
       "    <tr>\n",
       "      <th>2220</th>\n",
       "      <td>45_archiva-components</td>\n",
       "      <td>spring-taskqueue</td>\n",
       "      <td>[task, evaluator, exit, evaluate, queue, expec...</td>\n",
       "      <td>[HTTP client, HTTP server, Web Components, Wor...</td>\n",
       "      <td>[0.024542570908181953, 0.021938531171453578, 0...</td>\n",
       "      <td>[0.0, 0.0, 0.0, 0.0, 0.02112553, 0.0, 0.0, 0.0...</td>\n",
       "      <td>[0.7195561702420139, 0.7138746536780918, 0.716...</td>\n",
       "      <td>[0.45056364, 0.45415366, 0.46568096, 0.4344633...</td>\n",
       "    </tr>\n",
       "    <tr>\n",
       "      <th>2221</th>\n",
       "      <td>45_archiva-components</td>\n",
       "      <td>spring-taskqueue</td>\n",
       "      <td>[task, evaluate, entry, evaluator, exit, proje...</td>\n",
       "      <td>[HTTP client, HTTP server, Web Components, Wor...</td>\n",
       "      <td>[0.024542570908181953, 0.021938531171453578, 0...</td>\n",
       "      <td>[0.0, 0.0, 0.0, 0.0, 0.08187002, 0.0, 0.0, 0.0...</td>\n",
       "      <td>[0.7091316903562347, 0.6954968901204565, 0.716...</td>\n",
       "      <td>[0.47785676, 0.47983515, 0.49708745, 0.4551291...</td>\n",
       "    </tr>\n",
       "    <tr>\n",
       "      <th>2222</th>\n",
       "      <td>45_archiva-components</td>\n",
       "      <td>spring-taskqueue</td>\n",
       "      <td>[evaluator, time, execution, entry, exit, igno...</td>\n",
       "      <td>[HTTP client, HTTP server, Web Components, Wor...</td>\n",
       "      <td>[0.024542570908181953, 0.021938531171453578, 0...</td>\n",
       "      <td>[0.0, 0.0, 0.0, 0.0, 0.016473297, 0.0, 0.0, 0....</td>\n",
       "      <td>[0.7353033507903608, 0.7216334703102353, 0.720...</td>\n",
       "      <td>[0.44567806, 0.44676533, 0.4591686, 0.40797904...</td>\n",
       "    </tr>\n",
       "  </tbody>\n",
       "</table>\n",
       "<p>2223 rows × 8 columns</p>\n",
       "</div>"
      ],
      "text/plain": [
       "               project_name            module   \n",
       "0                  01_dubbo     dubbo-cluster  \\\n",
       "1                  01_dubbo     dubbo-cluster   \n",
       "2                  01_dubbo     dubbo-cluster   \n",
       "3                  01_dubbo     dubbo-cluster   \n",
       "4                  01_dubbo     dubbo-cluster   \n",
       "...                     ...               ...   \n",
       "2218  45_archiva-components  spring-taskqueue   \n",
       "2219  45_archiva-components  spring-taskqueue   \n",
       "2220  45_archiva-components  spring-taskqueue   \n",
       "2221  45_archiva-components  spring-taskqueue   \n",
       "2222  45_archiva-components  spring-taskqueue   \n",
       "\n",
       "                                                concept   \n",
       "0     [invoker, hello, menu, service, load, balance,...  \\\n",
       "1     [invoker, invocation, url, cluster, mock, resu...   \n",
       "2     [attachment, value, key, invoker, sticky, invo...   \n",
       "3     [url, model, merge, merger, module, router, pr...   \n",
       "4     [match, configurator, mock, bool, join, absent...   \n",
       "...                                                 ...   \n",
       "2218  [task, evaluator, evaluate, project, build, co...   \n",
       "2219  [task, queue, executor, build, project, expect...   \n",
       "2220  [task, evaluator, exit, evaluate, queue, expec...   \n",
       "2221  [task, evaluate, entry, evaluator, exit, proje...   \n",
       "2222  [evaluator, time, execution, entry, exit, igno...   \n",
       "\n",
       "                                                domains   \n",
       "0     [Bayesian inference, Containerization, File Tr...  \\\n",
       "1     [Bayesian inference, Containerization, File Tr...   \n",
       "2     [Bayesian inference, Containerization, File Tr...   \n",
       "3     [Bayesian inference, Containerization, File Tr...   \n",
       "4     [Bayesian inference, Containerization, File Tr...   \n",
       "...                                                 ...   \n",
       "2218  [HTTP client, HTTP server, Web Components, Wor...   \n",
       "2219  [HTTP client, HTTP server, Web Components, Wor...   \n",
       "2220  [HTTP client, HTTP server, Web Components, Wor...   \n",
       "2221  [HTTP client, HTTP server, Web Components, Wor...   \n",
       "2222  [HTTP client, HTTP server, Web Components, Wor...   \n",
       "\n",
       "                                            weight_dist   \n",
       "0     [0.0006186695022802121, 0.001075709038256659, ...  \\\n",
       "1     [0.0006186695022802121, 0.001075709038256659, ...   \n",
       "2     [0.0006186695022802121, 0.001075709038256659, ...   \n",
       "3     [0.0006186695022802121, 0.001075709038256659, ...   \n",
       "4     [0.0006186695022802121, 0.001075709038256659, ...   \n",
       "...                                                 ...   \n",
       "2218  [0.024542570908181953, 0.021938531171453578, 0...   \n",
       "2219  [0.024542570908181953, 0.021938531171453578, 0...   \n",
       "2220  [0.024542570908181953, 0.021938531171453578, 0...   \n",
       "2221  [0.024542570908181953, 0.021938531171453578, 0...   \n",
       "2222  [0.024542570908181953, 0.021938531171453578, 0...   \n",
       "\n",
       "                                   sow2v_test_sim_score   \n",
       "0     [0.0, 0.0, 0.0, 0.0, 0.0, 0.0, 0.0, 0.0, 0.0, ...  \\\n",
       "1     [0.0, 0.0, 0.0, 0.0, 0.0, 0.0, 0.0, 0.0, 0.0, ...   \n",
       "2     [0.0, 0.0, 0.0, 0.0, 0.0, 0.0, 0.0, 0.0, 0.0, ...   \n",
       "3     [0.0, 0.0, 0.0, 0.0, 0.0, 0.0, 0.0, 0.0, 0.0, ...   \n",
       "4     [0.0, 0.0, 0.0, 0.0, 0.0, 0.0, 0.0, 0.0, 0.0, ...   \n",
       "...                                                 ...   \n",
       "2218  [0.0, 0.0, 0.0, 0.0, 0.072746545, 0.0, 0.0, 0....   \n",
       "2219  [0.0, 0.0, 0.0, 0.0, 0.07758436, 0.0, 0.0, 0.0...   \n",
       "2220  [0.0, 0.0, 0.0, 0.0, 0.02112553, 0.0, 0.0, 0.0...   \n",
       "2221  [0.0, 0.0, 0.0, 0.0, 0.08187002, 0.0, 0.0, 0.0...   \n",
       "2222  [0.0, 0.0, 0.0, 0.0, 0.016473297, 0.0, 0.0, 0....   \n",
       "\n",
       "                                     gpt_test_sim_score   \n",
       "0     [0.6969462948905291, 0.699122397759385, 0.6885...  \\\n",
       "1     [0.7105901433756564, 0.7263724106567162, 0.707...   \n",
       "2     [0.6911600078814237, 0.7035368565205871, 0.702...   \n",
       "3     [0.6902347290707492, 0.7037540389490645, 0.712...   \n",
       "4     [0.6863980044930774, 0.6988732122595529, 0.689...   \n",
       "...                                                 ...   \n",
       "2218  [0.6963655362704815, 0.689622213606539, 0.6963...   \n",
       "2219  [0.713515348347259, 0.706661825473746, 0.70759...   \n",
       "2220  [0.7195561702420139, 0.7138746536780918, 0.716...   \n",
       "2221  [0.7091316903562347, 0.6954968901204565, 0.716...   \n",
       "2222  [0.7353033507903608, 0.7216334703102353, 0.720...   \n",
       "\n",
       "                                   angle_test_sim_score  \n",
       "0     [0.46962628, 0.51499, 0.4604619, 0.5574089, 0....  \n",
       "1     [0.42823136, 0.49603176, 0.4982496, 0.57298434...  \n",
       "2     [0.40690482, 0.49188542, 0.5312029, 0.56280786...  \n",
       "3     [0.52358633, 0.5582562, 0.5021834, 0.5214653, ...  \n",
       "4     [0.4701079, 0.47720772, 0.42111737, 0.5253796,...  \n",
       "...                                                 ...  \n",
       "2218  [0.45968315, 0.45377582, 0.530491, 0.47489896,...  \n",
       "2219  [0.46313748, 0.46530777, 0.45497382, 0.4139059...  \n",
       "2220  [0.45056364, 0.45415366, 0.46568096, 0.4344633...  \n",
       "2221  [0.47785676, 0.47983515, 0.49708745, 0.4551291...  \n",
       "2222  [0.44567806, 0.44676533, 0.4591686, 0.40797904...  \n",
       "\n",
       "[2223 rows x 8 columns]"
      ]
     },
     "execution_count": 80,
     "metadata": {},
     "output_type": "execute_result"
    }
   ],
   "source": [
    "test_domain_sim_df = sow2v_test_domain_res_df.copy()\n",
    "test_domain_sim_df['gpt_test_sim_score'] = test_dom_gpt_sim_df['gpt_test_sim_score']\n",
    "test_domain_sim_df['angle_test_sim_score'] = test_dom_angle_sim_df['angle_test_sim_score']\n",
    "test_domain_sim_df"
   ]
  },
  {
   "cell_type": "code",
   "execution_count": 81,
   "metadata": {},
   "outputs": [],
   "source": [
    "test_domain_sim_df.to_csv(\"sim_test_domain_df.csv\", index=False)"
   ]
  },
  {
   "cell_type": "code",
   "execution_count": 82,
   "metadata": {},
   "outputs": [
    {
     "data": {
      "text/html": [
       "<div>\n",
       "<style scoped>\n",
       "    .dataframe tbody tr th:only-of-type {\n",
       "        vertical-align: middle;\n",
       "    }\n",
       "\n",
       "    .dataframe tbody tr th {\n",
       "        vertical-align: top;\n",
       "    }\n",
       "\n",
       "    .dataframe thead th {\n",
       "        text-align: right;\n",
       "    }\n",
       "</style>\n",
       "<table border=\"1\" class=\"dataframe\">\n",
       "  <thead>\n",
       "    <tr style=\"text-align: right;\">\n",
       "      <th></th>\n",
       "      <th>project_name</th>\n",
       "      <th>module</th>\n",
       "      <th>concept</th>\n",
       "      <th>domains</th>\n",
       "      <th>weight_dist</th>\n",
       "      <th>sow2v_doc_sim_score</th>\n",
       "      <th>gpt_doc_sim_score</th>\n",
       "      <th>angle_doc_sim_score</th>\n",
       "    </tr>\n",
       "  </thead>\n",
       "  <tbody>\n",
       "    <tr>\n",
       "      <th>0</th>\n",
       "      <td>01_dubbo</td>\n",
       "      <td>dubbo-cluster</td>\n",
       "      <td>[service, see, issue, sample, project, github,...</td>\n",
       "      <td>[Bayesian inference, Containerization, File Tr...</td>\n",
       "      <td>[0.0006186695022802121, 0.001075709038256659, ...</td>\n",
       "      <td>[0.0, 0.0, 0.0, 0.0, 0.0, 0.0, 0.0, 0.0, 0.0, ...</td>\n",
       "      <td>[0.7151548075641246, 0.7452139517589933, 0.726...</td>\n",
       "      <td>[0.4223302, 0.54775983, 0.4744687, 0.528439, 0...</td>\n",
       "    </tr>\n",
       "    <tr>\n",
       "      <th>1</th>\n",
       "      <td>01_dubbo</td>\n",
       "      <td>dubbo-cluster</td>\n",
       "      <td>[contribute, issue, sample, project, service, ...</td>\n",
       "      <td>[Bayesian inference, Containerization, File Tr...</td>\n",
       "      <td>[0.0006186695022802121, 0.001075709038256659, ...</td>\n",
       "      <td>[0.0, 0.0, 0.0, 0.0, 0.0, 0.0, 0.0, 0.0, 0.0, ...</td>\n",
       "      <td>[0.7262556385432636, 0.7367756398724646, 0.720...</td>\n",
       "      <td>[0.38913843, 0.53583735, 0.45912963, 0.4984625...</td>\n",
       "    </tr>\n",
       "    <tr>\n",
       "      <th>2</th>\n",
       "      <td>01_dubbo</td>\n",
       "      <td>dubbo-cluster</td>\n",
       "      <td>[issue, service, project, list, see, github, r...</td>\n",
       "      <td>[Bayesian inference, Containerization, File Tr...</td>\n",
       "      <td>[0.0006186695022802121, 0.001075709038256659, ...</td>\n",
       "      <td>[0.0, 0.0, 0.0, 0.0, 0.0, 0.0, 0.0, 0.0, 0.0, ...</td>\n",
       "      <td>[0.7266753311234634, 0.7361773056848603, 0.727...</td>\n",
       "      <td>[0.4397305, 0.5552181, 0.4954759, 0.53429127, ...</td>\n",
       "    </tr>\n",
       "    <tr>\n",
       "      <th>3</th>\n",
       "      <td>01_dubbo</td>\n",
       "      <td>dubbo-cluster</td>\n",
       "      <td>[service, see, project, build, github, sample,...</td>\n",
       "      <td>[Bayesian inference, Containerization, File Tr...</td>\n",
       "      <td>[0.0006186695022802121, 0.001075709038256659, ...</td>\n",
       "      <td>[0.0, 0.0, 0.0, 0.0, 0.0, 0.0, 0.0, 0.0, 0.0, ...</td>\n",
       "      <td>[0.7181566198682772, 0.7366335309908381, 0.725...</td>\n",
       "      <td>[0.39362937, 0.5181406, 0.4197607, 0.5035975, ...</td>\n",
       "    </tr>\n",
       "    <tr>\n",
       "      <th>4</th>\n",
       "      <td>01_dubbo</td>\n",
       "      <td>dubbo-cluster</td>\n",
       "      <td>[see, issue, sample, service, contribute, guid...</td>\n",
       "      <td>[Bayesian inference, Containerization, File Tr...</td>\n",
       "      <td>[0.0006186695022802121, 0.001075709038256659, ...</td>\n",
       "      <td>[0.0, 0.0, 0.0, 0.0, 0.0, 0.0, 0.0, 0.0, 0.0, ...</td>\n",
       "      <td>[0.7274142866301703, 0.7355761559871075, 0.720...</td>\n",
       "      <td>[0.45590687, 0.56785774, 0.5061829, 0.53482467...</td>\n",
       "    </tr>\n",
       "    <tr>\n",
       "      <th>...</th>\n",
       "      <td>...</td>\n",
       "      <td>...</td>\n",
       "      <td>...</td>\n",
       "      <td>...</td>\n",
       "      <td>...</td>\n",
       "      <td>...</td>\n",
       "      <td>...</td>\n",
       "      <td>...</td>\n",
       "    </tr>\n",
       "    <tr>\n",
       "      <th>2294</th>\n",
       "      <td>45_archiva-components</td>\n",
       "      <td>spring-taskqueue</td>\n",
       "      <td>[repository, publish, web, mvn, site, use, bui...</td>\n",
       "      <td>[HTTP client, HTTP server, Web Components, Wor...</td>\n",
       "      <td>[0.024542570908181953, 0.021938531171453578, 0...</td>\n",
       "      <td>[0.0, 0.0, 0.0, 0.0, 0.26086873, 0.0, 0.0, 0.0...</td>\n",
       "      <td>[0.745366006597648, 0.7616155131537632, 0.7709...</td>\n",
       "      <td>[0.5224836, 0.49912876, 0.57825845, 0.54174364...</td>\n",
       "    </tr>\n",
       "    <tr>\n",
       "      <th>2295</th>\n",
       "      <td>45_archiva-components</td>\n",
       "      <td>spring-taskqueue</td>\n",
       "      <td>[publish, repository, web, site, build, mvn, c...</td>\n",
       "      <td>[HTTP client, HTTP server, Web Components, Wor...</td>\n",
       "      <td>[0.024542570908181953, 0.021938531171453578, 0...</td>\n",
       "      <td>[0.0, 0.0, 0.0, 0.0, 0.31279874, 0.0, 0.0, 0.0...</td>\n",
       "      <td>[0.7540390295412137, 0.7645617605796236, 0.766...</td>\n",
       "      <td>[0.54529005, 0.53203326, 0.6424372, 0.58816844...</td>\n",
       "    </tr>\n",
       "    <tr>\n",
       "      <th>2296</th>\n",
       "      <td>45_archiva-components</td>\n",
       "      <td>spring-taskqueue</td>\n",
       "      <td>[repository, mvn, publish, build, checkout, si...</td>\n",
       "      <td>[HTTP client, HTTP server, Web Components, Wor...</td>\n",
       "      <td>[0.024542570908181953, 0.021938531171453578, 0...</td>\n",
       "      <td>[0.0, 0.0, 0.0, 0.0, 0.3412402, 0.0, 0.0, 0.0,...</td>\n",
       "      <td>[0.7577008045568522, 0.766975947736308, 0.7863...</td>\n",
       "      <td>[0.52580225, 0.49857324, 0.633036, 0.5670292, ...</td>\n",
       "    </tr>\n",
       "    <tr>\n",
       "      <th>2297</th>\n",
       "      <td>45_archiva-components</td>\n",
       "      <td>spring-taskqueue</td>\n",
       "      <td>[repository, publish, site, web, mvn, checkout...</td>\n",
       "      <td>[HTTP client, HTTP server, Web Components, Wor...</td>\n",
       "      <td>[0.024542570908181953, 0.021938531171453578, 0...</td>\n",
       "      <td>[0.0, 0.0, 0.0, 0.0, 0.3412402, 0.0, 0.0, 0.0,...</td>\n",
       "      <td>[0.7578298813154625, 0.7653744358564094, 0.783...</td>\n",
       "      <td>[0.5275348, 0.5032817, 0.6318431, 0.5592589, 0...</td>\n",
       "    </tr>\n",
       "    <tr>\n",
       "      <th>2298</th>\n",
       "      <td>45_archiva-components</td>\n",
       "      <td>spring-taskqueue</td>\n",
       "      <td>[repository, publish, mvn, web, site, use, bui...</td>\n",
       "      <td>[HTTP client, HTTP server, Web Components, Wor...</td>\n",
       "      <td>[0.024542570908181953, 0.021938531171453578, 0...</td>\n",
       "      <td>[0.0, 0.0, 0.0, 0.0, 0.32542464, 0.0, 0.0, 0.0...</td>\n",
       "      <td>[0.7601853391324599, 0.7625266964192183, 0.765...</td>\n",
       "      <td>[0.535234, 0.5184861, 0.6258935, 0.5690726, 0....</td>\n",
       "    </tr>\n",
       "  </tbody>\n",
       "</table>\n",
       "<p>2299 rows × 8 columns</p>\n",
       "</div>"
      ],
      "text/plain": [
       "               project_name            module   \n",
       "0                  01_dubbo     dubbo-cluster  \\\n",
       "1                  01_dubbo     dubbo-cluster   \n",
       "2                  01_dubbo     dubbo-cluster   \n",
       "3                  01_dubbo     dubbo-cluster   \n",
       "4                  01_dubbo     dubbo-cluster   \n",
       "...                     ...               ...   \n",
       "2294  45_archiva-components  spring-taskqueue   \n",
       "2295  45_archiva-components  spring-taskqueue   \n",
       "2296  45_archiva-components  spring-taskqueue   \n",
       "2297  45_archiva-components  spring-taskqueue   \n",
       "2298  45_archiva-components  spring-taskqueue   \n",
       "\n",
       "                                                concept   \n",
       "0     [service, see, issue, sample, project, github,...  \\\n",
       "1     [contribute, issue, sample, project, service, ...   \n",
       "2     [issue, service, project, list, see, github, r...   \n",
       "3     [service, see, project, build, github, sample,...   \n",
       "4     [see, issue, sample, service, contribute, guid...   \n",
       "...                                                 ...   \n",
       "2294  [repository, publish, web, mvn, site, use, bui...   \n",
       "2295  [publish, repository, web, site, build, mvn, c...   \n",
       "2296  [repository, mvn, publish, build, checkout, si...   \n",
       "2297  [repository, publish, site, web, mvn, checkout...   \n",
       "2298  [repository, publish, mvn, web, site, use, bui...   \n",
       "\n",
       "                                                domains   \n",
       "0     [Bayesian inference, Containerization, File Tr...  \\\n",
       "1     [Bayesian inference, Containerization, File Tr...   \n",
       "2     [Bayesian inference, Containerization, File Tr...   \n",
       "3     [Bayesian inference, Containerization, File Tr...   \n",
       "4     [Bayesian inference, Containerization, File Tr...   \n",
       "...                                                 ...   \n",
       "2294  [HTTP client, HTTP server, Web Components, Wor...   \n",
       "2295  [HTTP client, HTTP server, Web Components, Wor...   \n",
       "2296  [HTTP client, HTTP server, Web Components, Wor...   \n",
       "2297  [HTTP client, HTTP server, Web Components, Wor...   \n",
       "2298  [HTTP client, HTTP server, Web Components, Wor...   \n",
       "\n",
       "                                            weight_dist   \n",
       "0     [0.0006186695022802121, 0.001075709038256659, ...  \\\n",
       "1     [0.0006186695022802121, 0.001075709038256659, ...   \n",
       "2     [0.0006186695022802121, 0.001075709038256659, ...   \n",
       "3     [0.0006186695022802121, 0.001075709038256659, ...   \n",
       "4     [0.0006186695022802121, 0.001075709038256659, ...   \n",
       "...                                                 ...   \n",
       "2294  [0.024542570908181953, 0.021938531171453578, 0...   \n",
       "2295  [0.024542570908181953, 0.021938531171453578, 0...   \n",
       "2296  [0.024542570908181953, 0.021938531171453578, 0...   \n",
       "2297  [0.024542570908181953, 0.021938531171453578, 0...   \n",
       "2298  [0.024542570908181953, 0.021938531171453578, 0...   \n",
       "\n",
       "                                    sow2v_doc_sim_score   \n",
       "0     [0.0, 0.0, 0.0, 0.0, 0.0, 0.0, 0.0, 0.0, 0.0, ...  \\\n",
       "1     [0.0, 0.0, 0.0, 0.0, 0.0, 0.0, 0.0, 0.0, 0.0, ...   \n",
       "2     [0.0, 0.0, 0.0, 0.0, 0.0, 0.0, 0.0, 0.0, 0.0, ...   \n",
       "3     [0.0, 0.0, 0.0, 0.0, 0.0, 0.0, 0.0, 0.0, 0.0, ...   \n",
       "4     [0.0, 0.0, 0.0, 0.0, 0.0, 0.0, 0.0, 0.0, 0.0, ...   \n",
       "...                                                 ...   \n",
       "2294  [0.0, 0.0, 0.0, 0.0, 0.26086873, 0.0, 0.0, 0.0...   \n",
       "2295  [0.0, 0.0, 0.0, 0.0, 0.31279874, 0.0, 0.0, 0.0...   \n",
       "2296  [0.0, 0.0, 0.0, 0.0, 0.3412402, 0.0, 0.0, 0.0,...   \n",
       "2297  [0.0, 0.0, 0.0, 0.0, 0.3412402, 0.0, 0.0, 0.0,...   \n",
       "2298  [0.0, 0.0, 0.0, 0.0, 0.32542464, 0.0, 0.0, 0.0...   \n",
       "\n",
       "                                      gpt_doc_sim_score   \n",
       "0     [0.7151548075641246, 0.7452139517589933, 0.726...  \\\n",
       "1     [0.7262556385432636, 0.7367756398724646, 0.720...   \n",
       "2     [0.7266753311234634, 0.7361773056848603, 0.727...   \n",
       "3     [0.7181566198682772, 0.7366335309908381, 0.725...   \n",
       "4     [0.7274142866301703, 0.7355761559871075, 0.720...   \n",
       "...                                                 ...   \n",
       "2294  [0.745366006597648, 0.7616155131537632, 0.7709...   \n",
       "2295  [0.7540390295412137, 0.7645617605796236, 0.766...   \n",
       "2296  [0.7577008045568522, 0.766975947736308, 0.7863...   \n",
       "2297  [0.7578298813154625, 0.7653744358564094, 0.783...   \n",
       "2298  [0.7601853391324599, 0.7625266964192183, 0.765...   \n",
       "\n",
       "                                    angle_doc_sim_score  \n",
       "0     [0.4223302, 0.54775983, 0.4744687, 0.528439, 0...  \n",
       "1     [0.38913843, 0.53583735, 0.45912963, 0.4984625...  \n",
       "2     [0.4397305, 0.5552181, 0.4954759, 0.53429127, ...  \n",
       "3     [0.39362937, 0.5181406, 0.4197607, 0.5035975, ...  \n",
       "4     [0.45590687, 0.56785774, 0.5061829, 0.53482467...  \n",
       "...                                                 ...  \n",
       "2294  [0.5224836, 0.49912876, 0.57825845, 0.54174364...  \n",
       "2295  [0.54529005, 0.53203326, 0.6424372, 0.58816844...  \n",
       "2296  [0.52580225, 0.49857324, 0.633036, 0.5670292, ...  \n",
       "2297  [0.5275348, 0.5032817, 0.6318431, 0.5592589, 0...  \n",
       "2298  [0.535234, 0.5184861, 0.6258935, 0.5690726, 0....  \n",
       "\n",
       "[2299 rows x 8 columns]"
      ]
     },
     "execution_count": 82,
     "metadata": {},
     "output_type": "execute_result"
    }
   ],
   "source": [
    "doc_domain_sim_df = sow2v_doc_domain_res_df.copy()\n",
    "doc_domain_sim_df['gpt_doc_sim_score'] = doc_dom_gpt_sim_df['gpt_doc_sim_score']\n",
    "doc_domain_sim_df['angle_doc_sim_score'] = doc_dom_angle_sim_df['angle_doc_sim_score']\n",
    "doc_domain_sim_df"
   ]
  },
  {
   "cell_type": "code",
   "execution_count": 83,
   "metadata": {},
   "outputs": [],
   "source": [
    "doc_domain_sim_df.to_csv(\"sim_doc_domain_df.csv\", index=False)"
   ]
  },
  {
   "cell_type": "markdown",
   "metadata": {},
   "source": [
    "## Represent concepts in a vector space (RQ1)"
   ]
  },
  {
   "cell_type": "code",
   "execution_count": 1,
   "metadata": {},
   "outputs": [],
   "source": [
    "import pandas as pd\n",
    "\n",
    "code_domain_sim_df = pd.read_csv(\"sim_code_domain_df.csv\")\n",
    "test_domain_sim_df = pd.read_csv(\"sim_test_domain_df.csv\")\n",
    "doc_domain_sim_df = pd.read_csv(\"sim_doc_domain_df.csv\")"
   ]
  },
  {
   "cell_type": "code",
   "execution_count": 2,
   "metadata": {},
   "outputs": [],
   "source": [
    "topics_df = pd.read_csv(\"topics_res_df.csv\")\n",
    "doc_num_list = topics_df[[\"project_name\", \"doc_num_topics\"]].drop_duplicates(ignore_index=True)['doc_num_topics'].tolist()"
   ]
  },
  {
   "cell_type": "code",
   "execution_count": 3,
   "metadata": {},
   "outputs": [],
   "source": [
    "new_doc_df_list = []\n",
    "\n",
    "for prefix in range(1,46):\n",
    "    if prefix<10:\n",
    "        prefix = '0' + str(prefix)\n",
    "    new_doc_df_list.append(doc_domain_sim_df[doc_domain_sim_df['project_name'].str.startswith(str(prefix))][['project_name', 'concept']][:doc_num_list[int(prefix)-1]])"
   ]
  },
  {
   "cell_type": "code",
   "execution_count": 4,
   "metadata": {},
   "outputs": [
    {
     "data": {
      "text/html": [
       "<div>\n",
       "<style scoped>\n",
       "    .dataframe tbody tr th:only-of-type {\n",
       "        vertical-align: middle;\n",
       "    }\n",
       "\n",
       "    .dataframe tbody tr th {\n",
       "        vertical-align: top;\n",
       "    }\n",
       "\n",
       "    .dataframe thead th {\n",
       "        text-align: right;\n",
       "    }\n",
       "</style>\n",
       "<table border=\"1\" class=\"dataframe\">\n",
       "  <thead>\n",
       "    <tr style=\"text-align: right;\">\n",
       "      <th></th>\n",
       "      <th>project_name</th>\n",
       "      <th>concept</th>\n",
       "    </tr>\n",
       "  </thead>\n",
       "  <tbody>\n",
       "    <tr>\n",
       "      <th>0</th>\n",
       "      <td>01_dubbo</td>\n",
       "      <td>['service', 'see', 'issue', 'sample', 'project...</td>\n",
       "    </tr>\n",
       "    <tr>\n",
       "      <th>1</th>\n",
       "      <td>01_dubbo</td>\n",
       "      <td>['contribute', 'issue', 'sample', 'project', '...</td>\n",
       "    </tr>\n",
       "    <tr>\n",
       "      <th>2</th>\n",
       "      <td>01_dubbo</td>\n",
       "      <td>['issue', 'service', 'project', 'list', 'see',...</td>\n",
       "    </tr>\n",
       "    <tr>\n",
       "      <th>3</th>\n",
       "      <td>01_dubbo</td>\n",
       "      <td>['service', 'see', 'project', 'build', 'github...</td>\n",
       "    </tr>\n",
       "    <tr>\n",
       "      <th>4</th>\n",
       "      <td>01_dubbo</td>\n",
       "      <td>['see', 'issue', 'sample', 'service', 'contrib...</td>\n",
       "    </tr>\n",
       "    <tr>\n",
       "      <th>...</th>\n",
       "      <td>...</td>\n",
       "      <td>...</td>\n",
       "    </tr>\n",
       "    <tr>\n",
       "      <th>343</th>\n",
       "      <td>45_archiva-components</td>\n",
       "      <td>['repository', 'publish', 'web', 'mvn', 'site'...</td>\n",
       "    </tr>\n",
       "    <tr>\n",
       "      <th>344</th>\n",
       "      <td>45_archiva-components</td>\n",
       "      <td>['publish', 'repository', 'web', 'site', 'buil...</td>\n",
       "    </tr>\n",
       "    <tr>\n",
       "      <th>345</th>\n",
       "      <td>45_archiva-components</td>\n",
       "      <td>['repository', 'mvn', 'publish', 'build', 'che...</td>\n",
       "    </tr>\n",
       "    <tr>\n",
       "      <th>346</th>\n",
       "      <td>45_archiva-components</td>\n",
       "      <td>['repository', 'publish', 'site', 'web', 'mvn'...</td>\n",
       "    </tr>\n",
       "    <tr>\n",
       "      <th>347</th>\n",
       "      <td>45_archiva-components</td>\n",
       "      <td>['repository', 'publish', 'mvn', 'web', 'site'...</td>\n",
       "    </tr>\n",
       "  </tbody>\n",
       "</table>\n",
       "<p>348 rows × 2 columns</p>\n",
       "</div>"
      ],
      "text/plain": [
       "              project_name                                            concept\n",
       "0                 01_dubbo  ['service', 'see', 'issue', 'sample', 'project...\n",
       "1                 01_dubbo  ['contribute', 'issue', 'sample', 'project', '...\n",
       "2                 01_dubbo  ['issue', 'service', 'project', 'list', 'see',...\n",
       "3                 01_dubbo  ['service', 'see', 'project', 'build', 'github...\n",
       "4                 01_dubbo  ['see', 'issue', 'sample', 'service', 'contrib...\n",
       "..                     ...                                                ...\n",
       "343  45_archiva-components  ['repository', 'publish', 'web', 'mvn', 'site'...\n",
       "344  45_archiva-components  ['publish', 'repository', 'web', 'site', 'buil...\n",
       "345  45_archiva-components  ['repository', 'mvn', 'publish', 'build', 'che...\n",
       "346  45_archiva-components  ['repository', 'publish', 'site', 'web', 'mvn'...\n",
       "347  45_archiva-components  ['repository', 'publish', 'mvn', 'web', 'site'...\n",
       "\n",
       "[348 rows x 2 columns]"
      ]
     },
     "execution_count": 4,
     "metadata": {},
     "output_type": "execute_result"
    }
   ],
   "source": [
    "new_doc_df = pd.concat(new_doc_df_list, ignore_index=True)\n",
    "new_doc_df"
   ]
  },
  {
   "cell_type": "code",
   "execution_count": 5,
   "metadata": {},
   "outputs": [],
   "source": [
    "module_df = pd.read_csv(\"module_df.csv\")\n",
    "code_concept_list = module_df['code_topics']\n",
    "test_concept_list = module_df['test_topics']\n",
    "doc_concept_list = module_df['doc_topics']\n",
    "prob_dist_list = module_df['prob_dist']\n",
    "domains_list = module_df['domains']"
   ]
  },
  {
   "cell_type": "code",
   "execution_count": 6,
   "metadata": {},
   "outputs": [],
   "source": [
    "gpt_doc_concept_list = doc_concept_list.drop_duplicates(ignore_index=True)"
   ]
  },
  {
   "cell_type": "code",
   "execution_count": 7,
   "metadata": {},
   "outputs": [],
   "source": [
    "from numpy import load\n",
    "\n",
    "gpt_code_vec_list = []\n",
    "gpt_test_vec_list = []\n",
    "gpt_doc_vec_list = []\n",
    "angle_code_vec_list = []\n",
    "angle_test_vec_list = []\n",
    "angle_doc_vec_list = []\n",
    "\n",
    "for i in range(0, len(code_concept_list)): # 313 modules\n",
    "\n",
    "    curr_code_vec = load(f\"gpt_code_vec\\\\{i}.npy\")\n",
    "    gpt_code_vec_list.append(curr_code_vec)\n",
    "\n",
    "for i in range(0, len(test_concept_list)): # 313 modules\n",
    "\n",
    "    curr_test_vec = load(f\"gpt_test_vec\\\\{i}.npy\")\n",
    "    gpt_test_vec_list.append(curr_test_vec)\n",
    "\n",
    "for i in range(0, len(gpt_doc_concept_list)):\n",
    "\n",
    "    curr_doc_vec = load(f\"gpt_doc_vec\\\\{i}.npy\")\n",
    "    gpt_doc_vec_list.append(curr_doc_vec)\n",
    "\n",
    "for i in range(0, len(code_concept_list)): # 313 modules\n",
    "\n",
    "    curr_code_vec = load(f\"angle_code_vec\\\\{i}.npy\")\n",
    "    angle_code_vec_list.append(curr_code_vec)\n",
    "\n",
    "for i in range(0, len(test_concept_list)): # 313 modules\n",
    "\n",
    "    curr_test_vec = load(f\"angle_test_vec\\\\{i}.npy\")\n",
    "    angle_test_vec_list.append(curr_test_vec)\n",
    "\n",
    "for i in range(0, len(doc_concept_list)):\n",
    "\n",
    "    curr_doc_vec = load(f\"angle_doc_vec\\\\{i}.npy\")\n",
    "    angle_doc_vec_list.append(curr_doc_vec)"
   ]
  },
  {
   "cell_type": "code",
   "execution_count": 76,
   "metadata": {},
   "outputs": [],
   "source": [
    "from gensim.models.keyedvectors import KeyedVectors\n",
    "\n",
    "so_w2v_model = KeyedVectors.load_word2vec_format('C:/Users/biadge/OneDrive - BP/PhD/extraction/SO_vectors_200.bin', binary=True)\n",
    "\n",
    "def run_vec_sow2v(str_list):\n",
    "    return so_w2v_model.get_mean_vector(str_list, ignore_missing = True)"
   ]
  },
  {
   "cell_type": "code",
   "execution_count": 78,
   "metadata": {},
   "outputs": [
    {
     "data": {
      "text/html": [
       "<div>\n",
       "<style scoped>\n",
       "    .dataframe tbody tr th:only-of-type {\n",
       "        vertical-align: middle;\n",
       "    }\n",
       "\n",
       "    .dataframe tbody tr th {\n",
       "        vertical-align: top;\n",
       "    }\n",
       "\n",
       "    .dataframe thead th {\n",
       "        text-align: right;\n",
       "    }\n",
       "</style>\n",
       "<table border=\"1\" class=\"dataframe\">\n",
       "  <thead>\n",
       "    <tr style=\"text-align: right;\">\n",
       "      <th></th>\n",
       "      <th>project_name</th>\n",
       "      <th>module</th>\n",
       "      <th>concept</th>\n",
       "      <th>sow2v_code_vec</th>\n",
       "      <th>gpt_code_vec</th>\n",
       "      <th>angle_code_vec</th>\n",
       "    </tr>\n",
       "  </thead>\n",
       "  <tbody>\n",
       "    <tr>\n",
       "      <th>0</th>\n",
       "      <td>01_dubbo</td>\n",
       "      <td>dubbo-cluster</td>\n",
       "      <td>['merger', 'model', 'scope', 'aware', 'end', '...</td>\n",
       "      <td>[0.05225145, -0.039243843, -0.1073313, -0.0605...</td>\n",
       "      <td>[-0.026622535660862923, 0.0065000769682228565,...</td>\n",
       "      <td>[-0.18775713, -0.37221402, -0.102094874, 0.436...</td>\n",
       "    </tr>\n",
       "    <tr>\n",
       "      <th>1</th>\n",
       "      <td>01_dubbo</td>\n",
       "      <td>dubbo-cluster</td>\n",
       "      <td>['match', 'value', 'bool', 'exact', 'weight', ...</td>\n",
       "      <td>[0.07469578, -0.03465767, -0.085746214, -0.050...</td>\n",
       "      <td>[-0.019484085962176323, -0.0039446307346224785...</td>\n",
       "      <td>[0.03253293, 0.5728816, 0.579907, 0.67069566, ...</td>\n",
       "    </tr>\n",
       "    <tr>\n",
       "      <th>2</th>\n",
       "      <td>01_dubbo</td>\n",
       "      <td>dubbo-cluster</td>\n",
       "      <td>['rule', 'mesh', 'listener', 'app', 'merger', ...</td>\n",
       "      <td>[0.059995174, -0.054836363, -0.0915457, -0.070...</td>\n",
       "      <td>[-0.02054414711892605, 0.010302042588591576, 0...</td>\n",
       "      <td>[-0.019751057, -0.33930963, -0.1023085, 0.2829...</td>\n",
       "    </tr>\n",
       "    <tr>\n",
       "      <th>3</th>\n",
       "      <td>01_dubbo</td>\n",
       "      <td>dubbo-cluster</td>\n",
       "      <td>['rule', 'key', 'invoker', 'node', 'router', '...</td>\n",
       "      <td>[0.072560035, -0.042324353, -0.080996744, -0.0...</td>\n",
       "      <td>[-0.014745050109922886, -0.01198360975831747, ...</td>\n",
       "      <td>[-0.553166, -0.27252257, -0.06934874, 0.168628...</td>\n",
       "    </tr>\n",
       "    <tr>\n",
       "      <th>4</th>\n",
       "      <td>01_dubbo</td>\n",
       "      <td>dubbo-cluster</td>\n",
       "      <td>['url', 'invoker', 'invocation', 'configurator...</td>\n",
       "      <td>[0.06503355, -0.03390938, -0.099120185, -0.053...</td>\n",
       "      <td>[0.004753707442432642, -0.000175158231286332, ...</td>\n",
       "      <td>[-0.49914038, -0.24755313, -0.028283862, 0.168...</td>\n",
       "    </tr>\n",
       "    <tr>\n",
       "      <th>...</th>\n",
       "      <td>...</td>\n",
       "      <td>...</td>\n",
       "      <td>...</td>\n",
       "      <td>...</td>\n",
       "      <td>...</td>\n",
       "      <td>...</td>\n",
       "    </tr>\n",
       "    <tr>\n",
       "      <th>2394</th>\n",
       "      <td>45_archiva-components</td>\n",
       "      <td>spring-registry</td>\n",
       "      <td>['key', 'save', 'registry', 'add', 'path', 'bu...</td>\n",
       "      <td>[0.06795784, -0.04480338, -0.079844356, -0.057...</td>\n",
       "      <td>[0.003726670518517494, 0.006566038820892572, 0...</td>\n",
       "      <td>[0.04506687, 0.37849292, -0.23495513, -0.19402...</td>\n",
       "    </tr>\n",
       "    <tr>\n",
       "      <th>2395</th>\n",
       "      <td>45_archiva-components</td>\n",
       "      <td>spring-registry</td>\n",
       "      <td>['key', 'registry', 'add', 'value', 'path', 'b...</td>\n",
       "      <td>[0.0730496, -0.04498606, -0.083345376, -0.0627...</td>\n",
       "      <td>[-0.0022075516171753407, -0.011396508663892746...</td>\n",
       "      <td>[0.0833093, 0.3905984, -0.40362155, -0.0959535...</td>\n",
       "    </tr>\n",
       "    <tr>\n",
       "      <th>2396</th>\n",
       "      <td>45_archiva-components</td>\n",
       "      <td>spring-taskqueue</td>\n",
       "      <td>['task', 'evaluator', 'queue', 'executor', 'en...</td>\n",
       "      <td>[0.08464562, -0.040184315, -0.07855084, -0.058...</td>\n",
       "      <td>[-0.012877748347818851, -0.009656411595642567,...</td>\n",
       "      <td>[-0.5880894, -0.05917392, -0.44300538, 0.04839...</td>\n",
       "    </tr>\n",
       "    <tr>\n",
       "      <th>2397</th>\n",
       "      <td>45_archiva-components</td>\n",
       "      <td>spring-taskqueue</td>\n",
       "      <td>['task', 'message', 'execution', 'queue', 'cau...</td>\n",
       "      <td>[0.07726964, -0.041026108, -0.07699846, -0.056...</td>\n",
       "      <td>[-0.02647557482123375, -0.02341029793024063, -...</td>\n",
       "      <td>[-0.8051155, -0.54449457, -0.28186893, 0.86290...</td>\n",
       "    </tr>\n",
       "    <tr>\n",
       "      <th>2398</th>\n",
       "      <td>45_archiva-components</td>\n",
       "      <td>spring-taskqueue</td>\n",
       "      <td>['task', 'queue', 'evaluator', 'executor', 'me...</td>\n",
       "      <td>[0.07344047, -0.04394776, -0.07902434, -0.0579...</td>\n",
       "      <td>[-0.025427352637052536, -0.01597016118466854, ...</td>\n",
       "      <td>[-0.33094242, -0.2955342, -0.21767099, 0.29566...</td>\n",
       "    </tr>\n",
       "  </tbody>\n",
       "</table>\n",
       "<p>2399 rows × 6 columns</p>\n",
       "</div>"
      ],
      "text/plain": [
       "               project_name            module   \n",
       "0                  01_dubbo     dubbo-cluster  \\\n",
       "1                  01_dubbo     dubbo-cluster   \n",
       "2                  01_dubbo     dubbo-cluster   \n",
       "3                  01_dubbo     dubbo-cluster   \n",
       "4                  01_dubbo     dubbo-cluster   \n",
       "...                     ...               ...   \n",
       "2394  45_archiva-components   spring-registry   \n",
       "2395  45_archiva-components   spring-registry   \n",
       "2396  45_archiva-components  spring-taskqueue   \n",
       "2397  45_archiva-components  spring-taskqueue   \n",
       "2398  45_archiva-components  spring-taskqueue   \n",
       "\n",
       "                                                concept   \n",
       "0     ['merger', 'model', 'scope', 'aware', 'end', '...  \\\n",
       "1     ['match', 'value', 'bool', 'exact', 'weight', ...   \n",
       "2     ['rule', 'mesh', 'listener', 'app', 'merger', ...   \n",
       "3     ['rule', 'key', 'invoker', 'node', 'router', '...   \n",
       "4     ['url', 'invoker', 'invocation', 'configurator...   \n",
       "...                                                 ...   \n",
       "2394  ['key', 'save', 'registry', 'add', 'path', 'bu...   \n",
       "2395  ['key', 'registry', 'add', 'value', 'path', 'b...   \n",
       "2396  ['task', 'evaluator', 'queue', 'executor', 'en...   \n",
       "2397  ['task', 'message', 'execution', 'queue', 'cau...   \n",
       "2398  ['task', 'queue', 'evaluator', 'executor', 'me...   \n",
       "\n",
       "                                         sow2v_code_vec   \n",
       "0     [0.05225145, -0.039243843, -0.1073313, -0.0605...  \\\n",
       "1     [0.07469578, -0.03465767, -0.085746214, -0.050...   \n",
       "2     [0.059995174, -0.054836363, -0.0915457, -0.070...   \n",
       "3     [0.072560035, -0.042324353, -0.080996744, -0.0...   \n",
       "4     [0.06503355, -0.03390938, -0.099120185, -0.053...   \n",
       "...                                                 ...   \n",
       "2394  [0.06795784, -0.04480338, -0.079844356, -0.057...   \n",
       "2395  [0.0730496, -0.04498606, -0.083345376, -0.0627...   \n",
       "2396  [0.08464562, -0.040184315, -0.07855084, -0.058...   \n",
       "2397  [0.07726964, -0.041026108, -0.07699846, -0.056...   \n",
       "2398  [0.07344047, -0.04394776, -0.07902434, -0.0579...   \n",
       "\n",
       "                                           gpt_code_vec   \n",
       "0     [-0.026622535660862923, 0.0065000769682228565,...  \\\n",
       "1     [-0.019484085962176323, -0.0039446307346224785...   \n",
       "2     [-0.02054414711892605, 0.010302042588591576, 0...   \n",
       "3     [-0.014745050109922886, -0.01198360975831747, ...   \n",
       "4     [0.004753707442432642, -0.000175158231286332, ...   \n",
       "...                                                 ...   \n",
       "2394  [0.003726670518517494, 0.006566038820892572, 0...   \n",
       "2395  [-0.0022075516171753407, -0.011396508663892746...   \n",
       "2396  [-0.012877748347818851, -0.009656411595642567,...   \n",
       "2397  [-0.02647557482123375, -0.02341029793024063, -...   \n",
       "2398  [-0.025427352637052536, -0.01597016118466854, ...   \n",
       "\n",
       "                                         angle_code_vec  \n",
       "0     [-0.18775713, -0.37221402, -0.102094874, 0.436...  \n",
       "1     [0.03253293, 0.5728816, 0.579907, 0.67069566, ...  \n",
       "2     [-0.019751057, -0.33930963, -0.1023085, 0.2829...  \n",
       "3     [-0.553166, -0.27252257, -0.06934874, 0.168628...  \n",
       "4     [-0.49914038, -0.24755313, -0.028283862, 0.168...  \n",
       "...                                                 ...  \n",
       "2394  [0.04506687, 0.37849292, -0.23495513, -0.19402...  \n",
       "2395  [0.0833093, 0.3905984, -0.40362155, -0.0959535...  \n",
       "2396  [-0.5880894, -0.05917392, -0.44300538, 0.04839...  \n",
       "2397  [-0.8051155, -0.54449457, -0.28186893, 0.86290...  \n",
       "2398  [-0.33094242, -0.2955342, -0.21767099, 0.29566...  \n",
       "\n",
       "[2399 rows x 6 columns]"
      ]
     },
     "execution_count": 78,
     "metadata": {},
     "output_type": "execute_result"
    }
   ],
   "source": [
    "gpt_code_flattened_vec_list = [x for sub in gpt_code_vec_list for x in sub]\n",
    "angle_code_flattened_vec_list = [x for sub in angle_code_vec_list for x in sub]\n",
    "\n",
    "gpt_code_flattened_vec_list = [x[0] for x in gpt_code_flattened_vec_list]\n",
    "angle_code_flattened_vec_list = [x[0] for x in angle_code_flattened_vec_list]\n",
    "\n",
    "\n",
    "code_domain_sim_df[\"sow2v_code_vec\"] = code_domain_sim_df[\"concept\"].apply(lambda x: list(run_vec_sow2v(x)))\n",
    "code_domain_sim_df[\"gpt_code_vec\"] = gpt_code_flattened_vec_list\n",
    "code_domain_sim_df[\"angle_code_vec\"] = angle_code_flattened_vec_list\n",
    "\n",
    "code_vec_df = code_domain_sim_df[[\"project_name\", \"module\", \"concept\", \"sow2v_code_vec\", \"gpt_code_vec\", \"angle_code_vec\"]]\n",
    "code_vec_df"
   ]
  },
  {
   "cell_type": "code",
   "execution_count": 79,
   "metadata": {},
   "outputs": [
    {
     "data": {
      "text/html": [
       "<div>\n",
       "<style scoped>\n",
       "    .dataframe tbody tr th:only-of-type {\n",
       "        vertical-align: middle;\n",
       "    }\n",
       "\n",
       "    .dataframe tbody tr th {\n",
       "        vertical-align: top;\n",
       "    }\n",
       "\n",
       "    .dataframe thead th {\n",
       "        text-align: right;\n",
       "    }\n",
       "</style>\n",
       "<table border=\"1\" class=\"dataframe\">\n",
       "  <thead>\n",
       "    <tr style=\"text-align: right;\">\n",
       "      <th></th>\n",
       "      <th>project_name</th>\n",
       "      <th>module</th>\n",
       "      <th>concept</th>\n",
       "      <th>sow2v_test_vec</th>\n",
       "      <th>gpt_test_vec</th>\n",
       "      <th>angle_test_vec</th>\n",
       "    </tr>\n",
       "  </thead>\n",
       "  <tbody>\n",
       "    <tr>\n",
       "      <th>0</th>\n",
       "      <td>01_dubbo</td>\n",
       "      <td>dubbo-cluster</td>\n",
       "      <td>['invoker', 'hello', 'menu', 'service', 'load'...</td>\n",
       "      <td>[0.06538757, -0.038762722, -0.09320979, -0.057...</td>\n",
       "      <td>[-0.015958335250616074, -0.015475192107260227,...</td>\n",
       "      <td>[0.014179217, -0.26719624, -0.15324931, -0.072...</td>\n",
       "    </tr>\n",
       "    <tr>\n",
       "      <th>1</th>\n",
       "      <td>01_dubbo</td>\n",
       "      <td>dubbo-cluster</td>\n",
       "      <td>['invoker', 'invocation', 'url', 'cluster', 'm...</td>\n",
       "      <td>[0.06413624, -0.03734391, -0.09991639, -0.0585...</td>\n",
       "      <td>[-0.0025778282433748245, -0.011829978786408901...</td>\n",
       "      <td>[-0.25283864, -0.16967408, -0.18421198, -0.022...</td>\n",
       "    </tr>\n",
       "    <tr>\n",
       "      <th>2</th>\n",
       "      <td>01_dubbo</td>\n",
       "      <td>dubbo-cluster</td>\n",
       "      <td>['attachment', 'value', 'key', 'invoker', 'sti...</td>\n",
       "      <td>[0.0645962, -0.04175846, -0.09586649, -0.05556...</td>\n",
       "      <td>[-0.03428419679403305, -0.0033837941009551287,...</td>\n",
       "      <td>[-0.4825757, -0.3559093, -0.28272846, 0.468342...</td>\n",
       "    </tr>\n",
       "    <tr>\n",
       "      <th>3</th>\n",
       "      <td>01_dubbo</td>\n",
       "      <td>dubbo-cluster</td>\n",
       "      <td>['url', 'model', 'merge', 'merger', 'module', ...</td>\n",
       "      <td>[0.06821527, -0.04794634, -0.09212922, -0.0694...</td>\n",
       "      <td>[-0.0011146004544571042, 0.014147793874144554,...</td>\n",
       "      <td>[0.40440214, -0.44396412, 0.09869711, -0.20433...</td>\n",
       "    </tr>\n",
       "    <tr>\n",
       "      <th>4</th>\n",
       "      <td>01_dubbo</td>\n",
       "      <td>dubbo-cluster</td>\n",
       "      <td>['match', 'configurator', 'mock', 'bool', 'joi...</td>\n",
       "      <td>[0.062228434, -0.033033144, -0.089854315, -0.0...</td>\n",
       "      <td>[-0.022632991895079613, -0.01612619124352932, ...</td>\n",
       "      <td>[-0.31522655, -0.66237473, 0.0850316, 0.209996...</td>\n",
       "    </tr>\n",
       "    <tr>\n",
       "      <th>...</th>\n",
       "      <td>...</td>\n",
       "      <td>...</td>\n",
       "      <td>...</td>\n",
       "      <td>...</td>\n",
       "      <td>...</td>\n",
       "      <td>...</td>\n",
       "    </tr>\n",
       "    <tr>\n",
       "      <th>2218</th>\n",
       "      <td>45_archiva-components</td>\n",
       "      <td>spring-taskqueue</td>\n",
       "      <td>['task', 'evaluator', 'evaluate', 'project', '...</td>\n",
       "      <td>[0.07751665, -0.039812576, -0.08508993, -0.053...</td>\n",
       "      <td>[-0.008565530180931091, -0.01933959499001503, ...</td>\n",
       "      <td>[-0.31950122, -0.025664303, -0.66371596, -0.07...</td>\n",
       "    </tr>\n",
       "    <tr>\n",
       "      <th>2219</th>\n",
       "      <td>45_archiva-components</td>\n",
       "      <td>spring-taskqueue</td>\n",
       "      <td>['task', 'queue', 'executor', 'build', 'projec...</td>\n",
       "      <td>[0.0779814, -0.03511595, -0.07827511, -0.05609...</td>\n",
       "      <td>[-0.029290348291397095, -0.0031447862274944782...</td>\n",
       "      <td>[-0.88024205, 0.12703937, -0.5504483, -0.00638...</td>\n",
       "    </tr>\n",
       "    <tr>\n",
       "      <th>2220</th>\n",
       "      <td>45_archiva-components</td>\n",
       "      <td>spring-taskqueue</td>\n",
       "      <td>['task', 'evaluator', 'exit', 'evaluate', 'que...</td>\n",
       "      <td>[0.079060785, -0.03834717, -0.07711471, -0.051...</td>\n",
       "      <td>[-0.016612650826573372, -0.009333686903119087,...</td>\n",
       "      <td>[-0.71355224, -0.14168549, -0.6765636, -0.0947...</td>\n",
       "    </tr>\n",
       "    <tr>\n",
       "      <th>2221</th>\n",
       "      <td>45_archiva-components</td>\n",
       "      <td>spring-taskqueue</td>\n",
       "      <td>['task', 'evaluate', 'entry', 'evaluator', 'ex...</td>\n",
       "      <td>[0.081783585, -0.040365595, -0.08195949, -0.05...</td>\n",
       "      <td>[-0.017499882727861404, -0.0047294944524765015...</td>\n",
       "      <td>[-0.29466522, -0.017070707, -0.49079585, -0.34...</td>\n",
       "    </tr>\n",
       "    <tr>\n",
       "      <th>2222</th>\n",
       "      <td>45_archiva-components</td>\n",
       "      <td>spring-taskqueue</td>\n",
       "      <td>['evaluator', 'time', 'execution', 'entry', 'e...</td>\n",
       "      <td>[0.06911819, -0.045766454, -0.091545574, -0.05...</td>\n",
       "      <td>[-0.028831014409661293, 0.007431278005242348, ...</td>\n",
       "      <td>[-0.5221481, 0.16838183, -0.80863094, -0.40378...</td>\n",
       "    </tr>\n",
       "  </tbody>\n",
       "</table>\n",
       "<p>2223 rows × 6 columns</p>\n",
       "</div>"
      ],
      "text/plain": [
       "               project_name            module   \n",
       "0                  01_dubbo     dubbo-cluster  \\\n",
       "1                  01_dubbo     dubbo-cluster   \n",
       "2                  01_dubbo     dubbo-cluster   \n",
       "3                  01_dubbo     dubbo-cluster   \n",
       "4                  01_dubbo     dubbo-cluster   \n",
       "...                     ...               ...   \n",
       "2218  45_archiva-components  spring-taskqueue   \n",
       "2219  45_archiva-components  spring-taskqueue   \n",
       "2220  45_archiva-components  spring-taskqueue   \n",
       "2221  45_archiva-components  spring-taskqueue   \n",
       "2222  45_archiva-components  spring-taskqueue   \n",
       "\n",
       "                                                concept   \n",
       "0     ['invoker', 'hello', 'menu', 'service', 'load'...  \\\n",
       "1     ['invoker', 'invocation', 'url', 'cluster', 'm...   \n",
       "2     ['attachment', 'value', 'key', 'invoker', 'sti...   \n",
       "3     ['url', 'model', 'merge', 'merger', 'module', ...   \n",
       "4     ['match', 'configurator', 'mock', 'bool', 'joi...   \n",
       "...                                                 ...   \n",
       "2218  ['task', 'evaluator', 'evaluate', 'project', '...   \n",
       "2219  ['task', 'queue', 'executor', 'build', 'projec...   \n",
       "2220  ['task', 'evaluator', 'exit', 'evaluate', 'que...   \n",
       "2221  ['task', 'evaluate', 'entry', 'evaluator', 'ex...   \n",
       "2222  ['evaluator', 'time', 'execution', 'entry', 'e...   \n",
       "\n",
       "                                         sow2v_test_vec   \n",
       "0     [0.06538757, -0.038762722, -0.09320979, -0.057...  \\\n",
       "1     [0.06413624, -0.03734391, -0.09991639, -0.0585...   \n",
       "2     [0.0645962, -0.04175846, -0.09586649, -0.05556...   \n",
       "3     [0.06821527, -0.04794634, -0.09212922, -0.0694...   \n",
       "4     [0.062228434, -0.033033144, -0.089854315, -0.0...   \n",
       "...                                                 ...   \n",
       "2218  [0.07751665, -0.039812576, -0.08508993, -0.053...   \n",
       "2219  [0.0779814, -0.03511595, -0.07827511, -0.05609...   \n",
       "2220  [0.079060785, -0.03834717, -0.07711471, -0.051...   \n",
       "2221  [0.081783585, -0.040365595, -0.08195949, -0.05...   \n",
       "2222  [0.06911819, -0.045766454, -0.091545574, -0.05...   \n",
       "\n",
       "                                           gpt_test_vec   \n",
       "0     [-0.015958335250616074, -0.015475192107260227,...  \\\n",
       "1     [-0.0025778282433748245, -0.011829978786408901...   \n",
       "2     [-0.03428419679403305, -0.0033837941009551287,...   \n",
       "3     [-0.0011146004544571042, 0.014147793874144554,...   \n",
       "4     [-0.022632991895079613, -0.01612619124352932, ...   \n",
       "...                                                 ...   \n",
       "2218  [-0.008565530180931091, -0.01933959499001503, ...   \n",
       "2219  [-0.029290348291397095, -0.0031447862274944782...   \n",
       "2220  [-0.016612650826573372, -0.009333686903119087,...   \n",
       "2221  [-0.017499882727861404, -0.0047294944524765015...   \n",
       "2222  [-0.028831014409661293, 0.007431278005242348, ...   \n",
       "\n",
       "                                         angle_test_vec  \n",
       "0     [0.014179217, -0.26719624, -0.15324931, -0.072...  \n",
       "1     [-0.25283864, -0.16967408, -0.18421198, -0.022...  \n",
       "2     [-0.4825757, -0.3559093, -0.28272846, 0.468342...  \n",
       "3     [0.40440214, -0.44396412, 0.09869711, -0.20433...  \n",
       "4     [-0.31522655, -0.66237473, 0.0850316, 0.209996...  \n",
       "...                                                 ...  \n",
       "2218  [-0.31950122, -0.025664303, -0.66371596, -0.07...  \n",
       "2219  [-0.88024205, 0.12703937, -0.5504483, -0.00638...  \n",
       "2220  [-0.71355224, -0.14168549, -0.6765636, -0.0947...  \n",
       "2221  [-0.29466522, -0.017070707, -0.49079585, -0.34...  \n",
       "2222  [-0.5221481, 0.16838183, -0.80863094, -0.40378...  \n",
       "\n",
       "[2223 rows x 6 columns]"
      ]
     },
     "execution_count": 79,
     "metadata": {},
     "output_type": "execute_result"
    }
   ],
   "source": [
    "gpt_test_flattened_vec_list = [x for sub in gpt_test_vec_list for x in sub]\n",
    "angle_test_flattened_vec_list = [x for sub in angle_test_vec_list for x in sub]\n",
    "\n",
    "gpt_test_flattened_vec_list = [x[0] for x in gpt_test_flattened_vec_list]\n",
    "angle_test_flattened_vec_list = [x[0] for x in angle_test_flattened_vec_list]\n",
    "\n",
    "test_domain_sim_df[\"sow2v_test_vec\"] = test_domain_sim_df[\"concept\"].apply(lambda x: list(run_vec_sow2v(x)))\n",
    "test_domain_sim_df[\"gpt_test_vec\"] = gpt_test_flattened_vec_list\n",
    "test_domain_sim_df[\"angle_test_vec\"] = angle_test_flattened_vec_list\n",
    "\n",
    "test_vec_df = test_domain_sim_df[[\"project_name\", \"module\", \"concept\", \"sow2v_test_vec\", \"gpt_test_vec\", \"angle_test_vec\"]]\n",
    "test_vec_df"
   ]
  },
  {
   "cell_type": "code",
   "execution_count": 80,
   "metadata": {},
   "outputs": [
    {
     "data": {
      "text/html": [
       "<div>\n",
       "<style scoped>\n",
       "    .dataframe tbody tr th:only-of-type {\n",
       "        vertical-align: middle;\n",
       "    }\n",
       "\n",
       "    .dataframe tbody tr th {\n",
       "        vertical-align: top;\n",
       "    }\n",
       "\n",
       "    .dataframe thead th {\n",
       "        text-align: right;\n",
       "    }\n",
       "</style>\n",
       "<table border=\"1\" class=\"dataframe\">\n",
       "  <thead>\n",
       "    <tr style=\"text-align: right;\">\n",
       "      <th></th>\n",
       "      <th>project_name</th>\n",
       "      <th>concept</th>\n",
       "      <th>gpt_doc_vec</th>\n",
       "      <th>angle_doc_vec</th>\n",
       "      <th>sow2v_doc_vec</th>\n",
       "    </tr>\n",
       "  </thead>\n",
       "  <tbody>\n",
       "    <tr>\n",
       "      <th>0</th>\n",
       "      <td>01_dubbo</td>\n",
       "      <td>['service', 'see', 'issue', 'sample', 'project...</td>\n",
       "      <td>[0.005654162261635065, -0.0016180375823751092,...</td>\n",
       "      <td>[-0.2622697, -0.02699811, -0.11021085, -0.2081...</td>\n",
       "      <td>[0.08472025, -0.02117448, -0.0758657, -0.05463...</td>\n",
       "    </tr>\n",
       "    <tr>\n",
       "      <th>1</th>\n",
       "      <td>01_dubbo</td>\n",
       "      <td>['contribute', 'issue', 'sample', 'project', '...</td>\n",
       "      <td>[-0.0033876176457852125, -0.01359404157847166,...</td>\n",
       "      <td>[-0.42579025, -0.19378607, -0.31018537, -0.093...</td>\n",
       "      <td>[0.0759664, -0.026296437, -0.08504799, -0.0534...</td>\n",
       "    </tr>\n",
       "    <tr>\n",
       "      <th>2</th>\n",
       "      <td>01_dubbo</td>\n",
       "      <td>['issue', 'service', 'project', 'list', 'see',...</td>\n",
       "      <td>[-0.005690885242074728, -0.01893075555562973, ...</td>\n",
       "      <td>[-0.3254578, -0.15225579, -0.40020263, 0.05321...</td>\n",
       "      <td>[0.0752811, -0.029863613, -0.08484851, -0.0549...</td>\n",
       "    </tr>\n",
       "    <tr>\n",
       "      <th>3</th>\n",
       "      <td>01_dubbo</td>\n",
       "      <td>['service', 'see', 'project', 'build', 'github...</td>\n",
       "      <td>[0.0017545023001730442, -0.0064876810647547245...</td>\n",
       "      <td>[-0.09142876, -0.45110118, -0.17707597, -0.150...</td>\n",
       "      <td>[0.087012574, -0.029808724, -0.07877463, -0.05...</td>\n",
       "    </tr>\n",
       "    <tr>\n",
       "      <th>4</th>\n",
       "      <td>01_dubbo</td>\n",
       "      <td>['see', 'issue', 'sample', 'service', 'contrib...</td>\n",
       "      <td>[0.003152343910187483, 0.0006888388306833804, ...</td>\n",
       "      <td>[-0.38099384, 0.13213581, -0.082547046, -0.096...</td>\n",
       "      <td>[0.07527791, -0.02495413, -0.080793396, -0.055...</td>\n",
       "    </tr>\n",
       "    <tr>\n",
       "      <th>...</th>\n",
       "      <td>...</td>\n",
       "      <td>...</td>\n",
       "      <td>...</td>\n",
       "      <td>...</td>\n",
       "      <td>...</td>\n",
       "    </tr>\n",
       "    <tr>\n",
       "      <th>343</th>\n",
       "      <td>45_archiva-components</td>\n",
       "      <td>['repository', 'publish', 'web', 'mvn', 'site'...</td>\n",
       "      <td>[-0.0015625524101778865, -0.001334094093181192...</td>\n",
       "      <td>[-0.98970336, 0.5057261, -0.31873137, 0.095206...</td>\n",
       "      <td>[0.062252443, -0.0279061, -0.08811313, -0.0528...</td>\n",
       "    </tr>\n",
       "    <tr>\n",
       "      <th>344</th>\n",
       "      <td>45_archiva-components</td>\n",
       "      <td>['publish', 'repository', 'web', 'site', 'buil...</td>\n",
       "      <td>[-0.0021771923638880253, -0.011147775687277317...</td>\n",
       "      <td>[-0.74474394, 0.029094877, -0.48263723, 0.2167...</td>\n",
       "      <td>[0.067681804, -0.02996866, -0.08059301, -0.053...</td>\n",
       "    </tr>\n",
       "    <tr>\n",
       "      <th>345</th>\n",
       "      <td>45_archiva-components</td>\n",
       "      <td>['repository', 'mvn', 'publish', 'build', 'che...</td>\n",
       "      <td>[-0.0009208479314111173, -0.000892394746188074...</td>\n",
       "      <td>[-0.77469325, 0.3202895, -0.4091273, 0.5168214...</td>\n",
       "      <td>[0.06920374, -0.025748737, -0.07851112, -0.051...</td>\n",
       "    </tr>\n",
       "    <tr>\n",
       "      <th>346</th>\n",
       "      <td>45_archiva-components</td>\n",
       "      <td>['repository', 'publish', 'site', 'web', 'mvn'...</td>\n",
       "      <td>[0.0018515546107664704, -0.003041225718334317,...</td>\n",
       "      <td>[-0.76814437, 0.21244615, -0.49484473, 0.26931...</td>\n",
       "      <td>[0.069203734, -0.025748739, -0.07851111, -0.05...</td>\n",
       "    </tr>\n",
       "    <tr>\n",
       "      <th>347</th>\n",
       "      <td>45_archiva-components</td>\n",
       "      <td>['repository', 'publish', 'mvn', 'web', 'site'...</td>\n",
       "      <td>[0.0026015418116003275, 0.0006898421561345458,...</td>\n",
       "      <td>[-0.38974467, 0.3230742, -0.3380211, 0.1174219...</td>\n",
       "      <td>[0.067814276, -0.025537502, -0.0829665, -0.050...</td>\n",
       "    </tr>\n",
       "  </tbody>\n",
       "</table>\n",
       "<p>348 rows × 5 columns</p>\n",
       "</div>"
      ],
      "text/plain": [
       "              project_name                                            concept   \n",
       "0                 01_dubbo  ['service', 'see', 'issue', 'sample', 'project...  \\\n",
       "1                 01_dubbo  ['contribute', 'issue', 'sample', 'project', '...   \n",
       "2                 01_dubbo  ['issue', 'service', 'project', 'list', 'see',...   \n",
       "3                 01_dubbo  ['service', 'see', 'project', 'build', 'github...   \n",
       "4                 01_dubbo  ['see', 'issue', 'sample', 'service', 'contrib...   \n",
       "..                     ...                                                ...   \n",
       "343  45_archiva-components  ['repository', 'publish', 'web', 'mvn', 'site'...   \n",
       "344  45_archiva-components  ['publish', 'repository', 'web', 'site', 'buil...   \n",
       "345  45_archiva-components  ['repository', 'mvn', 'publish', 'build', 'che...   \n",
       "346  45_archiva-components  ['repository', 'publish', 'site', 'web', 'mvn'...   \n",
       "347  45_archiva-components  ['repository', 'publish', 'mvn', 'web', 'site'...   \n",
       "\n",
       "                                           gpt_doc_vec   \n",
       "0    [0.005654162261635065, -0.0016180375823751092,...  \\\n",
       "1    [-0.0033876176457852125, -0.01359404157847166,...   \n",
       "2    [-0.005690885242074728, -0.01893075555562973, ...   \n",
       "3    [0.0017545023001730442, -0.0064876810647547245...   \n",
       "4    [0.003152343910187483, 0.0006888388306833804, ...   \n",
       "..                                                 ...   \n",
       "343  [-0.0015625524101778865, -0.001334094093181192...   \n",
       "344  [-0.0021771923638880253, -0.011147775687277317...   \n",
       "345  [-0.0009208479314111173, -0.000892394746188074...   \n",
       "346  [0.0018515546107664704, -0.003041225718334317,...   \n",
       "347  [0.0026015418116003275, 0.0006898421561345458,...   \n",
       "\n",
       "                                         angle_doc_vec   \n",
       "0    [-0.2622697, -0.02699811, -0.11021085, -0.2081...  \\\n",
       "1    [-0.42579025, -0.19378607, -0.31018537, -0.093...   \n",
       "2    [-0.3254578, -0.15225579, -0.40020263, 0.05321...   \n",
       "3    [-0.09142876, -0.45110118, -0.17707597, -0.150...   \n",
       "4    [-0.38099384, 0.13213581, -0.082547046, -0.096...   \n",
       "..                                                 ...   \n",
       "343  [-0.98970336, 0.5057261, -0.31873137, 0.095206...   \n",
       "344  [-0.74474394, 0.029094877, -0.48263723, 0.2167...   \n",
       "345  [-0.77469325, 0.3202895, -0.4091273, 0.5168214...   \n",
       "346  [-0.76814437, 0.21244615, -0.49484473, 0.26931...   \n",
       "347  [-0.38974467, 0.3230742, -0.3380211, 0.1174219...   \n",
       "\n",
       "                                         sow2v_doc_vec  \n",
       "0    [0.08472025, -0.02117448, -0.0758657, -0.05463...  \n",
       "1    [0.0759664, -0.026296437, -0.08504799, -0.0534...  \n",
       "2    [0.0752811, -0.029863613, -0.08484851, -0.0549...  \n",
       "3    [0.087012574, -0.029808724, -0.07877463, -0.05...  \n",
       "4    [0.07527791, -0.02495413, -0.080793396, -0.055...  \n",
       "..                                                 ...  \n",
       "343  [0.062252443, -0.0279061, -0.08811313, -0.0528...  \n",
       "344  [0.067681804, -0.02996866, -0.08059301, -0.053...  \n",
       "345  [0.06920374, -0.025748737, -0.07851112, -0.051...  \n",
       "346  [0.069203734, -0.025748739, -0.07851111, -0.05...  \n",
       "347  [0.067814276, -0.025537502, -0.0829665, -0.050...  \n",
       "\n",
       "[348 rows x 5 columns]"
      ]
     },
     "execution_count": 80,
     "metadata": {},
     "output_type": "execute_result"
    }
   ],
   "source": [
    "gpt_doc_flattened_vec_list = [x for sub in gpt_doc_vec_list for x in sub] # 45 vecs\n",
    "angle_doc_flattened_vec_list = [x for sub in angle_doc_vec_list for x in sub] # 313 vecs\n",
    "\n",
    "gpt_doc_flattened_vec_list = [x[0] for x in gpt_doc_flattened_vec_list]\n",
    "angle_doc_flattened_vec_list = [x[0] for x in angle_doc_flattened_vec_list]\n",
    "\n",
    "new_doc_df[\"gpt_doc_vec\"] = gpt_doc_flattened_vec_list\n",
    "doc_domain_sim_df[\"angle_doc_vec\"] = angle_doc_flattened_vec_list\n",
    "doc_domain_sim_df = doc_domain_sim_df[[\"project_name\", \"concept\", \"angle_doc_vec\"]]\n",
    "\n",
    "new_doc_df_list = []\n",
    "\n",
    "for prefix in range(1,46):\n",
    "    if prefix<10:\n",
    "        prefix = '0' + str(prefix)\n",
    "    new_doc_df_list.append(doc_domain_sim_df[doc_domain_sim_df['project_name'].str.startswith(str(prefix))][['project_name', 'concept', 'angle_doc_vec']][:doc_num_list[int(prefix)-1]])\n",
    "\n",
    "new_angle_doc_df = pd.concat(new_doc_df_list, ignore_index=True)\n",
    "doc_vec_df = new_doc_df.copy()\n",
    "doc_vec_df[\"angle_doc_vec\"] = new_angle_doc_df[\"angle_doc_vec\"]\n",
    "doc_vec_df[\"sow2v_doc_vec\"] = doc_vec_df[\"concept\"].apply(lambda x: list(run_vec_sow2v(x)))\n",
    "doc_vec_df"
   ]
  },
  {
   "cell_type": "markdown",
   "metadata": {},
   "source": [
    "### Show concepts for 01_dubbo"
   ]
  },
  {
   "cell_type": "code",
   "execution_count": 81,
   "metadata": {},
   "outputs": [
    {
     "data": {
      "text/html": [
       "<div>\n",
       "<style scoped>\n",
       "    .dataframe tbody tr th:only-of-type {\n",
       "        vertical-align: middle;\n",
       "    }\n",
       "\n",
       "    .dataframe tbody tr th {\n",
       "        vertical-align: top;\n",
       "    }\n",
       "\n",
       "    .dataframe thead th {\n",
       "        text-align: right;\n",
       "    }\n",
       "</style>\n",
       "<table border=\"1\" class=\"dataframe\">\n",
       "  <thead>\n",
       "    <tr style=\"text-align: right;\">\n",
       "      <th></th>\n",
       "      <th>project_name</th>\n",
       "      <th>module</th>\n",
       "      <th>concept</th>\n",
       "      <th>sow2v_code_vec</th>\n",
       "      <th>gpt_code_vec</th>\n",
       "      <th>angle_code_vec</th>\n",
       "    </tr>\n",
       "  </thead>\n",
       "  <tbody>\n",
       "    <tr>\n",
       "      <th>0</th>\n",
       "      <td>01_dubbo</td>\n",
       "      <td>dubbo-cluster</td>\n",
       "      <td>['merger', 'model', 'scope', 'aware', 'end', '...</td>\n",
       "      <td>[0.05225145, -0.039243843, -0.1073313, -0.0605...</td>\n",
       "      <td>[-0.026622535660862923, 0.0065000769682228565,...</td>\n",
       "      <td>[-0.18775713, -0.37221402, -0.102094874, 0.436...</td>\n",
       "    </tr>\n",
       "    <tr>\n",
       "      <th>1</th>\n",
       "      <td>01_dubbo</td>\n",
       "      <td>dubbo-cluster</td>\n",
       "      <td>['match', 'value', 'bool', 'exact', 'weight', ...</td>\n",
       "      <td>[0.07469578, -0.03465767, -0.085746214, -0.050...</td>\n",
       "      <td>[-0.019484085962176323, -0.0039446307346224785...</td>\n",
       "      <td>[0.03253293, 0.5728816, 0.579907, 0.67069566, ...</td>\n",
       "    </tr>\n",
       "    <tr>\n",
       "      <th>2</th>\n",
       "      <td>01_dubbo</td>\n",
       "      <td>dubbo-cluster</td>\n",
       "      <td>['rule', 'mesh', 'listener', 'app', 'merger', ...</td>\n",
       "      <td>[0.059995174, -0.054836363, -0.0915457, -0.070...</td>\n",
       "      <td>[-0.02054414711892605, 0.010302042588591576, 0...</td>\n",
       "      <td>[-0.019751057, -0.33930963, -0.1023085, 0.2829...</td>\n",
       "    </tr>\n",
       "    <tr>\n",
       "      <th>3</th>\n",
       "      <td>01_dubbo</td>\n",
       "      <td>dubbo-cluster</td>\n",
       "      <td>['rule', 'key', 'invoker', 'node', 'router', '...</td>\n",
       "      <td>[0.072560035, -0.042324353, -0.080996744, -0.0...</td>\n",
       "      <td>[-0.014745050109922886, -0.01198360975831747, ...</td>\n",
       "      <td>[-0.553166, -0.27252257, -0.06934874, 0.168628...</td>\n",
       "    </tr>\n",
       "    <tr>\n",
       "      <th>4</th>\n",
       "      <td>01_dubbo</td>\n",
       "      <td>dubbo-cluster</td>\n",
       "      <td>['url', 'invoker', 'invocation', 'configurator...</td>\n",
       "      <td>[0.06503355, -0.03390938, -0.099120185, -0.053...</td>\n",
       "      <td>[0.004753707442432642, -0.000175158231286332, ...</td>\n",
       "      <td>[-0.49914038, -0.24755313, -0.028283862, 0.168...</td>\n",
       "    </tr>\n",
       "    <tr>\n",
       "      <th>...</th>\n",
       "      <td>...</td>\n",
       "      <td>...</td>\n",
       "      <td>...</td>\n",
       "      <td>...</td>\n",
       "      <td>...</td>\n",
       "      <td>...</td>\n",
       "    </tr>\n",
       "    <tr>\n",
       "      <th>122</th>\n",
       "      <td>01_dubbo</td>\n",
       "      <td>dubbo-xds</td>\n",
       "      <td>['key', 'istio', 'path', 'secret', 'jwt', 'clu...</td>\n",
       "      <td>[0.06526281, -0.039973218, -0.10442113, -0.060...</td>\n",
       "      <td>[0.017854617908596992, -0.010608749464154243, ...</td>\n",
       "      <td>[0.22748196, 0.38303995, -0.57838404, -0.26077...</td>\n",
       "    </tr>\n",
       "    <tr>\n",
       "      <th>123</th>\n",
       "      <td>01_dubbo</td>\n",
       "      <td>dubbo-xds</td>\n",
       "      <td>['consumer', 'observe', 'map', 'result', 'endp...</td>\n",
       "      <td>[0.05611692, -0.041434396, -0.08906147, -0.056...</td>\n",
       "      <td>[0.0015994592104107141, -0.011639793403446674,...</td>\n",
       "      <td>[-0.69973636, 0.08320053, -0.841619, 0.0749328...</td>\n",
       "    </tr>\n",
       "    <tr>\n",
       "      <th>124</th>\n",
       "      <td>01_dubbo</td>\n",
       "      <td>dubbo-xds</td>\n",
       "      <td>['endpoint', 'cluster', 'server', 'weight', 'i...</td>\n",
       "      <td>[0.05542404, -0.036790773, -0.090690106, -0.06...</td>\n",
       "      <td>[-0.002195612294599414, -0.02597239799797535, ...</td>\n",
       "      <td>[-0.07411003, -0.23463039, -0.64296293, 0.0885...</td>\n",
       "    </tr>\n",
       "    <tr>\n",
       "      <th>125</th>\n",
       "      <td>01_dubbo</td>\n",
       "      <td>dubbo-xds</td>\n",
       "      <td>['discovery', 'observer', 'response', 'request...</td>\n",
       "      <td>[0.059809525, -0.04411117, -0.09158495, -0.066...</td>\n",
       "      <td>[-0.01950066350400448, 0.004034237004816532, -...</td>\n",
       "      <td>[-0.22820416, 0.06541349, 0.09582858, 0.070130...</td>\n",
       "    </tr>\n",
       "    <tr>\n",
       "      <th>126</th>\n",
       "      <td>01_dubbo</td>\n",
       "      <td>dubbo-xds</td>\n",
       "      <td>['key', 'cert', 'istio', 'matcher', 'certifica...</td>\n",
       "      <td>[0.048744842, -0.0358369, -0.10207859, -0.0487...</td>\n",
       "      <td>[-0.01137323584407568, 0.005961718503385782, -...</td>\n",
       "      <td>[-0.33524942, 0.3400893, -0.4946424, 0.0294929...</td>\n",
       "    </tr>\n",
       "  </tbody>\n",
       "</table>\n",
       "<p>127 rows × 6 columns</p>\n",
       "</div>"
      ],
      "text/plain": [
       "    project_name         module   \n",
       "0       01_dubbo  dubbo-cluster  \\\n",
       "1       01_dubbo  dubbo-cluster   \n",
       "2       01_dubbo  dubbo-cluster   \n",
       "3       01_dubbo  dubbo-cluster   \n",
       "4       01_dubbo  dubbo-cluster   \n",
       "..           ...            ...   \n",
       "122     01_dubbo      dubbo-xds   \n",
       "123     01_dubbo      dubbo-xds   \n",
       "124     01_dubbo      dubbo-xds   \n",
       "125     01_dubbo      dubbo-xds   \n",
       "126     01_dubbo      dubbo-xds   \n",
       "\n",
       "                                               concept   \n",
       "0    ['merger', 'model', 'scope', 'aware', 'end', '...  \\\n",
       "1    ['match', 'value', 'bool', 'exact', 'weight', ...   \n",
       "2    ['rule', 'mesh', 'listener', 'app', 'merger', ...   \n",
       "3    ['rule', 'key', 'invoker', 'node', 'router', '...   \n",
       "4    ['url', 'invoker', 'invocation', 'configurator...   \n",
       "..                                                 ...   \n",
       "122  ['key', 'istio', 'path', 'secret', 'jwt', 'clu...   \n",
       "123  ['consumer', 'observe', 'map', 'result', 'endp...   \n",
       "124  ['endpoint', 'cluster', 'server', 'weight', 'i...   \n",
       "125  ['discovery', 'observer', 'response', 'request...   \n",
       "126  ['key', 'cert', 'istio', 'matcher', 'certifica...   \n",
       "\n",
       "                                        sow2v_code_vec   \n",
       "0    [0.05225145, -0.039243843, -0.1073313, -0.0605...  \\\n",
       "1    [0.07469578, -0.03465767, -0.085746214, -0.050...   \n",
       "2    [0.059995174, -0.054836363, -0.0915457, -0.070...   \n",
       "3    [0.072560035, -0.042324353, -0.080996744, -0.0...   \n",
       "4    [0.06503355, -0.03390938, -0.099120185, -0.053...   \n",
       "..                                                 ...   \n",
       "122  [0.06526281, -0.039973218, -0.10442113, -0.060...   \n",
       "123  [0.05611692, -0.041434396, -0.08906147, -0.056...   \n",
       "124  [0.05542404, -0.036790773, -0.090690106, -0.06...   \n",
       "125  [0.059809525, -0.04411117, -0.09158495, -0.066...   \n",
       "126  [0.048744842, -0.0358369, -0.10207859, -0.0487...   \n",
       "\n",
       "                                          gpt_code_vec   \n",
       "0    [-0.026622535660862923, 0.0065000769682228565,...  \\\n",
       "1    [-0.019484085962176323, -0.0039446307346224785...   \n",
       "2    [-0.02054414711892605, 0.010302042588591576, 0...   \n",
       "3    [-0.014745050109922886, -0.01198360975831747, ...   \n",
       "4    [0.004753707442432642, -0.000175158231286332, ...   \n",
       "..                                                 ...   \n",
       "122  [0.017854617908596992, -0.010608749464154243, ...   \n",
       "123  [0.0015994592104107141, -0.011639793403446674,...   \n",
       "124  [-0.002195612294599414, -0.02597239799797535, ...   \n",
       "125  [-0.01950066350400448, 0.004034237004816532, -...   \n",
       "126  [-0.01137323584407568, 0.005961718503385782, -...   \n",
       "\n",
       "                                        angle_code_vec  \n",
       "0    [-0.18775713, -0.37221402, -0.102094874, 0.436...  \n",
       "1    [0.03253293, 0.5728816, 0.579907, 0.67069566, ...  \n",
       "2    [-0.019751057, -0.33930963, -0.1023085, 0.2829...  \n",
       "3    [-0.553166, -0.27252257, -0.06934874, 0.168628...  \n",
       "4    [-0.49914038, -0.24755313, -0.028283862, 0.168...  \n",
       "..                                                 ...  \n",
       "122  [0.22748196, 0.38303995, -0.57838404, -0.26077...  \n",
       "123  [-0.69973636, 0.08320053, -0.841619, 0.0749328...  \n",
       "124  [-0.07411003, -0.23463039, -0.64296293, 0.0885...  \n",
       "125  [-0.22820416, 0.06541349, 0.09582858, 0.070130...  \n",
       "126  [-0.33524942, 0.3400893, -0.4946424, 0.0294929...  \n",
       "\n",
       "[127 rows x 6 columns]"
      ]
     },
     "execution_count": 81,
     "metadata": {},
     "output_type": "execute_result"
    }
   ],
   "source": [
    "dubbo_code_df = code_vec_df[code_vec_df['project_name'].str.startswith(\"01\")]\n",
    "dubbo_test_df = test_vec_df[test_vec_df['project_name'].str.startswith(\"01\")]\n",
    "dubbo_doc_df = doc_vec_df[doc_vec_df['project_name'].str.startswith(\"01\")]\n",
    "dubbo_code_df"
   ]
  },
  {
   "cell_type": "code",
   "execution_count": 82,
   "metadata": {},
   "outputs": [
    {
     "data": {
      "text/html": [
       "<div>\n",
       "<style scoped>\n",
       "    .dataframe tbody tr th:only-of-type {\n",
       "        vertical-align: middle;\n",
       "    }\n",
       "\n",
       "    .dataframe tbody tr th {\n",
       "        vertical-align: top;\n",
       "    }\n",
       "\n",
       "    .dataframe thead th {\n",
       "        text-align: right;\n",
       "    }\n",
       "</style>\n",
       "<table border=\"1\" class=\"dataframe\">\n",
       "  <thead>\n",
       "    <tr style=\"text-align: right;\">\n",
       "      <th></th>\n",
       "      <th>project_name</th>\n",
       "      <th>module</th>\n",
       "      <th>concept</th>\n",
       "      <th>sow2v_test_vec</th>\n",
       "      <th>gpt_test_vec</th>\n",
       "      <th>angle_test_vec</th>\n",
       "    </tr>\n",
       "  </thead>\n",
       "  <tbody>\n",
       "    <tr>\n",
       "      <th>0</th>\n",
       "      <td>01_dubbo</td>\n",
       "      <td>dubbo-cluster</td>\n",
       "      <td>['invoker', 'hello', 'menu', 'service', 'load'...</td>\n",
       "      <td>[0.06538757, -0.038762722, -0.09320979, -0.057...</td>\n",
       "      <td>[-0.015958335250616074, -0.015475192107260227,...</td>\n",
       "      <td>[0.014179217, -0.26719624, -0.15324931, -0.072...</td>\n",
       "    </tr>\n",
       "    <tr>\n",
       "      <th>1</th>\n",
       "      <td>01_dubbo</td>\n",
       "      <td>dubbo-cluster</td>\n",
       "      <td>['invoker', 'invocation', 'url', 'cluster', 'm...</td>\n",
       "      <td>[0.06413624, -0.03734391, -0.09991639, -0.0585...</td>\n",
       "      <td>[-0.0025778282433748245, -0.011829978786408901...</td>\n",
       "      <td>[-0.25283864, -0.16967408, -0.18421198, -0.022...</td>\n",
       "    </tr>\n",
       "    <tr>\n",
       "      <th>2</th>\n",
       "      <td>01_dubbo</td>\n",
       "      <td>dubbo-cluster</td>\n",
       "      <td>['attachment', 'value', 'key', 'invoker', 'sti...</td>\n",
       "      <td>[0.0645962, -0.04175846, -0.09586649, -0.05556...</td>\n",
       "      <td>[-0.03428419679403305, -0.0033837941009551287,...</td>\n",
       "      <td>[-0.4825757, -0.3559093, -0.28272846, 0.468342...</td>\n",
       "    </tr>\n",
       "    <tr>\n",
       "      <th>3</th>\n",
       "      <td>01_dubbo</td>\n",
       "      <td>dubbo-cluster</td>\n",
       "      <td>['url', 'model', 'merge', 'merger', 'module', ...</td>\n",
       "      <td>[0.06821527, -0.04794634, -0.09212922, -0.0694...</td>\n",
       "      <td>[-0.0011146004544571042, 0.014147793874144554,...</td>\n",
       "      <td>[0.40440214, -0.44396412, 0.09869711, -0.20433...</td>\n",
       "    </tr>\n",
       "    <tr>\n",
       "      <th>4</th>\n",
       "      <td>01_dubbo</td>\n",
       "      <td>dubbo-cluster</td>\n",
       "      <td>['match', 'configurator', 'mock', 'bool', 'joi...</td>\n",
       "      <td>[0.062228434, -0.033033144, -0.089854315, -0.0...</td>\n",
       "      <td>[-0.022632991895079613, -0.01612619124352932, ...</td>\n",
       "      <td>[-0.31522655, -0.66237473, 0.0850316, 0.209996...</td>\n",
       "    </tr>\n",
       "    <tr>\n",
       "      <th>...</th>\n",
       "      <td>...</td>\n",
       "      <td>...</td>\n",
       "      <td>...</td>\n",
       "      <td>...</td>\n",
       "      <td>...</td>\n",
       "      <td>...</td>\n",
       "    </tr>\n",
       "    <tr>\n",
       "      <th>119</th>\n",
       "      <td>01_dubbo</td>\n",
       "      <td>dubbo-xds</td>\n",
       "      <td>['endpoint', 'change', 'point', 'end', 'cluste...</td>\n",
       "      <td>[0.063921794, -0.024483405, -0.08707288, -0.05...</td>\n",
       "      <td>[0.00015126266225706786, -0.01217339001595974,...</td>\n",
       "      <td>[-0.94928396, 0.061658207, -0.85459405, 0.2661...</td>\n",
       "    </tr>\n",
       "    <tr>\n",
       "      <th>120</th>\n",
       "      <td>01_dubbo</td>\n",
       "      <td>dubbo-xds</td>\n",
       "      <td>['matcher', 'route', 'map', 'rule', 'endpoint'...</td>\n",
       "      <td>[0.05368861, -0.038989674, -0.08338601, -0.054...</td>\n",
       "      <td>[-0.0265257116407156, -0.008821831084787846, -...</td>\n",
       "      <td>[-0.35084802, 0.3498905, -0.22398137, -0.03473...</td>\n",
       "    </tr>\n",
       "    <tr>\n",
       "      <th>121</th>\n",
       "      <td>01_dubbo</td>\n",
       "      <td>dubbo-xds</td>\n",
       "      <td>['endpoint', 'cluster', 'end', 'change', 'poin...</td>\n",
       "      <td>[0.06607034, -0.03577423, -0.087813005, -0.054...</td>\n",
       "      <td>[-0.00456932233646512, -0.024403274059295654, ...</td>\n",
       "      <td>[-1.0170584, -0.33726072, -0.47389454, 0.41462...</td>\n",
       "    </tr>\n",
       "    <tr>\n",
       "      <th>122</th>\n",
       "      <td>01_dubbo</td>\n",
       "      <td>dubbo-xds</td>\n",
       "      <td>['rule', 'route', 'app', 'xds', 'manager', 'ch...</td>\n",
       "      <td>[0.06347599, -0.045654148, -0.08858261, -0.059...</td>\n",
       "      <td>[-0.003229746827855706, 0.013515480794012547, ...</td>\n",
       "      <td>[-0.5358087, -0.054393616, -0.12732497, -0.424...</td>\n",
       "    </tr>\n",
       "    <tr>\n",
       "      <th>123</th>\n",
       "      <td>01_dubbo</td>\n",
       "      <td>dubbo-xds</td>\n",
       "      <td>['map', 'resource', 'observe', 'matcher', 'res...</td>\n",
       "      <td>[0.056053527, -0.037075743, -0.09763332, -0.06...</td>\n",
       "      <td>[-0.013686266727745533, -0.0006812256178818643...</td>\n",
       "      <td>[-0.19575796, -0.04029549, -0.2974112, 0.15782...</td>\n",
       "    </tr>\n",
       "  </tbody>\n",
       "</table>\n",
       "<p>124 rows × 6 columns</p>\n",
       "</div>"
      ],
      "text/plain": [
       "    project_name         module   \n",
       "0       01_dubbo  dubbo-cluster  \\\n",
       "1       01_dubbo  dubbo-cluster   \n",
       "2       01_dubbo  dubbo-cluster   \n",
       "3       01_dubbo  dubbo-cluster   \n",
       "4       01_dubbo  dubbo-cluster   \n",
       "..           ...            ...   \n",
       "119     01_dubbo      dubbo-xds   \n",
       "120     01_dubbo      dubbo-xds   \n",
       "121     01_dubbo      dubbo-xds   \n",
       "122     01_dubbo      dubbo-xds   \n",
       "123     01_dubbo      dubbo-xds   \n",
       "\n",
       "                                               concept   \n",
       "0    ['invoker', 'hello', 'menu', 'service', 'load'...  \\\n",
       "1    ['invoker', 'invocation', 'url', 'cluster', 'm...   \n",
       "2    ['attachment', 'value', 'key', 'invoker', 'sti...   \n",
       "3    ['url', 'model', 'merge', 'merger', 'module', ...   \n",
       "4    ['match', 'configurator', 'mock', 'bool', 'joi...   \n",
       "..                                                 ...   \n",
       "119  ['endpoint', 'change', 'point', 'end', 'cluste...   \n",
       "120  ['matcher', 'route', 'map', 'rule', 'endpoint'...   \n",
       "121  ['endpoint', 'cluster', 'end', 'change', 'poin...   \n",
       "122  ['rule', 'route', 'app', 'xds', 'manager', 'ch...   \n",
       "123  ['map', 'resource', 'observe', 'matcher', 'res...   \n",
       "\n",
       "                                        sow2v_test_vec   \n",
       "0    [0.06538757, -0.038762722, -0.09320979, -0.057...  \\\n",
       "1    [0.06413624, -0.03734391, -0.09991639, -0.0585...   \n",
       "2    [0.0645962, -0.04175846, -0.09586649, -0.05556...   \n",
       "3    [0.06821527, -0.04794634, -0.09212922, -0.0694...   \n",
       "4    [0.062228434, -0.033033144, -0.089854315, -0.0...   \n",
       "..                                                 ...   \n",
       "119  [0.063921794, -0.024483405, -0.08707288, -0.05...   \n",
       "120  [0.05368861, -0.038989674, -0.08338601, -0.054...   \n",
       "121  [0.06607034, -0.03577423, -0.087813005, -0.054...   \n",
       "122  [0.06347599, -0.045654148, -0.08858261, -0.059...   \n",
       "123  [0.056053527, -0.037075743, -0.09763332, -0.06...   \n",
       "\n",
       "                                          gpt_test_vec   \n",
       "0    [-0.015958335250616074, -0.015475192107260227,...  \\\n",
       "1    [-0.0025778282433748245, -0.011829978786408901...   \n",
       "2    [-0.03428419679403305, -0.0033837941009551287,...   \n",
       "3    [-0.0011146004544571042, 0.014147793874144554,...   \n",
       "4    [-0.022632991895079613, -0.01612619124352932, ...   \n",
       "..                                                 ...   \n",
       "119  [0.00015126266225706786, -0.01217339001595974,...   \n",
       "120  [-0.0265257116407156, -0.008821831084787846, -...   \n",
       "121  [-0.00456932233646512, -0.024403274059295654, ...   \n",
       "122  [-0.003229746827855706, 0.013515480794012547, ...   \n",
       "123  [-0.013686266727745533, -0.0006812256178818643...   \n",
       "\n",
       "                                        angle_test_vec  \n",
       "0    [0.014179217, -0.26719624, -0.15324931, -0.072...  \n",
       "1    [-0.25283864, -0.16967408, -0.18421198, -0.022...  \n",
       "2    [-0.4825757, -0.3559093, -0.28272846, 0.468342...  \n",
       "3    [0.40440214, -0.44396412, 0.09869711, -0.20433...  \n",
       "4    [-0.31522655, -0.66237473, 0.0850316, 0.209996...  \n",
       "..                                                 ...  \n",
       "119  [-0.94928396, 0.061658207, -0.85459405, 0.2661...  \n",
       "120  [-0.35084802, 0.3498905, -0.22398137, -0.03473...  \n",
       "121  [-1.0170584, -0.33726072, -0.47389454, 0.41462...  \n",
       "122  [-0.5358087, -0.054393616, -0.12732497, -0.424...  \n",
       "123  [-0.19575796, -0.04029549, -0.2974112, 0.15782...  \n",
       "\n",
       "[124 rows x 6 columns]"
      ]
     },
     "execution_count": 82,
     "metadata": {},
     "output_type": "execute_result"
    }
   ],
   "source": [
    "dubbo_test_df"
   ]
  },
  {
   "cell_type": "code",
   "execution_count": 83,
   "metadata": {},
   "outputs": [
    {
     "data": {
      "text/html": [
       "<div>\n",
       "<style scoped>\n",
       "    .dataframe tbody tr th:only-of-type {\n",
       "        vertical-align: middle;\n",
       "    }\n",
       "\n",
       "    .dataframe tbody tr th {\n",
       "        vertical-align: top;\n",
       "    }\n",
       "\n",
       "    .dataframe thead th {\n",
       "        text-align: right;\n",
       "    }\n",
       "</style>\n",
       "<table border=\"1\" class=\"dataframe\">\n",
       "  <thead>\n",
       "    <tr style=\"text-align: right;\">\n",
       "      <th></th>\n",
       "      <th>project_name</th>\n",
       "      <th>concept</th>\n",
       "      <th>gpt_doc_vec</th>\n",
       "      <th>angle_doc_vec</th>\n",
       "      <th>sow2v_doc_vec</th>\n",
       "    </tr>\n",
       "  </thead>\n",
       "  <tbody>\n",
       "    <tr>\n",
       "      <th>0</th>\n",
       "      <td>01_dubbo</td>\n",
       "      <td>['service', 'see', 'issue', 'sample', 'project...</td>\n",
       "      <td>[0.005654162261635065, -0.0016180375823751092,...</td>\n",
       "      <td>[-0.2622697, -0.02699811, -0.11021085, -0.2081...</td>\n",
       "      <td>[0.08472025, -0.02117448, -0.0758657, -0.05463...</td>\n",
       "    </tr>\n",
       "    <tr>\n",
       "      <th>1</th>\n",
       "      <td>01_dubbo</td>\n",
       "      <td>['contribute', 'issue', 'sample', 'project', '...</td>\n",
       "      <td>[-0.0033876176457852125, -0.01359404157847166,...</td>\n",
       "      <td>[-0.42579025, -0.19378607, -0.31018537, -0.093...</td>\n",
       "      <td>[0.0759664, -0.026296437, -0.08504799, -0.0534...</td>\n",
       "    </tr>\n",
       "    <tr>\n",
       "      <th>2</th>\n",
       "      <td>01_dubbo</td>\n",
       "      <td>['issue', 'service', 'project', 'list', 'see',...</td>\n",
       "      <td>[-0.005690885242074728, -0.01893075555562973, ...</td>\n",
       "      <td>[-0.3254578, -0.15225579, -0.40020263, 0.05321...</td>\n",
       "      <td>[0.0752811, -0.029863613, -0.08484851, -0.0549...</td>\n",
       "    </tr>\n",
       "    <tr>\n",
       "      <th>3</th>\n",
       "      <td>01_dubbo</td>\n",
       "      <td>['service', 'see', 'project', 'build', 'github...</td>\n",
       "      <td>[0.0017545023001730442, -0.0064876810647547245...</td>\n",
       "      <td>[-0.09142876, -0.45110118, -0.17707597, -0.150...</td>\n",
       "      <td>[0.087012574, -0.029808724, -0.07877463, -0.05...</td>\n",
       "    </tr>\n",
       "    <tr>\n",
       "      <th>4</th>\n",
       "      <td>01_dubbo</td>\n",
       "      <td>['see', 'issue', 'sample', 'service', 'contrib...</td>\n",
       "      <td>[0.003152343910187483, 0.0006888388306833804, ...</td>\n",
       "      <td>[-0.38099384, 0.13213581, -0.082547046, -0.096...</td>\n",
       "      <td>[0.07527791, -0.02495413, -0.080793396, -0.055...</td>\n",
       "    </tr>\n",
       "    <tr>\n",
       "      <th>5</th>\n",
       "      <td>01_dubbo</td>\n",
       "      <td>['service', 'sample', 'see', 'issue', 'please'...</td>\n",
       "      <td>[-0.003034312278032303, -0.0045631458051502705...</td>\n",
       "      <td>[-0.4854178, 0.08935423, -0.009228911, 0.15076...</td>\n",
       "      <td>[0.07528599, -0.025522616, -0.080436565, -0.05...</td>\n",
       "    </tr>\n",
       "    <tr>\n",
       "      <th>6</th>\n",
       "      <td>01_dubbo</td>\n",
       "      <td>['service', 'issue', 'contribute', 'see', 'git...</td>\n",
       "      <td>[0.01160502154380083, -9.151901031145826e-05, ...</td>\n",
       "      <td>[-0.46851927, 0.069999725, -0.4154365, 0.00631...</td>\n",
       "      <td>[0.07766223, -0.02147056, -0.07729336, -0.0560...</td>\n",
       "    </tr>\n",
       "    <tr>\n",
       "      <th>7</th>\n",
       "      <td>01_dubbo</td>\n",
       "      <td>['service', 'see', 'issue', 'contribute', 'sam...</td>\n",
       "      <td>[0.00907079130411148, -0.0009530773968435824, ...</td>\n",
       "      <td>[-0.1939252, -0.23459983, -0.2911613, -0.08646...</td>\n",
       "      <td>[0.08069764, -0.01952648, -0.07685122, -0.0537...</td>\n",
       "    </tr>\n",
       "  </tbody>\n",
       "</table>\n",
       "</div>"
      ],
      "text/plain": [
       "  project_name                                            concept   \n",
       "0     01_dubbo  ['service', 'see', 'issue', 'sample', 'project...  \\\n",
       "1     01_dubbo  ['contribute', 'issue', 'sample', 'project', '...   \n",
       "2     01_dubbo  ['issue', 'service', 'project', 'list', 'see',...   \n",
       "3     01_dubbo  ['service', 'see', 'project', 'build', 'github...   \n",
       "4     01_dubbo  ['see', 'issue', 'sample', 'service', 'contrib...   \n",
       "5     01_dubbo  ['service', 'sample', 'see', 'issue', 'please'...   \n",
       "6     01_dubbo  ['service', 'issue', 'contribute', 'see', 'git...   \n",
       "7     01_dubbo  ['service', 'see', 'issue', 'contribute', 'sam...   \n",
       "\n",
       "                                         gpt_doc_vec   \n",
       "0  [0.005654162261635065, -0.0016180375823751092,...  \\\n",
       "1  [-0.0033876176457852125, -0.01359404157847166,...   \n",
       "2  [-0.005690885242074728, -0.01893075555562973, ...   \n",
       "3  [0.0017545023001730442, -0.0064876810647547245...   \n",
       "4  [0.003152343910187483, 0.0006888388306833804, ...   \n",
       "5  [-0.003034312278032303, -0.0045631458051502705...   \n",
       "6  [0.01160502154380083, -9.151901031145826e-05, ...   \n",
       "7  [0.00907079130411148, -0.0009530773968435824, ...   \n",
       "\n",
       "                                       angle_doc_vec   \n",
       "0  [-0.2622697, -0.02699811, -0.11021085, -0.2081...  \\\n",
       "1  [-0.42579025, -0.19378607, -0.31018537, -0.093...   \n",
       "2  [-0.3254578, -0.15225579, -0.40020263, 0.05321...   \n",
       "3  [-0.09142876, -0.45110118, -0.17707597, -0.150...   \n",
       "4  [-0.38099384, 0.13213581, -0.082547046, -0.096...   \n",
       "5  [-0.4854178, 0.08935423, -0.009228911, 0.15076...   \n",
       "6  [-0.46851927, 0.069999725, -0.4154365, 0.00631...   \n",
       "7  [-0.1939252, -0.23459983, -0.2911613, -0.08646...   \n",
       "\n",
       "                                       sow2v_doc_vec  \n",
       "0  [0.08472025, -0.02117448, -0.0758657, -0.05463...  \n",
       "1  [0.0759664, -0.026296437, -0.08504799, -0.0534...  \n",
       "2  [0.0752811, -0.029863613, -0.08484851, -0.0549...  \n",
       "3  [0.087012574, -0.029808724, -0.07877463, -0.05...  \n",
       "4  [0.07527791, -0.02495413, -0.080793396, -0.055...  \n",
       "5  [0.07528599, -0.025522616, -0.080436565, -0.05...  \n",
       "6  [0.07766223, -0.02147056, -0.07729336, -0.0560...  \n",
       "7  [0.08069764, -0.01952648, -0.07685122, -0.0537...  "
      ]
     },
     "execution_count": 83,
     "metadata": {},
     "output_type": "execute_result"
    }
   ],
   "source": [
    "dubbo_doc_df"
   ]
  },
  {
   "cell_type": "code",
   "execution_count": 95,
   "metadata": {},
   "outputs": [
    {
     "data": {
      "application/vnd.plotly.v1+json": {
       "config": {
        "plotlyServerURL": "https://plot.ly"
       },
       "data": [
        {
         "mode": "markers",
         "name": "code",
         "opacity": 0.7,
         "showlegend": true,
         "text": [
          "['merger', 'model', 'scope', 'aware', 'end', 'error', 'mergeable', 'map', 'match', 'concurrent']",
          "['match', 'value', 'bool', 'exact', 'weight', 'result', 'destination', 'traffic', 'policy', 'subset']",
          "['rule', 'mesh', 'listener', 'app', 'merger', 'map', 'merge', 'item', 'array', 'error']",
          "['rule', 'key', 'invoker', 'node', 'router', 'destination', 'service', 'map', 'virtual', 'output']",
          "['url', 'invoker', 'invocation', 'configurator', 'load', 'balance', 'spec', 'item', 'service', 'select']",
          "['map', 'match', 'invoker', 'destination', 'invocation', 'route', 'group', 'tag', 'context', 'rule']",
          "['router', 'url', 'state', 'invoker', 'bit', 'invocation', 'factory', 'snapshot', 'chain', 'rule']",
          "['bit', 'model', 'address', 'application', 'enable', 'service', 'iterator', 'key', 'hash', 'add']",
          "['invoker', 'cluster', 'invocation', 'directory', 'filter', 'url', 'rpc', 'chain', 'result', 'invoke']",
          "['map', 'extension', 'loader', 'property', 'msg', 'throwable', 'error', 'dynamic', 'aware', 'info']",
          "['model', 'method', 'scope', 'map', 'application', 'desc', 'parameter', 'framework', 'property', 'prefix']",
          "['thread', 'map', 'pool', 'qos', 'message', 'stream', 'listener', 'directory', 'watch', 'generic']",
          "['address', 'level', 'host', 'port', 'status', 'protocol', 'url', 'username', 'disposable', 'adapter']",
          "['integer', 'converter', 'path', 'stream', 'key', 'timeout', 'client', 'server', 'model', 'cert']",
          "['map', 'param', 'builder', 'bean', 'value', 'definition', 'parameter', 'key', 'method', 'url']",
          "['thread', 'registry', 'module', 'map', 'local', 'internal', 'reference', 'metadata', 'runnable', 'integer']",
          "['service', 'url', 'key', 'parameter', 'executor', 'model', 'method', 'value', 'map', 'protocol']",
          "['loader', 'java', 'descriptor', 'str', 'method', 'map', 'pattern', 'array', 'lock', 'value']",
          "['invocation', 'invoker', 'attachment', 'argument', 'method', 'rpc', 'map', 'type', 'key', 'parameter']",
          "['command', 'monitor', 'filter', 'context', 'input', 'configurator', 'servlet', 'merger', 'codec', 'telnet']",
          "['url', 'listener', 'registry', 'notify', 'factory', 'cache', 'register', 'subscribe', 'failback', 'compatible']",
          "['page', 'handler', 'service', 'servlet', 'http', 'request', 'model', 'response', 'writer', 'compatible']",
          "['rpc', 'address', 'context', 'remote', 'channel', 'message', 'local', 'socket', 'inet', 'throwable']",
          "['listener', 'notify', 'navigation', 'page', 'title', 'compatible', 'balance', 'application', 'load', 'url']",
          "['parameter', 'url', 'key', 'value', 'method', 'map', 'protocol', 'add', 'port', 'host']",
          "['future', 'response', 'unit', 'throwable', 'timeout', 'adapter', 'interrupt', 'execution', 'callback', 'completable']",
          "['application', 'model', 'module', 'context', 'event', 'service', 'bootstrap', 'state', 'aware', 'error']",
          "['builder', 'consumer', 'protocol', 'service', 'method', 'registry', 'integer', 'module', 'reference', 'bootstrap']",
          "['bean', 'definition', 'service', 'registry', 'context', 'factory', 'environment', 'init', 'spring', 'annotation']",
          "['builder', 'application', 'integer', 'provider', 'status', 'thread', 'registry', 'port', 'probe', 'qos']",
          "['bean', 'metadata', 'annotation', 'annotate', 'method', 'element', 'field', 'inject', 'service', 'property']",
          "['reference', 'bean', 'map', 'context', 'definition', 'parser', 'key', 'cache', 'element', 'application']",
          "['registry', 'property', 'center', 'value', 'metadata', 'report', 'validate', 'url', 'reference', 'application']",
          "['dynamic', 'factory', 'url', 'zookeeper', 'application', 'model', 'create', 'transporter', 'nacos', 'apollo']",
          "['nacos', 'listener', 'group', 'key', 'service', 'property', 'url', 'timeout', 'map', 'publish']",
          "['listener', 'key', 'path', 'group', 'apollo', 'zookeeper', 'change', 'dynamic', 'remove', 'cache']",
          "['apollo', 'listener', 'key', 'change', 'group', 'url', 'property', 'application', 'aware', 'dynamic']",
          "['nacos', 'service', 'group', 'content', 'listener', 'symbol', 'publish', 'cas', 'timeout', 'innerclass']",
          "['listener', 'key', 'property', 'url', 'nacos', 'group', 'change', 'service', 'timeout', 'apollo']",
          "['container', 'spring', 'error', 'extension', 'aware', 'lock', 'loader', 'classpath', 'context', 'condition']",
          "['container', 'error', 'spring', 'aware', 'loader', 'lock', 'reentrant', 'context', 'extension', 'classpath']",
          "['container', 'loader', 'lock', 'extension', 'aware', 'error', 'key', 'reentrant', 'condition', 'hook']",
          "['extension', 'lock', 'loader', 'condition', 'error', 'aware', 'reentrant', 'key', 'container', 'shutdown']",
          "['spring', 'context', 'aware', 'error', 'container', 'xml', 'application', 'path', 'classpath', 'extension']",
          "['method', 'parameter', 'validator', 'clazz', 'value', 'pool', 'validate', 'error', 'violation', 'aware']",
          "['validator', 'url', 'validation', 'create', 'map', 'concurrent', 'hash', 'lru', 'lfu', 'cache']",
          "['expire', 'time', 'map', 'live', 'interval', 'expiration', 'key', 'thread', 'value', 'access']",
          "['cache', 'url', 'factory', 'value', 'key', 'create', 'store', 'put', 'map', 'local']",
          "['invocation', 'validation', 'invoker', 'filter', 'result', 'rpc', 'invoke', 'uid', 'wrapper', 'present']",
          "['service', 'map', 'instance', 'listener', 'app', 'hash', 'concurrent', 'endpoint', 'kubernetes', 'pod']",
          "['client', 'proxy', 'cert', 'key', 'timeout', 'https', 'watch', 'interval', 'username', 'password']",
          "['url', 'listener', 'registry', 'kubernetes', 'mesh', 'env', 'factory', 'create', 'discovery', 'service']",
          "['service', 'map', 'param', 'key', 'url', 'definition', 'info', 'protocol', 'metadata', 'processing']",
          "['metadata', 'report', 'factory', 'url', 'key', 'map', 'rest', 'storage', 'service', 'create']",
          "['service', 'method', 'rest', 'metadata', 'map', 'application', 'model', 'mapping', 'resolve', 'url']",
          "['annotation', 'parameter', 'value', 'map', 'processor', 'method', 'listener', 'request', 'header', 'mapping']",
          "['method', 'map', 'integer', 'definition', 'builder', 'request', 'body', 'prioritize', 'generate', 'metadata']",
          "['cache', 'manager', 'util', 'store', 'service', 'executor', 'map', 'error', 'aware', 'size']",
          "['element', 'service', 'process', 'environment', 'processing', 'method', 'env', 'rest', 'annotation', 'metadata']",
          "['model', 'processor', 'annotation', 'parameter', 'param', 'element', 'application', 'executable', 'comparator', 'initialize']",
          "['metadata', 'identifier', 'service', 'url', 'key', 'listener', 'subscriber', 'report', 'group', 'store']",
          "['metric', 'map', 'method', 'atomic', 'invocation', 'stat', 'application', 'supplier', 'description', 'handler']",
          "['pool', 'thread', 'registry', 'executor', 'meter', 'application', 'empty', 'metric', 'size', 'destroy']",
          "['invocation', 'metric', 'application', 'invoker', 'model', 'category', 'map', 'observation', 'tag', 'value']",
          "['context', 'key', 'observation', 'convention', 'value', 'client', 'server', 'remote', 'low', 'cardinality']",
          "['concurrent', 'map', 'metric', 'time', 'window', 'hash', 'method', 'event', 'counter', 'request']",
          "['invocation', 'invoker', 'observation', 'model', 'filter', 'application', 'result', 'response', 'convention', 'registry']",
          "['metric', 'invocation', 'event', 'application', 'collector', 'request', 'collect', 'listener', 'execute', 'thread']",
          "['reporter', 'metric', 'application', 'model', 'factory', 'url', 'prometheus', 'create', 'exporter', 'service']",
          "['category', 'metric', 'tag', 'map', 'entity', 'sample', 'service', 'value', 'application', 'model']",
          "['invocation', 'invoker', 'monitor', 'result', 'factory', 'error', 'filter', 'host', 'concurrent', 'remote']",
          "['monitor', 'url', 'service', 'factory', 'statistic', 'protocol', 'proxy', 'invoker', 'method', 'client']",
          "['monitor', 'url', 'factory', 'map', 'executor', 'future', 'lock', 'hash', 'reentrant', 'concurrent']",
          "['monitor', 'service', 'constant', 'factory', 'metric', 'url', 'filter', 'detector', 'invoker', 'builtin']",
          "['metric', 'invocation', 'invoker', 'model', 'extension', 'accessor', 'application', 'result', 'aware', 'service']",
          "['max', 'concurrent', 'output', 'input', 'elapse', 'success', 'failure', 'item', 'statistic', 'invoker']",
          "['service', 'monitor', 'detector', 'metric', 'builtin', 'node', 'application', 'aware', 'model', 'url']",
          "['framework', 'model', 'serialize', 'probe', 'status', 'allow', 'readiness', 'util', 'notify', 'deployer']",
          "['command', 'context', 'http', 'aware', 'error', 'execute', 'node', 'executor', 'request', 'channel']",
          "['key', 'method', 'telnet', 'access', 'channel', 'attribute', 'handler', 'message', 'side', 'provider']",
          "['model', 'application', 'protocol', 'framework', 'qos', 'url', 'invoker', 'help', 'consumer', 'scope']",
          "['handler', 'invoker', 'one', 'many', 'response', 'observer', 'stream', 'method', 'request', 'mono']",
          "['border', 'invocation', 'column', 'define', 'filter', 'model', 'framework', 'url', 'state', 'invoker']",
          "['framework', 'model', 'command', 'context', 'snapshot', 'router', 'execute', 'triple', 'detector', 'reactor']",
          "['permission', 'foreign', 'level', 'accept', 'anonymous', 'access', 'whitelist', 'builder', 'welcome', 'qos']",
          "['url', 'invoker', 'listener', 'registry', 'cluster', 'protocol', 'map', 'service', 'exporter', 'provider']",
          "['timeout', 'url', 'retry', 'registry', 'task', 'cancel', 'failback', 'times', 'error', 'aware']",
          "['url', 'registry', 'listener', 'notify', 'factory', 'task', 'fail', 'map', 'retry', 'concurrent']",
          "['service', 'instance', 'metadata', 'discovery', 'listener', 'change', 'url', 'event', 'info', 'map']",
          "['service', 'key', 'url', 'protocol', 'instance', 'model', 'param', 'address', 'map', 'parameter']",
          "['url', 'listener', 'notify', 'map', 'concurrent', 'service', 'instance', 'registry', 'nacos', 'path']",
          "['migration', 'rule', 'step', 'url', 'model', 'consumer', 'threshold', 'delay', 'map', 'integer']",
          "['url', 'listener', 'service', 'registry', 'nacos', 'map', 'notify', 'model', 'aware', 'error']",
          "['dispatcher', 'map', 'repli', 'channel', 'serialization', 'url', 'executor', 'service', 'response', 'hash']",
          "['buffer', 'channel', 'byte', 'length', 'src', 'dst', 'factory', 'read', 'write', 'output']",
          "['context', 'ssl', 'ctx', 'event', 'operator', 'tls', 'buf', 'request', 'server', 'throwable']",
          "['channel', 'server', 'address', 'close', 'timeout', 'remote', 'send', 'timer', 'exchange', 'inet']",
          "['channel', 'handler', 'url', 'remote', 'address', 'netty', 'server', 'message', 'client', 'connect']",
          "['listener', 'path', 'zookeeper', 'channel', 'create', 'curator', 'client', 'state', 'target', 'child']",
          "['connection', 'request', 'future', 'attribute', 'key', 'client', 'executor', 'manager', 'model', 'append']",
          "['servlet', 'context', 'http', 'handler', 'port', 'instance', 'map', 'manager', 'integer', 'add']",
          "['http', 'model', 'message', 'server', 'url', 'handler', 'framework', 'aware', 'multi', 'error']",
          "['call', 'stream', 'channel', 'method', 'message', 'status', 'header', 'server', 'queue', 'command']",
          "['invoker', 'invocation', 'url', 'proxy', 'channel', 'rpc', 'error', 'protocol', 'result', 'aware']",
          "['future', 'context', 'completable', 'request', 'atomic', 'filter', 'time', 'output', 'response', 'key']",
          "['attachment', 'context', 'map', 'rpc', 'service', 'key', 'value', 'invocation', 'invoker', 'url']",
          "['status', 'handler', 'rpc', 'url', 'timeout', 'channel', 'pack', 'method', 'tri', 'response']",
          "['listener', 'exporter', 'context', 'cancellation', 'executor', 'invoker', 'executable', 'aware', 'consumer', 'error']",
          "['stream', 'client', 'url', 'server', 'protocol', 'remote', 'request', 'handler', 'service', 'channel']",
          "['header', 'executor', 'support', 'model', 'filter', 'application', 'isolation', 'compressor', 'url', 'aware']",
          "['application', 'event', 'environment', 'listener', 'prepare', 'atomic', 'process', 'logo', 'welcome', 'property']",
          "['map', 'property', 'metadata', 'environment', 'bean', 'application', 'protocol', 'registry', 'reference', 'consumer']",
          "['endpoint', 'condition', 'compatible', 'enable', 'context', 'error', 'aware', 'metadata', 'match', 'annotate']",
          "['metric', 'registry', 'meter', 'application', 'event', 'binder', 'start', 'bean', 'auto', 'listener']",
          "['metadata', 'map', 'endpoint', 'configs', 'health', 'indicator', 'name', 'status', 'checker', 'resolve']",
          "['status', 'default', 'extras', 'hash', 'link', 'indicator', 'propertie', 'health', 'load', 'memory']",
          "['application', 'context', 'event', 'bean', 'listener', 'definition', 'web', 'await', 'configurable', 'registry']",
          "['bean', 'service', 'processor', 'annotation', 'auto', 'qualifier', 'package', 'disposable', 'destroy', 'priority']",
          "['resource', 'map', 'service', 'lock', 'result', 'domain', 'listener', 'route', 'consumer', 'delta']",
          "['name', 'route', 'registry', 'url', 'listener', 'factory', 'map', 'result', 'hash', 'create']",
          "['model', 'url', 'range', 'value', 'match', 'listener', 'suffix', 'exact', 'present', 'prefix']",
          "['route', 'listener', 'rule', 'map', 'xds', 'endpoint', 'manager', 'match', 'rds', 'concurrent']",
          "['key', 'istio', 'path', 'secret', 'jwt', 'cluster', 'domain', 'grace', 'trust', 'workload']",
          "['consumer', 'observe', 'map', 'result', 'endpoint', 'protocol', 'domain', 'rd', 'pilot', 'exchanger']",
          "['endpoint', 'cluster', 'server', 'weight', 'info', 'node', 'provider', 'invoker', 'bootstrap', 'resource']",
          "['discovery', 'observer', 'response', 'request', 'ad', 'protocol', 'error', 'url', 'aware', 'delta']",
          "['key', 'cert', 'istio', 'matcher', 'certificate', 'env', 'generate', 'pair', 'path', 'header']"
         ],
         "type": "scatter",
         "x": [
          31.328489303588867,
          -23.937103271484375,
          42.67247009277344,
          0.8831484913825989,
          -16.200695037841797,
          3.8702685832977295,
          2.729254961013794,
          -11.512667655944824,
          4.401048183441162,
          -18.629487991333008,
          9.361157417297363,
          -12.91132926940918,
          1.483189344406128,
          27.16618537902832,
          25.356019973754883,
          18.268342971801758,
          6.006196022033691,
          27.180469512939453,
          -41.1917839050293,
          -3.5538008213043213,
          11.356161117553711,
          25.784921646118164,
          -20.833038330078125,
          -28.173707962036133,
          2.009868621826172,
          27.876537322998047,
          -7.359761714935303,
          -5.284546852111816,
          0.7805886268615723,
          30.33202362060547,
          -1.085599660873413,
          -33.23594284057617,
          31.37042236328125,
          -20.032094955444336,
          26.6684627532959,
          -24.364721298217773,
          7.21453857421875,
          -20.673114776611328,
          5.217403888702393,
          -6.494996547698975,
          -7.924429416656494,
          -9.24767017364502,
          -7.8602213859558105,
          -36.275543212890625,
          8.086221694946289,
          2.8125193119049072,
          18.32156753540039,
          4.928066253662109,
          -0.749568521976471,
          -39.74260711669922,
          17.8201847076416,
          31.21109390258789,
          -16.83316993713379,
          35.34223175048828,
          2.420863389968872,
          4.198752403259277,
          -14.891517639160156,
          37.113643646240234,
          -0.5552154779434204,
          -18.96755599975586,
          35.39287185668945,
          -26.488100051879883,
          21.639720916748047,
          1.462741732597351,
          -0.541473388671875,
          -6.8807830810546875,
          0.41113659739494324,
          -18.343793869018555,
          33.37557601928711,
          9.547966957092285,
          -4.93618631362915,
          -7.926712512969971,
          -4.523815155029297,
          -1.549433946609497,
          -14.50818157196045,
          27.483165740966797,
          -7.108686447143555,
          4.990719318389893,
          -5.087304592132568,
          -10.789081573486328,
          -12.537459373474121,
          -6.958257675170898,
          -0.2354760617017746,
          -6.429990291595459,
          -21.702878952026367,
          27.82510757446289,
          34.688804626464844,
          20.723936080932617,
          -33.04118347167969,
          29.156599044799805,
          1.9552618265151978,
          -0.897646963596344,
          25.258743286132812,
          -6.7174577713012695,
          11.646190643310547,
          9.77276611328125,
          -2.034048080444336,
          -0.5864240527153015,
          -10.571798324584961,
          30.303373336791992,
          -37.76731872558594,
          40.1676025390625,
          1.3094943761825562,
          -4.746789455413818,
          29.31879234313965,
          -33.44231033325195,
          -5.19539213180542,
          -0.479902446269989,
          26.384939193725586,
          3.279128074645996,
          -17.09506607055664,
          -18.651445388793945,
          -3.4604361057281494,
          16.713308334350586,
          -22.85775375366211,
          -4.756830215454102,
          -30.981664657592773,
          -15.942647933959961,
          4.7830891609191895,
          38.1002197265625,
          18.27037239074707,
          2.8823583126068115,
          6.887465000152588,
          -11.110486030578613,
          -2.553291082382202,
          27.302085876464844,
          -10.988326072692871
         ],
         "y": [
          -13.361736297607422,
          5.1150946617126465,
          -23.395355224609375,
          22.529277801513672,
          6.895169258117676,
          39.2507438659668,
          10.888984680175781,
          -14.894840240478516,
          8.544181823730469,
          29.67504119873047,
          -35.59656524658203,
          -20.277536392211914,
          -42.52149200439453,
          -18.740415573120117,
          5.5194172859191895,
          -20.790021896362305,
          -43.85747146606445,
          -30.467750549316406,
          12.797426223754883,
          7.648055076599121,
          -11.286041259765625,
          -32.61998748779297,
          -2.705728769302368,
          14.38207721710205,
          -44.53361129760742,
          10.338489532470703,
          17.47657012939453,
          1.9013782739639282,
          48.27439498901367,
          -33.102928161621094,
          47.51531219482422,
          14.50200366973877,
          -29.788143157958984,
          22.574207305908203,
          6.414304733276367,
          -5.202229022979736,
          -38.33992385864258,
          7.740270614624023,
          -40.59242248535156,
          47.64374542236328,
          48.448970794677734,
          44.408973693847656,
          43.935508728027344,
          14.883321762084961,
          -45.49700927734375,
          -20.097850799560547,
          -2.0655198097229004,
          -19.958900451660156,
          20.986770629882812,
          12.420286178588867,
          -6.461740493774414,
          -20.2862491607666,
          23.781152725219727,
          -17.195276260375977,
          -38.84604263305664,
          -48.95050811767578,
          28.550195693969727,
          -16.415098190307617,
          43.20042419433594,
          21.253026962280273,
          -22.737886428833008,
          -5.523767948150635,
          -8.793415069580078,
          39.21822738647461,
          37.367149353027344,
          -4.6216254234313965,
          40.43119812011719,
          5.271136283874512,
          -15.445399284362793,
          -39.488853454589844,
          9.76483154296875,
          5.496612548828125,
          -0.9690844416618347,
          7.10231351852417,
          7.4756927490234375,
          12.667351722717285,
          15.640318870544434,
          -35.789459228515625,
          -3.0370688438415527,
          -16.244234085083008,
          18.36482810974121,
          39.68634033203125,
          16.331144332885742,
          4.051194667816162,
          6.242350101470947,
          -28.12232780456543,
          -21.140949249267578,
          -21.735031127929688,
          24.7233829498291,
          -30.947967529296875,
          -5.440212726593018,
          -41.027339935302734,
          -23.39545249938965,
          -20.969762802124023,
          -9.942720413208008,
          5.498385906219482,
          -8.052989959716797,
          -7.976436614990234,
          -19.702762603759766,
          12.95830249786377,
          14.750211715698242,
          -23.79178810119629,
          -20.1011905670166,
          17.012657165527344,
          10.780855178833008,
          26.04273223876953,
          -21.481611251831055,
          5.2661452293396,
          -17.408262252807617,
          -41.99369430541992,
          21.037593841552734,
          26.636981964111328,
          47.722904205322266,
          -20.16996955871582,
          -4.330290794372559,
          -23.9876708984375,
          14.498208045959473,
          25.766448974609375,
          5.549924850463867,
          -21.940105438232422,
          -0.4170379638671875,
          -3.8890089988708496,
          9.846142768859863,
          20.19966697692871,
          18.2692928314209,
          -26.193140029907227,
          -23.069541931152344
         ]
        },
        {
         "mode": "markers",
         "name": "test",
         "opacity": 0.7,
         "showlegend": true,
         "text": [
          "['invoker', 'hello', 'menu', 'service', 'load', 'balance', 'user', 'map', 'weight', 'mock']",
          "['invoker', 'invocation', 'url', 'cluster', 'mock', 'result', 'directory', 'rpc', 'balance', 'invoke']",
          "['attachment', 'value', 'key', 'invoker', 'sticky', 'invoke', 'integer', 'service', 'retry', 'field']",
          "['url', 'model', 'merge', 'merger', 'module', 'router', 'provider', 'factory', 'init', 'script']",
          "['match', 'configurator', 'mock', 'bool', 'join', 'absent', 'message', 'runtime', 'uid', 'request']",
          "['rule', 'service', 'app', 'demo', 'map', 'suffix', 'clear', 'change', 'api', 'url']",
          "['address', 'country', 'phone', 'full', 'size', 'number', 'city', 'title', 'province', 'extension']",
          "['url', 'activate', 'echo', 'thread', 'add', 'event', 'pool', 'wrapper', 'adaptive', 'exhaust']",
          "['demo', 'service', 'mock', 'key', 'value', 'generic', 'hello', 'impl', 'group', 'cache']",
          "['model', 'scope', 'framework', 'module', 'application', 'destroy', 'property', 'method', 'bean', 'foo']",
          "['converter', 'person', 'init', 'task', 'status', 'multi', 'error', 'info', 'latch', 'value']",
          "['url', 'ext', 'atomic', 'integer', 'echo', 'wrap', 'status', 'executor', 'count', 'adaptive']",
          "['inner', 'age', 'map', 'child', 'util', 'parent', 'url', 'hash', 'email', 'result']",
          "['simple', 'value', 'ext', 'age', 'url', 'one', 'serializable', 'obj', 'person', 'hash']",
          "['provider', 'foo', 'service', 'framework', 'app', 'module', 'player', 'bitrate', 'url', 'copyright']",
          "['consumer', 'service', 'argument', 'application', 'provider', 'registry', 'protocol', 'extension', 'invoker', 'rpc']",
          "['url', 'invoker', 'invocation', 'router', 'cache', 'rpc', 'legacy', 'route', 'invokers', 'factory']",
          "['key', 'attachment', 'invoker', 'value', 'service', 'map', 'invocation', 'invoke', 'model', 'put']",
          "['inner', 'input', 'map', 'array', 'registry', 'application', 'output', 'stream', 'serialization', 'protocol']",
          "['read', 'write', 'input', 'output', 'extension', 'stream', 'argument', 'custom', 'find', 'byte']",
          "['person', 'complex', 'age', 'service', 'demo', 'method', 'impl', 'size', 'enumlength', 'uid']",
          "['context', 'argument', 'rpc', 'registry', 'provider', 'extension', 'application', 'service', 'module', 'protocol']",
          "['service', 'echo', 'demo', 'read', 'input', 'find', 'extension', 'cls', 'reader', 'stream']",
          "['invoker', 'key', 'attachment', 'service', 'map', 'invoke', 'value', 'attribute', 'parameter', 'cache']",
          "['box', 'service', 'demo', 'user', 'say', 'impl', 'prefix', 'status', 'checker', 'context']",
          "['invoker', 'mock', 'url', 'rpc', 'protocol', 'executor', 'proxy', 'port', 'dao', 'balance']",
          "['invocation', 'model', 'invoker', 'error', 'thread', 'response', 'application', 'bootstrap', 'module', 'filter']",
          "['url', 'listener', 'map', 'method', 'service', 'notify', 'registry', 'concurrent', 'key', 'register']",
          "['registry', 'service', 'center', 'export', 'listener', 'single', 'provider', 'exporter', 'multiple', 'protocol']",
          "['service', 'hello', 'demo', 'bean', 'application', 'context', 'reference', 'builder', 'impl', 'generic']",
          "['factory', 'loader', 'reference', 'service', 'bean', 'request', 'processor', 'property', 'find', 'multi']",
          "['consumer', 'bootstrap', 'service', 'module', 'spring', 'channel', 'manager', 'model', 'boot', 'zookeeper']",
          "['namespace', 'map', 'context', 'mock', 'property', 'service', 'extension', 'callback', 'key', 'apollo']",
          "['key', 'value', 'latch', 'count', 'map', 'listener', 'nacos', 'dynamic', 'session', 'event']",
          "['zookeeper', 'listener', 'map', 'url', 'count', 'dynamic', 'latch', 'mock', 'server', 'value']",
          "['map', 'namespace', 'property', 'service', 'extension', 'mock', 'context', 'locator', 'key', 'error']",
          "['server', 'status', 'timeout', 'retry', 'group', 'nacos', 'namespace', 'map', 'mock', 'property']",
          "['apollo', 'key', 'put', 'value', 'embed', 'dynamic', 'url', 'mock', 'namespace', 'event']",
          "['group', 'nacos', 'listener', 'publish', 'cas', 'content', 'remove', 'timeout', 'service', 'shut']",
          "['spring', 'container']",
          "['spring', 'container']",
          "['container', 'spring']",
          "['spring', 'container']",
          "['container', 'spring']",
          "['spring', 'container']",
          "['cache', 'factory', 'invoker', 'mock', 'filter', 'invocation', 'method', 'construct', 'rpc', 'non']",
          "['cache', 'expire', 'factory', 'url', 'construct', 'validator', 'validation', 'parameter', 'target', 'mock']",
          "['validation', 'mock', 'filter', 'validator', 'rpc', 'invocation', 'invoker', 'cache', 'factory', 'parameter']",
          "['parameter', 'validation', 'validator', 'target', 'mock', 'filter', 'rpc', 'invoker', 'invocation', 'cache']",
          "['service', 'kubernetes', 'server', 'mock', 'discovery', 'change', 'listener', 'instance', 'client', 'url']",
          "['service', 'kubernetes', 'mock', 'discovery', 'server', 'url', 'selector', 'pod', 'change', 'namespaced']",
          "['service', 'server', 'kubernetes', 'mock', 'discovery', 'map', 'selector', 'pod', 'change', 'namespaced']",
          "['service', 'mock', 'discovery', 'server', 'kubernetes', 'map', 'pod', 'namespaced', 'change', 'destroy']",
          "['service', 'server', 'kubernetes', 'discovery', 'mock', 'url', 'client', 'namespaced', 'instance', 'listener']",
          "['service', 'server', 'mock', 'kubernetes', 'listener', 'map', 'pod', 'namespaced', 'change', 'destroy']",
          "['service', 'discovery', 'server', 'kubernetes', 'listener', 'pod', 'map', 'selector', 'change', 'namespaced']",
          "['redis', 'metadata', 'report', 'store', 'info', 'find', 'interceptor', 'group', 'identifi', 'consumer']",
          "['service', 'url', 'listener', 'mapping', 'mock', 'nacos', 'group', 'application', 'map', 'model']",
          "['integer', 'big', 'compiler', 'str', 'java', 'directory', 'source', 'decimal', 'processor', 'time']",
          "['element', 'field', 'variable', 'class', 'compile', 'builder', 'annotation', 'add', 'model', 'definition']",
          "['param', 'user', 'model', 'service', 'rest', 'request', 'map', 'body', 'header', 'form']",
          "['method', 'annotation', 'invocation', 'processor', 'processing', 'context', 'source', 'round', 'environment', 'process']",
          "['metadata', 'identifier', 'report', 'service', 'url', 'subscriber', 'consumer', 'store', 'listener', 'map']",
          "['class', 'builder', 'compile', 'definition', 'type', 'add', 'annotation', 'processing', 'server', 'status']",
          "['builder', 'google', 'phone', 'number', 'map', 'field', 'request', 'parse', 'byte', 'response']",
          "['observation', 'filter', 'tracer', 'url', 'invocation', 'runner', 'consumer', 'sample', 'destroy', 'receiver']",
          "['window', 'time', 'quantile', 'counter', 'metric', 'category', 'unit', 'description', 'map', 'sample']",
          "['key', 'attachment', 'value', 'service', 'model', 'map', 'absent', 'invocation', 'invoker', 'mock']",
          "['metric', 'model', 'application', 'event', 'invocation', 'method', 'collector', 'setup', 'group', 'rpc']",
          "['metric', 'category', 'tag', 'setup', 'map', 'supplier', 'unit', 'description', 'sample', 'gauge']",
          "['request', 'init', 'param', 'teardown', 'event', 'metric', 'time', 'invocation', 'model', 'setup']",
          "['reporter', 'prometheus', 'metric', 'factory', 'attachment', 'key', 'service', 'value', 'model', 'framework']",
          "['factory', 'monitor', 'proxy', 'statistic', 'service', 'url', 'demo', 'invoker', 'response', 'invoke']",
          "['response', 'app', 'builder', 'attachment', 'result', 'map', 'throwable', 'create', 'build', 'invoker']",
          "['url', 'monitor', 'service', 'invoker', 'factory', 'invocation', 'statistics', 'available', 'destroy', 'collect']",
          "['invoker', 'service', 'demo', 'url', 'metric', 'invoke', 'function', 'consumer', 'port', 'response']",
          "['framework', 'model', 'register', 'provider', 'repository', 'module', 'state', 'url', 'user', 'custom']",
          "['command', 'context', 'mock', 'attribute', 'map', 'channel', 'telnet', 'invoker', 'method', 'service']",
          "['url', 'model', 'framework', 'util', 'reset', 'exporter', 'export', 'refer', 'instance', 'metadata']",
          "['channel', 'promise', 'future', 'address', 'listener', 'socket', 'remote', 'throwable', 'cause', 'timeout']",
          "['handler', 'telnet', 'mock', 'invoker', 'protocol', 'url', 'channel', 'wrapper', 'tri', 'change']",
          "['channel', 'url', 'remote', 'handler', 'attribute', 'mock', 'send', 'address', 'key', 'close']",
          "['person', 'map', 'serialize', 'non', 'service', 'value', 'demo', 'liveness', 'probe', 'integer']",
          "['age', 'qos', 'process', 'handler', 'uid', 'serializable', 'man', 'wire', 'protocol', 'util']",
          "['service', 'demo', 'repository', 'framework', 'model', 'module', 'invoke', 'parameter', 'generic', 'impl']",
          "['registry', 'protocol', 'url', 'integer', 'refer', 'atomic', 'invoker', 'listener', 'counter', 'exporter']",
          "['url', 'registry', 'factory', 'zookeeper', 'listener', 'service', 'notify', 'subscribe', 'mock', 'register']",
          "['notification', 'multiple', 'instance', 'metadata', 'service', 'revision', 'subscribe', 'listener', 'failure', 'invocation']",
          "['migration', 'rule', 'event', 'curator', 'framework', 'handler', 'invoker', 'url', 'path', 'key']",
          "['nacos', 'instance', 'service', 'group', 'subscribe', 'healthy', 'listener', 'select', 'server', 'msg']",
          "['service', 'discovery', 'instance', 'url', 'mock', 'listener', 'registry', 'event', 'change', 'mapping']",
          "['metadata', 'report', 'builder', 'service', 'url', 'mapping', 'invocation', 'application', 'map', 'model']",
          "['instance', 'service', 'param', 'metadata', 'nacos', 'exclude', 'create', 'naming', 'group', 'include']",
          "['url', 'timer', 'mock', 'task', 'channel', 'close', 'header', 'serialization', 'magic', 'reconnect']",
          "['channel', 'decode', 'output', 'input', 'encode', 'buffer', 'request', 'stream', 'codec', 'message']",
          "['channel', 'exchange', 'remote', 'server', 'handler', 'message', 'world', 'client', 'reply', 'port']",
          "['path', 'service', 'update', 'create', 'tolerant', 'zookeeper', 'fault', 'client', 'provider', 'persistent']",
          "['channel', 'client', 'remote', 'zookeeper', 'server', 'url', 'handler', 'connection', 'transporter', 'latch']",
          "['performance', 'aware', 'error', 'telnet', 'client', 'handler', 'result', 'mock', 'serializable', 'fix']",
          "['channel', 'buffer', 'handler', 'url', 'remote', 'send', 'close', 'address', 'attribute', 'key']",
          "['http', 'response', 'request', 'servlet', 'hello', 'serializable', 'uid', 'parameter', 'desc', 'type']",
          "['extension', 'loader', 'proxy', 'protocol', 'age', 'find', 'factory', 'adaptive', 'path', 'block']",
          "['service', 'demo', 'callback', 'hello', 'url', 'msg', 'yyy', 'impl', 'stub', 'say']",
          "['invocation', 'filter', 'rpc', 'url', 'invoker', 'attachment', 'context', 'tps', 'limiter', 'latch']",
          "['channel', 'remote', 'address', 'url', 'attribute', 'close', 'response', 'health', 'key', 'mock']",
          "['service', 'invoker', 'demo', 'reference', 'url', 'method', 'request', 'loader', 'result', 'argument']",
          "['channel', 'handler', 'integer', 'atomic', 'filter', 'telnet', 'msg', 'future', 'limit', 'completable']",
          "['service', 'demo', 'person', 'key', 'str', 'attachment', 'value', 'echo', 'map', 'size']",
          "['throwable', 'stream', 'observer', 'mock', 'latch', 'count', 'complete', 'next', 'error', 'message']",
          "['binder', 'environment', 'destroy', 'configurable', 'init', 'bean', 'relaxed', 'application', 'suite', 'endpoint']",
          "['application', 'map', 'module', 'registry', 'monitor', 'protocol', 'consumer', 'hash', 'link', 'provider']",
          "['annotation', 'service', 'context', 'processor', 'application', 'auto', 'bean', 'compatible', 'provider', 'without']",
          "['endpoint', 'metadata', 'service', 'rest', 'template', 'configs', 'shutdown', 'reference', 'property', 'demo']",
          "['application', 'environment', 'spring', 'processor', 'property', 'init', 'destroy', 'binder', 'instance', 'relaxed']",
          "['binder', 'environment', 'configurable', 'bean', 'suite', 'relaxed', 'destroy', 'init', 'metadata', 'template']",
          "['matcher', 'map', 'rule', 'route', 'observe', 'bootstrapper', 'path', 'change', 'resource', 'create']",
          "['bootstrapper', 'reader', 'create', 'raw', 'read', 'path', 'matcher', 'map', 'observe', 'rule']",
          "['map', 'listener', 'lds', 'request', 'discovery', 'consumer', 'resource', 'observe', 'build', 'name']",
          "['route', 'rd', 'rds', 'map', 'observe', 'resource', 'protocol', 'result', 'consumer', 'ad']",
          "['endpoint', 'change', 'point', 'end', 'cluster', 'eds', 'subscribe', 'rd', 'notify', 'unsubscribe']",
          "['matcher', 'route', 'map', 'rule', 'endpoint', 'change', 'regex', 'bootstrapper', 'path', 'rds']",
          "['endpoint', 'cluster', 'end', 'change', 'point', 'eds', 'manager', 'rule', 'unsubscribe', 'notify']",
          "['rule', 'route', 'app', 'xds', 'manager', 'change', 'listener', 'rds', 'parse', 'invoker']",
          "['map', 'resource', 'observe', 'matcher', 'result', 'consumer', 'protocol', 'node', 'ad', 'mock']"
         ],
         "type": "scatter",
         "x": [
          -11.323378562927246,
          11.597038269042969,
          -12.58599853515625,
          -37.05685043334961,
          41.10350036621094,
          -37.45669174194336,
          16.69330596923828,
          -25.120555877685547,
          -15.798463821411133,
          57.72586441040039,
          -31.327280044555664,
          -2.259795904159546,
          -40.14800262451172,
          -10.818419456481934,
          -32.989158630371094,
          46.752132415771484,
          9.607815742492676,
          -0.6523482203483582,
          14.844983100891113,
          17.65314292907715,
          -9.544929504394531,
          46.166011810302734,
          1.8039323091506958,
          -15.339344024658203,
          -18.44850730895996,
          45.37013626098633,
          50.778316497802734,
          11.074317932128906,
          -42.47687911987305,
          2.3682761192321777,
          5.814306735992432,
          48.93049240112305,
          63.273502349853516,
          3.774376630783081,
          -11.88272762298584,
          41.40560531616211,
          13.137697219848633,
          3.632556915283203,
          -1.4037811756134033,
          -125.3893814086914,
          -125.3893814086914,
          -126.26728057861328,
          -125.3893814086914,
          -126.26728057861328,
          -125.3893814086914,
          5.845808029174805,
          -5.866213321685791,
          14.267598152160645,
          15.306548118591309,
          -3.842907667160034,
          -7.730727195739746,
          -11.191322326660156,
          -13.519038200378418,
          -2.693563222885132,
          -9.366552352905273,
          -7.947865962982178,
          54.278846740722656,
          21.814748764038086,
          -8.974020957946777,
          31.448524475097656,
          -35.340476989746094,
          45.717140197753906,
          -32.85364532470703,
          28.216115951538086,
          -27.758453369140625,
          -44.55051803588867,
          25.866168975830078,
          2.0501232147216797,
          53.05218505859375,
          -37.56312561035156,
          33.53915023803711,
          -2.9877102375030518,
          38.629337310791016,
          -30.974489212036133,
          15.677238464355469,
          36.054725646972656,
          -38.437347412109375,
          4.813669681549072,
          -43.37525177001953,
          -14.168980598449707,
          -3.1575753688812256,
          -10.581226348876953,
          31.055774688720703,
          -15.41006851196289,
          47.273841857910156,
          -45.38093566894531,
          8.532305717468262,
          31.892379760742188,
          -33.67023849487305,
          -3.493833541870117,
          -7.668728828430176,
          21.173295974731445,
          0.9342337846755981,
          -4.812553882598877,
          1.6085227727890015,
          -7.332133769989014,
          -31.12907600402832,
          -2.3833720684051514,
          -11.030993461608887,
          -7.60078763961792,
          -36.8533821105957,
          61.12193298339844,
          -11.939800262451172,
          2.6462535858154297,
          -12.060735702514648,
          -36.59718322753906,
          -2.9414403438568115,
          -18.947938919067383,
          2.525973081588745,
          24.729427337646484,
          53.706119537353516,
          50.28871536254883,
          50.73695373535156,
          38.83137512207031,
          22.4046573638916,
          -25.295652389526367,
          -31.984052658081055,
          -40.34988021850586,
          -41.623939514160156,
          22.415422439575195,
          -22.457181930541992,
          19.814451217651367,
          -38.294212341308594,
          7.077636241912842
         ],
         "y": [
          -14.90739631652832,
          23.4036922454834,
          66.63017272949219,
          22.617446899414062,
          -26.035694122314453,
          -27.247840881347656,
          -39.266536712646484,
          -16.284069061279297,
          -15.585707664489746,
          -27.011951446533203,
          6.928218364715576,
          -11.54980754852295,
          -21.69458770751953,
          -28.643600463867188,
          -16.061004638671875,
          3.6268796920776367,
          25.11760711669922,
          -49.00778579711914,
          -7.006616115570068,
          -45.157386779785156,
          -25.52975082397461,
          0.8415929675102234,
          21.57881736755371,
          62.335235595703125,
          53.51307678222656,
          -1.89985990524292,
          -25.043384552001953,
          45.33041000366211,
          -2.491668939590454,
          8.77375316619873,
          44.1050910949707,
          -22.135961532592773,
          -31.306812286376953,
          -46.19110107421875,
          -11.558815956115723,
          2.4398934841156006,
          -5.154824256896973,
          -40.530025482177734,
          -13.957413673400879,
          -33.389591217041016,
          -33.389591217041016,
          -29.151376724243164,
          -33.389591217041016,
          -29.151376724243164,
          -33.389591217041016,
          -56.715789794921875,
          44.92084884643555,
          15.971728324890137,
          13.84502124786377,
          67.58935546875,
          51.73802185058594,
          53.58655548095703,
          55.950157165527344,
          65.3568344116211,
          58.88542175292969,
          55.746177673339844,
          3.8472061157226562,
          -16.87250328063965,
          42.66904830932617,
          -33.06986999511719,
          28.389150619506836,
          -18.35124397277832,
          23.868925094604492,
          -29.541479110717773,
          -25.074508666992188,
          7.820106029510498,
          -24.308223724365234,
          -49.346187591552734,
          -16.865272521972656,
          -30.527862548828125,
          -10.347018241882324,
          43.32558059692383,
          -5.574169158935547,
          -21.69280433654785,
          19.628265380859375,
          -7.954859733581543,
          20.181114196777344,
          -54.28569030761719,
          0.082646943628788,
          -0.39013993740081787,
          16.57590675354004,
          5.504863262176514,
          -12.388453483581543,
          -4.372137069702148,
          7.997209548950195,
          5.457483768463135,
          45.14311599731445,
          -28.069656372070312,
          8.060132026672363,
          51.88753890991211,
          62.39463424682617,
          -14.643875122070312,
          63.04893112182617,
          22.961071014404297,
          -15.99439811706543,
          15.843588829040527,
          -17.98812484741211,
          19.239051818847656,
          14.001806259155273,
          7.600657939910889,
          -23.368886947631836,
          -29.451662063598633,
          -32.32908248901367,
          11.376200675964355,
          3.447756052017212,
          14.23784351348877,
          5.731894016265869,
          -15.729777336120605,
          32.07999801635742,
          -32.616756439208984,
          -24.957693099975586,
          -19.209224700927734,
          1.2344790697097778,
          5.1683855056762695,
          -34.172828674316406,
          34.42561721801758,
          31.65825653076172,
          11.03618049621582,
          22.0703067779541,
          -41.55622482299805,
          32.98002624511719,
          -40.99573516845703,
          -1.0709930658340454,
          30.104419708251953
         ]
        },
        {
         "mode": "markers",
         "name": "doc",
         "opacity": 0.7,
         "showlegend": true,
         "text": [
          "['service', 'see', 'issue', 'sample', 'project', 'github', 'contribute', 'list', 'build', 'guide']",
          "['contribute', 'issue', 'sample', 'project', 'service', 'see', 'admin', 'build', 'list', 'report']",
          "['issue', 'service', 'project', 'list', 'see', 'github', 'report', 'sample', 'contribute', 'follow']",
          "['service', 'see', 'project', 'build', 'github', 'sample', 'issue', 'admin', 'follow', 'list']",
          "['see', 'issue', 'sample', 'service', 'contribute', 'guide', 'github', 'project', 'list', 'report']",
          "['service', 'sample', 'see', 'issue', 'please', 'project', 'github', 'contribute', 'report', 'list']",
          "['service', 'issue', 'contribute', 'see', 'github', 'project', 'report', 'sample', 'build', 'guide']",
          "['service', 'see', 'issue', 'contribute', 'sample', 'github', 'project', 'guide', 'admin', 'build']"
         ],
         "type": "scatter",
         "x": [
          -84.67569732666016,
          30.368892669677734,
          117.15975189208984,
          129.07240295410156,
          -32.286495208740234,
          50.44593811035156,
          -84.9018783569336,
          -147.5543670654297
         ],
         "y": [
          -87.53141784667969,
          -9.632746696472168,
          -7.445197105407715,
          -97.06758880615234,
          64.88483428955078,
          66.5467300415039,
          14.186199188232422,
          -51.913536071777344
         ]
        }
       ],
       "layout": {
        "height": 650,
        "template": {
         "data": {
          "bar": [
           {
            "error_x": {
             "color": "#2a3f5f"
            },
            "error_y": {
             "color": "#2a3f5f"
            },
            "marker": {
             "line": {
              "color": "#E5ECF6",
              "width": 0.5
             },
             "pattern": {
              "fillmode": "overlay",
              "size": 10,
              "solidity": 0.2
             }
            },
            "type": "bar"
           }
          ],
          "barpolar": [
           {
            "marker": {
             "line": {
              "color": "#E5ECF6",
              "width": 0.5
             },
             "pattern": {
              "fillmode": "overlay",
              "size": 10,
              "solidity": 0.2
             }
            },
            "type": "barpolar"
           }
          ],
          "carpet": [
           {
            "aaxis": {
             "endlinecolor": "#2a3f5f",
             "gridcolor": "white",
             "linecolor": "white",
             "minorgridcolor": "white",
             "startlinecolor": "#2a3f5f"
            },
            "baxis": {
             "endlinecolor": "#2a3f5f",
             "gridcolor": "white",
             "linecolor": "white",
             "minorgridcolor": "white",
             "startlinecolor": "#2a3f5f"
            },
            "type": "carpet"
           }
          ],
          "choropleth": [
           {
            "colorbar": {
             "outlinewidth": 0,
             "ticks": ""
            },
            "type": "choropleth"
           }
          ],
          "contour": [
           {
            "colorbar": {
             "outlinewidth": 0,
             "ticks": ""
            },
            "colorscale": [
             [
              0,
              "#0d0887"
             ],
             [
              0.1111111111111111,
              "#46039f"
             ],
             [
              0.2222222222222222,
              "#7201a8"
             ],
             [
              0.3333333333333333,
              "#9c179e"
             ],
             [
              0.4444444444444444,
              "#bd3786"
             ],
             [
              0.5555555555555556,
              "#d8576b"
             ],
             [
              0.6666666666666666,
              "#ed7953"
             ],
             [
              0.7777777777777778,
              "#fb9f3a"
             ],
             [
              0.8888888888888888,
              "#fdca26"
             ],
             [
              1,
              "#f0f921"
             ]
            ],
            "type": "contour"
           }
          ],
          "contourcarpet": [
           {
            "colorbar": {
             "outlinewidth": 0,
             "ticks": ""
            },
            "type": "contourcarpet"
           }
          ],
          "heatmap": [
           {
            "colorbar": {
             "outlinewidth": 0,
             "ticks": ""
            },
            "colorscale": [
             [
              0,
              "#0d0887"
             ],
             [
              0.1111111111111111,
              "#46039f"
             ],
             [
              0.2222222222222222,
              "#7201a8"
             ],
             [
              0.3333333333333333,
              "#9c179e"
             ],
             [
              0.4444444444444444,
              "#bd3786"
             ],
             [
              0.5555555555555556,
              "#d8576b"
             ],
             [
              0.6666666666666666,
              "#ed7953"
             ],
             [
              0.7777777777777778,
              "#fb9f3a"
             ],
             [
              0.8888888888888888,
              "#fdca26"
             ],
             [
              1,
              "#f0f921"
             ]
            ],
            "type": "heatmap"
           }
          ],
          "heatmapgl": [
           {
            "colorbar": {
             "outlinewidth": 0,
             "ticks": ""
            },
            "colorscale": [
             [
              0,
              "#0d0887"
             ],
             [
              0.1111111111111111,
              "#46039f"
             ],
             [
              0.2222222222222222,
              "#7201a8"
             ],
             [
              0.3333333333333333,
              "#9c179e"
             ],
             [
              0.4444444444444444,
              "#bd3786"
             ],
             [
              0.5555555555555556,
              "#d8576b"
             ],
             [
              0.6666666666666666,
              "#ed7953"
             ],
             [
              0.7777777777777778,
              "#fb9f3a"
             ],
             [
              0.8888888888888888,
              "#fdca26"
             ],
             [
              1,
              "#f0f921"
             ]
            ],
            "type": "heatmapgl"
           }
          ],
          "histogram": [
           {
            "marker": {
             "pattern": {
              "fillmode": "overlay",
              "size": 10,
              "solidity": 0.2
             }
            },
            "type": "histogram"
           }
          ],
          "histogram2d": [
           {
            "colorbar": {
             "outlinewidth": 0,
             "ticks": ""
            },
            "colorscale": [
             [
              0,
              "#0d0887"
             ],
             [
              0.1111111111111111,
              "#46039f"
             ],
             [
              0.2222222222222222,
              "#7201a8"
             ],
             [
              0.3333333333333333,
              "#9c179e"
             ],
             [
              0.4444444444444444,
              "#bd3786"
             ],
             [
              0.5555555555555556,
              "#d8576b"
             ],
             [
              0.6666666666666666,
              "#ed7953"
             ],
             [
              0.7777777777777778,
              "#fb9f3a"
             ],
             [
              0.8888888888888888,
              "#fdca26"
             ],
             [
              1,
              "#f0f921"
             ]
            ],
            "type": "histogram2d"
           }
          ],
          "histogram2dcontour": [
           {
            "colorbar": {
             "outlinewidth": 0,
             "ticks": ""
            },
            "colorscale": [
             [
              0,
              "#0d0887"
             ],
             [
              0.1111111111111111,
              "#46039f"
             ],
             [
              0.2222222222222222,
              "#7201a8"
             ],
             [
              0.3333333333333333,
              "#9c179e"
             ],
             [
              0.4444444444444444,
              "#bd3786"
             ],
             [
              0.5555555555555556,
              "#d8576b"
             ],
             [
              0.6666666666666666,
              "#ed7953"
             ],
             [
              0.7777777777777778,
              "#fb9f3a"
             ],
             [
              0.8888888888888888,
              "#fdca26"
             ],
             [
              1,
              "#f0f921"
             ]
            ],
            "type": "histogram2dcontour"
           }
          ],
          "mesh3d": [
           {
            "colorbar": {
             "outlinewidth": 0,
             "ticks": ""
            },
            "type": "mesh3d"
           }
          ],
          "parcoords": [
           {
            "line": {
             "colorbar": {
              "outlinewidth": 0,
              "ticks": ""
             }
            },
            "type": "parcoords"
           }
          ],
          "pie": [
           {
            "automargin": true,
            "type": "pie"
           }
          ],
          "scatter": [
           {
            "fillpattern": {
             "fillmode": "overlay",
             "size": 10,
             "solidity": 0.2
            },
            "type": "scatter"
           }
          ],
          "scatter3d": [
           {
            "line": {
             "colorbar": {
              "outlinewidth": 0,
              "ticks": ""
             }
            },
            "marker": {
             "colorbar": {
              "outlinewidth": 0,
              "ticks": ""
             }
            },
            "type": "scatter3d"
           }
          ],
          "scattercarpet": [
           {
            "marker": {
             "colorbar": {
              "outlinewidth": 0,
              "ticks": ""
             }
            },
            "type": "scattercarpet"
           }
          ],
          "scattergeo": [
           {
            "marker": {
             "colorbar": {
              "outlinewidth": 0,
              "ticks": ""
             }
            },
            "type": "scattergeo"
           }
          ],
          "scattergl": [
           {
            "marker": {
             "colorbar": {
              "outlinewidth": 0,
              "ticks": ""
             }
            },
            "type": "scattergl"
           }
          ],
          "scattermapbox": [
           {
            "marker": {
             "colorbar": {
              "outlinewidth": 0,
              "ticks": ""
             }
            },
            "type": "scattermapbox"
           }
          ],
          "scatterpolar": [
           {
            "marker": {
             "colorbar": {
              "outlinewidth": 0,
              "ticks": ""
             }
            },
            "type": "scatterpolar"
           }
          ],
          "scatterpolargl": [
           {
            "marker": {
             "colorbar": {
              "outlinewidth": 0,
              "ticks": ""
             }
            },
            "type": "scatterpolargl"
           }
          ],
          "scatterternary": [
           {
            "marker": {
             "colorbar": {
              "outlinewidth": 0,
              "ticks": ""
             }
            },
            "type": "scatterternary"
           }
          ],
          "surface": [
           {
            "colorbar": {
             "outlinewidth": 0,
             "ticks": ""
            },
            "colorscale": [
             [
              0,
              "#0d0887"
             ],
             [
              0.1111111111111111,
              "#46039f"
             ],
             [
              0.2222222222222222,
              "#7201a8"
             ],
             [
              0.3333333333333333,
              "#9c179e"
             ],
             [
              0.4444444444444444,
              "#bd3786"
             ],
             [
              0.5555555555555556,
              "#d8576b"
             ],
             [
              0.6666666666666666,
              "#ed7953"
             ],
             [
              0.7777777777777778,
              "#fb9f3a"
             ],
             [
              0.8888888888888888,
              "#fdca26"
             ],
             [
              1,
              "#f0f921"
             ]
            ],
            "type": "surface"
           }
          ],
          "table": [
           {
            "cells": {
             "fill": {
              "color": "#EBF0F8"
             },
             "line": {
              "color": "white"
             }
            },
            "header": {
             "fill": {
              "color": "#C8D4E3"
             },
             "line": {
              "color": "white"
             }
            },
            "type": "table"
           }
          ]
         },
         "layout": {
          "annotationdefaults": {
           "arrowcolor": "#2a3f5f",
           "arrowhead": 0,
           "arrowwidth": 1
          },
          "autotypenumbers": "strict",
          "coloraxis": {
           "colorbar": {
            "outlinewidth": 0,
            "ticks": ""
           }
          },
          "colorscale": {
           "diverging": [
            [
             0,
             "#8e0152"
            ],
            [
             0.1,
             "#c51b7d"
            ],
            [
             0.2,
             "#de77ae"
            ],
            [
             0.3,
             "#f1b6da"
            ],
            [
             0.4,
             "#fde0ef"
            ],
            [
             0.5,
             "#f7f7f7"
            ],
            [
             0.6,
             "#e6f5d0"
            ],
            [
             0.7,
             "#b8e186"
            ],
            [
             0.8,
             "#7fbc41"
            ],
            [
             0.9,
             "#4d9221"
            ],
            [
             1,
             "#276419"
            ]
           ],
           "sequential": [
            [
             0,
             "#0d0887"
            ],
            [
             0.1111111111111111,
             "#46039f"
            ],
            [
             0.2222222222222222,
             "#7201a8"
            ],
            [
             0.3333333333333333,
             "#9c179e"
            ],
            [
             0.4444444444444444,
             "#bd3786"
            ],
            [
             0.5555555555555556,
             "#d8576b"
            ],
            [
             0.6666666666666666,
             "#ed7953"
            ],
            [
             0.7777777777777778,
             "#fb9f3a"
            ],
            [
             0.8888888888888888,
             "#fdca26"
            ],
            [
             1,
             "#f0f921"
            ]
           ],
           "sequentialminus": [
            [
             0,
             "#0d0887"
            ],
            [
             0.1111111111111111,
             "#46039f"
            ],
            [
             0.2222222222222222,
             "#7201a8"
            ],
            [
             0.3333333333333333,
             "#9c179e"
            ],
            [
             0.4444444444444444,
             "#bd3786"
            ],
            [
             0.5555555555555556,
             "#d8576b"
            ],
            [
             0.6666666666666666,
             "#ed7953"
            ],
            [
             0.7777777777777778,
             "#fb9f3a"
            ],
            [
             0.8888888888888888,
             "#fdca26"
            ],
            [
             1,
             "#f0f921"
            ]
           ]
          },
          "colorway": [
           "#636efa",
           "#EF553B",
           "#00cc96",
           "#ab63fa",
           "#FFA15A",
           "#19d3f3",
           "#FF6692",
           "#B6E880",
           "#FF97FF",
           "#FECB52"
          ],
          "font": {
           "color": "#2a3f5f"
          },
          "geo": {
           "bgcolor": "white",
           "lakecolor": "white",
           "landcolor": "#E5ECF6",
           "showlakes": true,
           "showland": true,
           "subunitcolor": "white"
          },
          "hoverlabel": {
           "align": "left"
          },
          "hovermode": "closest",
          "mapbox": {
           "style": "light"
          },
          "paper_bgcolor": "white",
          "plot_bgcolor": "#E5ECF6",
          "polar": {
           "angularaxis": {
            "gridcolor": "white",
            "linecolor": "white",
            "ticks": ""
           },
           "bgcolor": "#E5ECF6",
           "radialaxis": {
            "gridcolor": "white",
            "linecolor": "white",
            "ticks": ""
           }
          },
          "scene": {
           "xaxis": {
            "backgroundcolor": "#E5ECF6",
            "gridcolor": "white",
            "gridwidth": 2,
            "linecolor": "white",
            "showbackground": true,
            "ticks": "",
            "zerolinecolor": "white"
           },
           "yaxis": {
            "backgroundcolor": "#E5ECF6",
            "gridcolor": "white",
            "gridwidth": 2,
            "linecolor": "white",
            "showbackground": true,
            "ticks": "",
            "zerolinecolor": "white"
           },
           "zaxis": {
            "backgroundcolor": "#E5ECF6",
            "gridcolor": "white",
            "gridwidth": 2,
            "linecolor": "white",
            "showbackground": true,
            "ticks": "",
            "zerolinecolor": "white"
           }
          },
          "shapedefaults": {
           "line": {
            "color": "#2a3f5f"
           }
          },
          "ternary": {
           "aaxis": {
            "gridcolor": "white",
            "linecolor": "white",
            "ticks": ""
           },
           "baxis": {
            "gridcolor": "white",
            "linecolor": "white",
            "ticks": ""
           },
           "bgcolor": "#E5ECF6",
           "caxis": {
            "gridcolor": "white",
            "linecolor": "white",
            "ticks": ""
           }
          },
          "title": {
           "x": 0.05
          },
          "xaxis": {
           "automargin": true,
           "gridcolor": "white",
           "linecolor": "white",
           "ticks": "",
           "title": {
            "standoff": 15
           },
           "zerolinecolor": "white",
           "zerolinewidth": 2
          },
          "yaxis": {
           "automargin": true,
           "gridcolor": "white",
           "linecolor": "white",
           "ticks": "",
           "title": {
            "standoff": 15
           },
           "zerolinecolor": "white",
           "zerolinewidth": 2
          }
         }
        },
        "width": 650
       }
      }
     },
     "metadata": {},
     "output_type": "display_data"
    }
   ],
   "source": [
    "import plotly.express as px\n",
    "import plotly.graph_objects as go\n",
    "from sklearn.manifold import TSNE\n",
    "import numpy as np\n",
    "\n",
    "\n",
    "tsne_model = TSNE(\n",
    "    n_components = 2,\n",
    "    perplexity = 5,\n",
    "    random_state = 42,\n",
    "    init = \"pca\",\n",
    "    learning_rate = \"auto\",\n",
    "    # metric = \"cosine\"\n",
    ")\n",
    "\n",
    "code_emb_arr = np.array(dubbo_code_df[\"sow2v_code_vec\"].to_list())\n",
    "test_emb_arr = np.array(dubbo_test_df[\"sow2v_test_vec\"].to_list())\n",
    "doc_emb_arr = np.array(dubbo_doc_df[\"sow2v_doc_vec\"].to_list())\n",
    "\n",
    "code_tsne_embeddings = tsne_model.fit_transform(code_emb_arr)\n",
    "test_tsne_embeddings = tsne_model.fit_transform(test_emb_arr)\n",
    "doc_tsne_embeddings = tsne_model.fit_transform(doc_emb_arr)\n",
    "\n",
    "sow2v_code_data = pd.DataFrame(\n",
    "    {'x': code_tsne_embeddings[:, 0],\n",
    "     'y': code_tsne_embeddings[:, 1]}\n",
    ")\n",
    "\n",
    "sow2v_test_data = pd.DataFrame(\n",
    "    {'x': test_tsne_embeddings[:, 0],\n",
    "     'y': test_tsne_embeddings[:, 1]}\n",
    ")\n",
    "\n",
    "sow2v_doc_data = pd.DataFrame(\n",
    "    {'x': doc_tsne_embeddings[:, 0],\n",
    "     'y': doc_tsne_embeddings[:, 1]}\n",
    ")\n",
    "\n",
    "dfs = {\n",
    "    \"code\": sow2v_code_data,\n",
    "    \"test\": sow2v_test_data,\n",
    "    \"doc\": sow2v_doc_data\n",
    "}\n",
    "\n",
    "id_list = [dubbo_code_df['concept'].tolist(),\n",
    "           dubbo_test_df['concept'].tolist(),\n",
    "           dubbo_doc_df['concept'].tolist()]\n",
    "\n",
    "fig = go.Figure()\n",
    "\n",
    "for i, df in enumerate(dfs):\n",
    "    fig = fig.add_trace(\n",
    "        go.Scatter(\n",
    "        x = dfs[df]['x'],\n",
    "        y = dfs[df]['y'],\n",
    "        name = df,\n",
    "        text = id_list[i],\n",
    "        showlegend = True,\n",
    "        mode = 'markers',\n",
    "        opacity = 0.7)\n",
    "    )\n",
    "\n",
    "fig.update_layout(\n",
    "    width = 650,\n",
    "    height = 650\n",
    ")\n",
    "\n",
    "fig.show()"
   ]
  },
  {
   "cell_type": "code",
   "execution_count": 96,
   "metadata": {},
   "outputs": [
    {
     "data": {
      "application/vnd.plotly.v1+json": {
       "config": {
        "plotlyServerURL": "https://plot.ly"
       },
       "data": [
        {
         "mode": "markers",
         "name": "code",
         "opacity": 0.7,
         "showlegend": true,
         "text": [
          "['merger', 'model', 'scope', 'aware', 'end', 'error', 'mergeable', 'map', 'match', 'concurrent']",
          "['match', 'value', 'bool', 'exact', 'weight', 'result', 'destination', 'traffic', 'policy', 'subset']",
          "['rule', 'mesh', 'listener', 'app', 'merger', 'map', 'merge', 'item', 'array', 'error']",
          "['rule', 'key', 'invoker', 'node', 'router', 'destination', 'service', 'map', 'virtual', 'output']",
          "['url', 'invoker', 'invocation', 'configurator', 'load', 'balance', 'spec', 'item', 'service', 'select']",
          "['map', 'match', 'invoker', 'destination', 'invocation', 'route', 'group', 'tag', 'context', 'rule']",
          "['router', 'url', 'state', 'invoker', 'bit', 'invocation', 'factory', 'snapshot', 'chain', 'rule']",
          "['bit', 'model', 'address', 'application', 'enable', 'service', 'iterator', 'key', 'hash', 'add']",
          "['invoker', 'cluster', 'invocation', 'directory', 'filter', 'url', 'rpc', 'chain', 'result', 'invoke']",
          "['map', 'extension', 'loader', 'property', 'msg', 'throwable', 'error', 'dynamic', 'aware', 'info']",
          "['model', 'method', 'scope', 'map', 'application', 'desc', 'parameter', 'framework', 'property', 'prefix']",
          "['thread', 'map', 'pool', 'qos', 'message', 'stream', 'listener', 'directory', 'watch', 'generic']",
          "['address', 'level', 'host', 'port', 'status', 'protocol', 'url', 'username', 'disposable', 'adapter']",
          "['integer', 'converter', 'path', 'stream', 'key', 'timeout', 'client', 'server', 'model', 'cert']",
          "['map', 'param', 'builder', 'bean', 'value', 'definition', 'parameter', 'key', 'method', 'url']",
          "['thread', 'registry', 'module', 'map', 'local', 'internal', 'reference', 'metadata', 'runnable', 'integer']",
          "['service', 'url', 'key', 'parameter', 'executor', 'model', 'method', 'value', 'map', 'protocol']",
          "['loader', 'java', 'descriptor', 'str', 'method', 'map', 'pattern', 'array', 'lock', 'value']",
          "['invocation', 'invoker', 'attachment', 'argument', 'method', 'rpc', 'map', 'type', 'key', 'parameter']",
          "['command', 'monitor', 'filter', 'context', 'input', 'configurator', 'servlet', 'merger', 'codec', 'telnet']",
          "['url', 'listener', 'registry', 'notify', 'factory', 'cache', 'register', 'subscribe', 'failback', 'compatible']",
          "['page', 'handler', 'service', 'servlet', 'http', 'request', 'model', 'response', 'writer', 'compatible']",
          "['rpc', 'address', 'context', 'remote', 'channel', 'message', 'local', 'socket', 'inet', 'throwable']",
          "['listener', 'notify', 'navigation', 'page', 'title', 'compatible', 'balance', 'application', 'load', 'url']",
          "['parameter', 'url', 'key', 'value', 'method', 'map', 'protocol', 'add', 'port', 'host']",
          "['future', 'response', 'unit', 'throwable', 'timeout', 'adapter', 'interrupt', 'execution', 'callback', 'completable']",
          "['application', 'model', 'module', 'context', 'event', 'service', 'bootstrap', 'state', 'aware', 'error']",
          "['builder', 'consumer', 'protocol', 'service', 'method', 'registry', 'integer', 'module', 'reference', 'bootstrap']",
          "['bean', 'definition', 'service', 'registry', 'context', 'factory', 'environment', 'init', 'spring', 'annotation']",
          "['builder', 'application', 'integer', 'provider', 'status', 'thread', 'registry', 'port', 'probe', 'qos']",
          "['bean', 'metadata', 'annotation', 'annotate', 'method', 'element', 'field', 'inject', 'service', 'property']",
          "['reference', 'bean', 'map', 'context', 'definition', 'parser', 'key', 'cache', 'element', 'application']",
          "['registry', 'property', 'center', 'value', 'metadata', 'report', 'validate', 'url', 'reference', 'application']",
          "['dynamic', 'factory', 'url', 'zookeeper', 'application', 'model', 'create', 'transporter', 'nacos', 'apollo']",
          "['nacos', 'listener', 'group', 'key', 'service', 'property', 'url', 'timeout', 'map', 'publish']",
          "['listener', 'key', 'path', 'group', 'apollo', 'zookeeper', 'change', 'dynamic', 'remove', 'cache']",
          "['apollo', 'listener', 'key', 'change', 'group', 'url', 'property', 'application', 'aware', 'dynamic']",
          "['nacos', 'service', 'group', 'content', 'listener', 'symbol', 'publish', 'cas', 'timeout', 'innerclass']",
          "['listener', 'key', 'property', 'url', 'nacos', 'group', 'change', 'service', 'timeout', 'apollo']",
          "['container', 'spring', 'error', 'extension', 'aware', 'lock', 'loader', 'classpath', 'context', 'condition']",
          "['container', 'error', 'spring', 'aware', 'loader', 'lock', 'reentrant', 'context', 'extension', 'classpath']",
          "['container', 'loader', 'lock', 'extension', 'aware', 'error', 'key', 'reentrant', 'condition', 'hook']",
          "['extension', 'lock', 'loader', 'condition', 'error', 'aware', 'reentrant', 'key', 'container', 'shutdown']",
          "['spring', 'context', 'aware', 'error', 'container', 'xml', 'application', 'path', 'classpath', 'extension']",
          "['method', 'parameter', 'validator', 'clazz', 'value', 'pool', 'validate', 'error', 'violation', 'aware']",
          "['validator', 'url', 'validation', 'create', 'map', 'concurrent', 'hash', 'lru', 'lfu', 'cache']",
          "['expire', 'time', 'map', 'live', 'interval', 'expiration', 'key', 'thread', 'value', 'access']",
          "['cache', 'url', 'factory', 'value', 'key', 'create', 'store', 'put', 'map', 'local']",
          "['invocation', 'validation', 'invoker', 'filter', 'result', 'rpc', 'invoke', 'uid', 'wrapper', 'present']",
          "['service', 'map', 'instance', 'listener', 'app', 'hash', 'concurrent', 'endpoint', 'kubernetes', 'pod']",
          "['client', 'proxy', 'cert', 'key', 'timeout', 'https', 'watch', 'interval', 'username', 'password']",
          "['url', 'listener', 'registry', 'kubernetes', 'mesh', 'env', 'factory', 'create', 'discovery', 'service']",
          "['service', 'map', 'param', 'key', 'url', 'definition', 'info', 'protocol', 'metadata', 'processing']",
          "['metadata', 'report', 'factory', 'url', 'key', 'map', 'rest', 'storage', 'service', 'create']",
          "['service', 'method', 'rest', 'metadata', 'map', 'application', 'model', 'mapping', 'resolve', 'url']",
          "['annotation', 'parameter', 'value', 'map', 'processor', 'method', 'listener', 'request', 'header', 'mapping']",
          "['method', 'map', 'integer', 'definition', 'builder', 'request', 'body', 'prioritize', 'generate', 'metadata']",
          "['cache', 'manager', 'util', 'store', 'service', 'executor', 'map', 'error', 'aware', 'size']",
          "['element', 'service', 'process', 'environment', 'processing', 'method', 'env', 'rest', 'annotation', 'metadata']",
          "['model', 'processor', 'annotation', 'parameter', 'param', 'element', 'application', 'executable', 'comparator', 'initialize']",
          "['metadata', 'identifier', 'service', 'url', 'key', 'listener', 'subscriber', 'report', 'group', 'store']",
          "['metric', 'map', 'method', 'atomic', 'invocation', 'stat', 'application', 'supplier', 'description', 'handler']",
          "['pool', 'thread', 'registry', 'executor', 'meter', 'application', 'empty', 'metric', 'size', 'destroy']",
          "['invocation', 'metric', 'application', 'invoker', 'model', 'category', 'map', 'observation', 'tag', 'value']",
          "['context', 'key', 'observation', 'convention', 'value', 'client', 'server', 'remote', 'low', 'cardinality']",
          "['concurrent', 'map', 'metric', 'time', 'window', 'hash', 'method', 'event', 'counter', 'request']",
          "['invocation', 'invoker', 'observation', 'model', 'filter', 'application', 'result', 'response', 'convention', 'registry']",
          "['metric', 'invocation', 'event', 'application', 'collector', 'request', 'collect', 'listener', 'execute', 'thread']",
          "['reporter', 'metric', 'application', 'model', 'factory', 'url', 'prometheus', 'create', 'exporter', 'service']",
          "['category', 'metric', 'tag', 'map', 'entity', 'sample', 'service', 'value', 'application', 'model']",
          "['invocation', 'invoker', 'monitor', 'result', 'factory', 'error', 'filter', 'host', 'concurrent', 'remote']",
          "['monitor', 'url', 'service', 'factory', 'statistic', 'protocol', 'proxy', 'invoker', 'method', 'client']",
          "['monitor', 'url', 'factory', 'map', 'executor', 'future', 'lock', 'hash', 'reentrant', 'concurrent']",
          "['monitor', 'service', 'constant', 'factory', 'metric', 'url', 'filter', 'detector', 'invoker', 'builtin']",
          "['metric', 'invocation', 'invoker', 'model', 'extension', 'accessor', 'application', 'result', 'aware', 'service']",
          "['max', 'concurrent', 'output', 'input', 'elapse', 'success', 'failure', 'item', 'statistic', 'invoker']",
          "['service', 'monitor', 'detector', 'metric', 'builtin', 'node', 'application', 'aware', 'model', 'url']",
          "['framework', 'model', 'serialize', 'probe', 'status', 'allow', 'readiness', 'util', 'notify', 'deployer']",
          "['command', 'context', 'http', 'aware', 'error', 'execute', 'node', 'executor', 'request', 'channel']",
          "['key', 'method', 'telnet', 'access', 'channel', 'attribute', 'handler', 'message', 'side', 'provider']",
          "['model', 'application', 'protocol', 'framework', 'qos', 'url', 'invoker', 'help', 'consumer', 'scope']",
          "['handler', 'invoker', 'one', 'many', 'response', 'observer', 'stream', 'method', 'request', 'mono']",
          "['border', 'invocation', 'column', 'define', 'filter', 'model', 'framework', 'url', 'state', 'invoker']",
          "['framework', 'model', 'command', 'context', 'snapshot', 'router', 'execute', 'triple', 'detector', 'reactor']",
          "['permission', 'foreign', 'level', 'accept', 'anonymous', 'access', 'whitelist', 'builder', 'welcome', 'qos']",
          "['url', 'invoker', 'listener', 'registry', 'cluster', 'protocol', 'map', 'service', 'exporter', 'provider']",
          "['timeout', 'url', 'retry', 'registry', 'task', 'cancel', 'failback', 'times', 'error', 'aware']",
          "['url', 'registry', 'listener', 'notify', 'factory', 'task', 'fail', 'map', 'retry', 'concurrent']",
          "['service', 'instance', 'metadata', 'discovery', 'listener', 'change', 'url', 'event', 'info', 'map']",
          "['service', 'key', 'url', 'protocol', 'instance', 'model', 'param', 'address', 'map', 'parameter']",
          "['url', 'listener', 'notify', 'map', 'concurrent', 'service', 'instance', 'registry', 'nacos', 'path']",
          "['migration', 'rule', 'step', 'url', 'model', 'consumer', 'threshold', 'delay', 'map', 'integer']",
          "['url', 'listener', 'service', 'registry', 'nacos', 'map', 'notify', 'model', 'aware', 'error']",
          "['dispatcher', 'map', 'repli', 'channel', 'serialization', 'url', 'executor', 'service', 'response', 'hash']",
          "['buffer', 'channel', 'byte', 'length', 'src', 'dst', 'factory', 'read', 'write', 'output']",
          "['context', 'ssl', 'ctx', 'event', 'operator', 'tls', 'buf', 'request', 'server', 'throwable']",
          "['channel', 'server', 'address', 'close', 'timeout', 'remote', 'send', 'timer', 'exchange', 'inet']",
          "['channel', 'handler', 'url', 'remote', 'address', 'netty', 'server', 'message', 'client', 'connect']",
          "['listener', 'path', 'zookeeper', 'channel', 'create', 'curator', 'client', 'state', 'target', 'child']",
          "['connection', 'request', 'future', 'attribute', 'key', 'client', 'executor', 'manager', 'model', 'append']",
          "['servlet', 'context', 'http', 'handler', 'port', 'instance', 'map', 'manager', 'integer', 'add']",
          "['http', 'model', 'message', 'server', 'url', 'handler', 'framework', 'aware', 'multi', 'error']",
          "['call', 'stream', 'channel', 'method', 'message', 'status', 'header', 'server', 'queue', 'command']",
          "['invoker', 'invocation', 'url', 'proxy', 'channel', 'rpc', 'error', 'protocol', 'result', 'aware']",
          "['future', 'context', 'completable', 'request', 'atomic', 'filter', 'time', 'output', 'response', 'key']",
          "['attachment', 'context', 'map', 'rpc', 'service', 'key', 'value', 'invocation', 'invoker', 'url']",
          "['status', 'handler', 'rpc', 'url', 'timeout', 'channel', 'pack', 'method', 'tri', 'response']",
          "['listener', 'exporter', 'context', 'cancellation', 'executor', 'invoker', 'executable', 'aware', 'consumer', 'error']",
          "['stream', 'client', 'url', 'server', 'protocol', 'remote', 'request', 'handler', 'service', 'channel']",
          "['header', 'executor', 'support', 'model', 'filter', 'application', 'isolation', 'compressor', 'url', 'aware']",
          "['application', 'event', 'environment', 'listener', 'prepare', 'atomic', 'process', 'logo', 'welcome', 'property']",
          "['map', 'property', 'metadata', 'environment', 'bean', 'application', 'protocol', 'registry', 'reference', 'consumer']",
          "['endpoint', 'condition', 'compatible', 'enable', 'context', 'error', 'aware', 'metadata', 'match', 'annotate']",
          "['metric', 'registry', 'meter', 'application', 'event', 'binder', 'start', 'bean', 'auto', 'listener']",
          "['metadata', 'map', 'endpoint', 'configs', 'health', 'indicator', 'name', 'status', 'checker', 'resolve']",
          "['status', 'default', 'extras', 'hash', 'link', 'indicator', 'propertie', 'health', 'load', 'memory']",
          "['application', 'context', 'event', 'bean', 'listener', 'definition', 'web', 'await', 'configurable', 'registry']",
          "['bean', 'service', 'processor', 'annotation', 'auto', 'qualifier', 'package', 'disposable', 'destroy', 'priority']",
          "['resource', 'map', 'service', 'lock', 'result', 'domain', 'listener', 'route', 'consumer', 'delta']",
          "['name', 'route', 'registry', 'url', 'listener', 'factory', 'map', 'result', 'hash', 'create']",
          "['model', 'url', 'range', 'value', 'match', 'listener', 'suffix', 'exact', 'present', 'prefix']",
          "['route', 'listener', 'rule', 'map', 'xds', 'endpoint', 'manager', 'match', 'rds', 'concurrent']",
          "['key', 'istio', 'path', 'secret', 'jwt', 'cluster', 'domain', 'grace', 'trust', 'workload']",
          "['consumer', 'observe', 'map', 'result', 'endpoint', 'protocol', 'domain', 'rd', 'pilot', 'exchanger']",
          "['endpoint', 'cluster', 'server', 'weight', 'info', 'node', 'provider', 'invoker', 'bootstrap', 'resource']",
          "['discovery', 'observer', 'response', 'request', 'ad', 'protocol', 'error', 'url', 'aware', 'delta']",
          "['key', 'cert', 'istio', 'matcher', 'certificate', 'env', 'generate', 'pair', 'path', 'header']"
         ],
         "type": "scatter",
         "x": [
          13.799171447753906,
          32.8616943359375,
          14.845489501953125,
          29.576326370239258,
          5.9810004234313965,
          30.765525817871094,
          20.567777633666992,
          -6.027484893798828,
          12.220976829528809,
          8.888047218322754,
          -12.390684127807617,
          -12.875536918640137,
          -6.492623805999756,
          -12.07030963897705,
          -12.228316307067871,
          -11.571972846984863,
          -9.79549789428711,
          4.02244234085083,
          6.593969821929932,
          14.32662582397461,
          8.135895729064941,
          13.49953556060791,
          -3.3497514724731445,
          -13.055100440979004,
          -6.510412693023682,
          -41.00016403198242,
          4.119256973266602,
          -13.6957426071167,
          -21.30681037902832,
          -12.370498657226562,
          -23.66588592529297,
          -18.736083984375,
          -5.630035400390625,
          -6.680805683135986,
          -6.948703765869141,
          -11.151689529418945,
          -11.123879432678223,
          -4.9414143562316895,
          -8.433835983276367,
          6.5601091384887695,
          7.8126068115234375,
          11.142906188964844,
          10.945189476013184,
          6.983173847198486,
          13.96236801147461,
          6.323246002197266,
          -34.33656311035156,
          4.339543342590332,
          10.929383277893066,
          11.257678031921387,
          -11.565589904785156,
          7.086715221405029,
          -10.555428504943848,
          -1.0903922319412231,
          -12.915020942687988,
          -15.352829933166504,
          -17.391416549682617,
          1.7395033836364746,
          -23.613571166992188,
          -19.613737106323242,
          -2.7469027042388916,
          28.28861427307129,
          -28.226247787475586,
          27.57390594482422,
          30.624439239501953,
          -31.557029724121094,
          23.422222137451172,
          -29.318849563598633,
          18.101022720336914,
          26.92060661315918,
          12.093469619750977,
          12.807263374328613,
          9.42121696472168,
          15.963708877563477,
          24.006351470947266,
          11.340392112731934,
          17.84432601928711,
          21.345773696899414,
          9.142765045166016,
          1.6388945579528809,
          -12.312679290771484,
          18.639476776123047,
          17.50954818725586,
          21.09685516357422,
          -9.91640567779541,
          5.703607559204102,
          10.582558631896973,
          10.03683853149414,
          -8.987074851989746,
          -8.778800010681152,
          5.541051387786865,
          21.198745727539062,
          4.926953315734863,
          9.622469902038574,
          -2.28709077835083,
          -5.10214900970459,
          -1.8220231533050537,
          0.03187699615955353,
          -12.457636833190918,
          -11.632243156433105,
          -3.2223706245422363,
          4.110468864440918,
          4.1648359298706055,
          11.893410682678223,
          -40.440940856933594,
          5.26664924621582,
          3.2486753463745117,
          9.075799942016602,
          1.4261586666107178,
          15.548789978027344,
          -21.629722595214844,
          -15.548280715942383,
          -23.978713989257812,
          -26.080211639404297,
          -14.992183685302734,
          -16.89738655090332,
          -24.264545440673828,
          -21.581466674804688,
          19.81973648071289,
          13.186257362365723,
          19.067874908447266,
          16.87265968322754,
          -21.973438262939453,
          21.351810455322266,
          3.6169581413269043,
          23.74919319152832,
          -20.607166290283203
         ],
         "y": [
          -6.705932140350342,
          25.576644897460938,
          -8.516008377075195,
          25.076873779296875,
          -10.779117584228516,
          24.158201217651367,
          26.39044952392578,
          15.07789421081543,
          17.621614456176758,
          -38.167625427246094,
          1.7807632684707642,
          -12.810346603393555,
          23.181575775146484,
          35.52359390258789,
          17.908220291137695,
          -6.267367362976074,
          17.65047264099121,
          -44.89190673828125,
          20.175931930541992,
          8.942193984985352,
          -25.0681095123291,
          26.255878448486328,
          36.30827331542969,
          -33.302162170410156,
          20.59532928466797,
          2.9182400703430176,
          -32.991825103759766,
          -7.560946464538574,
          -4.401604652404785,
          -10.083012580871582,
          -0.11890064179897308,
          -6.104102611541748,
          -0.540616512298584,
          -26.506858825683594,
          -30.420124053955078,
          -27.92875862121582,
          -31.42076301574707,
          -31.601572036743164,
          -29.578548431396484,
          -42.99999237060547,
          -43.76653289794922,
          -44.25929260253906,
          -45.76571273803711,
          -40.74834442138672,
          14.423585891723633,
          -0.4811023473739624,
          -11.498917579650879,
          -0.484486848115921,
          18.985641479492188,
          -16.451072692871094,
          34.161067962646484,
          -14.97348690032959,
          13.70492935180664,
          0.4557141661643982,
          10.886055946350098,
          15.259799003601074,
          15.557350158691406,
          -23.612812042236328,
          3.2809109687805176,
          -0.02027927152812481,
          0.036135461181402206,
          12.776350021362305,
          -14.167228698730469,
          10.185304641723633,
          9.283709526062012,
          -11.539478302001953,
          11.834463119506836,
          -12.107719421386719,
          -1.083846092224121,
          8.443702697753906,
          9.388365745544434,
          1.7846933603286743,
          -0.7701922059059143,
          1.4279884099960327,
          13.328309059143066,
          5.11718225479126,
          0.8835623264312744,
          1.4657648801803589,
          14.288582801818848,
          38.663997650146484,
          -1.0283163785934448,
          12.750997543334961,
          23.750186920166016,
          28.37236785888672,
          -10.639360427856445,
          -13.503698348999023,
          -22.23868751525879,
          -24.126483917236328,
          11.18124771118164,
          15.813031196594238,
          -23.23121452331543,
          -13.521204948425293,
          -24.73419761657715,
          -2.7237346172332764,
          40.88303756713867,
          35.41276931762695,
          37.468753814697266,
          35.08967208862305,
          -26.21206283569336,
          22.192703247070312,
          20.521984100341797,
          -28.018539428710938,
          34.87776565551758,
          15.805148124694824,
          1.5904632806777954,
          19.663877487182617,
          30.735321044921875,
          9.80494213104248,
          34.493038177490234,
          24.896045684814453,
          -11.049537658691406,
          -6.124710559844971,
          5.740783214569092,
          -11.505047798156738,
          8.881804466247559,
          6.962028980255127,
          -10.820784568786621,
          -1.8217198848724365,
          -17.046958923339844,
          -25.301387786865234,
          21.899621963500977,
          -17.16265106201172,
          36.0893669128418,
          -18.034944534301758,
          -13.333874702453613,
          -18.952707290649414,
          36.20557403564453
         ]
        },
        {
         "mode": "markers",
         "name": "test",
         "opacity": 0.7,
         "showlegend": true,
         "text": [
          "['invoker', 'hello', 'menu', 'service', 'load', 'balance', 'user', 'map', 'weight', 'mock']",
          "['invoker', 'invocation', 'url', 'cluster', 'mock', 'result', 'directory', 'rpc', 'balance', 'invoke']",
          "['attachment', 'value', 'key', 'invoker', 'sticky', 'invoke', 'integer', 'service', 'retry', 'field']",
          "['url', 'model', 'merge', 'merger', 'module', 'router', 'provider', 'factory', 'init', 'script']",
          "['match', 'configurator', 'mock', 'bool', 'join', 'absent', 'message', 'runtime', 'uid', 'request']",
          "['rule', 'service', 'app', 'demo', 'map', 'suffix', 'clear', 'change', 'api', 'url']",
          "['address', 'country', 'phone', 'full', 'size', 'number', 'city', 'title', 'province', 'extension']",
          "['url', 'activate', 'echo', 'thread', 'add', 'event', 'pool', 'wrapper', 'adaptive', 'exhaust']",
          "['demo', 'service', 'mock', 'key', 'value', 'generic', 'hello', 'impl', 'group', 'cache']",
          "['model', 'scope', 'framework', 'module', 'application', 'destroy', 'property', 'method', 'bean', 'foo']",
          "['converter', 'person', 'init', 'task', 'status', 'multi', 'error', 'info', 'latch', 'value']",
          "['url', 'ext', 'atomic', 'integer', 'echo', 'wrap', 'status', 'executor', 'count', 'adaptive']",
          "['inner', 'age', 'map', 'child', 'util', 'parent', 'url', 'hash', 'email', 'result']",
          "['simple', 'value', 'ext', 'age', 'url', 'one', 'serializable', 'obj', 'person', 'hash']",
          "['provider', 'foo', 'service', 'framework', 'app', 'module', 'player', 'bitrate', 'url', 'copyright']",
          "['consumer', 'service', 'argument', 'application', 'provider', 'registry', 'protocol', 'extension', 'invoker', 'rpc']",
          "['url', 'invoker', 'invocation', 'router', 'cache', 'rpc', 'legacy', 'route', 'invokers', 'factory']",
          "['key', 'attachment', 'invoker', 'value', 'service', 'map', 'invocation', 'invoke', 'model', 'put']",
          "['inner', 'input', 'map', 'array', 'registry', 'application', 'output', 'stream', 'serialization', 'protocol']",
          "['read', 'write', 'input', 'output', 'extension', 'stream', 'argument', 'custom', 'find', 'byte']",
          "['person', 'complex', 'age', 'service', 'demo', 'method', 'impl', 'size', 'enumlength', 'uid']",
          "['context', 'argument', 'rpc', 'registry', 'provider', 'extension', 'application', 'service', 'module', 'protocol']",
          "['service', 'echo', 'demo', 'read', 'input', 'find', 'extension', 'cls', 'reader', 'stream']",
          "['invoker', 'key', 'attachment', 'service', 'map', 'invoke', 'value', 'attribute', 'parameter', 'cache']",
          "['box', 'service', 'demo', 'user', 'say', 'impl', 'prefix', 'status', 'checker', 'context']",
          "['invoker', 'mock', 'url', 'rpc', 'protocol', 'executor', 'proxy', 'port', 'dao', 'balance']",
          "['invocation', 'model', 'invoker', 'error', 'thread', 'response', 'application', 'bootstrap', 'module', 'filter']",
          "['url', 'listener', 'map', 'method', 'service', 'notify', 'registry', 'concurrent', 'key', 'register']",
          "['registry', 'service', 'center', 'export', 'listener', 'single', 'provider', 'exporter', 'multiple', 'protocol']",
          "['service', 'hello', 'demo', 'bean', 'application', 'context', 'reference', 'builder', 'impl', 'generic']",
          "['factory', 'loader', 'reference', 'service', 'bean', 'request', 'processor', 'property', 'find', 'multi']",
          "['consumer', 'bootstrap', 'service', 'module', 'spring', 'channel', 'manager', 'model', 'boot', 'zookeeper']",
          "['namespace', 'map', 'context', 'mock', 'property', 'service', 'extension', 'callback', 'key', 'apollo']",
          "['key', 'value', 'latch', 'count', 'map', 'listener', 'nacos', 'dynamic', 'session', 'event']",
          "['zookeeper', 'listener', 'map', 'url', 'count', 'dynamic', 'latch', 'mock', 'server', 'value']",
          "['map', 'namespace', 'property', 'service', 'extension', 'mock', 'context', 'locator', 'key', 'error']",
          "['server', 'status', 'timeout', 'retry', 'group', 'nacos', 'namespace', 'map', 'mock', 'property']",
          "['apollo', 'key', 'put', 'value', 'embed', 'dynamic', 'url', 'mock', 'namespace', 'event']",
          "['group', 'nacos', 'listener', 'publish', 'cas', 'content', 'remove', 'timeout', 'service', 'shut']",
          "['spring', 'container']",
          "['spring', 'container']",
          "['container', 'spring']",
          "['spring', 'container']",
          "['container', 'spring']",
          "['spring', 'container']",
          "['cache', 'factory', 'invoker', 'mock', 'filter', 'invocation', 'method', 'construct', 'rpc', 'non']",
          "['cache', 'expire', 'factory', 'url', 'construct', 'validator', 'validation', 'parameter', 'target', 'mock']",
          "['validation', 'mock', 'filter', 'validator', 'rpc', 'invocation', 'invoker', 'cache', 'factory', 'parameter']",
          "['parameter', 'validation', 'validator', 'target', 'mock', 'filter', 'rpc', 'invoker', 'invocation', 'cache']",
          "['service', 'kubernetes', 'server', 'mock', 'discovery', 'change', 'listener', 'instance', 'client', 'url']",
          "['service', 'kubernetes', 'mock', 'discovery', 'server', 'url', 'selector', 'pod', 'change', 'namespaced']",
          "['service', 'server', 'kubernetes', 'mock', 'discovery', 'map', 'selector', 'pod', 'change', 'namespaced']",
          "['service', 'mock', 'discovery', 'server', 'kubernetes', 'map', 'pod', 'namespaced', 'change', 'destroy']",
          "['service', 'server', 'kubernetes', 'discovery', 'mock', 'url', 'client', 'namespaced', 'instance', 'listener']",
          "['service', 'server', 'mock', 'kubernetes', 'listener', 'map', 'pod', 'namespaced', 'change', 'destroy']",
          "['service', 'discovery', 'server', 'kubernetes', 'listener', 'pod', 'map', 'selector', 'change', 'namespaced']",
          "['redis', 'metadata', 'report', 'store', 'info', 'find', 'interceptor', 'group', 'identifi', 'consumer']",
          "['service', 'url', 'listener', 'mapping', 'mock', 'nacos', 'group', 'application', 'map', 'model']",
          "['integer', 'big', 'compiler', 'str', 'java', 'directory', 'source', 'decimal', 'processor', 'time']",
          "['element', 'field', 'variable', 'class', 'compile', 'builder', 'annotation', 'add', 'model', 'definition']",
          "['param', 'user', 'model', 'service', 'rest', 'request', 'map', 'body', 'header', 'form']",
          "['method', 'annotation', 'invocation', 'processor', 'processing', 'context', 'source', 'round', 'environment', 'process']",
          "['metadata', 'identifier', 'report', 'service', 'url', 'subscriber', 'consumer', 'store', 'listener', 'map']",
          "['class', 'builder', 'compile', 'definition', 'type', 'add', 'annotation', 'processing', 'server', 'status']",
          "['builder', 'google', 'phone', 'number', 'map', 'field', 'request', 'parse', 'byte', 'response']",
          "['observation', 'filter', 'tracer', 'url', 'invocation', 'runner', 'consumer', 'sample', 'destroy', 'receiver']",
          "['window', 'time', 'quantile', 'counter', 'metric', 'category', 'unit', 'description', 'map', 'sample']",
          "['key', 'attachment', 'value', 'service', 'model', 'map', 'absent', 'invocation', 'invoker', 'mock']",
          "['metric', 'model', 'application', 'event', 'invocation', 'method', 'collector', 'setup', 'group', 'rpc']",
          "['metric', 'category', 'tag', 'setup', 'map', 'supplier', 'unit', 'description', 'sample', 'gauge']",
          "['request', 'init', 'param', 'teardown', 'event', 'metric', 'time', 'invocation', 'model', 'setup']",
          "['reporter', 'prometheus', 'metric', 'factory', 'attachment', 'key', 'service', 'value', 'model', 'framework']",
          "['factory', 'monitor', 'proxy', 'statistic', 'service', 'url', 'demo', 'invoker', 'response', 'invoke']",
          "['response', 'app', 'builder', 'attachment', 'result', 'map', 'throwable', 'create', 'build', 'invoker']",
          "['url', 'monitor', 'service', 'invoker', 'factory', 'invocation', 'statistics', 'available', 'destroy', 'collect']",
          "['invoker', 'service', 'demo', 'url', 'metric', 'invoke', 'function', 'consumer', 'port', 'response']",
          "['framework', 'model', 'register', 'provider', 'repository', 'module', 'state', 'url', 'user', 'custom']",
          "['command', 'context', 'mock', 'attribute', 'map', 'channel', 'telnet', 'invoker', 'method', 'service']",
          "['url', 'model', 'framework', 'util', 'reset', 'exporter', 'export', 'refer', 'instance', 'metadata']",
          "['channel', 'promise', 'future', 'address', 'listener', 'socket', 'remote', 'throwable', 'cause', 'timeout']",
          "['handler', 'telnet', 'mock', 'invoker', 'protocol', 'url', 'channel', 'wrapper', 'tri', 'change']",
          "['channel', 'url', 'remote', 'handler', 'attribute', 'mock', 'send', 'address', 'key', 'close']",
          "['person', 'map', 'serialize', 'non', 'service', 'value', 'demo', 'liveness', 'probe', 'integer']",
          "['age', 'qos', 'process', 'handler', 'uid', 'serializable', 'man', 'wire', 'protocol', 'util']",
          "['service', 'demo', 'repository', 'framework', 'model', 'module', 'invoke', 'parameter', 'generic', 'impl']",
          "['registry', 'protocol', 'url', 'integer', 'refer', 'atomic', 'invoker', 'listener', 'counter', 'exporter']",
          "['url', 'registry', 'factory', 'zookeeper', 'listener', 'service', 'notify', 'subscribe', 'mock', 'register']",
          "['notification', 'multiple', 'instance', 'metadata', 'service', 'revision', 'subscribe', 'listener', 'failure', 'invocation']",
          "['migration', 'rule', 'event', 'curator', 'framework', 'handler', 'invoker', 'url', 'path', 'key']",
          "['nacos', 'instance', 'service', 'group', 'subscribe', 'healthy', 'listener', 'select', 'server', 'msg']",
          "['service', 'discovery', 'instance', 'url', 'mock', 'listener', 'registry', 'event', 'change', 'mapping']",
          "['metadata', 'report', 'builder', 'service', 'url', 'mapping', 'invocation', 'application', 'map', 'model']",
          "['instance', 'service', 'param', 'metadata', 'nacos', 'exclude', 'create', 'naming', 'group', 'include']",
          "['url', 'timer', 'mock', 'task', 'channel', 'close', 'header', 'serialization', 'magic', 'reconnect']",
          "['channel', 'decode', 'output', 'input', 'encode', 'buffer', 'request', 'stream', 'codec', 'message']",
          "['channel', 'exchange', 'remote', 'server', 'handler', 'message', 'world', 'client', 'reply', 'port']",
          "['path', 'service', 'update', 'create', 'tolerant', 'zookeeper', 'fault', 'client', 'provider', 'persistent']",
          "['channel', 'client', 'remote', 'zookeeper', 'server', 'url', 'handler', 'connection', 'transporter', 'latch']",
          "['performance', 'aware', 'error', 'telnet', 'client', 'handler', 'result', 'mock', 'serializable', 'fix']",
          "['channel', 'buffer', 'handler', 'url', 'remote', 'send', 'close', 'address', 'attribute', 'key']",
          "['http', 'response', 'request', 'servlet', 'hello', 'serializable', 'uid', 'parameter', 'desc', 'type']",
          "['extension', 'loader', 'proxy', 'protocol', 'age', 'find', 'factory', 'adaptive', 'path', 'block']",
          "['service', 'demo', 'callback', 'hello', 'url', 'msg', 'yyy', 'impl', 'stub', 'say']",
          "['invocation', 'filter', 'rpc', 'url', 'invoker', 'attachment', 'context', 'tps', 'limiter', 'latch']",
          "['channel', 'remote', 'address', 'url', 'attribute', 'close', 'response', 'health', 'key', 'mock']",
          "['service', 'invoker', 'demo', 'reference', 'url', 'method', 'request', 'loader', 'result', 'argument']",
          "['channel', 'handler', 'integer', 'atomic', 'filter', 'telnet', 'msg', 'future', 'limit', 'completable']",
          "['service', 'demo', 'person', 'key', 'str', 'attachment', 'value', 'echo', 'map', 'size']",
          "['throwable', 'stream', 'observer', 'mock', 'latch', 'count', 'complete', 'next', 'error', 'message']",
          "['binder', 'environment', 'destroy', 'configurable', 'init', 'bean', 'relaxed', 'application', 'suite', 'endpoint']",
          "['application', 'map', 'module', 'registry', 'monitor', 'protocol', 'consumer', 'hash', 'link', 'provider']",
          "['annotation', 'service', 'context', 'processor', 'application', 'auto', 'bean', 'compatible', 'provider', 'without']",
          "['endpoint', 'metadata', 'service', 'rest', 'template', 'configs', 'shutdown', 'reference', 'property', 'demo']",
          "['application', 'environment', 'spring', 'processor', 'property', 'init', 'destroy', 'binder', 'instance', 'relaxed']",
          "['binder', 'environment', 'configurable', 'bean', 'suite', 'relaxed', 'destroy', 'init', 'metadata', 'template']",
          "['matcher', 'map', 'rule', 'route', 'observe', 'bootstrapper', 'path', 'change', 'resource', 'create']",
          "['bootstrapper', 'reader', 'create', 'raw', 'read', 'path', 'matcher', 'map', 'observe', 'rule']",
          "['map', 'listener', 'lds', 'request', 'discovery', 'consumer', 'resource', 'observe', 'build', 'name']",
          "['route', 'rd', 'rds', 'map', 'observe', 'resource', 'protocol', 'result', 'consumer', 'ad']",
          "['endpoint', 'change', 'point', 'end', 'cluster', 'eds', 'subscribe', 'rd', 'notify', 'unsubscribe']",
          "['matcher', 'route', 'map', 'rule', 'endpoint', 'change', 'regex', 'bootstrapper', 'path', 'rds']",
          "['endpoint', 'cluster', 'end', 'change', 'point', 'eds', 'manager', 'rule', 'unsubscribe', 'notify']",
          "['rule', 'route', 'app', 'xds', 'manager', 'change', 'listener', 'rds', 'parse', 'invoker']",
          "['map', 'resource', 'observe', 'matcher', 'result', 'consumer', 'protocol', 'node', 'ad', 'mock']"
         ],
         "type": "scatter",
         "x": [
          1.7109568119049072,
          6.124825477600098,
          -28.854570388793945,
          14.355905532836914,
          -1.5713731050491333,
          23.229764938354492,
          -23.28790855407715,
          -18.396160125732422,
          -0.08785499632358551,
          -12.841302871704102,
          5.04573917388916,
          -19.94249153137207,
          -35.802101135253906,
          -34.858741760253906,
          2.597017765045166,
          6.758627414703369,
          8.424613952636719,
          -25.006982803344727,
          -1.6587496995925903,
          -10.73537826538086,
          -32.035892486572266,
          5.187414646148682,
          -11.919881820678711,
          -26.93741226196289,
          -1.9215397834777832,
          5.748714447021484,
          3.8121519088745117,
          8.89895248413086,
          9.40574836730957,
          -5.8956427574157715,
          -10.157824516296387,
          5.734668254852295,
          -5.262732028961182,
          14.691717147827148,
          4.112983703613281,
          -3.8148889541625977,
          22.891834259033203,
          -7.511701583862305,
          18.370880126953125,
          -3.672018051147461,
          -3.0653164386749268,
          -7.257416248321533,
          -5.52867317199707,
          -7.257416248321533,
          -5.52867317199707,
          23.680978775024414,
          29.003604888916016,
          26.08414649963379,
          25.9244441986084,
          35.31570816040039,
          37.39898681640625,
          39.36570739746094,
          41.72488784790039,
          36.9798698425293,
          41.0977897644043,
          39.91179275512695,
          16.991031646728516,
          23.312000274658203,
          -24.317480087280273,
          -26.23269271850586,
          -30.858022689819336,
          -4.1028571128845215,
          17.91529083251953,
          -25.73833465576172,
          -20.764263153076172,
          10.577215194702148,
          20.484622955322266,
          -23.966182708740234,
          23.19154167175293,
          21.75739097595215,
          22.569425582885742,
          -21.65253448486328,
          6.390205383300781,
          -27.897708892822266,
          7.698134899139404,
          7.664380073547363,
          16.161239624023438,
          -21.36029815673828,
          -13.359393119812012,
          -8.226353645324707,
          -20.606277465820312,
          -14.552969932556152,
          -34.94293975830078,
          -30.018993377685547,
          -4.69268274307251,
          11.11262321472168,
          8.914036750793457,
          15.622963905334473,
          25.536884307861328,
          17.049091339111328,
          33.17274856567383,
          22.344341278076172,
          19.841629028320312,
          -17.90870475769043,
          -3.928978681564331,
          -3.216064691543579,
          3.2257027626037598,
          2.7866053581237793,
          -19.927406311035156,
          -12.55118465423584,
          -31.30425262451172,
          9.324369430541992,
          0.2858273684978485,
          8.111499786376953,
          -16.078258514404297,
          4.88175630569458,
          -7.772446155548096,
          -26.196945190429688,
          4.463693618774414,
          -9.770413398742676,
          3.3169498443603516,
          -6.3948493003845215,
          -11.8169584274292,
          -8.70113468170166,
          -8.01400375366211,
          -2.878653049468994,
          -4.212381839752197,
          -10.308810234069824,
          -8.848397254943848,
          1.0997605323791504,
          -0.6598763465881348,
          -0.3530789911746979,
          3.7581870555877686,
          -7.255593776702881
         ],
         "y": [
          -15.378273963928223,
          -14.730084419250488,
          10.514243125915527,
          -8.14999008178711,
          -14.390595436096191,
          14.635132789611816,
          1.6935276985168457,
          -15.893372535705566,
          -21.638282775878906,
          -47.29607009887695,
          36.802337646484375,
          -16.461626052856445,
          2.1192641258239746,
          0.33997178077697754,
          2.4751014709472656,
          3.942857503890991,
          -6.367735862731934,
          13.163296699523926,
          7.274416923522949,
          6.124063491821289,
          -3.7478365898132324,
          4.06585168838501,
          5.129874229431152,
          11.711821556091309,
          -26.227352142333984,
          -13.19947338104248,
          20.759340286254883,
          14.790377616882324,
          7.261731147766113,
          -36.067657470703125,
          -44.18498611450195,
          21.790063858032227,
          47.71419906616211,
          31.738550186157227,
          31.058494567871094,
          48.470401763916016,
          26.36961555480957,
          46.483768463134766,
          29.840017318725586,
          -66.36378479003906,
          -68.73656463623047,
          -64.08680725097656,
          -68.21475982666016,
          -64.08680725097656,
          -68.21475982666016,
          -5.824792385101318,
          -7.802940845489502,
          -6.371394157409668,
          -7.952765464782715,
          31.310823440551758,
          36.49406433105469,
          36.866695404052734,
          35.07160568237305,
          32.28950881958008,
          33.374671936035156,
          38.891117095947266,
          19.353252410888672,
          24.56848907470703,
          -19.269054412841797,
          -25.18914222717285,
          -9.083173751831055,
          -46.739498138427734,
          17.642959594726562,
          -23.723188400268555,
          1.3589378595352173,
          -23.92722511291504,
          -36.88098907470703,
          14.680425643920898,
          -25.342369079589844,
          -36.064449310302734,
          -26.74280548095703,
          12.132164001464844,
          -25.351118087768555,
          15.685290336608887,
          -23.300992965698242,
          -26.584884643554688,
          -8.481809616088867,
          19.821683883666992,
          -32.92635726928711,
          30.460983276367188,
          21.743886947631836,
          32.8506965637207,
          -4.051313877105713,
          -2.496750593185425,
          -34.86870193481445,
          7.009544849395752,
          16.503684997558594,
          15.185126304626465,
          18.62201690673828,
          31.538835525512695,
          29.631698608398438,
          18.17287826538086,
          32.865203857421875,
          34.048397064208984,
          7.640368461608887,
          30.710893630981445,
          26.409019470214844,
          29.378511428833008,
          24.132640838623047,
          32.62793731689453,
          -6.5764241218566895,
          -2.6702826023101807,
          -23.880064010620117,
          -8.270956039428711,
          31.85038185119629,
          -28.274728775024414,
          28.704715728759766,
          2.8942201137542725,
          34.26577377319336,
          -49.815582275390625,
          6.741150379180908,
          -44.97562789916992,
          -33.75536346435547,
          -47.445220947265625,
          -50.071075439453125,
          -5.017467498779297,
          -3.949012041091919,
          -6.976688385009766,
          -9.323237419128418,
          14.684656143188477,
          -5.092233180999756,
          15.061149597167969,
          -5.396816253662109,
          -8.854446411132812
         ]
        },
        {
         "mode": "markers",
         "name": "doc",
         "opacity": 0.7,
         "showlegend": true,
         "text": [
          "['service', 'see', 'issue', 'sample', 'project', 'github', 'contribute', 'list', 'build', 'guide']",
          "['contribute', 'issue', 'sample', 'project', 'service', 'see', 'admin', 'build', 'list', 'report']",
          "['issue', 'service', 'project', 'list', 'see', 'github', 'report', 'sample', 'contribute', 'follow']",
          "['service', 'see', 'project', 'build', 'github', 'sample', 'issue', 'admin', 'follow', 'list']",
          "['see', 'issue', 'sample', 'service', 'contribute', 'guide', 'github', 'project', 'list', 'report']",
          "['service', 'sample', 'see', 'issue', 'please', 'project', 'github', 'contribute', 'report', 'list']",
          "['service', 'issue', 'contribute', 'see', 'github', 'project', 'report', 'sample', 'build', 'guide']",
          "['service', 'see', 'issue', 'contribute', 'sample', 'github', 'project', 'guide', 'admin', 'build']"
         ],
         "type": "scatter",
         "x": [
          -11.074934005737305,
          92.80699920654297,
          -74.3889389038086,
          65.0465316772461,
          -33.15898132324219,
          -80.302978515625,
          -24.1015567779541,
          36.325408935546875
         ],
         "y": [
          -23.3668212890625,
          -63.28900909423828,
          54.14547348022461,
          12.948724746704102,
          21.21810531616211,
          -11.667019844055176,
          -77.44820404052734,
          -45.104270935058594
         ]
        }
       ],
       "layout": {
        "height": 650,
        "template": {
         "data": {
          "bar": [
           {
            "error_x": {
             "color": "#2a3f5f"
            },
            "error_y": {
             "color": "#2a3f5f"
            },
            "marker": {
             "line": {
              "color": "#E5ECF6",
              "width": 0.5
             },
             "pattern": {
              "fillmode": "overlay",
              "size": 10,
              "solidity": 0.2
             }
            },
            "type": "bar"
           }
          ],
          "barpolar": [
           {
            "marker": {
             "line": {
              "color": "#E5ECF6",
              "width": 0.5
             },
             "pattern": {
              "fillmode": "overlay",
              "size": 10,
              "solidity": 0.2
             }
            },
            "type": "barpolar"
           }
          ],
          "carpet": [
           {
            "aaxis": {
             "endlinecolor": "#2a3f5f",
             "gridcolor": "white",
             "linecolor": "white",
             "minorgridcolor": "white",
             "startlinecolor": "#2a3f5f"
            },
            "baxis": {
             "endlinecolor": "#2a3f5f",
             "gridcolor": "white",
             "linecolor": "white",
             "minorgridcolor": "white",
             "startlinecolor": "#2a3f5f"
            },
            "type": "carpet"
           }
          ],
          "choropleth": [
           {
            "colorbar": {
             "outlinewidth": 0,
             "ticks": ""
            },
            "type": "choropleth"
           }
          ],
          "contour": [
           {
            "colorbar": {
             "outlinewidth": 0,
             "ticks": ""
            },
            "colorscale": [
             [
              0,
              "#0d0887"
             ],
             [
              0.1111111111111111,
              "#46039f"
             ],
             [
              0.2222222222222222,
              "#7201a8"
             ],
             [
              0.3333333333333333,
              "#9c179e"
             ],
             [
              0.4444444444444444,
              "#bd3786"
             ],
             [
              0.5555555555555556,
              "#d8576b"
             ],
             [
              0.6666666666666666,
              "#ed7953"
             ],
             [
              0.7777777777777778,
              "#fb9f3a"
             ],
             [
              0.8888888888888888,
              "#fdca26"
             ],
             [
              1,
              "#f0f921"
             ]
            ],
            "type": "contour"
           }
          ],
          "contourcarpet": [
           {
            "colorbar": {
             "outlinewidth": 0,
             "ticks": ""
            },
            "type": "contourcarpet"
           }
          ],
          "heatmap": [
           {
            "colorbar": {
             "outlinewidth": 0,
             "ticks": ""
            },
            "colorscale": [
             [
              0,
              "#0d0887"
             ],
             [
              0.1111111111111111,
              "#46039f"
             ],
             [
              0.2222222222222222,
              "#7201a8"
             ],
             [
              0.3333333333333333,
              "#9c179e"
             ],
             [
              0.4444444444444444,
              "#bd3786"
             ],
             [
              0.5555555555555556,
              "#d8576b"
             ],
             [
              0.6666666666666666,
              "#ed7953"
             ],
             [
              0.7777777777777778,
              "#fb9f3a"
             ],
             [
              0.8888888888888888,
              "#fdca26"
             ],
             [
              1,
              "#f0f921"
             ]
            ],
            "type": "heatmap"
           }
          ],
          "heatmapgl": [
           {
            "colorbar": {
             "outlinewidth": 0,
             "ticks": ""
            },
            "colorscale": [
             [
              0,
              "#0d0887"
             ],
             [
              0.1111111111111111,
              "#46039f"
             ],
             [
              0.2222222222222222,
              "#7201a8"
             ],
             [
              0.3333333333333333,
              "#9c179e"
             ],
             [
              0.4444444444444444,
              "#bd3786"
             ],
             [
              0.5555555555555556,
              "#d8576b"
             ],
             [
              0.6666666666666666,
              "#ed7953"
             ],
             [
              0.7777777777777778,
              "#fb9f3a"
             ],
             [
              0.8888888888888888,
              "#fdca26"
             ],
             [
              1,
              "#f0f921"
             ]
            ],
            "type": "heatmapgl"
           }
          ],
          "histogram": [
           {
            "marker": {
             "pattern": {
              "fillmode": "overlay",
              "size": 10,
              "solidity": 0.2
             }
            },
            "type": "histogram"
           }
          ],
          "histogram2d": [
           {
            "colorbar": {
             "outlinewidth": 0,
             "ticks": ""
            },
            "colorscale": [
             [
              0,
              "#0d0887"
             ],
             [
              0.1111111111111111,
              "#46039f"
             ],
             [
              0.2222222222222222,
              "#7201a8"
             ],
             [
              0.3333333333333333,
              "#9c179e"
             ],
             [
              0.4444444444444444,
              "#bd3786"
             ],
             [
              0.5555555555555556,
              "#d8576b"
             ],
             [
              0.6666666666666666,
              "#ed7953"
             ],
             [
              0.7777777777777778,
              "#fb9f3a"
             ],
             [
              0.8888888888888888,
              "#fdca26"
             ],
             [
              1,
              "#f0f921"
             ]
            ],
            "type": "histogram2d"
           }
          ],
          "histogram2dcontour": [
           {
            "colorbar": {
             "outlinewidth": 0,
             "ticks": ""
            },
            "colorscale": [
             [
              0,
              "#0d0887"
             ],
             [
              0.1111111111111111,
              "#46039f"
             ],
             [
              0.2222222222222222,
              "#7201a8"
             ],
             [
              0.3333333333333333,
              "#9c179e"
             ],
             [
              0.4444444444444444,
              "#bd3786"
             ],
             [
              0.5555555555555556,
              "#d8576b"
             ],
             [
              0.6666666666666666,
              "#ed7953"
             ],
             [
              0.7777777777777778,
              "#fb9f3a"
             ],
             [
              0.8888888888888888,
              "#fdca26"
             ],
             [
              1,
              "#f0f921"
             ]
            ],
            "type": "histogram2dcontour"
           }
          ],
          "mesh3d": [
           {
            "colorbar": {
             "outlinewidth": 0,
             "ticks": ""
            },
            "type": "mesh3d"
           }
          ],
          "parcoords": [
           {
            "line": {
             "colorbar": {
              "outlinewidth": 0,
              "ticks": ""
             }
            },
            "type": "parcoords"
           }
          ],
          "pie": [
           {
            "automargin": true,
            "type": "pie"
           }
          ],
          "scatter": [
           {
            "fillpattern": {
             "fillmode": "overlay",
             "size": 10,
             "solidity": 0.2
            },
            "type": "scatter"
           }
          ],
          "scatter3d": [
           {
            "line": {
             "colorbar": {
              "outlinewidth": 0,
              "ticks": ""
             }
            },
            "marker": {
             "colorbar": {
              "outlinewidth": 0,
              "ticks": ""
             }
            },
            "type": "scatter3d"
           }
          ],
          "scattercarpet": [
           {
            "marker": {
             "colorbar": {
              "outlinewidth": 0,
              "ticks": ""
             }
            },
            "type": "scattercarpet"
           }
          ],
          "scattergeo": [
           {
            "marker": {
             "colorbar": {
              "outlinewidth": 0,
              "ticks": ""
             }
            },
            "type": "scattergeo"
           }
          ],
          "scattergl": [
           {
            "marker": {
             "colorbar": {
              "outlinewidth": 0,
              "ticks": ""
             }
            },
            "type": "scattergl"
           }
          ],
          "scattermapbox": [
           {
            "marker": {
             "colorbar": {
              "outlinewidth": 0,
              "ticks": ""
             }
            },
            "type": "scattermapbox"
           }
          ],
          "scatterpolar": [
           {
            "marker": {
             "colorbar": {
              "outlinewidth": 0,
              "ticks": ""
             }
            },
            "type": "scatterpolar"
           }
          ],
          "scatterpolargl": [
           {
            "marker": {
             "colorbar": {
              "outlinewidth": 0,
              "ticks": ""
             }
            },
            "type": "scatterpolargl"
           }
          ],
          "scatterternary": [
           {
            "marker": {
             "colorbar": {
              "outlinewidth": 0,
              "ticks": ""
             }
            },
            "type": "scatterternary"
           }
          ],
          "surface": [
           {
            "colorbar": {
             "outlinewidth": 0,
             "ticks": ""
            },
            "colorscale": [
             [
              0,
              "#0d0887"
             ],
             [
              0.1111111111111111,
              "#46039f"
             ],
             [
              0.2222222222222222,
              "#7201a8"
             ],
             [
              0.3333333333333333,
              "#9c179e"
             ],
             [
              0.4444444444444444,
              "#bd3786"
             ],
             [
              0.5555555555555556,
              "#d8576b"
             ],
             [
              0.6666666666666666,
              "#ed7953"
             ],
             [
              0.7777777777777778,
              "#fb9f3a"
             ],
             [
              0.8888888888888888,
              "#fdca26"
             ],
             [
              1,
              "#f0f921"
             ]
            ],
            "type": "surface"
           }
          ],
          "table": [
           {
            "cells": {
             "fill": {
              "color": "#EBF0F8"
             },
             "line": {
              "color": "white"
             }
            },
            "header": {
             "fill": {
              "color": "#C8D4E3"
             },
             "line": {
              "color": "white"
             }
            },
            "type": "table"
           }
          ]
         },
         "layout": {
          "annotationdefaults": {
           "arrowcolor": "#2a3f5f",
           "arrowhead": 0,
           "arrowwidth": 1
          },
          "autotypenumbers": "strict",
          "coloraxis": {
           "colorbar": {
            "outlinewidth": 0,
            "ticks": ""
           }
          },
          "colorscale": {
           "diverging": [
            [
             0,
             "#8e0152"
            ],
            [
             0.1,
             "#c51b7d"
            ],
            [
             0.2,
             "#de77ae"
            ],
            [
             0.3,
             "#f1b6da"
            ],
            [
             0.4,
             "#fde0ef"
            ],
            [
             0.5,
             "#f7f7f7"
            ],
            [
             0.6,
             "#e6f5d0"
            ],
            [
             0.7,
             "#b8e186"
            ],
            [
             0.8,
             "#7fbc41"
            ],
            [
             0.9,
             "#4d9221"
            ],
            [
             1,
             "#276419"
            ]
           ],
           "sequential": [
            [
             0,
             "#0d0887"
            ],
            [
             0.1111111111111111,
             "#46039f"
            ],
            [
             0.2222222222222222,
             "#7201a8"
            ],
            [
             0.3333333333333333,
             "#9c179e"
            ],
            [
             0.4444444444444444,
             "#bd3786"
            ],
            [
             0.5555555555555556,
             "#d8576b"
            ],
            [
             0.6666666666666666,
             "#ed7953"
            ],
            [
             0.7777777777777778,
             "#fb9f3a"
            ],
            [
             0.8888888888888888,
             "#fdca26"
            ],
            [
             1,
             "#f0f921"
            ]
           ],
           "sequentialminus": [
            [
             0,
             "#0d0887"
            ],
            [
             0.1111111111111111,
             "#46039f"
            ],
            [
             0.2222222222222222,
             "#7201a8"
            ],
            [
             0.3333333333333333,
             "#9c179e"
            ],
            [
             0.4444444444444444,
             "#bd3786"
            ],
            [
             0.5555555555555556,
             "#d8576b"
            ],
            [
             0.6666666666666666,
             "#ed7953"
            ],
            [
             0.7777777777777778,
             "#fb9f3a"
            ],
            [
             0.8888888888888888,
             "#fdca26"
            ],
            [
             1,
             "#f0f921"
            ]
           ]
          },
          "colorway": [
           "#636efa",
           "#EF553B",
           "#00cc96",
           "#ab63fa",
           "#FFA15A",
           "#19d3f3",
           "#FF6692",
           "#B6E880",
           "#FF97FF",
           "#FECB52"
          ],
          "font": {
           "color": "#2a3f5f"
          },
          "geo": {
           "bgcolor": "white",
           "lakecolor": "white",
           "landcolor": "#E5ECF6",
           "showlakes": true,
           "showland": true,
           "subunitcolor": "white"
          },
          "hoverlabel": {
           "align": "left"
          },
          "hovermode": "closest",
          "mapbox": {
           "style": "light"
          },
          "paper_bgcolor": "white",
          "plot_bgcolor": "#E5ECF6",
          "polar": {
           "angularaxis": {
            "gridcolor": "white",
            "linecolor": "white",
            "ticks": ""
           },
           "bgcolor": "#E5ECF6",
           "radialaxis": {
            "gridcolor": "white",
            "linecolor": "white",
            "ticks": ""
           }
          },
          "scene": {
           "xaxis": {
            "backgroundcolor": "#E5ECF6",
            "gridcolor": "white",
            "gridwidth": 2,
            "linecolor": "white",
            "showbackground": true,
            "ticks": "",
            "zerolinecolor": "white"
           },
           "yaxis": {
            "backgroundcolor": "#E5ECF6",
            "gridcolor": "white",
            "gridwidth": 2,
            "linecolor": "white",
            "showbackground": true,
            "ticks": "",
            "zerolinecolor": "white"
           },
           "zaxis": {
            "backgroundcolor": "#E5ECF6",
            "gridcolor": "white",
            "gridwidth": 2,
            "linecolor": "white",
            "showbackground": true,
            "ticks": "",
            "zerolinecolor": "white"
           }
          },
          "shapedefaults": {
           "line": {
            "color": "#2a3f5f"
           }
          },
          "ternary": {
           "aaxis": {
            "gridcolor": "white",
            "linecolor": "white",
            "ticks": ""
           },
           "baxis": {
            "gridcolor": "white",
            "linecolor": "white",
            "ticks": ""
           },
           "bgcolor": "#E5ECF6",
           "caxis": {
            "gridcolor": "white",
            "linecolor": "white",
            "ticks": ""
           }
          },
          "title": {
           "x": 0.05
          },
          "xaxis": {
           "automargin": true,
           "gridcolor": "white",
           "linecolor": "white",
           "ticks": "",
           "title": {
            "standoff": 15
           },
           "zerolinecolor": "white",
           "zerolinewidth": 2
          },
          "yaxis": {
           "automargin": true,
           "gridcolor": "white",
           "linecolor": "white",
           "ticks": "",
           "title": {
            "standoff": 15
           },
           "zerolinecolor": "white",
           "zerolinewidth": 2
          }
         }
        },
        "width": 650
       }
      }
     },
     "metadata": {},
     "output_type": "display_data"
    }
   ],
   "source": [
    "import plotly.express as px\n",
    "import plotly.graph_objects as go\n",
    "from sklearn.manifold import TSNE\n",
    "import numpy as np\n",
    "\n",
    "tsne_model = TSNE(\n",
    "    n_components = 2,\n",
    "    perplexity = 5,\n",
    "    random_state = 42,\n",
    "    init = \"pca\",\n",
    "    learning_rate = \"auto\",\n",
    "    # metric = \"cosine\"\n",
    ")\n",
    "\n",
    "code_emb_arr = np.array(dubbo_code_df[\"gpt_code_vec\"].to_list())\n",
    "test_emb_arr = np.array(dubbo_test_df[\"gpt_test_vec\"].to_list())\n",
    "doc_emb_arr = np.array(dubbo_doc_df[\"gpt_doc_vec\"].to_list())\n",
    "\n",
    "code_tsne_embeddings = tsne_model.fit_transform(code_emb_arr)\n",
    "test_tsne_embeddings = tsne_model.fit_transform(test_emb_arr)\n",
    "doc_tsne_embeddings = tsne_model.fit_transform(doc_emb_arr)\n",
    "\n",
    "gpt_code_data = pd.DataFrame(\n",
    "    {'x': code_tsne_embeddings[:, 0],\n",
    "     'y': code_tsne_embeddings[:, 1]}\n",
    ")\n",
    "\n",
    "gpt_test_data = pd.DataFrame(\n",
    "    {'x': test_tsne_embeddings[:, 0],\n",
    "     'y': test_tsne_embeddings[:, 1]}\n",
    ")\n",
    "\n",
    "gpt_doc_data = pd.DataFrame(\n",
    "    {'x': doc_tsne_embeddings[:, 0],\n",
    "     'y': doc_tsne_embeddings[:, 1]}\n",
    ")\n",
    "\n",
    "dfs = {\n",
    "    \"code\": gpt_code_data,\n",
    "    \"test\": gpt_test_data,\n",
    "    \"doc\": gpt_doc_data\n",
    "}\n",
    "\n",
    "id_list = [dubbo_code_df['concept'].tolist(),\n",
    "           dubbo_test_df['concept'].tolist(),\n",
    "           dubbo_doc_df['concept'].tolist()]\n",
    "\n",
    "fig = go.Figure()\n",
    "\n",
    "for i, df in enumerate(dfs):\n",
    "    fig = fig.add_trace(\n",
    "        go.Scatter(\n",
    "        x = dfs[df]['x'],\n",
    "        y = dfs[df]['y'],\n",
    "        name = df,\n",
    "        text = id_list[i],\n",
    "        showlegend = True,\n",
    "        mode = 'markers',\n",
    "        opacity = 0.7)\n",
    "    )\n",
    "\n",
    "fig.update_layout(\n",
    "    width = 650,\n",
    "    height = 650\n",
    ")\n",
    "\n",
    "fig.show()"
   ]
  },
  {
   "cell_type": "code",
   "execution_count": 97,
   "metadata": {},
   "outputs": [
    {
     "data": {
      "application/vnd.plotly.v1+json": {
       "config": {
        "plotlyServerURL": "https://plot.ly"
       },
       "data": [
        {
         "mode": "markers",
         "name": "code",
         "opacity": 0.7,
         "showlegend": true,
         "text": [
          "['merger', 'model', 'scope', 'aware', 'end', 'error', 'mergeable', 'map', 'match', 'concurrent']",
          "['match', 'value', 'bool', 'exact', 'weight', 'result', 'destination', 'traffic', 'policy', 'subset']",
          "['rule', 'mesh', 'listener', 'app', 'merger', 'map', 'merge', 'item', 'array', 'error']",
          "['rule', 'key', 'invoker', 'node', 'router', 'destination', 'service', 'map', 'virtual', 'output']",
          "['url', 'invoker', 'invocation', 'configurator', 'load', 'balance', 'spec', 'item', 'service', 'select']",
          "['map', 'match', 'invoker', 'destination', 'invocation', 'route', 'group', 'tag', 'context', 'rule']",
          "['router', 'url', 'state', 'invoker', 'bit', 'invocation', 'factory', 'snapshot', 'chain', 'rule']",
          "['bit', 'model', 'address', 'application', 'enable', 'service', 'iterator', 'key', 'hash', 'add']",
          "['invoker', 'cluster', 'invocation', 'directory', 'filter', 'url', 'rpc', 'chain', 'result', 'invoke']",
          "['map', 'extension', 'loader', 'property', 'msg', 'throwable', 'error', 'dynamic', 'aware', 'info']",
          "['model', 'method', 'scope', 'map', 'application', 'desc', 'parameter', 'framework', 'property', 'prefix']",
          "['thread', 'map', 'pool', 'qos', 'message', 'stream', 'listener', 'directory', 'watch', 'generic']",
          "['address', 'level', 'host', 'port', 'status', 'protocol', 'url', 'username', 'disposable', 'adapter']",
          "['integer', 'converter', 'path', 'stream', 'key', 'timeout', 'client', 'server', 'model', 'cert']",
          "['map', 'param', 'builder', 'bean', 'value', 'definition', 'parameter', 'key', 'method', 'url']",
          "['thread', 'registry', 'module', 'map', 'local', 'internal', 'reference', 'metadata', 'runnable', 'integer']",
          "['service', 'url', 'key', 'parameter', 'executor', 'model', 'method', 'value', 'map', 'protocol']",
          "['loader', 'java', 'descriptor', 'str', 'method', 'map', 'pattern', 'array', 'lock', 'value']",
          "['invocation', 'invoker', 'attachment', 'argument', 'method', 'rpc', 'map', 'type', 'key', 'parameter']",
          "['command', 'monitor', 'filter', 'context', 'input', 'configurator', 'servlet', 'merger', 'codec', 'telnet']",
          "['url', 'listener', 'registry', 'notify', 'factory', 'cache', 'register', 'subscribe', 'failback', 'compatible']",
          "['page', 'handler', 'service', 'servlet', 'http', 'request', 'model', 'response', 'writer', 'compatible']",
          "['rpc', 'address', 'context', 'remote', 'channel', 'message', 'local', 'socket', 'inet', 'throwable']",
          "['listener', 'notify', 'navigation', 'page', 'title', 'compatible', 'balance', 'application', 'load', 'url']",
          "['parameter', 'url', 'key', 'value', 'method', 'map', 'protocol', 'add', 'port', 'host']",
          "['future', 'response', 'unit', 'throwable', 'timeout', 'adapter', 'interrupt', 'execution', 'callback', 'completable']",
          "['application', 'model', 'module', 'context', 'event', 'service', 'bootstrap', 'state', 'aware', 'error']",
          "['builder', 'consumer', 'protocol', 'service', 'method', 'registry', 'integer', 'module', 'reference', 'bootstrap']",
          "['bean', 'definition', 'service', 'registry', 'context', 'factory', 'environment', 'init', 'spring', 'annotation']",
          "['builder', 'application', 'integer', 'provider', 'status', 'thread', 'registry', 'port', 'probe', 'qos']",
          "['bean', 'metadata', 'annotation', 'annotate', 'method', 'element', 'field', 'inject', 'service', 'property']",
          "['reference', 'bean', 'map', 'context', 'definition', 'parser', 'key', 'cache', 'element', 'application']",
          "['registry', 'property', 'center', 'value', 'metadata', 'report', 'validate', 'url', 'reference', 'application']",
          "['dynamic', 'factory', 'url', 'zookeeper', 'application', 'model', 'create', 'transporter', 'nacos', 'apollo']",
          "['nacos', 'listener', 'group', 'key', 'service', 'property', 'url', 'timeout', 'map', 'publish']",
          "['listener', 'key', 'path', 'group', 'apollo', 'zookeeper', 'change', 'dynamic', 'remove', 'cache']",
          "['apollo', 'listener', 'key', 'change', 'group', 'url', 'property', 'application', 'aware', 'dynamic']",
          "['nacos', 'service', 'group', 'content', 'listener', 'symbol', 'publish', 'cas', 'timeout', 'innerclass']",
          "['listener', 'key', 'property', 'url', 'nacos', 'group', 'change', 'service', 'timeout', 'apollo']",
          "['container', 'spring', 'error', 'extension', 'aware', 'lock', 'loader', 'classpath', 'context', 'condition']",
          "['container', 'error', 'spring', 'aware', 'loader', 'lock', 'reentrant', 'context', 'extension', 'classpath']",
          "['container', 'loader', 'lock', 'extension', 'aware', 'error', 'key', 'reentrant', 'condition', 'hook']",
          "['extension', 'lock', 'loader', 'condition', 'error', 'aware', 'reentrant', 'key', 'container', 'shutdown']",
          "['spring', 'context', 'aware', 'error', 'container', 'xml', 'application', 'path', 'classpath', 'extension']",
          "['method', 'parameter', 'validator', 'clazz', 'value', 'pool', 'validate', 'error', 'violation', 'aware']",
          "['validator', 'url', 'validation', 'create', 'map', 'concurrent', 'hash', 'lru', 'lfu', 'cache']",
          "['expire', 'time', 'map', 'live', 'interval', 'expiration', 'key', 'thread', 'value', 'access']",
          "['cache', 'url', 'factory', 'value', 'key', 'create', 'store', 'put', 'map', 'local']",
          "['invocation', 'validation', 'invoker', 'filter', 'result', 'rpc', 'invoke', 'uid', 'wrapper', 'present']",
          "['service', 'map', 'instance', 'listener', 'app', 'hash', 'concurrent', 'endpoint', 'kubernetes', 'pod']",
          "['client', 'proxy', 'cert', 'key', 'timeout', 'https', 'watch', 'interval', 'username', 'password']",
          "['url', 'listener', 'registry', 'kubernetes', 'mesh', 'env', 'factory', 'create', 'discovery', 'service']",
          "['service', 'map', 'param', 'key', 'url', 'definition', 'info', 'protocol', 'metadata', 'processing']",
          "['metadata', 'report', 'factory', 'url', 'key', 'map', 'rest', 'storage', 'service', 'create']",
          "['service', 'method', 'rest', 'metadata', 'map', 'application', 'model', 'mapping', 'resolve', 'url']",
          "['annotation', 'parameter', 'value', 'map', 'processor', 'method', 'listener', 'request', 'header', 'mapping']",
          "['method', 'map', 'integer', 'definition', 'builder', 'request', 'body', 'prioritize', 'generate', 'metadata']",
          "['cache', 'manager', 'util', 'store', 'service', 'executor', 'map', 'error', 'aware', 'size']",
          "['element', 'service', 'process', 'environment', 'processing', 'method', 'env', 'rest', 'annotation', 'metadata']",
          "['model', 'processor', 'annotation', 'parameter', 'param', 'element', 'application', 'executable', 'comparator', 'initialize']",
          "['metadata', 'identifier', 'service', 'url', 'key', 'listener', 'subscriber', 'report', 'group', 'store']",
          "['metric', 'map', 'method', 'atomic', 'invocation', 'stat', 'application', 'supplier', 'description', 'handler']",
          "['pool', 'thread', 'registry', 'executor', 'meter', 'application', 'empty', 'metric', 'size', 'destroy']",
          "['invocation', 'metric', 'application', 'invoker', 'model', 'category', 'map', 'observation', 'tag', 'value']",
          "['context', 'key', 'observation', 'convention', 'value', 'client', 'server', 'remote', 'low', 'cardinality']",
          "['concurrent', 'map', 'metric', 'time', 'window', 'hash', 'method', 'event', 'counter', 'request']",
          "['invocation', 'invoker', 'observation', 'model', 'filter', 'application', 'result', 'response', 'convention', 'registry']",
          "['metric', 'invocation', 'event', 'application', 'collector', 'request', 'collect', 'listener', 'execute', 'thread']",
          "['reporter', 'metric', 'application', 'model', 'factory', 'url', 'prometheus', 'create', 'exporter', 'service']",
          "['category', 'metric', 'tag', 'map', 'entity', 'sample', 'service', 'value', 'application', 'model']",
          "['invocation', 'invoker', 'monitor', 'result', 'factory', 'error', 'filter', 'host', 'concurrent', 'remote']",
          "['monitor', 'url', 'service', 'factory', 'statistic', 'protocol', 'proxy', 'invoker', 'method', 'client']",
          "['monitor', 'url', 'factory', 'map', 'executor', 'future', 'lock', 'hash', 'reentrant', 'concurrent']",
          "['monitor', 'service', 'constant', 'factory', 'metric', 'url', 'filter', 'detector', 'invoker', 'builtin']",
          "['metric', 'invocation', 'invoker', 'model', 'extension', 'accessor', 'application', 'result', 'aware', 'service']",
          "['max', 'concurrent', 'output', 'input', 'elapse', 'success', 'failure', 'item', 'statistic', 'invoker']",
          "['service', 'monitor', 'detector', 'metric', 'builtin', 'node', 'application', 'aware', 'model', 'url']",
          "['framework', 'model', 'serialize', 'probe', 'status', 'allow', 'readiness', 'util', 'notify', 'deployer']",
          "['command', 'context', 'http', 'aware', 'error', 'execute', 'node', 'executor', 'request', 'channel']",
          "['key', 'method', 'telnet', 'access', 'channel', 'attribute', 'handler', 'message', 'side', 'provider']",
          "['model', 'application', 'protocol', 'framework', 'qos', 'url', 'invoker', 'help', 'consumer', 'scope']",
          "['handler', 'invoker', 'one', 'many', 'response', 'observer', 'stream', 'method', 'request', 'mono']",
          "['border', 'invocation', 'column', 'define', 'filter', 'model', 'framework', 'url', 'state', 'invoker']",
          "['framework', 'model', 'command', 'context', 'snapshot', 'router', 'execute', 'triple', 'detector', 'reactor']",
          "['permission', 'foreign', 'level', 'accept', 'anonymous', 'access', 'whitelist', 'builder', 'welcome', 'qos']",
          "['url', 'invoker', 'listener', 'registry', 'cluster', 'protocol', 'map', 'service', 'exporter', 'provider']",
          "['timeout', 'url', 'retry', 'registry', 'task', 'cancel', 'failback', 'times', 'error', 'aware']",
          "['url', 'registry', 'listener', 'notify', 'factory', 'task', 'fail', 'map', 'retry', 'concurrent']",
          "['service', 'instance', 'metadata', 'discovery', 'listener', 'change', 'url', 'event', 'info', 'map']",
          "['service', 'key', 'url', 'protocol', 'instance', 'model', 'param', 'address', 'map', 'parameter']",
          "['url', 'listener', 'notify', 'map', 'concurrent', 'service', 'instance', 'registry', 'nacos', 'path']",
          "['migration', 'rule', 'step', 'url', 'model', 'consumer', 'threshold', 'delay', 'map', 'integer']",
          "['url', 'listener', 'service', 'registry', 'nacos', 'map', 'notify', 'model', 'aware', 'error']",
          "['dispatcher', 'map', 'repli', 'channel', 'serialization', 'url', 'executor', 'service', 'response', 'hash']",
          "['buffer', 'channel', 'byte', 'length', 'src', 'dst', 'factory', 'read', 'write', 'output']",
          "['context', 'ssl', 'ctx', 'event', 'operator', 'tls', 'buf', 'request', 'server', 'throwable']",
          "['channel', 'server', 'address', 'close', 'timeout', 'remote', 'send', 'timer', 'exchange', 'inet']",
          "['channel', 'handler', 'url', 'remote', 'address', 'netty', 'server', 'message', 'client', 'connect']",
          "['listener', 'path', 'zookeeper', 'channel', 'create', 'curator', 'client', 'state', 'target', 'child']",
          "['connection', 'request', 'future', 'attribute', 'key', 'client', 'executor', 'manager', 'model', 'append']",
          "['servlet', 'context', 'http', 'handler', 'port', 'instance', 'map', 'manager', 'integer', 'add']",
          "['http', 'model', 'message', 'server', 'url', 'handler', 'framework', 'aware', 'multi', 'error']",
          "['call', 'stream', 'channel', 'method', 'message', 'status', 'header', 'server', 'queue', 'command']",
          "['invoker', 'invocation', 'url', 'proxy', 'channel', 'rpc', 'error', 'protocol', 'result', 'aware']",
          "['future', 'context', 'completable', 'request', 'atomic', 'filter', 'time', 'output', 'response', 'key']",
          "['attachment', 'context', 'map', 'rpc', 'service', 'key', 'value', 'invocation', 'invoker', 'url']",
          "['status', 'handler', 'rpc', 'url', 'timeout', 'channel', 'pack', 'method', 'tri', 'response']",
          "['listener', 'exporter', 'context', 'cancellation', 'executor', 'invoker', 'executable', 'aware', 'consumer', 'error']",
          "['stream', 'client', 'url', 'server', 'protocol', 'remote', 'request', 'handler', 'service', 'channel']",
          "['header', 'executor', 'support', 'model', 'filter', 'application', 'isolation', 'compressor', 'url', 'aware']",
          "['application', 'event', 'environment', 'listener', 'prepare', 'atomic', 'process', 'logo', 'welcome', 'property']",
          "['map', 'property', 'metadata', 'environment', 'bean', 'application', 'protocol', 'registry', 'reference', 'consumer']",
          "['endpoint', 'condition', 'compatible', 'enable', 'context', 'error', 'aware', 'metadata', 'match', 'annotate']",
          "['metric', 'registry', 'meter', 'application', 'event', 'binder', 'start', 'bean', 'auto', 'listener']",
          "['metadata', 'map', 'endpoint', 'configs', 'health', 'indicator', 'name', 'status', 'checker', 'resolve']",
          "['status', 'default', 'extras', 'hash', 'link', 'indicator', 'propertie', 'health', 'load', 'memory']",
          "['application', 'context', 'event', 'bean', 'listener', 'definition', 'web', 'await', 'configurable', 'registry']",
          "['bean', 'service', 'processor', 'annotation', 'auto', 'qualifier', 'package', 'disposable', 'destroy', 'priority']",
          "['resource', 'map', 'service', 'lock', 'result', 'domain', 'listener', 'route', 'consumer', 'delta']",
          "['name', 'route', 'registry', 'url', 'listener', 'factory', 'map', 'result', 'hash', 'create']",
          "['model', 'url', 'range', 'value', 'match', 'listener', 'suffix', 'exact', 'present', 'prefix']",
          "['route', 'listener', 'rule', 'map', 'xds', 'endpoint', 'manager', 'match', 'rds', 'concurrent']",
          "['key', 'istio', 'path', 'secret', 'jwt', 'cluster', 'domain', 'grace', 'trust', 'workload']",
          "['consumer', 'observe', 'map', 'result', 'endpoint', 'protocol', 'domain', 'rd', 'pilot', 'exchanger']",
          "['endpoint', 'cluster', 'server', 'weight', 'info', 'node', 'provider', 'invoker', 'bootstrap', 'resource']",
          "['discovery', 'observer', 'response', 'request', 'ad', 'protocol', 'error', 'url', 'aware', 'delta']",
          "['key', 'cert', 'istio', 'matcher', 'certificate', 'env', 'generate', 'pair', 'path', 'header']"
         ],
         "type": "scatter",
         "x": [
          -14.720003128051758,
          23.83708953857422,
          -15.095303535461426,
          23.542970657348633,
          3.233785629272461,
          23.698745727539062,
          23.27558135986328,
          -5.496130466461182,
          -21.23923683166504,
          41.04138946533203,
          16.180519104003906,
          2.297680139541626,
          -36.923587799072266,
          -27.988805770874023,
          19.09882926940918,
          14.190458297729492,
          -4.976931571960449,
          42.432708740234375,
          -28.234384536743164,
          12.968005180358887,
          -0.5503363609313965,
          3.7481813430786133,
          -29.737916946411133,
          4.075349807739258,
          -34.95457077026367,
          -19.086122512817383,
          27.666685104370117,
          24.663055419921875,
          12.456171035766602,
          22.966636657714844,
          12.769609451293945,
          16.15880012512207,
          9.469311714172363,
          13.624724388122559,
          4.4803786277771,
          9.117801666259766,
          6.191422462463379,
          2.705801010131836,
          5.1452531814575195,
          36.23773956298828,
          36.61711502075195,
          38.683963775634766,
          37.28596496582031,
          34.54764175415039,
          6.9502482414245605,
          4.809557914733887,
          -18.39174461364746,
          4.803025245666504,
          -22.763172149658203,
          2.4013149738311768,
          -28.44485855102539,
          2.7488787174224854,
          -1.3469313383102417,
          5.471662521362305,
          1.064827799797058,
          20.29574203491211,
          20.301816940307617,
          -4.546570301055908,
          3.9985430240631104,
          20.751583099365234,
          3.61849045753479,
          -16.255474090576172,
          -8.791570663452148,
          -16.324047088623047,
          -27.02408218383789,
          -16.957298278808594,
          -16.28380012512207,
          -12.110920906066895,
          16.011289596557617,
          -18.734745025634766,
          -14.065572738647461,
          -9.759578704833984,
          -0.7402662634849548,
          -10.429861068725586,
          -15.019434928894043,
          -15.146520614624023,
          -9.931354522705078,
          21.07543182373047,
          -9.562190055847168,
          -35.70037841796875,
          9.79615306854248,
          -17.79151725769043,
          11.1442232131958,
          22.686452865600586,
          6.851900100708008,
          2.7712960243225098,
          -3.822798013687134,
          -1.012416124343872,
          1.1427685022354126,
          -3.4610073566436768,
          4.908650875091553,
          11.764606475830078,
          5.409420967102051,
          -8.820245742797852,
          -11.348655700683594,
          -28.10256576538086,
          -31.874095916748047,
          -34.97239303588867,
          11.06921672821045,
          -7.526144981384277,
          -33.2180290222168,
          4.885564804077148,
          -38.82766342163086,
          -22.775426864624023,
          -17.931692123413086,
          -28.67262840270996,
          -34.45283889770508,
          -2.052764892578125,
          -35.83844757080078,
          -3.952805995941162,
          -7.890966892242432,
          14.573639869689941,
          2.8124356269836426,
          -9.825197219848633,
          0.8362953066825867,
          -0.914109468460083,
          -8.930575370788574,
          16.3173885345459,
          5.702300071716309,
          3.2705440521240234,
          14.094697952270508,
          8.42455768585205,
          -28.703420639038086,
          10.166476249694824,
          0.7140339612960815,
          12.325592994689941,
          -28.475021362304688
         ],
         "y": [
          34.26442337036133,
          -20.631732940673828,
          35.47731018066406,
          -16.094144821166992,
          -9.245955467224121,
          -18.162517547607422,
          -14.584115028381348,
          20.20623779296875,
          -2.8811681270599365,
          15.896790504455566,
          -7.096479892730713,
          -16.891786575317383,
          -14.54127311706543,
          17.37596893310547,
          17.284744262695312,
          13.840615272521973,
          15.029263496398926,
          17.092132568359375,
          -5.687076568603516,
          2.1739468574523926,
          -0.551513671875,
          38.175941467285156,
          6.360480785369873,
          -36.97457504272461,
          -13.607808113098145,
          8.620570182800293,
          4.4771904945373535,
          3.7063510417938232,
          24.578622817993164,
          3.1406054496765137,
          22.938919067382812,
          17.408647537231445,
          16.21312141418457,
          -35.30201721191406,
          -30.4779109954834,
          -35.80766677856445,
          -35.00041580200195,
          -30.272090911865234,
          -32.28676223754883,
          11.535957336425781,
          10.110357284545898,
          14.479639053344727,
          14.82734489440918,
          9.741352081298828,
          7.544527530670166,
          5.618374824523926,
          -22.808835983276367,
          3.6774332523345947,
          -4.572756767272949,
          -22.138954162597656,
          16.155017852783203,
          -4.7832441329956055,
          18.33523941040039,
          16.07297706604004,
          20.398902893066406,
          19.738689422607422,
          15.669197082519531,
          8.334089279174805,
          22.619197845458984,
          21.976003646850586,
          15.683420181274414,
          -18.249351501464844,
          -18.1368408203125,
          -13.762939453125,
          4.476020336151123,
          -20.548688888549805,
          -10.952803611755371,
          -18.52637481689453,
          -34.594940185546875,
          -14.414165496826172,
          -5.5070929527282715,
          -5.826662063598633,
          3.316680431365967,
          -7.082615852355957,
          -14.90774154663086,
          -3.4781973361968994,
          -9.59803581237793,
          -9.3676176071167,
          9.021439552307129,
          8.367106437683105,
          -7.884964466094971,
          -8.887882232666016,
          -5.960643768310547,
          -11.94335651397705,
          -7.908193111419678,
          -7.887303829193115,
          0.7186453938484192,
          0.8827316761016846,
          16.927385330200195,
          18.608049392700195,
          -24.88741683959961,
          -11.223109245300293,
          -26.34357261657715,
          11.399599075317383,
          12.43938159942627,
          8.708484649658203,
          6.138736248016357,
          6.839343547821045,
          -36.03511428833008,
          15.0011568069458,
          -12.89409065246582,
          36.39459991455078,
          3.8254876136779785,
          -2.2112557888031006,
          9.427933692932129,
          -4.472715377807617,
          2.6165995597839355,
          -6.9979705810546875,
          4.455877780914307,
          12.782732963562012,
          -24.531787872314453,
          17.16943359375,
          25.76131820678711,
          -20.319427490234375,
          26.055490493774414,
          27.861783981323242,
          -22.283802032470703,
          23.399864196777344,
          -21.993423461914062,
          -0.9463227987289429,
          -9.595155715942383,
          -19.821874618530273,
          23.397666931152344,
          -20.516233444213867,
          -10.829903602600098,
          -21.535289764404297,
          22.0352783203125
         ]
        },
        {
         "mode": "markers",
         "name": "test",
         "opacity": 0.7,
         "showlegend": true,
         "text": [
          "['invoker', 'hello', 'menu', 'service', 'load', 'balance', 'user', 'map', 'weight', 'mock']",
          "['invoker', 'invocation', 'url', 'cluster', 'mock', 'result', 'directory', 'rpc', 'balance', 'invoke']",
          "['attachment', 'value', 'key', 'invoker', 'sticky', 'invoke', 'integer', 'service', 'retry', 'field']",
          "['url', 'model', 'merge', 'merger', 'module', 'router', 'provider', 'factory', 'init', 'script']",
          "['match', 'configurator', 'mock', 'bool', 'join', 'absent', 'message', 'runtime', 'uid', 'request']",
          "['rule', 'service', 'app', 'demo', 'map', 'suffix', 'clear', 'change', 'api', 'url']",
          "['address', 'country', 'phone', 'full', 'size', 'number', 'city', 'title', 'province', 'extension']",
          "['url', 'activate', 'echo', 'thread', 'add', 'event', 'pool', 'wrapper', 'adaptive', 'exhaust']",
          "['demo', 'service', 'mock', 'key', 'value', 'generic', 'hello', 'impl', 'group', 'cache']",
          "['model', 'scope', 'framework', 'module', 'application', 'destroy', 'property', 'method', 'bean', 'foo']",
          "['converter', 'person', 'init', 'task', 'status', 'multi', 'error', 'info', 'latch', 'value']",
          "['url', 'ext', 'atomic', 'integer', 'echo', 'wrap', 'status', 'executor', 'count', 'adaptive']",
          "['inner', 'age', 'map', 'child', 'util', 'parent', 'url', 'hash', 'email', 'result']",
          "['simple', 'value', 'ext', 'age', 'url', 'one', 'serializable', 'obj', 'person', 'hash']",
          "['provider', 'foo', 'service', 'framework', 'app', 'module', 'player', 'bitrate', 'url', 'copyright']",
          "['consumer', 'service', 'argument', 'application', 'provider', 'registry', 'protocol', 'extension', 'invoker', 'rpc']",
          "['url', 'invoker', 'invocation', 'router', 'cache', 'rpc', 'legacy', 'route', 'invokers', 'factory']",
          "['key', 'attachment', 'invoker', 'value', 'service', 'map', 'invocation', 'invoke', 'model', 'put']",
          "['inner', 'input', 'map', 'array', 'registry', 'application', 'output', 'stream', 'serialization', 'protocol']",
          "['read', 'write', 'input', 'output', 'extension', 'stream', 'argument', 'custom', 'find', 'byte']",
          "['person', 'complex', 'age', 'service', 'demo', 'method', 'impl', 'size', 'enumlength', 'uid']",
          "['context', 'argument', 'rpc', 'registry', 'provider', 'extension', 'application', 'service', 'module', 'protocol']",
          "['service', 'echo', 'demo', 'read', 'input', 'find', 'extension', 'cls', 'reader', 'stream']",
          "['invoker', 'key', 'attachment', 'service', 'map', 'invoke', 'value', 'attribute', 'parameter', 'cache']",
          "['box', 'service', 'demo', 'user', 'say', 'impl', 'prefix', 'status', 'checker', 'context']",
          "['invoker', 'mock', 'url', 'rpc', 'protocol', 'executor', 'proxy', 'port', 'dao', 'balance']",
          "['invocation', 'model', 'invoker', 'error', 'thread', 'response', 'application', 'bootstrap', 'module', 'filter']",
          "['url', 'listener', 'map', 'method', 'service', 'notify', 'registry', 'concurrent', 'key', 'register']",
          "['registry', 'service', 'center', 'export', 'listener', 'single', 'provider', 'exporter', 'multiple', 'protocol']",
          "['service', 'hello', 'demo', 'bean', 'application', 'context', 'reference', 'builder', 'impl', 'generic']",
          "['factory', 'loader', 'reference', 'service', 'bean', 'request', 'processor', 'property', 'find', 'multi']",
          "['consumer', 'bootstrap', 'service', 'module', 'spring', 'channel', 'manager', 'model', 'boot', 'zookeeper']",
          "['namespace', 'map', 'context', 'mock', 'property', 'service', 'extension', 'callback', 'key', 'apollo']",
          "['key', 'value', 'latch', 'count', 'map', 'listener', 'nacos', 'dynamic', 'session', 'event']",
          "['zookeeper', 'listener', 'map', 'url', 'count', 'dynamic', 'latch', 'mock', 'server', 'value']",
          "['map', 'namespace', 'property', 'service', 'extension', 'mock', 'context', 'locator', 'key', 'error']",
          "['server', 'status', 'timeout', 'retry', 'group', 'nacos', 'namespace', 'map', 'mock', 'property']",
          "['apollo', 'key', 'put', 'value', 'embed', 'dynamic', 'url', 'mock', 'namespace', 'event']",
          "['group', 'nacos', 'listener', 'publish', 'cas', 'content', 'remove', 'timeout', 'service', 'shut']",
          "['spring', 'container']",
          "['spring', 'container']",
          "['container', 'spring']",
          "['spring', 'container']",
          "['container', 'spring']",
          "['spring', 'container']",
          "['cache', 'factory', 'invoker', 'mock', 'filter', 'invocation', 'method', 'construct', 'rpc', 'non']",
          "['cache', 'expire', 'factory', 'url', 'construct', 'validator', 'validation', 'parameter', 'target', 'mock']",
          "['validation', 'mock', 'filter', 'validator', 'rpc', 'invocation', 'invoker', 'cache', 'factory', 'parameter']",
          "['parameter', 'validation', 'validator', 'target', 'mock', 'filter', 'rpc', 'invoker', 'invocation', 'cache']",
          "['service', 'kubernetes', 'server', 'mock', 'discovery', 'change', 'listener', 'instance', 'client', 'url']",
          "['service', 'kubernetes', 'mock', 'discovery', 'server', 'url', 'selector', 'pod', 'change', 'namespaced']",
          "['service', 'server', 'kubernetes', 'mock', 'discovery', 'map', 'selector', 'pod', 'change', 'namespaced']",
          "['service', 'mock', 'discovery', 'server', 'kubernetes', 'map', 'pod', 'namespaced', 'change', 'destroy']",
          "['service', 'server', 'kubernetes', 'discovery', 'mock', 'url', 'client', 'namespaced', 'instance', 'listener']",
          "['service', 'server', 'mock', 'kubernetes', 'listener', 'map', 'pod', 'namespaced', 'change', 'destroy']",
          "['service', 'discovery', 'server', 'kubernetes', 'listener', 'pod', 'map', 'selector', 'change', 'namespaced']",
          "['redis', 'metadata', 'report', 'store', 'info', 'find', 'interceptor', 'group', 'identifi', 'consumer']",
          "['service', 'url', 'listener', 'mapping', 'mock', 'nacos', 'group', 'application', 'map', 'model']",
          "['integer', 'big', 'compiler', 'str', 'java', 'directory', 'source', 'decimal', 'processor', 'time']",
          "['element', 'field', 'variable', 'class', 'compile', 'builder', 'annotation', 'add', 'model', 'definition']",
          "['param', 'user', 'model', 'service', 'rest', 'request', 'map', 'body', 'header', 'form']",
          "['method', 'annotation', 'invocation', 'processor', 'processing', 'context', 'source', 'round', 'environment', 'process']",
          "['metadata', 'identifier', 'report', 'service', 'url', 'subscriber', 'consumer', 'store', 'listener', 'map']",
          "['class', 'builder', 'compile', 'definition', 'type', 'add', 'annotation', 'processing', 'server', 'status']",
          "['builder', 'google', 'phone', 'number', 'map', 'field', 'request', 'parse', 'byte', 'response']",
          "['observation', 'filter', 'tracer', 'url', 'invocation', 'runner', 'consumer', 'sample', 'destroy', 'receiver']",
          "['window', 'time', 'quantile', 'counter', 'metric', 'category', 'unit', 'description', 'map', 'sample']",
          "['key', 'attachment', 'value', 'service', 'model', 'map', 'absent', 'invocation', 'invoker', 'mock']",
          "['metric', 'model', 'application', 'event', 'invocation', 'method', 'collector', 'setup', 'group', 'rpc']",
          "['metric', 'category', 'tag', 'setup', 'map', 'supplier', 'unit', 'description', 'sample', 'gauge']",
          "['request', 'init', 'param', 'teardown', 'event', 'metric', 'time', 'invocation', 'model', 'setup']",
          "['reporter', 'prometheus', 'metric', 'factory', 'attachment', 'key', 'service', 'value', 'model', 'framework']",
          "['factory', 'monitor', 'proxy', 'statistic', 'service', 'url', 'demo', 'invoker', 'response', 'invoke']",
          "['response', 'app', 'builder', 'attachment', 'result', 'map', 'throwable', 'create', 'build', 'invoker']",
          "['url', 'monitor', 'service', 'invoker', 'factory', 'invocation', 'statistics', 'available', 'destroy', 'collect']",
          "['invoker', 'service', 'demo', 'url', 'metric', 'invoke', 'function', 'consumer', 'port', 'response']",
          "['framework', 'model', 'register', 'provider', 'repository', 'module', 'state', 'url', 'user', 'custom']",
          "['command', 'context', 'mock', 'attribute', 'map', 'channel', 'telnet', 'invoker', 'method', 'service']",
          "['url', 'model', 'framework', 'util', 'reset', 'exporter', 'export', 'refer', 'instance', 'metadata']",
          "['channel', 'promise', 'future', 'address', 'listener', 'socket', 'remote', 'throwable', 'cause', 'timeout']",
          "['handler', 'telnet', 'mock', 'invoker', 'protocol', 'url', 'channel', 'wrapper', 'tri', 'change']",
          "['channel', 'url', 'remote', 'handler', 'attribute', 'mock', 'send', 'address', 'key', 'close']",
          "['person', 'map', 'serialize', 'non', 'service', 'value', 'demo', 'liveness', 'probe', 'integer']",
          "['age', 'qos', 'process', 'handler', 'uid', 'serializable', 'man', 'wire', 'protocol', 'util']",
          "['service', 'demo', 'repository', 'framework', 'model', 'module', 'invoke', 'parameter', 'generic', 'impl']",
          "['registry', 'protocol', 'url', 'integer', 'refer', 'atomic', 'invoker', 'listener', 'counter', 'exporter']",
          "['url', 'registry', 'factory', 'zookeeper', 'listener', 'service', 'notify', 'subscribe', 'mock', 'register']",
          "['notification', 'multiple', 'instance', 'metadata', 'service', 'revision', 'subscribe', 'listener', 'failure', 'invocation']",
          "['migration', 'rule', 'event', 'curator', 'framework', 'handler', 'invoker', 'url', 'path', 'key']",
          "['nacos', 'instance', 'service', 'group', 'subscribe', 'healthy', 'listener', 'select', 'server', 'msg']",
          "['service', 'discovery', 'instance', 'url', 'mock', 'listener', 'registry', 'event', 'change', 'mapping']",
          "['metadata', 'report', 'builder', 'service', 'url', 'mapping', 'invocation', 'application', 'map', 'model']",
          "['instance', 'service', 'param', 'metadata', 'nacos', 'exclude', 'create', 'naming', 'group', 'include']",
          "['url', 'timer', 'mock', 'task', 'channel', 'close', 'header', 'serialization', 'magic', 'reconnect']",
          "['channel', 'decode', 'output', 'input', 'encode', 'buffer', 'request', 'stream', 'codec', 'message']",
          "['channel', 'exchange', 'remote', 'server', 'handler', 'message', 'world', 'client', 'reply', 'port']",
          "['path', 'service', 'update', 'create', 'tolerant', 'zookeeper', 'fault', 'client', 'provider', 'persistent']",
          "['channel', 'client', 'remote', 'zookeeper', 'server', 'url', 'handler', 'connection', 'transporter', 'latch']",
          "['performance', 'aware', 'error', 'telnet', 'client', 'handler', 'result', 'mock', 'serializable', 'fix']",
          "['channel', 'buffer', 'handler', 'url', 'remote', 'send', 'close', 'address', 'attribute', 'key']",
          "['http', 'response', 'request', 'servlet', 'hello', 'serializable', 'uid', 'parameter', 'desc', 'type']",
          "['extension', 'loader', 'proxy', 'protocol', 'age', 'find', 'factory', 'adaptive', 'path', 'block']",
          "['service', 'demo', 'callback', 'hello', 'url', 'msg', 'yyy', 'impl', 'stub', 'say']",
          "['invocation', 'filter', 'rpc', 'url', 'invoker', 'attachment', 'context', 'tps', 'limiter', 'latch']",
          "['channel', 'remote', 'address', 'url', 'attribute', 'close', 'response', 'health', 'key', 'mock']",
          "['service', 'invoker', 'demo', 'reference', 'url', 'method', 'request', 'loader', 'result', 'argument']",
          "['channel', 'handler', 'integer', 'atomic', 'filter', 'telnet', 'msg', 'future', 'limit', 'completable']",
          "['service', 'demo', 'person', 'key', 'str', 'attachment', 'value', 'echo', 'map', 'size']",
          "['throwable', 'stream', 'observer', 'mock', 'latch', 'count', 'complete', 'next', 'error', 'message']",
          "['binder', 'environment', 'destroy', 'configurable', 'init', 'bean', 'relaxed', 'application', 'suite', 'endpoint']",
          "['application', 'map', 'module', 'registry', 'monitor', 'protocol', 'consumer', 'hash', 'link', 'provider']",
          "['annotation', 'service', 'context', 'processor', 'application', 'auto', 'bean', 'compatible', 'provider', 'without']",
          "['endpoint', 'metadata', 'service', 'rest', 'template', 'configs', 'shutdown', 'reference', 'property', 'demo']",
          "['application', 'environment', 'spring', 'processor', 'property', 'init', 'destroy', 'binder', 'instance', 'relaxed']",
          "['binder', 'environment', 'configurable', 'bean', 'suite', 'relaxed', 'destroy', 'init', 'metadata', 'template']",
          "['matcher', 'map', 'rule', 'route', 'observe', 'bootstrapper', 'path', 'change', 'resource', 'create']",
          "['bootstrapper', 'reader', 'create', 'raw', 'read', 'path', 'matcher', 'map', 'observe', 'rule']",
          "['map', 'listener', 'lds', 'request', 'discovery', 'consumer', 'resource', 'observe', 'build', 'name']",
          "['route', 'rd', 'rds', 'map', 'observe', 'resource', 'protocol', 'result', 'consumer', 'ad']",
          "['endpoint', 'change', 'point', 'end', 'cluster', 'eds', 'subscribe', 'rd', 'notify', 'unsubscribe']",
          "['matcher', 'route', 'map', 'rule', 'endpoint', 'change', 'regex', 'bootstrapper', 'path', 'rds']",
          "['endpoint', 'cluster', 'end', 'change', 'point', 'eds', 'manager', 'rule', 'unsubscribe', 'notify']",
          "['rule', 'route', 'app', 'xds', 'manager', 'change', 'listener', 'rds', 'parse', 'invoker']",
          "['map', 'resource', 'observe', 'matcher', 'result', 'consumer', 'protocol', 'node', 'ad', 'mock']"
         ],
         "type": "scatter",
         "x": [
          -6.048584461212158,
          -17.091888427734375,
          -9.517409324645996,
          -7.007829666137695,
          -29.605159759521484,
          -5.050997257232666,
          -6.161028861999512,
          -40.19350051879883,
          30.191301345825195,
          40.55884552001953,
          8.465773582458496,
          -38.75110626220703,
          9.060754776000977,
          6.283840179443359,
          3.5000157356262207,
          -19.566715240478516,
          -12.58705997467041,
          -14.730849266052246,
          -24.480186462402344,
          -46.862308502197266,
          1.3549586534500122,
          -17.55755615234375,
          -46.83055114746094,
          -12.570417404174805,
          7.977161407470703,
          -19.36533546447754,
          -14.513692855834961,
          -17.00543975830078,
          -16.44982147216797,
          8.659455299377441,
          12.69150447845459,
          1.2169692516326904,
          35.1214714050293,
          33.296443939208984,
          -8.755583763122559,
          33.41549301147461,
          37.92393493652344,
          38.59161376953125,
          45.05470275878906,
          70.28337097167969,
          70.28337097167969,
          75.19820404052734,
          70.28337097167969,
          75.19820404052734,
          70.28337097167969,
          -21.891796112060547,
          -28.410839080810547,
          -25.255897521972656,
          -26.281330108642578,
          25.004850387573242,
          32.055057525634766,
          34.36054611206055,
          31.674697875976562,
          25.734289169311523,
          32.911163330078125,
          37.906639099121094,
          12.437248229980469,
          38.284873962402344,
          -38.35041809082031,
          29.325225830078125,
          1.3552340269088745,
          25.098995208740234,
          9.548619270324707,
          27.929414749145508,
          -10.670318603515625,
          -0.7212594747543335,
          -32.31028366088867,
          -15.202256202697754,
          15.07858657836914,
          -30.227542877197266,
          15.353668212890625,
          -20.11534881591797,
          -4.688875675201416,
          -12.265392303466797,
          -3.343125104904175,
          -1.5435229539871216,
          -1.1110200881958008,
          -39.48263168334961,
          3.1244850158691406,
          -52.19401931762695,
          -41.49467086791992,
          -55.89519119262695,
          2.1791210174560547,
          -1.02602219581604,
          5.378073215484619,
          -18.16337013244629,
          -11.133868217468262,
          15.715758323669434,
          -9.624122619628906,
          44.01414489746094,
          19.967178344726562,
          7.496175289154053,
          40.7928352355957,
          -53.430885314941406,
          -48.76726150512695,
          -3.5342257022857666,
          2.1935458183288574,
          -1.814329981803894,
          -43.10566711425781,
          -57.32111740112305,
          3.5734519958496094,
          -27.181385040283203,
          7.935628414154053,
          -14.582353591918945,
          -58.62050247192383,
          0.14833712577819824,
          -42.55877685546875,
          -0.5007971525192261,
          -8.179764747619629,
          41.69027328491211,
          -22.183259963989258,
          22.625457763671875,
          45.173561096191406,
          38.56615447998047,
          42.8294677734375,
          -11.47783374786377,
          -13.649754524230957,
          6.406948566436768,
          -0.40120330452919006,
          12.771082878112793,
          -10.537851333618164,
          11.879305839538574,
          -7.438017845153809,
          1.4841479063034058
         ],
         "y": [
          25.02422523498535,
          17.739295959472656,
          40.67554473876953,
          -3.002965211868286,
          9.818121910095215,
          -61.10535430908203,
          63.544105529785156,
          -34.89453125,
          -5.2624993324279785,
          34.608726501464844,
          49.85988998413086,
          -32.81654357910156,
          64.53268432617188,
          64.47972869873047,
          19.398128509521484,
          -13.918049812316895,
          0.6561029553413391,
          40.564517974853516,
          -29.11264419555664,
          -23.326379776000977,
          66.44863891601562,
          -12.446054458618164,
          -26.14264678955078,
          38.13331604003906,
          40.766883850097656,
          16.58089256286621,
          7.782242774963379,
          -27.127197265625,
          -19.895456314086914,
          29.0928897857666,
          26.54519271850586,
          -31.177356719970703,
          -7.359641075134277,
          -25.59636688232422,
          -32.54094314575195,
          -9.30689525604248,
          -20.92948341369629,
          -5.946897029876709,
          -25.827011108398438,
          51.718589782714844,
          51.718589782714844,
          55.925071716308594,
          51.718589782714844,
          55.925071716308594,
          51.718589782714844,
          3.826144218444824,
          0.8522246479988098,
          3.7956697940826416,
          6.469581604003906,
          -45.94786834716797,
          -47.732086181640625,
          -49.71968460083008,
          -52.2962532043457,
          -48.650291442871094,
          -55.23017883300781,
          -50.602073669433594,
          -13.743176460266113,
          -23.59784507751465,
          -21.342100143432617,
          17.992443084716797,
          55.613643646240234,
          26.844053268432617,
          -11.498208045959473,
          20.219165802001953,
          51.974178314208984,
          6.85392427444458,
          57.5900764465332,
          43.25718688964844,
          6.746035099029541,
          58.938541412353516,
          9.242141723632812,
          38.513633728027344,
          11.969733238220215,
          47.74821472167969,
          9.711013793945312,
          21.620393753051758,
          -5.083170413970947,
          21.20212745666504,
          -6.794054985046387,
          6.605057239532471,
          19.47812271118164,
          10.994840621948242,
          59.93976974487305,
          70.5669937133789,
          27.654111862182617,
          -23.467540740966797,
          -30.577430725097656,
          -48.48477554321289,
          -53.1154670715332,
          -23.206195831298828,
          -46.317195892333984,
          -9.533299446105957,
          -28.50572395324707,
          14.585602760314941,
          -20.240474700927734,
          -24.226558685302734,
          -26.79338836669922,
          -26.95620346069336,
          16.183012008666992,
          7.837251663208008,
          71.46076965332031,
          -22.406198501586914,
          36.548187255859375,
          3.4013781547546387,
          12.026302337646484,
          23.79729461669922,
          11.869538307189941,
          60.98396682739258,
          -36.79646301269531,
          30.022005081176758,
          -25.85658073425293,
          28.076444625854492,
          22.99521827697754,
          30.260103225708008,
          27.422163009643555,
          -63.39278793334961,
          -65.2660903930664,
          -45.92510223388672,
          -49.766624450683594,
          -59.11033248901367,
          -60.42151641845703,
          -61.42424392700195,
          -56.31031799316406,
          -47.7819709777832
         ]
        },
        {
         "mode": "markers",
         "name": "doc",
         "opacity": 0.7,
         "showlegend": true,
         "text": [
          "['service', 'see', 'issue', 'sample', 'project', 'github', 'contribute', 'list', 'build', 'guide']",
          "['contribute', 'issue', 'sample', 'project', 'service', 'see', 'admin', 'build', 'list', 'report']",
          "['issue', 'service', 'project', 'list', 'see', 'github', 'report', 'sample', 'contribute', 'follow']",
          "['service', 'see', 'project', 'build', 'github', 'sample', 'issue', 'admin', 'follow', 'list']",
          "['see', 'issue', 'sample', 'service', 'contribute', 'guide', 'github', 'project', 'list', 'report']",
          "['service', 'sample', 'see', 'issue', 'please', 'project', 'github', 'contribute', 'report', 'list']",
          "['service', 'issue', 'contribute', 'see', 'github', 'project', 'report', 'sample', 'build', 'guide']",
          "['service', 'see', 'issue', 'contribute', 'sample', 'github', 'project', 'guide', 'admin', 'build']"
         ],
         "type": "scatter",
         "x": [
          -37.949729919433594,
          43.936832427978516,
          -0.30445370078086853,
          -60.2822151184082,
          4.9282002449035645,
          18.86927604675293,
          -9.498916625976562,
          -32.679481506347656
         ],
         "y": [
          -23.147470474243164,
          18.30237579345703,
          34.40692901611328,
          11.225852012634277,
          6.001742839813232,
          -12.859613418579102,
          -32.2579460144043,
          -0.7567704319953918
         ]
        }
       ],
       "layout": {
        "height": 650,
        "template": {
         "data": {
          "bar": [
           {
            "error_x": {
             "color": "#2a3f5f"
            },
            "error_y": {
             "color": "#2a3f5f"
            },
            "marker": {
             "line": {
              "color": "#E5ECF6",
              "width": 0.5
             },
             "pattern": {
              "fillmode": "overlay",
              "size": 10,
              "solidity": 0.2
             }
            },
            "type": "bar"
           }
          ],
          "barpolar": [
           {
            "marker": {
             "line": {
              "color": "#E5ECF6",
              "width": 0.5
             },
             "pattern": {
              "fillmode": "overlay",
              "size": 10,
              "solidity": 0.2
             }
            },
            "type": "barpolar"
           }
          ],
          "carpet": [
           {
            "aaxis": {
             "endlinecolor": "#2a3f5f",
             "gridcolor": "white",
             "linecolor": "white",
             "minorgridcolor": "white",
             "startlinecolor": "#2a3f5f"
            },
            "baxis": {
             "endlinecolor": "#2a3f5f",
             "gridcolor": "white",
             "linecolor": "white",
             "minorgridcolor": "white",
             "startlinecolor": "#2a3f5f"
            },
            "type": "carpet"
           }
          ],
          "choropleth": [
           {
            "colorbar": {
             "outlinewidth": 0,
             "ticks": ""
            },
            "type": "choropleth"
           }
          ],
          "contour": [
           {
            "colorbar": {
             "outlinewidth": 0,
             "ticks": ""
            },
            "colorscale": [
             [
              0,
              "#0d0887"
             ],
             [
              0.1111111111111111,
              "#46039f"
             ],
             [
              0.2222222222222222,
              "#7201a8"
             ],
             [
              0.3333333333333333,
              "#9c179e"
             ],
             [
              0.4444444444444444,
              "#bd3786"
             ],
             [
              0.5555555555555556,
              "#d8576b"
             ],
             [
              0.6666666666666666,
              "#ed7953"
             ],
             [
              0.7777777777777778,
              "#fb9f3a"
             ],
             [
              0.8888888888888888,
              "#fdca26"
             ],
             [
              1,
              "#f0f921"
             ]
            ],
            "type": "contour"
           }
          ],
          "contourcarpet": [
           {
            "colorbar": {
             "outlinewidth": 0,
             "ticks": ""
            },
            "type": "contourcarpet"
           }
          ],
          "heatmap": [
           {
            "colorbar": {
             "outlinewidth": 0,
             "ticks": ""
            },
            "colorscale": [
             [
              0,
              "#0d0887"
             ],
             [
              0.1111111111111111,
              "#46039f"
             ],
             [
              0.2222222222222222,
              "#7201a8"
             ],
             [
              0.3333333333333333,
              "#9c179e"
             ],
             [
              0.4444444444444444,
              "#bd3786"
             ],
             [
              0.5555555555555556,
              "#d8576b"
             ],
             [
              0.6666666666666666,
              "#ed7953"
             ],
             [
              0.7777777777777778,
              "#fb9f3a"
             ],
             [
              0.8888888888888888,
              "#fdca26"
             ],
             [
              1,
              "#f0f921"
             ]
            ],
            "type": "heatmap"
           }
          ],
          "heatmapgl": [
           {
            "colorbar": {
             "outlinewidth": 0,
             "ticks": ""
            },
            "colorscale": [
             [
              0,
              "#0d0887"
             ],
             [
              0.1111111111111111,
              "#46039f"
             ],
             [
              0.2222222222222222,
              "#7201a8"
             ],
             [
              0.3333333333333333,
              "#9c179e"
             ],
             [
              0.4444444444444444,
              "#bd3786"
             ],
             [
              0.5555555555555556,
              "#d8576b"
             ],
             [
              0.6666666666666666,
              "#ed7953"
             ],
             [
              0.7777777777777778,
              "#fb9f3a"
             ],
             [
              0.8888888888888888,
              "#fdca26"
             ],
             [
              1,
              "#f0f921"
             ]
            ],
            "type": "heatmapgl"
           }
          ],
          "histogram": [
           {
            "marker": {
             "pattern": {
              "fillmode": "overlay",
              "size": 10,
              "solidity": 0.2
             }
            },
            "type": "histogram"
           }
          ],
          "histogram2d": [
           {
            "colorbar": {
             "outlinewidth": 0,
             "ticks": ""
            },
            "colorscale": [
             [
              0,
              "#0d0887"
             ],
             [
              0.1111111111111111,
              "#46039f"
             ],
             [
              0.2222222222222222,
              "#7201a8"
             ],
             [
              0.3333333333333333,
              "#9c179e"
             ],
             [
              0.4444444444444444,
              "#bd3786"
             ],
             [
              0.5555555555555556,
              "#d8576b"
             ],
             [
              0.6666666666666666,
              "#ed7953"
             ],
             [
              0.7777777777777778,
              "#fb9f3a"
             ],
             [
              0.8888888888888888,
              "#fdca26"
             ],
             [
              1,
              "#f0f921"
             ]
            ],
            "type": "histogram2d"
           }
          ],
          "histogram2dcontour": [
           {
            "colorbar": {
             "outlinewidth": 0,
             "ticks": ""
            },
            "colorscale": [
             [
              0,
              "#0d0887"
             ],
             [
              0.1111111111111111,
              "#46039f"
             ],
             [
              0.2222222222222222,
              "#7201a8"
             ],
             [
              0.3333333333333333,
              "#9c179e"
             ],
             [
              0.4444444444444444,
              "#bd3786"
             ],
             [
              0.5555555555555556,
              "#d8576b"
             ],
             [
              0.6666666666666666,
              "#ed7953"
             ],
             [
              0.7777777777777778,
              "#fb9f3a"
             ],
             [
              0.8888888888888888,
              "#fdca26"
             ],
             [
              1,
              "#f0f921"
             ]
            ],
            "type": "histogram2dcontour"
           }
          ],
          "mesh3d": [
           {
            "colorbar": {
             "outlinewidth": 0,
             "ticks": ""
            },
            "type": "mesh3d"
           }
          ],
          "parcoords": [
           {
            "line": {
             "colorbar": {
              "outlinewidth": 0,
              "ticks": ""
             }
            },
            "type": "parcoords"
           }
          ],
          "pie": [
           {
            "automargin": true,
            "type": "pie"
           }
          ],
          "scatter": [
           {
            "fillpattern": {
             "fillmode": "overlay",
             "size": 10,
             "solidity": 0.2
            },
            "type": "scatter"
           }
          ],
          "scatter3d": [
           {
            "line": {
             "colorbar": {
              "outlinewidth": 0,
              "ticks": ""
             }
            },
            "marker": {
             "colorbar": {
              "outlinewidth": 0,
              "ticks": ""
             }
            },
            "type": "scatter3d"
           }
          ],
          "scattercarpet": [
           {
            "marker": {
             "colorbar": {
              "outlinewidth": 0,
              "ticks": ""
             }
            },
            "type": "scattercarpet"
           }
          ],
          "scattergeo": [
           {
            "marker": {
             "colorbar": {
              "outlinewidth": 0,
              "ticks": ""
             }
            },
            "type": "scattergeo"
           }
          ],
          "scattergl": [
           {
            "marker": {
             "colorbar": {
              "outlinewidth": 0,
              "ticks": ""
             }
            },
            "type": "scattergl"
           }
          ],
          "scattermapbox": [
           {
            "marker": {
             "colorbar": {
              "outlinewidth": 0,
              "ticks": ""
             }
            },
            "type": "scattermapbox"
           }
          ],
          "scatterpolar": [
           {
            "marker": {
             "colorbar": {
              "outlinewidth": 0,
              "ticks": ""
             }
            },
            "type": "scatterpolar"
           }
          ],
          "scatterpolargl": [
           {
            "marker": {
             "colorbar": {
              "outlinewidth": 0,
              "ticks": ""
             }
            },
            "type": "scatterpolargl"
           }
          ],
          "scatterternary": [
           {
            "marker": {
             "colorbar": {
              "outlinewidth": 0,
              "ticks": ""
             }
            },
            "type": "scatterternary"
           }
          ],
          "surface": [
           {
            "colorbar": {
             "outlinewidth": 0,
             "ticks": ""
            },
            "colorscale": [
             [
              0,
              "#0d0887"
             ],
             [
              0.1111111111111111,
              "#46039f"
             ],
             [
              0.2222222222222222,
              "#7201a8"
             ],
             [
              0.3333333333333333,
              "#9c179e"
             ],
             [
              0.4444444444444444,
              "#bd3786"
             ],
             [
              0.5555555555555556,
              "#d8576b"
             ],
             [
              0.6666666666666666,
              "#ed7953"
             ],
             [
              0.7777777777777778,
              "#fb9f3a"
             ],
             [
              0.8888888888888888,
              "#fdca26"
             ],
             [
              1,
              "#f0f921"
             ]
            ],
            "type": "surface"
           }
          ],
          "table": [
           {
            "cells": {
             "fill": {
              "color": "#EBF0F8"
             },
             "line": {
              "color": "white"
             }
            },
            "header": {
             "fill": {
              "color": "#C8D4E3"
             },
             "line": {
              "color": "white"
             }
            },
            "type": "table"
           }
          ]
         },
         "layout": {
          "annotationdefaults": {
           "arrowcolor": "#2a3f5f",
           "arrowhead": 0,
           "arrowwidth": 1
          },
          "autotypenumbers": "strict",
          "coloraxis": {
           "colorbar": {
            "outlinewidth": 0,
            "ticks": ""
           }
          },
          "colorscale": {
           "diverging": [
            [
             0,
             "#8e0152"
            ],
            [
             0.1,
             "#c51b7d"
            ],
            [
             0.2,
             "#de77ae"
            ],
            [
             0.3,
             "#f1b6da"
            ],
            [
             0.4,
             "#fde0ef"
            ],
            [
             0.5,
             "#f7f7f7"
            ],
            [
             0.6,
             "#e6f5d0"
            ],
            [
             0.7,
             "#b8e186"
            ],
            [
             0.8,
             "#7fbc41"
            ],
            [
             0.9,
             "#4d9221"
            ],
            [
             1,
             "#276419"
            ]
           ],
           "sequential": [
            [
             0,
             "#0d0887"
            ],
            [
             0.1111111111111111,
             "#46039f"
            ],
            [
             0.2222222222222222,
             "#7201a8"
            ],
            [
             0.3333333333333333,
             "#9c179e"
            ],
            [
             0.4444444444444444,
             "#bd3786"
            ],
            [
             0.5555555555555556,
             "#d8576b"
            ],
            [
             0.6666666666666666,
             "#ed7953"
            ],
            [
             0.7777777777777778,
             "#fb9f3a"
            ],
            [
             0.8888888888888888,
             "#fdca26"
            ],
            [
             1,
             "#f0f921"
            ]
           ],
           "sequentialminus": [
            [
             0,
             "#0d0887"
            ],
            [
             0.1111111111111111,
             "#46039f"
            ],
            [
             0.2222222222222222,
             "#7201a8"
            ],
            [
             0.3333333333333333,
             "#9c179e"
            ],
            [
             0.4444444444444444,
             "#bd3786"
            ],
            [
             0.5555555555555556,
             "#d8576b"
            ],
            [
             0.6666666666666666,
             "#ed7953"
            ],
            [
             0.7777777777777778,
             "#fb9f3a"
            ],
            [
             0.8888888888888888,
             "#fdca26"
            ],
            [
             1,
             "#f0f921"
            ]
           ]
          },
          "colorway": [
           "#636efa",
           "#EF553B",
           "#00cc96",
           "#ab63fa",
           "#FFA15A",
           "#19d3f3",
           "#FF6692",
           "#B6E880",
           "#FF97FF",
           "#FECB52"
          ],
          "font": {
           "color": "#2a3f5f"
          },
          "geo": {
           "bgcolor": "white",
           "lakecolor": "white",
           "landcolor": "#E5ECF6",
           "showlakes": true,
           "showland": true,
           "subunitcolor": "white"
          },
          "hoverlabel": {
           "align": "left"
          },
          "hovermode": "closest",
          "mapbox": {
           "style": "light"
          },
          "paper_bgcolor": "white",
          "plot_bgcolor": "#E5ECF6",
          "polar": {
           "angularaxis": {
            "gridcolor": "white",
            "linecolor": "white",
            "ticks": ""
           },
           "bgcolor": "#E5ECF6",
           "radialaxis": {
            "gridcolor": "white",
            "linecolor": "white",
            "ticks": ""
           }
          },
          "scene": {
           "xaxis": {
            "backgroundcolor": "#E5ECF6",
            "gridcolor": "white",
            "gridwidth": 2,
            "linecolor": "white",
            "showbackground": true,
            "ticks": "",
            "zerolinecolor": "white"
           },
           "yaxis": {
            "backgroundcolor": "#E5ECF6",
            "gridcolor": "white",
            "gridwidth": 2,
            "linecolor": "white",
            "showbackground": true,
            "ticks": "",
            "zerolinecolor": "white"
           },
           "zaxis": {
            "backgroundcolor": "#E5ECF6",
            "gridcolor": "white",
            "gridwidth": 2,
            "linecolor": "white",
            "showbackground": true,
            "ticks": "",
            "zerolinecolor": "white"
           }
          },
          "shapedefaults": {
           "line": {
            "color": "#2a3f5f"
           }
          },
          "ternary": {
           "aaxis": {
            "gridcolor": "white",
            "linecolor": "white",
            "ticks": ""
           },
           "baxis": {
            "gridcolor": "white",
            "linecolor": "white",
            "ticks": ""
           },
           "bgcolor": "#E5ECF6",
           "caxis": {
            "gridcolor": "white",
            "linecolor": "white",
            "ticks": ""
           }
          },
          "title": {
           "x": 0.05
          },
          "xaxis": {
           "automargin": true,
           "gridcolor": "white",
           "linecolor": "white",
           "ticks": "",
           "title": {
            "standoff": 15
           },
           "zerolinecolor": "white",
           "zerolinewidth": 2
          },
          "yaxis": {
           "automargin": true,
           "gridcolor": "white",
           "linecolor": "white",
           "ticks": "",
           "title": {
            "standoff": 15
           },
           "zerolinecolor": "white",
           "zerolinewidth": 2
          }
         }
        },
        "width": 650
       }
      }
     },
     "metadata": {},
     "output_type": "display_data"
    }
   ],
   "source": [
    "import plotly.express as px\n",
    "import plotly.graph_objects as go\n",
    "from sklearn.manifold import TSNE\n",
    "import numpy as np\n",
    "\n",
    "tsne_model = TSNE(\n",
    "    n_components = 2,\n",
    "    perplexity = 5,\n",
    "    random_state = 42,\n",
    "    init = \"pca\",\n",
    "    learning_rate = \"auto\",\n",
    "    # metric = \"cosine\"\n",
    ")\n",
    "\n",
    "code_emb_arr = np.array(dubbo_code_df[\"angle_code_vec\"].to_list())\n",
    "test_emb_arr = np.array(dubbo_test_df[\"angle_test_vec\"].to_list())\n",
    "doc_emb_arr = np.array(dubbo_doc_df[\"angle_doc_vec\"].to_list())\n",
    "\n",
    "code_tsne_embeddings = tsne_model.fit_transform(code_emb_arr)\n",
    "test_tsne_embeddings = tsne_model.fit_transform(test_emb_arr)\n",
    "doc_tsne_embeddings = tsne_model.fit_transform(doc_emb_arr)\n",
    "\n",
    "angle_code_data = pd.DataFrame(\n",
    "    {'x': code_tsne_embeddings[:, 0],\n",
    "     'y': code_tsne_embeddings[:, 1]}\n",
    ")\n",
    "\n",
    "angle_test_data = pd.DataFrame(\n",
    "    {'x': test_tsne_embeddings[:, 0],\n",
    "     'y': test_tsne_embeddings[:, 1]}\n",
    ")\n",
    "\n",
    "angle_doc_data = pd.DataFrame(\n",
    "    {'x': doc_tsne_embeddings[:, 0],\n",
    "     'y': doc_tsne_embeddings[:, 1]}\n",
    ")\n",
    "\n",
    "dfs = {\n",
    "    \"code\": angle_code_data,\n",
    "    \"test\": angle_test_data,\n",
    "    \"doc\": angle_doc_data\n",
    "}\n",
    "\n",
    "id_list = [dubbo_code_df['concept'].tolist(),\n",
    "           dubbo_test_df['concept'].tolist(),\n",
    "           dubbo_doc_df['concept'].tolist()]\n",
    "\n",
    "fig = go.Figure()\n",
    "\n",
    "for i, df in enumerate(dfs):\n",
    "    fig = fig.add_trace(\n",
    "        go.Scatter(\n",
    "        x = dfs[df]['x'],\n",
    "        y = dfs[df]['y'],\n",
    "        name = df,\n",
    "        text = id_list[i],\n",
    "        showlegend = True,\n",
    "        mode = 'markers',\n",
    "        opacity = 0.7)\n",
    "    )\n",
    "\n",
    "fig.update_layout(\n",
    "    width = 650,\n",
    "    height = 650\n",
    ")\n",
    "\n",
    "fig.show()"
   ]
  }
 ],
 "metadata": {
  "kernelspec": {
   "display_name": "Python 3",
   "language": "python",
   "name": "python3"
  },
  "language_info": {
   "codemirror_mode": {
    "name": "ipython",
    "version": 3
   },
   "file_extension": ".py",
   "mimetype": "text/x-python",
   "name": "python",
   "nbconvert_exporter": "python",
   "pygments_lexer": "ipython3",
   "version": "3.11.7"
  }
 },
 "nbformat": 4,
 "nbformat_minor": 2
}
